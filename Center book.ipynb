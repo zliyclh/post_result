{
 "cells": [
  {
   "cell_type": "markdown",
   "metadata": {},
   "source": [
    "# 1 - Package import"
   ]
  },
  {
   "cell_type": "code",
   "execution_count": 1,
   "metadata": {},
   "outputs": [],
   "source": [
    "import pandas as pd\n",
    "import numpy as np\n",
    "from datetime import datetime\n",
    "import matplotlib.pyplot as plt\n",
    "from scipy import stats\n",
    "from textwrap import wrap\n",
    "import seaborn as sns\n",
    "from sklearn import linear_model\n",
    "from sklearn.model_selection import train_test_split\n",
    "from sklearn.metrics import r2_score\n",
    "import pyodbc \n",
    "import itertools\n",
    "\n",
    "%matplotlib inline"
   ]
  },
  {
   "cell_type": "markdown",
   "metadata": {},
   "source": [
    "# 2 - Data retrieval"
   ]
  },
  {
   "cell_type": "markdown",
   "metadata": {},
   "source": [
    "## 2.1-Basic set up"
   ]
  },
  {
   "cell_type": "code",
   "execution_count": 2,
   "metadata": {},
   "outputs": [],
   "source": [
    "'''\n",
    "country index mapping\n",
    "'''\n",
    "index_mapping={'AU':\"AS51 Index\",\n",
    "        \"AV\":\"SX5E Index\",\n",
    "        \"BB\":\"SX5E Index\",\n",
    "        \"CN\":\"SPX Index\",\n",
    "        \"CT\":\"SPX Index\",\n",
    "        \"DC\":\"SX5E Index\",\n",
    "        \"FH\":\"SX5E Index\",\n",
    "        \"FP\":\"SX5E Index\",\n",
    "        \"GY\":\"SX5E Index\",\n",
    "        \"GR\":\"SX5E Index\",       \n",
    "        \"HK\":\"HSI Index\",\n",
    "        \"ID\":\"SX5E Index\",\n",
    "        \"IM\":\"SX5E Index\",\n",
    "        \"JP\":\"TPX Index\",\n",
    "        \"JT\":\"TPX Index\",\n",
    "        \"KS\":\"KOSPI Index\",\n",
    "        \"LN\":\"SX5E Index\",\n",
    "        \"NA\":\"SX5E Index\",\n",
    "        \"NO\":\"SX5E Index\",\n",
    "        \"PL\":\"SX5E Index\",\n",
    "        \"SM\":\"SX5E Index\",\n",
    "        \"SQ\":\"SX5E Index\",\n",
    "        \"SS\":\"SX5E Index\",\n",
    "        \"SW\":\"SX5E Index\",\n",
    "        \"UN\":\"SPX Index\",\n",
    "        \"US\":\"SPX Index\",\n",
    "        \"VX\":\"SX5E Index\",\n",
    "        \"IR\":\"SX5E Index\",\n",
    "        \"LI\":\"SX5E Index\",\n",
    "        \"TT\":\"TAMSCI Index\"}"
   ]
  },
  {
   "cell_type": "code",
   "execution_count": 3,
   "metadata": {},
   "outputs": [],
   "source": [
    "def universe_evaluate(country,mapping_df):\n",
    "    if mapping_df[country]==\"SPX Index\":\n",
    "        return \"US\"\n",
    "    elif mapping_df[country]==\"SX5E Index\":\n",
    "        return \"Europe\"\n",
    "    else:\n",
    "        return \"Asia\""
   ]
  },
  {
   "cell_type": "code",
   "execution_count": 4,
   "metadata": {},
   "outputs": [],
   "source": [
    "def clean_sheet(dataframe):\n",
    "    adj=dataframe.dropna(axis=1,how='all')\n",
    "    adj=dataframe.set_index(adj.columns[0]) #use stock tickers as the index\n",
    "    return adj"
   ]
  },
  {
   "cell_type": "code",
   "execution_count": 5,
   "metadata": {},
   "outputs": [],
   "source": [
    "def unique_date(overlapping_df,column_name):\n",
    "    '''\n",
    "    transform the dataframe with overlapping date index to a dataframe with unique date\n",
    "    '''\n",
    "    my_df=pd.DataFrame()\n",
    "    for i in sorted(set(overlapping_df.index.tolist())):\n",
    "        data_row=overlapping_df[overlapping_df.index==i][[column_name,'Signal']].T\n",
    "        data_row.columns=data_row.iloc[-1]\n",
    "        data_row=data_row.iloc[:-1]\n",
    "        data_row.index=[i]\n",
    "        my_df=pd.concat([my_df,data_row],axis=0)      \n",
    "    \n",
    "    return my_df"
   ]
  },
  {
   "cell_type": "markdown",
   "metadata": {},
   "source": [
    "## 2.2 - FI val book information upload\n"
   ]
  },
  {
   "cell_type": "code",
   "execution_count": 6,
   "metadata": {},
   "outputs": [],
   "source": [
    "def original_book_transform(daily_df,capital,mapping_df,length_boundary):\n",
    "    '''\n",
    "    daily df - daily trading data\n",
    "    Transform into both size_df and pnl_df\n",
    "    '''\n",
    "    daily_df[\"Signal\"]=list(zip(daily_df[\"Ticker\"],daily_df[\"Start\"]))\n",
    "    size_df=unique_date(daily_df,'Exposure')/capital\n",
    "    pnl_df=unique_date(daily_df,'PNL')/capital\n",
    "\n",
    "    count_df=pnl_df.copy()\n",
    "    count_df[pd.notnull(count_df)]=1\n",
    "\n",
    "    adj_size_df=size_df.loc[:,count_df.sum(axis=0)>length_boundary]\n",
    "    adj_pnl_df=pnl_df.loc[:,count_df.sum(axis=0)>length_boundary]\n",
    "    \n",
    "    country=adj_size_df.apply(lambda x:mapping_df[x.name[0][-2:]] if x.name[0][-2:] in mapping_df.keys() else None,axis=0)\n",
    "    alpha_size_df=adj_size_df.loc[:,country.dropna().index]\n",
    "    alpha_pnl_df=adj_pnl_df.loc[:,country.dropna().index]\n",
    "    \n",
    "#     size_copy=adj_size_df.T.copy()\n",
    "#     size_copy[\"country\"]=country\n",
    "#     size_copy=size_copy[country.dropna()] #get rid of countries that are not in the mapping\n",
    "#     alpha_size_df=size_copy.T.iloc[:-1]\n",
    "\n",
    "#     pnl_copy=adj_pnl_df.T.copy()\n",
    "#     pnl_copy[\"country\"]=country\n",
    "#     pnl_copy=pnl_copy.loc[pd.notnull(pnl_copy[\"country\"])] #get rid of countries that are not in the mapping\n",
    "#     alpha_pnl_df=pnl_copy.T.iloc[:-1]    \n",
    "    return alpha_size_df,alpha_pnl_df\n",
    "    "
   ]
  },
  {
   "cell_type": "code",
   "execution_count": 7,
   "metadata": {},
   "outputs": [],
   "source": [
    "JD_FI_daily=clean_sheet(pd.read_excel(r'C:\\Users\\Eric.Li\\Documents\\Center Book\\JD daily data.xlsx',sheet_name='FI'))\n",
    "JD_ST_daily=clean_sheet(pd.read_excel(r'C:\\Users\\Eric.Li\\Documents\\Center Book\\JD daily data.xlsx',sheet_name='ST'))\n",
    "FI_VAL_daily=clean_sheet(pd.read_excel(r'C:\\Users\\Eric.Li\\Documents\\Center Book\\FI Val daily data.xlsx',sheet_name='Daily'))"
   ]
  },
  {
   "cell_type": "code",
   "execution_count": 75,
   "metadata": {},
   "outputs": [],
   "source": [
    "FI_VAL_daily=FI_VAL_daily[FI_VAL_daily.Ticker!='BBD/B CN']"
   ]
  },
  {
   "cell_type": "code",
   "execution_count": 8,
   "metadata": {},
   "outputs": [],
   "source": [
    "JD_FI_size,JD_FI_pnl=original_book_transform(JD_FI_daily,5*(10**8),index_mapping,5)"
   ]
  },
  {
   "cell_type": "code",
   "execution_count": 9,
   "metadata": {},
   "outputs": [],
   "source": [
    "JD_ST_size,JD_ST_pnl=original_book_transform(JD_ST_daily,5*(10**8),index_mapping,5)"
   ]
  },
  {
   "cell_type": "code",
   "execution_count": 78,
   "metadata": {},
   "outputs": [
    {
     "name": "stderr",
     "output_type": "stream",
     "text": [
      "C:\\Users\\Eric.Li\\AppData\\Local\\Continuum\\anaconda3\\lib\\site-packages\\ipykernel_launcher.py:6: SettingWithCopyWarning: \n",
      "A value is trying to be set on a copy of a slice from a DataFrame.\n",
      "Try using .loc[row_indexer,col_indexer] = value instead\n",
      "\n",
      "See the caveats in the documentation: http://pandas.pydata.org/pandas-docs/stable/indexing.html#indexing-view-versus-copy\n",
      "  \n"
     ]
    }
   ],
   "source": [
    "alpha_FI_size,alpha_FI_pnl=original_book_transform(FI_VAL_daily,1*(10**9),index_mapping,5)"
   ]
  },
  {
   "cell_type": "code",
   "execution_count": null,
   "metadata": {},
   "outputs": [],
   "source": []
  },
  {
   "cell_type": "code",
   "execution_count": 11,
   "metadata": {},
   "outputs": [],
   "source": [
    "'''Export the tickers'''\n",
    "pd.Series(list(set([x[0] for x in alpha_FI_size.columns]))).to_csv(\"centre book ticker.csv\")"
   ]
  },
  {
   "cell_type": "code",
   "execution_count": 301,
   "metadata": {},
   "outputs": [],
   "source": [
    "pd.Series(list(set([x[0] for x in JD_ST_size.columns]+[x[0] for x in JD_VAL_size.columns]))).to_csv(\"JD ticker.csv\")"
   ]
  },
  {
   "cell_type": "markdown",
   "metadata": {},
   "source": [
    "## 2.3 fundamental data"
   ]
  },
  {
   "cell_type": "code",
   "execution_count": 21,
   "metadata": {},
   "outputs": [],
   "source": [
    "'''\n",
    "Import the fundamental data\n",
    "'''\n",
    "US=clean_sheet(pd.read_excel(r'C:\\Users\\Eric.Li\\Documents\\Center Book\\Fundamental data.xlsx',\\\n",
    "                                       sheet_name='US'))\n",
    "Asia_Europe=clean_sheet(pd.read_excel(r'C:\\Users\\Eric.Li\\Documents\\Center Book\\Fundamental data.xlsx',\\\n",
    "                                       sheet_name='Asia Europe'))\n",
    "Book=clean_sheet(pd.read_excel(r'C:\\Users\\Eric.Li\\Documents\\Center Book\\Fundamental data.xlsx',\\\n",
    "                                       sheet_name='Book'))"
   ]
  },
  {
   "cell_type": "code",
   "execution_count": 22,
   "metadata": {},
   "outputs": [],
   "source": [
    "'''\n",
    "Get rid of equity from the ticker\n",
    "'''\n",
    "US.index=[x[:-7] for x in US.copy().index]\n",
    "Asia_Europe.index=[x[:-7] for x in Asia_Europe.copy().index]\n",
    "Book.index=[x[:-7] for x in Book.copy().index]\n",
    "Global=US.append(Asia_Europe).append(Book)\n",
    "Asia=Asia_Europe.loc[Asia_Europe.apply(lambda x: universe_evaluate(x.name[-2:],index_mapping),axis=1)==\"Asia\"]\n",
    "Europe=Asia_Europe.loc[Asia_Europe.apply(lambda x: universe_evaluate(x.name[-2:],index_mapping),axis=1)==\"Europe\"]"
   ]
  },
  {
   "cell_type": "code",
   "execution_count": 23,
   "metadata": {},
   "outputs": [],
   "source": [
    "fundamental_dict={'US':US,\n",
    "                 'Europe':Europe,\n",
    "                 'Asia': Asia}"
   ]
  },
  {
   "cell_type": "code",
   "execution_count": 15,
   "metadata": {},
   "outputs": [],
   "source": [
    "'''Export the fundamental universe for data downloading'''\n",
    "universe=pd.Series(list(set(Global.index))+list(set(index_mapping.values())))\n",
    "universe.to_csv(\"Centre book project universe.csv\")"
   ]
  },
  {
   "cell_type": "code",
   "execution_count": 18,
   "metadata": {},
   "outputs": [],
   "source": [
    "'''Grab all the price data for the universe and calculate return '''\n",
    "\n",
    "Price=clean_sheet(pd.read_excel(r'C:\\Users\\Eric.Li\\Documents\\Center Book\\Fundamental data.xlsx',\\\n",
    "                                       sheet_name='Universe'))\n",
    "abs_return=Price.T.diff()/Price.T.shift(1)\n",
    "abs_return=abs_return.T.drop_duplicates().T\n",
    "abs_return.columns=[x[:-7] if x[-1]=='y' else x for x in abs_return.columns]# get rid of Equity from the ticker"
   ]
  },
  {
   "cell_type": "code",
   "execution_count": 19,
   "metadata": {},
   "outputs": [],
   "source": [
    "Price_JD=clean_sheet(pd.read_excel(r'C:\\Users\\Eric.Li\\Documents\\Center Book\\JD daily data.xlsx',\\\n",
    "                                       sheet_name='Price'))\n",
    "Price_JD=Price_JD.iloc[:,1:]\n",
    "abs_return_JD=Price_JD.T.diff()/Price_JD.T.shift(1)\n",
    "abs_return_JD=abs_return_JD.T.drop_duplicates().T\n",
    "abs_return_JD.columns=[x[:-7] if x[-1]=='y' else x for x in abs_return_JD.columns]# get rid of Equity from the ticker"
   ]
  },
  {
   "cell_type": "markdown",
   "metadata": {},
   "source": [
    "# 3 - utility functions"
   ]
  },
  {
   "cell_type": "code",
   "execution_count": 11,
   "metadata": {},
   "outputs": [],
   "source": [
    "def trading_analytics(daily_pnl_df):\n",
    "    '''\n",
    "    Key portfolio metrics from portfolio cache\n",
    "    Feed into plot function\n",
    "    '''\n",
    "    \n",
    "    ind_return=daily_pnl_df.sum(axis=0)\n",
    "    signal_count=len(ind_return)\n",
    "    account_curve=daily_pnl_df.cumsum().ffill().sum(axis=1)\n",
    "    \n",
    "    if signal_count==0:\n",
    "        return None,None,None,None,None,None,None\n",
    "    else:\n",
    "        mean_return=ind_return.mean()\n",
    "        hit_rate=len(ind_return[ind_return>0])/len(ind_return)*1.0\n",
    "        payoff_ratio=ind_return[ind_return>0].mean()/ind_return[ind_return<0].mean()*-1.0\n",
    "        \n",
    "        account_price=account_curve+1\n",
    "        ann_vol=np.std(account_price.diff()/account_price.shift(1))*(260**0.5)\n",
    "        ann_ret=(account_price.iloc[-1]**(1/len(account_price)))**260-1\n",
    "        ann_sharpe=ann_ret/ann_vol\n",
    "        \n",
    "        max_dd=-((1+account_curve)/(1+account_curve).cummax(axis=0)-1).expanding().min().min()\n",
    "        \n",
    "        #low_date=(np.maximum.accumulate(account_curve)-account_curve).idxmax()\n",
    "        #high_date=account_curve[:low_date].idxmax()\n",
    "        #max_dd=1-(1+account_curve[low_date])/(1+account_curve[high_date])\n",
    "        \n",
    "        return signal_count,hit_rate,payoff_ratio,ann_ret,ann_vol,ann_sharpe,max_dd"
   ]
  },
  {
   "cell_type": "code",
   "execution_count": 12,
   "metadata": {},
   "outputs": [],
   "source": [
    "def quartile_name(target_series,large):\n",
    "    '''\n",
    "    Input input data: target_series to run quartile analysis, large ranks higher if true\n",
    "    Output: pandas series that contains the quartile score\n",
    "    '''\n",
    "    quartile_series=target_series.copy()\n",
    "    if large:\n",
    "        quartile_series[target_series>target_series.quantile(0.8)]=1\n",
    "        quartile_series[(target_series>target_series.quantile(0.6))&(target_series<=target_series.quantile(0.8))]=2\n",
    "        quartile_series[(target_series>target_series.quantile(0.4))&(target_series<=target_series.quantile(0.6))]=3\n",
    "        quartile_series[(target_series>target_series.quantile(0.2))&(target_series<=target_series.quantile(0.4))]=4\n",
    "        quartile_series[target_series<=target_series.quantile(0.2)]=5\n",
    "    else:\n",
    "        quartile_series[target_series>target_series.quantile(0.8)]=5\n",
    "        quartile_series[(target_series>target_series.quantile(0.6))&(target_series<=target_series.quantile(0.8))]=4\n",
    "        quartile_series[(target_series>target_series.quantile(0.4))&(target_series<=target_series.quantile(0.6))]=3\n",
    "        quartile_series[(target_series>target_series.quantile(0.2))&(target_series<=target_series.quantile(0.4))]=2\n",
    "        quartile_series[target_series<=target_series.quantile(0.2)]=1\n",
    "    return quartile_series"
   ]
  },
  {
   "cell_type": "code",
   "execution_count": 13,
   "metadata": {},
   "outputs": [],
   "source": [
    "def factor_rank_transform(fundamental_df):\n",
    "    '''\n",
    "    three factor version\n",
    "    '''\n",
    "    fundamental_df.loc[:,\"mom\"]=fundamental_df.apply(lambda x:x[\"RECENT PRICE\"]/x[\"BEFORE PRICE\"]-1 \\\n",
    "                                                     if np.isreal(x[\"BEFORE PRICE\"]) \\\n",
    "             and np.isreal(x[\"RECENT PRICE\"]) else None, axis=1)\n",
    "    \n",
    "    fundamental_df.loc[:,\"value\"]=fundamental_df.apply(lambda x:x[\"BOOK\"]/x[\"Market Cap\"] if np.isreal(x[\"BOOK\"]) \\\n",
    "             and np.isreal(x[\"Market Cap\"]) else None, axis=1)\n",
    "    \n",
    "    fundamental_df.loc[:,\"size\"]=fundamental_df.apply(lambda x: x[\"Market Cap\"] if np.isreal(x[\"Market Cap\"]) else None, axis=1)\n",
    "    \n",
    "    fundamental_df=fundamental_df[np.isfinite(fundamental_df[\"mom\"])]\n",
    "    fundamental_df=fundamental_df[np.isfinite(fundamental_df[\"value\"])]\n",
    "    fundamental_df=fundamental_df[np.isfinite(fundamental_df[\"size\"])]\n",
    "    \n",
    "    fundamental_df.loc[:,\"size_rank\"]=quartile_name(fundamental_df[\"size\"],False)\n",
    "        \n",
    "    size_mom=pd.Series()\n",
    "    for i in set(fundamental_df[\"size_rank\"]):\n",
    "        target=fundamental_df[fundamental_df[\"size_rank\"]==i]\n",
    "        target[\"size_mom\"]=list(zip(target[\"size_rank\"],quartile_name(target[\"mom\"],True)))\n",
    "        size_mom=size_mom.append(target[\"size_mom\"])\n",
    "\n",
    "    fundamental_df.loc[:,\"size_mom\"]=size_mom\n",
    "        \n",
    "    size_mom_value=[]\n",
    "    for i in set(fundamental_df[\"size_mom\"]):\n",
    "        target=fundamental_df[fundamental_df[\"size_mom\"]==i]\n",
    "        target[\"size_mom_value\"]=list(zip(list(zip(*target[\"size_mom\"]))[0],list(zip(*target[\"size_mom\"]))[1],\\\n",
    "                                          quartile_name(target[\"value\"],True)))\n",
    "        size_mom_value.append(target[\"size_mom_value\"])\n",
    "    \n",
    "    \n",
    "    fundamental_df.loc[:,\"size_mom_value\"]=pd.concat(size_mom_value,axis=0)\n",
    "    \n",
    "    return fundamental_df"
   ]
  },
  {
   "cell_type": "markdown",
   "metadata": {},
   "source": [
    "# 4 - Signal class\n",
    " - Index\n",
    " - Factor\n",
    " - Separate combination function"
   ]
  },
  {
   "cell_type": "code",
   "execution_count": 14,
   "metadata": {},
   "outputs": [],
   "source": [
    "class signal(object):\n",
    "    '''\n",
    "    generate signal account for index hedged portfolio\n",
    "    '''\n",
    "    def __init__(self,return_df,orig_size_df,orig_pnl_df,book_df,mapping_df,sizing,new_size,region,fundamental_dict):\n",
    "        self.return_df=return_df\n",
    "        self.mapping_df=mapping_df\n",
    "        self.sizing=sizing\n",
    "        self.region=region\n",
    "        self.book_df=book_df\n",
    "        self.new_size=new_size\n",
    "        self.fundamental_dict=fundamental_dict\n",
    "        \n",
    "        if region==\"Global\":\n",
    "            self.orig_alpha_size=orig_size_df\n",
    "            self.orig_alpha_pnl=orig_pnl_df\n",
    "        else:\n",
    "            self.orig_alpha_size=orig_size_df.loc[:,orig_size_df.apply(lambda x:universe_evaluate(x.name[0][-2:],mapping_df),\\\n",
    "                                                                           axis=0)==region]    \n",
    "            self.orig_alpha_pnl=orig_pnl_df.loc[:,orig_pnl_df.apply(lambda x:universe_evaluate(x.name[0][-2:],mapping_df),\\\n",
    "                                                                           axis=0)==region]   \n",
    "    def index_signal_account(self):\n",
    "\n",
    "        '''\n",
    "        Build signal account from original size dataframe, and apply to different sizing scheme, hedged with market index\n",
    "        Sizing:\n",
    "        - original\n",
    "        - entry\n",
    "        - average\n",
    "        - equal\n",
    "        - risk parity\n",
    "        '''\n",
    "        \n",
    "        orig_alpha_size=self.orig_alpha_size.copy()\n",
    "        \n",
    "        alpha_count_df=orig_alpha_size.copy()\n",
    "        alpha_count_df[pd.notnull(alpha_count_df)]=1\n",
    "\n",
    "        alpha_return_df=self.return_df[[x[0] for x in alpha_count_df.columns]].loc[alpha_count_df.index]\n",
    "        alpha_return_df.columns=self.orig_alpha_size.columns\n",
    "        alpha_signal_df=alpha_return_df*alpha_count_df\n",
    "\n",
    "        if self.sizing==\"original\":\n",
    "            alpha_size_df=orig_alpha_size\n",
    "        else:\n",
    "            if self.sizing==\"entry\":\n",
    "                size_row=orig_alpha_size.apply(lambda x: x.dropna().iloc[0],axis=0)\n",
    "            elif self.sizing==\"average\":\n",
    "                size_row=orig_alpha_size.mean(axis=0)\n",
    "            elif self.sizing==\"equal\":\n",
    "                size_row=orig_alpha_size.apply(lambda x:self.new_size if x.mean()>0 else -self.new_size,axis=0)\n",
    "            elif self.sizing==\"risk parity\":\n",
    "                vol_row=orig_alpha_size.apply(lambda x:self.return_df[x.name[0]].loc[:x.name[1]][-30:].std(),axis=0)\n",
    "                size_row=(vol_row.mean()/vol_row).fillna(1.0)*orig_alpha_size.apply(lambda x:self.new_size \\\n",
    "                                                                                    if x.mean()>0 else -self.new_size,axis=0)\n",
    "            self.size_row=size_row\n",
    "            self.trial=orig_alpha_size\n",
    "            \n",
    "            alpha_size_df=(1+alpha_signal_df).cumprod()*size_row\n",
    "\n",
    "        index_series=alpha_size_df.apply(lambda x:index_mapping[x.name[0][-2:]],axis=0)\n",
    "        alpha_size_df_copy=alpha_size_df.T\n",
    "        alpha_size_df_copy[\"Index\"]=index_series\n",
    "        index_size_df=(alpha_size_df_copy.groupby(\"Index\").apply(sum)*-1).T.iloc[:-1]\n",
    "        index_signal_df=self.return_df[list(set(index_series.dropna()))].loc[alpha_signal_df.index]\n",
    "\n",
    "        total_signal_df=pd.concat([alpha_signal_df,index_signal_df],axis=1)\n",
    "        total_size_df=pd.concat([alpha_size_df,index_size_df],axis=1)\n",
    "        total_daily_pnl=total_size_df.shift(1)*total_signal_df\n",
    "        total_account_curve=total_daily_pnl.cumsum().ffill().sum(axis=1)\n",
    "        total_ind_return=total_daily_pnl.cumsum().ffill().iloc[-1].dropna()\n",
    "\n",
    "        total_cache=(total_daily_pnl,total_account_curve,total_size_df,total_ind_return,total_signal_df)\n",
    "\n",
    "        alpha_daily_pnl=alpha_size_df.shift(1)*alpha_return_df\n",
    "        alpha_account_curve=alpha_daily_pnl.cumsum().ffill().sum(axis=1)\n",
    "        alpha_ind_return=alpha_daily_pnl.cumsum().ffill().iloc[-1].dropna()\n",
    "\n",
    "        alpha_cache=(alpha_daily_pnl,alpha_account_curve,alpha_size_df,alpha_ind_return,alpha_signal_df)\n",
    "\n",
    "        long_size_df=alpha_size_df.loc[:,alpha_size_df.mean(axis=0)>0]\n",
    "        long_daily_pnl=alpha_daily_pnl.loc[:,long_size_df.columns]\n",
    "        long_account_curve=long_daily_pnl.cumsum().ffill().sum(axis=1)\n",
    "        long_ind_return=long_daily_pnl.cumsum().ffill().iloc[-1].dropna()\n",
    "        long_signal_df=alpha_signal_df.loc[:,long_size_df.columns]\n",
    "\n",
    "        long_cache=(long_daily_pnl,long_account_curve,long_size_df,long_ind_return,long_signal_df)\n",
    "\n",
    "        short_size_df=alpha_size_df.loc[:,alpha_size_df.mean(axis=0)<0]\n",
    "        short_daily_pnl=alpha_daily_pnl.loc[:,short_size_df.columns]\n",
    "        short_account_curve=short_daily_pnl.cumsum().ffill().sum(axis=1)\n",
    "        short_ind_return=short_daily_pnl.cumsum().ffill().iloc[-1].dropna()\n",
    "        short_signal_df=alpha_signal_df.loc[:,short_size_df.columns]\n",
    "\n",
    "        short_cache=(short_daily_pnl,short_account_curve,short_size_df,short_ind_return,short_signal_df)   \n",
    "        \n",
    "        'Assign portfolio data for later use'\n",
    "        self.index_hedged_portfolio=total_cache\n",
    "        self.index_hedged_alpha=alpha_cache\n",
    "        self.index_hedged_long=long_cache\n",
    "        self.index_hedged_short=short_cache\n",
    "        \n",
    "        return long_cache,short_cache,alpha_cache,total_cache\n",
    "\n",
    "    def factor_universe(self):\n",
    "        '''\n",
    "        Work out factor df from fundamental _df\n",
    "        '''\n",
    "        \n",
    "        book_universe=self.book_df.apply(lambda x:universe_evaluate(x.name[-2:],self.mapping_df),axis=1)\n",
    "        book_region=self.book_df[book_universe==self.region]\n",
    "\n",
    "        factor_list=[]\n",
    "\n",
    "        adj_fundamental_df=pd.concat([self.fundamental_dict[self.region],book_region],axis=0).drop_duplicates()\n",
    "\n",
    "        for i in list(sorted(set(adj_fundamental_df[\"Date\"]))):\n",
    "            target_df=adj_fundamental_df[adj_fundamental_df[\"Date\"]==i]\n",
    "            target_series=factor_rank_transform(target_df)[\"size_mom_value\"]\n",
    "            target_series.name=i\n",
    "            factor_list.append(target_series)\n",
    "\n",
    "        factor_df=pd.concat(factor_list,axis=1)\n",
    "\n",
    "        factor_universe_df=factor_df.T.resample('B').ffill().shift(1)\n",
    "        factor_universe_df.iloc[1]=factor_universe_df.iloc[2]\n",
    "        factor_universe_df=factor_universe_df.iloc[1:]\n",
    "        \n",
    "        'Assign it for later use' \n",
    "        self.factor_universe_df=factor_universe_df\n",
    "        \n",
    "        return factor_universe_df    \n",
    "\n",
    "    def factor_return(self):\n",
    "        '''\n",
    "        Get factor return df from stock/factor mapping\n",
    "        Rebalanced every month\n",
    "        '''\n",
    "        \n",
    "        try:\n",
    "            factor_universe_df=self.factor_universe_df.copy()\n",
    "        except:\n",
    "            factor_universe_df=signal.factor_universe(self)\n",
    "        \n",
    "        factor_return_dict={}\n",
    "        target_return=self.return_df.T.loc[self.factor_universe_df.columns].T\n",
    "        date_mapping=pd.Series([(x.year,x.month) for x in self.factor_universe_df.index],index=self.factor_universe_df.index)\n",
    "        #rebalancing\n",
    "\n",
    "        for i in sorted(list(set(self.factor_universe_df.unstack(-1).dropna()))):#get a list of unique factors\n",
    "            factor_copy=self.factor_universe_df.copy()\n",
    "            factor_evaluate=factor_copy.apply(lambda x: x[x==i],axis=1)\n",
    "            factor_evaluate[pd.notnull(factor_evaluate)]=1\n",
    "            factor_return_sub=(factor_evaluate*target_return).dropna(how='all',axis=1)\n",
    "            factor_return_month_list=[]\n",
    "            for s in sorted(list(set(date_mapping))):# we have all the stocks, average them out with equal weighting index\n",
    "                return_month=factor_return_sub.loc[date_mapping[date_mapping==s].index]\n",
    "                return_month_cum=(1+return_month).cumprod().mean(axis=1).fillna(1.0)\n",
    "                factor_return_month=return_month_cum.diff(1)/return_month_cum.shift(1)\n",
    "                factor_return_month.iloc[0]=return_month_cum.iloc[0]-1\n",
    "                factor_return_month_list.append(factor_return_month)\n",
    "\n",
    "            factor_return_dict[i]=pd.concat(factor_return_month_list,axis=0)    \n",
    "        \n",
    "        factor_return_df=pd.DataFrame(factor_return_dict)\n",
    "        self.factor_return_df=factor_return_df\n",
    "        return factor_return_df\n",
    "    \n",
    "    \n",
    "    def factor_size(self):\n",
    "        '''\n",
    "        From portfolio size, factor return and factor universe to get factor size\n",
    "        '''\n",
    "        \n",
    "        try:\n",
    "            alpha_size_df=self.index_hedged_alpha[2].copy()\n",
    "        except:\n",
    "            alpha_size_df=signal.index_signal_account(self)[2][2]\n",
    "        \n",
    "        try:\n",
    "            factor_universe_df=self.factor_universe_df.copy()\n",
    "        except:\n",
    "            factor_universe_df=signal.factor_universe(self)\n",
    "        \n",
    "        factor_universe_df=factor_universe_df.fillna(1.0)\n",
    "\n",
    "        count_df=alpha_size_df.copy()\n",
    "        count_df[pd.notnull(count_df)]=1\n",
    "        signal_factor_df=count_df.apply(lambda x:\\\n",
    "                                     x*factor_universe_df.loc[:,x.name[0]] if x.name[0] in factor_universe_df.columns else x\\\n",
    "                                     ,axis=0) # generate signal/factor mapping\n",
    "\n",
    "        residual_size_df=alpha_size_df[signal_factor_df==1].dropna(how='all',axis=1)\n",
    "        #aim to extract those that are not covered by the factor, used later for hedge with market index\n",
    "\n",
    "\n",
    "        factor_size_dict={}\n",
    "        for i in sorted(factor_universe_df.iloc[2][factor_universe_df.iloc[2]!=1].dropna().unique()):\n",
    "            signal_factor_copy=signal_factor_df.copy()\n",
    "            signal_factor_evaluate=signal_factor_copy.apply(lambda x: x[x==i],axis=1)\n",
    "            signal_factor_evaluate[pd.notnull(signal_factor_evaluate)]=1\n",
    "            factor_size=alpha_size_df.loc[:,signal_factor_evaluate.columns]*signal_factor_evaluate\n",
    "            if factor_size.shape[1]==0:\n",
    "                pass\n",
    "            else:\n",
    "                factor_size_dict[i]=-factor_size.sum(axis=1)\n",
    "\n",
    "        factor_size_df=pd.DataFrame(factor_size_dict).loc[alpha_size_df.index]\n",
    "        \n",
    "        self.factor_size_df=factor_size_df\n",
    "        self.residual_size_df=residual_size_df\n",
    "\n",
    "        return factor_size_df,residual_size_df\n",
    "\n",
    "    def factor_signal_account(self):\n",
    "        '''\n",
    "        Produce factor hedged signal account\n",
    "        Build on factor_return and factor_size functions\n",
    "        '''\n",
    "        \n",
    "        try:\n",
    "            alpha_size_df=self.index_hedged_alpha[2].copy()\n",
    "        except:\n",
    "            alpha_size_df=signal.index_signal_account(self)[2][2]\n",
    "        \n",
    "        try:\n",
    "            factor_universe_df=self.factor_universe_df.copy()\n",
    "        except:\n",
    "            factor_universe_df=signal.factor_universe(self)        \n",
    "        \n",
    "        try:\n",
    "            factor_return_df=self.factor_return_df.copy()\n",
    "        except:\n",
    "            factor_return_df=signal.factor_return(self)        \n",
    "\n",
    "        try:\n",
    "            factor_size_df=self.factor_size_df.copy()\n",
    "            residual_size_df=self.residual_size_df.copy()\n",
    "        except:\n",
    "            factor_size_df,residual_size_df=signal.factor_size(self)                  \n",
    "\n",
    "\n",
    "        alpha_count_df=alpha_size_df.copy()\n",
    "        alpha_count_df[pd.notnull(alpha_count_df)]=1\n",
    "        alpha_return_df=self.return_df[[x[0] for x in alpha_count_df.columns]].loc[alpha_count_df.index]\n",
    "        alpha_return_df.columns=alpha_size_df.columns\n",
    "        alpha_signal_df=alpha_return_df*alpha_count_df\n",
    "\n",
    "        factor_count_df=factor_size_df.copy()\n",
    "        factor_count_df[pd.notnull(factor_count_df)]=1\n",
    "        factor_signal_df=factor_return_df[factor_count_df.columns]*factor_count_df    \n",
    "\n",
    "        index_series=residual_size_df.apply(lambda x:self.mapping_df[x.name[0][-2:]],axis=0)\n",
    "        residual_size_copy=residual_size_df.T\n",
    "        residual_size_copy[\"Index\"]=index_series\n",
    "        index_size_df=(residual_size_copy.groupby(\"Index\").apply(sum)*-1).T.iloc[:-1]\n",
    "        index_signal_df=self.return_df[list(set(index_series.dropna()))].loc[alpha_signal_df.index] \n",
    "\n",
    "        total_signal_df=pd.concat([alpha_signal_df,factor_signal_df,index_signal_df],axis=1)\n",
    "        total_size_df=pd.concat([alpha_size_df,factor_size_df,index_size_df],axis=1)\n",
    "        total_daily_pnl=total_size_df.shift(1)*total_signal_df\n",
    "        total_account_curve=total_daily_pnl.cumsum().ffill().sum(axis=1)\n",
    "        total_ind_return=total_daily_pnl.cumsum().ffill().iloc[-1].dropna()\n",
    "\n",
    "        total_cache=(total_daily_pnl,total_account_curve,total_size_df,total_ind_return)\n",
    "\n",
    "        alpha_daily_pnl=total_daily_pnl.loc[:,alpha_size_df.columns]\n",
    "        alpha_account_curve=alpha_daily_pnl.cumsum().ffill().sum(axis=1)\n",
    "        alpha_ind_return=alpha_daily_pnl.cumsum().ffill().iloc[-1].dropna()\n",
    "\n",
    "        alpha_cache=(alpha_daily_pnl,alpha_account_curve,alpha_size_df,alpha_ind_return)\n",
    "\n",
    "        long_size_df=alpha_size_df.loc[:,alpha_size_df.mean(axis=0)>0]\n",
    "        long_daily_pnl=alpha_daily_pnl.loc[:,long_size_df.columns]\n",
    "        long_account_curve=long_daily_pnl.cumsum().ffill().sum(axis=1)\n",
    "        long_ind_return=long_daily_pnl.cumsum().ffill().iloc[-1].dropna()\n",
    "\n",
    "        long_cache=(long_daily_pnl,long_account_curve,long_size_df,long_ind_return)\n",
    "\n",
    "        short_size_df=alpha_size_df.loc[:,alpha_size_df.mean(axis=0)<0]\n",
    "        short_daily_pnl=alpha_daily_pnl.loc[:,short_size_df.columns]\n",
    "        short_account_curve=short_daily_pnl.cumsum().ffill().sum(axis=1)\n",
    "        short_ind_return=short_daily_pnl.cumsum().ffill().iloc[-1].dropna()\n",
    "\n",
    "        short_cache=(short_daily_pnl,short_account_curve,short_size_df,short_ind_return)    \n",
    "        \n",
    "        'Assign portfolio data for later use'\n",
    "        self.factor_hedged_portfolio=total_cache\n",
    "        self.factor_hedged_alpha=alpha_cache       \n",
    "        self.factor_hedged_long=long_cache\n",
    "        self.factor_hedged_short=short_cache\n",
    "        \n",
    "        return long_cache,short_cache,alpha_cache,total_cache"
   ]
  },
  {
   "cell_type": "code",
   "execution_count": 45,
   "metadata": {},
   "outputs": [],
   "source": [
    "def plot_signal(title,figsize,portfolio_cache):\n",
    "\n",
    "    account_curve=portfolio_cache[1]\n",
    "    avg_size=np.abs(portfolio_cache[2]).mean(axis=0).mean()\n",
    "    ind_return=portfolio_cache[3]\n",
    "    gross=np.abs(portfolio_cache[2]).sum(axis=1)\n",
    "    net=portfolio_cache[2].sum(axis=1)\n",
    "    turnover=(np.abs(portfolio_cache[2].fillna(0.0).diff(1)).sum().sum())/(portfolio_cache[2].shape[0]/260)\n",
    "\n",
    "    fig=plt.figure(figsize=figsize)\n",
    "    ax1=fig.add_subplot(1,1,1)\n",
    "    ln1=ax1.plot(account_curve,label='signal',color='b')\n",
    "\n",
    "    val1=ax1.get_yticks()\n",
    "    start=val1[0]\n",
    "    end=val1[-1]\n",
    "    ax1.set_yticks(np.arange(start,end,0.1))  \n",
    "    adj_val1=ax1.get_yticks()\n",
    "    ax1.set_yticklabels([\"{:.0%}\".format(x) for x in adj_val1])\n",
    "\n",
    "    ax2=ax1.twinx()\n",
    "    ln2=ax2.plot(gross,label='gross',color='silver')\n",
    "    ln3=ax2.plot(net,label='net',color='orange')\n",
    "\n",
    "    val2=ax2.get_yticks()\n",
    "    start=val2[0]\n",
    "    end=val2[-1]\n",
    "    ax2.set_yticks(np.arange(start,end,0.1))  \n",
    "    adj_val2=ax2.get_yticks()\n",
    "    ax2.set_yticklabels([\"{:.0%}\".format(x) for x in adj_val2])\n",
    "\n",
    "    count,hit,payoff,ret,vol,sharpe,max_dd=trading_analytics(portfolio_cache[0])\n",
    "\n",
    "    plt.title(\"\\n\".join(wrap('count='+str(count)+\n",
    "                             ',avg_size='+str(\"{:.1%}\".format(avg_size))+\n",
    "                             ',hit_rate='+str(\"{:.0%}\".format(hit))+\n",
    "                             ',payoff='+str(round(payoff,1))+\n",
    "                             ',return='+str(\"{:.1%}\".format(ret))+\n",
    "                             ',vol='+str(\"{:.1%}\".format(vol))+\n",
    "                             ',sharpe='+str(round(sharpe,1))+\n",
    "                             ',turnover='+str(round(turnover,1))+'x'+                             \n",
    "                             ',max_drawdown='+str(\"{:.1%}\".format(max_dd)))),fontsize=10)\n",
    "\n",
    "    ax1.set_xlabel('Year')\n",
    "    ax1.set_ylabel('Return')\n",
    "    ax2.set_ylabel('Exposure')\n",
    "    plt.suptitle(title,y=1.05,fontsize=16)\n",
    "    plt.grid(linestyle='dashed')\n",
    "    plt.legend(ln1+ln2+ln3,[l.get_label() for l in ln1+ln2+ln3],loc=2)\n",
    "    ax1.axhline(y=0,color='k')\n",
    "\n",
    "    plt.show()        "
   ]
  },
  {
   "cell_type": "code",
   "execution_count": 41,
   "metadata": {},
   "outputs": [],
   "source": [
    "def signal_combine(cache_list,capital_reference,target_capital):\n",
    "    '''\n",
    "    Assume all the signal class follows the same capital base\n",
    "    '''\n",
    "    daily_pnl_df=pd.DataFrame()\n",
    "    size_df=pd.DataFrame()\n",
    "    \n",
    "    for i in cache_list:\n",
    "        daily_pnl_df=pd.concat([daily_pnl_df,i[0]*target_capital/capital_reference],axis=1)\n",
    "        size_df=pd.concat([size_df,i[2]*target_capital/capital_reference],axis=1)\n",
    "    \n",
    "    account_curve=daily_pnl_df.cumsum().ffill().sum(axis=1)\n",
    "    ind_return=daily_pnl_df.cumsum().ffill().iloc[-1].dropna()\n",
    "    return daily_pnl_df,account_curve,size_df,ind_return\n",
    "    "
   ]
  },
  {
   "cell_type": "code",
   "execution_count": null,
   "metadata": {},
   "outputs": [],
   "source": []
  },
  {
   "cell_type": "code",
   "execution_count": 24,
   "metadata": {},
   "outputs": [],
   "source": [
    "JD_FI_orig=signal(abs_return_JD,JD_FI_size,JD_FI_pnl,Book,index_mapping,'original',0.015,\"Global\",\\\n",
    "                               fundamental_dict)"
   ]
  },
  {
   "cell_type": "code",
   "execution_count": 25,
   "metadata": {},
   "outputs": [],
   "source": [
    "JD_ST_orig=signal(abs_return_JD,JD_ST_size,JD_ST_pnl,Book,index_mapping,'original',0.015,\"Global\",\\\n",
    "                               fundamental_dict)"
   ]
  },
  {
   "cell_type": "code",
   "execution_count": 29,
   "metadata": {},
   "outputs": [],
   "source": [
    "JD_orig_alpha=signal_combine([JD_FI_orig.index_hedged_alpha,JD_ST_orig.index_hedged_alpha], 1,1)"
   ]
  },
  {
   "cell_type": "code",
   "execution_count": 46,
   "metadata": {},
   "outputs": [
    {
     "data": {
      "image/png": "[encoded data removed]",
      "text/plain": [
       "<matplotlib.figure.Figure at 0x2e42ff28>"
      ]
     },
     "metadata": {},
     "output_type": "display_data"
    }
   ],
   "source": [
    "plot_signal('JD original sizing',[6,4],JD_orig_alpha)"
   ]
  },
  {
   "cell_type": "code",
   "execution_count": 57,
   "metadata": {},
   "outputs": [],
   "source": [
    "JD_orig=signal_combine([JD_FI_orig.index_hedged_portfolio,JD_ST_orig.index_hedged_portfolio], 1,1)"
   ]
  },
  {
   "cell_type": "code",
   "execution_count": 58,
   "metadata": {},
   "outputs": [
    {
     "data": {
      "image/png": "[encoded data removed]",
      "text/plain": [
       "<matplotlib.figure.Figure at 0x1f609cc0>"
      ]
     },
     "metadata": {},
     "output_type": "display_data"
    }
   ],
   "source": [
    "plot_signal('JD original sizing/index hedging',[6,4],JD_orig)"
   ]
  },
  {
   "cell_type": "code",
   "execution_count": null,
   "metadata": {},
   "outputs": [],
   "source": []
  },
  {
   "cell_type": "code",
   "execution_count": null,
   "metadata": {},
   "outputs": [],
   "source": []
  },
  {
   "cell_type": "code",
   "execution_count": 459,
   "metadata": {},
   "outputs": [],
   "source": [
    "JD_FI_rp=signal(abs_return_JD,JD_FI_size,JD_FI_pnl,Book,index_mapping,'risk parity',0.02,\"Global\",\\\n",
    "                               fundamental_dict)"
   ]
  },
  {
   "cell_type": "code",
   "execution_count": 460,
   "metadata": {},
   "outputs": [],
   "source": [
    "JD_ST_rp=signal(abs_return_JD,JD_ST_size,JD_ST_pnl,Book,index_mapping,'risk parity',0.02,\"Global\",\\\n",
    "                               fundamental_dict)"
   ]
  },
  {
   "cell_type": "code",
   "execution_count": 463,
   "metadata": {},
   "outputs": [],
   "source": [
    "JD_rp_alpha=signal_combine([JD_FI_rp.index_hedged_alpha,JD_ST_rp.index_hedged_alpha], 1,1)"
   ]
  },
  {
   "cell_type": "code",
   "execution_count": 464,
   "metadata": {},
   "outputs": [],
   "source": [
    "JD_rp=signal_combine([JD_FI_rp.index_hedged_portfolio,JD_ST_rp.index_hedged_portfolio], 1,1)"
   ]
  },
  {
   "cell_type": "code",
   "execution_count": 499,
   "metadata": {},
   "outputs": [
    {
     "data": {
      "image/png": "[encoded data removed]",
      "text/plain": [
       "<matplotlib.figure.Figure at 0xb48e6fd0>"
      ]
     },
     "metadata": {},
     "output_type": "display_data"
    }
   ],
   "source": [
    "plot_signal('JD risk parity sizing/pure alpha',[6,4],JD_rp_alpha)"
   ]
  },
  {
   "cell_type": "code",
   "execution_count": 500,
   "metadata": {},
   "outputs": [
    {
     "data": {
      "image/png": "[encoded data removed]",
      "text/plain": [
       "<matplotlib.figure.Figure at 0xb48e62e8>"
      ]
     },
     "metadata": {},
     "output_type": "display_data"
    }
   ],
   "source": [
    "plot_signal('JD risk parity sizing/index hedging',[6,4],JD_rp)"
   ]
  },
  {
   "cell_type": "code",
   "execution_count": 503,
   "metadata": {},
   "outputs": [
    {
     "data": {
      "text/plain": [
       "0.6833296277275535"
      ]
     },
     "execution_count": 503,
     "metadata": {},
     "output_type": "execute_result"
    }
   ],
   "source": [
    "np.abs(JD_rp[2]).sum(axis=1).mean()"
   ]
  },
  {
   "cell_type": "markdown",
   "metadata": {},
   "source": [
    "## 4.1 Europe"
   ]
  },
  {
   "cell_type": "code",
   "execution_count": 79,
   "metadata": {},
   "outputs": [],
   "source": [
    "Europe_center_book_orig=signal(abs_return,alpha_FI_size,alpha_FI_pnl,Book,index_mapping,'original',0.015,\"Europe\",\\\n",
    "                               fundamental_dict)"
   ]
  },
  {
   "cell_type": "code",
   "execution_count": 25,
   "metadata": {},
   "outputs": [
    {
     "data": {
      "text/plain": [
       "(457,\n",
       " 0.4223194748358862,\n",
       " 1.887525646944715,\n",
       " 0.02673466213327247,\n",
       " 0.038422756851836416,\n",
       " 0.6958028086418969,\n",
       " 0.06594538005137629)"
      ]
     },
     "execution_count": 25,
     "metadata": {},
     "output_type": "execute_result"
    }
   ],
   "source": [
    "trading_analytics(Europe_center_book_orig.index_signal_account()[2][0])"
   ]
  },
  {
   "cell_type": "code",
   "execution_count": 32,
   "metadata": {},
   "outputs": [
    {
     "name": "stderr",
     "output_type": "stream",
     "text": [
      "C:\\Users\\Eric.Li\\AppData\\Local\\Continuum\\anaconda3\\lib\\site-packages\\pandas\\core\\indexing.py:357: SettingWithCopyWarning: \n",
      "A value is trying to be set on a copy of a slice from a DataFrame.\n",
      "Try using .loc[row_indexer,col_indexer] = value instead\n",
      "\n",
      "See the caveats in the documentation: http://pandas.pydata.org/pandas-docs/stable/indexing.html#indexing-view-versus-copy\n",
      "  self.obj[key] = _infer_fill_value(value)\n",
      "C:\\Users\\Eric.Li\\AppData\\Local\\Continuum\\anaconda3\\lib\\site-packages\\pandas\\core\\indexing.py:537: SettingWithCopyWarning: \n",
      "A value is trying to be set on a copy of a slice from a DataFrame.\n",
      "Try using .loc[row_indexer,col_indexer] = value instead\n",
      "\n",
      "See the caveats in the documentation: http://pandas.pydata.org/pandas-docs/stable/indexing.html#indexing-view-versus-copy\n",
      "  self.obj[item] = s\n",
      "C:\\Users\\Eric.Li\\AppData\\Local\\Continuum\\anaconda3\\lib\\site-packages\\ipykernel_launcher.py:20: SettingWithCopyWarning: \n",
      "A value is trying to be set on a copy of a slice from a DataFrame.\n",
      "Try using .loc[row_indexer,col_indexer] = value instead\n",
      "\n",
      "See the caveats in the documentation: http://pandas.pydata.org/pandas-docs/stable/indexing.html#indexing-view-versus-copy\n",
      "C:\\Users\\Eric.Li\\AppData\\Local\\Continuum\\anaconda3\\lib\\site-packages\\ipykernel_launcher.py:28: SettingWithCopyWarning: \n",
      "A value is trying to be set on a copy of a slice from a DataFrame.\n",
      "Try using .loc[row_indexer,col_indexer] = value instead\n",
      "\n",
      "See the caveats in the documentation: http://pandas.pydata.org/pandas-docs/stable/indexing.html#indexing-view-versus-copy\n"
     ]
    },
    {
     "data": {
      "text/plain": [
       "(580,\n",
       " 0.4413793103448276,\n",
       " 1.5643772130446976,\n",
       " 0.02460036058560422,\n",
       " 0.023727509506176362,\n",
       " 1.0367864600033414,\n",
       " 0.025473386455630243)"
      ]
     },
     "execution_count": 32,
     "metadata": {},
     "output_type": "execute_result"
    }
   ],
   "source": [
    "trading_analytics(Europe_center_book_orig.factor_signal_account()[-1][0])"
   ]
  },
  {
   "cell_type": "code",
   "execution_count": null,
   "metadata": {},
   "outputs": [],
   "source": []
  },
  {
   "cell_type": "code",
   "execution_count": 89,
   "metadata": {},
   "outputs": [],
   "source": [
    "Europe_center_book_equal=signal(abs_return,alpha_FI_size,alpha_FI_pnl,Book,index_mapping,'equal',0.015,\"Europe\",\\\n",
    "                             fundamental_dict)"
   ]
  },
  {
   "cell_type": "code",
   "execution_count": 90,
   "metadata": {},
   "outputs": [
    {
     "data": {
      "text/plain": [
       "(457,\n",
       " 0.48358862144420134,\n",
       " 1.3195295572812524,\n",
       " 0.019120824190498542,\n",
       " 0.035450044391678884,\n",
       " 0.5393737728290894,\n",
       " 0.08114025583574525)"
      ]
     },
     "execution_count": 90,
     "metadata": {},
     "output_type": "execute_result"
    }
   ],
   "source": [
    "trading_analytics(Europe_center_book_equal.index_signal_account()[2][0])"
   ]
  },
  {
   "cell_type": "code",
   "execution_count": 91,
   "metadata": {},
   "outputs": [
    {
     "data": {
      "text/plain": [
       "(458,\n",
       " 0.4650655021834061,\n",
       " 1.630714442369059,\n",
       " 0.03245733252627159,\n",
       " 0.029692333916826952,\n",
       " 1.093121632579973,\n",
       " 0.049802076781311544)"
      ]
     },
     "execution_count": 91,
     "metadata": {},
     "output_type": "execute_result"
    }
   ],
   "source": [
    "trading_analytics(Europe_center_book_equal.index_hedged_portfolio[0])"
   ]
  },
  {
   "cell_type": "code",
   "execution_count": 92,
   "metadata": {},
   "outputs": [
    {
     "name": "stderr",
     "output_type": "stream",
     "text": [
      "C:\\Users\\Eric.Li\\AppData\\Local\\Continuum\\anaconda3\\lib\\site-packages\\pandas\\core\\indexing.py:357: SettingWithCopyWarning: \n",
      "A value is trying to be set on a copy of a slice from a DataFrame.\n",
      "Try using .loc[row_indexer,col_indexer] = value instead\n",
      "\n",
      "See the caveats in the documentation: http://pandas.pydata.org/pandas-docs/stable/indexing.html#indexing-view-versus-copy\n",
      "  self.obj[key] = _infer_fill_value(value)\n",
      "C:\\Users\\Eric.Li\\AppData\\Local\\Continuum\\anaconda3\\lib\\site-packages\\pandas\\core\\indexing.py:537: SettingWithCopyWarning: \n",
      "A value is trying to be set on a copy of a slice from a DataFrame.\n",
      "Try using .loc[row_indexer,col_indexer] = value instead\n",
      "\n",
      "See the caveats in the documentation: http://pandas.pydata.org/pandas-docs/stable/indexing.html#indexing-view-versus-copy\n",
      "  self.obj[item] = s\n",
      "C:\\Users\\Eric.Li\\AppData\\Local\\Continuum\\anaconda3\\lib\\site-packages\\ipykernel_launcher.py:20: SettingWithCopyWarning: \n",
      "A value is trying to be set on a copy of a slice from a DataFrame.\n",
      "Try using .loc[row_indexer,col_indexer] = value instead\n",
      "\n",
      "See the caveats in the documentation: http://pandas.pydata.org/pandas-docs/stable/indexing.html#indexing-view-versus-copy\n",
      "C:\\Users\\Eric.Li\\AppData\\Local\\Continuum\\anaconda3\\lib\\site-packages\\ipykernel_launcher.py:28: SettingWithCopyWarning: \n",
      "A value is trying to be set on a copy of a slice from a DataFrame.\n",
      "Try using .loc[row_indexer,col_indexer] = value instead\n",
      "\n",
      "See the caveats in the documentation: http://pandas.pydata.org/pandas-docs/stable/indexing.html#indexing-view-versus-copy\n"
     ]
    },
    {
     "data": {
      "text/plain": [
       "(580,\n",
       " 0.46379310344827585,\n",
       " 1.3391025662820704,\n",
       " 0.017716778063946448,\n",
       " 0.020955444167235493,\n",
       " 0.8454498946697201,\n",
       " 0.030355927100869318)"
      ]
     },
     "execution_count": 92,
     "metadata": {},
     "output_type": "execute_result"
    }
   ],
   "source": [
    "trading_analytics(Europe_center_book_equal.factor_signal_account()[-1][0])"
   ]
  },
  {
   "cell_type": "code",
   "execution_count": null,
   "metadata": {},
   "outputs": [],
   "source": []
  },
  {
   "cell_type": "code",
   "execution_count": 81,
   "metadata": {},
   "outputs": [],
   "source": [
    "Europe_center_book_rp=signal(abs_return,alpha_FI_size,alpha_FI_pnl,Book,index_mapping,'risk parity',0.015,\"Europe\",\\\n",
    "                             fundamental_dict)"
   ]
  },
  {
   "cell_type": "code",
   "execution_count": 34,
   "metadata": {},
   "outputs": [
    {
     "data": {
      "text/plain": [
       "(457,\n",
       " 0.48577680525164113,\n",
       " 1.4534626822124364,\n",
       " 0.03090056242621131,\n",
       " 0.03718184815650898,\n",
       " 0.8310658011442047,\n",
       " 0.06875966183592175)"
      ]
     },
     "execution_count": 34,
     "metadata": {},
     "output_type": "execute_result"
    }
   ],
   "source": [
    "trading_analytics(Europe_center_book_rp.index_signal_account()[2][0])"
   ]
  },
  {
   "cell_type": "code",
   "execution_count": 35,
   "metadata": {
    "scrolled": true
   },
   "outputs": [
    {
     "data": {
      "text/plain": [
       "(458,\n",
       " 0.4650655021834061,\n",
       " 1.7423132947792874,\n",
       " 0.04110542626894409,\n",
       " 0.033019729160226885,\n",
       " 1.2448747253341084,\n",
       " 0.04458224475833206)"
      ]
     },
     "execution_count": 35,
     "metadata": {},
     "output_type": "execute_result"
    }
   ],
   "source": [
    "trading_analytics(Europe_center_book_rp.index_hedged_portfolio[0])"
   ]
  },
  {
   "cell_type": "code",
   "execution_count": 36,
   "metadata": {},
   "outputs": [
    {
     "name": "stderr",
     "output_type": "stream",
     "text": [
      "C:\\Users\\Eric.Li\\AppData\\Local\\Continuum\\anaconda3\\lib\\site-packages\\pandas\\core\\indexing.py:357: SettingWithCopyWarning: \n",
      "A value is trying to be set on a copy of a slice from a DataFrame.\n",
      "Try using .loc[row_indexer,col_indexer] = value instead\n",
      "\n",
      "See the caveats in the documentation: http://pandas.pydata.org/pandas-docs/stable/indexing.html#indexing-view-versus-copy\n",
      "  self.obj[key] = _infer_fill_value(value)\n",
      "C:\\Users\\Eric.Li\\AppData\\Local\\Continuum\\anaconda3\\lib\\site-packages\\pandas\\core\\indexing.py:537: SettingWithCopyWarning: \n",
      "A value is trying to be set on a copy of a slice from a DataFrame.\n",
      "Try using .loc[row_indexer,col_indexer] = value instead\n",
      "\n",
      "See the caveats in the documentation: http://pandas.pydata.org/pandas-docs/stable/indexing.html#indexing-view-versus-copy\n",
      "  self.obj[item] = s\n",
      "C:\\Users\\Eric.Li\\AppData\\Local\\Continuum\\anaconda3\\lib\\site-packages\\ipykernel_launcher.py:20: SettingWithCopyWarning: \n",
      "A value is trying to be set on a copy of a slice from a DataFrame.\n",
      "Try using .loc[row_indexer,col_indexer] = value instead\n",
      "\n",
      "See the caveats in the documentation: http://pandas.pydata.org/pandas-docs/stable/indexing.html#indexing-view-versus-copy\n",
      "C:\\Users\\Eric.Li\\AppData\\Local\\Continuum\\anaconda3\\lib\\site-packages\\ipykernel_launcher.py:28: SettingWithCopyWarning: \n",
      "A value is trying to be set on a copy of a slice from a DataFrame.\n",
      "Try using .loc[row_indexer,col_indexer] = value instead\n",
      "\n",
      "See the caveats in the documentation: http://pandas.pydata.org/pandas-docs/stable/indexing.html#indexing-view-versus-copy\n"
     ]
    },
    {
     "data": {
      "text/plain": [
       "(580,\n",
       " 0.4689655172413793,\n",
       " 1.373359537772303,\n",
       " 0.02535321622775677,\n",
       " 0.0236656978520075,\n",
       " 1.071306512332833,\n",
       " 0.036451571900668944)"
      ]
     },
     "execution_count": 36,
     "metadata": {},
     "output_type": "execute_result"
    }
   ],
   "source": [
    "trading_analytics(Europe_center_book_rp.factor_signal_account()[-1][0])"
   ]
  },
  {
   "cell_type": "markdown",
   "metadata": {},
   "source": [
    "## 4.2 - US"
   ]
  },
  {
   "cell_type": "code",
   "execution_count": 83,
   "metadata": {},
   "outputs": [],
   "source": [
    "US_center_book_orig=signal(abs_return,alpha_FI_size,alpha_FI_pnl,Book,index_mapping,'original',0.015,\"US\",\\\n",
    "                               fundamental_dict)"
   ]
  },
  {
   "cell_type": "code",
   "execution_count": 38,
   "metadata": {},
   "outputs": [
    {
     "data": {
      "text/plain": [
       "(250,\n",
       " 0.424,\n",
       " 1.8144992687708537,\n",
       " 0.013344653774101989,\n",
       " 0.029397906792066508,\n",
       " 0.45393210708808884,\n",
       " 0.08093311432246264)"
      ]
     },
     "execution_count": 38,
     "metadata": {},
     "output_type": "execute_result"
    }
   ],
   "source": [
    "trading_analytics(US_center_book_orig.index_signal_account()[2][0])"
   ]
  },
  {
   "cell_type": "code",
   "execution_count": 39,
   "metadata": {},
   "outputs": [
    {
     "data": {
      "text/plain": [
       "(251,\n",
       " 0.42231075697211157,\n",
       " 1.593773020620537,\n",
       " 0.007882775745464032,\n",
       " 0.022719206540949645,\n",
       " 0.3469652750088753,\n",
       " 0.06293609447986592)"
      ]
     },
     "execution_count": 39,
     "metadata": {},
     "output_type": "execute_result"
    }
   ],
   "source": [
    "trading_analytics(US_center_book_orig.index_hedged_portfolio[0])"
   ]
  },
  {
   "cell_type": "code",
   "execution_count": 40,
   "metadata": {},
   "outputs": [
    {
     "name": "stderr",
     "output_type": "stream",
     "text": [
      "C:\\Users\\Eric.Li\\AppData\\Local\\Continuum\\anaconda3\\lib\\site-packages\\pandas\\core\\indexing.py:357: SettingWithCopyWarning: \n",
      "A value is trying to be set on a copy of a slice from a DataFrame.\n",
      "Try using .loc[row_indexer,col_indexer] = value instead\n",
      "\n",
      "See the caveats in the documentation: http://pandas.pydata.org/pandas-docs/stable/indexing.html#indexing-view-versus-copy\n",
      "  self.obj[key] = _infer_fill_value(value)\n",
      "C:\\Users\\Eric.Li\\AppData\\Local\\Continuum\\anaconda3\\lib\\site-packages\\pandas\\core\\indexing.py:537: SettingWithCopyWarning: \n",
      "A value is trying to be set on a copy of a slice from a DataFrame.\n",
      "Try using .loc[row_indexer,col_indexer] = value instead\n",
      "\n",
      "See the caveats in the documentation: http://pandas.pydata.org/pandas-docs/stable/indexing.html#indexing-view-versus-copy\n",
      "  self.obj[item] = s\n",
      "C:\\Users\\Eric.Li\\AppData\\Local\\Continuum\\anaconda3\\lib\\site-packages\\ipykernel_launcher.py:20: SettingWithCopyWarning: \n",
      "A value is trying to be set on a copy of a slice from a DataFrame.\n",
      "Try using .loc[row_indexer,col_indexer] = value instead\n",
      "\n",
      "See the caveats in the documentation: http://pandas.pydata.org/pandas-docs/stable/indexing.html#indexing-view-versus-copy\n",
      "C:\\Users\\Eric.Li\\AppData\\Local\\Continuum\\anaconda3\\lib\\site-packages\\ipykernel_launcher.py:28: SettingWithCopyWarning: \n",
      "A value is trying to be set on a copy of a slice from a DataFrame.\n",
      "Try using .loc[row_indexer,col_indexer] = value instead\n",
      "\n",
      "See the caveats in the documentation: http://pandas.pydata.org/pandas-docs/stable/indexing.html#indexing-view-versus-copy\n"
     ]
    },
    {
     "data": {
      "text/plain": [
       "(348,\n",
       " 0.41954022988505746,\n",
       " 1.4653905818354456,\n",
       " 0.003957388989093369,\n",
       " 0.018939794600513007,\n",
       " 0.208945718396871,\n",
       " 0.047157628438047494)"
      ]
     },
     "execution_count": 40,
     "metadata": {},
     "output_type": "execute_result"
    }
   ],
   "source": [
    "trading_analytics(US_center_book_orig.factor_signal_account()[-1][0])"
   ]
  },
  {
   "cell_type": "code",
   "execution_count": null,
   "metadata": {},
   "outputs": [],
   "source": []
  },
  {
   "cell_type": "code",
   "execution_count": 93,
   "metadata": {},
   "outputs": [],
   "source": [
    "US_center_book_equal=signal(abs_return,alpha_FI_size,alpha_FI_pnl,Book,index_mapping,'equal',0.015,\"US\",\\\n",
    "                             fundamental_dict)"
   ]
  },
  {
   "cell_type": "code",
   "execution_count": 94,
   "metadata": {},
   "outputs": [
    {
     "data": {
      "text/plain": [
       "(250,\n",
       " 0.464,\n",
       " 1.5711226694989437,\n",
       " 0.015809946535160435,\n",
       " 0.028636600509867233,\n",
       " 0.5520888043157514,\n",
       " 0.06061070832152626)"
      ]
     },
     "execution_count": 94,
     "metadata": {},
     "output_type": "execute_result"
    }
   ],
   "source": [
    "trading_analytics(US_center_book_equal.index_signal_account()[2][0])"
   ]
  },
  {
   "cell_type": "code",
   "execution_count": 95,
   "metadata": {},
   "outputs": [
    {
     "data": {
      "text/plain": [
       "(251,\n",
       " 0.47410358565737054,\n",
       " 1.458306066981798,\n",
       " 0.014001934842917896,\n",
       " 0.022009430564264073,\n",
       " 0.6361788780511358,\n",
       " 0.04195353591993001)"
      ]
     },
     "execution_count": 95,
     "metadata": {},
     "output_type": "execute_result"
    }
   ],
   "source": [
    "trading_analytics(US_center_book_equal.index_hedged_portfolio[0])"
   ]
  },
  {
   "cell_type": "code",
   "execution_count": 96,
   "metadata": {},
   "outputs": [
    {
     "name": "stderr",
     "output_type": "stream",
     "text": [
      "C:\\Users\\Eric.Li\\AppData\\Local\\Continuum\\anaconda3\\lib\\site-packages\\pandas\\core\\indexing.py:357: SettingWithCopyWarning: \n",
      "A value is trying to be set on a copy of a slice from a DataFrame.\n",
      "Try using .loc[row_indexer,col_indexer] = value instead\n",
      "\n",
      "See the caveats in the documentation: http://pandas.pydata.org/pandas-docs/stable/indexing.html#indexing-view-versus-copy\n",
      "  self.obj[key] = _infer_fill_value(value)\n",
      "C:\\Users\\Eric.Li\\AppData\\Local\\Continuum\\anaconda3\\lib\\site-packages\\pandas\\core\\indexing.py:537: SettingWithCopyWarning: \n",
      "A value is trying to be set on a copy of a slice from a DataFrame.\n",
      "Try using .loc[row_indexer,col_indexer] = value instead\n",
      "\n",
      "See the caveats in the documentation: http://pandas.pydata.org/pandas-docs/stable/indexing.html#indexing-view-versus-copy\n",
      "  self.obj[item] = s\n",
      "C:\\Users\\Eric.Li\\AppData\\Local\\Continuum\\anaconda3\\lib\\site-packages\\ipykernel_launcher.py:20: SettingWithCopyWarning: \n",
      "A value is trying to be set on a copy of a slice from a DataFrame.\n",
      "Try using .loc[row_indexer,col_indexer] = value instead\n",
      "\n",
      "See the caveats in the documentation: http://pandas.pydata.org/pandas-docs/stable/indexing.html#indexing-view-versus-copy\n",
      "C:\\Users\\Eric.Li\\AppData\\Local\\Continuum\\anaconda3\\lib\\site-packages\\ipykernel_launcher.py:28: SettingWithCopyWarning: \n",
      "A value is trying to be set on a copy of a slice from a DataFrame.\n",
      "Try using .loc[row_indexer,col_indexer] = value instead\n",
      "\n",
      "See the caveats in the documentation: http://pandas.pydata.org/pandas-docs/stable/indexing.html#indexing-view-versus-copy\n"
     ]
    },
    {
     "data": {
      "text/plain": [
       "(348,\n",
       " 0.4511494252873563,\n",
       " 1.3837004123389651,\n",
       " 0.0089298205310262,\n",
       " 0.01855186440684084,\n",
       " 0.48134356392414157,\n",
       " 0.028771125552471077)"
      ]
     },
     "execution_count": 96,
     "metadata": {},
     "output_type": "execute_result"
    }
   ],
   "source": [
    "trading_analytics(US_center_book_equal.factor_signal_account()[-1][0])"
   ]
  },
  {
   "cell_type": "code",
   "execution_count": null,
   "metadata": {},
   "outputs": [],
   "source": []
  },
  {
   "cell_type": "code",
   "execution_count": 85,
   "metadata": {},
   "outputs": [],
   "source": [
    "US_center_book_rp=signal(abs_return,alpha_FI_size,alpha_FI_pnl,Book,index_mapping,'risk parity',0.015,\"US\",\\\n",
    "                             fundamental_dict)"
   ]
  },
  {
   "cell_type": "code",
   "execution_count": 42,
   "metadata": {},
   "outputs": [
    {
     "data": {
      "text/plain": [
       "(250,\n",
       " 0.464,\n",
       " 1.5934971761379952,\n",
       " 0.018806351138608512,\n",
       " 0.030867770338690242,\n",
       " 0.6092552501285226,\n",
       " 0.05862797377465012)"
      ]
     },
     "execution_count": 42,
     "metadata": {},
     "output_type": "execute_result"
    }
   ],
   "source": [
    "trading_analytics(US_center_book_rp.index_signal_account()[2][0])"
   ]
  },
  {
   "cell_type": "code",
   "execution_count": 43,
   "metadata": {},
   "outputs": [
    {
     "data": {
      "text/plain": [
       "(251,\n",
       " 0.47808764940239046,\n",
       " 1.5402407198233619,\n",
       " 0.020201034693318576,\n",
       " 0.023906312061491557,\n",
       " 0.8450084078781241,\n",
       " 0.03441853081103774)"
      ]
     },
     "execution_count": 43,
     "metadata": {},
     "output_type": "execute_result"
    }
   ],
   "source": [
    "trading_analytics(US_center_book_rp.index_hedged_portfolio[0])"
   ]
  },
  {
   "cell_type": "code",
   "execution_count": 44,
   "metadata": {},
   "outputs": [
    {
     "name": "stderr",
     "output_type": "stream",
     "text": [
      "C:\\Users\\Eric.Li\\AppData\\Local\\Continuum\\anaconda3\\lib\\site-packages\\pandas\\core\\indexing.py:357: SettingWithCopyWarning: \n",
      "A value is trying to be set on a copy of a slice from a DataFrame.\n",
      "Try using .loc[row_indexer,col_indexer] = value instead\n",
      "\n",
      "See the caveats in the documentation: http://pandas.pydata.org/pandas-docs/stable/indexing.html#indexing-view-versus-copy\n",
      "  self.obj[key] = _infer_fill_value(value)\n",
      "C:\\Users\\Eric.Li\\AppData\\Local\\Continuum\\anaconda3\\lib\\site-packages\\pandas\\core\\indexing.py:537: SettingWithCopyWarning: \n",
      "A value is trying to be set on a copy of a slice from a DataFrame.\n",
      "Try using .loc[row_indexer,col_indexer] = value instead\n",
      "\n",
      "See the caveats in the documentation: http://pandas.pydata.org/pandas-docs/stable/indexing.html#indexing-view-versus-copy\n",
      "  self.obj[item] = s\n",
      "C:\\Users\\Eric.Li\\AppData\\Local\\Continuum\\anaconda3\\lib\\site-packages\\ipykernel_launcher.py:20: SettingWithCopyWarning: \n",
      "A value is trying to be set on a copy of a slice from a DataFrame.\n",
      "Try using .loc[row_indexer,col_indexer] = value instead\n",
      "\n",
      "See the caveats in the documentation: http://pandas.pydata.org/pandas-docs/stable/indexing.html#indexing-view-versus-copy\n",
      "C:\\Users\\Eric.Li\\AppData\\Local\\Continuum\\anaconda3\\lib\\site-packages\\ipykernel_launcher.py:28: SettingWithCopyWarning: \n",
      "A value is trying to be set on a copy of a slice from a DataFrame.\n",
      "Try using .loc[row_indexer,col_indexer] = value instead\n",
      "\n",
      "See the caveats in the documentation: http://pandas.pydata.org/pandas-docs/stable/indexing.html#indexing-view-versus-copy\n"
     ]
    },
    {
     "data": {
      "text/plain": [
       "(348,\n",
       " 0.46551724137931033,\n",
       " 1.4032283874394407,\n",
       " 0.015531149339424788,\n",
       " 0.020177121362785603,\n",
       " 0.7697405918403316,\n",
       " 0.022130470345674613)"
      ]
     },
     "execution_count": 44,
     "metadata": {},
     "output_type": "execute_result"
    }
   ],
   "source": [
    "trading_analytics(US_center_book_rp.factor_signal_account()[-1][0])"
   ]
  },
  {
   "cell_type": "markdown",
   "metadata": {},
   "source": [
    "## 4.3 - Asia"
   ]
  },
  {
   "cell_type": "code",
   "execution_count": 87,
   "metadata": {},
   "outputs": [],
   "source": [
    "Asia_center_book_orig=signal(abs_return,alpha_FI_size,alpha_FI_pnl,Book,index_mapping,'original',0.015,\"Asia\",\\\n",
    "                               fundamental_dict)"
   ]
  },
  {
   "cell_type": "code",
   "execution_count": 46,
   "metadata": {},
   "outputs": [
    {
     "name": "stderr",
     "output_type": "stream",
     "text": [
      "C:\\Users\\Eric.Li\\AppData\\Local\\Continuum\\anaconda3\\lib\\site-packages\\pandas\\core\\generic.py:5752: RuntimeWarning: '<' not supported between instances of 'str' and 'tuple', sort order is undefined for incomparable objects\n",
      "  other.columns, how=join, level=level, return_indexers=True)\n"
     ]
    },
    {
     "data": {
      "text/plain": [
       "(13,\n",
       " 0.6153846153846154,\n",
       " 3.8225605136580807,\n",
       " 0.0029818854803713712,\n",
       " 0.0050856838466460524,\n",
       " 0.5863293060062884,\n",
       " 0.006833356831159154)"
      ]
     },
     "execution_count": 46,
     "metadata": {},
     "output_type": "execute_result"
    }
   ],
   "source": [
    "trading_analytics(Asia_center_book_orig.index_signal_account()[2][0])"
   ]
  },
  {
   "cell_type": "code",
   "execution_count": 47,
   "metadata": {},
   "outputs": [
    {
     "data": {
      "text/plain": [
       "(17,\n",
       " 0.5294117647058824,\n",
       " 1.6107335075906444,\n",
       " 0.0016037102678623238,\n",
       " 0.004472039948326826,\n",
       " 0.3586082160250688,\n",
       " 0.006124157719441414)"
      ]
     },
     "execution_count": 47,
     "metadata": {},
     "output_type": "execute_result"
    }
   ],
   "source": [
    "trading_analytics(Asia_center_book_orig.index_hedged_portfolio[0])"
   ]
  },
  {
   "cell_type": "code",
   "execution_count": 48,
   "metadata": {},
   "outputs": [
    {
     "name": "stderr",
     "output_type": "stream",
     "text": [
      "C:\\Users\\Eric.Li\\AppData\\Local\\Continuum\\anaconda3\\lib\\site-packages\\pandas\\core\\indexing.py:357: SettingWithCopyWarning: \n",
      "A value is trying to be set on a copy of a slice from a DataFrame.\n",
      "Try using .loc[row_indexer,col_indexer] = value instead\n",
      "\n",
      "See the caveats in the documentation: http://pandas.pydata.org/pandas-docs/stable/indexing.html#indexing-view-versus-copy\n",
      "  self.obj[key] = _infer_fill_value(value)\n",
      "C:\\Users\\Eric.Li\\AppData\\Local\\Continuum\\anaconda3\\lib\\site-packages\\pandas\\core\\indexing.py:537: SettingWithCopyWarning: \n",
      "A value is trying to be set on a copy of a slice from a DataFrame.\n",
      "Try using .loc[row_indexer,col_indexer] = value instead\n",
      "\n",
      "See the caveats in the documentation: http://pandas.pydata.org/pandas-docs/stable/indexing.html#indexing-view-versus-copy\n",
      "  self.obj[item] = s\n",
      "C:\\Users\\Eric.Li\\AppData\\Local\\Continuum\\anaconda3\\lib\\site-packages\\ipykernel_launcher.py:20: SettingWithCopyWarning: \n",
      "A value is trying to be set on a copy of a slice from a DataFrame.\n",
      "Try using .loc[row_indexer,col_indexer] = value instead\n",
      "\n",
      "See the caveats in the documentation: http://pandas.pydata.org/pandas-docs/stable/indexing.html#indexing-view-versus-copy\n",
      "C:\\Users\\Eric.Li\\AppData\\Local\\Continuum\\anaconda3\\lib\\site-packages\\ipykernel_launcher.py:28: SettingWithCopyWarning: \n",
      "A value is trying to be set on a copy of a slice from a DataFrame.\n",
      "Try using .loc[row_indexer,col_indexer] = value instead\n",
      "\n",
      "See the caveats in the documentation: http://pandas.pydata.org/pandas-docs/stable/indexing.html#indexing-view-versus-copy\n",
      "C:\\Users\\Eric.Li\\AppData\\Local\\Continuum\\anaconda3\\lib\\site-packages\\ipykernel_launcher.py:139: FutureWarning: \n",
      "Passing list-likes to .loc or [] with any missing label will raise\n",
      "KeyError in the future, you can use .reindex() as an alternative.\n",
      "\n",
      "See the documentation here:\n",
      "http://pandas.pydata.org/pandas-docs/stable/indexing.html#deprecate-loc-reindex-listlike\n"
     ]
    },
    {
     "data": {
      "text/plain": [
       "(36,\n",
       " 0.4444444444444444,\n",
       " 1.0594487249173397,\n",
       " -0.00044933288028858875,\n",
       " 0.0044501029726160424,\n",
       " -0.10097134449552825,\n",
       " 0.0073511149125801145)"
      ]
     },
     "execution_count": 48,
     "metadata": {},
     "output_type": "execute_result"
    }
   ],
   "source": [
    "trading_analytics(Asia_center_book_orig.factor_signal_account()[-1][0])"
   ]
  },
  {
   "cell_type": "code",
   "execution_count": null,
   "metadata": {},
   "outputs": [],
   "source": []
  },
  {
   "cell_type": "code",
   "execution_count": 89,
   "metadata": {},
   "outputs": [],
   "source": [
    "Asia_center_book_equal=signal(abs_return,alpha_FI_size,alpha_FI_pnl,Book,index_mapping,'equal',0.015,\"Asia\",\\\n",
    "                             fundamental_dict)"
   ]
  },
  {
   "cell_type": "code",
   "execution_count": 98,
   "metadata": {},
   "outputs": [
    {
     "name": "stderr",
     "output_type": "stream",
     "text": [
      "C:\\Users\\Eric.Li\\AppData\\Local\\Continuum\\anaconda3\\lib\\site-packages\\pandas\\core\\generic.py:5752: RuntimeWarning: '<' not supported between instances of 'str' and 'tuple', sort order is undefined for incomparable objects\n",
      "  other.columns, how=join, level=level, return_indexers=True)\n"
     ]
    },
    {
     "data": {
      "text/plain": [
       "(13,\n",
       " 0.6153846153846154,\n",
       " 2.1189669570405463,\n",
       " 0.002790068409695312,\n",
       " 0.006826346081328672,\n",
       " 0.40872062102545154,\n",
       " 0.01474264431989547)"
      ]
     },
     "execution_count": 98,
     "metadata": {},
     "output_type": "execute_result"
    }
   ],
   "source": [
    "trading_analytics(Asia_center_book_equal.index_signal_account()[2][0])"
   ]
  },
  {
   "cell_type": "code",
   "execution_count": 99,
   "metadata": {},
   "outputs": [
    {
     "data": {
      "text/plain": [
       "(17,\n",
       " 0.5882352941176471,\n",
       " 1.1071440437657754,\n",
       " 0.001636605162275595,\n",
       " 0.00609800791880117,\n",
       " 0.2683835744505464,\n",
       " 0.00927587789831752)"
      ]
     },
     "execution_count": 99,
     "metadata": {},
     "output_type": "execute_result"
    }
   ],
   "source": [
    "trading_analytics(Asia_center_book_equal.index_hedged_portfolio[0])"
   ]
  },
  {
   "cell_type": "code",
   "execution_count": 100,
   "metadata": {},
   "outputs": [
    {
     "name": "stderr",
     "output_type": "stream",
     "text": [
      "C:\\Users\\Eric.Li\\AppData\\Local\\Continuum\\anaconda3\\lib\\site-packages\\pandas\\core\\indexing.py:357: SettingWithCopyWarning: \n",
      "A value is trying to be set on a copy of a slice from a DataFrame.\n",
      "Try using .loc[row_indexer,col_indexer] = value instead\n",
      "\n",
      "See the caveats in the documentation: http://pandas.pydata.org/pandas-docs/stable/indexing.html#indexing-view-versus-copy\n",
      "  self.obj[key] = _infer_fill_value(value)\n",
      "C:\\Users\\Eric.Li\\AppData\\Local\\Continuum\\anaconda3\\lib\\site-packages\\pandas\\core\\indexing.py:537: SettingWithCopyWarning: \n",
      "A value is trying to be set on a copy of a slice from a DataFrame.\n",
      "Try using .loc[row_indexer,col_indexer] = value instead\n",
      "\n",
      "See the caveats in the documentation: http://pandas.pydata.org/pandas-docs/stable/indexing.html#indexing-view-versus-copy\n",
      "  self.obj[item] = s\n",
      "C:\\Users\\Eric.Li\\AppData\\Local\\Continuum\\anaconda3\\lib\\site-packages\\ipykernel_launcher.py:20: SettingWithCopyWarning: \n",
      "A value is trying to be set on a copy of a slice from a DataFrame.\n",
      "Try using .loc[row_indexer,col_indexer] = value instead\n",
      "\n",
      "See the caveats in the documentation: http://pandas.pydata.org/pandas-docs/stable/indexing.html#indexing-view-versus-copy\n",
      "C:\\Users\\Eric.Li\\AppData\\Local\\Continuum\\anaconda3\\lib\\site-packages\\ipykernel_launcher.py:28: SettingWithCopyWarning: \n",
      "A value is trying to be set on a copy of a slice from a DataFrame.\n",
      "Try using .loc[row_indexer,col_indexer] = value instead\n",
      "\n",
      "See the caveats in the documentation: http://pandas.pydata.org/pandas-docs/stable/indexing.html#indexing-view-versus-copy\n",
      "C:\\Users\\Eric.Li\\AppData\\Local\\Continuum\\anaconda3\\lib\\site-packages\\ipykernel_launcher.py:139: FutureWarning: \n",
      "Passing list-likes to .loc or [] with any missing label will raise\n",
      "KeyError in the future, you can use .reindex() as an alternative.\n",
      "\n",
      "See the documentation here:\n",
      "http://pandas.pydata.org/pandas-docs/stable/indexing.html#deprecate-loc-reindex-listlike\n"
     ]
    },
    {
     "data": {
      "text/plain": [
       "(36,\n",
       " 0.4722222222222222,\n",
       " 1.2232205962491094,\n",
       " 0.000442426300101495,\n",
       " 0.005633162227042382,\n",
       " 0.0785395985895093,\n",
       " 0.008498080157816279)"
      ]
     },
     "execution_count": 100,
     "metadata": {},
     "output_type": "execute_result"
    }
   ],
   "source": [
    "trading_analytics(Asia_center_book_equal.factor_signal_account()[-1][0])"
   ]
  },
  {
   "cell_type": "code",
   "execution_count": null,
   "metadata": {},
   "outputs": [],
   "source": []
  },
  {
   "cell_type": "code",
   "execution_count": 65,
   "metadata": {},
   "outputs": [],
   "source": [
    "Asia_center_book_rp=signal(abs_return,alpha_FI_size,alpha_FI_pnl,Book,index_mapping,'risk parity',0.015,\"Asia\",\\\n",
    "                             fundamental_dict)"
   ]
  },
  {
   "cell_type": "code",
   "execution_count": 51,
   "metadata": {},
   "outputs": [
    {
     "name": "stderr",
     "output_type": "stream",
     "text": [
      "C:\\Users\\Eric.Li\\AppData\\Local\\Continuum\\anaconda3\\lib\\site-packages\\pandas\\core\\generic.py:5752: RuntimeWarning: '<' not supported between instances of 'str' and 'tuple', sort order is undefined for incomparable objects\n",
      "  other.columns, how=join, level=level, return_indexers=True)\n"
     ]
    },
    {
     "data": {
      "text/plain": [
       "(13,\n",
       " 0.6153846153846154,\n",
       " 1.7014118384241854,\n",
       " 0.002804776847562307,\n",
       " 0.007448922130335544,\n",
       " 0.37653459097658243,\n",
       " 0.016837228057054454)"
      ]
     },
     "execution_count": 51,
     "metadata": {},
     "output_type": "execute_result"
    }
   ],
   "source": [
    "trading_analytics(Asia_center_book_rp.index_signal_account()[2][0])"
   ]
  },
  {
   "cell_type": "code",
   "execution_count": 52,
   "metadata": {},
   "outputs": [
    {
     "data": {
      "text/plain": [
       "(17,\n",
       " 0.5882352941176471,\n",
       " 1.0985438839825963,\n",
       " 0.001809506059353927,\n",
       " 0.00636595609626826,\n",
       " 0.28424733566960414,\n",
       " 0.008717398651622466)"
      ]
     },
     "execution_count": 52,
     "metadata": {},
     "output_type": "execute_result"
    }
   ],
   "source": [
    "trading_analytics(Asia_center_book_rp.index_hedged_portfolio[0])"
   ]
  },
  {
   "cell_type": "code",
   "execution_count": 53,
   "metadata": {},
   "outputs": [
    {
     "name": "stderr",
     "output_type": "stream",
     "text": [
      "C:\\Users\\Eric.Li\\AppData\\Local\\Continuum\\anaconda3\\lib\\site-packages\\pandas\\core\\indexing.py:357: SettingWithCopyWarning: \n",
      "A value is trying to be set on a copy of a slice from a DataFrame.\n",
      "Try using .loc[row_indexer,col_indexer] = value instead\n",
      "\n",
      "See the caveats in the documentation: http://pandas.pydata.org/pandas-docs/stable/indexing.html#indexing-view-versus-copy\n",
      "  self.obj[key] = _infer_fill_value(value)\n",
      "C:\\Users\\Eric.Li\\AppData\\Local\\Continuum\\anaconda3\\lib\\site-packages\\pandas\\core\\indexing.py:537: SettingWithCopyWarning: \n",
      "A value is trying to be set on a copy of a slice from a DataFrame.\n",
      "Try using .loc[row_indexer,col_indexer] = value instead\n",
      "\n",
      "See the caveats in the documentation: http://pandas.pydata.org/pandas-docs/stable/indexing.html#indexing-view-versus-copy\n",
      "  self.obj[item] = s\n",
      "C:\\Users\\Eric.Li\\AppData\\Local\\Continuum\\anaconda3\\lib\\site-packages\\ipykernel_launcher.py:20: SettingWithCopyWarning: \n",
      "A value is trying to be set on a copy of a slice from a DataFrame.\n",
      "Try using .loc[row_indexer,col_indexer] = value instead\n",
      "\n",
      "See the caveats in the documentation: http://pandas.pydata.org/pandas-docs/stable/indexing.html#indexing-view-versus-copy\n",
      "C:\\Users\\Eric.Li\\AppData\\Local\\Continuum\\anaconda3\\lib\\site-packages\\ipykernel_launcher.py:28: SettingWithCopyWarning: \n",
      "A value is trying to be set on a copy of a slice from a DataFrame.\n",
      "Try using .loc[row_indexer,col_indexer] = value instead\n",
      "\n",
      "See the caveats in the documentation: http://pandas.pydata.org/pandas-docs/stable/indexing.html#indexing-view-versus-copy\n",
      "C:\\Users\\Eric.Li\\AppData\\Local\\Continuum\\anaconda3\\lib\\site-packages\\ipykernel_launcher.py:139: FutureWarning: \n",
      "Passing list-likes to .loc or [] with any missing label will raise\n",
      "KeyError in the future, you can use .reindex() as an alternative.\n",
      "\n",
      "See the documentation here:\n",
      "http://pandas.pydata.org/pandas-docs/stable/indexing.html#deprecate-loc-reindex-listlike\n"
     ]
    },
    {
     "data": {
      "text/plain": [
       "(36,\n",
       " 0.4722222222222222,\n",
       " 1.0303259192971517,\n",
       " -0.0004805773237802624,\n",
       " 0.0059845589843512915,\n",
       " -0.08030288030194017,\n",
       " 0.010888896422804883)"
      ]
     },
     "execution_count": 53,
     "metadata": {},
     "output_type": "execute_result"
    }
   ],
   "source": [
    "trading_analytics(Asia_center_book_rp.factor_signal_account()[-1][0])"
   ]
  },
  {
   "cell_type": "markdown",
   "metadata": {},
   "source": [
    "## 4.4 - Combine"
   ]
  },
  {
   "cell_type": "code",
   "execution_count": 91,
   "metadata": {},
   "outputs": [],
   "source": [
    "index_hedged_alpha_combine=signal_combine([Europe_center_book_orig.index_hedged_alpha,\n",
    "                US_center_book_orig.index_hedged_alpha,\n",
    "                Asia_center_book_orig.index_hedged_alpha]\n",
    "               ,1000000000,1000000000)"
   ]
  },
  {
   "cell_type": "code",
   "execution_count": 137,
   "metadata": {},
   "outputs": [],
   "source": [
    "original_size=index_hedged_alpha_combine[2].mean().sort_index()"
   ]
  },
  {
   "cell_type": "code",
   "execution_count": 138,
   "metadata": {},
   "outputs": [],
   "source": [
    "original_size.name='Original'"
   ]
  },
  {
   "cell_type": "code",
   "execution_count": 139,
   "metadata": {},
   "outputs": [],
   "source": [
    "size_df=original_size.to_frame()"
   ]
  },
  {
   "cell_type": "code",
   "execution_count": 140,
   "metadata": {},
   "outputs": [],
   "source": [
    "size_df.loc[:,\"Risk parity\"]=index_hedged_alpha_rp_combine[2].mean().sort_index()"
   ]
  },
  {
   "cell_type": "code",
   "execution_count": 142,
   "metadata": {},
   "outputs": [],
   "source": [
    "size_df.to_csv(\"size_df.csv\")"
   ]
  },
  {
   "cell_type": "code",
   "execution_count": null,
   "metadata": {},
   "outputs": [],
   "source": []
  },
  {
   "cell_type": "code",
   "execution_count": null,
   "metadata": {},
   "outputs": [],
   "source": []
  },
  {
   "cell_type": "code",
   "execution_count": 117,
   "metadata": {},
   "outputs": [],
   "source": [
    "size_diff=index_hedged_alpha_rp_combine[2].mean().sort_index()-index_hedged_alpha_combine[2].mean(axis=0).sort_index()"
   ]
  },
  {
   "cell_type": "code",
   "execution_count": 120,
   "metadata": {},
   "outputs": [],
   "source": [
    "size_diff.sort_values().to_csv('diff.csv')"
   ]
  },
  {
   "cell_type": "code",
   "execution_count": 125,
   "metadata": {},
   "outputs": [
    {
     "data": {
      "text/plain": [
       "0.011318733170666367"
      ]
     },
     "execution_count": 125,
     "metadata": {},
     "output_type": "execute_result"
    }
   ],
   "source": [
    "np.abs(index_hedged_alpha_combine[2].mean(axis=0)).sort_index().mean()"
   ]
  },
  {
   "cell_type": "code",
   "execution_count": 124,
   "metadata": {},
   "outputs": [
    {
     "data": {
      "text/plain": [
       "0.012431794512691021"
      ]
     },
     "execution_count": 124,
     "metadata": {},
     "output_type": "execute_result"
    }
   ],
   "source": [
    "np.abs(index_hedged_alpha_rp_combine[2].mean(axis=0)).sort_index().mean()"
   ]
  },
  {
   "cell_type": "code",
   "execution_count": null,
   "metadata": {},
   "outputs": [],
   "source": []
  },
  {
   "cell_type": "code",
   "execution_count": 54,
   "metadata": {},
   "outputs": [
    {
     "data": {
      "text/plain": [
       "(13,\n",
       " 0.6153846153846154,\n",
       " 3.8225605136580807,\n",
       " 0.0029818854803713712,\n",
       " 0.0050856838466460524,\n",
       " 0.5863293060062884,\n",
       " 0.006833356831159154)"
      ]
     },
     "execution_count": 54,
     "metadata": {},
     "output_type": "execute_result"
    }
   ],
   "source": [
    "trading_analytics(Asia_center_book_orig.index_hedged_alpha[0])"
   ]
  },
  {
   "cell_type": "code",
   "execution_count": 92,
   "metadata": {},
   "outputs": [
    {
     "data": {
      "image/png": "[encoded data removed]",
      "text/plain": [
       "<matplotlib.figure.Figure at 0x247b1198>"
      ]
     },
     "metadata": {},
     "output_type": "display_data"
    }
   ],
   "source": [
    "plot_signal('FI Pre and FI Val original sizing',[6,4],index_hedged_alpha_combine)"
   ]
  },
  {
   "cell_type": "code",
   "execution_count": null,
   "metadata": {},
   "outputs": [],
   "source": []
  },
  {
   "cell_type": "code",
   "execution_count": 179,
   "metadata": {},
   "outputs": [],
   "source": [
    "index_hedged_portfolio_combine=signal_combine([Europe_center_book_orig.index_hedged_portfolio,\n",
    "                US_center_book_orig.index_hedged_portfolio,\n",
    "                Asia_center_book_orig.index_hedged_portfolio]\n",
    "               ,1000000000,1000000000)"
   ]
  },
  {
   "cell_type": "code",
   "execution_count": 180,
   "metadata": {
    "scrolled": true
   },
   "outputs": [
    {
     "data": {
      "text/plain": [
       "(726,\n",
       " 0.4256198347107438,\n",
       " 1.9400764117040727,\n",
       " 0.04927679647658034,\n",
       " 0.039335852166490576,\n",
       " 1.2527196885938638,\n",
       " 0.06082949198597143)"
      ]
     },
     "execution_count": 180,
     "metadata": {},
     "output_type": "execute_result"
    }
   ],
   "source": [
    "trading_analytics(index_hedged_portfolio_combine[0])"
   ]
  },
  {
   "cell_type": "code",
   "execution_count": 181,
   "metadata": {},
   "outputs": [
    {
     "data": {
      "image/png": "[encoded data removed]",
      "text/plain": [
       "<matplotlib.figure.Figure at 0x2ab68748>"
      ]
     },
     "metadata": {},
     "output_type": "display_data"
    }
   ],
   "source": [
    "plot_signal('Original sizing/index hedging',[6,4],index_hedged_portfolio_combine)"
   ]
  },
  {
   "cell_type": "code",
   "execution_count": null,
   "metadata": {},
   "outputs": [],
   "source": []
  },
  {
   "cell_type": "code",
   "execution_count": 81,
   "metadata": {},
   "outputs": [],
   "source": [
    "factor_hedged_portfolio_combine=signal_combine([Europe_center_book_orig.factor_hedged_portfolio,\n",
    "                US_center_book_orig.factor_hedged_portfolio,\n",
    "                Asia_center_book_orig.factor_hedged_portfolio]\n",
    "               ,1000000000,1000000000)"
   ]
  },
  {
   "cell_type": "code",
   "execution_count": 82,
   "metadata": {},
   "outputs": [
    {
     "data": {
      "text/plain": [
       "(964,\n",
       " 0.4336099585062241,\n",
       " 1.5218894138733963,\n",
       " 0.02786737710208409,\n",
       " 0.029660993473883686,\n",
       " 0.9395294573198008,\n",
       " 0.05325543303171221)"
      ]
     },
     "execution_count": 82,
     "metadata": {},
     "output_type": "execute_result"
    }
   ],
   "source": [
    "trading_analytics(factor_hedged_portfolio_combine[0])"
   ]
  },
  {
   "cell_type": "code",
   "execution_count": 171,
   "metadata": {},
   "outputs": [
    {
     "data": {
      "image/png": "[encoded data removed]",
      "text/plain": [
       "<matplotlib.figure.Figure at 0x388711d0>"
      ]
     },
     "metadata": {},
     "output_type": "display_data"
    }
   ],
   "source": [
    "plot_signal('Original sizing/factor hedging',[6,4],factor_hedged_portfolio_combine)"
   ]
  },
  {
   "cell_type": "code",
   "execution_count": null,
   "metadata": {},
   "outputs": [],
   "source": []
  },
  {
   "cell_type": "code",
   "execution_count": 101,
   "metadata": {},
   "outputs": [],
   "source": [
    "index_hedged_alpha_equal_combine=signal_combine([Europe_center_book_equal.index_hedged_alpha,\n",
    "                US_center_book_equal.index_hedged_alpha,\n",
    "                Asia_center_book_equal.index_hedged_alpha]\n",
    "               ,1000000000,1000000000)"
   ]
  },
  {
   "cell_type": "code",
   "execution_count": 102,
   "metadata": {},
   "outputs": [
    {
     "data": {
      "text/plain": [
       "(720,\n",
       " 0.4791666666666667,\n",
       " 1.4098377651214395,\n",
       " 0.036608579419554754,\n",
       " 0.047201601656701626,\n",
       " 0.7755791781348824,\n",
       " 0.07634435830540509)"
      ]
     },
     "execution_count": 102,
     "metadata": {},
     "output_type": "execute_result"
    }
   ],
   "source": [
    "trading_analytics(index_hedged_alpha_equal_combine[0])"
   ]
  },
  {
   "cell_type": "code",
   "execution_count": 172,
   "metadata": {},
   "outputs": [
    {
     "data": {
      "image/png": "[encoded data removed]",
      "text/plain": [
       "<matplotlib.figure.Figure at 0x75a9dfd0>"
      ]
     },
     "metadata": {},
     "output_type": "display_data"
    }
   ],
   "source": [
    "plot_signal('Equal sizing/pure alpha',[6,4],index_hedged_alpha_equal_combine)"
   ]
  },
  {
   "cell_type": "code",
   "execution_count": null,
   "metadata": {},
   "outputs": [],
   "source": []
  },
  {
   "cell_type": "code",
   "execution_count": 176,
   "metadata": {},
   "outputs": [],
   "source": [
    "index_hedged_portfolio_equal_combine=signal_combine([Europe_center_book_equal.index_hedged_portfolio,\n",
    "                US_center_book_equal.index_hedged_portfolio,\n",
    "                Asia_center_book_equal.index_hedged_portfolio]\n",
    "               ,1000000000,1000000000)"
   ]
  },
  {
   "cell_type": "code",
   "execution_count": 177,
   "metadata": {},
   "outputs": [
    {
     "data": {
      "text/plain": [
       "(726,\n",
       " 0.47107438016528924,\n",
       " 1.556526297854126,\n",
       " 0.04664683388763269,\n",
       " 0.03848654087603843,\n",
       " 1.2120297856301974,\n",
       " 0.0499194456453429)"
      ]
     },
     "execution_count": 177,
     "metadata": {},
     "output_type": "execute_result"
    }
   ],
   "source": [
    "trading_analytics(index_hedged_portfolio_equal_combine[0])"
   ]
  },
  {
   "cell_type": "code",
   "execution_count": 182,
   "metadata": {},
   "outputs": [
    {
     "data": {
      "image/png": "[encoded data removed]",
      "text/plain": [
       "<matplotlib.figure.Figure at 0x9480bfd0>"
      ]
     },
     "metadata": {},
     "output_type": "display_data"
    }
   ],
   "source": [
    "plot_signal('Equal sizing/index hedging',[6,4],index_hedged_portfolio_equal_combine)"
   ]
  },
  {
   "cell_type": "code",
   "execution_count": null,
   "metadata": {},
   "outputs": [],
   "source": []
  },
  {
   "cell_type": "code",
   "execution_count": 183,
   "metadata": {},
   "outputs": [],
   "source": [
    "factor_hedged_portfolio_equal_combine=signal_combine([Europe_center_book_equal.factor_hedged_portfolio,\n",
    "                US_center_book_equal.factor_hedged_portfolio,\n",
    "                Asia_center_book_equal.factor_hedged_portfolio]\n",
    "               ,1000000000,1000000000)"
   ]
  },
  {
   "cell_type": "code",
   "execution_count": 184,
   "metadata": {},
   "outputs": [
    {
     "data": {
      "text/plain": [
       "(964,\n",
       " 0.45954356846473027,\n",
       " 1.3515444699021646,\n",
       " 0.02660354573481838,\n",
       " 0.02863986843617744,\n",
       " 0.9288990204023839,\n",
       " 0.04553261233940553)"
      ]
     },
     "execution_count": 184,
     "metadata": {},
     "output_type": "execute_result"
    }
   ],
   "source": [
    "trading_analytics(factor_hedged_portfolio_equal_combine[0])"
   ]
  },
  {
   "cell_type": "code",
   "execution_count": 185,
   "metadata": {},
   "outputs": [
    {
     "data": {
      "image/png": "[encoded data removed]",
      "text/plain": [
       "<matplotlib.figure.Figure at 0x9f61bf60>"
      ]
     },
     "metadata": {},
     "output_type": "display_data"
    }
   ],
   "source": [
    "plot_signal('Equal factor hedged',[6,4],factor_hedged_portfolio_equal_combine)"
   ]
  },
  {
   "cell_type": "code",
   "execution_count": null,
   "metadata": {},
   "outputs": [],
   "source": []
  },
  {
   "cell_type": "code",
   "execution_count": 83,
   "metadata": {},
   "outputs": [],
   "source": [
    "index_hedged_alpha_rp_combine=signal_combine([Europe_center_book_rp.index_hedged_alpha,\n",
    "                US_center_book_rp.index_hedged_alpha,\n",
    "                Asia_center_book_rp.index_hedged_alpha]\n",
    "               ,1000000000,1000000000)"
   ]
  },
  {
   "cell_type": "code",
   "execution_count": 84,
   "metadata": {},
   "outputs": [
    {
     "data": {
      "text/plain": [
       "(720,\n",
       " 0.48055555555555557,\n",
       " 1.5039604733378134,\n",
       " 0.05056004733172359,\n",
       " 0.04914141216582175,\n",
       " 1.0288684248860174,\n",
       " 0.07356974832821805)"
      ]
     },
     "execution_count": 84,
     "metadata": {},
     "output_type": "execute_result"
    }
   ],
   "source": [
    "trading_analytics(index_hedged_alpha_rp_combine[0])"
   ]
  },
  {
   "cell_type": "code",
   "execution_count": 186,
   "metadata": {},
   "outputs": [
    {
     "data": {
      "image/png": "[encoded data removed]",
      "text/plain": [
       "<matplotlib.figure.Figure at 0x718eafd0>"
      ]
     },
     "metadata": {},
     "output_type": "display_data"
    }
   ],
   "source": [
    "plot_signal('Risk parity sizing/pure alpha',[6,4],index_hedged_alpha_rp_combine)"
   ]
  },
  {
   "cell_type": "code",
   "execution_count": null,
   "metadata": {},
   "outputs": [],
   "source": []
  },
  {
   "cell_type": "code",
   "execution_count": 112,
   "metadata": {},
   "outputs": [],
   "source": [
    "index_hedged_alpha_rp_combine=signal_combine([Europe_center_book_rp.index_hedged_alpha,\n",
    "                US_center_book_rp.index_hedged_alpha,\n",
    "                Asia_center_book_rp.index_hedged_alpha]\n",
    "               ,1000000000,700000000)"
   ]
  },
  {
   "cell_type": "code",
   "execution_count": 114,
   "metadata": {},
   "outputs": [
    {
     "data": {
      "text/html": [
       "<div>\n",
       "<style scoped>\n",
       "    .dataframe tbody tr th:only-of-type {\n",
       "        vertical-align: middle;\n",
       "    }\n",
       "\n",
       "    .dataframe tbody tr th {\n",
       "        vertical-align: top;\n",
       "    }\n",
       "\n",
       "    .dataframe thead tr th {\n",
       "        text-align: left;\n",
       "    }\n",
       "</style>\n",
       "<table border=\"1\" class=\"dataframe\">\n",
       "  <thead>\n",
       "    <tr>\n",
       "      <th></th>\n",
       "      <th>1COV GR</th>\n",
       "      <th>AALB NA</th>\n",
       "      <th>ABBN SW</th>\n",
       "      <th colspan=\"3\" halign=\"left\">ABF LN</th>\n",
       "      <th colspan=\"2\" halign=\"left\">ABI BB</th>\n",
       "      <th>ACA FP</th>\n",
       "      <th>ACS SM</th>\n",
       "      <th>...</th>\n",
       "      <th>3800 HK</th>\n",
       "      <th colspan=\"2\" halign=\"left\">700 HK</th>\n",
       "      <th colspan=\"2\" halign=\"left\">7201 JP</th>\n",
       "      <th>7974 JP</th>\n",
       "      <th>9142 JP</th>\n",
       "      <th>FMG AU</th>\n",
       "      <th>ILU AU</th>\n",
       "      <th>LNG AU</th>\n",
       "    </tr>\n",
       "    <tr>\n",
       "      <th></th>\n",
       "      <th>2017-01-04</th>\n",
       "      <th>2016-01-15</th>\n",
       "      <th>2015-10-12</th>\n",
       "      <th>2015-09-30</th>\n",
       "      <th>2016-01-14</th>\n",
       "      <th>2016-06-28</th>\n",
       "      <th>2016-11-02</th>\n",
       "      <th>2017-11-27</th>\n",
       "      <th>2015-05-06</th>\n",
       "      <th>2015-12-04</th>\n",
       "      <th>...</th>\n",
       "      <th>2017-09-19</th>\n",
       "      <th>2016-03-22</th>\n",
       "      <th>2016-05-30</th>\n",
       "      <th>2015-01-02</th>\n",
       "      <th>2018-04-27</th>\n",
       "      <th>2017-05-26</th>\n",
       "      <th>2017-04-04</th>\n",
       "      <th>2016-09-15</th>\n",
       "      <th>2017-04-26</th>\n",
       "      <th>2015-07-27</th>\n",
       "    </tr>\n",
       "  </thead>\n",
       "  <tbody>\n",
       "    <tr>\n",
       "      <th>2015-01-02</th>\n",
       "      <td>NaN</td>\n",
       "      <td>NaN</td>\n",
       "      <td>NaN</td>\n",
       "      <td>NaN</td>\n",
       "      <td>NaN</td>\n",
       "      <td>NaN</td>\n",
       "      <td>NaN</td>\n",
       "      <td>NaN</td>\n",
       "      <td>NaN</td>\n",
       "      <td>NaN</td>\n",
       "      <td>...</td>\n",
       "      <td>NaN</td>\n",
       "      <td>NaN</td>\n",
       "      <td>NaN</td>\n",
       "      <td>0.0151661</td>\n",
       "      <td>NaN</td>\n",
       "      <td>NaN</td>\n",
       "      <td>NaN</td>\n",
       "      <td>NaN</td>\n",
       "      <td>NaN</td>\n",
       "      <td>NaN</td>\n",
       "    </tr>\n",
       "    <tr>\n",
       "      <th>2015-01-05</th>\n",
       "      <td>NaN</td>\n",
       "      <td>NaN</td>\n",
       "      <td>NaN</td>\n",
       "      <td>NaN</td>\n",
       "      <td>NaN</td>\n",
       "      <td>NaN</td>\n",
       "      <td>NaN</td>\n",
       "      <td>NaN</td>\n",
       "      <td>NaN</td>\n",
       "      <td>NaN</td>\n",
       "      <td>...</td>\n",
       "      <td>NaN</td>\n",
       "      <td>NaN</td>\n",
       "      <td>NaN</td>\n",
       "      <td>0.0150233</td>\n",
       "      <td>NaN</td>\n",
       "      <td>NaN</td>\n",
       "      <td>NaN</td>\n",
       "      <td>NaN</td>\n",
       "      <td>NaN</td>\n",
       "      <td>NaN</td>\n",
       "    </tr>\n",
       "    <tr>\n",
       "      <th>2015-01-06</th>\n",
       "      <td>NaN</td>\n",
       "      <td>NaN</td>\n",
       "      <td>NaN</td>\n",
       "      <td>NaN</td>\n",
       "      <td>NaN</td>\n",
       "      <td>NaN</td>\n",
       "      <td>NaN</td>\n",
       "      <td>NaN</td>\n",
       "      <td>NaN</td>\n",
       "      <td>NaN</td>\n",
       "      <td>...</td>\n",
       "      <td>NaN</td>\n",
       "      <td>NaN</td>\n",
       "      <td>NaN</td>\n",
       "      <td>0.0143552</td>\n",
       "      <td>NaN</td>\n",
       "      <td>NaN</td>\n",
       "      <td>NaN</td>\n",
       "      <td>NaN</td>\n",
       "      <td>NaN</td>\n",
       "      <td>NaN</td>\n",
       "    </tr>\n",
       "    <tr>\n",
       "      <th>2015-01-07</th>\n",
       "      <td>NaN</td>\n",
       "      <td>NaN</td>\n",
       "      <td>NaN</td>\n",
       "      <td>NaN</td>\n",
       "      <td>NaN</td>\n",
       "      <td>NaN</td>\n",
       "      <td>NaN</td>\n",
       "      <td>NaN</td>\n",
       "      <td>NaN</td>\n",
       "      <td>NaN</td>\n",
       "      <td>...</td>\n",
       "      <td>NaN</td>\n",
       "      <td>NaN</td>\n",
       "      <td>NaN</td>\n",
       "      <td>0.0144266</td>\n",
       "      <td>NaN</td>\n",
       "      <td>NaN</td>\n",
       "      <td>NaN</td>\n",
       "      <td>NaN</td>\n",
       "      <td>NaN</td>\n",
       "      <td>NaN</td>\n",
       "    </tr>\n",
       "    <tr>\n",
       "      <th>2015-01-08</th>\n",
       "      <td>NaN</td>\n",
       "      <td>NaN</td>\n",
       "      <td>NaN</td>\n",
       "      <td>NaN</td>\n",
       "      <td>NaN</td>\n",
       "      <td>NaN</td>\n",
       "      <td>NaN</td>\n",
       "      <td>NaN</td>\n",
       "      <td>NaN</td>\n",
       "      <td>NaN</td>\n",
       "      <td>...</td>\n",
       "      <td>NaN</td>\n",
       "      <td>NaN</td>\n",
       "      <td>NaN</td>\n",
       "      <td>0.0143909</td>\n",
       "      <td>NaN</td>\n",
       "      <td>NaN</td>\n",
       "      <td>NaN</td>\n",
       "      <td>NaN</td>\n",
       "      <td>NaN</td>\n",
       "      <td>NaN</td>\n",
       "    </tr>\n",
       "    <tr>\n",
       "      <th>2015-01-09</th>\n",
       "      <td>NaN</td>\n",
       "      <td>NaN</td>\n",
       "      <td>NaN</td>\n",
       "      <td>NaN</td>\n",
       "      <td>NaN</td>\n",
       "      <td>NaN</td>\n",
       "      <td>NaN</td>\n",
       "      <td>NaN</td>\n",
       "      <td>NaN</td>\n",
       "      <td>NaN</td>\n",
       "      <td>...</td>\n",
       "      <td>NaN</td>\n",
       "      <td>NaN</td>\n",
       "      <td>NaN</td>\n",
       "      <td>0.0145779</td>\n",
       "      <td>NaN</td>\n",
       "      <td>NaN</td>\n",
       "      <td>NaN</td>\n",
       "      <td>NaN</td>\n",
       "      <td>NaN</td>\n",
       "      <td>NaN</td>\n",
       "    </tr>\n",
       "    <tr>\n",
       "      <th>2015-01-12</th>\n",
       "      <td>NaN</td>\n",
       "      <td>NaN</td>\n",
       "      <td>NaN</td>\n",
       "      <td>NaN</td>\n",
       "      <td>NaN</td>\n",
       "      <td>NaN</td>\n",
       "      <td>NaN</td>\n",
       "      <td>NaN</td>\n",
       "      <td>NaN</td>\n",
       "      <td>NaN</td>\n",
       "      <td>...</td>\n",
       "      <td>NaN</td>\n",
       "      <td>NaN</td>\n",
       "      <td>NaN</td>\n",
       "      <td>0.0145779</td>\n",
       "      <td>NaN</td>\n",
       "      <td>NaN</td>\n",
       "      <td>NaN</td>\n",
       "      <td>NaN</td>\n",
       "      <td>NaN</td>\n",
       "      <td>NaN</td>\n",
       "    </tr>\n",
       "    <tr>\n",
       "      <th>2015-01-13</th>\n",
       "      <td>NaN</td>\n",
       "      <td>NaN</td>\n",
       "      <td>NaN</td>\n",
       "      <td>NaN</td>\n",
       "      <td>NaN</td>\n",
       "      <td>NaN</td>\n",
       "      <td>NaN</td>\n",
       "      <td>NaN</td>\n",
       "      <td>NaN</td>\n",
       "      <td>NaN</td>\n",
       "      <td>...</td>\n",
       "      <td>NaN</td>\n",
       "      <td>NaN</td>\n",
       "      <td>NaN</td>\n",
       "      <td>0.0144198</td>\n",
       "      <td>NaN</td>\n",
       "      <td>NaN</td>\n",
       "      <td>NaN</td>\n",
       "      <td>NaN</td>\n",
       "      <td>NaN</td>\n",
       "      <td>NaN</td>\n",
       "    </tr>\n",
       "    <tr>\n",
       "      <th>2015-01-14</th>\n",
       "      <td>NaN</td>\n",
       "      <td>NaN</td>\n",
       "      <td>NaN</td>\n",
       "      <td>NaN</td>\n",
       "      <td>NaN</td>\n",
       "      <td>NaN</td>\n",
       "      <td>NaN</td>\n",
       "      <td>NaN</td>\n",
       "      <td>NaN</td>\n",
       "      <td>NaN</td>\n",
       "      <td>...</td>\n",
       "      <td>NaN</td>\n",
       "      <td>NaN</td>\n",
       "      <td>NaN</td>\n",
       "      <td>0.0143059</td>\n",
       "      <td>NaN</td>\n",
       "      <td>NaN</td>\n",
       "      <td>NaN</td>\n",
       "      <td>NaN</td>\n",
       "      <td>NaN</td>\n",
       "      <td>NaN</td>\n",
       "    </tr>\n",
       "    <tr>\n",
       "      <th>2015-01-15</th>\n",
       "      <td>NaN</td>\n",
       "      <td>NaN</td>\n",
       "      <td>NaN</td>\n",
       "      <td>NaN</td>\n",
       "      <td>NaN</td>\n",
       "      <td>NaN</td>\n",
       "      <td>NaN</td>\n",
       "      <td>NaN</td>\n",
       "      <td>NaN</td>\n",
       "      <td>NaN</td>\n",
       "      <td>...</td>\n",
       "      <td>NaN</td>\n",
       "      <td>NaN</td>\n",
       "      <td>NaN</td>\n",
       "      <td>0.014243</td>\n",
       "      <td>NaN</td>\n",
       "      <td>NaN</td>\n",
       "      <td>NaN</td>\n",
       "      <td>NaN</td>\n",
       "      <td>NaN</td>\n",
       "      <td>NaN</td>\n",
       "    </tr>\n",
       "    <tr>\n",
       "      <th>2015-01-16</th>\n",
       "      <td>NaN</td>\n",
       "      <td>NaN</td>\n",
       "      <td>NaN</td>\n",
       "      <td>NaN</td>\n",
       "      <td>NaN</td>\n",
       "      <td>NaN</td>\n",
       "      <td>NaN</td>\n",
       "      <td>NaN</td>\n",
       "      <td>NaN</td>\n",
       "      <td>NaN</td>\n",
       "      <td>...</td>\n",
       "      <td>NaN</td>\n",
       "      <td>NaN</td>\n",
       "      <td>NaN</td>\n",
       "      <td>0.0141716</td>\n",
       "      <td>NaN</td>\n",
       "      <td>NaN</td>\n",
       "      <td>NaN</td>\n",
       "      <td>NaN</td>\n",
       "      <td>NaN</td>\n",
       "      <td>NaN</td>\n",
       "    </tr>\n",
       "    <tr>\n",
       "      <th>2015-01-19</th>\n",
       "      <td>NaN</td>\n",
       "      <td>NaN</td>\n",
       "      <td>NaN</td>\n",
       "      <td>NaN</td>\n",
       "      <td>NaN</td>\n",
       "      <td>NaN</td>\n",
       "      <td>NaN</td>\n",
       "      <td>NaN</td>\n",
       "      <td>NaN</td>\n",
       "      <td>NaN</td>\n",
       "      <td>...</td>\n",
       "      <td>NaN</td>\n",
       "      <td>NaN</td>\n",
       "      <td>NaN</td>\n",
       "      <td>0.0142906</td>\n",
       "      <td>NaN</td>\n",
       "      <td>NaN</td>\n",
       "      <td>NaN</td>\n",
       "      <td>NaN</td>\n",
       "      <td>NaN</td>\n",
       "      <td>NaN</td>\n",
       "    </tr>\n",
       "    <tr>\n",
       "      <th>2015-01-20</th>\n",
       "      <td>NaN</td>\n",
       "      <td>NaN</td>\n",
       "      <td>NaN</td>\n",
       "      <td>NaN</td>\n",
       "      <td>NaN</td>\n",
       "      <td>NaN</td>\n",
       "      <td>NaN</td>\n",
       "      <td>NaN</td>\n",
       "      <td>NaN</td>\n",
       "      <td>NaN</td>\n",
       "      <td>...</td>\n",
       "      <td>NaN</td>\n",
       "      <td>NaN</td>\n",
       "      <td>NaN</td>\n",
       "      <td>0.0146289</td>\n",
       "      <td>NaN</td>\n",
       "      <td>NaN</td>\n",
       "      <td>NaN</td>\n",
       "      <td>NaN</td>\n",
       "      <td>NaN</td>\n",
       "      <td>NaN</td>\n",
       "    </tr>\n",
       "    <tr>\n",
       "      <th>2015-01-21</th>\n",
       "      <td>NaN</td>\n",
       "      <td>NaN</td>\n",
       "      <td>NaN</td>\n",
       "      <td>NaN</td>\n",
       "      <td>NaN</td>\n",
       "      <td>NaN</td>\n",
       "      <td>NaN</td>\n",
       "      <td>NaN</td>\n",
       "      <td>NaN</td>\n",
       "      <td>NaN</td>\n",
       "      <td>...</td>\n",
       "      <td>NaN</td>\n",
       "      <td>NaN</td>\n",
       "      <td>NaN</td>\n",
       "      <td>0.0146493</td>\n",
       "      <td>NaN</td>\n",
       "      <td>NaN</td>\n",
       "      <td>NaN</td>\n",
       "      <td>NaN</td>\n",
       "      <td>NaN</td>\n",
       "      <td>NaN</td>\n",
       "    </tr>\n",
       "    <tr>\n",
       "      <th>2015-01-22</th>\n",
       "      <td>NaN</td>\n",
       "      <td>NaN</td>\n",
       "      <td>NaN</td>\n",
       "      <td>NaN</td>\n",
       "      <td>NaN</td>\n",
       "      <td>NaN</td>\n",
       "      <td>NaN</td>\n",
       "      <td>NaN</td>\n",
       "      <td>NaN</td>\n",
       "      <td>NaN</td>\n",
       "      <td>...</td>\n",
       "      <td>NaN</td>\n",
       "      <td>NaN</td>\n",
       "      <td>NaN</td>\n",
       "      <td>0.0148142</td>\n",
       "      <td>NaN</td>\n",
       "      <td>NaN</td>\n",
       "      <td>NaN</td>\n",
       "      <td>NaN</td>\n",
       "      <td>NaN</td>\n",
       "      <td>NaN</td>\n",
       "    </tr>\n",
       "    <tr>\n",
       "      <th>2015-01-23</th>\n",
       "      <td>NaN</td>\n",
       "      <td>NaN</td>\n",
       "      <td>NaN</td>\n",
       "      <td>NaN</td>\n",
       "      <td>NaN</td>\n",
       "      <td>NaN</td>\n",
       "      <td>NaN</td>\n",
       "      <td>NaN</td>\n",
       "      <td>NaN</td>\n",
       "      <td>NaN</td>\n",
       "      <td>...</td>\n",
       "      <td>NaN</td>\n",
       "      <td>NaN</td>\n",
       "      <td>NaN</td>\n",
       "      <td>0.0148499</td>\n",
       "      <td>NaN</td>\n",
       "      <td>NaN</td>\n",
       "      <td>NaN</td>\n",
       "      <td>NaN</td>\n",
       "      <td>NaN</td>\n",
       "      <td>NaN</td>\n",
       "    </tr>\n",
       "    <tr>\n",
       "      <th>2015-01-26</th>\n",
       "      <td>NaN</td>\n",
       "      <td>NaN</td>\n",
       "      <td>NaN</td>\n",
       "      <td>NaN</td>\n",
       "      <td>NaN</td>\n",
       "      <td>NaN</td>\n",
       "      <td>NaN</td>\n",
       "      <td>NaN</td>\n",
       "      <td>NaN</td>\n",
       "      <td>NaN</td>\n",
       "      <td>...</td>\n",
       "      <td>NaN</td>\n",
       "      <td>NaN</td>\n",
       "      <td>NaN</td>\n",
       "      <td>0.0147785</td>\n",
       "      <td>NaN</td>\n",
       "      <td>NaN</td>\n",
       "      <td>NaN</td>\n",
       "      <td>NaN</td>\n",
       "      <td>NaN</td>\n",
       "      <td>NaN</td>\n",
       "    </tr>\n",
       "    <tr>\n",
       "      <th>2015-01-27</th>\n",
       "      <td>NaN</td>\n",
       "      <td>NaN</td>\n",
       "      <td>NaN</td>\n",
       "      <td>NaN</td>\n",
       "      <td>NaN</td>\n",
       "      <td>NaN</td>\n",
       "      <td>NaN</td>\n",
       "      <td>NaN</td>\n",
       "      <td>NaN</td>\n",
       "      <td>NaN</td>\n",
       "      <td>...</td>\n",
       "      <td>NaN</td>\n",
       "      <td>NaN</td>\n",
       "      <td>NaN</td>\n",
       "      <td>0.0150658</td>\n",
       "      <td>NaN</td>\n",
       "      <td>NaN</td>\n",
       "      <td>NaN</td>\n",
       "      <td>NaN</td>\n",
       "      <td>NaN</td>\n",
       "      <td>NaN</td>\n",
       "    </tr>\n",
       "    <tr>\n",
       "      <th>2015-01-28</th>\n",
       "      <td>NaN</td>\n",
       "      <td>NaN</td>\n",
       "      <td>NaN</td>\n",
       "      <td>NaN</td>\n",
       "      <td>NaN</td>\n",
       "      <td>NaN</td>\n",
       "      <td>NaN</td>\n",
       "      <td>NaN</td>\n",
       "      <td>NaN</td>\n",
       "      <td>NaN</td>\n",
       "      <td>...</td>\n",
       "      <td>NaN</td>\n",
       "      <td>NaN</td>\n",
       "      <td>NaN</td>\n",
       "      <td>0.0150437</td>\n",
       "      <td>NaN</td>\n",
       "      <td>NaN</td>\n",
       "      <td>NaN</td>\n",
       "      <td>NaN</td>\n",
       "      <td>NaN</td>\n",
       "      <td>NaN</td>\n",
       "    </tr>\n",
       "    <tr>\n",
       "      <th>2015-01-29</th>\n",
       "      <td>NaN</td>\n",
       "      <td>NaN</td>\n",
       "      <td>NaN</td>\n",
       "      <td>NaN</td>\n",
       "      <td>NaN</td>\n",
       "      <td>NaN</td>\n",
       "      <td>NaN</td>\n",
       "      <td>NaN</td>\n",
       "      <td>NaN</td>\n",
       "      <td>NaN</td>\n",
       "      <td>...</td>\n",
       "      <td>NaN</td>\n",
       "      <td>NaN</td>\n",
       "      <td>NaN</td>\n",
       "      <td>0.0147496</td>\n",
       "      <td>NaN</td>\n",
       "      <td>NaN</td>\n",
       "      <td>NaN</td>\n",
       "      <td>NaN</td>\n",
       "      <td>NaN</td>\n",
       "      <td>NaN</td>\n",
       "    </tr>\n",
       "    <tr>\n",
       "      <th>2015-01-30</th>\n",
       "      <td>NaN</td>\n",
       "      <td>NaN</td>\n",
       "      <td>NaN</td>\n",
       "      <td>NaN</td>\n",
       "      <td>NaN</td>\n",
       "      <td>NaN</td>\n",
       "      <td>NaN</td>\n",
       "      <td>NaN</td>\n",
       "      <td>NaN</td>\n",
       "      <td>NaN</td>\n",
       "      <td>...</td>\n",
       "      <td>NaN</td>\n",
       "      <td>NaN</td>\n",
       "      <td>NaN</td>\n",
       "      <td>0.0145847</td>\n",
       "      <td>NaN</td>\n",
       "      <td>NaN</td>\n",
       "      <td>NaN</td>\n",
       "      <td>NaN</td>\n",
       "      <td>NaN</td>\n",
       "      <td>NaN</td>\n",
       "    </tr>\n",
       "    <tr>\n",
       "      <th>2015-02-02</th>\n",
       "      <td>NaN</td>\n",
       "      <td>NaN</td>\n",
       "      <td>NaN</td>\n",
       "      <td>NaN</td>\n",
       "      <td>NaN</td>\n",
       "      <td>NaN</td>\n",
       "      <td>NaN</td>\n",
       "      <td>NaN</td>\n",
       "      <td>NaN</td>\n",
       "      <td>NaN</td>\n",
       "      <td>...</td>\n",
       "      <td>NaN</td>\n",
       "      <td>NaN</td>\n",
       "      <td>NaN</td>\n",
       "      <td>0.014549</td>\n",
       "      <td>NaN</td>\n",
       "      <td>NaN</td>\n",
       "      <td>NaN</td>\n",
       "      <td>NaN</td>\n",
       "      <td>NaN</td>\n",
       "      <td>NaN</td>\n",
       "    </tr>\n",
       "    <tr>\n",
       "      <th>2015-02-03</th>\n",
       "      <td>NaN</td>\n",
       "      <td>NaN</td>\n",
       "      <td>NaN</td>\n",
       "      <td>NaN</td>\n",
       "      <td>NaN</td>\n",
       "      <td>NaN</td>\n",
       "      <td>NaN</td>\n",
       "      <td>NaN</td>\n",
       "      <td>NaN</td>\n",
       "      <td>NaN</td>\n",
       "      <td>...</td>\n",
       "      <td>NaN</td>\n",
       "      <td>NaN</td>\n",
       "      <td>NaN</td>\n",
       "      <td>0.0144912</td>\n",
       "      <td>NaN</td>\n",
       "      <td>NaN</td>\n",
       "      <td>NaN</td>\n",
       "      <td>NaN</td>\n",
       "      <td>NaN</td>\n",
       "      <td>NaN</td>\n",
       "    </tr>\n",
       "    <tr>\n",
       "      <th>2015-02-04</th>\n",
       "      <td>NaN</td>\n",
       "      <td>NaN</td>\n",
       "      <td>NaN</td>\n",
       "      <td>NaN</td>\n",
       "      <td>NaN</td>\n",
       "      <td>NaN</td>\n",
       "      <td>NaN</td>\n",
       "      <td>NaN</td>\n",
       "      <td>NaN</td>\n",
       "      <td>NaN</td>\n",
       "      <td>...</td>\n",
       "      <td>NaN</td>\n",
       "      <td>NaN</td>\n",
       "      <td>NaN</td>\n",
       "      <td>0.0147649</td>\n",
       "      <td>NaN</td>\n",
       "      <td>NaN</td>\n",
       "      <td>NaN</td>\n",
       "      <td>NaN</td>\n",
       "      <td>NaN</td>\n",
       "      <td>NaN</td>\n",
       "    </tr>\n",
       "    <tr>\n",
       "      <th>2015-02-05</th>\n",
       "      <td>NaN</td>\n",
       "      <td>NaN</td>\n",
       "      <td>NaN</td>\n",
       "      <td>NaN</td>\n",
       "      <td>NaN</td>\n",
       "      <td>NaN</td>\n",
       "      <td>NaN</td>\n",
       "      <td>NaN</td>\n",
       "      <td>NaN</td>\n",
       "      <td>NaN</td>\n",
       "      <td>...</td>\n",
       "      <td>NaN</td>\n",
       "      <td>NaN</td>\n",
       "      <td>NaN</td>\n",
       "      <td>NaN</td>\n",
       "      <td>NaN</td>\n",
       "      <td>NaN</td>\n",
       "      <td>NaN</td>\n",
       "      <td>NaN</td>\n",
       "      <td>NaN</td>\n",
       "      <td>NaN</td>\n",
       "    </tr>\n",
       "    <tr>\n",
       "      <th>2015-02-06</th>\n",
       "      <td>NaN</td>\n",
       "      <td>NaN</td>\n",
       "      <td>NaN</td>\n",
       "      <td>NaN</td>\n",
       "      <td>NaN</td>\n",
       "      <td>NaN</td>\n",
       "      <td>NaN</td>\n",
       "      <td>NaN</td>\n",
       "      <td>NaN</td>\n",
       "      <td>NaN</td>\n",
       "      <td>...</td>\n",
       "      <td>NaN</td>\n",
       "      <td>NaN</td>\n",
       "      <td>NaN</td>\n",
       "      <td>NaN</td>\n",
       "      <td>NaN</td>\n",
       "      <td>NaN</td>\n",
       "      <td>NaN</td>\n",
       "      <td>NaN</td>\n",
       "      <td>NaN</td>\n",
       "      <td>NaN</td>\n",
       "    </tr>\n",
       "    <tr>\n",
       "      <th>2015-02-09</th>\n",
       "      <td>NaN</td>\n",
       "      <td>NaN</td>\n",
       "      <td>NaN</td>\n",
       "      <td>NaN</td>\n",
       "      <td>NaN</td>\n",
       "      <td>NaN</td>\n",
       "      <td>NaN</td>\n",
       "      <td>NaN</td>\n",
       "      <td>NaN</td>\n",
       "      <td>NaN</td>\n",
       "      <td>...</td>\n",
       "      <td>NaN</td>\n",
       "      <td>NaN</td>\n",
       "      <td>NaN</td>\n",
       "      <td>NaN</td>\n",
       "      <td>NaN</td>\n",
       "      <td>NaN</td>\n",
       "      <td>NaN</td>\n",
       "      <td>NaN</td>\n",
       "      <td>NaN</td>\n",
       "      <td>NaN</td>\n",
       "    </tr>\n",
       "    <tr>\n",
       "      <th>2015-02-10</th>\n",
       "      <td>NaN</td>\n",
       "      <td>NaN</td>\n",
       "      <td>NaN</td>\n",
       "      <td>NaN</td>\n",
       "      <td>NaN</td>\n",
       "      <td>NaN</td>\n",
       "      <td>NaN</td>\n",
       "      <td>NaN</td>\n",
       "      <td>NaN</td>\n",
       "      <td>NaN</td>\n",
       "      <td>...</td>\n",
       "      <td>NaN</td>\n",
       "      <td>NaN</td>\n",
       "      <td>NaN</td>\n",
       "      <td>NaN</td>\n",
       "      <td>NaN</td>\n",
       "      <td>NaN</td>\n",
       "      <td>NaN</td>\n",
       "      <td>NaN</td>\n",
       "      <td>NaN</td>\n",
       "      <td>NaN</td>\n",
       "    </tr>\n",
       "    <tr>\n",
       "      <th>2015-02-11</th>\n",
       "      <td>NaN</td>\n",
       "      <td>NaN</td>\n",
       "      <td>NaN</td>\n",
       "      <td>NaN</td>\n",
       "      <td>NaN</td>\n",
       "      <td>NaN</td>\n",
       "      <td>NaN</td>\n",
       "      <td>NaN</td>\n",
       "      <td>NaN</td>\n",
       "      <td>NaN</td>\n",
       "      <td>...</td>\n",
       "      <td>NaN</td>\n",
       "      <td>NaN</td>\n",
       "      <td>NaN</td>\n",
       "      <td>NaN</td>\n",
       "      <td>NaN</td>\n",
       "      <td>NaN</td>\n",
       "      <td>NaN</td>\n",
       "      <td>NaN</td>\n",
       "      <td>NaN</td>\n",
       "      <td>NaN</td>\n",
       "    </tr>\n",
       "    <tr>\n",
       "      <th>2015-02-12</th>\n",
       "      <td>NaN</td>\n",
       "      <td>NaN</td>\n",
       "      <td>NaN</td>\n",
       "      <td>NaN</td>\n",
       "      <td>NaN</td>\n",
       "      <td>NaN</td>\n",
       "      <td>NaN</td>\n",
       "      <td>NaN</td>\n",
       "      <td>NaN</td>\n",
       "      <td>NaN</td>\n",
       "      <td>...</td>\n",
       "      <td>NaN</td>\n",
       "      <td>NaN</td>\n",
       "      <td>NaN</td>\n",
       "      <td>NaN</td>\n",
       "      <td>NaN</td>\n",
       "      <td>NaN</td>\n",
       "      <td>NaN</td>\n",
       "      <td>NaN</td>\n",
       "      <td>NaN</td>\n",
       "      <td>NaN</td>\n",
       "    </tr>\n",
       "    <tr>\n",
       "      <th>...</th>\n",
       "      <td>...</td>\n",
       "      <td>...</td>\n",
       "      <td>...</td>\n",
       "      <td>...</td>\n",
       "      <td>...</td>\n",
       "      <td>...</td>\n",
       "      <td>...</td>\n",
       "      <td>...</td>\n",
       "      <td>...</td>\n",
       "      <td>...</td>\n",
       "      <td>...</td>\n",
       "      <td>...</td>\n",
       "      <td>...</td>\n",
       "      <td>...</td>\n",
       "      <td>...</td>\n",
       "      <td>...</td>\n",
       "      <td>...</td>\n",
       "      <td>...</td>\n",
       "      <td>...</td>\n",
       "      <td>...</td>\n",
       "      <td>...</td>\n",
       "    </tr>\n",
       "    <tr>\n",
       "      <th>2018-11-20</th>\n",
       "      <td>NaN</td>\n",
       "      <td>NaN</td>\n",
       "      <td>NaN</td>\n",
       "      <td>NaN</td>\n",
       "      <td>NaN</td>\n",
       "      <td>NaN</td>\n",
       "      <td>NaN</td>\n",
       "      <td>NaN</td>\n",
       "      <td>NaN</td>\n",
       "      <td>NaN</td>\n",
       "      <td>...</td>\n",
       "      <td>NaN</td>\n",
       "      <td>NaN</td>\n",
       "      <td>NaN</td>\n",
       "      <td>NaN</td>\n",
       "      <td>NaN</td>\n",
       "      <td>NaN</td>\n",
       "      <td>NaN</td>\n",
       "      <td>NaN</td>\n",
       "      <td>NaN</td>\n",
       "      <td>NaN</td>\n",
       "    </tr>\n",
       "    <tr>\n",
       "      <th>2018-11-21</th>\n",
       "      <td>NaN</td>\n",
       "      <td>NaN</td>\n",
       "      <td>NaN</td>\n",
       "      <td>NaN</td>\n",
       "      <td>NaN</td>\n",
       "      <td>NaN</td>\n",
       "      <td>NaN</td>\n",
       "      <td>NaN</td>\n",
       "      <td>NaN</td>\n",
       "      <td>NaN</td>\n",
       "      <td>...</td>\n",
       "      <td>NaN</td>\n",
       "      <td>NaN</td>\n",
       "      <td>NaN</td>\n",
       "      <td>NaN</td>\n",
       "      <td>NaN</td>\n",
       "      <td>NaN</td>\n",
       "      <td>NaN</td>\n",
       "      <td>NaN</td>\n",
       "      <td>NaN</td>\n",
       "      <td>NaN</td>\n",
       "    </tr>\n",
       "    <tr>\n",
       "      <th>2018-11-22</th>\n",
       "      <td>NaN</td>\n",
       "      <td>NaN</td>\n",
       "      <td>NaN</td>\n",
       "      <td>NaN</td>\n",
       "      <td>NaN</td>\n",
       "      <td>NaN</td>\n",
       "      <td>NaN</td>\n",
       "      <td>NaN</td>\n",
       "      <td>NaN</td>\n",
       "      <td>NaN</td>\n",
       "      <td>...</td>\n",
       "      <td>NaN</td>\n",
       "      <td>NaN</td>\n",
       "      <td>NaN</td>\n",
       "      <td>NaN</td>\n",
       "      <td>NaN</td>\n",
       "      <td>NaN</td>\n",
       "      <td>NaN</td>\n",
       "      <td>NaN</td>\n",
       "      <td>NaN</td>\n",
       "      <td>NaN</td>\n",
       "    </tr>\n",
       "    <tr>\n",
       "      <th>2018-11-23</th>\n",
       "      <td>NaN</td>\n",
       "      <td>NaN</td>\n",
       "      <td>NaN</td>\n",
       "      <td>NaN</td>\n",
       "      <td>NaN</td>\n",
       "      <td>NaN</td>\n",
       "      <td>NaN</td>\n",
       "      <td>NaN</td>\n",
       "      <td>NaN</td>\n",
       "      <td>NaN</td>\n",
       "      <td>...</td>\n",
       "      <td>NaN</td>\n",
       "      <td>NaN</td>\n",
       "      <td>NaN</td>\n",
       "      <td>NaN</td>\n",
       "      <td>NaN</td>\n",
       "      <td>NaN</td>\n",
       "      <td>NaN</td>\n",
       "      <td>NaN</td>\n",
       "      <td>NaN</td>\n",
       "      <td>NaN</td>\n",
       "    </tr>\n",
       "    <tr>\n",
       "      <th>2018-11-26</th>\n",
       "      <td>NaN</td>\n",
       "      <td>NaN</td>\n",
       "      <td>NaN</td>\n",
       "      <td>NaN</td>\n",
       "      <td>NaN</td>\n",
       "      <td>NaN</td>\n",
       "      <td>NaN</td>\n",
       "      <td>NaN</td>\n",
       "      <td>NaN</td>\n",
       "      <td>NaN</td>\n",
       "      <td>...</td>\n",
       "      <td>NaN</td>\n",
       "      <td>NaN</td>\n",
       "      <td>NaN</td>\n",
       "      <td>NaN</td>\n",
       "      <td>NaN</td>\n",
       "      <td>NaN</td>\n",
       "      <td>NaN</td>\n",
       "      <td>NaN</td>\n",
       "      <td>NaN</td>\n",
       "      <td>NaN</td>\n",
       "    </tr>\n",
       "    <tr>\n",
       "      <th>2018-11-27</th>\n",
       "      <td>NaN</td>\n",
       "      <td>NaN</td>\n",
       "      <td>NaN</td>\n",
       "      <td>NaN</td>\n",
       "      <td>NaN</td>\n",
       "      <td>NaN</td>\n",
       "      <td>NaN</td>\n",
       "      <td>NaN</td>\n",
       "      <td>NaN</td>\n",
       "      <td>NaN</td>\n",
       "      <td>...</td>\n",
       "      <td>NaN</td>\n",
       "      <td>NaN</td>\n",
       "      <td>NaN</td>\n",
       "      <td>NaN</td>\n",
       "      <td>NaN</td>\n",
       "      <td>NaN</td>\n",
       "      <td>NaN</td>\n",
       "      <td>NaN</td>\n",
       "      <td>NaN</td>\n",
       "      <td>NaN</td>\n",
       "    </tr>\n",
       "    <tr>\n",
       "      <th>2018-11-28</th>\n",
       "      <td>NaN</td>\n",
       "      <td>NaN</td>\n",
       "      <td>NaN</td>\n",
       "      <td>NaN</td>\n",
       "      <td>NaN</td>\n",
       "      <td>NaN</td>\n",
       "      <td>NaN</td>\n",
       "      <td>NaN</td>\n",
       "      <td>NaN</td>\n",
       "      <td>NaN</td>\n",
       "      <td>...</td>\n",
       "      <td>NaN</td>\n",
       "      <td>NaN</td>\n",
       "      <td>NaN</td>\n",
       "      <td>NaN</td>\n",
       "      <td>NaN</td>\n",
       "      <td>NaN</td>\n",
       "      <td>NaN</td>\n",
       "      <td>NaN</td>\n",
       "      <td>NaN</td>\n",
       "      <td>NaN</td>\n",
       "    </tr>\n",
       "    <tr>\n",
       "      <th>2018-11-29</th>\n",
       "      <td>NaN</td>\n",
       "      <td>NaN</td>\n",
       "      <td>NaN</td>\n",
       "      <td>NaN</td>\n",
       "      <td>NaN</td>\n",
       "      <td>NaN</td>\n",
       "      <td>NaN</td>\n",
       "      <td>NaN</td>\n",
       "      <td>NaN</td>\n",
       "      <td>NaN</td>\n",
       "      <td>...</td>\n",
       "      <td>NaN</td>\n",
       "      <td>NaN</td>\n",
       "      <td>NaN</td>\n",
       "      <td>NaN</td>\n",
       "      <td>NaN</td>\n",
       "      <td>NaN</td>\n",
       "      <td>NaN</td>\n",
       "      <td>NaN</td>\n",
       "      <td>NaN</td>\n",
       "      <td>NaN</td>\n",
       "    </tr>\n",
       "    <tr>\n",
       "      <th>2018-11-30</th>\n",
       "      <td>NaN</td>\n",
       "      <td>NaN</td>\n",
       "      <td>NaN</td>\n",
       "      <td>NaN</td>\n",
       "      <td>NaN</td>\n",
       "      <td>NaN</td>\n",
       "      <td>NaN</td>\n",
       "      <td>NaN</td>\n",
       "      <td>NaN</td>\n",
       "      <td>NaN</td>\n",
       "      <td>...</td>\n",
       "      <td>NaN</td>\n",
       "      <td>NaN</td>\n",
       "      <td>NaN</td>\n",
       "      <td>NaN</td>\n",
       "      <td>NaN</td>\n",
       "      <td>NaN</td>\n",
       "      <td>NaN</td>\n",
       "      <td>NaN</td>\n",
       "      <td>NaN</td>\n",
       "      <td>NaN</td>\n",
       "    </tr>\n",
       "    <tr>\n",
       "      <th>2018-12-03</th>\n",
       "      <td>NaN</td>\n",
       "      <td>NaN</td>\n",
       "      <td>NaN</td>\n",
       "      <td>NaN</td>\n",
       "      <td>NaN</td>\n",
       "      <td>NaN</td>\n",
       "      <td>NaN</td>\n",
       "      <td>NaN</td>\n",
       "      <td>NaN</td>\n",
       "      <td>NaN</td>\n",
       "      <td>...</td>\n",
       "      <td>NaN</td>\n",
       "      <td>NaN</td>\n",
       "      <td>NaN</td>\n",
       "      <td>NaN</td>\n",
       "      <td>NaN</td>\n",
       "      <td>NaN</td>\n",
       "      <td>NaN</td>\n",
       "      <td>NaN</td>\n",
       "      <td>NaN</td>\n",
       "      <td>NaN</td>\n",
       "    </tr>\n",
       "    <tr>\n",
       "      <th>2018-12-04</th>\n",
       "      <td>NaN</td>\n",
       "      <td>NaN</td>\n",
       "      <td>NaN</td>\n",
       "      <td>NaN</td>\n",
       "      <td>NaN</td>\n",
       "      <td>NaN</td>\n",
       "      <td>NaN</td>\n",
       "      <td>NaN</td>\n",
       "      <td>NaN</td>\n",
       "      <td>NaN</td>\n",
       "      <td>...</td>\n",
       "      <td>NaN</td>\n",
       "      <td>NaN</td>\n",
       "      <td>NaN</td>\n",
       "      <td>NaN</td>\n",
       "      <td>NaN</td>\n",
       "      <td>NaN</td>\n",
       "      <td>NaN</td>\n",
       "      <td>NaN</td>\n",
       "      <td>NaN</td>\n",
       "      <td>NaN</td>\n",
       "    </tr>\n",
       "    <tr>\n",
       "      <th>2018-12-05</th>\n",
       "      <td>NaN</td>\n",
       "      <td>NaN</td>\n",
       "      <td>NaN</td>\n",
       "      <td>NaN</td>\n",
       "      <td>NaN</td>\n",
       "      <td>NaN</td>\n",
       "      <td>NaN</td>\n",
       "      <td>NaN</td>\n",
       "      <td>NaN</td>\n",
       "      <td>NaN</td>\n",
       "      <td>...</td>\n",
       "      <td>NaN</td>\n",
       "      <td>NaN</td>\n",
       "      <td>NaN</td>\n",
       "      <td>NaN</td>\n",
       "      <td>NaN</td>\n",
       "      <td>NaN</td>\n",
       "      <td>NaN</td>\n",
       "      <td>NaN</td>\n",
       "      <td>NaN</td>\n",
       "      <td>NaN</td>\n",
       "    </tr>\n",
       "    <tr>\n",
       "      <th>2018-12-06</th>\n",
       "      <td>NaN</td>\n",
       "      <td>NaN</td>\n",
       "      <td>NaN</td>\n",
       "      <td>NaN</td>\n",
       "      <td>NaN</td>\n",
       "      <td>NaN</td>\n",
       "      <td>NaN</td>\n",
       "      <td>NaN</td>\n",
       "      <td>NaN</td>\n",
       "      <td>NaN</td>\n",
       "      <td>...</td>\n",
       "      <td>NaN</td>\n",
       "      <td>NaN</td>\n",
       "      <td>NaN</td>\n",
       "      <td>NaN</td>\n",
       "      <td>NaN</td>\n",
       "      <td>NaN</td>\n",
       "      <td>NaN</td>\n",
       "      <td>NaN</td>\n",
       "      <td>NaN</td>\n",
       "      <td>NaN</td>\n",
       "    </tr>\n",
       "    <tr>\n",
       "      <th>2018-12-07</th>\n",
       "      <td>NaN</td>\n",
       "      <td>NaN</td>\n",
       "      <td>NaN</td>\n",
       "      <td>NaN</td>\n",
       "      <td>NaN</td>\n",
       "      <td>NaN</td>\n",
       "      <td>NaN</td>\n",
       "      <td>NaN</td>\n",
       "      <td>NaN</td>\n",
       "      <td>NaN</td>\n",
       "      <td>...</td>\n",
       "      <td>NaN</td>\n",
       "      <td>NaN</td>\n",
       "      <td>NaN</td>\n",
       "      <td>NaN</td>\n",
       "      <td>NaN</td>\n",
       "      <td>NaN</td>\n",
       "      <td>NaN</td>\n",
       "      <td>NaN</td>\n",
       "      <td>NaN</td>\n",
       "      <td>NaN</td>\n",
       "    </tr>\n",
       "    <tr>\n",
       "      <th>2018-12-10</th>\n",
       "      <td>NaN</td>\n",
       "      <td>NaN</td>\n",
       "      <td>NaN</td>\n",
       "      <td>NaN</td>\n",
       "      <td>NaN</td>\n",
       "      <td>NaN</td>\n",
       "      <td>NaN</td>\n",
       "      <td>NaN</td>\n",
       "      <td>NaN</td>\n",
       "      <td>NaN</td>\n",
       "      <td>...</td>\n",
       "      <td>NaN</td>\n",
       "      <td>NaN</td>\n",
       "      <td>NaN</td>\n",
       "      <td>NaN</td>\n",
       "      <td>NaN</td>\n",
       "      <td>NaN</td>\n",
       "      <td>NaN</td>\n",
       "      <td>NaN</td>\n",
       "      <td>NaN</td>\n",
       "      <td>NaN</td>\n",
       "    </tr>\n",
       "    <tr>\n",
       "      <th>2018-12-11</th>\n",
       "      <td>NaN</td>\n",
       "      <td>NaN</td>\n",
       "      <td>NaN</td>\n",
       "      <td>NaN</td>\n",
       "      <td>NaN</td>\n",
       "      <td>NaN</td>\n",
       "      <td>NaN</td>\n",
       "      <td>NaN</td>\n",
       "      <td>NaN</td>\n",
       "      <td>NaN</td>\n",
       "      <td>...</td>\n",
       "      <td>NaN</td>\n",
       "      <td>NaN</td>\n",
       "      <td>NaN</td>\n",
       "      <td>NaN</td>\n",
       "      <td>NaN</td>\n",
       "      <td>NaN</td>\n",
       "      <td>NaN</td>\n",
       "      <td>NaN</td>\n",
       "      <td>NaN</td>\n",
       "      <td>NaN</td>\n",
       "    </tr>\n",
       "    <tr>\n",
       "      <th>2018-12-12</th>\n",
       "      <td>NaN</td>\n",
       "      <td>NaN</td>\n",
       "      <td>NaN</td>\n",
       "      <td>NaN</td>\n",
       "      <td>NaN</td>\n",
       "      <td>NaN</td>\n",
       "      <td>NaN</td>\n",
       "      <td>NaN</td>\n",
       "      <td>NaN</td>\n",
       "      <td>NaN</td>\n",
       "      <td>...</td>\n",
       "      <td>NaN</td>\n",
       "      <td>NaN</td>\n",
       "      <td>NaN</td>\n",
       "      <td>NaN</td>\n",
       "      <td>NaN</td>\n",
       "      <td>NaN</td>\n",
       "      <td>NaN</td>\n",
       "      <td>NaN</td>\n",
       "      <td>NaN</td>\n",
       "      <td>NaN</td>\n",
       "    </tr>\n",
       "    <tr>\n",
       "      <th>2018-12-13</th>\n",
       "      <td>NaN</td>\n",
       "      <td>NaN</td>\n",
       "      <td>NaN</td>\n",
       "      <td>NaN</td>\n",
       "      <td>NaN</td>\n",
       "      <td>NaN</td>\n",
       "      <td>NaN</td>\n",
       "      <td>NaN</td>\n",
       "      <td>NaN</td>\n",
       "      <td>NaN</td>\n",
       "      <td>...</td>\n",
       "      <td>NaN</td>\n",
       "      <td>NaN</td>\n",
       "      <td>NaN</td>\n",
       "      <td>NaN</td>\n",
       "      <td>NaN</td>\n",
       "      <td>NaN</td>\n",
       "      <td>NaN</td>\n",
       "      <td>NaN</td>\n",
       "      <td>NaN</td>\n",
       "      <td>NaN</td>\n",
       "    </tr>\n",
       "    <tr>\n",
       "      <th>2018-12-14</th>\n",
       "      <td>NaN</td>\n",
       "      <td>NaN</td>\n",
       "      <td>NaN</td>\n",
       "      <td>NaN</td>\n",
       "      <td>NaN</td>\n",
       "      <td>NaN</td>\n",
       "      <td>NaN</td>\n",
       "      <td>NaN</td>\n",
       "      <td>NaN</td>\n",
       "      <td>NaN</td>\n",
       "      <td>...</td>\n",
       "      <td>NaN</td>\n",
       "      <td>NaN</td>\n",
       "      <td>NaN</td>\n",
       "      <td>NaN</td>\n",
       "      <td>NaN</td>\n",
       "      <td>NaN</td>\n",
       "      <td>NaN</td>\n",
       "      <td>NaN</td>\n",
       "      <td>NaN</td>\n",
       "      <td>NaN</td>\n",
       "    </tr>\n",
       "    <tr>\n",
       "      <th>2018-12-17</th>\n",
       "      <td>NaN</td>\n",
       "      <td>NaN</td>\n",
       "      <td>NaN</td>\n",
       "      <td>NaN</td>\n",
       "      <td>NaN</td>\n",
       "      <td>NaN</td>\n",
       "      <td>NaN</td>\n",
       "      <td>NaN</td>\n",
       "      <td>NaN</td>\n",
       "      <td>NaN</td>\n",
       "      <td>...</td>\n",
       "      <td>NaN</td>\n",
       "      <td>NaN</td>\n",
       "      <td>NaN</td>\n",
       "      <td>NaN</td>\n",
       "      <td>NaN</td>\n",
       "      <td>NaN</td>\n",
       "      <td>NaN</td>\n",
       "      <td>NaN</td>\n",
       "      <td>NaN</td>\n",
       "      <td>NaN</td>\n",
       "    </tr>\n",
       "    <tr>\n",
       "      <th>2018-12-18</th>\n",
       "      <td>NaN</td>\n",
       "      <td>NaN</td>\n",
       "      <td>NaN</td>\n",
       "      <td>NaN</td>\n",
       "      <td>NaN</td>\n",
       "      <td>NaN</td>\n",
       "      <td>NaN</td>\n",
       "      <td>NaN</td>\n",
       "      <td>NaN</td>\n",
       "      <td>NaN</td>\n",
       "      <td>...</td>\n",
       "      <td>NaN</td>\n",
       "      <td>NaN</td>\n",
       "      <td>NaN</td>\n",
       "      <td>NaN</td>\n",
       "      <td>NaN</td>\n",
       "      <td>NaN</td>\n",
       "      <td>NaN</td>\n",
       "      <td>NaN</td>\n",
       "      <td>NaN</td>\n",
       "      <td>NaN</td>\n",
       "    </tr>\n",
       "    <tr>\n",
       "      <th>2018-12-19</th>\n",
       "      <td>NaN</td>\n",
       "      <td>NaN</td>\n",
       "      <td>NaN</td>\n",
       "      <td>NaN</td>\n",
       "      <td>NaN</td>\n",
       "      <td>NaN</td>\n",
       "      <td>NaN</td>\n",
       "      <td>NaN</td>\n",
       "      <td>NaN</td>\n",
       "      <td>NaN</td>\n",
       "      <td>...</td>\n",
       "      <td>NaN</td>\n",
       "      <td>NaN</td>\n",
       "      <td>NaN</td>\n",
       "      <td>NaN</td>\n",
       "      <td>NaN</td>\n",
       "      <td>NaN</td>\n",
       "      <td>NaN</td>\n",
       "      <td>NaN</td>\n",
       "      <td>NaN</td>\n",
       "      <td>NaN</td>\n",
       "    </tr>\n",
       "    <tr>\n",
       "      <th>2018-12-20</th>\n",
       "      <td>NaN</td>\n",
       "      <td>NaN</td>\n",
       "      <td>NaN</td>\n",
       "      <td>NaN</td>\n",
       "      <td>NaN</td>\n",
       "      <td>NaN</td>\n",
       "      <td>NaN</td>\n",
       "      <td>NaN</td>\n",
       "      <td>NaN</td>\n",
       "      <td>NaN</td>\n",
       "      <td>...</td>\n",
       "      <td>NaN</td>\n",
       "      <td>NaN</td>\n",
       "      <td>NaN</td>\n",
       "      <td>NaN</td>\n",
       "      <td>NaN</td>\n",
       "      <td>NaN</td>\n",
       "      <td>NaN</td>\n",
       "      <td>NaN</td>\n",
       "      <td>NaN</td>\n",
       "      <td>NaN</td>\n",
       "    </tr>\n",
       "    <tr>\n",
       "      <th>2018-12-21</th>\n",
       "      <td>NaN</td>\n",
       "      <td>NaN</td>\n",
       "      <td>NaN</td>\n",
       "      <td>NaN</td>\n",
       "      <td>NaN</td>\n",
       "      <td>NaN</td>\n",
       "      <td>NaN</td>\n",
       "      <td>NaN</td>\n",
       "      <td>NaN</td>\n",
       "      <td>NaN</td>\n",
       "      <td>...</td>\n",
       "      <td>NaN</td>\n",
       "      <td>NaN</td>\n",
       "      <td>NaN</td>\n",
       "      <td>NaN</td>\n",
       "      <td>NaN</td>\n",
       "      <td>NaN</td>\n",
       "      <td>NaN</td>\n",
       "      <td>NaN</td>\n",
       "      <td>NaN</td>\n",
       "      <td>NaN</td>\n",
       "    </tr>\n",
       "    <tr>\n",
       "      <th>2018-12-24</th>\n",
       "      <td>NaN</td>\n",
       "      <td>NaN</td>\n",
       "      <td>NaN</td>\n",
       "      <td>NaN</td>\n",
       "      <td>NaN</td>\n",
       "      <td>NaN</td>\n",
       "      <td>NaN</td>\n",
       "      <td>NaN</td>\n",
       "      <td>NaN</td>\n",
       "      <td>NaN</td>\n",
       "      <td>...</td>\n",
       "      <td>NaN</td>\n",
       "      <td>NaN</td>\n",
       "      <td>NaN</td>\n",
       "      <td>NaN</td>\n",
       "      <td>NaN</td>\n",
       "      <td>NaN</td>\n",
       "      <td>NaN</td>\n",
       "      <td>NaN</td>\n",
       "      <td>NaN</td>\n",
       "      <td>NaN</td>\n",
       "    </tr>\n",
       "    <tr>\n",
       "      <th>2018-12-25</th>\n",
       "      <td>NaN</td>\n",
       "      <td>NaN</td>\n",
       "      <td>NaN</td>\n",
       "      <td>NaN</td>\n",
       "      <td>NaN</td>\n",
       "      <td>NaN</td>\n",
       "      <td>NaN</td>\n",
       "      <td>NaN</td>\n",
       "      <td>NaN</td>\n",
       "      <td>NaN</td>\n",
       "      <td>...</td>\n",
       "      <td>NaN</td>\n",
       "      <td>NaN</td>\n",
       "      <td>NaN</td>\n",
       "      <td>NaN</td>\n",
       "      <td>NaN</td>\n",
       "      <td>NaN</td>\n",
       "      <td>NaN</td>\n",
       "      <td>NaN</td>\n",
       "      <td>NaN</td>\n",
       "      <td>NaN</td>\n",
       "    </tr>\n",
       "    <tr>\n",
       "      <th>2018-12-26</th>\n",
       "      <td>NaN</td>\n",
       "      <td>NaN</td>\n",
       "      <td>NaN</td>\n",
       "      <td>NaN</td>\n",
       "      <td>NaN</td>\n",
       "      <td>NaN</td>\n",
       "      <td>NaN</td>\n",
       "      <td>NaN</td>\n",
       "      <td>NaN</td>\n",
       "      <td>NaN</td>\n",
       "      <td>...</td>\n",
       "      <td>NaN</td>\n",
       "      <td>NaN</td>\n",
       "      <td>NaN</td>\n",
       "      <td>NaN</td>\n",
       "      <td>NaN</td>\n",
       "      <td>NaN</td>\n",
       "      <td>NaN</td>\n",
       "      <td>NaN</td>\n",
       "      <td>NaN</td>\n",
       "      <td>NaN</td>\n",
       "    </tr>\n",
       "    <tr>\n",
       "      <th>2018-12-27</th>\n",
       "      <td>NaN</td>\n",
       "      <td>NaN</td>\n",
       "      <td>NaN</td>\n",
       "      <td>NaN</td>\n",
       "      <td>NaN</td>\n",
       "      <td>NaN</td>\n",
       "      <td>NaN</td>\n",
       "      <td>NaN</td>\n",
       "      <td>NaN</td>\n",
       "      <td>NaN</td>\n",
       "      <td>...</td>\n",
       "      <td>NaN</td>\n",
       "      <td>NaN</td>\n",
       "      <td>NaN</td>\n",
       "      <td>NaN</td>\n",
       "      <td>NaN</td>\n",
       "      <td>NaN</td>\n",
       "      <td>NaN</td>\n",
       "      <td>NaN</td>\n",
       "      <td>NaN</td>\n",
       "      <td>NaN</td>\n",
       "    </tr>\n",
       "    <tr>\n",
       "      <th>2018-12-28</th>\n",
       "      <td>NaN</td>\n",
       "      <td>NaN</td>\n",
       "      <td>NaN</td>\n",
       "      <td>NaN</td>\n",
       "      <td>NaN</td>\n",
       "      <td>NaN</td>\n",
       "      <td>NaN</td>\n",
       "      <td>NaN</td>\n",
       "      <td>NaN</td>\n",
       "      <td>NaN</td>\n",
       "      <td>...</td>\n",
       "      <td>NaN</td>\n",
       "      <td>NaN</td>\n",
       "      <td>NaN</td>\n",
       "      <td>NaN</td>\n",
       "      <td>NaN</td>\n",
       "      <td>NaN</td>\n",
       "      <td>NaN</td>\n",
       "      <td>NaN</td>\n",
       "      <td>NaN</td>\n",
       "      <td>NaN</td>\n",
       "    </tr>\n",
       "    <tr>\n",
       "      <th>2018-12-31</th>\n",
       "      <td>NaN</td>\n",
       "      <td>NaN</td>\n",
       "      <td>NaN</td>\n",
       "      <td>NaN</td>\n",
       "      <td>NaN</td>\n",
       "      <td>NaN</td>\n",
       "      <td>NaN</td>\n",
       "      <td>NaN</td>\n",
       "      <td>NaN</td>\n",
       "      <td>NaN</td>\n",
       "      <td>...</td>\n",
       "      <td>NaN</td>\n",
       "      <td>NaN</td>\n",
       "      <td>NaN</td>\n",
       "      <td>NaN</td>\n",
       "      <td>NaN</td>\n",
       "      <td>NaN</td>\n",
       "      <td>NaN</td>\n",
       "      <td>NaN</td>\n",
       "      <td>NaN</td>\n",
       "      <td>NaN</td>\n",
       "    </tr>\n",
       "  </tbody>\n",
       "</table>\n",
       "<p>1039 rows × 715 columns</p>\n",
       "</div>"
      ],
      "text/plain": [
       "              1COV GR    AALB NA    ABBN SW     ABF LN                        \\\n",
       "           2017-01-04 2016-01-15 2015-10-12 2015-09-30 2016-01-14 2016-06-28   \n",
       "2015-01-02        NaN        NaN        NaN        NaN        NaN        NaN   \n",
       "2015-01-05        NaN        NaN        NaN        NaN        NaN        NaN   \n",
       "2015-01-06        NaN        NaN        NaN        NaN        NaN        NaN   \n",
       "2015-01-07        NaN        NaN        NaN        NaN        NaN        NaN   \n",
       "2015-01-08        NaN        NaN        NaN        NaN        NaN        NaN   \n",
       "2015-01-09        NaN        NaN        NaN        NaN        NaN        NaN   \n",
       "2015-01-12        NaN        NaN        NaN        NaN        NaN        NaN   \n",
       "2015-01-13        NaN        NaN        NaN        NaN        NaN        NaN   \n",
       "2015-01-14        NaN        NaN        NaN        NaN        NaN        NaN   \n",
       "2015-01-15        NaN        NaN        NaN        NaN        NaN        NaN   \n",
       "2015-01-16        NaN        NaN        NaN        NaN        NaN        NaN   \n",
       "2015-01-19        NaN        NaN        NaN        NaN        NaN        NaN   \n",
       "2015-01-20        NaN        NaN        NaN        NaN        NaN        NaN   \n",
       "2015-01-21        NaN        NaN        NaN        NaN        NaN        NaN   \n",
       "2015-01-22        NaN        NaN        NaN        NaN        NaN        NaN   \n",
       "2015-01-23        NaN        NaN        NaN        NaN        NaN        NaN   \n",
       "2015-01-26        NaN        NaN        NaN        NaN        NaN        NaN   \n",
       "2015-01-27        NaN        NaN        NaN        NaN        NaN        NaN   \n",
       "2015-01-28        NaN        NaN        NaN        NaN        NaN        NaN   \n",
       "2015-01-29        NaN        NaN        NaN        NaN        NaN        NaN   \n",
       "2015-01-30        NaN        NaN        NaN        NaN        NaN        NaN   \n",
       "2015-02-02        NaN        NaN        NaN        NaN        NaN        NaN   \n",
       "2015-02-03        NaN        NaN        NaN        NaN        NaN        NaN   \n",
       "2015-02-04        NaN        NaN        NaN        NaN        NaN        NaN   \n",
       "2015-02-05        NaN        NaN        NaN        NaN        NaN        NaN   \n",
       "2015-02-06        NaN        NaN        NaN        NaN        NaN        NaN   \n",
       "2015-02-09        NaN        NaN        NaN        NaN        NaN        NaN   \n",
       "2015-02-10        NaN        NaN        NaN        NaN        NaN        NaN   \n",
       "2015-02-11        NaN        NaN        NaN        NaN        NaN        NaN   \n",
       "2015-02-12        NaN        NaN        NaN        NaN        NaN        NaN   \n",
       "...               ...        ...        ...        ...        ...        ...   \n",
       "2018-11-20        NaN        NaN        NaN        NaN        NaN        NaN   \n",
       "2018-11-21        NaN        NaN        NaN        NaN        NaN        NaN   \n",
       "2018-11-22        NaN        NaN        NaN        NaN        NaN        NaN   \n",
       "2018-11-23        NaN        NaN        NaN        NaN        NaN        NaN   \n",
       "2018-11-26        NaN        NaN        NaN        NaN        NaN        NaN   \n",
       "2018-11-27        NaN        NaN        NaN        NaN        NaN        NaN   \n",
       "2018-11-28        NaN        NaN        NaN        NaN        NaN        NaN   \n",
       "2018-11-29        NaN        NaN        NaN        NaN        NaN        NaN   \n",
       "2018-11-30        NaN        NaN        NaN        NaN        NaN        NaN   \n",
       "2018-12-03        NaN        NaN        NaN        NaN        NaN        NaN   \n",
       "2018-12-04        NaN        NaN        NaN        NaN        NaN        NaN   \n",
       "2018-12-05        NaN        NaN        NaN        NaN        NaN        NaN   \n",
       "2018-12-06        NaN        NaN        NaN        NaN        NaN        NaN   \n",
       "2018-12-07        NaN        NaN        NaN        NaN        NaN        NaN   \n",
       "2018-12-10        NaN        NaN        NaN        NaN        NaN        NaN   \n",
       "2018-12-11        NaN        NaN        NaN        NaN        NaN        NaN   \n",
       "2018-12-12        NaN        NaN        NaN        NaN        NaN        NaN   \n",
       "2018-12-13        NaN        NaN        NaN        NaN        NaN        NaN   \n",
       "2018-12-14        NaN        NaN        NaN        NaN        NaN        NaN   \n",
       "2018-12-17        NaN        NaN        NaN        NaN        NaN        NaN   \n",
       "2018-12-18        NaN        NaN        NaN        NaN        NaN        NaN   \n",
       "2018-12-19        NaN        NaN        NaN        NaN        NaN        NaN   \n",
       "2018-12-20        NaN        NaN        NaN        NaN        NaN        NaN   \n",
       "2018-12-21        NaN        NaN        NaN        NaN        NaN        NaN   \n",
       "2018-12-24        NaN        NaN        NaN        NaN        NaN        NaN   \n",
       "2018-12-25        NaN        NaN        NaN        NaN        NaN        NaN   \n",
       "2018-12-26        NaN        NaN        NaN        NaN        NaN        NaN   \n",
       "2018-12-27        NaN        NaN        NaN        NaN        NaN        NaN   \n",
       "2018-12-28        NaN        NaN        NaN        NaN        NaN        NaN   \n",
       "2018-12-31        NaN        NaN        NaN        NaN        NaN        NaN   \n",
       "\n",
       "               ABI BB                ACA FP     ACS SM    ...        3800 HK  \\\n",
       "           2016-11-02 2017-11-27 2015-05-06 2015-12-04    ...     2017-09-19   \n",
       "2015-01-02        NaN        NaN        NaN        NaN    ...            NaN   \n",
       "2015-01-05        NaN        NaN        NaN        NaN    ...            NaN   \n",
       "2015-01-06        NaN        NaN        NaN        NaN    ...            NaN   \n",
       "2015-01-07        NaN        NaN        NaN        NaN    ...            NaN   \n",
       "2015-01-08        NaN        NaN        NaN        NaN    ...            NaN   \n",
       "2015-01-09        NaN        NaN        NaN        NaN    ...            NaN   \n",
       "2015-01-12        NaN        NaN        NaN        NaN    ...            NaN   \n",
       "2015-01-13        NaN        NaN        NaN        NaN    ...            NaN   \n",
       "2015-01-14        NaN        NaN        NaN        NaN    ...            NaN   \n",
       "2015-01-15        NaN        NaN        NaN        NaN    ...            NaN   \n",
       "2015-01-16        NaN        NaN        NaN        NaN    ...            NaN   \n",
       "2015-01-19        NaN        NaN        NaN        NaN    ...            NaN   \n",
       "2015-01-20        NaN        NaN        NaN        NaN    ...            NaN   \n",
       "2015-01-21        NaN        NaN        NaN        NaN    ...            NaN   \n",
       "2015-01-22        NaN        NaN        NaN        NaN    ...            NaN   \n",
       "2015-01-23        NaN        NaN        NaN        NaN    ...            NaN   \n",
       "2015-01-26        NaN        NaN        NaN        NaN    ...            NaN   \n",
       "2015-01-27        NaN        NaN        NaN        NaN    ...            NaN   \n",
       "2015-01-28        NaN        NaN        NaN        NaN    ...            NaN   \n",
       "2015-01-29        NaN        NaN        NaN        NaN    ...            NaN   \n",
       "2015-01-30        NaN        NaN        NaN        NaN    ...            NaN   \n",
       "2015-02-02        NaN        NaN        NaN        NaN    ...            NaN   \n",
       "2015-02-03        NaN        NaN        NaN        NaN    ...            NaN   \n",
       "2015-02-04        NaN        NaN        NaN        NaN    ...            NaN   \n",
       "2015-02-05        NaN        NaN        NaN        NaN    ...            NaN   \n",
       "2015-02-06        NaN        NaN        NaN        NaN    ...            NaN   \n",
       "2015-02-09        NaN        NaN        NaN        NaN    ...            NaN   \n",
       "2015-02-10        NaN        NaN        NaN        NaN    ...            NaN   \n",
       "2015-02-11        NaN        NaN        NaN        NaN    ...            NaN   \n",
       "2015-02-12        NaN        NaN        NaN        NaN    ...            NaN   \n",
       "...               ...        ...        ...        ...    ...            ...   \n",
       "2018-11-20        NaN        NaN        NaN        NaN    ...            NaN   \n",
       "2018-11-21        NaN        NaN        NaN        NaN    ...            NaN   \n",
       "2018-11-22        NaN        NaN        NaN        NaN    ...            NaN   \n",
       "2018-11-23        NaN        NaN        NaN        NaN    ...            NaN   \n",
       "2018-11-26        NaN        NaN        NaN        NaN    ...            NaN   \n",
       "2018-11-27        NaN        NaN        NaN        NaN    ...            NaN   \n",
       "2018-11-28        NaN        NaN        NaN        NaN    ...            NaN   \n",
       "2018-11-29        NaN        NaN        NaN        NaN    ...            NaN   \n",
       "2018-11-30        NaN        NaN        NaN        NaN    ...            NaN   \n",
       "2018-12-03        NaN        NaN        NaN        NaN    ...            NaN   \n",
       "2018-12-04        NaN        NaN        NaN        NaN    ...            NaN   \n",
       "2018-12-05        NaN        NaN        NaN        NaN    ...            NaN   \n",
       "2018-12-06        NaN        NaN        NaN        NaN    ...            NaN   \n",
       "2018-12-07        NaN        NaN        NaN        NaN    ...            NaN   \n",
       "2018-12-10        NaN        NaN        NaN        NaN    ...            NaN   \n",
       "2018-12-11        NaN        NaN        NaN        NaN    ...            NaN   \n",
       "2018-12-12        NaN        NaN        NaN        NaN    ...            NaN   \n",
       "2018-12-13        NaN        NaN        NaN        NaN    ...            NaN   \n",
       "2018-12-14        NaN        NaN        NaN        NaN    ...            NaN   \n",
       "2018-12-17        NaN        NaN        NaN        NaN    ...            NaN   \n",
       "2018-12-18        NaN        NaN        NaN        NaN    ...            NaN   \n",
       "2018-12-19        NaN        NaN        NaN        NaN    ...            NaN   \n",
       "2018-12-20        NaN        NaN        NaN        NaN    ...            NaN   \n",
       "2018-12-21        NaN        NaN        NaN        NaN    ...            NaN   \n",
       "2018-12-24        NaN        NaN        NaN        NaN    ...            NaN   \n",
       "2018-12-25        NaN        NaN        NaN        NaN    ...            NaN   \n",
       "2018-12-26        NaN        NaN        NaN        NaN    ...            NaN   \n",
       "2018-12-27        NaN        NaN        NaN        NaN    ...            NaN   \n",
       "2018-12-28        NaN        NaN        NaN        NaN    ...            NaN   \n",
       "2018-12-31        NaN        NaN        NaN        NaN    ...            NaN   \n",
       "\n",
       "               700 HK               7201 JP               7974 JP    9142 JP  \\\n",
       "           2016-03-22 2016-05-30 2015-01-02 2018-04-27 2017-05-26 2017-04-04   \n",
       "2015-01-02        NaN        NaN  0.0151661        NaN        NaN        NaN   \n",
       "2015-01-05        NaN        NaN  0.0150233        NaN        NaN        NaN   \n",
       "2015-01-06        NaN        NaN  0.0143552        NaN        NaN        NaN   \n",
       "2015-01-07        NaN        NaN  0.0144266        NaN        NaN        NaN   \n",
       "2015-01-08        NaN        NaN  0.0143909        NaN        NaN        NaN   \n",
       "2015-01-09        NaN        NaN  0.0145779        NaN        NaN        NaN   \n",
       "2015-01-12        NaN        NaN  0.0145779        NaN        NaN        NaN   \n",
       "2015-01-13        NaN        NaN  0.0144198        NaN        NaN        NaN   \n",
       "2015-01-14        NaN        NaN  0.0143059        NaN        NaN        NaN   \n",
       "2015-01-15        NaN        NaN   0.014243        NaN        NaN        NaN   \n",
       "2015-01-16        NaN        NaN  0.0141716        NaN        NaN        NaN   \n",
       "2015-01-19        NaN        NaN  0.0142906        NaN        NaN        NaN   \n",
       "2015-01-20        NaN        NaN  0.0146289        NaN        NaN        NaN   \n",
       "2015-01-21        NaN        NaN  0.0146493        NaN        NaN        NaN   \n",
       "2015-01-22        NaN        NaN  0.0148142        NaN        NaN        NaN   \n",
       "2015-01-23        NaN        NaN  0.0148499        NaN        NaN        NaN   \n",
       "2015-01-26        NaN        NaN  0.0147785        NaN        NaN        NaN   \n",
       "2015-01-27        NaN        NaN  0.0150658        NaN        NaN        NaN   \n",
       "2015-01-28        NaN        NaN  0.0150437        NaN        NaN        NaN   \n",
       "2015-01-29        NaN        NaN  0.0147496        NaN        NaN        NaN   \n",
       "2015-01-30        NaN        NaN  0.0145847        NaN        NaN        NaN   \n",
       "2015-02-02        NaN        NaN   0.014549        NaN        NaN        NaN   \n",
       "2015-02-03        NaN        NaN  0.0144912        NaN        NaN        NaN   \n",
       "2015-02-04        NaN        NaN  0.0147649        NaN        NaN        NaN   \n",
       "2015-02-05        NaN        NaN        NaN        NaN        NaN        NaN   \n",
       "2015-02-06        NaN        NaN        NaN        NaN        NaN        NaN   \n",
       "2015-02-09        NaN        NaN        NaN        NaN        NaN        NaN   \n",
       "2015-02-10        NaN        NaN        NaN        NaN        NaN        NaN   \n",
       "2015-02-11        NaN        NaN        NaN        NaN        NaN        NaN   \n",
       "2015-02-12        NaN        NaN        NaN        NaN        NaN        NaN   \n",
       "...               ...        ...        ...        ...        ...        ...   \n",
       "2018-11-20        NaN        NaN        NaN        NaN        NaN        NaN   \n",
       "2018-11-21        NaN        NaN        NaN        NaN        NaN        NaN   \n",
       "2018-11-22        NaN        NaN        NaN        NaN        NaN        NaN   \n",
       "2018-11-23        NaN        NaN        NaN        NaN        NaN        NaN   \n",
       "2018-11-26        NaN        NaN        NaN        NaN        NaN        NaN   \n",
       "2018-11-27        NaN        NaN        NaN        NaN        NaN        NaN   \n",
       "2018-11-28        NaN        NaN        NaN        NaN        NaN        NaN   \n",
       "2018-11-29        NaN        NaN        NaN        NaN        NaN        NaN   \n",
       "2018-11-30        NaN        NaN        NaN        NaN        NaN        NaN   \n",
       "2018-12-03        NaN        NaN        NaN        NaN        NaN        NaN   \n",
       "2018-12-04        NaN        NaN        NaN        NaN        NaN        NaN   \n",
       "2018-12-05        NaN        NaN        NaN        NaN        NaN        NaN   \n",
       "2018-12-06        NaN        NaN        NaN        NaN        NaN        NaN   \n",
       "2018-12-07        NaN        NaN        NaN        NaN        NaN        NaN   \n",
       "2018-12-10        NaN        NaN        NaN        NaN        NaN        NaN   \n",
       "2018-12-11        NaN        NaN        NaN        NaN        NaN        NaN   \n",
       "2018-12-12        NaN        NaN        NaN        NaN        NaN        NaN   \n",
       "2018-12-13        NaN        NaN        NaN        NaN        NaN        NaN   \n",
       "2018-12-14        NaN        NaN        NaN        NaN        NaN        NaN   \n",
       "2018-12-17        NaN        NaN        NaN        NaN        NaN        NaN   \n",
       "2018-12-18        NaN        NaN        NaN        NaN        NaN        NaN   \n",
       "2018-12-19        NaN        NaN        NaN        NaN        NaN        NaN   \n",
       "2018-12-20        NaN        NaN        NaN        NaN        NaN        NaN   \n",
       "2018-12-21        NaN        NaN        NaN        NaN        NaN        NaN   \n",
       "2018-12-24        NaN        NaN        NaN        NaN        NaN        NaN   \n",
       "2018-12-25        NaN        NaN        NaN        NaN        NaN        NaN   \n",
       "2018-12-26        NaN        NaN        NaN        NaN        NaN        NaN   \n",
       "2018-12-27        NaN        NaN        NaN        NaN        NaN        NaN   \n",
       "2018-12-28        NaN        NaN        NaN        NaN        NaN        NaN   \n",
       "2018-12-31        NaN        NaN        NaN        NaN        NaN        NaN   \n",
       "\n",
       "               FMG AU     ILU AU     LNG AU  \n",
       "           2016-09-15 2017-04-26 2015-07-27  \n",
       "2015-01-02        NaN        NaN        NaN  \n",
       "2015-01-05        NaN        NaN        NaN  \n",
       "2015-01-06        NaN        NaN        NaN  \n",
       "2015-01-07        NaN        NaN        NaN  \n",
       "2015-01-08        NaN        NaN        NaN  \n",
       "2015-01-09        NaN        NaN        NaN  \n",
       "2015-01-12        NaN        NaN        NaN  \n",
       "2015-01-13        NaN        NaN        NaN  \n",
       "2015-01-14        NaN        NaN        NaN  \n",
       "2015-01-15        NaN        NaN        NaN  \n",
       "2015-01-16        NaN        NaN        NaN  \n",
       "2015-01-19        NaN        NaN        NaN  \n",
       "2015-01-20        NaN        NaN        NaN  \n",
       "2015-01-21        NaN        NaN        NaN  \n",
       "2015-01-22        NaN        NaN        NaN  \n",
       "2015-01-23        NaN        NaN        NaN  \n",
       "2015-01-26        NaN        NaN        NaN  \n",
       "2015-01-27        NaN        NaN        NaN  \n",
       "2015-01-28        NaN        NaN        NaN  \n",
       "2015-01-29        NaN        NaN        NaN  \n",
       "2015-01-30        NaN        NaN        NaN  \n",
       "2015-02-02        NaN        NaN        NaN  \n",
       "2015-02-03        NaN        NaN        NaN  \n",
       "2015-02-04        NaN        NaN        NaN  \n",
       "2015-02-05        NaN        NaN        NaN  \n",
       "2015-02-06        NaN        NaN        NaN  \n",
       "2015-02-09        NaN        NaN        NaN  \n",
       "2015-02-10        NaN        NaN        NaN  \n",
       "2015-02-11        NaN        NaN        NaN  \n",
       "2015-02-12        NaN        NaN        NaN  \n",
       "...               ...        ...        ...  \n",
       "2018-11-20        NaN        NaN        NaN  \n",
       "2018-11-21        NaN        NaN        NaN  \n",
       "2018-11-22        NaN        NaN        NaN  \n",
       "2018-11-23        NaN        NaN        NaN  \n",
       "2018-11-26        NaN        NaN        NaN  \n",
       "2018-11-27        NaN        NaN        NaN  \n",
       "2018-11-28        NaN        NaN        NaN  \n",
       "2018-11-29        NaN        NaN        NaN  \n",
       "2018-11-30        NaN        NaN        NaN  \n",
       "2018-12-03        NaN        NaN        NaN  \n",
       "2018-12-04        NaN        NaN        NaN  \n",
       "2018-12-05        NaN        NaN        NaN  \n",
       "2018-12-06        NaN        NaN        NaN  \n",
       "2018-12-07        NaN        NaN        NaN  \n",
       "2018-12-10        NaN        NaN        NaN  \n",
       "2018-12-11        NaN        NaN        NaN  \n",
       "2018-12-12        NaN        NaN        NaN  \n",
       "2018-12-13        NaN        NaN        NaN  \n",
       "2018-12-14        NaN        NaN        NaN  \n",
       "2018-12-17        NaN        NaN        NaN  \n",
       "2018-12-18        NaN        NaN        NaN  \n",
       "2018-12-19        NaN        NaN        NaN  \n",
       "2018-12-20        NaN        NaN        NaN  \n",
       "2018-12-21        NaN        NaN        NaN  \n",
       "2018-12-24        NaN        NaN        NaN  \n",
       "2018-12-25        NaN        NaN        NaN  \n",
       "2018-12-26        NaN        NaN        NaN  \n",
       "2018-12-27        NaN        NaN        NaN  \n",
       "2018-12-28        NaN        NaN        NaN  \n",
       "2018-12-31        NaN        NaN        NaN  \n",
       "\n",
       "[1039 rows x 715 columns]"
      ]
     },
     "execution_count": 114,
     "metadata": {},
     "output_type": "execute_result"
    }
   ],
   "source": [
    "index_hedged_alpha_rp_combine[2]"
   ]
  },
  {
   "cell_type": "code",
   "execution_count": 96,
   "metadata": {},
   "outputs": [],
   "source": [
    "index_hedged_portfolio_rp_combine=signal_combine([Europe_center_book_rp.index_hedged_portfolio,\n",
    "                US_center_book_rp.index_hedged_portfolio,\n",
    "                Asia_center_book_rp.index_hedged_portfolio]\n",
    "               ,1000000000,700000000)"
   ]
  },
  {
   "cell_type": "code",
   "execution_count": 212,
   "metadata": {},
   "outputs": [
    {
     "data": {
      "text/plain": [
       "0.786782535584622"
      ]
     },
     "execution_count": 212,
     "metadata": {},
     "output_type": "execute_result"
    }
   ],
   "source": [
    "np.abs(index_hedged_portfolio_rp_combine[2]).sum(axis=1).mean()"
   ]
  },
  {
   "cell_type": "code",
   "execution_count": 214,
   "metadata": {},
   "outputs": [
    {
     "data": {
      "text/plain": [
       "0.7730280471159968"
      ]
     },
     "execution_count": 214,
     "metadata": {},
     "output_type": "execute_result"
    }
   ],
   "source": [
    "abs(alpha_FI_size).sum(axis=1).mean()"
   ]
  },
  {
   "cell_type": "code",
   "execution_count": null,
   "metadata": {},
   "outputs": [],
   "source": [
    "np.abs(index_hedged_portfolio_o[2]).sum(axis=1).mean()"
   ]
  },
  {
   "cell_type": "code",
   "execution_count": 70,
   "metadata": {},
   "outputs": [
    {
     "data": {
      "text/plain": [
       "(726,\n",
       " 0.4724517906336088,\n",
       " 1.6518216237091063,\n",
       " 0.043518907294510356,\n",
       " 0.030895613049138203,\n",
       " 1.4085788563345651,\n",
       " 0.038365134362353115)"
      ]
     },
     "execution_count": 70,
     "metadata": {},
     "output_type": "execute_result"
    }
   ],
   "source": [
    "trading_analytics(index_hedged_portfolio_rp_combine[0])"
   ]
  },
  {
   "cell_type": "code",
   "execution_count": 97,
   "metadata": {},
   "outputs": [
    {
     "data": {
      "image/png": "[encoded data removed]",
      "text/plain": [
       "<matplotlib.figure.Figure at 0x1639e8d0>"
      ]
     },
     "metadata": {},
     "output_type": "display_data"
    }
   ],
   "source": [
    "plot_signal('FI Pre and FI Val Risk parity sizing with index hedges',[6,4],index_hedged_portfolio_rp_combine)"
   ]
  },
  {
   "cell_type": "code",
   "execution_count": null,
   "metadata": {},
   "outputs": [],
   "source": []
  },
  {
   "cell_type": "code",
   "execution_count": 87,
   "metadata": {},
   "outputs": [],
   "source": [
    "factor_hedged_portfolio_rp_combine=signal_combine([Europe_center_book_rp.factor_hedged_portfolio,\n",
    "                US_center_book_rp.factor_hedged_portfolio,\n",
    "                Asia_center_book_rp.factor_hedged_portfolio]\n",
    "               ,1000000000,1000000000)"
   ]
  },
  {
   "cell_type": "code",
   "execution_count": 88,
   "metadata": {},
   "outputs": [
    {
     "data": {
      "text/plain": [
       "(964,\n",
       " 0.4678423236514523,\n",
       " 1.3726891829987402,\n",
       " 0.039360593074069694,\n",
       " 0.031469821914480306,\n",
       " 1.2507408901465242,\n",
       " 0.04031838133772936)"
      ]
     },
     "execution_count": 88,
     "metadata": {},
     "output_type": "execute_result"
    }
   ],
   "source": [
    "trading_analytics(factor_hedged_portfolio_rp_combine[0])"
   ]
  },
  {
   "cell_type": "code",
   "execution_count": 190,
   "metadata": {},
   "outputs": [
    {
     "data": {
      "image/png": "[encoded data removed]",
      "text/plain": [
       "<matplotlib.figure.Figure at 0x75ee7780>"
      ]
     },
     "metadata": {},
     "output_type": "display_data"
    }
   ],
   "source": [
    "plot_signal('Risk parity factor hedged',[6,4],factor_hedged_portfolio_rp_combine)"
   ]
  },
  {
   "cell_type": "code",
   "execution_count": null,
   "metadata": {},
   "outputs": [],
   "source": []
  },
  {
   "cell_type": "code",
   "execution_count": null,
   "metadata": {},
   "outputs": [],
   "source": []
  }
 ],
 "metadata": {
  "kernelspec": {
   "display_name": "Python 3",
   "language": "python",
   "name": "python3"
  },
  "language_info": {
   "codemirror_mode": {
    "name": "ipython",
    "version": 3
   },
   "file_extension": ".py",
   "mimetype": "text/x-python",
   "name": "python",
   "nbconvert_exporter": "python",
   "pygments_lexer": "ipython3",
   "version": "3.7.3"
  }
 },
 "nbformat": 4,
 "nbformat_minor": 2
}
