{
 "cells": [
  {
   "cell_type": "code",
   "execution_count": 1,
   "metadata": {},
   "outputs": [],
   "source": [
    "import pandas as pd\n",
    "import pyodbc \n",
    "import numpy as np\n"
   ]
  },
  {
   "cell_type": "code",
   "execution_count": null,
   "metadata": {},
   "outputs": [],
   "source": []
  },
  {
   "cell_type": "code",
   "execution_count": 20,
   "metadata": {},
   "outputs": [],
   "source": [
    "import matplotlib.pyplot as plt"
   ]
  },
  {
   "cell_type": "code",
   "execution_count": 15,
   "metadata": {},
   "outputs": [],
   "source": [
    "iteration=100000\n",
    "sample_size=100\n",
    "\n",
    "random_dict={}\n",
    "for i in range(iteration):\n",
    "    random_dict[i]=np.random.uniform(0,5,sample_size)\n",
    "\n"
   ]
  },
  {
   "cell_type": "code",
   "execution_count": 17,
   "metadata": {},
   "outputs": [],
   "source": [
    "ab=pd.DataFrame(random_dict)"
   ]
  },
  {
   "cell_type": "code",
   "execution_count": 40,
   "metadata": {},
   "outputs": [
    {
     "data": {
      "text/plain": [
       "[]"
      ]
     },
     "execution_count": 40,
     "metadata": {},
     "output_type": "execute_result"
    },
    {
     "data": {
      "image/png": "[encoded data removed]",
      "text/plain": [
       "<Figure size 432x288 with 1 Axes>"
      ]
     },
     "metadata": {
      "needs_background": "light"
     },
     "output_type": "display_data"
    }
   ],
   "source": [
    "plt.hist(ab.mean(axis=1),bins=150,range=(2.48,2.52))\n",
    "plt.plot()"
   ]
  },
  {
   "cell_type": "code",
   "execution_count": 41,
   "metadata": {},
   "outputs": [
    {
     "data": {
      "text/plain": [
       "[]"
      ]
     },
     "execution_count": 41,
     "metadata": {},
     "output_type": "execute_result"
    },
    {
     "data": {
      "image/png": "[encoded data removed]",
      "text/plain": [
       "<Figure size 432x288 with 1 Axes>"
      ]
     },
     "metadata": {
      "needs_background": "light"
     },
     "output_type": "display_data"
    }
   ],
   "source": [
    "plt.hist(ab.median(axis=1),bins=150,range=(2.48,2.52))\n",
    "plt.plot()"
   ]
  },
  {
   "cell_type": "code",
   "execution_count": 34,
   "metadata": {},
   "outputs": [
    {
     "data": {
      "text/plain": [
       "0     2.500542\n",
       "1     2.507383\n",
       "2     2.504811\n",
       "3     2.500145\n",
       "4     2.494981\n",
       "5     2.493828\n",
       "6     2.505149\n",
       "7     2.490802\n",
       "8     2.506305\n",
       "9     2.499745\n",
       "10    2.491569\n",
       "11    2.507529\n",
       "12    2.501699\n",
       "13    2.498577\n",
       "14    2.499174\n",
       "15    2.492244\n",
       "16    2.499863\n",
       "17    2.502461\n",
       "18    2.504576\n",
       "19    2.501416\n",
       "20    2.500879\n",
       "21    2.497474\n",
       "22    2.507512\n",
       "23    2.500053\n",
       "24    2.505563\n",
       "25    2.499363\n",
       "26    2.498705\n",
       "27    2.508769\n",
       "28    2.499044\n",
       "29    2.508210\n",
       "        ...   \n",
       "70    2.496039\n",
       "71    2.492747\n",
       "72    2.499056\n",
       "73    2.498594\n",
       "74    2.507100\n",
       "75    2.496305\n",
       "76    2.502384\n",
       "77    2.502082\n",
       "78    2.499185\n",
       "79    2.494139\n",
       "80    2.497577\n",
       "81    2.495966\n",
       "82    2.501760\n",
       "83    2.508700\n",
       "84    2.495128\n",
       "85    2.503693\n",
       "86    2.493933\n",
       "87    2.493923\n",
       "88    2.499442\n",
       "89    2.507965\n",
       "90    2.503032\n",
       "91    2.503779\n",
       "92    2.510761\n",
       "93    2.499429\n",
       "94    2.502583\n",
       "95    2.501068\n",
       "96    2.499301\n",
       "97    2.496296\n",
       "98    2.507290\n",
       "99    2.500301\n",
       "Length: 100, dtype: float64"
      ]
     },
     "execution_count": 34,
     "metadata": {},
     "output_type": "execute_result"
    }
   ],
   "source": [
    "ab.mean(axis=1)"
   ]
  },
  {
   "cell_type": "code",
   "execution_count": null,
   "metadata": {},
   "outputs": [],
   "source": []
  },
  {
   "cell_type": "code",
   "execution_count": null,
   "metadata": {},
   "outputs": [],
   "source": []
  },
  {
   "cell_type": "code",
   "execution_count": 2,
   "metadata": {},
   "outputs": [],
   "source": [
    "#initial cleaning function\n",
    "def clean_sheet(dataframe):\n",
    "    adj=dataframe.dropna(axis=1,how='all')\n",
    "    adj=dataframe.set_index(adj.columns[0]) #use stock tickers as the index\n",
    "    return adj"
   ]
  },
  {
   "cell_type": "code",
   "execution_count": 3,
   "metadata": {},
   "outputs": [],
   "source": [
    "cc=clean_sheet(pd.read_excel(r'C:\\Users\\Eric.Li\\Documents\\Post result data\\{0} 2007-2017.xlsx'.format('Asia'),sheet_name='Index'))"
   ]
  },
  {
   "cell_type": "code",
   "execution_count": 63,
   "metadata": {},
   "outputs": [],
   "source": [
    "def fundamental_df_clean(region,year,tabs,volume_low,size_low):\n",
    "    data_dict={}\n",
    "\n",
    "    for s in tabs:\n",
    "        df=clean_sheet(pd.read_excel(r'C:\\Users\\Eric.Li\\Documents\\Post result data\\{0} {1}.xlsx'.\\\n",
    "                                     format(region,year),sheet_name=s,header=1))\n",
    "        data_dict[s]=df\n",
    "\n",
    "    # select the right universe\n",
    " \n",
    "    \n",
    "    \n",
    "    fundamental_df=data_dict[\"Date\"].unstack(-1).to_frame()\n",
    "    fundamental_df.index=fundamental_df.apply(lambda x: x.name[1],axis=1)\n",
    "    fundamental_df.columns=[\"Date\"]\n",
    "    \n",
    "    for i in tabs:\n",
    "        if i=='Quarter' and data_dict[\"Quarter\"].shape[1]!=data_dict[\"Date\"].shape[1]:\n",
    "            fundamental_df[i]=pd.concat([data_dict[\"Quarter\"],data_dict[\"Date\"].iloc[:,data_dict[\"Quarter\"].shape[1]-\\\n",
    "                                                                   data_dict[\"Date\"].shape[1]:]],axis=1).unstack(-1).values\n",
    "        else:\n",
    "            try:\n",
    "                fundamental_df[i]=data_dict[i].unstack(-1).values\n",
    "            except ValueError:\n",
    "                pass\n",
    "        \n",
    "    fundamental_df=fundamental_df.dropna(how=\"all\",axis=0)\n",
    "    fundamental_df=fundamental_df[-np.isnat(fundamental_df.Date)]\n",
    "\n",
    "    fundamental_df[\"Supersector\"]=fundamental_df.apply(lambda x:data_dict[\"Property\"].loc[x.name,\"Supersector\"]\\\n",
    "                                           if type(x.name)==str else None,axis=1)\n",
    "\n",
    "    fundamental_df[\"Sector\"]=fundamental_df.apply(lambda x:data_dict[\"Property\"].loc[x.name,\"Sector\"]\\\n",
    "                                           if type(x.name)==str else None,axis=1)\n",
    "\n",
    "\n",
    "\n",
    "\n",
    "    if 'Index' in data_dict.keys():\n",
    "        fundamental_df[\"Index\"]=fundamental_df.apply(lambda x: data_dict[\"Index\"].loc[x.name].iloc[0] if type(x.name)==str\\\n",
    "                                                     else None,axis=1)\n",
    "\n",
    "    fundamental_df=fundamental_df[fundamental_df.apply(lambda x: type(x.name)==str,axis=1)]\n",
    "\n",
    "    fundamental_df=fundamental_df[(fundamental_df[\"Market cap\"]>size_low)&(fundamental_df[\"Volume\"]>volume_low)]\n",
    "    \n",
    "    fundamental_df.index.name='Ticker'\n",
    "        \n",
    "    return fundamental_df"
   ]
  },
  {
   "cell_type": "code",
   "execution_count": 64,
   "metadata": {},
   "outputs": [],
   "source": [
    "US_2019=fundamental_df_clean('US','2019',['Date','Market cap','Volume','Property',\\\n",
    "                                                          'Quarter'],3,500)"
   ]
  },
  {
   "cell_type": "code",
   "execution_count": 65,
   "metadata": {},
   "outputs": [],
   "source": [
    "US_2018=fundamental_df_clean('US','2018',['Date','Market cap','Volume','Property',\\\n",
    "                                                          'Quarter'],3,500)"
   ]
  },
  {
   "cell_type": "code",
   "execution_count": 66,
   "metadata": {},
   "outputs": [],
   "source": [
    "US_history=fundamental_df_clean('US','2007-2017',['Date','Market cap','Volume','Property',\\\n",
    "                                                          'Quarter'],3,500)"
   ]
  },
  {
   "cell_type": "code",
   "execution_count": 67,
   "metadata": {},
   "outputs": [],
   "source": [
    "US=US_history.append(US_2018).append(US_2019)"
   ]
  },
  {
   "cell_type": "code",
   "execution_count": 70,
   "metadata": {},
   "outputs": [],
   "source": [
    "Europe_2018=fundamental_df_clean('Europe','2018',['Date','Market cap','Volume','Property',\\\n",
    "                                                          'Quarter'],3,500)"
   ]
  },
  {
   "cell_type": "code",
   "execution_count": 71,
   "metadata": {},
   "outputs": [],
   "source": [
    "Europe_2019=fundamental_df_clean('Europe','2019',['Date','Market cap','Volume','Property',\\\n",
    "                                                          'Quarter'],3,500)"
   ]
  },
  {
   "cell_type": "code",
   "execution_count": 72,
   "metadata": {},
   "outputs": [],
   "source": [
    "Europe_history=fundamental_df_clean('Europe','2007-2017',['Date','Market cap','Volume','Property',\\\n",
    "                                                          'Quarter'],3,500)"
   ]
  },
  {
   "cell_type": "code",
   "execution_count": 73,
   "metadata": {},
   "outputs": [],
   "source": [
    "Europe=Europe_history.append(Europe_2018).append(Europe_2019)"
   ]
  },
  {
   "cell_type": "code",
   "execution_count": 74,
   "metadata": {},
   "outputs": [],
   "source": [
    "Asia_2018=fundamental_df_clean('Asia','2018',['Date','Market cap','Volume','Property',\\\n",
    "                                                          'Quarter'],3,500)"
   ]
  },
  {
   "cell_type": "code",
   "execution_count": 75,
   "metadata": {},
   "outputs": [],
   "source": [
    "Asia_2019=fundamental_df_clean('Asia','2019',['Date','Market cap','Volume','Property',\\\n",
    "                                                          'Quarter'],3,500)"
   ]
  },
  {
   "cell_type": "code",
   "execution_count": 76,
   "metadata": {},
   "outputs": [],
   "source": [
    "Asia_history=fundamental_df_clean('Asia','2007-2017',['Date','Market cap','Volume','Property',\\\n",
    "                                                          'Quarter'],3,500)"
   ]
  },
  {
   "cell_type": "code",
   "execution_count": 77,
   "metadata": {},
   "outputs": [],
   "source": [
    "Asia=Asia_history.append(Asia_2018).append(Asia_2019)"
   ]
  },
  {
   "cell_type": "code",
   "execution_count": 69,
   "metadata": {},
   "outputs": [],
   "source": [
    "US.to_csv('US.csv')"
   ]
  },
  {
   "cell_type": "code",
   "execution_count": 78,
   "metadata": {},
   "outputs": [],
   "source": [
    "Europe.to_csv('Europe.csv')"
   ]
  },
  {
   "cell_type": "code",
   "execution_count": 79,
   "metadata": {},
   "outputs": [],
   "source": [
    "Asia.to_csv('Asia.csv')"
   ]
  },
  {
   "cell_type": "code",
   "execution_count": null,
   "metadata": {},
   "outputs": [],
   "source": []
  }
 ],
 "metadata": {
  "kernelspec": {
   "display_name": "Python 3",
   "language": "python",
   "name": "python3"
  },
  "language_info": {
   "codemirror_mode": {
    "name": "ipython",
    "version": 3
   },
   "file_extension": ".py",
   "mimetype": "text/x-python",
   "name": "python",
   "nbconvert_exporter": "python",
   "pygments_lexer": "ipython3",
   "version": "3.7.3"
  }
 },
 "nbformat": 4,
 "nbformat_minor": 2
}
