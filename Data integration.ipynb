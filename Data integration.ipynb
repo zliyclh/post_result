{
 "cells": [
  {
   "cell_type": "code",
   "execution_count": 75,
   "metadata": {},
   "outputs": [],
   "source": [
    "import pandas as pd\n",
    "import pyodbc \n",
    "import numpy as np\n"
   ]
  },
  {
   "cell_type": "code",
   "execution_count": null,
   "metadata": {},
   "outputs": [],
   "source": []
  },
  {
   "cell_type": "code",
   "execution_count": null,
   "metadata": {},
   "outputs": [],
   "source": []
  },
  {
   "cell_type": "code",
   "execution_count": 76,
   "metadata": {},
   "outputs": [],
   "source": [
    "#initial cleaning function\n",
    "def clean_sheet(dataframe):\n",
    "    adj=dataframe.dropna(axis=1,how='all')\n",
    "    adj=dataframe.set_index(adj.columns[0]) #use stock tickers as the index\n",
    "    return adj"
   ]
  },
  {
   "cell_type": "code",
   "execution_count": 77,
   "metadata": {},
   "outputs": [],
   "source": [
    "cc=clean_sheet(pd.read_excel(r'C:\\Users\\Eric.Li\\OneDrive\\Post result data\\{0} 2007-2017.xlsx'.format('Asia'),sheet_name='Index'))"
   ]
  },
  {
   "cell_type": "code",
   "execution_count": 97,
   "metadata": {},
   "outputs": [],
   "source": [
    "df=clean_sheet(pd.read_excel(r'C:\\Users\\Eric.Li\\OneDrive\\Post result data\\{0} {1}.xlsx'.\\\n",
    "                                     format(\"US\",\"2007-2017\"),sheet_name=\"Property\",header=1))"
   ]
  },
  {
   "cell_type": "code",
   "execution_count": 100,
   "metadata": {},
   "outputs": [
    {
     "data": {
      "text/plain": [
       "array(['#N/A Review', 'Oil & Gas', 'Health Care', 'Technology',\n",
       "       'Industrial Goods & Services', 'Personal & Household Goods',\n",
       "       'Construction & Materials', nan, 'Retail', 'Telecommunications',\n",
       "       'Financial Services', 'Utilities', 'Travel & Leisure', 'Banks',\n",
       "       'Media', 'Food & Beverage', 'Basic Resources', 'Real Estate',\n",
       "       'Insurance', 'Automobiles & Parts', 'Chemicals'], dtype=object)"
      ]
     },
     "execution_count": 100,
     "metadata": {},
     "output_type": "execute_result"
    }
   ],
   "source": [
    "df[\"Supersector\"].unique()"
   ]
  },
  {
   "cell_type": "code",
   "execution_count": null,
   "metadata": {},
   "outputs": [],
   "source": []
  },
  {
   "cell_type": "code",
   "execution_count": null,
   "metadata": {},
   "outputs": [],
   "source": []
  },
  {
   "cell_type": "code",
   "execution_count": 143,
   "metadata": {},
   "outputs": [],
   "source": [
    "def fundamental_df_clean(region,year,tabs,volume_low,size_low):\n",
    "    data_dict={}\n",
    "\n",
    "    for s in tabs:\n",
    "        df=clean_sheet(pd.read_excel(r'C:\\Users\\Eric.Li\\OneDrive\\Post result data\\{0} {1}.xlsx'.\\\n",
    "                                     format(region,year),sheet_name=s,header=1))\n",
    "        data_dict[s]=df\n",
    "\n",
    "    # select the right universe\n",
    " \n",
    "    \n",
    "    \n",
    "    fundamental_df=data_dict[\"Date\"].unstack(-1).to_frame()\n",
    "    fundamental_df.index=fundamental_df.apply(lambda x: x.name[1],axis=1)\n",
    "    fundamental_df.columns=[\"Date\"]\n",
    "    \n",
    "    for i in tabs:\n",
    "        if i=='Orig date' and data_dict[\"Orig date\"].shape[1]!=data_dict[\"Date\"].shape[1]:\n",
    "            fundamental_df[i]=pd.concat([data_dict[\"Orig date\"],data_dict[\"Date\"].iloc[:,data_dict[\"Orig date\"].shape[1]-\\\n",
    "                                                                   data_dict[\"Date\"].shape[1]:]],axis=1).unstack(-1).values\n",
    "        else:\n",
    "            try:\n",
    "                fundamental_df[i]=data_dict[i].unstack(-1).values\n",
    "            except ValueError:\n",
    "                pass\n",
    "        \n",
    "    fundamental_df=fundamental_df.dropna(how=\"all\",axis=0)\n",
    "    fundamental_df=fundamental_df[-np.isnat(fundamental_df.Date)]\n",
    "\n",
    "    fundamental_df[\"Supersector\"]=fundamental_df.apply(lambda x:data_dict[\"Property\"].loc[x.name,\"Supersector\"]\\\n",
    "                                           if type(x.name)==str else None,axis=1)\n",
    "\n",
    "    fundamental_df[\"Sector\"]=fundamental_df.apply(lambda x:data_dict[\"Property\"].loc[x.name,\"Sector\"]\\\n",
    "                                           if type(x.name)==str else None,axis=1)\n",
    "\n",
    "\n",
    "\n",
    "\n",
    "    if 'Index' in data_dict.keys():\n",
    "        fundamental_df[\"Index\"]=fundamental_df.apply(lambda x: data_dict[\"Index\"].loc[x.name].iloc[0] if type(x.name)==str\\\n",
    "                                                     else None,axis=1)\n",
    "\n",
    "    fundamental_df=fundamental_df[fundamental_df.apply(lambda x: type(x.name)==str,axis=1)]\n",
    "\n",
    "    fundamental_df=fundamental_df[(fundamental_df[\"Market cap\"]>size_low)&(fundamental_df[\"Volume\"]>volume_low)]\n",
    "    \n",
    "    fundamental_df.index.name='Ticker'\n",
    "    \n",
    "        \n",
    "    return fundamental_df.drop_duplicates()"
   ]
  },
  {
   "cell_type": "code",
   "execution_count": 79,
   "metadata": {},
   "outputs": [],
   "source": [
    "US_2019=fundamental_df_clean('US','2019',['Orig date','Date','Market cap','Volume','Property'],3,500)"
   ]
  },
  {
   "cell_type": "code",
   "execution_count": 153,
   "metadata": {},
   "outputs": [],
   "source": [
    "US_2018=fundamental_df_clean('US','2018',['Orig date','Date','Market cap','Volume','Property'],3,500)"
   ]
  },
  {
   "cell_type": "code",
   "execution_count": 154,
   "metadata": {},
   "outputs": [],
   "source": [
    "US_history=fundamental_df_clean('US','2007-2017',['Orig date','Date','Market cap','Volume','Property'],3,500)"
   ]
  },
  {
   "cell_type": "code",
   "execution_count": 157,
   "metadata": {},
   "outputs": [],
   "source": [
    "US=US_history.append(US_2018).append(US_2019)"
   ]
  },
  {
   "cell_type": "code",
   "execution_count": 134,
   "metadata": {},
   "outputs": [],
   "source": [
    "Europe_2018=fundamental_df_clean('Europe','2018',['Date','Market cap','Volume','Property',\\\n",
    "                                                          'Quarter'],3,500)"
   ]
  },
  {
   "cell_type": "code",
   "execution_count": 71,
   "metadata": {},
   "outputs": [],
   "source": [
    "Europe_2019=fundamental_df_clean('Europe','2019',['Date','Market cap','Volume','Property',\\\n",
    "                                                          'Quarter'],3,500)"
   ]
  },
  {
   "cell_type": "code",
   "execution_count": 72,
   "metadata": {},
   "outputs": [],
   "source": [
    "Europe_history=fundamental_df_clean('Europe','2007-2017',['Date','Market cap','Volume','Property',\\\n",
    "                                                          'Quarter'],3,500)"
   ]
  },
  {
   "cell_type": "code",
   "execution_count": 73,
   "metadata": {},
   "outputs": [],
   "source": [
    "Europe=Europe_history.append(Europe_2018).append(Europe_2019)"
   ]
  },
  {
   "cell_type": "code",
   "execution_count": 74,
   "metadata": {},
   "outputs": [],
   "source": [
    "Asia_2018=fundamental_df_clean('Asia','2018',['Date','Market cap','Volume','Property',\\\n",
    "                                                          'Quarter'],3,500)"
   ]
  },
  {
   "cell_type": "code",
   "execution_count": 75,
   "metadata": {},
   "outputs": [],
   "source": [
    "Asia_2019=fundamental_df_clean('Asia','2019',['Date','Market cap','Volume','Property',\\\n",
    "                                                          'Quarter'],3,500)"
   ]
  },
  {
   "cell_type": "code",
   "execution_count": 76,
   "metadata": {},
   "outputs": [],
   "source": [
    "Asia_history=fundamental_df_clean('Asia','2007-2017',['Date','Market cap','Volume','Property',\\\n",
    "                                                          'Quarter'],3,500)"
   ]
  },
  {
   "cell_type": "code",
   "execution_count": 77,
   "metadata": {},
   "outputs": [],
   "source": [
    "Asia=Asia_history.append(Asia_2018).append(Asia_2019)"
   ]
  },
  {
   "cell_type": "code",
   "execution_count": 158,
   "metadata": {},
   "outputs": [],
   "source": [
    "US.to_csv(r'C:\\Users\\Eric.Li\\OneDrive\\Post result data cache\\{0}_raw_fundamental_df.csv'.format(\"US\"))"
   ]
  },
  {
   "cell_type": "code",
   "execution_count": 78,
   "metadata": {},
   "outputs": [],
   "source": [
    "Europe.to_csv('Europe.csv')"
   ]
  },
  {
   "cell_type": "code",
   "execution_count": 79,
   "metadata": {},
   "outputs": [],
   "source": [
    "Asia.to_csv('Asia.csv')"
   ]
  },
  {
   "cell_type": "code",
   "execution_count": null,
   "metadata": {},
   "outputs": [],
   "source": []
  }
 ],
 "metadata": {
  "kernelspec": {
   "display_name": "Python 3",
   "language": "python",
   "name": "python3"
  },
  "language_info": {
   "codemirror_mode": {
    "name": "ipython",
    "version": 3
   },
   "file_extension": ".py",
   "mimetype": "text/x-python",
   "name": "python",
   "nbconvert_exporter": "python",
   "pygments_lexer": "ipython3",
   "version": "3.7.3"
  }
 },
 "nbformat": 4,
 "nbformat_minor": 2
}
