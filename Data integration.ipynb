{
 "cells": [
  {
   "cell_type": "code",
   "execution_count": 1,
   "metadata": {},
   "outputs": [],
   "source": [
    "import pandas as pd\n",
    "import pyodbc \n",
    "import numpy as np\n"
   ]
  },
  {
   "cell_type": "code",
   "execution_count": 190,
   "metadata": {},
   "outputs": [],
   "source": [
    "'''Connect to post result database'''\n",
    "cnxn = pyodbc.connect('DRIVER={SQL Server};SERVER=dsa-ln-WS015\\SQLEXPRESS;DATABASE=Post_result;Trusted_Connection=yes')   \n",
    "cursor = cnxn.cursor()  "
   ]
  },
  {
   "cell_type": "code",
   "execution_count": null,
   "metadata": {},
   "outputs": [],
   "source": [
    "sql_list=[]\n",
    "for year in range(2007,2018):\n",
    "    sql=\"select * from US_price_{0} where Ticker in {1}\".format(year,str(tuple(alist)))\n",
    "    data=pd.read_sql(sql,cnxn).set_index(\"Ticker\")\n",
    "    \n",
    "    sql_list.append(data)\n",
    "\n",
    "price_US=pd.concat(sql_list,axis=1,join=\"outer\")"
   ]
  },
  {
   "cell_type": "code",
   "execution_count": 308,
   "metadata": {},
   "outputs": [],
   "source": [
    "'''cleansing the data and export'''\n",
    "US=data_dict_US[\"Date\"].unstack(-1).to_frame()\n",
    "US.index=US.apply(lambda x: x.name[1],axis=1)\n",
    "US.columns=[\"Date\"]\n",
    "\n",
    "for i in ['Quarter','Revision','Market cap','Volume','PE','PE premium','EPS','Broker']:\n",
    "    US[i]=data_dict_US[i].unstack(-1).values\n"
   ]
  },
  {
   "cell_type": "code",
   "execution_count": 309,
   "metadata": {},
   "outputs": [],
   "source": [
    "adj_US=US.dropna(how=\"all\",axis=0)\n",
    "adj_US=adj_US[-np.isnan(adj_US.Revision)]\n",
    "adj_US=adj_US[-np.isnat(adj_US.Date)]\n",
    "adj_US.to_csv(\"US.csv\")"
   ]
  },
  {
   "cell_type": "code",
   "execution_count": null,
   "metadata": {},
   "outputs": [],
   "source": []
  }
 ],
 "metadata": {
  "kernelspec": {
   "display_name": "Python 3",
   "language": "python",
   "name": "python3"
  },
  "language_info": {
   "codemirror_mode": {
    "name": "ipython",
    "version": 3
   },
   "file_extension": ".py",
   "mimetype": "text/x-python",
   "name": "python",
   "nbconvert_exporter": "python",
   "pygments_lexer": "ipython3",
   "version": "3.6.4"
  }
 },
 "nbformat": 4,
 "nbformat_minor": 2
}
