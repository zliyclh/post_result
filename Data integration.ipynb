{
 "cells": [
  {
   "cell_type": "code",
   "execution_count": 32,
   "metadata": {},
   "outputs": [],
   "source": [
    "import pandas as pd\n",
    "import pyodbc \n",
    "import numpy as np\n",
    "import datetime"
   ]
  },
  {
   "cell_type": "code",
   "execution_count": 2,
   "metadata": {},
   "outputs": [],
   "source": [
    "#initial cleaning function\n",
    "def clean_sheet(dataframe):\n",
    "    adj=dataframe.dropna(axis=1,how='all')\n",
    "    adj=dataframe.set_index(adj.columns[0]) #use stock tickers as the index\n",
    "    return adj"
   ]
  },
  {
   "cell_type": "code",
   "execution_count": 3,
   "metadata": {},
   "outputs": [],
   "source": [
    "cc=clean_sheet(pd.read_excel(r'C:\\Users\\Eric.Li\\Documents\\Post result data\\{0} 2007-2017.xlsx'.format('Asia'),sheet_name='Index'))"
   ]
  },
  {
   "cell_type": "code",
   "execution_count": 66,
   "metadata": {},
   "outputs": [],
   "source": [
    "def fundamental_df_clean(region,year,tabs,volume_low,size_low):\n",
    "    data_dict={}\n",
    "\n",
    "    for s in tabs:\n",
    "        df=clean_sheet(pd.read_excel(r'C:\\Users\\Eric.Li\\Documents\\Post result data\\{0} {1}.xlsx'.\\\n",
    "                                     format(region,year),sheet_name=s,header=1))\n",
    "        data_dict[s]=df\n",
    "\n",
    "    fundamental_df=data_dict[\"Date\"].unstack(-1).to_frame()\n",
    "    fundamental_df.index=fundamental_df.apply(lambda x: x.name[1],axis=1)\n",
    "    fundamental_df.columns=[\"Date\"]\n",
    "    \n",
    "    \n",
    "    for i in tabs:\n",
    "        if (i=='Quarter' and data_dict[\"Quarter\"].shape[1]!=data_dict[\"Date\"].shape[1]) or i=='Orig date':\n",
    "            fundamental_df[i]=pd.concat([data_dict[i],data_dict[\"Date\"].iloc[:,data_dict[i].shape[1]-\\\n",
    "                                                                   data_dict[\"Date\"].shape[1]:]],axis=1).unstack(-1).values\n",
    "        else:\n",
    "            try:\n",
    "                fundamental_df[i]=data_dict[i].unstack(-1).values\n",
    "            except ValueError:\n",
    "                pass\n",
    "        \n",
    "    fundamental_df=fundamental_df.dropna(how=\"all\",axis=0)\n",
    "    fundamental_df=fundamental_df[-np.isnat(fundamental_df.Date)]\n",
    "\n",
    "    fundamental_df[\"Supersector\"]=fundamental_df.apply(lambda x:data_dict[\"Property\"].loc[x.name,\"Supersector\"]\\\n",
    "                                           if type(x.name)==str else None,axis=1)\n",
    "\n",
    "    fundamental_df[\"Sector\"]=fundamental_df.apply(lambda x:data_dict[\"Property\"].loc[x.name,\"Sector\"]\\\n",
    "                                           if type(x.name)==str else None,axis=1)\n",
    "\n",
    "\n",
    "\n",
    "\n",
    "    if 'Index' in data_dict.keys():\n",
    "        fundamental_df[\"Index\"]=fundamental_df.apply(lambda x: data_dict[\"Index\"].loc[x.name].iloc[0] if type(x.name)==str\\\n",
    "                                                     else None,axis=1)\n",
    "\n",
    "    fundamental_df=fundamental_df[fundamental_df.apply(lambda x: type(x.name)==str,axis=1)]\n",
    "    #Select the right universe\n",
    "    fundamental_df=fundamental_df[(fundamental_df[\"Market cap\"]>size_low)&(fundamental_df[\"Volume\"]>volume_low)]\n",
    "    \n",
    "    fundamental_df.index.name='Ticker'\n",
    "    \n",
    "    if \"Orig date\" in fundamental_df.columns:\n",
    "        fundamental_df[\"Orig date\"]=fundamental_df.apply(lambda x:pd.Timestamp(x[\"Orig date\"]),axis=1)\n",
    "        \n",
    "    return fundamental_df"
   ]
  },
  {
   "cell_type": "code",
   "execution_count": 67,
   "metadata": {},
   "outputs": [],
   "source": [
    "US_2019=fundamental_df_clean('US','2019',['Date',\"Orig date\",'Market cap','Volume','Property',\\\n",
    "                                                          'Quarter'],3,500)"
   ]
  },
  {
   "cell_type": "code",
   "execution_count": 14,
   "metadata": {},
   "outputs": [],
   "source": [
    "US_2018=fundamental_df_clean('US','2018',['Date',\"Orig date\",'Market cap','Volume','Property',\\\n",
    "                                                          'Quarter'],3,500)"
   ]
  },
  {
   "cell_type": "code",
   "execution_count": 15,
   "metadata": {},
   "outputs": [],
   "source": [
    "US_history=fundamental_df_clean('US','2007-2017',['Date',\"Orig date\",'Market cap','Volume','Property',\\\n",
    "                                                          'Quarter'],3,500)"
   ]
  },
  {
   "cell_type": "code",
   "execution_count": 59,
   "metadata": {},
   "outputs": [],
   "source": [
    "US=US_history.append(US_2018).append(US_2019)"
   ]
  },
  {
   "cell_type": "code",
   "execution_count": 5,
   "metadata": {},
   "outputs": [],
   "source": [
    "Europe_2018=fundamental_df_clean('Europe','2018',['Date',\"Orig date\",'Market cap','Volume','Property',\\\n",
    "                                                          'Quarter'],3,500)"
   ]
  },
  {
   "cell_type": "code",
   "execution_count": 6,
   "metadata": {},
   "outputs": [],
   "source": [
    "Europe_2019=fundamental_df_clean('Europe','2019',['Date',\"Orig date\",'Market cap','Volume','Property',\\\n",
    "                                                          'Quarter'],3,500)"
   ]
  },
  {
   "cell_type": "code",
   "execution_count": 7,
   "metadata": {},
   "outputs": [],
   "source": [
    "Europe_history=fundamental_df_clean('Europe','2007-2017',['Date',\"Orig date\",'Market cap','Volume','Property',\\\n",
    "                                                          'Quarter'],3,500)"
   ]
  },
  {
   "cell_type": "code",
   "execution_count": 58,
   "metadata": {},
   "outputs": [],
   "source": [
    "Europe=Europe_history.append(Europe_2018).append(Europe_2019)"
   ]
  },
  {
   "cell_type": "code",
   "execution_count": 9,
   "metadata": {},
   "outputs": [],
   "source": [
    "Asia_2018=fundamental_df_clean('Asia','2018',['Date',\"Orig date\",'Market cap','Volume','Property',\\\n",
    "                                                          'Quarter'],3,500)"
   ]
  },
  {
   "cell_type": "code",
   "execution_count": 10,
   "metadata": {},
   "outputs": [],
   "source": [
    "Asia_2019=fundamental_df_clean('Asia','2019',['Date',\"Orig date\",'Market cap','Volume','Property',\\\n",
    "                                                          'Quarter'],3,500)"
   ]
  },
  {
   "cell_type": "code",
   "execution_count": null,
   "metadata": {},
   "outputs": [],
   "source": [
    "Asia_history=fundamental_df_clean('Asia','2007-2017',['Date',\"Orig date\",'Market cap','Volume','Property',\\\n",
    "                                                          'Quarter'],3,500)"
   ]
  },
  {
   "cell_type": "code",
   "execution_count": 57,
   "metadata": {},
   "outputs": [],
   "source": [
    "Asia=Asia_history.append(Asia_2018).append(Asia_2019)"
   ]
  },
  {
   "cell_type": "code",
   "execution_count": 71,
   "metadata": {},
   "outputs": [],
   "source": [
    "US.to_csv(r'C:\\Users\\Eric.Li\\OneDrive\\Post result data cache\\US_raw_fundamental_df.csv')"
   ]
  },
  {
   "cell_type": "code",
   "execution_count": 72,
   "metadata": {},
   "outputs": [],
   "source": [
    "Europe.to_csv(r'C:\\Users\\Eric.Li\\OneDrive\\Post result data cache\\Europe_raw_fundamental_df.csv')"
   ]
  },
  {
   "cell_type": "code",
   "execution_count": 73,
   "metadata": {},
   "outputs": [],
   "source": [
    "Asia.to_csv(r'C:\\Users\\Eric.Li\\OneDrive\\Post result data cache\\Asia_raw_fundamental_df.csv')"
   ]
  },
  {
   "cell_type": "code",
   "execution_count": null,
   "metadata": {},
   "outputs": [],
   "source": []
  }
 ],
 "metadata": {
  "kernelspec": {
   "display_name": "Python 3",
   "language": "python",
   "name": "python3"
  },
  "language_info": {
   "codemirror_mode": {
    "name": "ipython",
    "version": 3
   },
   "file_extension": ".py",
   "mimetype": "text/x-python",
   "name": "python",
   "nbconvert_exporter": "python",
   "pygments_lexer": "ipython3",
   "version": "3.7.3"
  }
 },
 "nbformat": 4,
 "nbformat_minor": 2
}
