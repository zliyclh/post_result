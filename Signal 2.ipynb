{
 "cells": [
  {
   "cell_type": "markdown",
   "metadata": {},
   "source": [
    "# Use SX5E and bloomberg download data to get me started"
   ]
  },
  {
   "cell_type": "code",
   "execution_count": 46,
   "metadata": {},
   "outputs": [],
   "source": [
    "import pandas as pd\n",
    "import numpy as np\n",
    "from datetime import datetime\n",
    "import matplotlib.pyplot as plt\n",
    "%matplotlib inline"
   ]
  },
  {
   "cell_type": "code",
   "execution_count": 47,
   "metadata": {},
   "outputs": [],
   "source": [
    "#initial cleaning function\n",
    "def clean_sheet(dataframe):\n",
    "    adj=dataframe.dropna(axis=1,how='all')\n",
    "    adj=dataframe.set_index(adj.columns[0]) #use stock tickers as the index\n",
    "    return adj"
   ]
  },
  {
   "cell_type": "code",
   "execution_count": 48,
   "metadata": {},
   "outputs": [],
   "source": [
    "#pull the data from excel, form a dictionary of tab names and dataframes\n",
    "tabs_to_grab=['Quarter','Date','Reported EPS','Comp EPS','Consensus EPS','50d MA','3d return','3d rel return','Volume','Momentum',\n",
    "             'Revision','Market cap','PE','Property','Price']\n",
    "\n",
    "data_dict={}\n",
    "\n",
    "for s in tabs_to_grab:\n",
    "    data_dict[s]=clean_sheet(pd.read_excel(r'C:\\Users\\Eric.Li\\Documents\\Post result data\\2016-2018.xlsx',sheet_name=s))"
   ]
  },
  {
   "cell_type": "code",
   "execution_count": 49,
   "metadata": {},
   "outputs": [],
   "source": [
    "# grab the price time series and transform it into the same datetime format; also generate abs_return, rel_return dataframe\n",
    "price=data_dict[\"Price\"].dropna(axis=1)\n",
    "new_column=[i.strftime(\"%d/%b/%Y\") for i in price.columns.tolist() if type(i)!=str]\n",
    "price.columns=new_column\n"
   ]
  },
  {
   "cell_type": "markdown",
   "metadata": {},
   "source": [
    "## Signal 2 - based on last quarter's standing"
   ]
  },
  {
   "cell_type": "code",
   "execution_count": 127,
   "metadata": {},
   "outputs": [],
   "source": [
    "## grab the date \n",
    "date=data_dict[\"Date\"].dropna(axis=1,how='all')\n",
    "adj_date=date.fillna(pd.Timestamp('1900-1-1'))"
   ]
  },
  {
   "cell_type": "code",
   "execution_count": 193,
   "metadata": {},
   "outputs": [],
   "source": [
    "## form the signal 2: separate date range into a unit of 3 months, evaluate the the top and bottom quartile values, use the\n",
    "# dataframe for the next quarter to generate signals, and put them into long and short buckets\n",
    "start_date=pd.Timestamp(2015,12,31)\n",
    "end_date=pd.Timestamp(2018,3,31)\n",
    "per='Q'\n",
    "\n",
    "\n",
    "def signal2_build(date_df,return_df,start_date,end_date,top_quartile,bottom_quartile):\n",
    "    dt_rng=pd.date_range(start_date,end_date,freq=per)\n",
    "    long_list=[]\n",
    "    short_list=[]\n",
    "    for s in range(len(dt_rng)-2):\n",
    "        rank_list=[]\n",
    "        rank=return_df[(date_df>=dt_rng[s])&(date_df<=dt_rng[s+1])]\n",
    "        signal=date_df[(date_df>=dt_rng[s+1])&(date_df<=dt_rng[s+2])]\n",
    "        signal_value=return_df[(date_df>=dt_rng[s+1])&(date_df<=dt_rng[s+2])]\n",
    "        for index,row in rank.iterrows():\n",
    "            adj_row=row.dropna()\n",
    "            for val in adj_row.values:\n",
    "                rank_list.append(val)\n",
    "        rank_series=pd.Series(rank_list)\n",
    "        top=signal[signal_value>=np.percentile(rank_series,top_quartile)].dropna(axis=1,how='all').dropna(axis=0,how='all')\n",
    "        bottom=signal[signal_value<=np.percentile(rank_series,bottom_quartile)].dropna(axis=1,how='all').dropna(axis=0,how='all')\n",
    "        long_list.append(top)\n",
    "        short_list.append(bottom)\n",
    "    long_signal=pd.concat(long_list,axis=1)\n",
    "    short_signal=pd.concat(short_list,axis=1)\n",
    "    return long_signal, short_signal\n",
    "                \n",
    "long_signal,short_signal=signal2_build(adj_date,data_dict[\"3d rel return\"],start_date,end_date,80,20)   \n"
   ]
  },
  {
   "cell_type": "code",
   "execution_count": 197,
   "metadata": {},
   "outputs": [
    {
     "name": "stderr",
     "output_type": "stream",
     "text": [
      "C:\\Users\\Eric.Li\\AppData\\Local\\Continuum\\anaconda3\\lib\\site-packages\\ipykernel_launcher.py:7: DeprecationWarning: parsing timezone aware datetimes is deprecated; this will raise an error in the future\n",
      "  import sys\n"
     ]
    }
   ],
   "source": [
    "#Stack signals into a list of tuples (stocks, dates), convert dates into a common format of datetime\n",
    "def signal2_stacking(signal):\n",
    "    signal2_list=[]\n",
    "    for index, row in signal.iterrows():\n",
    "        adj_row=row.dropna()\n",
    "        for s in adj_row.values:\n",
    "            ts=(s - np.datetime64('1970-01-01T00:00:00Z')) / np.timedelta64(1, 's') \n",
    "            adj_time=datetime.utcfromtimestamp(ts).strftime(\"%d/%b/%Y\") #transform the datetime into a common format\n",
    "            signal2_list.append((adj_row.name,adj_time))\n",
    "    return signal2_list\n",
    "\n",
    "signal2_long_list=signal2_stacking(long_signal)\n",
    "signal2_short_list=signal2_stacking(short_signal)"
   ]
  },
  {
   "cell_type": "code",
   "execution_count": 194,
   "metadata": {},
   "outputs": [],
   "source": [
    "# grab the price time series and transform it into the same datetime format; also generate abs_return, rel_return dataframe\n",
    "price=data_dict[\"Price\"].dropna(axis=1)\n",
    "new_column=[i.strftime(\"%d/%b/%Y\") for i in price.columns.tolist() if type(i)!=str]\n",
    "price.columns=new_column\n",
    "\n",
    "abs_return=price.diff(1,axis=1)/price\n",
    "abs_return=abs_return.dropna(how='all',axis=1)\n",
    "rel_return=abs_return - abs_return.iloc[-1]\n",
    "rel_return=rel_return.dropna(how='all',axis=1)"
   ]
  },
  {
   "cell_type": "code",
   "execution_count": null,
   "metadata": {},
   "outputs": [],
   "source": []
  },
  {
   "cell_type": "code",
   "execution_count": null,
   "metadata": {},
   "outputs": [],
   "source": []
  },
  {
   "cell_type": "code",
   "execution_count": null,
   "metadata": {},
   "outputs": [],
   "source": []
  }
 ],
 "metadata": {
  "kernelspec": {
   "display_name": "Python 3",
   "language": "python",
   "name": "python3"
  },
  "language_info": {
   "codemirror_mode": {
    "name": "ipython",
    "version": 3
   },
   "file_extension": ".py",
   "mimetype": "text/x-python",
   "name": "python",
   "nbconvert_exporter": "python",
   "pygments_lexer": "ipython3",
   "version": "3.6.4"
  }
 },
 "nbformat": 4,
 "nbformat_minor": 2
}
