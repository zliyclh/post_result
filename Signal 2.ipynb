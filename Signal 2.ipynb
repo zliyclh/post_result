{
 "cells": [
  {
   "cell_type": "markdown",
   "metadata": {},
   "source": [
    "# Use SX5E and bloomberg download data to get me started"
   ]
  },
  {
   "cell_type": "code",
   "execution_count": 4,
   "metadata": {},
   "outputs": [],
   "source": [
    "import pandas as pd\n",
    "import numpy as np\n",
    "from datetime import datetime\n",
    "import matplotlib.pyplot as plt\n",
    "%matplotlib inline"
   ]
  },
  {
   "cell_type": "code",
   "execution_count": 5,
   "metadata": {},
   "outputs": [],
   "source": [
    "#initial cleaning function\n",
    "def clean_sheet(dataframe):\n",
    "    adj=dataframe.dropna(axis=1,how='all')\n",
    "    adj=dataframe.set_index(adj.columns[0]) #use stock tickers as the index\n",
    "    return adj"
   ]
  },
  {
   "cell_type": "code",
   "execution_count": 6,
   "metadata": {},
   "outputs": [],
   "source": [
    "#pull the data from excel, form a dictionary of tab names and dataframes\n",
    "tabs_to_grab=['Quarter','Date','Reported EPS','Comp EPS','Consensus EPS','50d MA','3d return','3d rel return','Volume','Momentum',\n",
    "             'Revision','Market cap','PE','Property','Price']\n",
    "\n",
    "data_dict={}\n",
    "\n",
    "for s in tabs_to_grab:\n",
    "    data_dict[s]=clean_sheet(pd.read_excel(r'C:\\Users\\Eric.Li\\Documents\\Post result data\\2016-2018.xlsx',sheet_name=s))"
   ]
  },
  {
   "cell_type": "code",
   "execution_count": 7,
   "metadata": {},
   "outputs": [],
   "source": [
    "# grab the price time series and transform it into the same datetime format; also generate abs_return, rel_return dataframe\n",
    "price=data_dict[\"Price\"].dropna(axis=1)\n",
    "#new_column=[i.strftime(\"%d/%b/%Y\") for i in price.columns.tolist() if type(i)!=str]\n",
    "#price.columns=new_column\n"
   ]
  },
  {
   "cell_type": "markdown",
   "metadata": {},
   "source": [
    "## Signal 2 - based on last quarter's standing"
   ]
  },
  {
   "cell_type": "code",
   "execution_count": 12,
   "metadata": {},
   "outputs": [],
   "source": [
    "## grab the date \n",
    "date=data_dict[\"Date\"].dropna(axis=1,how='all')\n",
    "adj_date=date.fillna(pd.Timestamp('1900-1-1'))"
   ]
  },
  {
   "cell_type": "code",
   "execution_count": 197,
   "metadata": {
    "scrolled": true
   },
   "outputs": [
    {
     "data": {
      "text/plain": [
       "{Timestamp('2016-06-30 00:00:00', freq='Q-DEC'): (1.2007525496367955,\n",
       "  -2.4203371044117548),\n",
       " Timestamp('2016-09-30 00:00:00', freq='Q-DEC'): (3.412740954679211,\n",
       "  -2.436582254931852),\n",
       " Timestamp('2016-12-31 00:00:00', freq='Q-DEC'): (2.8935261317512966,\n",
       "  -2.1637170892269886),\n",
       " Timestamp('2017-03-31 00:00:00', freq='Q-DEC'): (2.4805847432361583,\n",
       "  -2.501572481680293),\n",
       " Timestamp('2017-06-30 00:00:00', freq='Q-DEC'): (2.106740738675145,\n",
       "  -1.2373470254652839),\n",
       " Timestamp('2017-09-30 00:00:00', freq='Q-DEC'): (1.5922466374246005,\n",
       "  -2.492400983840895),\n",
       " Timestamp('2017-12-31 00:00:00', freq='Q-DEC'): (2.156497226561612,\n",
       "  -2.098548353677211),\n",
       " Timestamp('2018-03-31 00:00:00', freq='Q-DEC'): (3.381007211752018,\n",
       "  -1.0606956490463935)}"
      ]
     },
     "execution_count": 197,
     "metadata": {},
     "output_type": "execute_result"
    }
   ],
   "source": [
    "#extract the bottom and quartile return for all the quarters\n",
    "start_date=pd.Timestamp('2016-1-1')\n",
    "end_date=pd.Timestamp('2018-3-31')\n",
    "per='Q'\n",
    "\n",
    "dt_rng=pd.date_range(start_date,end_date,freq=per)\n",
    "\n",
    "def \n",
    "rank_dict={}\n",
    "for s in range(len(dt_rng)-1):\n",
    "    start_date=dt_rng[s]\n",
    "    end_date=dt_rng[s+1]\n",
    "    rank=data_dict['3d rel return'][(adj_date>=start_date) & (adj_date<=end_date)]\n",
    "    rank_list=[]\n",
    "    for index,row in rank.iterrows():\n",
    "        adj_row=row.dropna()\n",
    "        for s in adj_row.values:\n",
    "            rank_list.append(s)\n",
    "    rank_series=pd.Series(rank_list)\n",
    "    top_quartile=np.percentile(rank_series,80)\n",
    "    bottom_quartile=np.percentile(rank_series,20)\n",
    "    rank_dict[end_date]=(top_quartile,bottom_quartile)\n",
    "\n",
    "rank_dict"
   ]
  },
  {
   "cell_type": "code",
   "execution_count": 10,
   "metadata": {},
   "outputs": [
    {
     "data": {
      "text/plain": [
       "datetime.datetime(2015, 1, 1, 0, 0)"
      ]
     },
     "execution_count": 10,
     "metadata": {},
     "output_type": "execute_result"
    }
   ],
   "source": [
    "price.columns[0]"
   ]
  },
  {
   "cell_type": "code",
   "execution_count": 196,
   "metadata": {},
   "outputs": [
    {
     "name": "stdout",
     "output_type": "stream",
     "text": [
      "2016-03-31 00:00:00\n",
      "2016-06-30 00:00:00\n",
      "2016-09-30 00:00:00\n",
      "2016-12-31 00:00:00\n",
      "2017-03-31 00:00:00\n",
      "2017-06-30 00:00:00\n",
      "2017-09-30 00:00:00\n",
      "2017-12-31 00:00:00\n",
      "2018-03-31 00:00:00\n"
     ]
    }
   ],
   "source": [
    "# form the signals by slicing the database into each quarter and merge them together \n",
    "for s in range(len(dt_rng)-1):\n",
    "    print(dt_rng[s+1])\n",
    "    "
   ]
  },
  {
   "cell_type": "code",
   "execution_count": null,
   "metadata": {},
   "outputs": [],
   "source": []
  },
  {
   "cell_type": "code",
   "execution_count": null,
   "metadata": {},
   "outputs": [],
   "source": []
  },
  {
   "cell_type": "code",
   "execution_count": null,
   "metadata": {},
   "outputs": [],
   "source": []
  },
  {
   "cell_type": "code",
   "execution_count": null,
   "metadata": {},
   "outputs": [],
   "source": []
  },
  {
   "cell_type": "code",
   "execution_count": null,
   "metadata": {},
   "outputs": [],
   "source": []
  },
  {
   "cell_type": "code",
   "execution_count": null,
   "metadata": {},
   "outputs": [],
   "source": []
  },
  {
   "cell_type": "code",
   "execution_count": null,
   "metadata": {},
   "outputs": [],
   "source": []
  }
 ],
 "metadata": {
  "kernelspec": {
   "display_name": "Python 3",
   "language": "python",
   "name": "python3"
  },
  "language_info": {
   "codemirror_mode": {
    "name": "ipython",
    "version": 3
   },
   "file_extension": ".py",
   "mimetype": "text/x-python",
   "name": "python",
   "nbconvert_exporter": "python",
   "pygments_lexer": "ipython3",
   "version": "3.6.4"
  }
 },
 "nbformat": 4,
 "nbformat_minor": 2
}
