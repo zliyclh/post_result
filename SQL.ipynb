{
 "cells": [
  {
   "cell_type": "code",
   "execution_count": 1,
   "metadata": {},
   "outputs": [],
   "source": [
    "import pandas as pd\n",
    "import pyodbc \n",
    "\n"
   ]
  },
  {
   "cell_type": "code",
   "execution_count": 190,
   "metadata": {},
   "outputs": [],
   "source": [
    "'''Connect to post result database'''\n",
    "cnxn = pyodbc.connect('DRIVER={SQL Server};SERVER=dsa-ln-WS015\\SQLEXPRESS;DATABASE=Post_result;Trusted_Connection=yes')   \n",
    "cursor = cnxn.cursor() \n",
    "alist=['AA US','A US','GS US','C US','GE US','GPRO US']\n",
    "\n",
    "sql_list=[]\n",
    "for year in range(2007,2018):\n",
    "    sql=\"select * from US_price_{0} where Ticker in {1}\".format(year,str(tuple(alist)))\n",
    "    data=pd.read_sql(sql,cnxn).set_index(\"Ticker\")\n",
    "    sql_list.append(data)\n",
    "\n",
    "price_US=pd.concat(sql_list,axis=1,join=\"outer\")"
   ]
  },
  {
   "cell_type": "code",
   "execution_count": 195,
   "metadata": {},
   "outputs": [],
   "source": [
    "#initial cleaning function\n",
    "def clean_sheet(dataframe):\n",
    "    adj=dataframe.dropna(axis=1,how='all')\n",
    "    adj=dataframe.set_index(adj.columns[0]) #use stock tickers as the index\n",
    "    return adj"
   ]
  },
  {
   "cell_type": "code",
   "execution_count": 196,
   "metadata": {},
   "outputs": [],
   "source": [
    "'''Grab the data from excel'''\n",
    "tabs_US=['Quarter','Date','Revision','Market cap','Volume','PE','PE premium','Property','EPS','Broker']\n",
    "\n",
    "# US\n",
    "data_dict_US={}\n",
    "\n",
    "for s in tabs_US:\n",
    "    df=clean_sheet(pd.read_excel(r'C:\\Users\\Eric.Li\\Documents\\Post result data\\US 2007-2017.xlsx',sheet_name=s))\n",
    "    data_dict_US[s]=df\n",
    "\n",
    "# select the right universe for US\n",
    "universe_evaluate_US=(data_dict_US[\"Market cap\"]>500)&(data_dict_US[\"Volume\"]>5)\n",
    "data_dict_US[\"Revision\"]=data_dict_US[\"Revision\"][universe_evaluate_US]\n",
    "data_dict_US[\"Market cap\"]=data_dict_US[\"Market cap\"][data_dict_US[\"Market cap\"]>500]"
   ]
  },
  {
   "cell_type": "code",
   "execution_count": 308,
   "metadata": {},
   "outputs": [],
   "source": [
    "'''cleansing the data and export'''\n",
    "US=data_dict_US[\"Date\"].unstack(-1).to_frame()\n",
    "US.index=US.apply(lambda x: x.name[1],axis=1)\n",
    "US.columns=[\"Date\"]\n",
    "\n",
    "for i in ['Quarter','Revision','Market cap','Volume','PE','PE premium','EPS','Broker']:\n",
    "    US[i]=data_dict_US[i].unstack(-1).values\n"
   ]
  },
  {
   "cell_type": "code",
   "execution_count": 309,
   "metadata": {},
   "outputs": [],
   "source": [
    "adj_US=US.dropna(how=\"all\",axis=0)\n",
    "adj_US=adj_US[-np.isnan(adj_US.Revision)]\n",
    "adj_US=adj_US[-np.isnat(adj_US.Date)]\n",
    "adj_US.to_csv(\"US.csv\")"
   ]
  },
  {
   "cell_type": "code",
   "execution_count": null,
   "metadata": {},
   "outputs": [],
   "source": []
  }
 ],
 "metadata": {
  "kernelspec": {
   "display_name": "Python 3",
   "language": "python",
   "name": "python3"
  },
  "language_info": {
   "codemirror_mode": {
    "name": "ipython",
    "version": 3
   },
   "file_extension": ".py",
   "mimetype": "text/x-python",
   "name": "python",
   "nbconvert_exporter": "python",
   "pygments_lexer": "ipython3",
   "version": "3.6.4"
  }
 },
 "nbformat": 4,
 "nbformat_minor": 2
}
