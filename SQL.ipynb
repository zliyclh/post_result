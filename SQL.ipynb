{
 "cells": [
  {
   "cell_type": "code",
   "execution_count": 1,
   "metadata": {},
   "outputs": [],
   "source": [
    "import pandas as pd\n",
    "import pyodbc \n",
    "\n"
   ]
  },
  {
   "cell_type": "code",
   "execution_count": 4,
   "metadata": {},
   "outputs": [],
   "source": [
    "'''Connect to post result database'''\n",
    "cnxn = pyodbc.connect('DRIVER={SQL Server};SERVER=dsa-ln-WS015\\SQLEXPRESS;DATABASE=Post_result;Trusted_Connection=yes')   \n",
    "cursor = cnxn.cursor() \n",
    "alist=['AA US','A US']\n",
    "sql=\"select * from US_price_2006 A\\\n",
    "    full join US_price_2007 B on B.Ticker=A.Ticker\\\n",
    "    full join US_price_2008 C on C.Ticker=B.Ticker\\\n",
    "    where A.Ticker in %s\" % str(tuple(alist))\n",
    "data=pd.read_sql(sql,cnxn)"
   ]
  },
  {
   "cell_type": "code",
   "execution_count": 5,
   "metadata": {},
   "outputs": [
    {
     "data": {
      "text/html": [
       "<div>\n",
       "<style scoped>\n",
       "    .dataframe tbody tr th:only-of-type {\n",
       "        vertical-align: middle;\n",
       "    }\n",
       "\n",
       "    .dataframe tbody tr th {\n",
       "        vertical-align: top;\n",
       "    }\n",
       "\n",
       "    .dataframe thead th {\n",
       "        text-align: right;\n",
       "    }\n",
       "</style>\n",
       "<table border=\"1\" class=\"dataframe\">\n",
       "  <thead>\n",
       "    <tr style=\"text-align: right;\">\n",
       "      <th></th>\n",
       "      <th>Ticker</th>\n",
       "      <th>1 2 2006</th>\n",
       "      <th>1 3 2006</th>\n",
       "      <th>1 4 2006</th>\n",
       "      <th>1 5 2006</th>\n",
       "      <th>1 6 2006</th>\n",
       "      <th>1 9 2006</th>\n",
       "      <th>1 10 2006</th>\n",
       "      <th>1 11 2006</th>\n",
       "      <th>1 12 2006</th>\n",
       "      <th>...</th>\n",
       "      <th>12 18 2008</th>\n",
       "      <th>12 19 2008</th>\n",
       "      <th>12 22 2008</th>\n",
       "      <th>12 23 2008</th>\n",
       "      <th>12 24 2008</th>\n",
       "      <th>12 25 2008</th>\n",
       "      <th>12 26 2008</th>\n",
       "      <th>12 29 2008</th>\n",
       "      <th>12 30 2008</th>\n",
       "      <th>12 31 2008</th>\n",
       "    </tr>\n",
       "  </thead>\n",
       "  <tbody>\n",
       "    <tr>\n",
       "      <th>0</th>\n",
       "      <td>A US</td>\n",
       "      <td>22.43</td>\n",
       "      <td>22.57</td>\n",
       "      <td>22.63</td>\n",
       "      <td>23.22</td>\n",
       "      <td>23.35</td>\n",
       "      <td>23.28</td>\n",
       "      <td>23.58</td>\n",
       "      <td>23.58</td>\n",
       "      <td>23.06</td>\n",
       "      <td>...</td>\n",
       "      <td>11.64</td>\n",
       "      <td>11.64</td>\n",
       "      <td>11.31</td>\n",
       "      <td>11.17</td>\n",
       "      <td>11.14</td>\n",
       "      <td>11.14</td>\n",
       "      <td>11.05</td>\n",
       "      <td>10.72</td>\n",
       "      <td>10.64</td>\n",
       "      <td>11.18</td>\n",
       "    </tr>\n",
       "    <tr>\n",
       "      <th>1</th>\n",
       "      <td>AA US</td>\n",
       "      <td>66.22</td>\n",
       "      <td>66.96</td>\n",
       "      <td>67.34</td>\n",
       "      <td>67.88</td>\n",
       "      <td>67.66</td>\n",
       "      <td>68.46</td>\n",
       "      <td>66.29</td>\n",
       "      <td>65.40</td>\n",
       "      <td>64.52</td>\n",
       "      <td>...</td>\n",
       "      <td>21.88</td>\n",
       "      <td>21.72</td>\n",
       "      <td>20.67</td>\n",
       "      <td>21.43</td>\n",
       "      <td>21.03</td>\n",
       "      <td>21.03</td>\n",
       "      <td>21.90</td>\n",
       "      <td>21.79</td>\n",
       "      <td>23.94</td>\n",
       "      <td>25.22</td>\n",
       "    </tr>\n",
       "  </tbody>\n",
       "</table>\n",
       "<p>2 rows × 786 columns</p>\n",
       "</div>"
      ],
      "text/plain": [
       "  Ticker 1 2 2006 1 3 2006 1 4 2006 1 5 2006 1 6 2006 1 9 2006 1 10 2006  \\\n",
       "0   A US    22.43    22.57    22.63    23.22    23.35    23.28     23.58   \n",
       "1  AA US    66.22    66.96    67.34    67.88    67.66    68.46     66.29   \n",
       "\n",
       "  1 11 2006 1 12 2006    ...     12 18 2008 12 19 2008 12 22 2008 12 23 2008  \\\n",
       "0     23.58     23.06    ...          11.64      11.64      11.31      11.17   \n",
       "1     65.40     64.52    ...          21.88      21.72      20.67      21.43   \n",
       "\n",
       "  12 24 2008 12 25 2008 12 26 2008 12 29 2008 12 30 2008 12 31 2008  \n",
       "0      11.14      11.14      11.05      10.72      10.64      11.18  \n",
       "1      21.03      21.03      21.90      21.79      23.94      25.22  \n",
       "\n",
       "[2 rows x 786 columns]"
      ]
     },
     "execution_count": 5,
     "metadata": {},
     "output_type": "execute_result"
    }
   ],
   "source": [
    "data"
   ]
  },
  {
   "cell_type": "code",
   "execution_count": null,
   "metadata": {},
   "outputs": [],
   "source": []
  }
 ],
 "metadata": {
  "kernelspec": {
   "display_name": "Python 3",
   "language": "python",
   "name": "python3"
  },
  "language_info": {
   "codemirror_mode": {
    "name": "ipython",
    "version": 3
   },
   "file_extension": ".py",
   "mimetype": "text/x-python",
   "name": "python",
   "nbconvert_exporter": "python",
   "pygments_lexer": "ipython3",
   "version": "3.6.4"
  }
 },
 "nbformat": 4,
 "nbformat_minor": 2
}
