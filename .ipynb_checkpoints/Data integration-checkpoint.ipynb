{
 "cells": [
  {
   "cell_type": "code",
   "execution_count": 2,
   "metadata": {},
   "outputs": [],
   "source": [
    "import pandas as pd\n",
    "import pyodbc \n",
    "import numpy as np\n"
   ]
  },
  {
   "cell_type": "code",
   "execution_count": 3,
   "metadata": {},
   "outputs": [],
   "source": [
    "#initial cleaning function\n",
    "def clean_sheet(dataframe):\n",
    "    adj=dataframe.dropna(axis=1,how='all')\n",
    "    adj=dataframe.set_index(adj.columns[0]) #use stock tickers as the index\n",
    "    return adj"
   ]
  },
  {
   "cell_type": "code",
   "execution_count": 18,
   "metadata": {},
   "outputs": [],
   "source": [
    "cc=clean_sheet(pd.read_excel(r'C:\\Users\\Eric.Li\\Documents\\Post result data\\{0} 2007-2017.xlsx'.format('Asia'),sheet_name='Index'))"
   ]
  },
  {
   "cell_type": "code",
   "execution_count": 21,
   "metadata": {},
   "outputs": [
    {
     "data": {
      "text/plain": [
       "'HSI Index'"
      ]
     },
     "execution_count": 21,
     "metadata": {},
     "output_type": "execute_result"
    }
   ],
   "source": [
    "cc.loc['700 HK'].iloc[0]"
   ]
  },
  {
   "cell_type": "code",
   "execution_count": 38,
   "metadata": {},
   "outputs": [],
   "source": [
    "def fundamental_df_clean(region,tabs,volume_low,size_low):\n",
    "    data_dict={}\n",
    "\n",
    "    for s in tabs:\n",
    "        df=clean_sheet(pd.read_excel(r'C:\\Users\\Eric.Li\\Documents\\Post result data\\{0} 2007-2017.xlsx'.\\\n",
    "                                     format(region),sheet_name=s))\n",
    "        data_dict[s]=df\n",
    "\n",
    "    # select the right universe for US\n",
    "    universe_evaluate=(data_dict[\"Market cap\"]>size_low)&(data_dict[\"Volume\"]>volume_low)\n",
    "    data_dict[\"Revision\"]=data_dict[\"Revision\"][universe_evaluate]\n",
    "    data_dict[\"Market cap\"]=data_dict[\"Market cap\"][data_dict[\"Market cap\"]>size_low]    \n",
    "    \n",
    "    \n",
    "    fundamental_df=data_dict[\"Date\"].unstack(-1).to_frame()\n",
    "    fundamental_df.index=fundamental_df.apply(lambda x: x.name[1],axis=1)\n",
    "    fundamental_df.columns=[\"Date\"]\n",
    "    \n",
    "    for i in tabs:\n",
    "        try:\n",
    "            fundamental_df[i]=data_dict[i].unstack(-1).values\n",
    "        except ValueError:\n",
    "            pass\n",
    "        \n",
    "    fundamental_df=fundamental_df.dropna(how=\"all\",axis=0)\n",
    "    fundamental_df=fundamental_df[-np.isnan(fundamental_df[\"Revision\"])]\n",
    "    fundamental_df=fundamental_df[-np.isnat(fundamental_df.Date)]\n",
    "    if 'Property' in data_dict.keys():\n",
    "        fundamental_df[\"Supersector\"]=fundamental_df.apply(lambda x:data_dict[\"Property\"].loc[x.name,\"Supersector\"]\\\n",
    "                                               if type(x.name)==str else None,axis=1)\n",
    "    if 'Index' in data_dict.keys():\n",
    "        fundamental_df[\"Index\"]=fundamental_df.apply(lambda x: data_dict[\"Index\"].loc[x.name].iloc[0] if type(x.name)==str\\\n",
    "                                                     else None,axis=1)\n",
    "    \n",
    "    fundamental_df=fundamental_df[fundamental_df.apply(lambda x: type(x.name)==str,axis=1)]\n",
    "        \n",
    "    return fundamental_df"
   ]
  },
  {
   "cell_type": "code",
   "execution_count": 25,
   "metadata": {},
   "outputs": [],
   "source": [
    "US=fundamental_df_clean('US',['Date','Revision','Market cap','Volume','Revision vol','Property'],3,500)"
   ]
  },
  {
   "cell_type": "code",
   "execution_count": 27,
   "metadata": {},
   "outputs": [],
   "source": [
    "Europe=fundamental_df_clean('Europe',['Date','Revision','Market cap','Volume','Revision vol','Property'],3,500)"
   ]
  },
  {
   "cell_type": "code",
   "execution_count": 39,
   "metadata": {},
   "outputs": [],
   "source": [
    "Asia=fundamental_df_clean('Asia',['Date','Revision','Market cap','Volume','Index'],3,500)"
   ]
  },
  {
   "cell_type": "code",
   "execution_count": 29,
   "metadata": {},
   "outputs": [],
   "source": [
    "Europe.to_csv('Europe.csv')"
   ]
  },
  {
   "cell_type": "code",
   "execution_count": 41,
   "metadata": {},
   "outputs": [],
   "source": [
    "Asia.to_csv('Asia.csv')"
   ]
  },
  {
   "cell_type": "code",
   "execution_count": null,
   "metadata": {},
   "outputs": [],
   "source": []
  }
 ],
 "metadata": {
  "kernelspec": {
   "display_name": "Python 3",
   "language": "python",
   "name": "python3"
  },
  "language_info": {
   "codemirror_mode": {
    "name": "ipython",
    "version": 3
   },
   "file_extension": ".py",
   "mimetype": "text/x-python",
   "name": "python",
   "nbconvert_exporter": "python",
   "pygments_lexer": "ipython3",
   "version": "3.6.4"
  }
 },
 "nbformat": 4,
 "nbformat_minor": 2
}
