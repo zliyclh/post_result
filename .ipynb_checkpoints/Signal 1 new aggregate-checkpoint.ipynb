{
 "cells": [
  {
   "cell_type": "markdown",
   "metadata": {},
   "source": [
    "# 1. Packages import"
   ]
  },
  {
   "cell_type": "code",
   "execution_count": 1,
   "metadata": {},
   "outputs": [],
   "source": [
    "import pandas as pd\n",
    "import numpy as np\n",
    "from datetime import datetime\n",
    "import matplotlib.pyplot as plt\n",
    "import matplotlib\n",
    "import seaborn as sns\n",
    "import textwrap\n",
    "\n",
    "%matplotlib inline"
   ]
  },
  {
   "cell_type": "markdown",
   "metadata": {},
   "source": [
    "# 2. Data retrieval"
   ]
  },
  {
   "cell_type": "code",
   "execution_count": 2,
   "metadata": {},
   "outputs": [],
   "source": [
    "def clean_sheet(dataframe):\n",
    "    '''\n",
    "    cleaning function for raw CSV import\n",
    "    '''\n",
    "    adj=dataframe.dropna(axis=1,how='all')\n",
    "    adj=dataframe.set_index(adj.columns[0]) #use stock tickers as the index\n",
    "    return adj"
   ]
  },
  {
   "cell_type": "code",
   "execution_count": 3,
   "metadata": {},
   "outputs": [],
   "source": [
    "Asia_mapping=clean_sheet(pd.read_excel(r'C:\\Users\\Eric.Li\\Documents\\Post result data\\{0} 2007-2017.xlsx'.format('Asia'),\\\n",
    "                                       sheet_name='Mapping'))"
   ]
  },
  {
   "cell_type": "code",
   "execution_count": 4,
   "metadata": {},
   "outputs": [],
   "source": [
    "def price_date_transform(CSV_date,index=False):\n",
    "    '''\n",
    "    Transform the CSV price style string into dateframe string style\n",
    "    The CSV date follows US style which is MM/DD/YYYY\n",
    "    '''\n",
    "    if index==False:\n",
    "        timestamp=pd.Timestamp(int(CSV_date[CSV_date.find(\"/\",3)+1:]),\n",
    "                            int(CSV_date[:CSV_date.find(\"/\")]),\n",
    "                            int(CSV_date[CSV_date.find(\"/\",1)+1:CSV_date.find(\"/\",3)]))\n",
    "        return timestamp.strftime(\"%d/%b/%Y\")\n",
    "    else:\n",
    "        timestamp=pd.Timestamp(int(CSV_date[-4:]),int(CSV_date[3:5]),int(CSV_date[:2]))\n",
    "        return timestamp"
   ]
  },
  {
   "cell_type": "code",
   "execution_count": 5,
   "metadata": {},
   "outputs": [],
   "source": [
    "def fundamental_date_transform(CSV_date):\n",
    "    '''\n",
    "    Transform the fundamental style string into dateframe string style\n",
    "    CSV date follow following style yyyy-mm-dd or MM/DD/YYYY\n",
    "    '''\n",
    "    if '-' in CSV_date:\n",
    "        timestamp=pd.Timestamp(int(CSV_date[:4]),\n",
    "                            int(CSV_date[5:7]),\n",
    "                            int(CSV_date[8:]))\n",
    "    else:\n",
    "        timestamp=pd.Timestamp(int(CSV_date[CSV_date.find(\"/\",3)+1:]),\n",
    "                               int(CSV_date[CSV_date.find(\"/\",1)+1:CSV_date.find(\"/\",3)]),\n",
    "                               int(CSV_date[:CSV_date.find(\"/\")]))        \n",
    "    return timestamp"
   ]
  },
  {
   "cell_type": "code",
   "execution_count": 12,
   "metadata": {},
   "outputs": [],
   "source": [
    "def CSV_price(region,start,end,VWAP):\n",
    "    '''\n",
    "    Grab the pricing data from CSV\n",
    "    region= US, Europe,Asia,or Canada\n",
    "    start,end are in year\n",
    "    key is the reference to search\n",
    "    return the target price dataframe with timestamp on the column\n",
    "    '''\n",
    "    mylist=[]\n",
    "    for year in range(start,end+1):\n",
    "        if VWAP==False:\n",
    "            csv=pd.read_csv(r\"C:\\Users\\Eric.Li\\Documents\\Post result data\\{0} CSV\\{0}_price_{1}.csv\".format(region,year)).dropna\\\n",
    "    (how='all',axis=0).dropna(how='all',axis=1)\n",
    "        else:\n",
    "            csv=pd.read_csv(r\"C:\\Users\\Eric.Li\\Documents\\Post result data\\{0} CSV\\{0}_VWAP_{1}.csv\".format(region,year)).dropna\\\n",
    "    (how='all',axis=0).dropna(how='all',axis=1)\n",
    "        data=csv.set_index(\"Ticker\")\n",
    "        adj_data=data.loc[[x for x in data.index if type(x)==str]].replace('#N/A N/A','').replace(' #N/A N/A ','').\\\n",
    "        replace('#N/A Invalid Security','')\n",
    "        adj_data=adj_data.loc[[x for x in adj_data.index if len(x)>0]]\n",
    "        mylist.append(adj_data)\n",
    "\n",
    "    price=pd.concat(mylist,axis=1,sort=True)\n",
    "    price=price.apply(lambda x:pd.to_numeric(x),axis=1)\n",
    "    \n",
    "    csv_index=pd.read_csv(r\"C:\\Users\\Eric.Li\\Documents\\Post result data\\{0} CSV\\{0}_price_index.csv\".format(region)).dropna\\\n",
    "    (how='all',axis=0)\n",
    "    data_index=csv_index.set_index(\"Ticker\").T\n",
    "    price_index=data_index.replace('#N/A N/A','')\n",
    "    #price_index=data_index.apply(lambda x:pd.to_numeric(x),axis=1)\n",
    "    \n",
    "    price.columns=[price_date_transform(i) for i in price.columns]\n",
    "    '''\n",
    "    Need to sort the columns for index price, and then transform to date string\n",
    "    '''\n",
    "    price_index.columns=[price_date_transform(i) for i in price_index.columns]\n",
    "    #price_index=price_index.reindex(sorted(price_index.columns))\n",
    "    #price_index.columns=[i.strftime(\"%d/%b/%Y\") for i  in price_index.columns]\n",
    "    \n",
    "    abs_return=price.diff(1,axis=1)/price.shift(1,axis=1)\n",
    "    abs_return_index=price_index.diff(1,axis=1)/price_index.shift(1,axis=1)\n",
    "    return price,abs_return,price_index,abs_return_index"
   ]
  },
  {
   "cell_type": "code",
   "execution_count": 13,
   "metadata": {},
   "outputs": [],
   "source": [
    "def CSV_EPS(region,start,end):\n",
    "    '''\n",
    "    Grab the pricing data from CSV database\n",
    "    region= US, Europe,Asia,or Canada\n",
    "    start,end are in year\n",
    "    key is the reference to search\n",
    "    return the target EPS dataframe with timestamp on the column\n",
    "    '''\n",
    "    mylist=[]\n",
    "    for year in range(start,end+1):\n",
    "        csv=pd.read_csv(r\"C:\\Users\\Eric.Li\\Documents\\Post result data\\{0} CSV\\{0}_EPS_{1}.csv\".format(region,year))\n",
    "        data=csv.set_index(\"Ticker\")\n",
    "        adj_data=data.loc[[x for x in data.index if type(x)==str]].replace('#N/A N/A','').replace(\" #N/A N/A \",\"\").dropna\\\n",
    "        (how='all',axis=0).dropna(how='all',axis=1)\n",
    "        adj_data=adj_data.loc[[x for x in adj_data.index if len(x)>0]]\n",
    "        mylist.append(adj_data)\n",
    "\n",
    "    EPS=pd.concat(mylist,axis=1,sort=True)\n",
    "    EPS=EPS.apply(lambda x:pd.to_numeric(x),axis=1)\n",
    "    \n",
    "    EPS.columns=[price_date_transform(i) for i in EPS.columns]\n",
    "    return EPS"
   ]
  },
  {
   "cell_type": "code",
   "execution_count": 8,
   "metadata": {},
   "outputs": [],
   "source": [
    "def revision_calc(ticker,date,EPS_df,period):\n",
    "    '''\n",
    "    Calculate revision from ticker and reference date\n",
    "    '''\n",
    "    if type(date)==float:\n",
    "        return None\n",
    "    elif type(date)==pd.Timestamp:\n",
    "        date=date.strftime(\"%d/%b/%Y\")\n",
    "    elif type(date)==str:\n",
    "        date=date\n",
    "    \n",
    "    if ticker in EPS_df.index:\n",
    "        eps_series=EPS_df.loc[ticker]\n",
    "        date_series=eps_series.index.tolist()\n",
    "        if date in date_series:\n",
    "            day0=date_series.index(date)\n",
    "            post_series=eps_series.iloc[day0+period-1:day0+period+10]\n",
    "            pre_series=eps_series.iloc[day0-10:day0]\n",
    "            if len(post_series.dropna())==0 or len(pre_series.dropna())==0 or pre_series.dropna().iloc[-1]==0:\n",
    "                revision=None\n",
    "            else:\n",
    "                try:\n",
    "                    revision=np.divide(post_series.dropna().iloc[0],pre_series.dropna().iloc[-1])-1\n",
    "                except:\n",
    "                    revision=None\n",
    "            return revision\n",
    "        else:\n",
    "            return None\n",
    "    else:\n",
    "        return None"
   ]
  },
  {
   "cell_type": "code",
   "execution_count": 9,
   "metadata": {},
   "outputs": [],
   "source": [
    "def CSV_fundamentals(region,price,EPS_df,revision_period,min_history,min_vol,use_cache):\n",
    "    '''\n",
    "    Grab the fundamental data from the spreadsheet\n",
    "    region= US, Europe,Asia,or Canada\n",
    "    return the post result fundamental dataframe\n",
    "    '''\n",
    "    \n",
    "    if use_cache is True:\n",
    "        try:\n",
    "            data=pd.read_csv(r'C:\\Users\\Eric.Li\\Documents\\Post result code\\{0}{1}_clean_reg.csv'.format(region,\\\n",
    "                                                                                                        str(revision_period)))\n",
    "            new_index=pd.MultiIndex.from_tuples(list(zip(data.iloc[:,0],data.iloc[:,1],data.iloc[:,2],data.iloc[:,3])))\n",
    "            data.index=new_index\n",
    "            target_data=data.iloc[:,4:]\n",
    "        except:\n",
    "            print(\"No such file!\")\n",
    "    else:\n",
    "        csv=pd.read_csv(r'C:\\Users\\Eric.Li\\Documents\\Post result code\\{0}.csv'.format(region))\n",
    "        data=csv.set_index(\"Ticker\").drop_duplicates().replace('#N/A Invalid Security','').\\\n",
    "        replace('#N/A Requesting Data...','')\n",
    "\n",
    "        data=data[data.index!='']\n",
    "        data=data.dropna(how=\"all\")\n",
    "\n",
    "        data[\"date_copy\"]=[fundamental_date_transform(i) for i in data[\"Date\"].copy()]\n",
    "        data[\"ticker_copy\"]=data.index\n",
    "        data=data.copy().sort_values(by=[\"ticker_copy\",\"date_copy\"])\n",
    "        data[\"next_date\"]=data[\"date_copy\"].shift(-1)\n",
    "        data[\"ticker_copy\"]=data[\"ticker_copy\"].shift(-1)\n",
    "        data[\"Date\"]=data[\"date_copy\"].copy().apply(lambda x: x.strftime(\"%d/%b/%Y\") if x!='' else np.nan)\n",
    "        data[\"Next\"]=data.apply(lambda x: x[\"next_date\"].strftime(\"%d/%b/%Y\") if type(x[\"next_date\"])==pd.Timestamp and \\\n",
    "                                x.name==x[\"ticker_copy\"] else np.nan,axis=1)\n",
    "\n",
    "#         data[\"period\"]=data.apply(lambda x:str(pd.Timestamp(datetime.strptime(x[\"Date\"],\"%d/%b/%Y\")).year)\\\n",
    "#                                             +\" \"+str(pd.Timestamp(datetime.strptime(x[\"Date\"],\"%d/%b/%Y\")).quarter),\\\n",
    "#                                             axis=1)\n",
    "\n",
    "        data[\"end_period\"]=data.apply(lambda x: pd.offsets.BQuarterEnd().rollforward(x[\"date_copy\"]).strftime(\"%d/%b/%Y\"),\\\n",
    "                                      axis=1)\n",
    "\n",
    "        data.index=pd.MultiIndex.from_tuples(list(zip(data.index,data[\"Date\"],data[\"Next\"],data[\"end_period\"])))\n",
    "\n",
    "        del data[\"ticker_copy\"]\n",
    "        del data[\"date_copy\"]\n",
    "        del data[\"next_date\"]\n",
    "        del data[\"Revision\"]\n",
    "        del data[\"end_period\"]\n",
    "        del data[\"Next\"]\n",
    "\n",
    "        for s in [\"Market cap\",\"Volume\"]:\n",
    "            try:\n",
    "                data[s]=pd.to_numeric(data[s])\n",
    "            except KeyError:\n",
    "                pass\n",
    "\n",
    "        '''\n",
    "        Add more realistic version of revision\n",
    "        '''\n",
    "        data[\"Revision_real\"]=data.apply(lambda x: revision_calc(x.name[0],x.name[1],EPS_df,revision_period),axis=1)\n",
    "        \n",
    "        data[\"Revision_20\"]=data.apply(lambda x: revision_calc(x.name[0],x.name[1],EPS_df,20),axis=1)\n",
    "        data=data[(data[\"Revision_20\"]>=0)|(data[\"Revision_20\"]<0)]\n",
    "\n",
    "        '''\n",
    "        take out data with zero or none revision/market cap\n",
    "        '''\n",
    "        data=data[(data[\"Revision_real\"]>=0)|(data[\"Revision_real\"]<0)]\n",
    "        data=data[(data[\"Market cap\"]>=500)] #universe above 500mn\n",
    "        \n",
    "        '''\n",
    "        take out cases where there is a short history\n",
    "        '''\n",
    "        count_history=data.apply(lambda x: price.loc[x.name[0],:x.name[1]][-2*min_history:].count() if x.name[1] in \\\n",
    "                                   price.columns and x.name[0] in price.index else None,axis=1)\n",
    "        \n",
    "        data=data.copy()[count_history>=min_history]\n",
    "        \n",
    "        '''\n",
    "        Add momentum\n",
    "        '''\n",
    "        data[\"mom\"]=data.apply(lambda x: price.loc[x.name[0],:x.name[1]][-260:-23].dropna()[-1]/\\\n",
    "                               price.loc[x.name[0],:x.name[1]][-260:-23].dropna()[0] if x.name[0] in price.index\\\n",
    "                               and price.loc[x.name[0],:x.name[1]][-260:-23].dropna().shape[0]!=0 else None, axis=1)\n",
    "        \n",
    "        data=data[(data[\"mom\"]>=0)|(data[\"mom\"]<0)]\n",
    "        \n",
    "        data[\"mom_short\"]=data.apply(lambda x: price.loc[x.name[0],:x.name[1]][-24:-1].dropna()[-1]/\\\n",
    "                               price.loc[x.name[0],:x.name[1]][-24:-1].dropna()[0] if x.name[0] in price.index and\\\n",
    "                                     price.loc[x.name[0],:x.name[1]][-24:-1].dropna().shape[0]!=0 else None, axis=1)      \n",
    "\n",
    "        '''\n",
    "        Add historic volatility\n",
    "        '''\n",
    "        \n",
    "        abs_return=price.diff(1,axis=1)/price.shift(1,axis=1)\n",
    "        \n",
    "        data[\"30d_vol\"]=data.apply(lambda x: abs_return.loc[x.name[0],:x.name[1]][-31:-1].std() if x.name[0] in abs_return.index\\\n",
    "                                   and abs_return.loc[x.name[0],:x.name[1]][-31:-1].dropna().shape[0]!=0 else None,axis=1)      \n",
    "        \n",
    "        data=data[data[\"30d_vol\"]>=min_vol]\n",
    "        \n",
    "        '''\n",
    "        Final cleaning and export the data\n",
    "        '''\n",
    "        target_data=data.drop_duplicates()\n",
    "        target_data.to_csv(r'C:\\Users\\Eric.Li\\Documents\\Post result code\\{0}{1}_clean_reg.csv'.format(region,\\\n",
    "                                                                                                      str(revision_period)))\n",
    "    return target_data"
   ]
  },
  {
   "cell_type": "markdown",
   "metadata": {},
   "source": [
    "## 2.1 US data"
   ]
  },
  {
   "cell_type": "code",
   "execution_count": 14,
   "metadata": {},
   "outputs": [],
   "source": [
    "US_price,abs_return_US,US_index_price,abs_return_index_US=CSV_price('US',2006,2019,False)"
   ]
  },
  {
   "cell_type": "code",
   "execution_count": 15,
   "metadata": {},
   "outputs": [],
   "source": [
    "US_VWAP,abs_return_VWAP_US,US_index_VWAP,abs_return_VWAP_index_US=CSV_price('US',2006,2019,True)"
   ]
  },
  {
   "cell_type": "code",
   "execution_count": 16,
   "metadata": {},
   "outputs": [],
   "source": [
    "US_EPS =CSV_EPS(\"US\",2006,2019)"
   ]
  },
  {
   "cell_type": "code",
   "execution_count": 17,
   "metadata": {},
   "outputs": [],
   "source": [
    "US1=CSV_fundamentals(\"US\",US_price,US_EPS,1,120,0.005,True)"
   ]
  },
  {
   "cell_type": "markdown",
   "metadata": {},
   "source": [
    "## 2.2 Europe data"
   ]
  },
  {
   "cell_type": "code",
   "execution_count": 18,
   "metadata": {},
   "outputs": [],
   "source": [
    "Europe_price,abs_return_Europe,Europe_index_price,abs_return_index_Europe=CSV_price('Europe',2006,2019,False)"
   ]
  },
  {
   "cell_type": "code",
   "execution_count": 19,
   "metadata": {},
   "outputs": [],
   "source": [
    "Europe_VWAP,abs_return_VWAP_Europe,Europe_index_VWAP,abs_return_VWAP_index_Europe=CSV_price('Europe',2006,2019,True)"
   ]
  },
  {
   "cell_type": "code",
   "execution_count": 20,
   "metadata": {
    "scrolled": true
   },
   "outputs": [],
   "source": [
    "Europe_EPS =CSV_EPS(\"Europe\",2006,2019)"
   ]
  },
  {
   "cell_type": "code",
   "execution_count": 21,
   "metadata": {},
   "outputs": [],
   "source": [
    "Europe2=CSV_fundamentals(\"Europe\",Europe_price,Europe_EPS,2,120,0.005,True)"
   ]
  },
  {
   "cell_type": "markdown",
   "metadata": {},
   "source": [
    "## 2.3 Asia data"
   ]
  },
  {
   "cell_type": "code",
   "execution_count": 22,
   "metadata": {},
   "outputs": [],
   "source": [
    "Asia_price,abs_return_Asia,Asia_index_price,abs_return_index_Asia=CSV_price('Asia',2006,2019,False)"
   ]
  },
  {
   "cell_type": "code",
   "execution_count": 23,
   "metadata": {},
   "outputs": [],
   "source": [
    "Asia_VWAP,abs_return_VWAP_Asia,Europe_index_Asia,abs_return_VWAP_index_Asia=CSV_price('Asia',2006,2019,True)"
   ]
  },
  {
   "cell_type": "code",
   "execution_count": 24,
   "metadata": {},
   "outputs": [],
   "source": [
    "Asia_EPS =CSV_EPS(\"Asia\",2006,2019)"
   ]
  },
  {
   "cell_type": "code",
   "execution_count": 25,
   "metadata": {},
   "outputs": [],
   "source": [
    "Asia2=CSV_fundamentals(\"Asia\",Asia_price,Asia_EPS,2,120,0.005,True)"
   ]
  },
  {
   "cell_type": "markdown",
   "metadata": {},
   "source": [
    "# 3. Utility functions"
   ]
  },
  {
   "cell_type": "code",
   "execution_count": 73,
   "metadata": {},
   "outputs": [],
   "source": [
    "def return_calc(ticker,date,price_df,index_df,period_tuple,abs_rel):\n",
    "    '''\n",
    "    Calculate return from the period tuple, abs_return if assigned abs\n",
    "    Day starts from zero, so 1 means start the return calculation one day after result, second element is the number of days\n",
    "    '''\n",
    "    if type(date)==float:\n",
    "        return None\n",
    "    elif type(date)==pd.Timestamp:\n",
    "        date=date.strftime(\"%d/%b/%Y\")\n",
    "    elif type(date)==str:\n",
    "        date=date\n",
    "    price_series=price_df.loc[ticker].dropna()\n",
    "    date_series=price_series.index.tolist()\n",
    "    \n",
    "    index_data_series=index_df.index.tolist()\n",
    "    \n",
    "    if date in date_series:\n",
    "        day0=date_series.index(date)\n",
    "        day0_index=index_data_series.index(date)\n",
    "        \n",
    "        start_price=price_series.iloc[:day0+period_tuple[0]].dropna().iloc[-1]\n",
    "        end_price=price_series.iloc[:day0+period_tuple[0]+period_tuple[1]].dropna().iloc[-1]\n",
    "        \n",
    "        target_series=price_series.iloc[day0+period_tuple[0]-2:day0+period_tuple[0]+period_tuple[1]]\n",
    "        \n",
    "        if start_price!=0:\n",
    "            abs_return=end_price/start_price-1\n",
    "        else:\n",
    "            abs_return=None\n",
    "        \n",
    "\n",
    "        \n",
    "        if abs_rel=='abs':\n",
    "            target_return=abs_return\n",
    "        else:\n",
    "\n",
    "            start_index=index_df.iloc[:day0_index+period_tuple[0]].dropna().iloc[-1]\n",
    "            end_index=index_df.iloc[:day0_index+period_tuple[0]+period_tuple[1]].dropna().iloc[-1]\n",
    "            if start_index!=0:\n",
    "                index_return=end_index/start_index-1\n",
    "            else:\n",
    "                index_return=None\n",
    "\n",
    "            if abs_return is None or index_return is None:\n",
    "                target_return=None\n",
    "            else:\n",
    "                target_return=abs_return-index_return\n",
    "        return target_return\n",
    "    else:\n",
    "        return None"
   ]
  },
  {
   "cell_type": "code",
   "execution_count": 74,
   "metadata": {},
   "outputs": [],
   "source": [
    "def quarter_transform(quarter):\n",
    "    '''\n",
    "    Take the raw quarter to Q1 to Q4\n",
    "    '''\n",
    "    if type(quarter)==float:\n",
    "        adj_quarter=None\n",
    "    else:\n",
    "        \n",
    "        if quarter[-2:]=='Q4' or quarter[-2:]==':A':\n",
    "            adj_quarter='Q4'\n",
    "        elif quarter[-2:]=='Q3' or quarter[-2:]=='C3':\n",
    "            adj_quarter='Q3'\n",
    "        elif quarter[-2:]=='Q2' or quarter[-2:]=='C2' or quarter[-2:]=='S1':\n",
    "            adj_quarter='Q2'\n",
    "        elif quarter[-2:]=='Q1' or quarter[-2:]=='C1':\n",
    "            adj_quarter='Q1'\n",
    "        else:\n",
    "            adj_quarter=None\n",
    "    return adj_quarter"
   ]
  },
  {
   "cell_type": "code",
   "execution_count": 75,
   "metadata": {},
   "outputs": [],
   "source": [
    "def EAR_calc(ticker,date,return_df,EAR_period,vol_lookback):\n",
    "    '''\n",
    "    Calculate EAR from ticker and reference date\n",
    "    '''\n",
    "    if type(date)==float:\n",
    "        return None\n",
    "    elif type(date)==pd.Timestamp:\n",
    "        date=date.strftime(\"%d/%b/%Y\")\n",
    "    elif type(date)==str:\n",
    "        date=date\n",
    "    return_series=return_df.loc[ticker].dropna()\n",
    "    date_series=return_series.index.tolist()\n",
    "    if date in date_series:\n",
    "        day0=date_series.index(date)\n",
    "        post_series=return_series.iloc[day0:]\n",
    "        pre_series=return_series.iloc[:day0]\n",
    "        vol= return_series.iloc[day0-min(len(pre_series),vol_lookback+1):day0].std()\n",
    "        ret=(return_series.iloc[day0:day0+EAR_period]+1).prod()-1\n",
    "        nmove=ret/vol\n",
    "        return nmove\n",
    "    else:\n",
    "        return None"
   ]
  },
  {
   "cell_type": "code",
   "execution_count": 76,
   "metadata": {},
   "outputs": [],
   "source": [
    "def signal_vol(signal_column,return_df,vol_lookback):\n",
    "    '''\n",
    "    Calculate simple vol from signal tuple\n",
    "    '''\n",
    "    signal_series=return_df.loc[signal_column.name[0]]\n",
    "    location=signal_series.index.tolist().index(signal_column.name[1])\n",
    "    vol_range=min(vol_lookback,len(signal_series[:location]))\n",
    "    signal_vol=signal_series[location-vol_range-1:location].std()\n",
    "    return signal_vol"
   ]
  },
  {
   "cell_type": "code",
   "execution_count": 77,
   "metadata": {},
   "outputs": [],
   "source": [
    "def slice_universe(signal_df,start_datetime,end_datetime,old_position):\n",
    "    '''\n",
    "    Slice the signal_df, both the index and entry date have to be \n",
    "    '''\n",
    "    \n",
    "\n",
    "    signal_df=signal_df.loc[start_datetime:end_datetime]\n",
    "    \n",
    "    if old_position is True:  \n",
    "        adj_signal_df=signal_df\n",
    "    else:\n",
    "        entry=signal_df.apply(lambda x:datetime.strptime(x.name[1],\"%d/%b/%Y\"),axis=0)\n",
    "        period_evaluate=(entry>=start_datetime)&(entry<=end_datetime)\n",
    "        adj_signal_df=signal_df.loc[:,period_evaluate]\n",
    "    \n",
    "    \n",
    "    zero_index=pd.Series(1,index=pd.date_range(start_datetime,end_datetime,freq='B')).to_frame()\n",
    "    adj_signal_df=pd.concat([adj_signal_df.drop_duplicates(),zero_index],axis=1).iloc[:,:-1]\n",
    "    return adj_signal_df\n",
    "    "
   ]
  },
  {
   "cell_type": "code",
   "execution_count": 78,
   "metadata": {},
   "outputs": [],
   "source": [
    "def signal_filter_stop(signal_df,stop_level,return_df,vol_lookback,stop_type,index_df):\n",
    "    '''\n",
    "    Input - signal_df\n",
    "    Get the updated signal df after the stop loss\n",
    "    stop_type:abs,rel\n",
    "    \n",
    "    '''\n",
    "    if stop_type=='abs':\n",
    "        vol_row=signal_df.apply(lambda column:signal_vol(column,return_df,vol_lookback),axis=0)\n",
    "        signal_cum_nmove=((1+signal_df).cumprod()-1).ffill()/vol_row\n",
    "        signal_df_stop=signal_df[-(signal_cum_nmove.expanding().min().shift(1,axis=0)<-stop_level)]\n",
    "    elif stop_type=='rel':\n",
    "        if index_df.shape[1]==1:\n",
    "            signal_count=signal_df.copy()\n",
    "            signal_count[((signal_count)>0) | ((signal_count)<0)]=1.0\n",
    "            signal_hedge=signal_count.apply(lambda x:x.multiply(index_df.iloc[:,0],axis=0))\n",
    "            \n",
    "            vol_row=signal_df.apply(lambda x:signal_vol(x,return_df,vol_lookback),axis=0)\n",
    "            rel_signal_cum_nmove=((1+signal_df).cumprod()-(1+signal_hedge).cumprod()).ffill()/vol_row\n",
    "            signal_df_stop=signal_df[-(rel_signal_cum_nmove.expanding().min().shift(1,axis=0)<-stop_level)]\n",
    "        else:\n",
    "            signal_count=signal_df.copy()\n",
    "            signal_count[((signal_count)>0) | ((signal_count)<0)]=1.0\n",
    "            signal_hedge=signal_count.apply(lambda x:x.multiply(index_df[Asia_mapping.loc[x.name[0][-2:]].iloc[0]],axis=0))\n",
    "            \n",
    "            vol_row=signal_df.apply(lambda x:signal_vol(x,return_df,vol_lookback),axis=0)\n",
    "            rel_signal_cum_nmove=((1+signal_df).cumprod()-(1+signal_hedge).cumprod()).ffill()/vol_row\n",
    "            signal_df_stop=signal_df[-(rel_signal_cum_nmove.expanding().min().shift(1,axis=0)<-stop_level)]            \n",
    "            \n",
    "    else:\n",
    "        pass\n",
    "        \n",
    "    return signal_df_stop"
   ]
  },
  {
   "cell_type": "code",
   "execution_count": 79,
   "metadata": {},
   "outputs": [],
   "source": [
    "def revision_adjusted_size(reference_signal_df,lower_revision,higher_revision,size_multiple,revision_row,revision_row_reference,\\\n",
    "                           gross,long):\n",
    "    \n",
    "    ''' \n",
    "    Use positive size\n",
    "    '''\n",
    "    \n",
    "    lower_size=0.01\n",
    "    higher_size=lower_size*size_multiple\n",
    "\n",
    "    if long is True:\n",
    "        size_row_reference=revision_row_reference.to_frame().copy().apply(lambda x: lower_size+(higher_size-lower_size)\\\n",
    "                                                      *(np.abs(x.iloc[0]-lower_revision))/np.abs(higher_revision-lower_revision) \\\n",
    "                                                      if np.abs(x.iloc[0])<=np.abs(higher_revision) else higher_size,axis=1)\n",
    "\n",
    "        size_df_reference=(1+reference_signal_df).cumprod()*size_row_reference\n",
    "\n",
    "        trial_gross=np.abs(size_df_reference.sum(axis=1).mean())\n",
    "        new_lower_size=lower_size/(trial_gross*100/gross)\n",
    "        new_higher_size=higher_size/(trial_gross*100/gross)\n",
    "\n",
    "        size_row=revision_row.to_frame().copy().apply(lambda x: new_lower_size+(new_higher_size-new_lower_size)\\\n",
    "                                                      *(np.abs(x.iloc[0]-lower_revision))/np.abs(higher_revision-lower_revision) \\\n",
    "                                                      if np.abs(x.iloc[0])<=np.abs(higher_revision) else new_higher_size,axis=1)\n",
    "    else:\n",
    "        size_row_reference=revision_row_reference.to_frame().copy().apply(lambda x: lower_size+(higher_size-lower_size)\\\n",
    "                                                      *(np.abs(x.iloc[0]-lower_revision))/np.abs(higher_revision-lower_revision) \\\n",
    "                                                      if np.abs(x.iloc[0])<=np.abs(lower_revision) else higher_size,axis=1)\n",
    "\n",
    "        size_df_reference=(1-reference_signal_df).cumprod()*size_row_reference\n",
    "\n",
    "        trial_gross=np.abs(size_df_reference.sum(axis=1).mean())\n",
    "        new_lower_size=lower_size/(trial_gross*100/gross)\n",
    "        new_higher_size=higher_size/(trial_gross*100/gross)\n",
    "\n",
    "        size_row=revision_row.to_frame().copy().apply(lambda x: new_lower_size+(new_higher_size-new_lower_size)\\\n",
    "                                                      *(np.abs(x.iloc[0]-lower_revision))/np.abs(higher_revision-lower_revision) \\\n",
    "                                                      if np.abs(x.iloc[0])<=np.abs(lower_revision) else new_higher_size,axis=1)\n",
    "\n",
    "    return size_row, new_lower_size"
   ]
  },
  {
   "cell_type": "code",
   "execution_count": 80,
   "metadata": {},
   "outputs": [],
   "source": [
    "def sizing(signal_df,reference_signal_df,gross,fundamental_df,new_signal,return_df,risk_parity,liquidity,capital,\\\n",
    "           revision_adjust,long):\n",
    "    '''\n",
    "    Use historical signal_df range to calculate the size row for the current signal_df range\n",
    "    Idea is to use historical as a benchmark for future sizing\n",
    "    '''\n",
    "    \n",
    "    fundamental_df=fundamental_df.copy().sort_index()\n",
    "    vol_reference=reference_signal_df.apply(lambda x:signal_vol(x,return_df,30),axis=0).mean()\n",
    "    vol_row=signal_df.apply(lambda x:signal_vol(x,return_df,30),axis=0)\n",
    "    \n",
    "    '''\n",
    "    Revision row needs to be updated using reference_signal\n",
    "    new sizing scheme is a linear function\n",
    "    revision_adjust=(True/False,lower_revision,higher_revision,size_multiple)\n",
    "    '''\n",
    "    \n",
    "    \n",
    "    if revision_adjust[0] is True:\n",
    "        \n",
    "        if new_signal is True:     \n",
    "            revision_row_reference=fundamental_df.loc[reference_signal_df.columns][\"Revision_real\"]\n",
    "            revision_row=fundamental_df.loc[signal_df.columns][\"Revision_real\"]\n",
    "        else:\n",
    "            revision_row_reference=fundamental_df.loc[reference_signal_df.columns][\"Revision_20\"]\n",
    "            revision_row=fundamental_df.loc[signal_df.columns][\"Revision_20\"]           \n",
    "        \n",
    "        if long is True and revision_adjust[1] is not None:\n",
    "            lower_revision=revision_adjust[1][0]\n",
    "            higher_revision=revision_adjust[1][1]\n",
    "            size_multiple=revision_adjust[3]\n",
    "        \n",
    "            base_size,low_size=revision_adjusted_size(reference_signal_df,lower_revision,higher_revision,size_multiple,\\\n",
    "                                                      revision_row,revision_row_reference,gross,True)\n",
    "            if risk_parity is True:\n",
    "                size_row=signal_df.apply(lambda x: min(base_size[x.name]/(vol_row[x.name]/vol_reference),\\\n",
    "                                                       fundamental_df.loc[x.name[0],x.name[1]][\"Volume\"].iloc[0]*\\\n",
    "                                                       liquidity/capital),axis=0)\n",
    "            else:\n",
    "                size_row=signal_df.apply(lambda x: min(base_size[x.name], fundamental_df.loc[x.name[0],x.name[1]][\"Volume\"].iloc[0]\\\n",
    "                                                       *liquidity/capital),axis=0)            \n",
    "\n",
    "        elif long is False and revision_adjust[2] is not None:\n",
    "            lower_revision=revision_adjust[2][0]\n",
    "            higher_revision=revision_adjust[2][1]\n",
    "            size_multiple=revision_adjust[3]\n",
    "        \n",
    "            base_size,low_size=revision_adjusted_size(reference_signal_df,lower_revision,higher_revision,size_multiple,revision_row,\\\n",
    "                                             revision_row_reference,gross,False) \n",
    "\n",
    "            if risk_parity is True:\n",
    "                size_row=signal_df.apply(lambda x: min(base_size[x.name]/(vol_row[x.name]/vol_reference),\\\n",
    "                                                       fundamental_df.loc[x.name[0],x.name[1]][\"Volume\"].iloc[0]*\\\n",
    "                                                       liquidity/capital),axis=0)\n",
    "            else:\n",
    "                size_row=signal_df.apply(lambda x: min(base_size[x.name], fundamental_df.loc[x.name[0],x.name[1]][\"Volume\"].iloc[0]\\\n",
    "                                                       *liquidity/capital),axis=0)\n",
    "\n",
    "        else:\n",
    "            size_row=None\n",
    "            low_size=None\n",
    "\n",
    "    elif revision_adjust[0]=='constant':\n",
    "        if risk_parity is True:\n",
    "            size_row=signal_df.apply(lambda x: min(revision_adjust[1]/(vol_row[x.name]/vol_reference),\\\n",
    "                                                   fundamental_df.loc[x.name[0],x.name[1]][\"Volume\"].iloc[0]*\\\n",
    "                                                   liquidity/capital),axis=0)\n",
    "        else:\n",
    "            size_row=signal_df.apply(lambda x: min(revision_adjust[1], fundamental_df.loc[x.name[0],x.name[1]][\"Volume\"].iloc[0]\\\n",
    "                                                   *liquidity/capital),axis=0)\n",
    "        low_size=None\n",
    "\n",
    "    else:\n",
    "        number=reference_signal_df.count(axis=1).mean()\n",
    "        avg_size=gross/100/number\n",
    "\n",
    "        if risk_parity is True:\n",
    "            size_row=signal_df.apply(lambda x: min(avg_size/(vol_row[x.name]/vol_reference),\\\n",
    "                                                   fundamental_df.loc[x.name[0],x.name[1]][\"Volume\"].iloc[0]*\\\n",
    "                                                   liquidity/capital),axis=0)\n",
    "        else:\n",
    "            size_row=signal_df.apply(lambda x: min(avg_size, fundamental_df.loc[x.name[0],x.name[1]][\"Volume\"].iloc[0]\\\n",
    "                                                   *liquidity/capital),axis=0)\n",
    "        low_size=None\n",
    "    return size_row,low_size"
   ]
  },
  {
   "cell_type": "code",
   "execution_count": 81,
   "metadata": {},
   "outputs": [],
   "source": [
    "def trading_analytics_date(portfolio_cache):\n",
    "    '''\n",
    "    Key portfolio metrics from portfolio cache\n",
    "    Feed into plot function\n",
    "    '''\n",
    "    \n",
    "    ind_return=portfolio_cache[3]\n",
    "    signal_count=len(ind_return)\n",
    "    account_curve=portfolio_cache[1]\n",
    "    \n",
    "    if signal_count==0:\n",
    "        return None,None,None,None,None,None,None\n",
    "    else:\n",
    "        mean_return=ind_return.mean()\n",
    "        hit_rate=len(ind_return[ind_return>0])/len(ind_return)*1.0\n",
    "        payoff_ratio=ind_return[ind_return>0].mean()/ind_return[ind_return<0].mean()*-1.0\n",
    "        \n",
    "        account_price=account_curve+1\n",
    "        ann_vol=np.std(account_price.diff()/account_price.shift(1))*(260**0.5)\n",
    "        ann_ret=(account_price.iloc[-1]**(1/len(account_price)))**260-1\n",
    "        ann_sharpe=ann_ret/ann_vol\n",
    "        \n",
    "        max_dd=-((1+account_curve)-(1+account_curve).cummax(axis=0)).expanding().min().min()\n",
    "        \n",
    "        #low_date=(np.maximum.accumulate(account_curve)-account_curve).idxmax()\n",
    "        #high_date=account_curve[:low_date].idxmax()\n",
    "        #max_dd=1-(1+account_curve[low_date])/(1+account_curve[high_date])\n",
    "        \n",
    "        return signal_count,hit_rate,payoff_ratio,ann_ret,ann_vol,ann_sharpe,max_dd"
   ]
  },
  {
   "cell_type": "code",
   "execution_count": 82,
   "metadata": {},
   "outputs": [],
   "source": [
    "def trading_analytics_simp(account_curve):\n",
    "    '''\n",
    "    Key portfolio metrics from portfolio account curve\n",
    "    Only sharpe and drawdown\n",
    "    '''\n",
    "\n",
    "\n",
    "    account_price=account_curve+1\n",
    "    ann_vol=np.std(account_price.diff()/account_price.shift(1))*(260**0.5)\n",
    "    ann_ret=(account_price.iloc[-1]**(1/len(account_price)))**260-1\n",
    "    ann_sharpe=ann_ret/ann_vol\n",
    "\n",
    "    max_dd=-((1+account_curve)-(1+account_curve).cummax(axis=0)).expanding().min().min()\n",
    "\n",
    "    #low_date=(np.maximum.accumulate(account_curve)-account_curve).idxmax()\n",
    "    #high_date=account_curve[:low_date].idxmax()\n",
    "    #max_dd=1-(1+account_curve[low_date])/(1+account_curve[high_date])\n",
    "\n",
    "    return ann_sharpe,max_dd"
   ]
  },
  {
   "cell_type": "code",
   "execution_count": 83,
   "metadata": {},
   "outputs": [],
   "source": [
    "def plot_signal(title,figsize,portfolio_cache):\n",
    "\n",
    "    account_curve=portfolio_cache[1]\n",
    "    avg_size=np.abs(portfolio_cache[2]).mean(axis=0).mean()\n",
    "    ind_return=portfolio_cache[3]\n",
    "    gross=portfolio_cache[4]\n",
    "    turnover=portfolio_cache[5]\n",
    "\n",
    "    fig=plt.figure(figsize=figsize)\n",
    "    ax1=fig.add_subplot(1,1,1)\n",
    "    ln1=ax1.plot(account_curve,label='signal',color='b')\n",
    "\n",
    "    val1=ax1.get_yticks()\n",
    "    start=val1[0]\n",
    "    end=val1[-1]\n",
    "    ax1.set_yticks(np.arange(start,end,0.01))  \n",
    "    adj_val1=ax1.get_yticks()\n",
    "    ax1.set_yticklabels([\"{:.0%}\".format(x) for x in adj_val1])\n",
    "\n",
    "    ax2=ax1.twinx()\n",
    "    ln2=ax2.plot(gross,label='gross',color='silver')\n",
    "\n",
    "    val2=ax2.get_yticks()\n",
    "    start=val2[0]\n",
    "    end=val2[-1]\n",
    "    ax2.set_yticks(np.arange(start,end,0.1))  \n",
    "    adj_val2=ax2.get_yticks()\n",
    "    ax2.set_yticklabels([\"{:.0%}\".format(x) for x in adj_val2])\n",
    "\n",
    "    count,hit,payoff,ret,vol,sharpe,max_dd=trading_analytics_date(portfolio_cache)\n",
    "\n",
    "    plt.title(\"\\n\".join(textwrap.wrap('count='+str(count)+\n",
    "                             ',avg_size='+str(\"{:.1%}\".format(avg_size))+\n",
    "                             ',hit_rate='+str(\"{:.0%}\".format(hit))+\n",
    "                             ',payoff='+str(round(payoff,1))+\n",
    "                             ',return='+str(\"{:.1%}\".format(ret))+\n",
    "                             ',vol='+str(\"{:.1%}\".format(vol))+\n",
    "                             ',sharpe='+str(round(sharpe,1))+\n",
    "                             ',turnover='+str(round(turnover,1))+'x'+                             \n",
    "                             ',max_drawdown='+str(\"{:.1%}\".format(max_dd)))),fontsize=10)\n",
    "\n",
    "    ax1.set_xlabel('Year')\n",
    "    ax1.set_ylabel('Return')\n",
    "    ax2.set_ylabel('Exposure')\n",
    "    plt.suptitle(title,y=1.05,fontsize=16)\n",
    "    plt.grid(linestyle='dashed')\n",
    "    plt.legend(ln1+ln2,[l.get_label() for l in ln1+ln2],loc=2)\n",
    "    ax1.axhline(y=0,color='k')\n",
    "\n",
    "    plt.show()        "
   ]
  },
  {
   "cell_type": "markdown",
   "metadata": {},
   "source": [
    "# 4. Signal class "
   ]
  },
  {
   "cell_type": "code",
   "execution_count": 84,
   "metadata": {},
   "outputs": [],
   "source": [
    "class signal(object):\n",
    "    '''\n",
    "    Signal class is built to initialize the signal_df and account curve from base parameters \n",
    "    '''\n",
    "    def __init__(self,fundamental_df,price_df,EAR_period,entry,long_criteria,short_criteria,holding,start,end,old_position\\\n",
    "                 ,new_signal,revision_adjust,early_exit):\n",
    "        '''\n",
    "        Define the key free parameters of the signal\n",
    "        Criteria:(EAR,revision,size)\n",
    "        revision_adjust:(True/False,(long lower revision,long higher revision),(short low abs revision,short high abs_revision),\\\n",
    "        size_multiple)\n",
    "        '''\n",
    "        self.fundamental_df=fundamental_df\n",
    "        self.price_df=price_df\n",
    "        self.abs_return=price_df.diff(1,axis=1)/price_df.shift(1,axis=1)\n",
    "        self.EAR_period=EAR_period\n",
    "        self.entry=entry\n",
    "        self.long_criteria=long_criteria\n",
    "        self.short_criteria=short_criteria\n",
    "        self.holding=holding\n",
    "        self.start=start\n",
    "        self.end=end\n",
    "        self.old_position=old_position\n",
    "        self.new_signal=new_signal\n",
    "        self.revision_adjust=revision_adjust #(True/False,lower_revision,higher_revision in absolute terms,size_multiple)\n",
    "        self.early_exit=early_exit\n",
    "        \n",
    "    def signal_base(self):\n",
    "        '''\n",
    "        Filter the signal criteria like EAR and revision, get the target signal list\n",
    "        From the fundamental information\n",
    "        For both long and short side\n",
    "        '''\n",
    "        \n",
    "        long_base=self.fundamental_df.copy()\n",
    "        short_base=self.fundamental_df.copy()\n",
    "        \n",
    "\n",
    "        long_base[\"EAR\"]=long_base.apply(lambda x:EAR_calc(x.name[0],x.name[1],self.abs_return,self.EAR_period,30)\\\n",
    "                                     if x.name[0] in self.abs_return.index else None,axis=1)\n",
    "\n",
    "        short_base[\"EAR\"]=short_base.apply(lambda x:EAR_calc(x.name[0],x.name[1],self.abs_return,self.EAR_period,30)\\\n",
    "                                     if x.name[0] in self.abs_return.index else None,axis=1)\n",
    "\n",
    "\n",
    "        if self.long_criteria is None:\n",
    "            long_base=None\n",
    "        else:\n",
    "            \n",
    "            if self.long_criteria[1] is None:\n",
    "                pass\n",
    "            else:\n",
    "                if self.new_signal is True:\n",
    "                    long_base=long_base[(long_base[\"Revision_real\"]>self.long_criteria[1][0])\\\n",
    "                                                    &(long_base[\"Revision_real\"]<self.long_criteria[1][1])]\n",
    "                else:\n",
    "                    long_base=long_base[(long_base[\"Revision_20\"]>self.long_criteria[1][0])\\\n",
    "                                                    &(long_base[\"Revision_20\"]<self.long_criteria[1][1])]                    \n",
    "                \n",
    "            if self.long_criteria[2] is None:\n",
    "                pass\n",
    "            else:\n",
    "                long_base=long_base[(long_base[\"Market cap\"]>self.long_criteria[2][0])&\\\n",
    "                                        (long_base[\"Market cap\"]<self.long_criteria[2][1])]\n",
    "            \n",
    "            if self.long_criteria[0] is None:\n",
    "                pass\n",
    "            else:\n",
    "                long_base=long_base[(long_base[\"EAR\"]>self.long_criteria[0][0])&(long_base[\"EAR\"]<self.long_criteria[0][1])]\n",
    "                \n",
    "                \n",
    "        if self.short_criteria is None:\n",
    "            short_base=None\n",
    "        else:\n",
    "            \n",
    "            if self.short_criteria[1] is None:\n",
    "                pass\n",
    "            else:\n",
    "                if self.new_signal is True:\n",
    "                    short_base=short_base[(short_base[\"Revision_real\"]>self.short_criteria[1][0])\\\n",
    "                                                    &(short_base[\"Revision_real\"]<self.short_criteria[1][1])]\n",
    "                else:\n",
    "                    short_base=short_base[(short_base[\"Revision_20\"]>self.short_criteria[1][0])\\\n",
    "                                                    &(short_base[\"Revision_20\"]<self.short_criteria[1][1])]                    \n",
    "                \n",
    "            if self.short_criteria[2] is None:\n",
    "                pass\n",
    "            else:\n",
    "                short_base=short_base[(short_base[\"Market cap\"]>self.short_criteria[2][0])&\\\n",
    "                                        (short_base[\"Market cap\"]<self.short_criteria[2][1])]\n",
    "            \n",
    "            if self.short_criteria[0] is None:\n",
    "                pass\n",
    "            else:\n",
    "                short_base=short_base[(short_base[\"EAR\"]>self.short_criteria[0][0])&\\\n",
    "                                      (short_base[\"EAR\"]<self.short_criteria[0][1])]\n",
    "        \n",
    "        self.long_base=long_base\n",
    "        self.short_base=short_base\n",
    "        \n",
    "        return long_base,short_base\n",
    "    \n",
    "    def signal_df_date(self):#if we hold them through next earning\n",
    "        '''\n",
    "        Obtain the signal_df function over the whole time period from the target signal list\n",
    "        '''\n",
    "        try:\n",
    "            long_base=self.long_base.copy()\n",
    "            short_base=self.short_base.copy()\n",
    "        except:\n",
    "            long_base,short_base=signal.signal_base(self)\n",
    "        \n",
    "        if long_base is None:\n",
    "            long_df=None\n",
    "        \n",
    "        else:\n",
    "            long_df=pd.DataFrame(index=self.price_df.columns)\n",
    "\n",
    "            for s in long_base.index:\n",
    "                return_series=self.abs_return.loc[s[0]]\n",
    "                if s[1] in return_series.index:\n",
    "                    if not np.isnan(return_series.loc[s[1]]): \n",
    "                        day0=return_series.index.tolist().index(s[1])\n",
    "                        \n",
    "                        if self.early_exit is True and datetime.strptime(s[1],\"%d/%b/%Y\").date()>=\\\n",
    "                        datetime.strptime(s[3],\"%d/%b/%Y\").date():\n",
    "                            period=None\n",
    "                        \n",
    "                        elif self.early_exit is True and type(s[2])!=float and datetime.strptime(s[1],\"%d/%b/%Y\").date()<\\\n",
    "                        datetime.strptime(s[3],\"%d/%b/%Y\").date():\n",
    "                            period=min(self.holding,np.busday_count(datetime.strptime(s[1],\"%d/%b/%Y\").date(),\\\n",
    "                                                                    datetime.strptime(s[2],\"%d/%b/%Y\").date())-self.entry,\n",
    "                                      np.busday_count(datetime.strptime(s[1],\"%d/%b/%Y\").date(),\\\n",
    "                                                                    datetime.strptime(s[3],\"%d/%b/%Y\").date())-self.entry+1)                            \n",
    "                        \n",
    "                        elif self.early_exit is True and type(s[2])==float and datetime.strptime(s[1],\"%d/%b/%Y\").date()<\\\n",
    "                        datetime.strptime(s[3],\"%d/%b/%Y\").date():\n",
    "                            period=min(self.holding,np.busday_count(datetime.strptime(s[1],\"%d/%b/%Y\").date(),\\\n",
    "                                                                    datetime.strptime(s[3],\"%d/%b/%Y\").date())-self.entry+1)\n",
    "                            \n",
    "                        elif type(s[2])==float:##basically np.nan has type float\n",
    "                            period=self.holding+1\n",
    "                        \n",
    "                        else: ##assume that we are not holding through numbers\n",
    "                            period=min(self.holding,np.busday_count(datetime.strptime(s[1],\"%d/%b/%Y\").date(),\\\n",
    "                                                                    datetime.strptime(s[2],\"%d/%b/%Y\").date())-self.entry)\n",
    "                            \n",
    "                        if period is None:\n",
    "                            pass\n",
    "                        else:\n",
    "                            target_series=return_series.iloc[day0+self.entry-1:day0+min(period+self.entry, \\\n",
    "                                                                                           len(return_series[day0:]))].dropna()\n",
    "                            \n",
    "                            if len(target_series)==0:\n",
    "                                pass\n",
    "                            else:\n",
    "                                target_series.iloc[0]=0.0\n",
    "                                long_df[s]=target_series                        \n",
    "\n",
    "                    else:\n",
    "                        pass\n",
    "                else:\n",
    "                    pass\n",
    "                \n",
    "            long_df=long_df.reindex(datetime.strptime(i,\"%d/%b/%Y\") for i in long_df.index)\n",
    "            long_df=long_df.sort_index()\n",
    "\n",
    "            if self.start is not None:\n",
    "                long_df=slice_universe(long_df,self.start,self.end,self.old_position)\n",
    "            else:\n",
    "                pass\n",
    "            \n",
    "            long_df=long_df.dropna(how=\"all\",axis=1)\n",
    "            long_df.columns=pd.MultiIndex.from_tuples(pd.Series(list(long_df.columns)))\n",
    "            self.long_df=long_df\n",
    "            \n",
    "            \n",
    "        \n",
    "        if short_base is None:\n",
    "            short_df=None\n",
    "        \n",
    "        else:\n",
    "            short_df=pd.DataFrame(index=self.price_df.columns)\n",
    "\n",
    "            for s in short_base.index:\n",
    "                return_series=self.abs_return.loc[s[0]]\n",
    "                if s[1] in return_series.index:\n",
    "                    if not np.isnan(return_series.loc[s[1]]): \n",
    "                        day0=return_series.index.tolist().index(s[1])\n",
    "                        \n",
    "                        if self.early_exit is True and datetime.strptime(s[1],\"%d/%b/%Y\").date()>=\\\n",
    "                        datetime.strptime(s[3],\"%d/%b/%Y\").date():\n",
    "                            period=None\n",
    "                            \n",
    "                        elif self.early_exit is True and type(s[2])!=float and datetime.strptime(s[1],\"%d/%b/%Y\").date()<\\\n",
    "                        datetime.strptime(s[3],\"%d/%b/%Y\").date():\n",
    "                            period=min(self.holding,np.busday_count(datetime.strptime(s[1],\"%d/%b/%Y\").date(),\\\n",
    "                                                                    datetime.strptime(s[2],\"%d/%b/%Y\").date())-self.entry,\n",
    "                                      np.busday_count(datetime.strptime(s[1],\"%d/%b/%Y\").date(),\\\n",
    "                                                                    datetime.strptime(s[3],\"%d/%b/%Y\").date())-self.entry+1)  \n",
    "                            \n",
    "                        elif self.early_exit is True and type(s[2])==float and datetime.strptime(s[1],\"%d/%b/%Y\").date()<\\\n",
    "                        datetime.strptime(s[3],\"%d/%b/%Y\").date():\n",
    "                            period=min(self.holding,np.busday_count(datetime.strptime(s[1],\"%d/%b/%Y\").date(),\\\n",
    "                                                                    datetime.strptime(s[3],\"%d/%b/%Y\").date())-self.entry+1)\n",
    "                        elif type(s[2])==float:##basically np.nan has type float\n",
    "                            period=self.holding\n",
    "                    \n",
    "                        else: ##assume that we are not holding through numbers\n",
    "                            period=min(self.holding,np.busday_count(datetime.strptime(s[1],\"%d/%b/%Y\").date(),\\\n",
    "                                                                    datetime.strptime(s[2],\"%d/%b/%Y\").date())-self.entry)\\\n",
    "\n",
    "\n",
    "                        if period is None:\n",
    "                            pass\n",
    "                        else:\n",
    "                            target_series=return_series.iloc[day0+self.entry-1:day0+min(period+self.entry, \\\n",
    "                                                                                           len(return_series[day0:]))].dropna()\n",
    "                            \n",
    "                            if len(target_series)==0:\n",
    "                                pass\n",
    "                            else:\n",
    "                                target_series.iloc[0]=0.0\n",
    "                                short_df[s]=target_series         \n",
    "                            \n",
    "                    else:\n",
    "                        pass\n",
    "                else:\n",
    "                    pass\n",
    "\n",
    "            short_df=short_df.reindex(datetime.strptime(i,\"%d/%b/%Y\") for i in short_df.index)\n",
    "            short_df=short_df.sort_index()\n",
    "\n",
    "            if self.start is not None:\n",
    "                short_df=slice_universe(short_df,self.start,self.end,self.old_position)\n",
    "            else:\n",
    "                pass  \n",
    "            \n",
    "            short_df=short_df.dropna(how=\"all\",axis=1)\n",
    "            short_df.columns=pd.MultiIndex.from_tuples(pd.Series(list(short_df.columns)))\n",
    "            self.short_df=short_df\n",
    "        \n",
    "        return long_df,short_df\n",
    "\n",
    "    def signal_account(self,stop,gross,index_df,net_level,risk_parity,liquidity,capital):\n",
    "        '''\n",
    "        Build the account curve with signal_df\n",
    "        Assume quarterly rebalancing that's why the period list has quarter as the key\n",
    "        Take extra care when building the account curve, the logic is: work out the size_df, then shift by 1 and * signal_df\n",
    "        Stop=(long_stop,short_stop,type)\n",
    "        index_df has to be a dataframe with a name\n",
    "        '''\n",
    "        \n",
    "        try:\n",
    "            long_df=self.long_df.copy()\n",
    "            short_df=self.short_df.copy()\n",
    "            \n",
    "        except:\n",
    "            long_df,short_df=self.signal_df_date()\n",
    "                   \n",
    "        '''\n",
    "        Assign values for later use\n",
    "        '''\n",
    "        \n",
    "        self.capital=capital\n",
    "        \n",
    "        self.index_df=index_df\n",
    "        self.index_df.index=[datetime.strptime(i,\"%d/%b/%Y\") for i in self.index_df.index]\n",
    "       \n",
    "        \n",
    "        '''\n",
    "        Define rebalance period first\n",
    "        '''\n",
    "        if long_df is None:\n",
    "            period=short_df.apply(lambda x:str(x.name.year)+\" \"+str(x.name.quarter),axis=1)\n",
    "            period_list=list(set(period))\n",
    "            period_list.sort()    \n",
    "            \n",
    "        else:\n",
    "            period=long_df.apply(lambda x:str(x.name.year)+\" \"+str(x.name.quarter),axis=1)\n",
    "            period_list=list(set(period))\n",
    "            period_list.sort()    \n",
    "                \n",
    "        '''\n",
    "        Separate out long and short\n",
    "        '''\n",
    "        if long_df is None:\n",
    "            long_cache=(None,None,None,None)\n",
    "        else:\n",
    "            if stop is None:\n",
    "                pass\n",
    "            else:\n",
    "                long_df=signal_filter_stop(long_df,stop[0],self.abs_return,30,stop[2],self.index_df)   \n",
    "                self.long_df=long_df\n",
    "\n",
    "            long_sub_signal={}\n",
    "            long_sub_size_row={}\n",
    "            long_sub_size_df={}\n",
    "            long_sub_pnl={}\n",
    "        \n",
    "            for s in period_list:\n",
    "            \n",
    "                long_sub_signal[s]=long_df[period==s].dropna(how='all',axis=1)\n",
    "                \n",
    "                if long_sub_signal[s].shape[1]==0:\n",
    "                    long_sub_size_df[s]=long_sub_signal[s]\n",
    "                    long_sub_pnl[s]=long_sub_signal[s]\n",
    "                    \n",
    "                else:\n",
    "                    if period_list.index(s)<4:##use last quarter's sizing as reference\n",
    "                        long_sub_size_row[s]=sizing(long_sub_signal[s],long_sub_signal[s],gross[0],self.fundamental_df,\\\n",
    "                                                       self.new_signal,self.abs_return,risk_parity,liquidity,capital,\\\n",
    "                                                    self.revision_adjust,True)[0]\n",
    "                        \n",
    "                    else:\n",
    "                        try:\n",
    "                            long_sub_size_row[s]=sizing(long_sub_signal[s],long_sub_signal[period_list[period_list.index(s)-1]],\\\n",
    "                                                       gross[0],self.fundamental_df,self.new_signal,self.abs_return,\\\n",
    "                                                        risk_parity,liquidity,capital,self.revision_adjust,True)[0]\n",
    "                        except:\n",
    "                            long_sub_size_row[s]=sizing(long_sub_signal[s],long_sub_signal[s],\\\n",
    "                                                       gross[0],self.fundamental_df,self.new_signal,self.abs_return,\\\n",
    "                                                        risk_parity,liquidity,capital,self.revision_adjust,True)[0] \n",
    "\n",
    "                    long_sub_size_df[s]=(1+long_sub_signal[s]).cumprod()*long_sub_size_row[s]\n",
    "                    long_sub_pnl[s]=(long_sub_size_df[s].shift(1))*long_sub_signal[s] \n",
    "                    # need to shift by 1 as the size is end of the day\n",
    "        \n",
    "            long_daily_pnl=pd.concat(list(long_sub_pnl.values()),axis=0)\n",
    "            long_acct_curve=long_daily_pnl.cumsum().ffill().sum(axis=1)\n",
    "            long_size_df=pd.concat(list(long_sub_size_df.values()),axis=0)\n",
    "            long_ind_return=long_daily_pnl.cumsum().ffill().iloc[-1].dropna()\n",
    "            long_cache=(long_daily_pnl,long_acct_curve,long_size_df,long_ind_return)\n",
    "            \n",
    "            self.long_cache=long_cache\n",
    "\n",
    "            \n",
    "        if short_df is None:\n",
    "            short_cache=(None,None,None,None)\n",
    "        else:\n",
    "            if stop is None:\n",
    "                pass\n",
    "            else:\n",
    "                short_df=-signal_filter_stop(-short_df,stop[1],self.abs_return,30,stop[2],self.index_df)   \n",
    "                self.short_df=short_df\n",
    "\n",
    "            short_sub_signal={}\n",
    "            short_sub_size_row={}\n",
    "            short_sub_size_df={}\n",
    "            short_sub_pnl={}\n",
    "        \n",
    "            for s in period_list:\n",
    "                short_sub_signal[s]=short_df[period==s].dropna(how='all',axis=1)\n",
    "\n",
    "                if short_sub_signal[s].shape[1]==0:\n",
    "                    short_sub_size_df[s]=short_sub_signal[s]\n",
    "                    short_sub_pnl[s]=short_sub_signal[s]\n",
    "                    \n",
    "                else:\n",
    "                    \n",
    "                    if period_list.index(s)<4:##use last quarter's sizing as reference\n",
    "                        short_sub_size_row[s]=-sizing(short_sub_signal[s],short_sub_signal[s],gross[1],self.fundamental_df,\\\n",
    "                                                       self.new_signal,self.abs_return,risk_parity,liquidity,capital,\\\n",
    "                                                      self.revision_adjust,False)[0]\n",
    "                    else:\n",
    "                        try:\n",
    "                            short_sub_size_row[s]=-sizing(short_sub_signal[s],short_sub_signal\\\n",
    "                                                          [period_list[period_list.index(s)-1]],\\\n",
    "                                                           gross[1],self.fundamental_df,self.new_signal,self.abs_return,\\\n",
    "                                                          risk_parity,liquidity,\\\n",
    "                                                          capital,self.revision_adjust,False)[0]\n",
    "                        except:\n",
    "                            short_sub_size_row[s]=-sizing(short_sub_signal[s],short_sub_signal[s],\\\n",
    "                                                           gross[1],self.fundamental_df,self.new_signal,self.abs_return,\\\n",
    "                                                          risk_parity,liquidity,\\\n",
    "                                                          capital,self.revision_adjust,False)[0]\n",
    "\n",
    "                    short_sub_size_df[s]=(1+short_sub_signal[s]).cumprod()*short_sub_size_row[s]\n",
    "                    short_sub_pnl[s]=(short_sub_size_df[s].shift(1))*short_sub_signal[s] \n",
    "                # need to shift by 1 as the size is end of the day\n",
    "        \n",
    "            short_daily_pnl=pd.concat(list(short_sub_pnl.values()),axis=0)\n",
    "            short_acct_curve=short_daily_pnl.cumsum().ffill().sum(axis=1)\n",
    "            short_size_df=pd.concat(list(short_sub_size_df.values()),axis=0)\n",
    "            short_ind_return=short_daily_pnl.cumsum().ffill().iloc[-1].dropna()\n",
    "            \n",
    "            short_cache=(short_daily_pnl,short_acct_curve,short_size_df,short_ind_return)\n",
    "            self.short_cache=short_cache\n",
    "    \n",
    "        '''Put alpha positions together to form the alpha part'''\n",
    "        alpha_df=pd.concat([long_df,short_df],axis=1)\n",
    "        self.alpha_df=alpha_df\n",
    "        \n",
    "        alpha_daily_pnl=pd.concat([long_cache[0],short_cache[0]],axis=1)\n",
    "        alpha_acct_curve=alpha_daily_pnl.cumsum().ffill().sum(axis=1)\n",
    "        alpha_size_df=pd.concat([long_cache[2],short_cache[2]],axis=1)\n",
    "        alpha_ind_return=pd.concat([long_cache[3],short_cache[3]],axis=0)\n",
    "        \n",
    "        alpha_cache=(alpha_daily_pnl,alpha_acct_curve,alpha_size_df,alpha_ind_return)\n",
    "        \n",
    "        \n",
    "        if self.index_df is not None:\n",
    "            if self.index_df.shape[1]==1:\n",
    "                index_df=self.index_df.copy().loc[alpha_df.index] \n",
    "                index_size_df=(net_level-alpha_size_df.sum(axis=1)).to_frame(index_df.columns[0])\n",
    "                index_daily_pnl=index_size_df.shift(1)*index_df\n",
    "                index_acct_curve=index_daily_pnl.cumsum()\n",
    "                index_ind_return=index_acct_curve.iloc[-1]\n",
    "                index_cache=(index_daily_pnl,index_acct_curve,index_size_df,index_ind_return)\n",
    "            else:\n",
    "                index_df=self.index_df.copy().loc[alpha_df.index] \n",
    "                alpha_temp=alpha_cache[2].copy().T\n",
    "                alpha_temp[\"index\"]=alpha_temp.apply(lambda x:Asia_mapping.loc[x.name[0][-2:]].iloc[0],axis=1)\n",
    "                index_size_df=net_level-alpha_temp.groupby(\"index\").apply(sum).T.iloc[:-1]\n",
    "                index_daily_pnl=index_size_df.shift(1)*index_df\n",
    "                index_acct_curve=index_daily_pnl.cumsum()\n",
    "                index_ind_return=index_acct_curve.iloc[-1]\n",
    "                index_cache=(index_daily_pnl,index_acct_curve,index_size_df,index_ind_return)\n",
    "        else:\n",
    "            index_cache=(None,None,None,None)\n",
    "            \n",
    "        '''Finally put everything together'''    \n",
    "        portfolio_df=pd.concat([alpha_df,index_df],axis=1)\n",
    "            \n",
    "        portfolio_size_df=pd.concat([alpha_cache[2],index_cache[2]],axis=1).sort_index()\n",
    "  \n",
    "        portfolio_daily_pnl=pd.concat([alpha_cache[0],index_cache[0]],axis=1).sort_index()\n",
    "\n",
    "        portfolio_acct_curve=portfolio_daily_pnl.cumsum().ffill().sum(axis=1)\n",
    "        portfolio_ind_return=alpha_cache[3].copy()\n",
    "        \n",
    "        portfolio_gross=np.abs(portfolio_size_df).sum(axis=1).sort_index()\n",
    "        portfolio_turnover=(np.abs(alpha_size_df.fillna(0.0).diff(1)).sum().sum())/(portfolio_size_df.shape[0]/260)\n",
    "        \n",
    "        portfolio_cache=(portfolio_daily_pnl,portfolio_acct_curve,portfolio_size_df,portfolio_ind_return,portfolio_gross,\\\n",
    "                         portfolio_turnover,portfolio_df)\n",
    "        \n",
    "        self.portfolio_account=portfolio_cache #save for later use\n",
    "        \n",
    "        \n",
    "        return long_cache,short_cache,alpha_cache,portfolio_cache\n",
    "    \n",
    "    def plot_account(self,title,figsize=[10,4],portfolio=None):\n",
    "        '''\n",
    "        Plot the account curve\n",
    "        '''\n",
    "        if portfolio is None:\n",
    "            try:\n",
    "                portfolio_cache=self.portfolio_account\n",
    "\n",
    "            except AttributeError:\n",
    "                print(\"Execute the signal_account first!\")  \n",
    "                return None\n",
    "        else:\n",
    "            portfolio_cache=portfolio\n",
    "        \n",
    "        plot_signal(title,figsize,portfolio_cache)\n",
    "        \n",
    "    def review(self):\n",
    "        ''' \n",
    "        Export the data for review\n",
    "        '''\n",
    "        if self.index_df.shape[1]==1:\n",
    "            long_df_adj=self.long_df.copy().sub(self.index_df.loc[self.long_df.index].iloc[:,0],axis=0)\n",
    "            short_df_adj=(-self.short_df.copy()).add(self.index_df.loc[self.long_df.index].iloc[:,0],axis=0)\n",
    "        else:\n",
    "            pass\n",
    "        \n",
    "        long_review=((1+long_df_adj).cumprod()-1).ffill().iloc[-1].to_frame()\n",
    "        long_review[\"size\"]=self.long_cache[2].apply(lambda x:x.dropna().iloc[0],axis=0)*(self.capital)*1000\n",
    "        short_review=((1+short_df_adj).cumprod()-1).ffill().iloc[-1].to_frame()\n",
    "        short_review[\"size\"]=self.short_cache[2].apply(lambda x:x.dropna().iloc[0],axis=0)*(self.capital)*1000\n",
    "        return long_review,short_review\n",
    "        \n",
    "        \n",
    "        \n",
    "        "
   ]
  },
  {
   "cell_type": "code",
   "execution_count": null,
   "metadata": {},
   "outputs": [],
   "source": []
  },
  {
   "cell_type": "code",
   "execution_count": null,
   "metadata": {},
   "outputs": [],
   "source": []
  },
  {
   "cell_type": "code",
   "execution_count": null,
   "metadata": {},
   "outputs": [],
   "source": []
  },
  {
   "cell_type": "code",
   "execution_count": 85,
   "metadata": {},
   "outputs": [],
   "source": [
    "def combine_signal(portfolio_list,capital_list):\n",
    "    \n",
    "    \n",
    "    daily_pnl_list=[]\n",
    "    signal_df_list=[]\n",
    "    portfolio_size_list=[]\n",
    "    for i in range(len(portfolio_list)):\n",
    "\n",
    "        daily_pnl_list.append(portfolio_list[i][0]*capital_list[i]/np.sum(capital_list))\n",
    "        signal_df_list.append(portfolio_list[i][-1]*capital_list[i]/np.sum(capital_list))\n",
    "        portfolio_size_list.append(portfolio_list[i][2]*capital_list[i]/np.sum(capital_list))\n",
    "    \n",
    "    daily_pnl=pd.concat(daily_pnl_list,axis=1)\n",
    "    signal_df=pd.concat(signal_df_list,axis=1)\n",
    "    size_df=pd.concat(portfolio_size_list,axis=1)\n",
    "    \n",
    "    account_curve=daily_pnl.cumsum().ffill().sum(axis=1)\n",
    "    ind_return=daily_pnl.cumsum().ffill().iloc[-1]\n",
    "\n",
    "    gross=np.abs(size_df).sum(axis=1)\n",
    "    turnover=(np.abs(size_df.fillna(0.0).diff(1)).sum().sum())/(size_df.shape[0]/260)\n",
    "    \n",
    "    portfolio_cache=(daily_pnl,account_curve,size_df,ind_return,gross,turnover,signal_df)\n",
    "    return portfolio_cache\n"
   ]
  },
  {
   "cell_type": "code",
   "execution_count": 86,
   "metadata": {},
   "outputs": [],
   "source": [
    "def sharpe_by_year(account_curve,year_list):\n",
    "    result_dict={}\n",
    "    for i in year_list:\n",
    "        sub_curve=account_curve.iloc[(account_curve.index>=pd.Timestamp(i,1,1))&(account_curve.index<=pd.Timestamp(i,12,31))]\n",
    "        result_dict[i]=trading_analytics_simp(sub_curve)[0]\n",
    "    return result_dict"
   ]
  },
  {
   "cell_type": "code",
   "execution_count": 87,
   "metadata": {},
   "outputs": [],
   "source": [
    "def dd_by_year(account_curve,year_list):\n",
    "    result_dict={}\n",
    "    for i in year_list:\n",
    "        sub_curve=account_curve.iloc[(account_curve.index>=pd.Timestamp(i,1,1))&(account_curve.index<=pd.Timestamp(i,12,31))]\n",
    "        result_dict[i]=trading_analytics_simp(sub_curve)[1]\n",
    "    return result_dict"
   ]
  },
  {
   "cell_type": "markdown",
   "metadata": {},
   "source": [
    "# 5 - Result"
   ]
  },
  {
   "cell_type": "markdown",
   "metadata": {},
   "source": [
    "## 5.1 - Europe"
   ]
  },
  {
   "cell_type": "code",
   "execution_count": 230,
   "metadata": {},
   "outputs": [],
   "source": [
    "Europe_orig=signal(fundamental_df=Europe2,\n",
    "                    price_df=Europe_price,\n",
    "                    EAR_period=1,\n",
    "                    entry=2,\n",
    "                    long_criteria=((1,1000),(0.03,1000),None),\n",
    "                    short_criteria=((-1000,-2),(-1000,-0.03),(5000,10000000)),\n",
    "                    holding=30,\n",
    "                    start=pd.Timestamp(2019,4,1),\n",
    "                    end=pd.Timestamp(2019,6,30),\n",
    "                    old_position=True,\n",
    "                    new_signal=False,\n",
    "                    revision_adjust=(False,0.02,0.1,2),\n",
    "                    early_exit=False)"
   ]
  },
  {
   "cell_type": "code",
   "execution_count": 231,
   "metadata": {},
   "outputs": [],
   "source": [
    "_long_Europe,_short_Europe,_alpha_Europe,_portfolio_Europe=Europe_orig.signal_account(stop=[8,8,\"abs\"],\n",
    "                                                           gross=(30,15),\n",
    "                                                           index_df=abs_return_index_Europe.loc[\"SX5E Index\"].to_frame('Europe'),\n",
    "                                                           net_level=0,\n",
    "                                                           risk_parity=True,\n",
    "                                                           liquidity=0.2,\n",
    "                                                           capital=60)"
   ]
  },
  {
   "cell_type": "code",
   "execution_count": 242,
   "metadata": {},
   "outputs": [
    {
     "data": {
      "image/png": "[encoded data removed]",
      "text/plain": [
       "<matplotlib.figure.Figure at 0x12ff0278>"
      ]
     },
     "metadata": {},
     "output_type": "display_data"
    }
   ],
   "source": [
    "plot_signal(\"Europe orig signal\",[10,4],Europe_orig.portfolio_account)"
   ]
  },
  {
   "cell_type": "code",
   "execution_count": null,
   "metadata": {},
   "outputs": [],
   "source": []
  },
  {
   "cell_type": "code",
   "execution_count": 248,
   "metadata": {},
   "outputs": [],
   "source": [
    "Europe_new=signal(fundamental_df=Europe2,\n",
    "                   price_df=Europe_VWAP,\n",
    "                   EAR_period=1,\n",
    "                   entry=3,\n",
    "                   long_criteria=((2,1000),(0.02,1000),None),\n",
    "                   short_criteria=((-1000,-2),(-1000,-0.02),(5000,10000000)),\n",
    "                   holding=30,\n",
    "                   start=pd.Timestamp(2019,4,1),\n",
    "                   end=pd.Timestamp(2019,6,30),\n",
    "                   old_position=False,\n",
    "                   new_signal=True,\n",
    "                   revision_adjust=(True,(0.02,0.05),(-0.05,-0.02),2),\n",
    "                  early_exit=False)"
   ]
  },
  {
   "cell_type": "code",
   "execution_count": 249,
   "metadata": {},
   "outputs": [
    {
     "name": "stderr",
     "output_type": "stream",
     "text": [
      "C:\\Users\\Eric.Li\\AppData\\Local\\Continuum\\anaconda3\\lib\\site-packages\\ipykernel_launcher.py:19: RuntimeWarning: invalid value encountered in double_scalars\n"
     ]
    }
   ],
   "source": [
    "_long_Europe,_short_Europe,_alpha_Europe,_portfolio_Europe=Europe_new.signal_account(stop=[8,8,\"abs\"],\n",
    "                                                           gross=(30,15),\n",
    "                                                           index_df=abs_return_index_Europe.loc[\"SX5E Index\"].to_frame('Europe'),\n",
    "                                                           net_level=0,\n",
    "                                                           risk_parity=True,\n",
    "                                                           liquidity=0.2,\n",
    "                                                           capital=60)"
   ]
  },
  {
   "cell_type": "code",
   "execution_count": 250,
   "metadata": {},
   "outputs": [
    {
     "data": {
      "image/png": "[encoded data removed]",
      "text/plain": [
       "<matplotlib.figure.Figure at 0x1608b470>"
      ]
     },
     "metadata": {},
     "output_type": "display_data"
    }
   ],
   "source": [
    "plot_signal(\"Europe new\",[10,4],Europe_new.portfolio_account)"
   ]
  },
  {
   "cell_type": "markdown",
   "metadata": {},
   "source": [
    "## 5.2 - US"
   ]
  },
  {
   "cell_type": "code",
   "execution_count": 268,
   "metadata": {},
   "outputs": [],
   "source": [
    "US_orig=signal(fundamental_df=US1,\n",
    "                    price_df=US_price,\n",
    "                    EAR_period=1,\n",
    "                    entry=2,\n",
    "                    long_criteria=((3,1000),(0.05,1000),None),\n",
    "                    short_criteria=((-1000,-2),(-1000,-0.03),(5000,10000000)),\n",
    "                    holding=30,\n",
    "                    start=pd.Timestamp(2019,4,1),\n",
    "                    end=pd.Timestamp(2019,6,30),\n",
    "                    old_position=True,\n",
    "                    new_signal=False,\n",
    "                    revision_adjust=(False,0.02,0.1,2),\n",
    "                    early_exit=False)"
   ]
  },
  {
   "cell_type": "code",
   "execution_count": 269,
   "metadata": {},
   "outputs": [],
   "source": [
    "_long_US,_short_US,_alpha_US,_portfolio_US=US_orig.signal_account(stop=[8,8,\"abs\"],\n",
    "                                                           gross=(30,15),\n",
    "                                                           index_df=(0.5*abs_return_index_US.loc[\"SPX Index\"]+\\\n",
    "                                                          0.5*abs_return_index_US.loc[\"RTY Index\"]).to_frame(\"US_index\"),\n",
    "                                                           net_level=0,\n",
    "                                                           risk_parity=True,\n",
    "                                                           liquidity=0.2,\n",
    "                                                           capital=60)"
   ]
  },
  {
   "cell_type": "code",
   "execution_count": 270,
   "metadata": {},
   "outputs": [
    {
     "data": {
      "image/png": "[encoded data removed]",
      "text/plain": [
       "<matplotlib.figure.Figure at 0x15127320>"
      ]
     },
     "metadata": {},
     "output_type": "display_data"
    }
   ],
   "source": [
    "plot_signal(\"US orig\",[10,4],US_orig.portfolio_account)"
   ]
  },
  {
   "cell_type": "code",
   "execution_count": null,
   "metadata": {},
   "outputs": [],
   "source": []
  },
  {
   "cell_type": "code",
   "execution_count": 271,
   "metadata": {},
   "outputs": [],
   "source": [
    "US_new=signal(fundamental_df=US1,\n",
    "                   price_df=US_VWAP,\n",
    "                   EAR_period=1,\n",
    "                   entry=2,\n",
    "                   long_criteria=((2,1000),(0.05,1000),None),\n",
    "                   short_criteria=((-1000,-2),(-1000,-0.03),(5000,10000000)),\n",
    "                   holding=30,\n",
    "                   start=pd.Timestamp(2019,4,1),\n",
    "                   end=pd.Timestamp(2019,6,30),\n",
    "                   old_position=False,\n",
    "                   new_signal=True,\n",
    "                   revision_adjust=(True,(0.05,0.2),(-0.03,-0.1),2),\n",
    "                  early_exit=False)"
   ]
  },
  {
   "cell_type": "code",
   "execution_count": 272,
   "metadata": {},
   "outputs": [
    {
     "name": "stderr",
     "output_type": "stream",
     "text": [
      "C:\\Users\\Eric.Li\\AppData\\Local\\Continuum\\anaconda3\\lib\\site-packages\\ipykernel_launcher.py:19: RuntimeWarning: invalid value encountered in double_scalars\n"
     ]
    }
   ],
   "source": [
    "_long_US,_short_US,_alpha_US,_portfolio_US=US_new.signal_account(stop=[8,8,\"abs\"],\n",
    "                                                           gross=(30,15),\n",
    "                                                           index_df=(0.5*abs_return_index_US.loc[\"SPX Index\"]+\\\n",
    "                                                          0.5*abs_return_index_US.loc[\"RTY Index\"]).to_frame(\"US_index\"),\n",
    "                                                           net_level=0,\n",
    "                                                           risk_parity=True,\n",
    "                                                           liquidity=0.2,\n",
    "                                                           capital=60)"
   ]
  },
  {
   "cell_type": "code",
   "execution_count": 273,
   "metadata": {},
   "outputs": [
    {
     "data": {
      "image/png": "[encoded data removed]",
      "text/plain": [
       "<matplotlib.figure.Figure at 0x12beea20>"
      ]
     },
     "metadata": {},
     "output_type": "display_data"
    }
   ],
   "source": [
    "plot_signal(\"US new\",[10,4],US_new.portfolio_account)"
   ]
  },
  {
   "cell_type": "code",
   "execution_count": null,
   "metadata": {},
   "outputs": [],
   "source": []
  },
  {
   "cell_type": "markdown",
   "metadata": {},
   "source": [
    "## 5.3 Asia"
   ]
  },
  {
   "cell_type": "code",
   "execution_count": 278,
   "metadata": {},
   "outputs": [],
   "source": [
    "Asia_orig=signal(fundamental_df=Asia2,\n",
    "                    price_df=Asia_price,\n",
    "                    EAR_period=1,\n",
    "                    entry=2,\n",
    "                    long_criteria=((1,1000),(0.02,1000),None),\n",
    "                    short_criteria=None,\n",
    "                    holding=20,\n",
    "                    start=pd.Timestamp(2019,4,1),\n",
    "                    end=pd.Timestamp(2019,6,30),\n",
    "                    old_position=True,\n",
    "                    new_signal=False,\n",
    "                    revision_adjust=(False,0.02,0.1,2),\n",
    "                    early_exit=False)"
   ]
  },
  {
   "cell_type": "code",
   "execution_count": 281,
   "metadata": {},
   "outputs": [],
   "source": [
    "_long_Europe,_short_Europe,_alpha_Europe,_portfolio_Europe=Asia_orig.signal_account(stop=[8,8,\"abs\"],\n",
    "                                                           gross=(30,0),\n",
    "                                                           index_df=abs_return_index_Asia.loc[[\"AS51 Index\",\"HSI Index\",\n",
    "                                                                                                \"TPX Index\",\"KOSPI Index\",\n",
    "                                                                                                \"MXSG Index\",\"TAMSCI Index\"]].T,\n",
    "                                                           net_level=0,\n",
    "                                                           risk_parity=True,\n",
    "                                                           liquidity=0.2,\n",
    "                                                           capital=50)"
   ]
  },
  {
   "cell_type": "code",
   "execution_count": 282,
   "metadata": {},
   "outputs": [
    {
     "data": {
      "image/png": "[encoded data removed]",
      "text/plain": [
       "<matplotlib.figure.Figure at 0x125b03c8>"
      ]
     },
     "metadata": {},
     "output_type": "display_data"
    }
   ],
   "source": [
    "Asia_orig.plot_account(\"Asia original\")"
   ]
  },
  {
   "cell_type": "code",
   "execution_count": null,
   "metadata": {},
   "outputs": [],
   "source": []
  },
  {
   "cell_type": "code",
   "execution_count": 283,
   "metadata": {},
   "outputs": [],
   "source": [
    "Asia_new=signal(fundamental_df=Asia2,\n",
    "                   price_df=Asia_VWAP,\n",
    "                   EAR_period=1,\n",
    "                   entry=3,\n",
    "                   long_criteria=((1,1000),(0.02,1000),None),\n",
    "                   short_criteria=None,\n",
    "                   holding=20,\n",
    "                   start=pd.Timestamp(2019,4,1),\n",
    "                   end=pd.Timestamp(2019,6,30),\n",
    "                   old_position=False,\n",
    "                   new_signal=True,\n",
    "                   revision_adjust=(True,(0.02,0.05),(-0.05,-0.02),2),\n",
    "                  early_exit=False)"
   ]
  },
  {
   "cell_type": "code",
   "execution_count": 284,
   "metadata": {},
   "outputs": [],
   "source": [
    "_long_Europe,_short_Europe,_alpha_Europe,_portfolio_Europe=Asia_new.signal_account(stop=[8,8,\"abs\"],\n",
    "                                                           gross=(30,0),\n",
    "                                                           index_df=abs_return_index_Asia.loc[[\"AS51 Index\",\"HSI Index\",\n",
    "                                                                                                \"TPX Index\",\"KOSPI Index\",\n",
    "                                                                                                \"MXSG Index\",\"TAMSCI Index\"]].T,\n",
    "                                                           net_level=0,\n",
    "                                                           risk_parity=True,\n",
    "                                                           liquidity=0.2,\n",
    "                                                           capital=50)"
   ]
  },
  {
   "cell_type": "code",
   "execution_count": 285,
   "metadata": {},
   "outputs": [
    {
     "data": {
      "image/png": "[encoded data removed]",
      "text/plain": [
       "<matplotlib.figure.Figure at 0x1374f978>"
      ]
     },
     "metadata": {},
     "output_type": "display_data"
    }
   ],
   "source": [
    "Asia_new.plot_account(\"Asia new\")"
   ]
  },
  {
   "cell_type": "code",
   "execution_count": null,
   "metadata": {},
   "outputs": [],
   "source": []
  },
  {
   "cell_type": "markdown",
   "metadata": {},
   "source": [
    "# 5 - Fitting choice"
   ]
  },
  {
   "cell_type": "code",
   "execution_count": 794,
   "metadata": {},
   "outputs": [],
   "source": [
    "def fitting_df(long,EAR_list,revision_list,fundamental_df,price_df,EAR_period,holding,start,end,stop,gross,index_df,\n",
    "               net_level,risk_parity,liquidity,capital,exclusive):\n",
    "    '''\n",
    "    Create a dataframe of sharpe and drawdown for different fitting variations\n",
    "    EAR/revision list includes the upper bound\n",
    "    '''\n",
    "    year_list=range(start.year,end.year+1)\n",
    "    EAR_list.sort()\n",
    "    revision_list.sort()\n",
    "    \n",
    "    criteria_list_short=list(itertools.product(*[EAR_list[1:],revision_list[1:]]))\n",
    "    criteria_list_long=list(itertools.product(*[EAR_list[:-1],revision_list[:-1]]))\n",
    "    \n",
    "    sharpe_dict={}\n",
    "    dd_dict={}\n",
    "    if exclusive:\n",
    "        if long:\n",
    "            for s in criteria_list_long:\n",
    "                signal_class=signal(fundamental_df=fundamental_df,\n",
    "                                   price_df=price_df,\n",
    "                                   EAR_period=EAR_period,\n",
    "                                   long_criteria=((s[0],EAR_list[EAR_list.index(s[0])+1]),\\\n",
    "                                                  (s[1],revision_list[revision_list.index(s[1])+1]),None,None),\n",
    "                                   short_criteria=None,\n",
    "                                   holding=holding,\n",
    "                                   start=start,\n",
    "                                   end=end)\n",
    "                \n",
    "                portfolio=signal_class.signal_account(stop=stop,\n",
    "                                                      gross=gross,\n",
    "                                                      index_df=index_df.copy(),\n",
    "                                                      net_level=net_level,\n",
    "                                                      risk_parity=risk_parity,\n",
    "                                                      liquidity=liquidity,\n",
    "                                                      capital=capital)\n",
    "\n",
    "                sharpe_dict[s]=sharpe_by_year(portfolio[-1][1],year_list)\n",
    "                dd_dict[s]=dd_by_year(portfolio[-1][1],year_list)\n",
    "                \n",
    "        else:\n",
    "            for s in criteria_list_short:\n",
    "                signal_class=signal(fundamental_df=fundamental_df,\n",
    "                                   price_df=price_df,\n",
    "                                   EAR_period=EAR_period,\n",
    "                                   long_criteria=None,\n",
    "                                   short_criteria=((EAR_list[EAR_list.index(s[0])-1],s[0]),\\\n",
    "                                                   (revision_list[revision_list.index(s[1])-1],s[1]),None,(5000,10000000)),\n",
    "                                   holding=holding,\n",
    "                                   start=start,\n",
    "                                   end=end)\n",
    "\n",
    "                portfolio=signal_class.signal_account(stop=stop,\n",
    "                                                      gross=gross,\n",
    "                                                      index_df=index_df.copy(),\n",
    "                                                      net_level=net_level,\n",
    "                                                      risk_parity=risk_parity,\n",
    "                                                      liquidity=liquidity,\n",
    "                                                      capital=capital)\n",
    "\n",
    "                sharpe_dict[s]=sharpe_by_year(portfolio[-1][1],year_list)\n",
    "                dd_dict[s]=dd_by_year(portfolio[-1][1],year_list)\n",
    "    \n",
    "    else:\n",
    "        if long:\n",
    "            for i in criteria_list_long:\n",
    "                signal_class=signal(fundamental_df=fundamental_df,\n",
    "                                   price_df=price_df,\n",
    "                                   EAR_period=EAR_period,\n",
    "                                   long_criteria=((i[0],10),(i[1],10),None,None),\n",
    "                                   short_criteria=None,\n",
    "                                   holding=holding,\n",
    "                                   start=start,\n",
    "                                   end=end)\n",
    "\n",
    "                portfolio=signal_class.signal_account(stop=stop,\n",
    "                                                      gross=gross,\n",
    "                                                      index_df=index_df.copy(),\n",
    "                                                      net_level=net_level,\n",
    "                                                      risk_parity=risk_parity,\n",
    "                                                      liquidity=liquidity,\n",
    "                                                      capital=capital)\n",
    "\n",
    "                sharpe_dict[i]=sharpe_by_year(portfolio[-1][1],year_list)\n",
    "                dd_dict[i]=dd_by_year(portfolio[-1][1],year_list)\n",
    "                \n",
    "        else:\n",
    "            for i in criteria_list_short:\n",
    "                signal_class=signal(fundamental_df=fundamental_df,\n",
    "                                   price_df=price_df,\n",
    "                                   EAR_period=EAR_period,\n",
    "                                   long_criteria=None,\n",
    "                                   short_criteria=((-10,i[0]),(-10,i[1]),None,(5000,10000000)),\n",
    "                                   holding=holding,\n",
    "                                   start=start,\n",
    "                                   end=end)\n",
    "                \n",
    "                portfolio=signal_class.signal_account(stop=stop,\n",
    "                                                      gross=gross,\n",
    "                                                      index_df=index_df.copy(),\n",
    "                                                      net_level=net_level,\n",
    "                                                      risk_parity=risk_parity,\n",
    "                                                      liquidity=liquidity,\n",
    "                                                      capital=capital)\n",
    "\n",
    "                sharpe_dict[i]=sharpe_by_year(portfolio[-1][1],year_list)\n",
    "                dd_dict[i]=dd_by_year(portfolio[-1][1],year_list)\n",
    "\n",
    "    sharpe_df=pd.DataFrame(sharpe_dict)\n",
    "    dd_df=pd.DataFrame(dd_dict)\n",
    "        \n",
    "    return sharpe_df,dd_df\n",
    "        "
   ]
  },
  {
   "cell_type": "code",
   "execution_count": 795,
   "metadata": {},
   "outputs": [
    {
     "ename": "NameError",
     "evalue": "name 'Europe' is not defined",
     "output_type": "error",
     "traceback": [
      "\u001b[1;31m---------------------------------------------------------------------------\u001b[0m",
      "\u001b[1;31mNameError\u001b[0m                                 Traceback (most recent call last)",
      "\u001b[1;32m<ipython-input-795-3a1dce7dc51e>\u001b[0m in \u001b[0;36m<module>\u001b[1;34m()\u001b[0m\n\u001b[1;32m----> 1\u001b[1;33m \u001b[0mEurope_long_sharpe\u001b[0m\u001b[1;33m,\u001b[0m\u001b[0mEurope_long_dd\u001b[0m\u001b[1;33m=\u001b[0m\u001b[0mfitting_df\u001b[0m\u001b[1;33m(\u001b[0m\u001b[1;32mTrue\u001b[0m\u001b[1;33m,\u001b[0m\u001b[1;33m[\u001b[0m\u001b[1;36m1\u001b[0m\u001b[1;33m,\u001b[0m\u001b[1;36m2\u001b[0m\u001b[1;33m,\u001b[0m\u001b[1;36m3\u001b[0m\u001b[1;33m,\u001b[0m\u001b[1;36m10\u001b[0m\u001b[1;33m]\u001b[0m\u001b[1;33m,\u001b[0m\u001b[1;33m[\u001b[0m\u001b[1;36m0.02\u001b[0m\u001b[1;33m,\u001b[0m\u001b[1;36m0.03\u001b[0m\u001b[1;33m,\u001b[0m\u001b[1;36m0.04\u001b[0m\u001b[1;33m,\u001b[0m\u001b[1;36m0.05\u001b[0m\u001b[1;33m,\u001b[0m\u001b[1;36m10\u001b[0m\u001b[1;33m]\u001b[0m\u001b[1;33m,\u001b[0m\u001b[0mEurope\u001b[0m\u001b[1;33m,\u001b[0m\u001b[0mEurope_price\u001b[0m\u001b[1;33m,\u001b[0m\u001b[1;36m2\u001b[0m\u001b[1;33m,\u001b[0m\u001b[1;36m30\u001b[0m\u001b[1;33m,\u001b[0m                                             \u001b[0mpd\u001b[0m\u001b[1;33m.\u001b[0m\u001b[0mTimestamp\u001b[0m\u001b[1;33m(\u001b[0m\u001b[1;36m2007\u001b[0m\u001b[1;33m,\u001b[0m\u001b[1;36m1\u001b[0m\u001b[1;33m,\u001b[0m\u001b[1;36m1\u001b[0m\u001b[1;33m)\u001b[0m\u001b[1;33m,\u001b[0m\u001b[0mpd\u001b[0m\u001b[1;33m.\u001b[0m\u001b[0mTimestamp\u001b[0m\u001b[1;33m(\u001b[0m\u001b[1;36m2018\u001b[0m\u001b[1;33m,\u001b[0m\u001b[1;36m12\u001b[0m\u001b[1;33m,\u001b[0m\u001b[1;36m31\u001b[0m\u001b[1;33m)\u001b[0m\u001b[1;33m,\u001b[0m\u001b[1;33m(\u001b[0m\u001b[1;36m8\u001b[0m\u001b[1;33m,\u001b[0m\u001b[1;32mNone\u001b[0m\u001b[1;33m)\u001b[0m\u001b[1;33m,\u001b[0m\u001b[1;33m(\u001b[0m\u001b[1;36m30\u001b[0m\u001b[1;33m,\u001b[0m\u001b[1;32mNone\u001b[0m\u001b[1;33m)\u001b[0m                                             \u001b[1;33m,\u001b[0m\u001b[0mabs_return_index_Europe\u001b[0m\u001b[1;33m.\u001b[0m\u001b[0mloc\u001b[0m\u001b[1;33m[\u001b[0m\u001b[1;34m\"SX5E Index\"\u001b[0m\u001b[1;33m]\u001b[0m\u001b[1;33m.\u001b[0m\u001b[0mto_frame\u001b[0m\u001b[1;33m(\u001b[0m\u001b[1;34m'Europe'\u001b[0m\u001b[1;33m)\u001b[0m\u001b[1;33m,\u001b[0m\u001b[1;36m0\u001b[0m\u001b[1;33m,\u001b[0m\u001b[1;32mTrue\u001b[0m\u001b[1;33m,\u001b[0m\u001b[1;36m0.2\u001b[0m\u001b[1;33m,\u001b[0m\u001b[1;36m50\u001b[0m\u001b[1;33m)\u001b[0m\u001b[1;33m\u001b[0m\u001b[0m\n\u001b[0m",
      "\u001b[1;31mNameError\u001b[0m: name 'Europe' is not defined"
     ]
    }
   ],
   "source": [
    "Europe_long_sharpe,Europe_long_dd=fitting_df(True,[1,2,3,10],[0.02,0.03,0.04,0.05,10],Europe,Europe_price,2,30,\\\n",
    "                                             pd.Timestamp(2007,1,1),pd.Timestamp(2018,12,31),(8,None),(30,None)\\\n",
    "                                             ,abs_return_index_Europe.loc[\"SX5E Index\"].to_frame('Europe'),0,True,0.2,50)"
   ]
  },
  {
   "cell_type": "code",
   "execution_count": 74,
   "metadata": {},
   "outputs": [],
   "source": [
    "Europe_short_sharpe,Europe_short_dd=fitting_df(False,[-1,-2,-3,-4],[-0.02,-0.03,-0.04,-0.05,-0.06],Europe,Europe_price,2,30,\\\n",
    "                                             pd.Timestamp(2007,1,1),pd.Timestamp(2018,12,31),(8,8),(30,30)\\\n",
    "                                             ,abs_return_index_Europe.loc[\"SX5E Index\"].to_frame('Europe'),0,True,0.2,50)"
   ]
  },
  {
   "cell_type": "code",
   "execution_count": 75,
   "metadata": {},
   "outputs": [],
   "source": [
    "Europe_short_sharpe.to_csv(\"Europe_short_sharpe.csv\")"
   ]
  },
  {
   "cell_type": "code",
   "execution_count": 76,
   "metadata": {},
   "outputs": [],
   "source": [
    "Europe_short_dd.to_csv(\"Europe_short_dd.csv\")"
   ]
  },
  {
   "cell_type": "code",
   "execution_count": 77,
   "metadata": {},
   "outputs": [],
   "source": [
    "US_long_sharpe,US_long_dd=fitting_df(True,[1,2,3,4],[0.02,0.03,0.04,0.05,0.06,0.07],\\\n",
    "                                     US,US_price,2,30,pd.Timestamp(2007,1,1),pd.Timestamp(2018,12,31),(8,None),(30,None)\\\n",
    "                                             ,(0.5*abs_return_index_US.loc[\"SPX Index\"]+0.5*abs_return_index_US.loc[\"RTY Index\"])\\\n",
    "                                     .to_frame('US'),0,True,0.2,50)"
   ]
  },
  {
   "cell_type": "code",
   "execution_count": 360,
   "metadata": {},
   "outputs": [],
   "source": [
    "adj_US_long_sharpe,adj_US_long_dd=fitting_df(True,[1,2,3,4],[0.02,0.03,0.04,0.05,0.06,0.07],\\\n",
    "                                     adj_US,US_price,2,30,pd.Timestamp(2007,1,1),pd.Timestamp(2018,12,31),(8,None),(30,None)\\\n",
    "                                             ,(0.5*abs_return_index_US.loc[\"SPX Index\"]+0.5*abs_return_index_US.loc[\"RTY Index\"])\\\n",
    "                                     .to_frame('US'),0,True,0.2,50,False)"
   ]
  },
  {
   "cell_type": "code",
   "execution_count": null,
   "metadata": {},
   "outputs": [],
   "source": []
  },
  {
   "cell_type": "code",
   "execution_count": null,
   "metadata": {},
   "outputs": [],
   "source": []
  },
  {
   "cell_type": "code",
   "execution_count": 35,
   "metadata": {},
   "outputs": [],
   "source": [
    "US_short_sharpe,US_short_dd=fitting_df(False,[-1,-2,-3,-4],[-0.02,-0.03,-0.04,-0.05,-0.06,-0.07],\\\n",
    "                                     US,US_price,2,30,pd.Timestamp(2007,1,1),pd.Timestamp(2018,12,31),(8,8),(30,30)\\\n",
    "                                             ,(0.5*abs_return_index_US.loc[\"SPX Index\"]+0.5*abs_return_index_US.loc[\"RTY Index\"])\\\n",
    "                                     .to_frame('US'),0,True,0.2,50)"
   ]
  },
  {
   "cell_type": "code",
   "execution_count": 365,
   "metadata": {},
   "outputs": [],
   "source": [
    "adj_US_short_sharpe,adj_US_short_dd=fitting_df(False,[-1,-2,-3],[-0.02,-0.03,-0.04,-0.05],\\\n",
    "                                     adj_US,US_price,2,30,pd.Timestamp(2007,1,1),pd.Timestamp(2018,12,31),(8,8),(30,30)\\\n",
    "                                             ,(0.5*abs_return_index_US.loc[\"SPX Index\"]+0.5*abs_return_index_US.loc[\"RTY Index\"])\\\n",
    "                                     .to_frame('US'),0,True,0.2,50,False)"
   ]
  },
  {
   "cell_type": "code",
   "execution_count": null,
   "metadata": {},
   "outputs": [],
   "source": []
  },
  {
   "cell_type": "code",
   "execution_count": 37,
   "metadata": {},
   "outputs": [],
   "source": [
    "US_short_sharpe.to_csv(\"US_short_sharpe.csv\")"
   ]
  },
  {
   "cell_type": "code",
   "execution_count": 38,
   "metadata": {},
   "outputs": [],
   "source": [
    "US_short_dd.to_csv(\"US_short_dd.csv\")"
   ]
  },
  {
   "cell_type": "code",
   "execution_count": 41,
   "metadata": {},
   "outputs": [],
   "source": [
    "Asia_long_sharpe,Asia_long_dd=fitting_df(True,[1,2,3,4],[0.02,0.03,0.04,0.05,0.06,0.07],\\\n",
    "                                     Asia,Asia_price,2,20,pd.Timestamp(2007,1,1),pd.Timestamp(2018,12,31),(8,None),(30,None)\\\n",
    "                                             ,abs_return_index_Asia.loc[[\"AS51 Index\",\"HSI Index\",\n",
    "                                                                                                \"TPX Index\",\"KOSPI Index\",\n",
    "                                                                                                \"MXSG Index\",\"TAMSCI Index\"]].T\\\n",
    "                                     ,0,True,0.2,50)"
   ]
  },
  {
   "cell_type": "code",
   "execution_count": 43,
   "metadata": {},
   "outputs": [],
   "source": [
    "Asia_long_sharpe.to_csv(\"Asian_long_sharpe.csv\")"
   ]
  },
  {
   "cell_type": "code",
   "execution_count": 45,
   "metadata": {},
   "outputs": [],
   "source": [
    "Asia_long_dd.to_csv(\"Asian_long_dd.csv\")"
   ]
  },
  {
   "cell_type": "code",
   "execution_count": null,
   "metadata": {},
   "outputs": [],
   "source": []
  },
  {
   "cell_type": "markdown",
   "metadata": {},
   "source": [
    "# 6 - Result"
   ]
  },
  {
   "cell_type": "markdown",
   "metadata": {},
   "source": [
    "# 7 - Drawdown analysis"
   ]
  },
  {
   "cell_type": "code",
   "execution_count": 69,
   "metadata": {},
   "outputs": [],
   "source": [
    "def drawdown_days(acct_curve,timestamp):\n",
    "    dd=acct_curve-acct_curve.cummax()\n",
    "    previous_high=acct_curve.loc[:timestamp].max()\n",
    "    high_timestamp=acct_curve[acct_curve==previous_high].index[0]\n",
    "    days=acct_curve.index.tolist().index(timestamp)-acct_curve.index.tolist().index(high_timestamp)\n",
    "    return (high_timestamp,days)"
   ]
  },
  {
   "cell_type": "code",
   "execution_count": 70,
   "metadata": {},
   "outputs": [],
   "source": [
    "def drawdown_df(portfolio_cache):\n",
    "    drawdown=portfolio_cache[-1].iloc[:,-1].to_frame()\n",
    "    drawdown.columns=[\"Index\"]\n",
    "    drawdown[\"Index vol\"]=drawdown[\"Index\"].rolling(30).std()\n",
    "    drawdown[\"Portfolio\"]=portfolio_cache[1].diff(1)\n",
    "    drawdown[\"Account\"]=portfolio_cache[1].copy()\n",
    "    drawdown[\"Drawdown\"]= drawdown[\"Account\"]- drawdown[\"Account\"].cummax()\n",
    "    drawdown[\"Drawdown days\"]= drawdown.apply(lambda x: drawdown_days(drawdown[\"Account\"],x.name)[1],axis=1)\n",
    "    drawdown[\"Drawdown start\"]= drawdown.apply(lambda x: drawdown_days(drawdown[\"Account\"],x.name)[0],axis=1)\n",
    "    drawdown[\"Gross\"]=np.abs(portfolio_cache[2]).sum(axis=1)\n",
    "    return drawdown\n",
    "    "
   ]
  },
  {
   "cell_type": "code",
   "execution_count": 71,
   "metadata": {},
   "outputs": [],
   "source": [
    "def portfolio_drawdown_df(portfolio_cache,stop,multiple):\n",
    "    portfolio_cache_list=list(portfolio_cache)\n",
    "    orig_size=portfolio_cache_list[2]\n",
    "    orig_account=portfolio_cache_list[1]\n",
    "    dd=orig_account-orig_account.cummax()\n",
    "    stop_evaluate=dd[dd.shift(1)<stop]\n",
    "    adj_size=orig_size.apply(lambda x: x*multiple if x.name in stop_evaluate.index else x,axis=1)\n",
    "    \n",
    "    new_portfolio_cache=portfolio_cache_list.copy()\n",
    "    new_portfolio_cache[2]=adj_size\n",
    "    new_portfolio_cache[0]=adj_size.shift(1)*new_portfolio_cache[-1]\n",
    "    new_portfolio_cache[1]=new_portfolio_cache[0].sum(axis=1).cumsum()\n",
    "    return tuple(new_portfolio_cache)\n",
    "    "
   ]
  },
  {
   "cell_type": "code",
   "execution_count": null,
   "metadata": {},
   "outputs": [],
   "source": []
  },
  {
   "cell_type": "markdown",
   "metadata": {},
   "source": [
    "# 8 - Sizing for the live trading"
   ]
  },
  {
   "cell_type": "code",
   "execution_count": 294,
   "metadata": {},
   "outputs": [],
   "source": [
    "US_live=signal(fundamental_df=US1,\n",
    "                    price_df=US_price,\n",
    "                    EAR_period=1,\n",
    "                    entry=2,\n",
    "                    long_criteria=((3,1000),(0.05,1000),None),\n",
    "                    short_criteria=((-1000,-2),(-1000,-0.03),(5000,10000000)),\n",
    "                    holding=30,\n",
    "                    start=pd.Timestamp(2019,4,1),\n",
    "                    end=pd.Timestamp(2019,6,30),\n",
    "                    old_position=True,\n",
    "                    new_signal=False,\n",
    "                    revision_adjust=(False,0.02,0.1,2),\n",
    "                    early_exit=False)"
   ]
  },
  {
   "cell_type": "code",
   "execution_count": 91,
   "metadata": {},
   "outputs": [],
   "source": [
    "US_new=signal(fundamental_df=US1,\n",
    "                   price_df=US_VWAP,\n",
    "                   EAR_period=1,\n",
    "                   entry=2,\n",
    "                   long_criteria=((2,1000),(0.05,1000),None),\n",
    "                   short_criteria=((-1000,-2),(-1000,-0.03),(5000,10000000)),\n",
    "                   holding=30,\n",
    "                   start=pd.Timestamp(2019,4,1),\n",
    "                   end=pd.Timestamp(2019,6,30),\n",
    "                   old_position=False,\n",
    "                   new_signal=True,\n",
    "                   revision_adjust=(True,(0.05,0.2),(-0.03,-0.1),2),\n",
    "                  early_exit=False)"
   ]
  },
  {
   "cell_type": "code",
   "execution_count": 92,
   "metadata": {},
   "outputs": [
    {
     "name": "stderr",
     "output_type": "stream",
     "text": [
      "C:\\Users\\Eric.Li\\AppData\\Local\\Continuum\\anaconda3t\\lib\\site-packages\\ipykernel_launcher.py:19: RuntimeWarning: invalid value encountered in double_scalars\n"
     ]
    }
   ],
   "source": [
    "_long_US_live,_short_US_live,_alpha_US_live,_portfolio_US_live=US_new.signal_account(stop=[8,8,\"abs\"],\n",
    "                                                           gross=(30,15),\n",
    "                                                           index_df=(0.5*abs_return_index_US.loc[\"SPX Index\"]+\\\n",
    "                                                          0.5*abs_return_index_US.loc[\"RTY Index\"]).to_frame(\"US_index\"),\n",
    "                                                           net_level=0,\n",
    "                                                           risk_parity=True,\n",
    "                                                           liquidity=0.2,\n",
    "                                                           capital=65)"
   ]
  },
  {
   "cell_type": "code",
   "execution_count": 93,
   "metadata": {},
   "outputs": [
    {
     "ename": "NameError",
     "evalue": "name 'US_live' is not defined",
     "output_type": "error",
     "traceback": [
      "\u001b[1;31m---------------------------------------------------------------------------\u001b[0m",
      "\u001b[1;31mNameError\u001b[0m                                 Traceback (most recent call last)",
      "\u001b[1;32m<ipython-input-93-3aaf913e8811>\u001b[0m in \u001b[0;36m<module>\u001b[1;34m\u001b[0m\n\u001b[1;32m----> 1\u001b[1;33m \u001b[0mUS_live\u001b[0m\u001b[1;33m.\u001b[0m\u001b[0mplot_account\u001b[0m\u001b[1;33m(\u001b[0m\u001b[1;34m\"US reference\"\u001b[0m\u001b[1;33m)\u001b[0m\u001b[1;33m\u001b[0m\u001b[1;33m\u001b[0m\u001b[0m\n\u001b[0m",
      "\u001b[1;31mNameError\u001b[0m: name 'US_live' is not defined"
     ]
    }
   ],
   "source": [
    "US_live.plot_account(\"US reference\")"
   ]
  },
  {
   "cell_type": "code",
   "execution_count": 94,
   "metadata": {},
   "outputs": [
    {
     "name": "stdout",
     "output_type": "stream",
     "text": [
      "US long size is 0.013463332385816143\n",
      "US long volatility is 0.017863530773105294\n",
      "US long number is 22.446153846153845\n",
      "US short size is -0.008867977388568312\n",
      "US short volatility is 0.01739460617503493\n",
      "US short number is 18.29230769230769\n"
     ]
    }
   ],
   "source": [
    "'''\n",
    "US reference sizing and volatility\n",
    "'''\n",
    "print(\"US long size is \"+str(_long_US_live[2].apply(lambda x:x.dropna().iloc[0],axis=0).mean()))\n",
    "print(\"US long volatility is \"+str(US1.loc[_long_US_live[-1].index][\"30d_vol\"].mean()))\n",
    "print(\"US long number is \"+str(_long_US_live[2].count(axis=1).mean()))\n",
    "print(\"US short size is \"+str(_short_US_live[2].apply(lambda x:x.dropna().iloc[0],axis=0).mean()))\n",
    "print(\"US short volatility is \"+str(US1.loc[_short_US_live[-1].index][\"30d_vol\"].mean()))\n",
    "print(\"US short number is \"+str(_short_US_live[2].count(axis=1).mean()))"
   ]
  },
  {
   "cell_type": "code",
   "execution_count": null,
   "metadata": {},
   "outputs": [],
   "source": []
  },
  {
   "cell_type": "code",
   "execution_count": 288,
   "metadata": {},
   "outputs": [],
   "source": [
    "Europe_live=signal(fundamental_df=Europe2,\n",
    "                    price_df=Europe_price,\n",
    "                    EAR_period=1,\n",
    "                    entry=2,\n",
    "                    long_criteria=((1,1000),(0.03,1000),None),\n",
    "                    short_criteria=((-1000,-2),(-1000,-0.03),(5000,10000000)),\n",
    "                    holding=30,\n",
    "                    start=pd.Timestamp(2019,4,1),\n",
    "                    end=pd.Timestamp(2019,6,30),\n",
    "                    old_position=True,\n",
    "                    new_signal=False,\n",
    "                    revision_adjust=(False,0.02,0.1,2),\n",
    "                    early_exit=False)"
   ]
  },
  {
   "cell_type": "code",
   "execution_count": 88,
   "metadata": {},
   "outputs": [],
   "source": [
    "Europe_new=signal(fundamental_df=Europe2,\n",
    "                   price_df=Europe_VWAP,\n",
    "                   EAR_period=1,\n",
    "                   entry=3,\n",
    "                   long_criteria=((2,1000),(0.02,1000),None),\n",
    "                   short_criteria=((-1000,-2),(-1000,-0.02),(5000,10000000)),\n",
    "                   holding=30,\n",
    "                   start=pd.Timestamp(2019,4,1),\n",
    "                   end=pd.Timestamp(2019,6,30),\n",
    "                   old_position=False,\n",
    "                   new_signal=True,\n",
    "                   revision_adjust=(True,(0.02,0.05),(-0.05,-0.02),2),\n",
    "                  early_exit=False)"
   ]
  },
  {
   "cell_type": "code",
   "execution_count": 89,
   "metadata": {},
   "outputs": [
    {
     "name": "stderr",
     "output_type": "stream",
     "text": [
      "C:\\Users\\Eric.Li\\AppData\\Local\\Continuum\\anaconda3t\\lib\\site-packages\\ipykernel_launcher.py:19: RuntimeWarning: invalid value encountered in double_scalars\n"
     ]
    }
   ],
   "source": [
    "_long_Europe_live,_short_Europe_live,_alpha_Europe,_portfolio_Europe_live=Europe_new.signal_account(stop=[8,8,\"abs\"],\n",
    "                                                           gross=(30,15),\n",
    "                                                           index_df=abs_return_index_Europe.loc[\"SX5E Index\"].to_frame('Europe'),\n",
    "                                                           net_level=0,\n",
    "                                                           risk_parity=True,\n",
    "                                                           liquidity=0.2,\n",
    "                                                           capital=65)"
   ]
  },
  {
   "cell_type": "code",
   "execution_count": 290,
   "metadata": {},
   "outputs": [
    {
     "data": {
      "image/png": "[encoded data removed]",
      "text/plain": [
       "<matplotlib.figure.Figure at 0x1510d908>"
      ]
     },
     "metadata": {},
     "output_type": "display_data"
    }
   ],
   "source": [
    "Europe_live.plot_account(\"Europe reference\")"
   ]
  },
  {
   "cell_type": "code",
   "execution_count": 90,
   "metadata": {},
   "outputs": [
    {
     "name": "stdout",
     "output_type": "stream",
     "text": [
      "Europe long size is 0.020147226251094053\n",
      "Europe long volatility is 0.013807024107408784\n",
      "Europe long number is 14.553846153846154\n",
      "Europe short size is -0.019647905484588377\n",
      "Europe short volatility is 0.013528620030366027\n",
      "Europe short number is 8.153846153846153\n"
     ]
    }
   ],
   "source": [
    "'''\n",
    "Europe reference sizing and volatility\n",
    "'''\n",
    "print(\"Europe long size is \"+str(_long_Europe_live[2].apply(lambda x:x.dropna().iloc[0],axis=0).mean()))\n",
    "print(\"Europe long volatility is \"+str(Europe2.loc[_long_Europe_live[-1].index][\"30d_vol\"].mean()))\n",
    "print(\"Europe long number is \"+str(_long_Europe_live[2].count(axis=1).mean()))\n",
    "print(\"Europe short size is \"+str(_short_Europe_live[2].apply(lambda x:x.dropna().iloc[0],axis=0).mean()))\n",
    "print(\"Europe short volatility is \"+str(Europe2.loc[_short_Europe_live[-1].index][\"30d_vol\"].mean()))\n",
    "print(\"Europe short number is \"+str(_short_Europe_live[2].count(axis=1).mean()))"
   ]
  },
  {
   "cell_type": "code",
   "execution_count": null,
   "metadata": {},
   "outputs": [],
   "source": []
  },
  {
   "cell_type": "code",
   "execution_count": 299,
   "metadata": {},
   "outputs": [],
   "source": [
    "Asia_live=signal(fundamental_df=Asia2,\n",
    "                    price_df=Asia_price,\n",
    "                    EAR_period=1,\n",
    "                    entry=2,\n",
    "                    long_criteria=((1,1000),(0.02,1000),None),\n",
    "                    short_criteria=None,\n",
    "                    holding=20,\n",
    "                    start=pd.Timestamp(2019,4,1),\n",
    "                    end=pd.Timestamp(2019,6,30),\n",
    "                    old_position=True,\n",
    "                    new_signal=False,\n",
    "                    revision_adjust=(False,0.02,0.1,2),\n",
    "                    early_exit=False)"
   ]
  },
  {
   "cell_type": "code",
   "execution_count": 95,
   "metadata": {},
   "outputs": [],
   "source": [
    "Asia_new=signal(fundamental_df=Asia2,\n",
    "                   price_df=Asia_VWAP,\n",
    "                   EAR_period=1,\n",
    "                   entry=3,\n",
    "                   long_criteria=((1,1000),(0.02,1000),None),\n",
    "                   short_criteria=None,\n",
    "                   holding=20,\n",
    "                   start=pd.Timestamp(2019,4,1),\n",
    "                   end=pd.Timestamp(2019,6,30),\n",
    "                   old_position=False,\n",
    "                   new_signal=True,\n",
    "                   revision_adjust=(True,(0.02,0.05),(-0.05,-0.02),2),\n",
    "                  early_exit=False)"
   ]
  },
  {
   "cell_type": "code",
   "execution_count": 96,
   "metadata": {},
   "outputs": [],
   "source": [
    "_long_Asia_live,_short_Asia_live,_alpha_Asia_live,_portfolio_Asia_live=Asia_new.signal_account(stop=[8,8,\"abs\"],\n",
    "                                                           gross=(30,0),\n",
    "                                                           index_df=abs_return_index_Asia.loc[[\"AS51 Index\",\"HSI Index\",\n",
    "                                                                                                \"TPX Index\",\"KOSPI Index\",\n",
    "                                                                                                \"MXSG Index\",\"TAMSCI Index\"]].T,\n",
    "                                                           net_level=0,\n",
    "                                                           risk_parity=True,\n",
    "                                                           liquidity=0.2,\n",
    "                                                           capital=50)"
   ]
  },
  {
   "cell_type": "code",
   "execution_count": 97,
   "metadata": {},
   "outputs": [
    {
     "name": "stderr",
     "output_type": "stream",
     "text": [
      "C:\\Users\\Eric.Li\\AppData\\Local\\Continuum\\anaconda3t\\lib\\site-packages\\pandas\\plotting\\_converter.py:129: FutureWarning: Using an implicitly registered datetime converter for a matplotlib plotting method. The converter was registered by pandas on import. Future versions of pandas will require you to explicitly register matplotlib converters.\n",
      "\n",
      "To register the converters:\n",
      "\t>>> from pandas.plotting import register_matplotlib_converters\n",
      "\t>>> register_matplotlib_converters()\n",
      "  warnings.warn(msg, FutureWarning)\n"
     ]
    },
    {
     "data": {
      "image/png": "[encoded data removed]",
      "text/plain": [
       "<Figure size 720x288 with 2 Axes>"
      ]
     },
     "metadata": {
      "needs_background": "light"
     },
     "output_type": "display_data"
    }
   ],
   "source": [
    "Asia_new.plot_account(\"Asia reference\")"
   ]
  },
  {
   "cell_type": "code",
   "execution_count": 98,
   "metadata": {},
   "outputs": [
    {
     "name": "stdout",
     "output_type": "stream",
     "text": [
      "Asia long size is 0.029999185162167534\n",
      "Asia long volatility is 0.016391429916418808\n",
      "Asia long number is 9.123076923076923\n"
     ]
    }
   ],
   "source": [
    "'''\n",
    "Europe reference sizing and volatility\n",
    "'''\n",
    "print(\"Asia long size is \"+str(_long_Asia_live[2].apply(lambda x:x.dropna().iloc[0],axis=0).mean()))\n",
    "print(\"Asia long volatility is \"+str(Asia2.loc[_long_Asia_live[-1].index][\"30d_vol\"].mean()))\n",
    "print(\"Asia long number is \"+str(_long_Asia_live[2].count(axis=1).mean()))\n",
    "\n",
    "\n"
   ]
  },
  {
   "cell_type": "code",
   "execution_count": null,
   "metadata": {},
   "outputs": [],
   "source": []
  },
  {
   "cell_type": "markdown",
   "metadata": {},
   "source": [
    "# 9. Holding period analysis"
   ]
  },
  {
   "cell_type": "code",
   "execution_count": 355,
   "metadata": {},
   "outputs": [
    {
     "name": "stderr",
     "output_type": "stream",
     "text": [
      "C:\\Users\\Eric.Li\\AppData\\Local\\Continuum\\anaconda3\\lib\\site-packages\\ipykernel_launcher.py:5: SettingWithCopyWarning: \n",
      "A value is trying to be set on a copy of a slice from a DataFrame.\n",
      "Try using .loc[row_indexer,col_indexer] = value instead\n",
      "\n",
      "See the caveats in the documentation: http://pandas.pydata.org/pandas-docs/stable/indexing.html#indexing-view-versus-copy\n",
      "  \"\"\"\n"
     ]
    }
   ],
   "source": [
    "''' \n",
    "US signal in the form of fundamental_df\n",
    "'''\n",
    "US_long=US1[[\"Date\",\"Supersector\",\"Revision_real\"]]\n",
    "US_long[\"EAR\"]=US_long.apply(lambda x:EAR_calc(x.name[0],x.name[1],abs_return_US,2,30),axis=1)\n",
    "US_long=US_sector[(US_sector[\"Revision_real\"]>0.05)&(US_sector[\"EAR\"]>2)]"
   ]
  },
  {
   "cell_type": "code",
   "execution_count": 356,
   "metadata": {},
   "outputs": [],
   "source": [
    "def signal_day_transform(signal_df,return_df,EAR_period):\n",
    "    signal_day=pd.DataFrame()\n",
    "    for i in signal_df.index:\n",
    "        if type(i[2])==str:\n",
    "            column_day=return_df.loc[i[0]].loc[i[1]:i[2]].iloc[EAR_period+1:EAR_period+61]\n",
    "        else:\n",
    "            column_day=return_df.loc[i[0]].loc[i[1]:].iloc[EAR_period+1:EAR_period+61]\n",
    "        column_day.index=list(range(1,column_day.shape[0]+1))\n",
    "        signal_day=pd.concat([signal_day,column_day],axis=1)\n",
    "        \n",
    "    signal_day.columns=signal_df.index\n",
    "    return signal_day"
   ]
  },
  {
   "cell_type": "code",
   "execution_count": 357,
   "metadata": {},
   "outputs": [],
   "source": [
    "US_long_day=signal_day_transform(US_long,rel_return_US,1)"
   ]
  },
  {
   "cell_type": "code",
   "execution_count": 358,
   "metadata": {},
   "outputs": [],
   "source": [
    "US_long_day_cum=(1+US_long_day).cumprod()-1"
   ]
  },
  {
   "cell_type": "code",
   "execution_count": 522,
   "metadata": {},
   "outputs": [],
   "source": [
    "def plot_day_signal_by_year(signal_day,signal_df,sector):\n",
    "    if sector==\"all\":\n",
    "        pass\n",
    "    else:\n",
    "        sector_row=signal_df[\"Supersector\"]\n",
    "        signal_day=signal_day.loc[:,sector_row==sector]\n",
    "    \n",
    "    signal_day_cum=(1+signal_day).cumprod()-1\n",
    "    \n",
    "    year_row=signal_day_cum.apply(lambda x:int(x.name[1][-4:]),axis=0)\n",
    "    year_list=sorted(list(set(year_row)))\n",
    "    \n",
    "    record_dict={}\n",
    "    \n",
    "    counter=0\n",
    "    fig,ax=plt.subplots(round(len(year_list)/2)+1,2,figsize=(15,25))\n",
    "    for i in year_list:\n",
    "        ax[int(counter/2),counter%2].plot(signal_day_cum.loc[:,year_row==i].mean(axis=1))\n",
    "        max_point=int(signal_day_cum.loc[:,year_row==i].mean(axis=1).loc[signal_day_cum.loc[:,year_row==i]\\\n",
    "                                                               .mean(axis=1)==signal_day_cum.\\\n",
    "                                                               loc[:,year_row==i].mean(axis=1).max()].index.values)\n",
    "        ax[int(counter/2),counter%2].set_title(str(i)+'; '+str(signal_day_cum.loc[:,year_row==i].shape[1])+' signals; '+\\\n",
    "                                               'day'+str(max_point))\n",
    "        counter+=1\n",
    "        record_dict[i]=max_point\n",
    "        \n",
    "    plt.suptitle(sector,y=0.9,fontsize=20)\n",
    "    plt.show()  \n",
    "    return record_dict\n",
    "    \n",
    "    "
   ]
  },
  {
   "cell_type": "code",
   "execution_count": 518,
   "metadata": {},
   "outputs": [],
   "source": [
    "def plot_day_signal_by_sector(signal_day,signal_df):\n",
    "\n",
    "    sector_row=signal_df[\"Supersector\"]\n",
    "    \n",
    "    signal_day_cum=(1+signal_day).cumprod()-1\n",
    "    \n",
    "    sector_list=sector_row.unique()\n",
    "    \n",
    "    counter=0\n",
    "    \n",
    "    record_dict={}\n",
    "    fig,ax=plt.subplots(round(len(sector_list)/2)+1,2,figsize=(15,35))\n",
    "    \n",
    "    for i in sector_list:\n",
    "        if type(i)==str:\n",
    "            ax[int(counter/2),counter%2].plot(signal_day_cum.loc[:,sector_row==i].mean(axis=1))\n",
    "            max_point=int(signal_day_cum.loc[:,sector_row==i].mean(axis=1).loc[signal_day_cum.loc[:,sector_row==i]\\\n",
    "                                                                   .mean(axis=1)==signal_day_cum.\\\n",
    "                                                                   loc[:,sector_row==i].mean(axis=1).max()].index.values)        \n",
    "\n",
    "            ax[int(counter/2),counter%2].set_title(str(i)+'; '+str(signal_day_cum.loc[:,sector_row==i].shape[1])+' signals; '+\\\n",
    "                                                  'day'+str(max_point))\n",
    "            counter+=1\n",
    "            record_dict[i]=max_point\n",
    "        else:\n",
    "            pass\n",
    "\n",
    "    plt.suptitle('All',y=0.9,fontsize=20)\n",
    "    plt.show()    \n",
    "    return record_dict\n",
    "    \n",
    "    "
   ]
  }
 ],
 "metadata": {
  "kernelspec": {
   "display_name": "Python 3",
   "language": "python",
   "name": "python3"
  },
  "language_info": {
   "codemirror_mode": {
    "name": "ipython",
    "version": 3
   },
   "file_extension": ".py",
   "mimetype": "text/x-python",
   "name": "python",
   "nbconvert_exporter": "python",
   "pygments_lexer": "ipython3",
   "version": "3.7.3"
  }
 },
 "nbformat": 4,
 "nbformat_minor": 2
}
