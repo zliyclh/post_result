{
 "cells": [
  {
   "cell_type": "markdown",
   "metadata": {},
   "source": [
    "# 1. Package import"
   ]
  },
  {
   "cell_type": "code",
   "execution_count": 1,
   "metadata": {},
   "outputs": [],
   "source": [
    "import pandas as pd\n",
    "import numpy as np\n",
    "from datetime import datetime\n",
    "import matplotlib.pyplot as plt\n",
    "from scipy import stats\n",
    "from textwrap import wrap\n",
    "import seaborn as sns\n",
    "from sklearn import linear_model\n",
    "from sklearn.model_selection import train_test_split\n",
    "from sklearn.metrics import r2_score\n",
    "import pyodbc \n",
    "import itertools\n",
    "\n",
    "%matplotlib inline"
   ]
  },
  {
   "cell_type": "markdown",
   "metadata": {},
   "source": [
    "# 2. Data Retrieval"
   ]
  },
  {
   "cell_type": "code",
   "execution_count": 2,
   "metadata": {},
   "outputs": [],
   "source": [
    "'''Connect to post result SQL server'''\n",
    "cnxn = pyodbc.connect('DRIVER={SQL Server};SERVER=dsa-ln-WS015\\SQLEXPRESS;DATABASE=Post_result;Trusted_Connection=yes')   \n",
    "cursor = cnxn.cursor()"
   ]
  },
  {
   "cell_type": "code",
   "execution_count": null,
   "metadata": {},
   "outputs": [],
   "source": [
    "def EAR_calc(ticker,date,return_df,EAR_period,vol_lookback):\n",
    "    '''\n",
    "    Calculate EAR from ticker and reference date\n",
    "    '''\n",
    "    if type(date)==pd._libs.tslib.NaTType:\n",
    "        return None\n",
    "    elif type(date)==pd._libs.tslib.Timestamp:\n",
    "        date=date.strftime(\"%d/%b/%Y\")\n",
    "    elif type(date)==str:\n",
    "        date=date\n",
    "    return_series=return_df.loc[ticker].dropna()\n",
    "    date_series=return_series.index.tolist()\n",
    "    if date in date_series:\n",
    "        day0=date_series.index(date)\n",
    "        post_series=return_series.iloc[day0:]\n",
    "        pre_series=return_series.iloc[:day0]\n",
    "        vol= return_series.iloc[day0-min(len(pre_series),vol_lookback+1):day0].std()\n",
    "        ret=(return_series.iloc[day0:day0+EAR_period]+1).prod()-1\n",
    "        nmove=ret/vol\n",
    "        return nmove\n",
    "    else:\n",
    "        return None"
   ]
  },
  {
   "cell_type": "code",
   "execution_count": 3,
   "metadata": {},
   "outputs": [],
   "source": [
    "def SQL_price_date_transform(SQL_date,index=False):\n",
    "    '''\n",
    "    Transform the SQL price style string into dateframe string style\n",
    "    The SQL price follows US style which is MM DD YYYY\n",
    "    '''\n",
    "    if index==False:\n",
    "        timestamp=pd.Timestamp(int(SQL_date[SQL_date.find(\" \",3):]),\n",
    "                            int(SQL_date[:SQL_date.find(\" \")]),\n",
    "                            int(SQL_date[SQL_date.find(\" \",1):SQL_date.find(\" \",3)]))\n",
    "        return timestamp.strftime(\"%d/%b/%Y\")\n",
    "    else:\n",
    "        timestamp=pd.Timestamp(int(SQL_date[-4:]),int(SQL_date[3:5]),int(SQL_date[:2]))\n",
    "        return timestamp"
   ]
  },
  {
   "cell_type": "code",
   "execution_count": 4,
   "metadata": {},
   "outputs": [],
   "source": [
    "def SQL_fundamental_date_transform(SQL_date):\n",
    "    '''\n",
    "    Transform the SQL fundamental style string into dateframe string style\n",
    "    '''\n",
    "    timestamp=pd.Timestamp(int(SQL_date[:4]),\n",
    "                        int(SQL_date[5:7]),\n",
    "                        int(SQL_date[8:]))\n",
    "    return timestamp"
   ]
  },
  {
   "cell_type": "code",
   "execution_count": 5,
   "metadata": {},
   "outputs": [],
   "source": [
    "def SQL_price(region,start,end):\n",
    "    '''\n",
    "    Grab the pricing data from SQL database\n",
    "    region= US, Europe,Asia,or Canada\n",
    "    start,end are in year\n",
    "    key is the reference to search\n",
    "    return the target price dataframe with timestamp on the column\n",
    "    '''\n",
    "    mylist=[]\n",
    "    for year in range(start,end+1):\n",
    "        sql=\"select * from {0}_price_{1}\".format(region,year)\n",
    "        data=pd.read_sql(sql,cnxn).set_index(\"Ticker\")\n",
    "        adj_data=data.loc[[x for x in data.index if len(x)>0]].replace('#N/A N/A','')\n",
    "        mylist.append(adj_data)\n",
    "\n",
    "    price=pd.concat(mylist,axis=1)\n",
    "    price=price.apply(lambda x:pd.to_numeric(x),axis=1)\n",
    "    \n",
    "    sql_index=\"select * from {0}_price_index\".format(region)\n",
    "    data_index=pd.read_sql(sql_index,cnxn).set_index(\"Ticker\").T\n",
    "    data_index=data_index.replace('#N/A N/A','')\n",
    "    price_index=data_index.apply(lambda x:pd.to_numeric(x),axis=1)\n",
    "    \n",
    "    price.columns=[SQL_price_date_transform(i) for i in price.columns]\n",
    "    '''\n",
    "    Need to sort the columns for index price, and then transform to date string\n",
    "    '''\n",
    "    price_index.columns=[SQL_price_date_transform(i,index=True) for i in price_index.columns]\n",
    "    price_index=price_index.reindex(sorted(price_index.columns), axis=1)\n",
    "    price_index.columns=[i.strftime(\"%d/%b/%Y\") for i  in price_index.columns]\n",
    "    \n",
    "    abs_return=price.diff(1,axis=1)/price.shift(1,axis=1)\n",
    "    abs_return_index=price_index.diff(1,axis=1)/price_index.shift(1,axis=1)\n",
    "    return price,abs_return,price_index,abs_return_index"
   ]
  },
  {
   "cell_type": "code",
   "execution_count": 6,
   "metadata": {},
   "outputs": [],
   "source": [
    "def SQL_EPS(region,start,end):\n",
    "    '''\n",
    "    Grab the pricing data from SQL database\n",
    "    region= US, Europe,Asia,or Canada\n",
    "    start,end are in year\n",
    "    key is the reference to search\n",
    "    return the target EPS dataframe with timestamp on the column\n",
    "    '''\n",
    "    mylist=[]\n",
    "    for year in range(start,end+1):\n",
    "        sql=\"select * from {0}_EPS_{1}\".format(region,year)\n",
    "        data=pd.read_sql(sql,cnxn).set_index(\"Ticker\")\n",
    "        adj_data=data.loc[[x for x in data.index if len(x)>0]].replace('#N/A N/A','')\n",
    "        mylist.append(adj_data)\n",
    "\n",
    "    EPS=pd.concat(mylist,axis=1)\n",
    "    EPS=EPS.apply(lambda x:pd.to_numeric(x),axis=1)\n",
    "    \n",
    "    EPS.columns=[SQL_price_date_transform(i) for i in EPS.columns]\n",
    "    return EPS"
   ]
  },
  {
   "cell_type": "code",
   "execution_count": 56,
   "metadata": {},
   "outputs": [],
   "source": [
    "def SQL_fundamentals(region,abs_return):\n",
    "    '''\n",
    "    Grab the fundamental data from SQL database\n",
    "    region= US, Europe,Asia,or Canada\n",
    "    return the post result fundamental dataframe\n",
    "    '''\n",
    "    sql=\"select * from {0}\".format(region)\n",
    "    data=pd.read_sql(sql,cnxn).set_index(\"Ticker\").drop_duplicates().replace('#N/A Invalid Security','')\n",
    "    \n",
    "    data=data[data.index!='']\n",
    "    \n",
    "    data[\"Date\"]=[SQL_fundamental_date_transform(i) for i in data[\"Date\"]]\n",
    "    data[\"ticker_copy\"]=data.index\n",
    "    data=data.sort_values(by=[\"ticker_copy\",\"Date\"])\n",
    "    data[\"next_date\"]=data[\"Date\"].shift(-1)\n",
    "    data[\"ticker_copy\"]=data[\"ticker_copy\"].shift(-1)\n",
    "    data[\"Date\"]=data[\"Date\"].apply(lambda x: x.strftime(\"%d/%b/%Y\") if x!='' else np.nan)\n",
    "    data[\"Next\"]=data.apply(lambda x: x[\"next_date\"].strftime(\"%d/%b/%Y\") if x.name==x[\"ticker_copy\"] else np.nan,axis=1)\n",
    "\n",
    "    del data[\"ticker_copy\"]\n",
    "    del data[\"next_date\"]\n",
    "     \n",
    "    data.index=pd.MultiIndex.from_tuples(data.apply(lambda x:(x.name,x[\"Date\"],x[\"Next\"]),axis=1))\n",
    "    \n",
    "    for s in [\"Revision\",\"Revision vol\",\"Market cap\",\"Volume\"]:\n",
    "        try:\n",
    "            data[s]=pd.to_numeric(data[s])\n",
    "        except KeyError:\n",
    "            pass\n",
    "\n",
    "    \n",
    "    data[\"EAR\"]=data.apply(lambda x: EAR_calc(x.name[0],x.name[1],abs_return,2,30),axis=1)\n",
    "    data=data[np.isfinite(data[\"EAR\"])]        \n",
    "    \n",
    "    data[\"EAR-1\"]=data[\"EAR\"].shift(1)\n",
    "    data[\"EAR-2\"]=data[\"EAR\"].shift(2)\n",
    "    data[\"Ticker-1\"]=data.apply(lambda x: x.name[0],axis=1).shift(1)\n",
    "    data[\"Ticker-2\"]=data.apply(lambda x:x.name[0],axis=1).shift(2)\n",
    "    \n",
    "    '''\n",
    "    take out data with zero or none revision\n",
    "    '''\n",
    "    data=data[(data[\"Revision\"]>0)|(data[\"Revision\"]<0)]\n",
    "    \n",
    "    if 'Revision vol' in data.columns:\n",
    "        data=data[(data[\"Revision vol\"]>0)|(data[\"Revision vol\"]<0)]\n",
    "        data[\"Revision_norm\"]=data.apply(lambda x: x[\"Revision\"]/x[\"Revision vol\"] if x[\"Revision vol\"]!=0 else None,axis=1)\n",
    "    \n",
    "    \n",
    "    data[\"30d_vol\"]=data.apply(lambda x: abs_return.loc[x.name[0],:x.name[1]][-31:-1].std() if x.name[1] in abs_return.columns\\\n",
    "                               else None,axis=1)\n",
    "    \n",
    "    \n",
    "    return data"
   ]
  },
  {
   "cell_type": "code",
   "execution_count": 96,
   "metadata": {},
   "outputs": [],
   "source": [
    "def signal_vol(signal_column,return_df,vol_lookback):\n",
    "    '''\n",
    "    Calculate simple vol from signal tuple\n",
    "    '''\n",
    "    signal_series=return_df.loc[signal_column.name[0]]\n",
    "    location=signal_series.index.tolist().index(signal_column.name[1])\n",
    "    vol_range=min(vol_lookback,len(signal_series[:location]))\n",
    "    signal_vol=signal_series[location-vol_range-1:location].std()\n",
    "    return signal_vol"
   ]
  },
  {
   "cell_type": "code",
   "execution_count": 93,
   "metadata": {},
   "outputs": [],
   "source": [
    "def signal_filter_stop(signal_df,stop_level,return_df,vol_lookback):\n",
    "    '''\n",
    "    Input - signal_df\n",
    "    Get the updated signal df after the stop loss\n",
    "    '''\n",
    "    \n",
    "    vol_row=signal_df.apply(lambda column:signal_vol(column,return_df,vol_lookback),axis=0)\n",
    "    signal_cum_nmove=((1+signal_df).cumprod()-1).ffill()/vol_row\n",
    "    signal_df_stop=signal_df[-(signal_cum_nmove.expanding().min().shift(1,axis=0)<-stop_level)]\n",
    "    return signal_df_stop"
   ]
  },
  {
   "cell_type": "code",
   "execution_count": 85,
   "metadata": {},
   "outputs": [],
   "source": [
    "def sizing(signal_df,reference,gross,fundamental_df,return_df,risk_parity,liquidity,capital):\n",
    "    '''\n",
    "    Use historical signal_df range to calculate the size row for the current signal_df range\n",
    "    Idea is to use historical as a benchmark for future sizing\n",
    "    '''\n",
    "    number=reference.count(axis=1).mean()\n",
    "    avg_size=gross/100/number\n",
    "    vol_reference=reference.apply(lambda column:signal_vol(column,return_df,30),axis=0).mean()\n",
    "    vol_row=signal_df.apply(lambda column:signal_vol(column,return_df,30),axis=0)\n",
    "    \n",
    "    fundamental_df=fundamental_df.sort_index()\n",
    "    if risk_parity is True:\n",
    "        size_row=signal_df.apply(lambda x: min(avg_size/(vol_row[x.name]/vol_reference),\\\n",
    "                                               fundamental_df.loc[x.name[0],x.name[1]][\"Volume\"].iloc[0]*\\\n",
    "                                               liquidity/capital),axis=0)\n",
    "    else:\n",
    "        size_row=signal_df.apply(lambda x: min(avg_size, fundamental_df.loc[x.name[0],x.name[1]][\"Volume\"].iloc[0]\\\n",
    "                                               *liquidity/capital),axis=0)\n",
    "    return size_row"
   ]
  },
  {
   "cell_type": "code",
   "execution_count": 120,
   "metadata": {},
   "outputs": [],
   "source": [
    "def slice_universe(signal_df,start_datetime,end_datetime):\n",
    "    '''\n",
    "    Slice the signal_df, both the index and entry date have to be \n",
    "    '''\n",
    "    \n",
    "    entry=signal_df.apply(lambda x:datetime.strptime(x.name[1],\"%d/%b/%Y\"),axis=0)\n",
    "    period_evaluate=(entry>=start_datetime)&(entry<=end_datetime)\n",
    "    adj_signal_df=signal_df.loc[:,period_evaluate]\n",
    "    adj_signal_df=adj_signal_df.loc[start_datetime:end_datetime]\n",
    "    \n",
    "    zero_index=pd.date_range(start_datetime,end_datetime,freq='B').to_frame()\n",
    "    adj_signal_df=pd.concat([adj_signal_df,zero_index],axis=1).iloc[:,:-1]\n",
    "    return adj_signal_df\n",
    "    "
   ]
  },
  {
   "cell_type": "code",
   "execution_count": 109,
   "metadata": {},
   "outputs": [],
   "source": [
    "def plot_signal(title,figsize,portfolio_cache):\n",
    "\n",
    "    account_curve=portfolio_cache[1]\n",
    "    avg_size=np.abs(portfolio_cache[2]).mean(axis=0).mean()\n",
    "    ind_return=portfolio_cache[3]\n",
    "    gross=portfolio_cache[4]\n",
    "    turnover=portfolio_cache[5]\n",
    "\n",
    "    fig=plt.figure(figsize=figsize)\n",
    "    ax1=fig.add_subplot(1,1,1)\n",
    "    ln1=ax1.plot(account_curve,label='signal',color='b')\n",
    "\n",
    "    val1=ax1.get_yticks()\n",
    "    start=val1[0]\n",
    "    end=val1[-1]\n",
    "    ax1.set_yticks(np.arange(start,end,0.1))  \n",
    "    adj_val1=ax1.get_yticks()\n",
    "    ax1.set_yticklabels([\"{:.0%}\".format(x) for x in adj_val1])\n",
    "\n",
    "    ax2=ax1.twinx()\n",
    "    ln2=ax2.plot(gross,label='gross',color='silver')\n",
    "\n",
    "    val2=ax2.get_yticks()\n",
    "    start=val2[0]\n",
    "    end=val2[-1]\n",
    "    ax2.set_yticks(np.arange(start,end,0.1))  \n",
    "    adj_val2=ax2.get_yticks()\n",
    "    ax2.set_yticklabels([\"{:.0%}\".format(x) for x in adj_val2])\n",
    "\n",
    "    count,hit,payoff,ret,vol,sharpe,max_dd=trading_analytics_date(portfolio_cache)\n",
    "\n",
    "    plt.title(\"\\n\".join(wrap('count='+str(count)+\n",
    "                             ',avg_size='+str(\"{:.1%}\".format(avg_size))+\n",
    "                             ',hit_rate='+str(\"{:.0%}\".format(hit))+\n",
    "                             ',payoff='+str(round(payoff,1))+\n",
    "                             ',return='+str(\"{:.1%}\".format(ret))+\n",
    "                             ',vol='+str(\"{:.1%}\".format(vol))+\n",
    "                             ',sharpe='+str(round(sharpe,1))+\n",
    "                             ',turnover='+str(round(turnover,1))+'x'+                             \n",
    "                             ',max_drawdown='+str(\"{:.1%}\".format(max_dd)))),fontsize=10)\n",
    "\n",
    "    ax1.set_xlabel('Year')\n",
    "    ax1.set_ylabel('Return')\n",
    "    ax2.set_ylabel('Exposure')\n",
    "    plt.suptitle(title,y=1.05,fontsize=16)\n",
    "    plt.grid(linestyle='dashed')\n",
    "    plt.legend(ln1+ln2,[l.get_label() for l in ln1+ln2],loc=2)\n",
    "    ax1.axhline(y=0,color='k')\n",
    "\n",
    "    plt.show()        "
   ]
  },
  {
   "cell_type": "code",
   "execution_count": 111,
   "metadata": {},
   "outputs": [],
   "source": [
    "def trading_analytics_date(portfolio_cache):\n",
    "    '''\n",
    "    Key portfolio metrics from portfolio cache\n",
    "    Feed into plot function\n",
    "    '''\n",
    "    \n",
    "    ind_return=portfolio_cache[3]\n",
    "    signal_count=len(ind_return)\n",
    "    account_curve=portfolio_cache[1]\n",
    "    \n",
    "    if signal_count==0:\n",
    "        return None,None,None,None,None,None,None\n",
    "    else:\n",
    "        mean_return=ind_return.mean()\n",
    "        hit_rate=len(ind_return[ind_return>0])/len(ind_return)*1.0\n",
    "        payoff_ratio=ind_return[ind_return>0].mean()/ind_return[ind_return<0].mean()*-1.0\n",
    "        \n",
    "        account_price=account_curve+1\n",
    "        ann_vol=np.std(account_price.diff()/account_price.shift(1))*(260**0.5)\n",
    "        ann_ret=(account_price.iloc[-1]**(1/len(account_price)))**260-1\n",
    "        ann_sharpe=ann_ret/ann_vol\n",
    "        \n",
    "        max_dd=-((1+account_curve)/(1+account_curve).cummax(axis=0)-1).expanding().min().min()\n",
    "        \n",
    "        #low_date=(np.maximum.accumulate(account_curve)-account_curve).idxmax()\n",
    "        #high_date=account_curve[:low_date].idxmax()\n",
    "        #max_dd=1-(1+account_curve[low_date])/(1+account_curve[high_date])\n",
    "        \n",
    "        return signal_count,hit_rate,payoff_ratio,ann_ret,ann_vol,ann_sharpe,max_dd"
   ]
  },
  {
   "cell_type": "code",
   "execution_count": null,
   "metadata": {},
   "outputs": [],
   "source": []
  },
  {
   "cell_type": "code",
   "execution_count": null,
   "metadata": {},
   "outputs": [],
   "source": []
  },
  {
   "cell_type": "code",
   "execution_count": null,
   "metadata": {},
   "outputs": [],
   "source": []
  },
  {
   "cell_type": "code",
   "execution_count": 8,
   "metadata": {},
   "outputs": [],
   "source": [
    "US_price,abs_return_US,US_index_price,abs_return_index_US=SQL_price('US',2006,2019)"
   ]
  },
  {
   "cell_type": "code",
   "execution_count": 57,
   "metadata": {},
   "outputs": [
    {
     "name": "stderr",
     "output_type": "stream",
     "text": [
      "C:\\Users\\Eric.Li\\AppData\\Local\\Continuum\\anaconda3\\lib\\site-packages\\ipykernel_launcher.py:19: RuntimeWarning: invalid value encountered in double_scalars\n"
     ]
    }
   ],
   "source": [
    "US=SQL_fundamentals(\"US\",abs_return_US)"
   ]
  },
  {
   "cell_type": "code",
   "execution_count": null,
   "metadata": {},
   "outputs": [],
   "source": []
  },
  {
   "cell_type": "markdown",
   "metadata": {},
   "source": [
    "## 2 day EAR inflection"
   ]
  },
  {
   "cell_type": "code",
   "execution_count": 64,
   "metadata": {},
   "outputs": [],
   "source": [
    "US[\"signal\"]=US.apply(lambda x: 1 if x.name[0]==x[\"Ticker-1\"] and x.name[0]==x[\"Ticker-2\"] and x[\"EAR-1\"]<-2 and x[\"EAR-2\"]<-2\\\n",
    "        and x[\"EAR\"]>2 else 0, axis=1)"
   ]
  },
  {
   "cell_type": "code",
   "execution_count": 67,
   "metadata": {},
   "outputs": [],
   "source": [
    "long_base=US[US[\"signal\"]==1]"
   ]
  },
  {
   "cell_type": "code",
   "execution_count": 116,
   "metadata": {},
   "outputs": [],
   "source": [
    "EAR2_long=long_base"
   ]
  },
  {
   "cell_type": "code",
   "execution_count": 124,
   "metadata": {},
   "outputs": [],
   "source": [
    "US[\"short_signal\"]=US.apply(lambda x: 1 if x.name[0]==x[\"Ticker-1\"] and x.name[0]==x[\"Ticker-2\"] and x[\"EAR-1\"]>2 and x[\"EAR-2\"]>2\\\n",
    "        and x[\"EAR\"]<-2 else 0, axis=1)"
   ]
  },
  {
   "cell_type": "code",
   "execution_count": 126,
   "metadata": {},
   "outputs": [],
   "source": [
    "EAR2_short=US[US[\"short_signal\"]==1]"
   ]
  },
  {
   "cell_type": "markdown",
   "metadata": {},
   "source": [
    "# 3. Signal"
   ]
  },
  {
   "cell_type": "code",
   "execution_count": 133,
   "metadata": {},
   "outputs": [],
   "source": [
    "def signal_df_date(long_base,short_base,return_df,price_df,EAR_period,holding,start,end):\n",
    "    '''\n",
    "    Obtain the signal_df function over the whole time period from the target signal list\n",
    "    '''\n",
    "\n",
    "    if long_base is None:\n",
    "        long_df=None\n",
    "\n",
    "    else:\n",
    "        long_df=pd.DataFrame(index=price_df.columns)\n",
    "\n",
    "        for s in long_base.index:\n",
    "            return_series=return_df.loc[s[0]]\n",
    "            if s[1] in return_series.index:\n",
    "                if not np.isnan(return_series.loc[s[1]]): \n",
    "                    day0=return_series.index.tolist().index(s[1])\n",
    "                    if type(s[2])==float:##basically np.nan has type float\n",
    "                        period=holding\n",
    "                    else: ##assume that we are not holding through numbers\n",
    "                        period=min(holding,np.busday_count(datetime.strptime(s[1],\"%d/%b/%Y\"),\\\n",
    "                                                                datetime.strptime(s[2],\"%d/%b/%Y\"))-EAR_period)\\\n",
    "                        #EAR period as entry\n",
    "                    target_series=return_series.iloc[day0+EAR_period-1:day0+min(period+EAR_period, \\\n",
    "                                                                                   len(return_series[day0:]))].dropna()\n",
    "                    if len(target_series)==0:\n",
    "                        pass\n",
    "                    else:\n",
    "                        target_series.iloc[0]=0.0\n",
    "                        long_df[s]=target_series                        \n",
    "\n",
    "        long_df=long_df.reindex(datetime.strptime(i,\"%d/%b/%Y\") for i in long_df.index)\n",
    "\n",
    "        if start is not None:\n",
    "            long_df=slice_universe(long_df,start,end)\n",
    "        else:\n",
    "            pass\n",
    "\n",
    "        long_df=long_df.dropna(how=\"all\",axis=1)\n",
    "        #long_df.columns=pd.MultiIndex.from_tuples(pd.Series(list(long_df.columns)))\n",
    "        #self.long_df=long_df\n",
    "\n",
    "\n",
    "\n",
    "    if short_base is None:\n",
    "        short_df=None\n",
    "\n",
    "    else:\n",
    "        short_df=pd.DataFrame(index=price_df.columns)\n",
    "\n",
    "        for s in short_base.index:\n",
    "            return_series=return_df.loc[s[0]]\n",
    "            if s[1] in return_series.index:\n",
    "                if not np.isnan(return_series.loc[s[1]]): \n",
    "                    day0=return_series.index.tolist().index(s[1])\n",
    "                    if type(s[2])==float:##basically np.nan has type float\n",
    "                        period=holding\n",
    "                    else: ##assume that we are not holding through numbers\n",
    "                        period=min(holding,np.busday_count(datetime.strptime(s[1],\"%d/%b/%Y\"),\\\n",
    "                                                                datetime.strptime(s[2],\"%d/%b/%Y\"))-EAR_period)\\\n",
    "                        #EAR period as entry\n",
    "                    target_series=return_series.iloc[day0+EAR_period-1:day0+min(period+EAR_period, \\\n",
    "                                                                                   len(return_series[day0:]))].dropna()\n",
    "                    if len(target_series)==0:\n",
    "                        pass\n",
    "                    else:\n",
    "                        target_series.iloc[0]=0.0\n",
    "                        short_df[s]=target_series                        \n",
    "\n",
    "        short_df=short_df.reindex(datetime.strptime(i,\"%d/%b/%Y\") for i in short_df.index)\n",
    "\n",
    "        if start is not None:\n",
    "            short_df=slice_universe(short_df,start,end)\n",
    "        else:\n",
    "            pass  \n",
    "\n",
    "        short_df=short_df.dropna(how=\"all\",axis=1)\n",
    "        #short_df.columns=pd.MultiIndex.from_tuples(pd.Series(list(short_df.columns)))\n",
    "#         self.short_df=short_df\n",
    "\n",
    "    return long_df,short_df"
   ]
  },
  {
   "cell_type": "code",
   "execution_count": 145,
   "metadata": {},
   "outputs": [],
   "source": [
    "def signal_account(long_df,short_df,index_df,return_df,fundamental_df,stop,gross,net_level,risk_parity,liquidity,\\\n",
    "                   capital):\n",
    "    '''\n",
    "    Build the account curve with signal_df\n",
    "    Assume quarterly rebalancing that's why the period list has quarter as the key\n",
    "    Take extra care when building the account curve, the logic is: work out the size_df, then shift by 1 and * signal_df\n",
    "    Stop=(long_stop,short_stop)\n",
    "    index_df has to be a dataframe with a name\n",
    "    '''\n",
    "\n",
    "\n",
    "    '''\n",
    "    Assign values for later use\n",
    "    '''\n",
    "\n",
    "\n",
    "    index_df.index=[datetime.strptime(i,\"%d/%b/%Y\") for i in index_df.index]\n",
    "\n",
    "    '''\n",
    "    Separate out long and short\n",
    "    '''\n",
    "    if long_df is None:\n",
    "        long_cache=(None,None,None,None)\n",
    "    else:\n",
    "        if stop is None:\n",
    "            pass\n",
    "        else:\n",
    "            long_df=signal_filter_stop(long_df,stop[0],return_df,30)   \n",
    "\n",
    "        period=long_df.apply(lambda x:str(x.name.year)+\" \"+str(x.name.quarter),axis=1)\n",
    "        period_list=list(set(period))\n",
    "        period_list.sort()                \n",
    "            \n",
    "        long_sub_signal={}\n",
    "        long_sub_size_row={}\n",
    "        long_sub_size_df={}\n",
    "        long_sub_pnl={}\n",
    "\n",
    "        for s in period_list:\n",
    "\n",
    "            long_sub_signal[s]=long_df[period==s].dropna(how='all',axis=1)\n",
    "\n",
    "            if long_sub_signal[s].shape[1]==0:\n",
    "                long_sub_size_df[s]=long_sub_signal[s]\n",
    "                long_sub_pnl[s]=long_sub_signal[s]\n",
    "\n",
    "            else:\n",
    "                if period_list.index(s)<4:##use last quarter's sizing as reference\n",
    "                    long_sub_size_row[s]=sizing(long_sub_signal[s],long_sub_signal[s],gross[0],fundamental_df,\\\n",
    "                                                   return_df,risk_parity,liquidity,capital)\n",
    "                else:\n",
    "                    try:\n",
    "                        long_sub_size_row[s]=sizing(long_sub_signal[s],long_sub_signal[period_list[period_list.index(s)-1]],\\\n",
    "                                                   gross[0],fundamental_df,return_df,\\\n",
    "                                                    risk_parity,liquidity,capital)\n",
    "                    except:\n",
    "                        long_sub_size_row[s]=sizing(long_sub_signal[s],long_sub_signal[s],\\\n",
    "                                                   gross[0],fundamental_df,return_df,\\\n",
    "                                                    risk_parity,liquidity,capital) \n",
    "\n",
    "                long_sub_size_df[s]=(1+long_sub_signal[s]).cumprod()*long_sub_size_row[s]\n",
    "                long_sub_pnl[s]=(long_sub_size_df[s].shift(1))*long_sub_signal[s] \n",
    "                # need to shift by 1 as the size is end of the day\n",
    "\n",
    "        long_daily_pnl=pd.concat(list(long_sub_pnl.values()),axis=0)\n",
    "        long_acct_curve=long_daily_pnl.cumsum().ffill().sum(axis=1)\n",
    "        long_size_df=pd.concat(list(long_sub_size_df.values()),axis=0)\n",
    "        long_ind_return=long_daily_pnl.cumsum().ffill().iloc[-1].dropna()\n",
    "        long_cache=(long_daily_pnl,long_acct_curve,long_size_df,long_ind_return)\n",
    "\n",
    "\n",
    "    if short_df is None:\n",
    "        short_cache=(None,None,None,None)\n",
    "    else:\n",
    "        if stop is None:\n",
    "            pass\n",
    "        else:\n",
    "            short_df=-signal_filter_stop(-short_df,stop[1],return_df,30)   \n",
    "\n",
    "        period=short_df.apply(lambda x:str(x.name.year)+\" \"+str(x.name.quarter),axis=1)\n",
    "        period_list=list(set(period))\n",
    "        period_list.sort()              \n",
    "\n",
    "        short_sub_signal={}\n",
    "        short_sub_size_row={}\n",
    "        short_sub_size_df={}\n",
    "        short_sub_pnl={}\n",
    "\n",
    "        for s in period_list:\n",
    "            short_sub_signal[s]=short_df[period==s].dropna(how='all',axis=1)\n",
    "\n",
    "            if short_sub_signal[s].shape[1]==0:\n",
    "                short_sub_size_df[s]=short_sub_signal[s]\n",
    "                short_sub_pnl[s]=short_sub_signal[s]\n",
    "\n",
    "            else:\n",
    "\n",
    "                if period_list.index(s)<4:##use last quarter's sizing as reference\n",
    "                    short_sub_size_row[s]=-sizing(short_sub_signal[s],short_sub_signal[s],gross[1],fundamental_df,\\\n",
    "                                                   return_df,risk_parity,liquidity,capital)\n",
    "                else:\n",
    "                    try:\n",
    "                        short_sub_size_row[s]=-sizing(short_sub_signal[s],short_sub_signal\\\n",
    "                                                      [period_list[period_list.index(s)-1]],\\\n",
    "                                                       gross[1],fundamental_df,return_df,risk_parity,liquidity,\\\n",
    "                                                      capital)\n",
    "                    except:\n",
    "                        short_sub_size_row[s]=-sizing(short_sub_signal[s],short_sub_signal[s],\\\n",
    "                                                       gross[1],fundamental_df,return_df,risk_parity,liquidity,\\\n",
    "                                                      capital)\n",
    "\n",
    "                short_sub_size_df[s]=(1+short_sub_signal[s]).cumprod()*short_sub_size_row[s]\n",
    "                short_sub_pnl[s]=(short_sub_size_df[s].shift(1))*short_sub_signal[s] \n",
    "            # need to shift by 1 as the size is end of the day\n",
    "\n",
    "        short_daily_pnl=pd.concat(list(short_sub_pnl.values()),axis=0)\n",
    "        short_acct_curve=short_daily_pnl.cumsum().ffill().sum(axis=1)\n",
    "        short_size_df=pd.concat(list(short_sub_size_df.values()),axis=0)\n",
    "        short_ind_return=short_daily_pnl.cumsum().ffill().iloc[-1].dropna()\n",
    "\n",
    "        short_cache=(short_daily_pnl,short_acct_curve,short_size_df,short_ind_return)\n",
    "\n",
    "    '''Put alpha positions together to form the alpha part'''\n",
    "    alpha_df=pd.concat([long_df,short_df],axis=1)\n",
    "    #self.alpha_df=alpha_df\n",
    "\n",
    "    alpha_daily_pnl=pd.concat([long_cache[0],short_cache[0]],axis=1)\n",
    "    alpha_acct_curve=alpha_daily_pnl.cumsum().ffill().sum(axis=1)\n",
    "    alpha_size_df=pd.concat([long_cache[2],short_cache[2]],axis=1)\n",
    "    alpha_ind_return=pd.concat([long_cache[3],short_cache[3]],axis=0)\n",
    "\n",
    "    alpha_cache=(alpha_daily_pnl,alpha_acct_curve,alpha_size_df,alpha_ind_return)\n",
    "\n",
    "\n",
    "    if index_df is not None:\n",
    "        if index_df.shape[1]==1:\n",
    "            index_df=index_df.copy().loc[alpha_df.index] \n",
    "            index_size_df=(net_level-alpha_size_df.sum(axis=1)).to_frame(index_df.columns[0])\n",
    "            index_daily_pnl=index_size_df.shift(1)*index_df\n",
    "            index_acct_curve=index_daily_pnl.cumsum()\n",
    "            index_ind_return=index_acct_curve.iloc[-1]\n",
    "            index_cache=(index_daily_pnl,index_acct_curve,index_size_df,index_ind_return)\n",
    "        else:\n",
    "            index_df=index_df.copy().loc[alpha_df.index] \n",
    "            alpha_temp=alpha_cache[2].copy().T\n",
    "            alpha_temp[\"index\"]=alpha_temp.apply(lambda x:Asia_mapping.loc[x.name[0][-2:]].iloc[0],axis=1)\n",
    "            index_size_df=net_level-alpha_temp.groupby(\"index\").apply(sum).T.iloc[:-1]\n",
    "            index_daily_pnl=index_size_df.shift(1)*index_df\n",
    "            index_acct_curve=index_daily_pnl.cumsum()\n",
    "            index_ind_return=index_acct_curve.iloc[-1]\n",
    "            index_cache=(index_daily_pnl,index_acct_curve,index_size_df,index_ind_return)\n",
    "    else:\n",
    "        index_cache=(None,None,None,None)\n",
    "\n",
    "    '''Finally put everything together'''    \n",
    "    portfolio_df=pd.concat([alpha_df,index_df],axis=1)\n",
    "\n",
    "    portfolio_size_df=pd.concat([alpha_cache[2],index_cache[2]],axis=1)\n",
    "\n",
    "    portfolio_daily_pnl=pd.concat([alpha_cache[0],index_cache[0]],axis=1)\n",
    "\n",
    "    portfolio_acct_curve=portfolio_daily_pnl.cumsum().ffill().sum(axis=1)\n",
    "    portfolio_ind_return=alpha_cache[3].copy()\n",
    "\n",
    "    portfolio_gross=np.abs(portfolio_size_df).sum(axis=1)\n",
    "    portfolio_turnover=(np.abs(alpha_size_df.fillna(0.0).diff(1)).sum().sum())/(portfolio_size_df.shape[0]/260)\n",
    "\n",
    "    portfolio_cache=(portfolio_daily_pnl,portfolio_acct_curve,portfolio_size_df,portfolio_ind_return,portfolio_gross,\\\n",
    "                     portfolio_turnover,portfolio_df)\n",
    "\n",
    "    #self.portfolio_account=portfolio_cache #save for later use\n",
    "\n",
    "\n",
    "    return long_cache,short_cache,alpha_cache,portfolio_cache"
   ]
  },
  {
   "cell_type": "code",
   "execution_count": 121,
   "metadata": {},
   "outputs": [],
   "source": [
    "EAR2_long_df=signal_df_date(EAR2_long,None,abs_return_US,US_price,2,30,pd.Timestamp(2007,1,1),pd.Timestamp(2017,12,31))[0]"
   ]
  },
  {
   "cell_type": "code",
   "execution_count": 122,
   "metadata": {},
   "outputs": [],
   "source": [
    "EAR2_long_account=signal_account(EAR2_long_df,None,abs_return_index_US.loc[\"SPX Index\"].to_frame(),abs_return_US,US,(8,8),\\\n",
    "                                 (30,0),0,True,0.2,100)"
   ]
  },
  {
   "cell_type": "code",
   "execution_count": 123,
   "metadata": {},
   "outputs": [
    {
     "data": {
      "image/png": "[encoded data removed]",
      "text/plain": [
       "<matplotlib.figure.Figure at 0x14ee69e8>"
      ]
     },
     "metadata": {},
     "output_type": "display_data"
    }
   ],
   "source": [
    "plot_signal('EAR2 long inflection US',[6,4],EAR2_long_account[-1])"
   ]
  },
  {
   "cell_type": "code",
   "execution_count": 155,
   "metadata": {},
   "outputs": [
    {
     "data": {
      "text/plain": [
       "0.009156624115155039"
      ]
     },
     "execution_count": 155,
     "metadata": {},
     "output_type": "execute_result"
    }
   ],
   "source": [
    "EAR2_short_df[1].cumsum().ffill().iloc[-1].sort_values().mean()"
   ]
  },
  {
   "cell_type": "code",
   "execution_count": 137,
   "metadata": {},
   "outputs": [],
   "source": [
    "EAR2_short_df=signal_df_date(None,EAR2_short,abs_return_US,US_price,2,30,pd.Timestamp(2007,1,1),pd.Timestamp(2017,12,31))"
   ]
  },
  {
   "cell_type": "code",
   "execution_count": 146,
   "metadata": {},
   "outputs": [],
   "source": [
    "EAR2_short_account=signal_account(None,EAR2_short_df[1],abs_return_index_US.loc[\"SPX Index\"].to_frame(),abs_return_US,US,(8,8),\\\n",
    "                                 (30,0),0,True,0.2,100)"
   ]
  },
  {
   "cell_type": "code",
   "execution_count": 147,
   "metadata": {},
   "outputs": [
    {
     "name": "stderr",
     "output_type": "stream",
     "text": [
      "C:\\Users\\Eric.Li\\AppData\\Local\\Continuum\\anaconda3\\lib\\site-packages\\ipykernel_launcher.py:21: RuntimeWarning: invalid value encountered in double_scalars\n"
     ]
    },
    {
     "data": {
      "image/png": "[encoded data removed]",
      "text/plain": [
       "<matplotlib.figure.Figure at 0x49404e48>"
      ]
     },
     "metadata": {},
     "output_type": "display_data"
    }
   ],
   "source": [
    "plot_signal('EAR2 short inflection US',[6,4],EAR2_short_account[-1])"
   ]
  },
  {
   "cell_type": "code",
   "execution_count": 150,
   "metadata": {},
   "outputs": [
    {
     "data": {
      "text/plain": [
       "2007-01-01    0.0\n",
       "2007-01-02    0.0\n",
       "2007-01-03    0.0\n",
       "2007-01-04    0.0\n",
       "2007-01-05    0.0\n",
       "2007-01-08    0.0\n",
       "2007-01-09    0.0\n",
       "2007-01-10    0.0\n",
       "2007-01-11    0.0\n",
       "2007-01-12    0.0\n",
       "2007-01-15    0.0\n",
       "2007-01-16    0.0\n",
       "2007-01-17    0.0\n",
       "2007-01-18    0.0\n",
       "2007-01-19    0.0\n",
       "2007-01-22    0.0\n",
       "2007-01-23    0.0\n",
       "2007-01-24    0.0\n",
       "2007-01-25    0.0\n",
       "2007-01-26    0.0\n",
       "2007-01-29    0.0\n",
       "2007-01-30    0.0\n",
       "2007-01-31    0.0\n",
       "2007-02-01    0.0\n",
       "2007-02-02    0.0\n",
       "2007-02-05    0.0\n",
       "2007-02-06    0.0\n",
       "2007-02-07    0.0\n",
       "2007-02-08    0.0\n",
       "2007-02-09    0.0\n",
       "             ... \n",
       "2017-11-20    0.0\n",
       "2017-11-21    0.0\n",
       "2017-11-22    0.0\n",
       "2017-11-23    0.0\n",
       "2017-11-24    0.0\n",
       "2017-11-27    0.0\n",
       "2017-11-28    0.0\n",
       "2017-11-29    0.0\n",
       "2017-11-30    0.0\n",
       "2017-12-01    0.0\n",
       "2017-12-04    0.0\n",
       "2017-12-05    0.0\n",
       "2017-12-06    0.0\n",
       "2017-12-07    0.0\n",
       "2017-12-08    0.0\n",
       "2017-12-11    0.0\n",
       "2017-12-12    0.0\n",
       "2017-12-13    0.0\n",
       "2017-12-14    0.0\n",
       "2017-12-15    0.0\n",
       "2017-12-18    0.0\n",
       "2017-12-19    0.0\n",
       "2017-12-20    0.0\n",
       "2017-12-21    0.0\n",
       "2017-12-22    0.0\n",
       "2017-12-25    0.0\n",
       "2017-12-26    0.0\n",
       "2017-12-27    0.0\n",
       "2017-12-28    0.0\n",
       "2017-12-29    0.0\n",
       "Freq: B, Length: 2870, dtype: float64"
      ]
     },
     "execution_count": 150,
     "metadata": {},
     "output_type": "execute_result"
    }
   ],
   "source": [
    "EAR2_short_account[-1][1]"
   ]
  },
  {
   "cell_type": "code",
   "execution_count": null,
   "metadata": {},
   "outputs": [],
   "source": []
  }
 ],
 "metadata": {
  "kernelspec": {
   "display_name": "Python 3",
   "language": "python",
   "name": "python3"
  },
  "language_info": {
   "codemirror_mode": {
    "name": "ipython",
    "version": 3
   },
   "file_extension": ".py",
   "mimetype": "text/x-python",
   "name": "python",
   "nbconvert_exporter": "python",
   "pygments_lexer": "ipython3",
   "version": "3.6.4"
  }
 },
 "nbformat": 4,
 "nbformat_minor": 2
}
