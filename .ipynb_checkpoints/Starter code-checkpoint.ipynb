{
 "cells": [
  {
   "cell_type": "markdown",
   "metadata": {},
   "source": [
    "## Use SX5E and bloomberg download data to get me started"
   ]
  },
  {
   "cell_type": "code",
   "execution_count": 455,
   "metadata": {},
   "outputs": [],
   "source": [
    "import pandas as pd\n",
    "import numpy as np\n",
    "from datetime import datetime\n",
    "import matplotlib.pyplot as plt\n"
   ]
  },
  {
   "cell_type": "code",
   "execution_count": 436,
   "metadata": {},
   "outputs": [],
   "source": [
    "#initial cleaning function\n",
    "def clean_sheet(dataframe):\n",
    "    adj=dataframe.dropna(axis=1,how='all')\n",
    "    adj=dataframe.set_index(adj.columns[0]) #use stock tickers as the index\n",
    "    return adj"
   ]
  },
  {
   "cell_type": "code",
   "execution_count": 437,
   "metadata": {},
   "outputs": [],
   "source": [
    "#pull the data from excel, form a dictionary of tab names and dataframes\n",
    "tabs_to_grab=['Quarter','Date','Reported EPS','Comp EPS','Consensus EPS','50d MA','3d return','Volume','Momentum',\n",
    "             'Revision','Market cap','PE','property','Price']\n",
    "\n",
    "data_dict={}\n",
    "\n",
    "for s in tabs_to_grab:\n",
    "    data_dict[s]=clean_sheet(pd.read_excel(r'C:\\Users\\Eric.Li\\Documents\\Post result code\\Catalyst.xlsx',sheet_name=s))\n"
   ]
  },
  {
   "cell_type": "code",
   "execution_count": 438,
   "metadata": {
    "scrolled": true
   },
   "outputs": [],
   "source": [
    "#signal formation (number 1) and use the date as the base dataframe\n",
    "signal=data_dict['Date'][(data_dict['3d return']>2) & (data_dict['Revision']>0.02)]\n",
    "signal=signal.dropna(axis=1,how='all')\n",
    "signal=signal.dropna(axis=0,how='all')"
   ]
  },
  {
   "cell_type": "code",
   "execution_count": 441,
   "metadata": {
    "scrolled": true
   },
   "outputs": [
    {
     "name": "stderr",
     "output_type": "stream",
     "text": [
      "C:\\Users\\Eric.Li\\AppData\\Local\\Continuum\\anaconda3\\lib\\site-packages\\ipykernel_launcher.py:6: DeprecationWarning: parsing timezone aware datetimes is deprecated; this will raise an error in the future\n",
      "  \n"
     ]
    }
   ],
   "source": [
    "#Stack signals into a list of tuples (stocks, dates), convert dates into a common format of datetime\n",
    "signal_list=[]\n",
    "for index, row in signal.iterrows():\n",
    "    adj_row=row.dropna()\n",
    "    for s in adj_row.values:\n",
    "        ts=(s - np.datetime64('1970-01-01T00:00:00Z')) / np.timedelta64(1, 's') \n",
    "        adj_time=datetime.utcfromtimestamp(ts).strftime(\"%d/%b/%Y\") #transform the datetime into a common format\n",
    "        signal_list.append((adj_row.name,adj_time))"
   ]
  },
  {
   "cell_type": "code",
   "execution_count": 442,
   "metadata": {},
   "outputs": [],
   "source": [
    "# grab the price time series and transform it into the same datetime format\n",
    "price=data_dict[\"Price\"]\n",
    "new_column=pd.to_datetime(price.columns).strftime(\"%d/%b/%Y\").tolist()\n",
    "price.columns=new_column"
   ]
  },
  {
   "cell_type": "code",
   "execution_count": 444,
   "metadata": {},
   "outputs": [],
   "source": [
    "# create a dictionary to have signal information (tuple) as keys and return data time series as values to make it easier to check\n",
    "#; replace datetime with number of days post announcement to make it more comparable \n",
    "def signal_return_dict(signal_list,price_dataframe,holding):\n",
    "    signal_dict={}\n",
    "    for s in signal_list:\n",
    "        price_series=price_dataframe.loc[s[0]]\n",
    "        return_series=price_series.diff(1)/price_series\n",
    "        day0=return_series.index.tolist().index(s[1]) #index of day 0\n",
    "        target_series=return_series.iloc[day0:day0+min(holding, len(return_series[day0:]))]\n",
    "        target_series.index=range(min(holding, len(return_series[day0:]))) #replace datetime with number of days post announcement\n",
    "        target_series.name=s\n",
    "        signal_dict[s]=target_series\n",
    "    return signal_dict\n",
    "\n",
    "return_dict=signal_return_dict(signal_list,price,63)"
   ]
  },
  {
   "cell_type": "code",
   "execution_count": 445,
   "metadata": {},
   "outputs": [],
   "source": [
    "# obtain the dataframe of return time series for the signal stocks\n",
    "return_series_list=[]\n",
    "for index,key in return_dict.items():\n",
    "    return_series_list.append(key)\n",
    "    \n",
    "return_df=pd.concat(return_series_list,axis=1)\n",
    "return_df=return_df.dropna(how='any',axis=1) #drop stocks with limited history to make it more comparable"
   ]
  },
  {
   "cell_type": "code",
   "execution_count": 448,
   "metadata": {
    "scrolled": false
   },
   "outputs": [
    {
     "data": {
      "text/plain": [
       "ADS GY    08/Mar/2017   -0.048152\n",
       "ALV GY    16/Feb/2017    0.054983\n",
       "ASML NA   19/Jul/2017    0.116361\n",
       "          19/Oct/2016    0.116626\n",
       "BAS GY    24/Oct/2017    0.034121\n",
       "BMW GY    03/Aug/2017    0.075462\n",
       "          04/May/2017   -0.148905\n",
       "CRH ID    25/Aug/2016    0.033412\n",
       "DG FP     07/Feb/2017    0.137192\n",
       "DPW GY    11/May/2016    0.018565\n",
       "DTE GY    03/Aug/2017   -0.021192\n",
       "ENGI FP   02/Mar/2017    0.034141\n",
       "ENI IM    28/Jul/2017    0.033634\n",
       "FP FP     27/Oct/2017   -0.010840\n",
       "          11/Feb/2016    0.076414\n",
       "GLE FP    03/Nov/2016    0.226257\n",
       "          03/Aug/2016    0.147055\n",
       "IBE SQ    22/Feb/2017    0.096521\n",
       "INGA NA   03/Nov/2016    0.078211\n",
       "          03/Aug/2016    0.154210\n",
       "MUV2 GY   09/Aug/2016    0.070512\n",
       "NOKIA FH  02/Feb/2017    0.173207\n",
       "PHIA NA   24/Oct/2016    0.020954\n",
       "SAN FP    28/Oct/2016    0.034439\n",
       "SAN SQ    25/Jan/2017    0.050975\n",
       "SIE GY    04/Aug/2016   -0.007228\n",
       "          04/May/2016    0.038452\n",
       "          25/Jan/2016    0.076178\n",
       "TEF SQ    23/Feb/2017    0.030958\n",
       "VIV FP    31/Aug/2017    0.129025\n",
       "          09/Nov/2016   -0.145943\n",
       "Name: 62, dtype: float64"
      ]
     },
     "execution_count": 448,
     "metadata": {},
     "output_type": "execute_result"
    }
   ],
   "source": [
    "# List of signals and cumulative returns\n",
    "ind_return=return_df.iloc[3:].cumsum(axis=0).iloc[-1]"
   ]
  },
  {
   "cell_type": "code",
   "execution_count": 466,
   "metadata": {},
   "outputs": [
    {
     "data": {
      "image/png": "[encoded data removed]",
      "text/plain": [
       "<matplotlib.figure.Figure at 0xad356a0>"
      ]
     },
     "metadata": {},
     "output_type": "display_data"
    }
   ],
   "source": [
    "# Performance analytics\n",
    "# 1. aggregate performance over time\n",
    "cum_return=return_df.iloc[3:].mean(axis=1).cumsum()\n",
    "\n",
    "plt.plot(cum_return)\n",
    "plt.xlabel(\"days post announcement\")\n",
    "plt.ylabel(\"accumulated return\")\n",
    "plt.title(\"simple signal for SX5E 2016-2018\")\n",
    "plt.show()"
   ]
  },
  {
   "cell_type": "code",
   "execution_count": null,
   "metadata": {},
   "outputs": [],
   "source": [
    "# 2. trading analytics\n"
   ]
  }
 ],
 "metadata": {
  "kernelspec": {
   "display_name": "Python 3",
   "language": "python",
   "name": "python3"
  },
  "language_info": {
   "codemirror_mode": {
    "name": "ipython",
    "version": 3
   },
   "file_extension": ".py",
   "mimetype": "text/x-python",
   "name": "python",
   "nbconvert_exporter": "python",
   "pygments_lexer": "ipython3",
   "version": "3.6.4"
  }
 },
 "nbformat": 4,
 "nbformat_minor": 2
}
