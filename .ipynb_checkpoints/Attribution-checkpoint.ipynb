{
 "cells": [
  {
   "cell_type": "code",
   "execution_count": 1,
   "metadata": {},
   "outputs": [],
   "source": [
    "import pandas as pd\n",
    "import numpy as np\n",
    "from datetime import datetime\n",
    "import matplotlib.pyplot as plt\n",
    "import matplotlib\n",
    "import seaborn as sns\n",
    "import textwrap\n",
    "import swifter\n",
    "from pandas_summary import DataFrameSummary\n",
    "from pandas.plotting import register_matplotlib_converters\n",
    "register_matplotlib_converters()\n",
    "\n",
    "%matplotlib inline"
   ]
  },
  {
   "cell_type": "code",
   "execution_count": 31,
   "metadata": {},
   "outputs": [],
   "source": [
    "main_2019=pd.read_excel(r'C:\\Users\\Eric.Li\\Desktop\\Attribution\\2019 attribution.xlsx',\\\n",
    "                                       sheet_name='Audit')"
   ]
  },
  {
   "cell_type": "code",
   "execution_count": 32,
   "metadata": {},
   "outputs": [],
   "source": [
    "main_2018=pd.read_excel(r'C:\\Users\\Eric.Li\\Desktop\\Attribution\\2018 attribution.xlsx',\\\n",
    "                                       sheet_name='Audit')"
   ]
  },
  {
   "cell_type": "code",
   "execution_count": 33,
   "metadata": {},
   "outputs": [],
   "source": [
    "main_2017=pd.read_excel(r'C:\\Users\\Eric.Li\\Desktop\\Attribution\\2017 attribution.xlsx',\\\n",
    "                                       sheet_name='Audit')"
   ]
  },
  {
   "cell_type": "code",
   "execution_count": 34,
   "metadata": {},
   "outputs": [],
   "source": [
    "main_2016=pd.read_excel(r'C:\\Users\\Eric.Li\\Desktop\\Attribution\\2016 attribution.xlsx',\\\n",
    "                                       sheet_name='Audit')"
   ]
  },
  {
   "cell_type": "code",
   "execution_count": 35,
   "metadata": {},
   "outputs": [],
   "source": [
    "main_2015=pd.read_excel(r'C:\\Users\\Eric.Li\\Desktop\\Attribution\\2015 attribution.xlsx',\\\n",
    "                                       sheet_name='Audit')"
   ]
  },
  {
   "cell_type": "code",
   "execution_count": null,
   "metadata": {},
   "outputs": [],
   "source": [
    "def size_bucket(size):\n",
    "    if size<0.25:\n",
    "        return \"Small\"\n",
    "    elif (size>=0.25) & (size<0.5):\n",
    "        return \"Mid\"\n",
    "    else:\n",
    "        return \"Large\""
   ]
  },
  {
   "cell_type": "code",
   "execution_count": null,
   "metadata": {},
   "outputs": [],
   "source": [
    "def holding_bucket(holding):\n",
    "    if holding<30:\n",
    "        return \"Short\"\n",
    "    elif (holding>=30) & (holding<100):\n",
    "        return \"Mid\"\n",
    "    else:\n",
    "        return \"Long\""
   ]
  },
  {
   "cell_type": "code",
   "execution_count": 18,
   "metadata": {},
   "outputs": [],
   "source": [
    "def adj_main(main_2019):\n",
    "    main_2019=main_2019.set_index(\"Position\")\n",
    "    main_2019[\"holding\"]=main_2019.apply(lambda x:(pd.Timestamp(x[\"End Date\"])-pd.Timestamp(x[\"Start Date\"])).days,axis=1)\n",
    "    main_2019[\"holding_bucket\"]=main_2019.apply(lambda x:holding_bucket(x[\"holding\"]),axis=1)\n",
    "    main_2019[\"P&L_dummy\"]=main_2019[\"P&L\"]>0\n",
    "    main_2019[\"Selection_dummy\"]=main_2019[\"Selection (bps)\"]>0\n",
    "    main_2019[\"Market_dummy\"]=main_2019[\"Market (bps)\"]>0\n",
    "    main_2019[\"Index_dummy\"]=main_2019[\"Index (bps)\"]>0\n",
    "    main_2019[\"Trading_dummy\"]=main_2019[\"Trading (bps)\"]>0\n",
    "    main_2019[\"Size_bucket\"]=main_2019.apply(lambda x: size_bucket(x[\"Average Position Size\"]),axis=1)\n",
    "    return main_2019"
   ]
  },
  {
   "cell_type": "code",
   "execution_count": 36,
   "metadata": {},
   "outputs": [],
   "source": [
    "main_2019=adj_main(main_2019)"
   ]
  },
  {
   "cell_type": "code",
   "execution_count": 37,
   "metadata": {},
   "outputs": [],
   "source": [
    "main_2018=adj_main(main_2018)"
   ]
  },
  {
   "cell_type": "code",
   "execution_count": 38,
   "metadata": {},
   "outputs": [],
   "source": [
    "main_2017=adj_main(main_2017)"
   ]
  },
  {
   "cell_type": "code",
   "execution_count": 39,
   "metadata": {},
   "outputs": [],
   "source": [
    "main_2016=adj_main(main_2016)"
   ]
  },
  {
   "cell_type": "code",
   "execution_count": 40,
   "metadata": {},
   "outputs": [],
   "source": [
    "main_2015=adj_main(main_2015)"
   ]
  },
  {
   "cell_type": "code",
   "execution_count": 41,
   "metadata": {},
   "outputs": [],
   "source": [
    "main=pd.concat([main_2018,main_2017,main_2016,main_2015],axis=0)"
   ]
  },
  {
   "cell_type": "code",
   "execution_count": 42,
   "metadata": {},
   "outputs": [],
   "source": [
    "data=main.copy()"
   ]
  },
  {
   "cell_type": "code",
   "execution_count": 43,
   "metadata": {},
   "outputs": [
    {
     "name": "stdout",
     "output_type": "stream",
     "text": [
      "Total pnl is  3450.897362618088\n",
      "Total market attribution is  582.2826255445945\n",
      "Selection market attribution is  2299.665678520648\n",
      "Total pnl payoff is  1.917538324908062\n",
      "Total selection payoff is  1.9287318265639777\n",
      "Total pnl hit rate is  0.4631449631449631\n",
      "Total selection hit rate is  0.4047911547911548\n"
     ]
    }
   ],
   "source": [
    "print(\"Total pnl is \",data[\"P&L (bps)\"].sum())\n",
    "print(\"Total market attribution is \",data[\"Market (bps)\"].sum())\n",
    "print(\"Selection market attribution is \",data[\"Selection (bps)\"].sum())\n",
    "\n",
    "print(\"Total pnl payoff is \",-data[\"P&L (bps)\"][data[\"P&L (bps)\"]>0].mean()/data[\"P&L (bps)\"][data[\"P&L (bps)\"]<0].mean())\n",
    "print(\"Total selection payoff is \",-data[\"Selection (bps)\"][data[\"Selection (bps)\"]>0].mean()/data[\"Selection (bps)\"][data[\"Selection (bps)\"]<0].mean())\n",
    "print(\"Total pnl hit rate is \",data[\"P&L (bps)\"][data[\"P&L (bps)\"]>0].shape[0]/data[\"P&L (bps)\"].shape[0])\n",
    "print(\"Total selection hit rate is \",data[\"Selection (bps)\"][data[\"Selection (bps)\"]>0].shape[0]/data[\"Selection (bps)\"].shape[0])\n",
    "\n"
   ]
  },
  {
   "cell_type": "code",
   "execution_count": null,
   "metadata": {},
   "outputs": [],
   "source": []
  },
  {
   "cell_type": "code",
   "execution_count": 44,
   "metadata": {},
   "outputs": [],
   "source": [
    "data=main_2019.copy()"
   ]
  },
  {
   "cell_type": "code",
   "execution_count": 45,
   "metadata": {},
   "outputs": [
    {
     "name": "stdout",
     "output_type": "stream",
     "text": [
      "Total pnl is  299.2944786770467\n",
      "Total market attribution is  495.30400270547517\n",
      "Selection market attribution is  -331.24560905166095\n",
      "Total pnl payoff is  1.5874848799316088\n",
      "Total selection payoff is  0.9491744799386655\n",
      "Total pnl hit rate is  0.43470149253731344\n",
      "Total selection hit rate is  0.44216417910447764\n"
     ]
    }
   ],
   "source": [
    "print(\"Total pnl is \",data[\"P&L (bps)\"].sum())\n",
    "print(\"Total market attribution is \",data[\"Market (bps)\"].sum())\n",
    "print(\"Selection market attribution is \",data[\"Selection (bps)\"].sum())\n",
    "\n",
    "print(\"Total pnl payoff is \",-data[\"P&L (bps)\"][data[\"P&L (bps)\"]>0].mean()/data[\"P&L (bps)\"][data[\"P&L (bps)\"]<0].mean())\n",
    "print(\"Total selection payoff is \",-data[\"Selection (bps)\"][data[\"Selection (bps)\"]>0].mean()/data[\"Selection (bps)\"][data[\"Selection (bps)\"]<0].mean())\n",
    "\n",
    "print(\"Total pnl hit rate is \",data[\"P&L (bps)\"][data[\"P&L (bps)\"]>0].shape[0]/data[\"P&L (bps)\"].shape[0])\n",
    "print(\"Total selection hit rate is \",data[\"Selection (bps)\"][data[\"Selection (bps)\"]>0].shape[0]/data[\"Selection (bps)\"].shape[0])\n",
    "\n"
   ]
  },
  {
   "cell_type": "code",
   "execution_count": 46,
   "metadata": {},
   "outputs": [
    {
     "data": {
      "text/plain": [
       "125.67932489451476"
      ]
     },
     "execution_count": 46,
     "metadata": {},
     "output_type": "execute_result"
    }
   ],
   "source": [
    "data[\"holding\"][data[\"Selection (bps)\"]>0].mean()"
   ]
  },
  {
   "cell_type": "code",
   "execution_count": 47,
   "metadata": {},
   "outputs": [
    {
     "data": {
      "text/plain": [
       "125.67932489451476"
      ]
     },
     "execution_count": 47,
     "metadata": {},
     "output_type": "execute_result"
    }
   ],
   "source": [
    "data[\"holding\"][data[\"Selection (bps)\"]>0].mean()"
   ]
  },
  {
   "cell_type": "code",
   "execution_count": null,
   "metadata": {},
   "outputs": [],
   "source": []
  },
  {
   "cell_type": "code",
   "execution_count": null,
   "metadata": {},
   "outputs": [],
   "source": []
  },
  {
   "cell_type": "code",
   "execution_count": null,
   "metadata": {},
   "outputs": [],
   "source": []
  },
  {
   "cell_type": "code",
   "execution_count": 48,
   "metadata": {},
   "outputs": [],
   "source": [
    "hit=pd.pivot_table(main,values=[\"P&L_dummy\",\"Selection_dummy\"],index=['Exposure','holding_bucket'],aggfunc={np.mean,len})"
   ]
  },
  {
   "cell_type": "code",
   "execution_count": 49,
   "metadata": {},
   "outputs": [
    {
     "data": {
      "text/html": [
       "<div>\n",
       "<style scoped>\n",
       "    .dataframe tbody tr th:only-of-type {\n",
       "        vertical-align: middle;\n",
       "    }\n",
       "\n",
       "    .dataframe tbody tr th {\n",
       "        vertical-align: top;\n",
       "    }\n",
       "\n",
       "    .dataframe thead tr th {\n",
       "        text-align: left;\n",
       "    }\n",
       "\n",
       "    .dataframe thead tr:last-of-type th {\n",
       "        text-align: right;\n",
       "    }\n",
       "</style>\n",
       "<table border=\"1\" class=\"dataframe\">\n",
       "  <thead>\n",
       "    <tr>\n",
       "      <th></th>\n",
       "      <th></th>\n",
       "      <th colspan=\"2\" halign=\"left\">P&amp;L_dummy</th>\n",
       "      <th colspan=\"2\" halign=\"left\">Selection_dummy</th>\n",
       "    </tr>\n",
       "    <tr>\n",
       "      <th></th>\n",
       "      <th></th>\n",
       "      <th>len</th>\n",
       "      <th>mean</th>\n",
       "      <th>len</th>\n",
       "      <th>mean</th>\n",
       "    </tr>\n",
       "    <tr>\n",
       "      <th>Exposure</th>\n",
       "      <th>holding_bucket</th>\n",
       "      <th></th>\n",
       "      <th></th>\n",
       "      <th></th>\n",
       "      <th></th>\n",
       "    </tr>\n",
       "  </thead>\n",
       "  <tbody>\n",
       "    <tr>\n",
       "      <th rowspan=\"3\" valign=\"top\">L</th>\n",
       "      <th>Long</th>\n",
       "      <td>459</td>\n",
       "      <td>0.546841</td>\n",
       "      <td>459</td>\n",
       "      <td>0.527233</td>\n",
       "    </tr>\n",
       "    <tr>\n",
       "      <th>Mid</th>\n",
       "      <td>233</td>\n",
       "      <td>0.407725</td>\n",
       "      <td>233</td>\n",
       "      <td>0.360515</td>\n",
       "    </tr>\n",
       "    <tr>\n",
       "      <th>Short</th>\n",
       "      <td>270</td>\n",
       "      <td>0.422222</td>\n",
       "      <td>270</td>\n",
       "      <td>0.159259</td>\n",
       "    </tr>\n",
       "    <tr>\n",
       "      <th>O</th>\n",
       "      <th>Short</th>\n",
       "      <td>2</td>\n",
       "      <td>0.500000</td>\n",
       "      <td>2</td>\n",
       "      <td>0.000000</td>\n",
       "    </tr>\n",
       "    <tr>\n",
       "      <th rowspan=\"3\" valign=\"top\">S</th>\n",
       "      <th>Long</th>\n",
       "      <td>293</td>\n",
       "      <td>0.491468</td>\n",
       "      <td>293</td>\n",
       "      <td>0.529010</td>\n",
       "    </tr>\n",
       "    <tr>\n",
       "      <th>Mid</th>\n",
       "      <td>210</td>\n",
       "      <td>0.442857</td>\n",
       "      <td>210</td>\n",
       "      <td>0.428571</td>\n",
       "    </tr>\n",
       "    <tr>\n",
       "      <th>Short</th>\n",
       "      <td>161</td>\n",
       "      <td>0.322981</td>\n",
       "      <td>161</td>\n",
       "      <td>0.279503</td>\n",
       "    </tr>\n",
       "  </tbody>\n",
       "</table>\n",
       "</div>"
      ],
      "text/plain": [
       "                        P&L_dummy           Selection_dummy          \n",
       "                              len      mean             len      mean\n",
       "Exposure holding_bucket                                              \n",
       "L        Long                 459  0.546841             459  0.527233\n",
       "         Mid                  233  0.407725             233  0.360515\n",
       "         Short                270  0.422222             270  0.159259\n",
       "O        Short                  2  0.500000               2  0.000000\n",
       "S        Long                 293  0.491468             293  0.529010\n",
       "         Mid                  210  0.442857             210  0.428571\n",
       "         Short                161  0.322981             161  0.279503"
      ]
     },
     "execution_count": 49,
     "metadata": {},
     "output_type": "execute_result"
    }
   ],
   "source": [
    "hit"
   ]
  },
  {
   "cell_type": "code",
   "execution_count": 50,
   "metadata": {},
   "outputs": [
    {
     "data": {
      "text/html": [
       "<div>\n",
       "<style scoped>\n",
       "    .dataframe tbody tr th:only-of-type {\n",
       "        vertical-align: middle;\n",
       "    }\n",
       "\n",
       "    .dataframe tbody tr th {\n",
       "        vertical-align: top;\n",
       "    }\n",
       "\n",
       "    .dataframe thead tr th {\n",
       "        text-align: left;\n",
       "    }\n",
       "\n",
       "    .dataframe thead tr:last-of-type th {\n",
       "        text-align: right;\n",
       "    }\n",
       "</style>\n",
       "<table border=\"1\" class=\"dataframe\">\n",
       "  <thead>\n",
       "    <tr>\n",
       "      <th></th>\n",
       "      <th></th>\n",
       "      <th colspan=\"2\" halign=\"left\">P&amp;L_dummy</th>\n",
       "      <th colspan=\"2\" halign=\"left\">Selection_dummy</th>\n",
       "    </tr>\n",
       "    <tr>\n",
       "      <th></th>\n",
       "      <th></th>\n",
       "      <th>len</th>\n",
       "      <th>mean</th>\n",
       "      <th>len</th>\n",
       "      <th>mean</th>\n",
       "    </tr>\n",
       "    <tr>\n",
       "      <th>Exposure</th>\n",
       "      <th>holding_bucket</th>\n",
       "      <th></th>\n",
       "      <th></th>\n",
       "      <th></th>\n",
       "      <th></th>\n",
       "    </tr>\n",
       "  </thead>\n",
       "  <tbody>\n",
       "    <tr>\n",
       "      <th rowspan=\"3\" valign=\"top\">L</th>\n",
       "      <th>Long</th>\n",
       "      <td>459</td>\n",
       "      <td>0.546841</td>\n",
       "      <td>459</td>\n",
       "      <td>0.527233</td>\n",
       "    </tr>\n",
       "    <tr>\n",
       "      <th>Mid</th>\n",
       "      <td>233</td>\n",
       "      <td>0.407725</td>\n",
       "      <td>233</td>\n",
       "      <td>0.360515</td>\n",
       "    </tr>\n",
       "    <tr>\n",
       "      <th>Short</th>\n",
       "      <td>270</td>\n",
       "      <td>0.422222</td>\n",
       "      <td>270</td>\n",
       "      <td>0.159259</td>\n",
       "    </tr>\n",
       "    <tr>\n",
       "      <th>O</th>\n",
       "      <th>Short</th>\n",
       "      <td>2</td>\n",
       "      <td>0.500000</td>\n",
       "      <td>2</td>\n",
       "      <td>0.000000</td>\n",
       "    </tr>\n",
       "    <tr>\n",
       "      <th rowspan=\"3\" valign=\"top\">S</th>\n",
       "      <th>Long</th>\n",
       "      <td>293</td>\n",
       "      <td>0.491468</td>\n",
       "      <td>293</td>\n",
       "      <td>0.529010</td>\n",
       "    </tr>\n",
       "    <tr>\n",
       "      <th>Mid</th>\n",
       "      <td>210</td>\n",
       "      <td>0.442857</td>\n",
       "      <td>210</td>\n",
       "      <td>0.428571</td>\n",
       "    </tr>\n",
       "    <tr>\n",
       "      <th>Short</th>\n",
       "      <td>161</td>\n",
       "      <td>0.322981</td>\n",
       "      <td>161</td>\n",
       "      <td>0.279503</td>\n",
       "    </tr>\n",
       "  </tbody>\n",
       "</table>\n",
       "</div>"
      ],
      "text/plain": [
       "                        P&L_dummy           Selection_dummy          \n",
       "                              len      mean             len      mean\n",
       "Exposure holding_bucket                                              \n",
       "L        Long                 459  0.546841             459  0.527233\n",
       "         Mid                  233  0.407725             233  0.360515\n",
       "         Short                270  0.422222             270  0.159259\n",
       "O        Short                  2  0.500000               2  0.000000\n",
       "S        Long                 293  0.491468             293  0.529010\n",
       "         Mid                  210  0.442857             210  0.428571\n",
       "         Short                161  0.322981             161  0.279503"
      ]
     },
     "execution_count": 50,
     "metadata": {},
     "output_type": "execute_result"
    }
   ],
   "source": [
    "hit"
   ]
  },
  {
   "cell_type": "code",
   "execution_count": null,
   "metadata": {},
   "outputs": [],
   "source": []
  },
  {
   "cell_type": "code",
   "execution_count": 57,
   "metadata": {},
   "outputs": [
    {
     "data": {
      "text/plain": [
       "Index(['Start Date', 'End Date', 'Symbol', 'Exposure', 'Asset Type', 'P&L',\n",
       "       'P&L (bps)', 'Cumulative Return (%', 'Average Position Size',\n",
       "       'Asset Class', 'Sector', 'Geography', 'Market Cap', 'Strategy',\n",
       "       'Analyst Flag', 'Customer', 'DSAM SECTOR VIEW', 'Group',\n",
       "       'Legal Entity Name', 'Region', 'Region and Sector',\n",
       "       'Underlying Cntry Name', 'Novus IDs', 'Minimum Exposure',\n",
       "       'Maximum Exposure', 'Market (bps)', 'Index (bps)', 'Selection (bps)',\n",
       "       'Trading (bps)', 'holding', 'holding_bucket', 'P&L_dummy',\n",
       "       'Selection_dummy', 'Market_dummy', 'Index_dummy', 'Trading_dummy',\n",
       "       'Size_bucket'],\n",
       "      dtype='object')"
      ]
     },
     "execution_count": 57,
     "metadata": {},
     "output_type": "execute_result"
    }
   ],
   "source": [
    "main.columns"
   ]
  },
  {
   "cell_type": "code",
   "execution_count": 73,
   "metadata": {},
   "outputs": [],
   "source": [
    "pnl=pd.pivot_table(main,values=[\"P&L (bps)\",\"Selection (bps)\",\"holding\"],index=['Market Cap','Exposure'],aggfunc={np.mean,len})"
   ]
  },
  {
   "cell_type": "code",
   "execution_count": 172,
   "metadata": {},
   "outputs": [],
   "source": [
    "pnl_2015=pd.pivot_table(main_2015,values=[\"P&L (bps)\",\"Selection (bps)\",\"holding\",\"Average Position Size\"],index=['Size_bucket'],aggfunc={np.mean,len})"
   ]
  },
  {
   "cell_type": "code",
   "execution_count": 175,
   "metadata": {},
   "outputs": [
    {
     "data": {
      "text/html": [
       "<div>\n",
       "<style scoped>\n",
       "    .dataframe tbody tr th:only-of-type {\n",
       "        vertical-align: middle;\n",
       "    }\n",
       "\n",
       "    .dataframe tbody tr th {\n",
       "        vertical-align: top;\n",
       "    }\n",
       "\n",
       "    .dataframe thead tr th {\n",
       "        text-align: left;\n",
       "    }\n",
       "\n",
       "    .dataframe thead tr:last-of-type th {\n",
       "        text-align: right;\n",
       "    }\n",
       "</style>\n",
       "<table border=\"1\" class=\"dataframe\">\n",
       "  <thead>\n",
       "    <tr>\n",
       "      <th></th>\n",
       "      <th colspan=\"2\" halign=\"left\">Average Position Size</th>\n",
       "      <th colspan=\"2\" halign=\"left\">P&amp;L (bps)</th>\n",
       "      <th colspan=\"2\" halign=\"left\">Selection (bps)</th>\n",
       "      <th colspan=\"2\" halign=\"left\">holding</th>\n",
       "    </tr>\n",
       "    <tr>\n",
       "      <th></th>\n",
       "      <th>len</th>\n",
       "      <th>mean</th>\n",
       "      <th>len</th>\n",
       "      <th>mean</th>\n",
       "      <th>len</th>\n",
       "      <th>mean</th>\n",
       "      <th>len</th>\n",
       "      <th>mean</th>\n",
       "    </tr>\n",
       "    <tr>\n",
       "      <th>Size_bucket</th>\n",
       "      <th></th>\n",
       "      <th></th>\n",
       "      <th></th>\n",
       "      <th></th>\n",
       "      <th></th>\n",
       "      <th></th>\n",
       "      <th></th>\n",
       "      <th></th>\n",
       "    </tr>\n",
       "  </thead>\n",
       "  <tbody>\n",
       "    <tr>\n",
       "      <th>Large</th>\n",
       "      <td>212.0</td>\n",
       "      <td>0.930001</td>\n",
       "      <td>212.0</td>\n",
       "      <td>9.882671</td>\n",
       "      <td>212.0</td>\n",
       "      <td>5.706800</td>\n",
       "      <td>212.0</td>\n",
       "      <td>173.778302</td>\n",
       "    </tr>\n",
       "    <tr>\n",
       "      <th>Mid</th>\n",
       "      <td>73.0</td>\n",
       "      <td>0.381814</td>\n",
       "      <td>73.0</td>\n",
       "      <td>-0.112125</td>\n",
       "      <td>73.0</td>\n",
       "      <td>0.245600</td>\n",
       "      <td>73.0</td>\n",
       "      <td>132.273973</td>\n",
       "    </tr>\n",
       "    <tr>\n",
       "      <th>Small</th>\n",
       "      <td>112.0</td>\n",
       "      <td>0.115018</td>\n",
       "      <td>112.0</td>\n",
       "      <td>-0.002223</td>\n",
       "      <td>112.0</td>\n",
       "      <td>-0.077774</td>\n",
       "      <td>112.0</td>\n",
       "      <td>94.125000</td>\n",
       "    </tr>\n",
       "  </tbody>\n",
       "</table>\n",
       "</div>"
      ],
      "text/plain": [
       "            Average Position Size           P&L (bps)            \\\n",
       "                              len      mean       len      mean   \n",
       "Size_bucket                                                       \n",
       "Large                       212.0  0.930001     212.0  9.882671   \n",
       "Mid                          73.0  0.381814      73.0 -0.112125   \n",
       "Small                       112.0  0.115018     112.0 -0.002223   \n",
       "\n",
       "            Selection (bps)           holding              \n",
       "                        len      mean     len        mean  \n",
       "Size_bucket                                                \n",
       "Large                 212.0  5.706800   212.0  173.778302  \n",
       "Mid                    73.0  0.245600    73.0  132.273973  \n",
       "Small                 112.0 -0.077774   112.0   94.125000  "
      ]
     },
     "execution_count": 175,
     "metadata": {},
     "output_type": "execute_result"
    }
   ],
   "source": [
    "pd.pivot_table(main_2017,values=[\"P&L (bps)\",\"Selection (bps)\",\"holding\",\"Average Position Size\"],index=['Size_bucket'],aggfunc={np.mean,len})"
   ]
  },
  {
   "cell_type": "code",
   "execution_count": 173,
   "metadata": {
    "scrolled": true
   },
   "outputs": [
    {
     "data": {
      "text/html": [
       "<div>\n",
       "<style scoped>\n",
       "    .dataframe tbody tr th:only-of-type {\n",
       "        vertical-align: middle;\n",
       "    }\n",
       "\n",
       "    .dataframe tbody tr th {\n",
       "        vertical-align: top;\n",
       "    }\n",
       "\n",
       "    .dataframe thead tr th {\n",
       "        text-align: left;\n",
       "    }\n",
       "\n",
       "    .dataframe thead tr:last-of-type th {\n",
       "        text-align: right;\n",
       "    }\n",
       "</style>\n",
       "<table border=\"1\" class=\"dataframe\">\n",
       "  <thead>\n",
       "    <tr>\n",
       "      <th></th>\n",
       "      <th colspan=\"2\" halign=\"left\">Average Position Size</th>\n",
       "      <th colspan=\"2\" halign=\"left\">P&amp;L (bps)</th>\n",
       "      <th colspan=\"2\" halign=\"left\">Selection (bps)</th>\n",
       "      <th colspan=\"2\" halign=\"left\">holding</th>\n",
       "    </tr>\n",
       "    <tr>\n",
       "      <th></th>\n",
       "      <th>len</th>\n",
       "      <th>mean</th>\n",
       "      <th>len</th>\n",
       "      <th>mean</th>\n",
       "      <th>len</th>\n",
       "      <th>mean</th>\n",
       "      <th>len</th>\n",
       "      <th>mean</th>\n",
       "    </tr>\n",
       "    <tr>\n",
       "      <th>Size_bucket</th>\n",
       "      <th></th>\n",
       "      <th></th>\n",
       "      <th></th>\n",
       "      <th></th>\n",
       "      <th></th>\n",
       "      <th></th>\n",
       "      <th></th>\n",
       "      <th></th>\n",
       "    </tr>\n",
       "  </thead>\n",
       "  <tbody>\n",
       "    <tr>\n",
       "      <th>Large</th>\n",
       "      <td>257.0</td>\n",
       "      <td>0.900875</td>\n",
       "      <td>257.0</td>\n",
       "      <td>6.085049</td>\n",
       "      <td>257.0</td>\n",
       "      <td>3.906677</td>\n",
       "      <td>257.0</td>\n",
       "      <td>132.840467</td>\n",
       "    </tr>\n",
       "    <tr>\n",
       "      <th>Mid</th>\n",
       "      <td>71.0</td>\n",
       "      <td>0.371534</td>\n",
       "      <td>71.0</td>\n",
       "      <td>1.609216</td>\n",
       "      <td>71.0</td>\n",
       "      <td>0.929091</td>\n",
       "      <td>71.0</td>\n",
       "      <td>117.535211</td>\n",
       "    </tr>\n",
       "    <tr>\n",
       "      <th>Small</th>\n",
       "      <td>58.0</td>\n",
       "      <td>0.134688</td>\n",
       "      <td>58.0</td>\n",
       "      <td>-0.458497</td>\n",
       "      <td>58.0</td>\n",
       "      <td>-0.724386</td>\n",
       "      <td>58.0</td>\n",
       "      <td>69.689655</td>\n",
       "    </tr>\n",
       "  </tbody>\n",
       "</table>\n",
       "</div>"
      ],
      "text/plain": [
       "            Average Position Size           P&L (bps)            \\\n",
       "                              len      mean       len      mean   \n",
       "Size_bucket                                                       \n",
       "Large                       257.0  0.900875     257.0  6.085049   \n",
       "Mid                          71.0  0.371534      71.0  1.609216   \n",
       "Small                        58.0  0.134688      58.0 -0.458497   \n",
       "\n",
       "            Selection (bps)           holding              \n",
       "                        len      mean     len        mean  \n",
       "Size_bucket                                                \n",
       "Large                 257.0  3.906677   257.0  132.840467  \n",
       "Mid                    71.0  0.929091    71.0  117.535211  \n",
       "Small                  58.0 -0.724386    58.0   69.689655  "
      ]
     },
     "execution_count": 173,
     "metadata": {},
     "output_type": "execute_result"
    }
   ],
   "source": [
    "pnl_2015"
   ]
  },
  {
   "cell_type": "code",
   "execution_count": 54,
   "metadata": {},
   "outputs": [
    {
     "data": {
      "text/html": [
       "<div>\n",
       "<style scoped>\n",
       "    .dataframe tbody tr th:only-of-type {\n",
       "        vertical-align: middle;\n",
       "    }\n",
       "\n",
       "    .dataframe tbody tr th {\n",
       "        vertical-align: top;\n",
       "    }\n",
       "\n",
       "    .dataframe thead tr th {\n",
       "        text-align: left;\n",
       "    }\n",
       "\n",
       "    .dataframe thead tr:last-of-type th {\n",
       "        text-align: right;\n",
       "    }\n",
       "</style>\n",
       "<table border=\"1\" class=\"dataframe\">\n",
       "  <thead>\n",
       "    <tr>\n",
       "      <th></th>\n",
       "      <th></th>\n",
       "      <th colspan=\"2\" halign=\"left\">P&amp;L (bps)</th>\n",
       "      <th colspan=\"2\" halign=\"left\">Selection (bps)</th>\n",
       "    </tr>\n",
       "    <tr>\n",
       "      <th></th>\n",
       "      <th></th>\n",
       "      <th>len</th>\n",
       "      <th>mean</th>\n",
       "      <th>len</th>\n",
       "      <th>mean</th>\n",
       "    </tr>\n",
       "    <tr>\n",
       "      <th>Exposure</th>\n",
       "      <th>holding_bucket</th>\n",
       "      <th></th>\n",
       "      <th></th>\n",
       "      <th></th>\n",
       "      <th></th>\n",
       "    </tr>\n",
       "  </thead>\n",
       "  <tbody>\n",
       "    <tr>\n",
       "      <th rowspan=\"3\" valign=\"top\">L</th>\n",
       "      <th>Long</th>\n",
       "      <td>459.0</td>\n",
       "      <td>7.824119</td>\n",
       "      <td>459.0</td>\n",
       "      <td>3.816507</td>\n",
       "    </tr>\n",
       "    <tr>\n",
       "      <th>Mid</th>\n",
       "      <td>233.0</td>\n",
       "      <td>-0.856481</td>\n",
       "      <td>233.0</td>\n",
       "      <td>-0.855443</td>\n",
       "    </tr>\n",
       "    <tr>\n",
       "      <th>Short</th>\n",
       "      <td>270.0</td>\n",
       "      <td>-1.005010</td>\n",
       "      <td>270.0</td>\n",
       "      <td>-0.734285</td>\n",
       "    </tr>\n",
       "    <tr>\n",
       "      <th>O</th>\n",
       "      <th>Short</th>\n",
       "      <td>2.0</td>\n",
       "      <td>-1.317168</td>\n",
       "      <td>2.0</td>\n",
       "      <td>0.000000</td>\n",
       "    </tr>\n",
       "    <tr>\n",
       "      <th rowspan=\"3\" valign=\"top\">S</th>\n",
       "      <th>Long</th>\n",
       "      <td>293.0</td>\n",
       "      <td>1.540866</td>\n",
       "      <td>293.0</td>\n",
       "      <td>3.337646</td>\n",
       "    </tr>\n",
       "    <tr>\n",
       "      <th>Mid</th>\n",
       "      <td>210.0</td>\n",
       "      <td>0.111268</td>\n",
       "      <td>210.0</td>\n",
       "      <td>0.369397</td>\n",
       "    </tr>\n",
       "    <tr>\n",
       "      <th>Short</th>\n",
       "      <td>161.0</td>\n",
       "      <td>-0.879914</td>\n",
       "      <td>161.0</td>\n",
       "      <td>-0.683474</td>\n",
       "    </tr>\n",
       "  </tbody>\n",
       "</table>\n",
       "</div>"
      ],
      "text/plain": [
       "                        P&L (bps)           Selection (bps)          \n",
       "                              len      mean             len      mean\n",
       "Exposure holding_bucket                                              \n",
       "L        Long               459.0  7.824119           459.0  3.816507\n",
       "         Mid                233.0 -0.856481           233.0 -0.855443\n",
       "         Short              270.0 -1.005010           270.0 -0.734285\n",
       "O        Short                2.0 -1.317168             2.0  0.000000\n",
       "S        Long               293.0  1.540866           293.0  3.337646\n",
       "         Mid                210.0  0.111268           210.0  0.369397\n",
       "         Short              161.0 -0.879914           161.0 -0.683474"
      ]
     },
     "execution_count": 54,
     "metadata": {},
     "output_type": "execute_result"
    }
   ],
   "source": [
    "pnl"
   ]
  },
  {
   "cell_type": "code",
   "execution_count": 55,
   "metadata": {},
   "outputs": [
    {
     "data": {
      "text/html": [
       "<div>\n",
       "<style scoped>\n",
       "    .dataframe tbody tr th:only-of-type {\n",
       "        vertical-align: middle;\n",
       "    }\n",
       "\n",
       "    .dataframe tbody tr th {\n",
       "        vertical-align: top;\n",
       "    }\n",
       "\n",
       "    .dataframe thead tr th {\n",
       "        text-align: left;\n",
       "    }\n",
       "\n",
       "    .dataframe thead tr:last-of-type th {\n",
       "        text-align: right;\n",
       "    }\n",
       "</style>\n",
       "<table border=\"1\" class=\"dataframe\">\n",
       "  <thead>\n",
       "    <tr>\n",
       "      <th></th>\n",
       "      <th></th>\n",
       "      <th colspan=\"2\" halign=\"left\">P&amp;L (bps)</th>\n",
       "      <th colspan=\"2\" halign=\"left\">Selection (bps)</th>\n",
       "    </tr>\n",
       "    <tr>\n",
       "      <th></th>\n",
       "      <th></th>\n",
       "      <th>len</th>\n",
       "      <th>mean</th>\n",
       "      <th>len</th>\n",
       "      <th>mean</th>\n",
       "    </tr>\n",
       "    <tr>\n",
       "      <th>Exposure</th>\n",
       "      <th>holding_bucket</th>\n",
       "      <th></th>\n",
       "      <th></th>\n",
       "      <th></th>\n",
       "      <th></th>\n",
       "    </tr>\n",
       "  </thead>\n",
       "  <tbody>\n",
       "    <tr>\n",
       "      <th rowspan=\"3\" valign=\"top\">L</th>\n",
       "      <th>Long</th>\n",
       "      <td>459.0</td>\n",
       "      <td>7.824119</td>\n",
       "      <td>459.0</td>\n",
       "      <td>3.816507</td>\n",
       "    </tr>\n",
       "    <tr>\n",
       "      <th>Mid</th>\n",
       "      <td>233.0</td>\n",
       "      <td>-0.856481</td>\n",
       "      <td>233.0</td>\n",
       "      <td>-0.855443</td>\n",
       "    </tr>\n",
       "    <tr>\n",
       "      <th>Short</th>\n",
       "      <td>270.0</td>\n",
       "      <td>-1.005010</td>\n",
       "      <td>270.0</td>\n",
       "      <td>-0.734285</td>\n",
       "    </tr>\n",
       "    <tr>\n",
       "      <th>O</th>\n",
       "      <th>Short</th>\n",
       "      <td>2.0</td>\n",
       "      <td>-1.317168</td>\n",
       "      <td>2.0</td>\n",
       "      <td>0.000000</td>\n",
       "    </tr>\n",
       "    <tr>\n",
       "      <th rowspan=\"3\" valign=\"top\">S</th>\n",
       "      <th>Long</th>\n",
       "      <td>293.0</td>\n",
       "      <td>1.540866</td>\n",
       "      <td>293.0</td>\n",
       "      <td>3.337646</td>\n",
       "    </tr>\n",
       "    <tr>\n",
       "      <th>Mid</th>\n",
       "      <td>210.0</td>\n",
       "      <td>0.111268</td>\n",
       "      <td>210.0</td>\n",
       "      <td>0.369397</td>\n",
       "    </tr>\n",
       "    <tr>\n",
       "      <th>Short</th>\n",
       "      <td>161.0</td>\n",
       "      <td>-0.879914</td>\n",
       "      <td>161.0</td>\n",
       "      <td>-0.683474</td>\n",
       "    </tr>\n",
       "  </tbody>\n",
       "</table>\n",
       "</div>"
      ],
      "text/plain": [
       "                        P&L (bps)           Selection (bps)          \n",
       "                              len      mean             len      mean\n",
       "Exposure holding_bucket                                              \n",
       "L        Long               459.0  7.824119           459.0  3.816507\n",
       "         Mid                233.0 -0.856481           233.0 -0.855443\n",
       "         Short              270.0 -1.005010           270.0 -0.734285\n",
       "O        Short                2.0 -1.317168             2.0  0.000000\n",
       "S        Long               293.0  1.540866           293.0  3.337646\n",
       "         Mid                210.0  0.111268           210.0  0.369397\n",
       "         Short              161.0 -0.879914           161.0 -0.683474"
      ]
     },
     "execution_count": 55,
     "metadata": {},
     "output_type": "execute_result"
    }
   ],
   "source": [
    "pnl"
   ]
  },
  {
   "cell_type": "code",
   "execution_count": null,
   "metadata": {},
   "outputs": [],
   "source": []
  },
  {
   "cell_type": "code",
   "execution_count": null,
   "metadata": {},
   "outputs": [],
   "source": []
  }
 ],
 "metadata": {
  "kernelspec": {
   "display_name": "Python 3",
   "language": "python",
   "name": "python3"
  },
  "language_info": {
   "codemirror_mode": {
    "name": "ipython",
    "version": 3
   },
   "file_extension": ".py",
   "mimetype": "text/x-python",
   "name": "python",
   "nbconvert_exporter": "python",
   "pygments_lexer": "ipython3",
   "version": "3.7.3"
  }
 },
 "nbformat": 4,
 "nbformat_minor": 2
}
