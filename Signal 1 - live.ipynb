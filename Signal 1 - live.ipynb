{
 "cells": [
  {
   "cell_type": "markdown",
   "metadata": {},
   "source": [
    "# Day1 signal\n",
    "\n",
    "The starting point for the post result project\n",
    "\n",
    "**Index**\n",
    "- Packages\n",
    "- Data acquisition\n",
    "- Utility functions\n",
    "    - General helper\n",
    "    - Signal functions\n",
    "    - Performance utility functions\n",
    "- Average return trajectory for short\n",
    "- Account curve for long\n",
    "    - Variations including time periods, entry point, question around earning, stop loss, moving average, high, size, country, sector, PE, market correlation\n",
    "    - Possible combinations of signal building blocks\n",
    "    - US vs Europe\n",
    "- Average return trajectory for short\n",
    "- Account curve for short\n",
    "    - Same logic\n",
    "- Build a portfolio\n"
   ]
  },
  {
   "cell_type": "markdown",
   "metadata": {},
   "source": [
    "## 1 - Packages import"
   ]
  },
  {
   "cell_type": "code",
   "execution_count": 70,
   "metadata": {},
   "outputs": [],
   "source": [
    "import pandas as pd\n",
    "import numpy as np\n",
    "from datetime import datetime\n",
    "import matplotlib.pyplot as plt\n",
    "from scipy import stats\n",
    "from textwrap import wrap\n",
    "import seaborn as sns\n",
    "from sklearn import linear_model\n",
    "from sklearn.model_selection import train_test_split\n",
    "from sklearn.metrics import r2_score\n",
    "\n",
    "\n",
    "%matplotlib inline"
   ]
  },
  {
   "cell_type": "markdown",
   "metadata": {},
   "source": [
    "## 2 - Data acquisition\n",
    "\n",
    "Store the data in excel and extract them from following functions\n",
    "- Fundamental data including revision, market cap, volume, PE, sector\n",
    "- Absolute price, relative price, absolute return, relative return"
   ]
  },
  {
   "cell_type": "code",
   "execution_count": 71,
   "metadata": {},
   "outputs": [],
   "source": [
    "#initial cleaning function\n",
    "def clean_sheet(dataframe):\n",
    "    adj=dataframe.dropna(axis=1,how='all')\n",
    "    adj=dataframe.set_index(adj.columns[0]) #use stock tickers as the index\n",
    "    return adj"
   ]
  },
  {
   "cell_type": "code",
   "execution_count": 72,
   "metadata": {},
   "outputs": [],
   "source": [
    "#pull the data from excel, form a dictionary of tab names and dataframes\n",
    "tabs_to_grab=['Quarter','Date','Revision','Market cap','Volume','PE','PE premium','Property']\n",
    "\n",
    "# Europe\n",
    "data_dict_Europe={}\n",
    "\n",
    "for s in tabs_to_grab:\n",
    "    df=clean_sheet(pd.read_excel(r'C:\\Users\\Eric.Li\\Documents\\Post result data\\Europe reference.xlsx',sheet_name=s))\n",
    "    data_dict_Europe[s]=df\n",
    "    \n",
    "# select the right universe for Europe\n",
    "universe_evaluate_Europe=(data_dict_Europe[\"Market cap\"]>500)&(data_dict_Europe[\"Volume\"]>3)\n",
    "data_dict_Europe[\"Revision\"]=data_dict_Europe[\"Revision\"][universe_evaluate_Europe]\n",
    "#data_dict_Europe[\"Date\"]=data_dict_Europe[\"Date\"][universe_evaluate_Europe]\n",
    "data_dict_Europe[\"Market cap\"]=data_dict_Europe[\"Market cap\"][data_dict_Europe[\"Market cap\"]>500]"
   ]
  },
  {
   "cell_type": "code",
   "execution_count": 85,
   "metadata": {},
   "outputs": [],
   "source": [
    "#pull the data from excel, form a dictionary of tab names and dataframes\n",
    "tabs_US=['Quarter','Date','Revision','Market cap','Volume','PE','PE premium','Property']\n",
    "\n",
    "# Europe\n",
    "data_dict_US={}\n",
    "\n",
    "for s in tabs_US:\n",
    "    df=clean_sheet(pd.read_excel(r'C:\\Users\\Eric.Li\\Documents\\Post result data\\US reference.xlsx',sheet_name=s))\n",
    "    data_dict_US[s]=df\n",
    "    \n",
    "# select the right universe for Europe\n",
    "universe_evaluate_US=(data_dict_US[\"Market cap\"]>500)&(data_dict_US[\"Volume\"]>3)\n",
    "data_dict_US[\"Revision\"]=data_dict_US[\"Revision\"][universe_evaluate_US]\n",
    "#data_dict_Europe[\"Date\"]=data_dict_Europe[\"Date\"][universe_evaluate_Europe]\n",
    "data_dict_US[\"Market cap\"]=data_dict_US[\"Market cap\"][data_dict_US[\"Market cap\"]>500]"
   ]
  },
  {
   "cell_type": "code",
   "execution_count": 154,
   "metadata": {},
   "outputs": [],
   "source": [
    "tabs_Asia=['Quarter','Date','Revision','Market cap','Volume','PE','PE premium','Property','Mapping']\n",
    "\n",
    "# Asia\n",
    "data_dict_Asia={}\n",
    "\n",
    "for s in tabs_Asia:\n",
    "    df=clean_sheet(pd.read_excel(r'C:\\Users\\Eric.Li\\Documents\\Post result data\\Asia reference.xlsx',sheet_name=s))\n",
    "    country=df.apply(lambda x:x.name[-2:] if type(x.name)==str else 0,axis=1)\n",
    "    data_dict_Asia[s]=df\n",
    "\n",
    "# select the right universe for Asia\n",
    "universe_evaluate_Asia=(data_dict_Asia[\"Market cap\"]>500)&(data_dict_Asia[\"Volume\"]>3)\n",
    "data_dict_Asia[\"Revision\"]=data_dict_Asia[\"Revision\"][universe_evaluate_Asia]\n",
    "data_dict_Asia[\"Market cap\"]=data_dict_Asia[\"Market cap\"][data_dict_Asia[\"Market cap\"]>500]"
   ]
  },
  {
   "cell_type": "code",
   "execution_count": 150,
   "metadata": {},
   "outputs": [],
   "source": [
    "# get the price dataframe for certain years; form the price and return datetime from the data from all the years \n",
    "def price_from_excel(path, start_year,end_year):\n",
    "    \n",
    "    year_range=range(start_year,end_year+1)\n",
    "\n",
    "    price_list=[]\n",
    "\n",
    "    for year in year_range:\n",
    "        price_year=clean_sheet(pd.read_excel(path,sheet_name=str(year))).dropna(how='all',axis=0)\n",
    "        price_list.append(price_year)\n",
    "\n",
    "    price=pd.concat(price_list,axis=1).dropna(axis=1,how='all').dropna(axis=0,how='all')\n",
    "\n",
    "    # transform the datetime to the common timestamp format\n",
    "    price_column=[i.strftime(\"%d/%b/%Y\") for i in price.columns.tolist() if type(i)!=str]\n",
    "    price.columns=price_column\n",
    "    \n",
    "    return price"
   ]
  },
  {
   "cell_type": "code",
   "execution_count": 91,
   "metadata": {},
   "outputs": [],
   "source": [
    "# get price_df\n",
    "price_Europe=price_from_excel(r'C:\\Users\\Eric.Li\\Documents\\Post result data\\Europe price reference.xlsx',2017,2018)\n",
    "price_US=price_from_excel(r'C:\\Users\\Eric.Li\\Documents\\Post result data\\US price reference.xlsx',2017,2018)\n"
   ]
  },
  {
   "cell_type": "code",
   "execution_count": 151,
   "metadata": {},
   "outputs": [],
   "source": [
    "price_Asia=price_from_excel(r'C:\\Users\\Eric.Li\\Documents\\Post result data\\Asia price reference.xlsx',2017,2018)"
   ]
  },
  {
   "cell_type": "code",
   "execution_count": null,
   "metadata": {},
   "outputs": [],
   "source": [
    "def get_return(price_df,benchmark,sector_df):\n",
    "    rel_price=price_df/price_df.loc[benchmark]\n",
    "    rel_price=rel_price.dropna(how='all',axis=0)\n",
    "    abs_return=price_df.diff(1,axis=1)/price_df.shift(1,axis=1)\n",
    "    abs_return=abs_return.dropna(how='all',axis=0)\n",
    "    rel_return=abs_return - abs_return.loc[benchmark]\n",
    "    rel_return=rel_return.dropna(how='all',axis=0)\n",
    "    #rel_return_sector=abs_return.dropna(axis=0,how='all').apply(lambda x: x-abs_return.loc[sector_df.loc[x.name].Index] if x.name[-2:]!='CN' and x.name[-3:-2]==' ' and not pd.isnull(sector_df.loc[x.name].Index) else x,axis=1)\n",
    "    #abs_open_ret=open_price/price_df.shift(1,axis=1)-1\n",
    "    #rel_open_ret=abs_open_ret-abs_open_ret.loc[benchmark]\n",
    "    return rel_price,abs_return,rel_return"
   ]
  },
  {
   "cell_type": "code",
   "execution_count": 95,
   "metadata": {},
   "outputs": [],
   "source": [
    "def get_return_Asia(price_df,mapping_df):\n",
    "    abs_return=price_df.diff(1,axis=1)/price_df.shift(1,axis=1)\n",
    "    abs_return=abs_return.dropna(how='all',axis=0)\n",
    "    stock_return=abs_return.copy()\n",
    "    stock_return[\"country\"]=stock_return.apply(lambda x:x.name[-2:],axis=1)\n",
    "    stock_return=stock_return[(stock_return[\"country\"]!='ex')&(stock_return[\"country\"]!='IN')]\n",
    "    stock_return[\"Index\"]=stock_return[\"country\"].apply(lambda x: mapping_df.loc[x].iloc[0]).values\n",
    "    benchmark_return=stock_return.apply(lambda x:abs_return.loc[x.Index],axis=1)\n",
    "    rel_return=stock_return.iloc[:,:-2] - benchmark_return\n",
    "    rel_return=rel_return.dropna(how='all',axis=0)\n",
    "    return abs_return,rel_return,benchmark_return"
   ]
  },
  {
   "cell_type": "code",
   "execution_count": 92,
   "metadata": {},
   "outputs": [],
   "source": [
    "# get return dfs\n",
    "rel_price_Europe,abs_return_Europe,rel_return_Europe=get_return(price_Europe,'SX5E Index',data_dict_Europe[\"Property\"])\n",
    "rel_price_US,abs_return_US,rel_return_US=get_return(price_US,'SPX Index',data_dict_US[\"Property\"])"
   ]
  },
  {
   "cell_type": "code",
   "execution_count": 153,
   "metadata": {},
   "outputs": [],
   "source": [
    "# get return dfs\n",
    "abs_return_Asia,rel_return_Asia,benchmark_return_Asia=get_return_Asia(price_Asia,data_dict_Asia[\"Mapping\"])"
   ]
  },
  {
   "cell_type": "code",
   "execution_count": null,
   "metadata": {},
   "outputs": [],
   "source": []
  },
  {
   "cell_type": "markdown",
   "metadata": {},
   "source": [
    "## 3 - Utility functions\n",
    "\n",
    "Collect all the utility functions in one place"
   ]
  },
  {
   "cell_type": "markdown",
   "metadata": {},
   "source": [
    "### 3.1 General helper functions\n",
    "- Calculation incl. nmove, vol, sector, market cap, EAR\n",
    "- AUTOR, MA"
   ]
  },
  {
   "cell_type": "code",
   "execution_count": 97,
   "metadata": {},
   "outputs": [],
   "source": [
    "# utility function to obtain announcement return (as a multiplier of vol) as a result of day 0 and return dataframe\n",
    "def EAR_calc(ticker,date,return_df,EAR_period,vol_lookback):\n",
    "    if type(date)==pd._libs.tslib.NaTType:\n",
    "        return None\n",
    "    elif type(date)==pd._libs.tslib.Timestamp:\n",
    "        date=date.strftime(\"%d/%b/%Y\")\n",
    "    elif type(date)==str:\n",
    "        date=date\n",
    "    return_series=return_df.loc[ticker].dropna()\n",
    "    date_series=return_series.index.tolist()\n",
    "    if date in date_series:\n",
    "        day0=date_series.index(date)\n",
    "        post_series=return_series.iloc[day0:]\n",
    "        pre_series=return_series.iloc[:day0]\n",
    "        vol= return_series.iloc[day0-min(len(pre_series),vol_lookback+1):day0].std()\n",
    "        ret=(return_series.iloc[day0:day0+EAR_period]+1).prod()-1\n",
    "        nmove=ret/vol\n",
    "        return nmove\n",
    "    else:\n",
    "        return None"
   ]
  },
  {
   "cell_type": "code",
   "execution_count": 98,
   "metadata": {},
   "outputs": [],
   "source": [
    "# obtain the announcement return dataframe from price return and date dataframe\n",
    "def EAR_df(date_df,return_df,EAR_period,vol_lookback):\n",
    "    EAR_list=[]\n",
    "    for ticker, date_row in date_df.iterrows():\n",
    "        if type(ticker)==str: #deal with None\n",
    "            ret_series=date_row.apply(lambda x: EAR_calc(ticker,x,return_df,EAR_period,vol_lookback))\n",
    "            EAR_list.append(ret_series)\n",
    "        else:\n",
    "            pass\n",
    "    EAR_df=pd.concat(EAR_list,axis=1).T\n",
    "    return EAR_df"
   ]
  },
  {
   "cell_type": "code",
   "execution_count": 99,
   "metadata": {},
   "outputs": [],
   "source": [
    "## function to grab volume\n",
    "def get_volume(ticker,date,volume_df,date_df):\n",
    "    date_series=date_df.loc[ticker]\n",
    "    volume_series=volume_df.loc[ticker]\n",
    "    if type(date)==pd._libs.tslib.Timestamp:\n",
    "        timestamp=date\n",
    "    elif type(date)==str:\n",
    "        timestamp=pd.Timestamp(datetime.strptime(date,\"%d/%b/%Y\").year,\n",
    "                               datetime.strptime(date,\"%d/%b/%Y\").month,\n",
    "                               datetime.strptime(date,\"%d/%b/%Y\").day)\n",
    "    else:\n",
    "        return None\n",
    "    try:\n",
    "        location=date_series.tolist().index(timestamp)\n",
    "        volume=volume_series.iloc[location]\n",
    "        return volume\n",
    "    except ValueError:\n",
    "        return None"
   ]
  },
  {
   "cell_type": "code",
   "execution_count": 100,
   "metadata": {},
   "outputs": [],
   "source": [
    "# utility function to obtain the gap\n",
    "def gap_calc(ticker,date,open_ret,return_df,vol_lookback):\n",
    "    if type(date)==pd._libs.tslib.NaTType:\n",
    "        return None\n",
    "    elif type(date)==pd._libs.tslib.Timestamp:\n",
    "        date=date.strftime(\"%d/%b/%Y\")\n",
    "    elif type(date)==str:\n",
    "        date=date\n",
    "    open_ret_series=open_ret.loc[ticker].dropna()\n",
    "    return_series=return_df.loc[ticker].dropna()\n",
    "    date_series=open_ret_series.index.tolist()\n",
    "    if date in date_series:\n",
    "        day0=date_series.index(date)\n",
    "        pre_series=return_series.iloc[:day0]\n",
    "        vol= return_series.iloc[day0-min(len(pre_series),vol_lookback+1):day0].std()\n",
    "        ret=open_ret_series.iloc[day0]\n",
    "        nmove=ret/vol     \n",
    "        return nmove\n",
    "    else:\n",
    "        return None"
   ]
  },
  {
   "cell_type": "code",
   "execution_count": 101,
   "metadata": {},
   "outputs": [],
   "source": [
    "# obtain the announcement return dataframe from price return and date dataframe\n",
    "def gap_df(date_df,open_ret,return_df,vol_lookback):\n",
    "    gap_list=[]\n",
    "    for ticker, date_row in date_df.iterrows():\n",
    "        if type(ticker)==str: #deal with None\n",
    "            gap_series=date_row.apply(lambda x: gap_calc(ticker,x,open_ret,return_df,vol_lookback))\n",
    "            gap_list.append(gap_series)\n",
    "        else:\n",
    "            pass\n",
    "    gap_df=pd.concat(gap_list,axis=1).T\n",
    "    return gap_df"
   ]
  },
  {
   "cell_type": "code",
   "execution_count": 102,
   "metadata": {},
   "outputs": [],
   "source": [
    "## function to grab market cap\n",
    "def get_market_cap(ticker,date,market_cap_df,date_df):\n",
    "    date_series=date_df.loc[ticker]\n",
    "    size_series=market_cap_df.loc[ticker]\n",
    "    if type(date)==pd._libs.tslib.Timestamp:\n",
    "        timestamp=date\n",
    "    elif type(date)==str:\n",
    "        timestamp=pd.Timestamp(datetime.strptime(date,\"%d/%b/%Y\").year,\n",
    "                               datetime.strptime(date,\"%d/%b/%Y\").month,\n",
    "                               datetime.strptime(date,\"%d/%b/%Y\").day)\n",
    "    else:\n",
    "        return None\n",
    "    try:\n",
    "        location=date_series.tolist().index(timestamp)\n",
    "        size=size_series.iloc[location]\n",
    "        return size\n",
    "    except ValueError:\n",
    "        return None"
   ]
  },
  {
   "cell_type": "code",
   "execution_count": 103,
   "metadata": {},
   "outputs": [],
   "source": [
    "## function to grab earning revision\n",
    "def get_revision(ticker,date,revision_df,date_df):\n",
    "    date_series=date_df.loc[ticker]\n",
    "    revision_series=revision_df.loc[ticker]\n",
    "    if type(date)==pd._libs.tslib.Timestamp:\n",
    "        timestamp=date\n",
    "    elif type(date)==str:\n",
    "        timestamp=pd.Timestamp(datetime.strptime(date,\"%d/%b/%Y\").year,\n",
    "                               datetime.strptime(date,\"%d/%b/%Y\").month,\n",
    "                               datetime.strptime(date,\"%d/%b/%Y\").day)\n",
    "    else:\n",
    "        return None\n",
    "    try:\n",
    "        location=date_series.tolist().index(timestamp)\n",
    "        revision=revision_series.iloc[location]\n",
    "        return revision\n",
    "    except ValueError:\n",
    "        return None"
   ]
  },
  {
   "cell_type": "code",
   "execution_count": 104,
   "metadata": {},
   "outputs": [],
   "source": [
    "# RSI\n",
    "def RSI(ticker,date,return_df,look_back):\n",
    "    if type(date)==pd._libs.tslib.Timestamp:\n",
    "        date=datetime.strptime(date,\"%d/%b/%Y\")\n",
    "    else:\n",
    "        date=date\n",
    "    try:\n",
    "        price_series=return_df.loc[ticker]\n",
    "        pos=price_series.index.tolist().index(date)\n",
    "        target_series=price_series[pos-min(look_back, pos)+1:pos+1]\n",
    "        up=target_series[target_series>0]\n",
    "        down=target_series[target_series<0]\n",
    "        if len(up)==0:\n",
    "            return 0\n",
    "        elif len(down)==0:\n",
    "            return 1\n",
    "        else:\n",
    "            RS=-up.mean()/down.mean()\n",
    "            RSI=100-100/(1+RS)\n",
    "            return RSI\n",
    "    except ValueError:\n",
    "        return None"
   ]
  },
  {
   "cell_type": "code",
   "execution_count": 105,
   "metadata": {},
   "outputs": [],
   "source": [
    "## function to grab PE\n",
    "def get_PE(ticker,date,PE_df,date_df):\n",
    "    date_series=date_df.loc[ticker]\n",
    "    PE_series=PE_df.loc[ticker]\n",
    "    if type(date)==pd._libs.tslib.Timestamp:\n",
    "        timestamp=date\n",
    "    elif type(date)==str:\n",
    "        timestamp=pd.Timestamp(datetime.strptime(date,\"%d/%b/%Y\").year,\n",
    "                               datetime.strptime(date,\"%d/%b/%Y\").month,\n",
    "                               datetime.strptime(date,\"%d/%b/%Y\").day)\n",
    "    else:\n",
    "        return None\n",
    "    try:\n",
    "        location=date_series.tolist().index(timestamp)\n",
    "        PE=PE_series.iloc[location]\n",
    "        return PE\n",
    "    except ValueError:\n",
    "        return None"
   ]
  },
  {
   "cell_type": "code",
   "execution_count": 106,
   "metadata": {},
   "outputs": [],
   "source": [
    "## function to grab PE premium\n",
    "def get_PE_premium(ticker,date,PE_premium_df,date_df):\n",
    "    date_series=date_df.loc[ticker]\n",
    "    PE_premium_series=PE_premium_df.loc[ticker]\n",
    "    if type(date)==pd._libs.tslib.Timestamp:\n",
    "        timestamp=date\n",
    "    elif type(date)==str:\n",
    "        timestamp=pd.Timestamp(datetime.strptime(date,\"%d/%b/%Y\").year,\n",
    "                               datetime.strptime(date,\"%d/%b/%Y\").month,\n",
    "                               datetime.strptime(date,\"%d/%b/%Y\").day)\n",
    "    else:\n",
    "        return None\n",
    "    try:\n",
    "        location=date_series.tolist().index(timestamp)\n",
    "        PE_premium=PE_premium_series.iloc[location]\n",
    "        return PE_premium\n",
    "    except ValueError:\n",
    "        return None"
   ]
  },
  {
   "cell_type": "code",
   "execution_count": 107,
   "metadata": {},
   "outputs": [],
   "source": [
    "# AUTOR score and slope\n",
    "def AUTOR(ticker,date,look_back,price_df,rel_index):\n",
    "    if type(date)==pd._libs.tslib.Timestamp:\n",
    "        date=datetime.strptime(date,\"%d/%b/%Y\")\n",
    "    else:\n",
    "        date=date\n",
    "    \n",
    "    if rel_index==None:\n",
    "        price_series=price_df.loc[ticker]\n",
    "    else:\n",
    "        price_series=price_df.loc[ticker]/price_df.loc[rel_index]\n",
    "        \n",
    "    try:\n",
    "        pos=price_series.index.tolist().index(date)\n",
    "        target_series=price_series[pos-min(look_back, pos)+1:pos+1]\n",
    "\n",
    "        regr=linear_model.LinearRegression()\n",
    "        x_train=np.asarray([x+1 for x in range(min(look_back, pos))]).reshape(-1,1)\n",
    "        y_train=target_series.values.reshape(-1,1)\n",
    "        regr.fit(x_train,y_train)  \n",
    "        slope=regr.coef_\n",
    "        error=y_train-regr.predict(x_train)\n",
    "        std_err=np.std(error)\n",
    "        score=error[-1]/std_err\n",
    "        return score[0], slope[0][0]\n",
    "    except ValueError:\n",
    "        return (None,None)"
   ]
  },
  {
   "cell_type": "code",
   "execution_count": 108,
   "metadata": {},
   "outputs": [],
   "source": [
    "# MA score \n",
    "def MA(ticker,date,look_back,price_df,rel_index):\n",
    "    if type(date)==pd._libs.tslib.Timestamp:\n",
    "        date=datetime.strptime(date,\"%d/%b/%Y\")\n",
    "    else:\n",
    "        pass\n",
    "    \n",
    "    if rel_index==None:\n",
    "        price_series=price_df.loc[ticker]\n",
    "    else:\n",
    "        price_series=price_df.loc[ticker]/price_df.loc[rel_index]\n",
    "        \n",
    "    try:\n",
    "        pos=price_series.index.tolist().index(date)\n",
    "        MA=price_series.rolling(look_back,min_periods=1).mean()\n",
    "\n",
    "        target_MA=MA[pos-min(look_back, pos)+1:pos+1]\n",
    "        target_series=price_series[pos-min(look_back, pos)+1:pos+1]\n",
    "        if (len(target_MA.dropna())==0)|(len(target_series.dropna())==0):\n",
    "            return (None,None)\n",
    "        else:\n",
    "            MA_score=(target_series.iloc[-1]/target_MA.iloc[-1]-1)/(target_series.diff(1)/target_series.shift(1)).std()\n",
    "            slope=(target_MA.iloc[-1]-target_MA.iloc[0])/min(look_back, pos+1)\n",
    "            return MA_score,slope \n",
    "    except ValueError:\n",
    "        return (None,None)"
   ]
  },
  {
   "cell_type": "code",
   "execution_count": 109,
   "metadata": {},
   "outputs": [],
   "source": [
    "# MA score \n",
    "def MA_distance(ticker,date,look_back,price_df,rel_index):\n",
    "    if type(date)==pd._libs.tslib.Timestamp:\n",
    "        date=datetime.strptime(date,\"%d/%b/%Y\")\n",
    "    else:\n",
    "        pass\n",
    "    \n",
    "    if rel_index==None:\n",
    "        price_series=price_df.loc[ticker]\n",
    "    else:\n",
    "        price_series=price_df.loc[ticker]/price_df.loc[rel_index]\n",
    "        \n",
    "    try:\n",
    "        pos=price_series.index.tolist().index(date)\n",
    "        MA=price_series.rolling(look_back,min_periods=1).mean()\n",
    "\n",
    "        target_MA=MA[pos-min(look_back, pos)+1:pos+1]\n",
    "        target_series=price_series[pos-min(look_back, pos)+1:pos+1]\n",
    "        if (len(target_MA.dropna())==0)|(len(target_series.dropna())==0):\n",
    "            return (None,None)\n",
    "        else:\n",
    "            MA_score=target_series.iloc[-1]/target_MA.iloc[-1]-1\n",
    "            slope=(target_MA.iloc[-1]-target_MA.iloc[0])/min(look_back, pos+1)\n",
    "            return MA_score,slope \n",
    "    except ValueError:\n",
    "        return (None,None)"
   ]
  },
  {
   "cell_type": "code",
   "execution_count": 110,
   "metadata": {},
   "outputs": [],
   "source": [
    "def get_high_position(ticker,date,price_df,lookback):\n",
    "    price_series=price_df.loc[ticker]\n",
    "    if type(date)==pd._libs.tslib.Timestamp:\n",
    "        timestamp=date.strftime(\"%d/%b/%Y\")\n",
    "    elif type(date)==str:\n",
    "        timestamp=date\n",
    "    else:\n",
    "        return None\n",
    "    try:\n",
    "        location=price_series.index.tolist().index(timestamp)\n",
    "        price_range=price_series[location-min(lookback-1,len(price_series[:location])):location+1]\n",
    "        high=price_range.max()\n",
    "        low=price_range.min()\n",
    "        spot=price_range[-1]\n",
    "        target_range=(spot-low)/(high-low)\n",
    "        return target_range\n",
    "    except ValueError:\n",
    "        return None    "
   ]
  },
  {
   "cell_type": "code",
   "execution_count": 111,
   "metadata": {},
   "outputs": [],
   "source": [
    "## sector mapping and unique sector list, add the sector column to the signal\n",
    "def sector_mapping(ticker,mapping_df):\n",
    "    mapping=mapping_df.dropna()\n",
    "    if ticker in mapping.index:\n",
    "        sector=mapping[ticker]\n",
    "    else:\n",
    "        sector=None\n",
    "    return sector"
   ]
  },
  {
   "cell_type": "markdown",
   "metadata": {},
   "source": [
    "### 3.2 - Signal 1 functions\n",
    "- Signal 1 by day and date\n",
    "- Account curve formation\n",
    "- Signal filter functions"
   ]
  },
  {
   "cell_type": "code",
   "execution_count": 112,
   "metadata": {},
   "outputs": [],
   "source": [
    "#signal formation (number 1) and use the date as the base dataframe\n",
    "def signal1_formation(date_df,return_for_signal,EAR_period,EAR_low,EAR_high,revision_df,revision_low,revision_high,open_ret,gap_low,gap_high):\n",
    "    EAR_return=EAR_df(date_df,return_for_signal,EAR_period,30).fillna(0.0).reindex(revision_df.index.tolist())\n",
    "    gap=gap_df(date_df, open_ret, return_for_signal, 30).fillna(0.0).reindex(revision_df.index.tolist())\n",
    "    signal1_evaluate=(EAR_return>EAR_low)&(EAR_return<EAR_high)&(gap>gap_low)&(gap<gap_high) & (revision_df>revision_low)& (revision_df<revision_high)\n",
    "    signal1=date_df[signal1_evaluate]\n",
    "    signal1_next=date_df.shift(1,axis=1)[signal1_evaluate]\n",
    "    return signal1,signal1_next"
   ]
  },
  {
   "cell_type": "code",
   "execution_count": 113,
   "metadata": {},
   "outputs": [],
   "source": [
    "#Stack signals into a list of tuples (stocks, dates,next earnign dates, next signal dates), convert dates into a common format of datetime\n",
    "def signal1_stacking(signal1,signal1_next):\n",
    "    signal1_list=[]\n",
    "    for ticker, row in signal1.iterrows():\n",
    "        adj_row=row.dropna()\n",
    "        if len(adj_row)!=0:\n",
    "            for idx in range(len(row)):\n",
    "                date=row.iloc[idx]\n",
    "                date_next=signal1_next.loc[ticker].iloc[idx]\n",
    "                if type(date)==pd._libs.tslib.Timestamp:\n",
    "                    adj_date=date.strftime(\"%d/%b/%Y\") #transform the datetime into a common format\n",
    "                    loc_date=adj_row.tolist().index(date)\n",
    "                    if (loc_date>0)&(len(adj_row)>0):\n",
    "                        next_signal=adj_row.iloc[loc_date-1].strftime(\"%d/%b/%Y\")\n",
    "                        if type(date_next)==pd._libs.tslib.Timestamp:\n",
    "                            adj_next_date=date_next.strftime(\"%d/%b/%Y\") \n",
    "                        else:\n",
    "                            adj_next_date=None\n",
    "                    elif type(date_next)==pd._libs.tslib.Timestamp:\n",
    "                        next_signal=None\n",
    "                        adj_next_date=date_next.strftime(\"%d/%b/%Y\") \n",
    "                    else:\n",
    "                        next_signal=None\n",
    "                        adj_next_date=None                \n",
    "                    signal1_list.append((row.name,adj_date,adj_next_date,next_signal))\n",
    "                else:\n",
    "                    pass\n",
    "        else:\n",
    "            pass\n",
    "    return signal1_list"
   ]
  },
  {
   "cell_type": "code",
   "execution_count": 114,
   "metadata": {},
   "outputs": [],
   "source": [
    "# create a dictionary to have signal information (tuple) as keys and return data time series as values to make it easier to check\n",
    "#; replace datetime with number of days post announcement to make it more comparable \n",
    "def signal1_dict_day(signal1_list,return_df,holding,earning,signal,entry):#if we hold them through next earning\n",
    "    signal1_dict={}\n",
    "    for s in signal1_list:\n",
    "        return_series=return_df.loc[s[0]]       \n",
    "        if (s[1] in return_series.index):\n",
    "            if not np.isnan(return_series.loc[s[1]]): \n",
    "                day0=return_series.index.tolist().index(s[1]) #index of day 0\n",
    "                if s[2] is None:\n",
    "                    period=holding\n",
    "                elif earning is False:\n",
    "                    period=min(holding,np.busday_count(datetime.strptime(s[1],\"%d/%b/%Y\"),datetime.strptime(s[2],\"%d/%b/%Y\"))-entry)\n",
    "                elif (signal is False) & (s[3] is not None):\n",
    "                    period=min(holding,np.busday_count(datetime.strptime(s[1],\"%d/%b/%Y\"),datetime.strptime(s[3],\"%d/%b/%Y\"))-entry)\n",
    "                else:\n",
    "                    period=holding\n",
    "                target_series=return_series.iloc[day0+entry:day0+min(period+entry, len(return_series[day0:]))].dropna()\n",
    "                target_series.index=range(entry,len(target_series)+entry) #replace datetime with number of days post announcement\n",
    "                target_series.name=(s[0],s[1])\n",
    "                signal1_dict[s]=target_series\n",
    "            else:\n",
    "                pass\n",
    "        else:\n",
    "            pass          \n",
    "    return signal1_dict"
   ]
  },
  {
   "cell_type": "code",
   "execution_count": 115,
   "metadata": {},
   "outputs": [],
   "source": [
    "# obtain the dataframe of return time series for the signal stocks, take the signal_return_dict function\n",
    "def signal1_df_day(date_df,return_for_signal,return_df,EAR_low,EAR_high,revision_df,revision_low,revision_high,open_ret,gap_low,gap_high,holding,earning,signal,entry):\n",
    "\n",
    "    signal1,signal1_next=signal1_formation(date_df,return_for_signal,1,EAR_low,EAR_high,revision_df,revision_low,revision_high,open_ret,gap_low,gap_high)\n",
    "    signal1_list=signal1_stacking(signal1,signal1_next)\n",
    "    signal1_dict=signal1_dict_day(signal1_list,return_df,holding,earning,signal,entry)\n",
    "    \n",
    "    return_series=[]\n",
    "    for i,v in signal1_dict.items():\n",
    "        return_series.append(v)\n",
    "    try:\n",
    "        signal1_df=pd.concat(return_series,axis=1)\n",
    "        signal1_df.columns=list(signal1_dict.keys())\n",
    "        signal1_df=signal1_df.sort_index()\n",
    "        signal1_df=signal1_df.dropna(axis=1,how='all')\n",
    "        return signal1_df\n",
    "    except ValueError:\n",
    "        return None"
   ]
  },
  {
   "cell_type": "code",
   "execution_count": 116,
   "metadata": {},
   "outputs": [],
   "source": [
    "# create a dictionary to have signal information (tuple) as keys and return data time series as values to make it easier to check\n",
    "#;use actual dates rather than number of days post announcement\n",
    "def signal1_dict_date(signal1_list,return_df,holding,earning,signal,entry):#if we hold them through next earning\n",
    "    signal1_dict={}\n",
    "    for s in signal1_list:\n",
    "        return_series=return_df.loc[s[0]]\n",
    "        if (s[1] in return_series.index):\n",
    "            if not np.isnan(return_series.loc[s[1]]): \n",
    "                day0=return_series.index.tolist().index(s[1]) #index of day 0\n",
    "                if s[2] is None:\n",
    "                    period=holding\n",
    "                elif earning is False:\n",
    "                    period=min(holding,np.busday_count(datetime.strptime(s[1],\"%d/%b/%Y\"),datetime.strptime(s[2],\"%d/%b/%Y\"))-entry)\n",
    "                elif (signal is False) & (s[3] is not None):\n",
    "                    period=min(holding,np.busday_count(datetime.strptime(s[1],\"%d/%b/%Y\"),datetime.strptime(s[3],\"%d/%b/%Y\"))-entry)\n",
    "                else:\n",
    "                    period=holding\n",
    "                target_series=return_series.iloc[day0+entry:day0+min(period+entry, len(return_series[day0:]))].dropna() # different from return_dict with number of dates post announcement\n",
    "                target_series.name=(s[0],s[1])\n",
    "                signal1_dict[s]=target_series\n",
    "            else:\n",
    "                pass\n",
    "        else:\n",
    "            pass          \n",
    "    return signal1_dict"
   ]
  },
  {
   "cell_type": "code",
   "execution_count": 117,
   "metadata": {},
   "outputs": [],
   "source": [
    "## signal df function adjusted to the actual dates\n",
    "def signal1_df_date(date_df,return_for_signal,return_df,EAR_low,EAR_high,revision_df,revision_low,revision_high,open_ret,gap_low,gap_high,holding,earning,signal,entry):\n",
    "    signal1,signal1_next=signal1_formation(date_df,return_for_signal,1,EAR_low,EAR_high,revision_df,revision_low,revision_high,open_ret,gap_low,gap_high)\n",
    "    signal1_list=signal1_stacking(signal1,signal1_next)\n",
    "    signal1_dict=signal1_dict_date(signal1_list,return_df,holding,earning,signal,entry)\n",
    "    return_list=[]\n",
    "    for i,v in signal1_dict.items():\n",
    "        return_list.append(v)\n",
    "    my_df=pd.concat(return_list,axis=1)\n",
    "    my_df.columns=list(signal1_dict.keys())\n",
    "    my_df.index=[datetime.strptime(x,\"%d/%b/%Y\") for x in my_df.index.tolist()]\n",
    "    signal1_df=my_df.sort_index()\n",
    "    signal1_df=signal1_df.dropna(axis=1,how='all')\n",
    "    return signal1_df"
   ]
  },
  {
   "cell_type": "code",
   "execution_count": 118,
   "metadata": {},
   "outputs": [],
   "source": [
    "# create dataframe tracking the pnl accumulation, add liquidity constraint\n",
    "def signal1_account(signal_df,average_gross,capital,volume_df,date_df,liquidity_constraint):\n",
    "    average_number=signal_df.count(axis=1).mean()\n",
    "    avg_size=average_gross/100/average_number\n",
    "    size_row=signal_df.apply(lambda x: min(avg_size,get_volume(x.name[0],x.name[1],volume_df,date_df)*liquidity_constraint/capital),axis=0)\n",
    "    count=signal_df.copy()\n",
    "    count[(count>=0)|(count<0)]=1.0\n",
    "    size_df=count*size_row\n",
    "    \n",
    "    avg_holding=count.sum(axis=0).mean()\n",
    "    gross=size_df.sum(axis=1)*2\n",
    "    gross=gross[gross!=0]\n",
    "    \n",
    "    mean_size=size_df.mean(axis=0).mean()\n",
    "    account_curve=(((signal_df+1).cumprod()-1)*size_df).ffill().sum(axis=1)\n",
    "    ind_return=(((signal_df+1).cumprod()-1)*size_df).ffill().iloc[-1].dropna()\n",
    "    stock_return=((signal_df+1).cumprod()-1).ffill().iloc[-1].dropna()\n",
    "    turnover=np.abs(size_df.fillna(0.0).diff(1)).sum().sum()/(count.shape[0]/260)\n",
    "    return account_curve,mean_size,gross,ind_return,turnover,avg_holding,stock_return,size_df"
   ]
  },
  {
   "cell_type": "code",
   "execution_count": 119,
   "metadata": {},
   "outputs": [],
   "source": [
    "def signal1_account_LS(long_df,short_df,long_gross,short_gross,capital,volume_df,date_df,liquidity_constraint,risk_parity,\n",
    "                       return_df,index_df,net_level,net_format,stop_long,stop_short):\n",
    "    # short gross: if none, then same size with long; if a number then equal size\n",
    "    # index_df: if set as None, don't hedge at all, the net_level would be useless\n",
    "    # Need to adjust index_df by the range of signal_df\n",
    "    # Net format is constant, always that level, otherwise proportional to the long gross\n",
    "    \n",
    "    if stop_long is not None:\n",
    "        long_df=signal1_filter_stop(long_df,stop_long,return_df,30)\n",
    "    else:\n",
    "        pass\n",
    "    \n",
    "    if stop_short is not None:\n",
    "        short_df=-signal1_filter_stop(-short_df,stop_short,return_df,30)\n",
    "    else:\n",
    "        pass\n",
    "    \n",
    "    long_number=long_df.count(axis=1).mean()\n",
    "    avg_size_long=long_gross/100/long_number\n",
    "    vol_row_long=long_df.apply(lambda column:signal1_vol(column,return_df,30),axis=0)\n",
    "    if risk_parity is True:\n",
    "        size_row_long=long_df.apply(lambda x: min(avg_size_long/(vol_row_long[x.name]/vol_row_long.mean()),get_volume(x.name[0],x.name[1],volume_df,date_df)*liquidity_constraint/capital))\n",
    "    else:\n",
    "        size_row_long=long_df.apply(lambda x: min(avg_size_long,get_volume(x.name[0],x.name[1],volume_df,date_df)*liquidity_constraint/capital),axis=0)\n",
    "    count_long=long_df.copy()    \n",
    "    count_long[(count_long>=0)|(count_long<0)]=1.0\n",
    "    account_long=(((long_df+1).cumprod()-1)*size_row_long).ffill().sum(axis=1)\n",
    "\n",
    "\n",
    "    if short_df is not None:\n",
    "        short_number=short_df.count(axis=1).mean()\n",
    "        vol_row_short=short_df.apply(lambda column:signal1_vol(column,return_df,30),axis=0)\n",
    "        if short_gross is not None:\n",
    "            avg_size_short=short_gross/100/short_number\n",
    "        else:\n",
    "            avg_size_short=avg_size_long\n",
    "        if risk_parity is True:\n",
    "            size_row_short=-short_df.apply(lambda x: min(avg_size_short/(vol_row_short[x.name]/vol_row_short.mean()),get_volume(x.name[0],x.name[1],volume_df,date_df)*liquidity_constraint/capital),axis=0)\n",
    "        else:\n",
    "            size_row_short=-short_df.apply(lambda x: min(avg_size_short,get_volume(x.name[0],x.name[1],volume_df,date_df)*liquidity_constraint/capital),axis=0)\n",
    "        size_row=size_row_long.append(size_row_short)\n",
    "        count_short=short_df.copy()\n",
    "        count_short[(count_short>=0)|(count_short<0)]=1.0\n",
    "        count=pd.concat([count_long,count_short],axis=1)\n",
    "        account_short=(((short_df+1).cumprod()-1)*size_row_short).ffill().sum(axis=1)\n",
    "        account_alpha=pd.concat([account_long,account_short],axis=1).ffill().sum(axis=1)\n",
    "        combined_df=pd.concat([long_df,-short_df],axis=1)\n",
    "        ind_return=pd.concat([((long_df+1).cumprod()-1)*size_row_long,((short_df+1).cumprod()-1)*size_row_short],axis=1).ffill().iloc[-1].dropna()\n",
    "        cache=(count_long,size_row_long,count_short,size_row_short)\n",
    "    else:\n",
    "        avg_size=avg_size_long\n",
    "        size_row=size_row_long\n",
    "        count=count_long\n",
    "        account_alpha=account_long\n",
    "        combined_df=long_df\n",
    "        ind_return=(((long_df+1).cumprod()-1)*size_row_long).ffill().iloc[-1].dropna()\n",
    "        cache=(count_long,size_row_long,None,None)\n",
    "        \n",
    "    avg_holding=count.sum(axis=0).mean()\n",
    "    alpha_net=(count*size_row).sum(axis=1)\n",
    "    mean_size=size_row.abs().mean()\n",
    "    stock_return=((1+combined_df).cumprod()-1).ffill().iloc[-1]\n",
    "    \n",
    "    if index_df is not None:\n",
    "        start=index_df.index.tolist().index(combined_df.index[0].strftime(\"%d/%b/%Y\"))\n",
    "        end=index_df.index.tolist().index(combined_df.index[-1].strftime(\"%d/%b/%Y\"))\n",
    "        index_df=index_df[start:end+1]\n",
    "        if net_format==\"constant\":\n",
    "            size_index=net_level/100-alpha_net\n",
    "        else:\n",
    "            size_index=-(count_long*size_row_long).sum(axis=1)*net_level/100\n",
    "        net=alpha_net+size_index\n",
    "        account_index=(index_df*size_index).cumsum()\n",
    "        account_curve=pd.concat([account_alpha,account_index],axis=1).ffill().sum(axis=1)\n",
    "        gross=np.abs(pd.concat([count*size_row,size_index],axis=1)).sum(axis=1)\n",
    "        gross=gross[gross!=0]\n",
    "        turnover=(np.abs(pd.concat([count*size_row,size_index],axis=1).fillna(0.0).diff(1)).sum().sum())/(count.shape[0]/260)\n",
    "    else:\n",
    "        net=alpha_net\n",
    "        gross=np.abs(count*size_row).sum(axis=1)\n",
    "        gross=gross[gross!=0]\n",
    "        account_curve=account_alpha\n",
    "        turnover=np.abs((count*size_row).fillna(0.0).diff(1)).sum().sum()/(count.shape[0]/260)\n",
    "    \n",
    "    return account_curve,mean_size,gross,ind_return,turnover,avg_holding,stock_return,size_row,cache "
   ]
  },
  {
   "cell_type": "code",
   "execution_count": 120,
   "metadata": {},
   "outputs": [],
   "source": [
    "def signal1_account_LS_Asia(long_df,short_df,long_gross,short_gross,capital,volume_df,date_df,liquidity_constraint,risk_parity,\n",
    "                            return_df,index_df,mapping_df,net_level,net_format,stop_long,stop_short):\n",
    "    # short gross: if none, then same size with long; if a number then equal size\n",
    "    # index_df: if set as None, don't hedge at all, the net_level would be useless\n",
    "    # Need to adjust index_df by the range of signal_df\n",
    "    # Net format is constant, always that level, otherwise proportional to the long gross\n",
    "    \n",
    "    if stop_long is not None:\n",
    "        long_df=signal1_filter_stop(long_df,stop_long,return_df,30)\n",
    "    else:\n",
    "        pass\n",
    "    \n",
    "    if stop_short is not None:\n",
    "        short_df=-signal1_filter_stop(-short_df,stop_short,return_df,30)\n",
    "    else:\n",
    "        pass\n",
    "    \n",
    "    long_number=long_df.count(axis=1).mean()\n",
    "    avg_size_long=long_gross/100/long_number\n",
    "    vol_row_long=long_df.apply(lambda column:signal1_vol(column,return_df,30),axis=0)\n",
    "    if risk_parity is True:\n",
    "        size_row_long=long_df.apply(lambda x: min(avg_size_long/(vol_row_long[x.name]/vol_row_long.mean()),get_volume(x.name[0],x.name[1],volume_df,date_df)*liquidity_constraint/capital))\n",
    "    else:\n",
    "        size_row_long=long_df.apply(lambda x: min(avg_size_long,get_volume(x.name[0],x.name[1],volume_df,date_df)*liquidity_constraint/capital),axis=0)\n",
    "    count_long=long_df.copy()    \n",
    "    count_long[(count_long>=0)|(count_long<0)]=1.0\n",
    "    \n",
    "    size_df_long=(long_df+1).cumprod()*size_row_long\n",
    "    account_long=(size_df_long.shift(1)*long_df).cumsum().ffill().sum(axis=1)\n",
    "    ind_return_long=(size_df_long.shift(1)*long_df).cumsum().ffill().iloc[-1].dropna()\n",
    "\n",
    "    if short_df is not None:\n",
    "        short_number=short_df.count(axis=1).mean()\n",
    "        vol_row_short=short_df.apply(lambda column:signal1_vol(column,return_df,30),axis=0)\n",
    "        if short_gross is not None:\n",
    "            avg_size_short=short_gross/100/short_number\n",
    "        else:\n",
    "            avg_size_short=avg_size_long\n",
    "\n",
    "        if risk_parity is True:\n",
    "            size_row_short=-short_df.apply(lambda x: min(avg_size_short/(vol_row_short[x.name]/vol_row_short.mean()),get_volume(x.name[0],x.name[1],volume_df,date_df)*liquidity_constraint/capital),axis=0)\n",
    "        else:\n",
    "            size_row_short=-short_df.apply(lambda x: min(avg_size_short,get_volume(x.name[0],x.name[1],volume_df,date_df)*liquidity_constraint/capital),axis=0)\n",
    "        \n",
    "        count_short=short_df.copy()\n",
    "        count_short[(count_short>=0)|(count_short<0)]=1.0\n",
    "        count=pd.concat([count_long,count_short],axis=1)\n",
    "\n",
    "        size_df_short=(short_df+1).cumprod()*size_row_short\n",
    "        account_short=(size_df_short.shift(1)*short_df).cumsum().ffill().sum(axis=1)\n",
    "        ind_return_short=(size_df_short.shift(1)*short_df).cumsum().ffill().iloc[-1].dropna()\n",
    "\n",
    "        account_alpha=pd.concat([account_long,account_short],axis=1).ffill().sum(axis=1)\n",
    "        signal_df=pd.concat([long_df,-short_df],axis=1)\n",
    "        ind_return=ind_return_long.append(ind_return_short)\n",
    "        size_df=pd.concat([size_df_long,size_df_short],axis=1)\n",
    "        size_row=size_row_long.append(size_row_short)\n",
    "        \n",
    "        cache=(count_long,size_df_long,count_short,size_df_short)\n",
    "    else:\n",
    "        avg_size=avg_size_long\n",
    "        size_row=size_row_long\n",
    "        count=count_long\n",
    "        account_alpha=account_long\n",
    "        signal_df=long_df\n",
    "        size_df=size_df_long\n",
    "        ind_return=ind_return_long\n",
    "        cache=(count_long,size_df_long,None,None)\n",
    "        \n",
    "    avg_holding=count.sum(axis=0).mean()\n",
    "    alpha_net=size_df.sum(axis=1)\n",
    "    mean_size=size_df.mean(axis=0).abs().mean()\n",
    "    stock_return=((1+signal_df).cumprod()-1).ffill().iloc[-1]\n",
    "    \n",
    "    if index_df is not None:\n",
    "        adj_size=size_df.copy().T\n",
    "        adj_size[\"Country\"]=adj_size.apply(lambda x:mapping_df.loc[x.name[0][-2:]],axis=1)\n",
    "        adj_size_agg=adj_size.groupby(\"Country\").sum().T\n",
    "        \n",
    "        index_df=index_df.loc[adj_size_agg.columns].T\n",
    "        \n",
    "        start=index_df.index.tolist().index(signal_df.index[0].strftime(\"%d/%b/%Y\"))\n",
    "        end=index_df.index.tolist().index(signal_df.index[-1].strftime(\"%d/%b/%Y\"))\n",
    "        index_df=index_df[start:end+1]\n",
    "        index_df=index_df.reindex(datetime.strptime(x,\"%d/%b/%Y\") for x in index_df.index)\n",
    "        if net_format==\"constant\":\n",
    "            size_index=net_level/100-adj_size_agg\n",
    "        else:\n",
    "            size_index=-(size_df).sum(axis=1)*net_level/100\n",
    "        net=alpha_net+size_index.sum(axis=1)\n",
    "        account_index=(size_index.shift(1)*index_df).cumsum()\n",
    "        account_curve=pd.concat([account_alpha,account_index],axis=1).ffill().sum(axis=1)\n",
    "        gross=np.abs(pd.concat([size_df,size_index],axis=1)).sum(axis=1)\n",
    "        #gross=gross[gross!=0]\n",
    "        turnover=(np.abs(pd.concat([count*size_row,size_index],axis=1).fillna(0.0).diff(1)).sum().sum())/(count.shape[0]/260)\n",
    "    else:\n",
    "        net=alpha_net\n",
    "        gross=np.abs(count*size_row).sum(axis=1)\n",
    "        gross=gross[gross!=0]\n",
    "        account_curve=account_alpha\n",
    "        turnover=np.abs((count*size_row).fillna(0.0).diff(1)).sum().sum()/(count.shape[0]/260)\n",
    "    \n",
    "    return account_curve,mean_size,gross,ind_return,turnover,avg_holding,stock_return,size_row,cache\n"
   ]
  },
  {
   "cell_type": "code",
   "execution_count": 121,
   "metadata": {},
   "outputs": [],
   "source": [
    "def signal1_account_combine(EU_long_df,EU_short_df,US_long_df,US_short_df,long_gross,short_gross,EU_capital,US_capital,volume_df,\n",
    "                            date_df,risk_parity,EU_return_df,US_return_df,liquidity_constraint,EU_index_df,US_index_df,net_level,net_format,\n",
    "                            stop_long,stop_short):\n",
    "    \n",
    "    #account_curve,mean_size,gross,ind_return,turnover,avg_holding,stock_return,size_row  \n",
    "    \n",
    "    EU_account=signal1_account_LS(EU_long_df,EU_short_df,long_gross,short_gross,EU_capital,volume_df,date_df,liquidity_constraint,risk_parity,EU_return_df,EU_index_df,net_level,net_format,stop_long,stop_short)\n",
    "    US_account=signal1_account_LS(US_long_df,US_short_df,long_gross,short_gross,US_capital,volume_df,date_df,liquidity_constraint,risk_parity,US_return_df,US_index_df,net_level,net_format,stop_long,stop_short)\n",
    "    \n",
    "    account_curve=pd.concat([EU_account[0]*EU_capital/(EU_capital+US_capital),US_account[0]*US_capital/(EU_capital+US_capital)],axis=1).ffill().sum(axis=1)\n",
    "    size_row=(EU_account[7]*EU_capital/(EU_capital+US_capital)).append(US_account[7]*US_capital/(EU_capital+US_capital))\n",
    "    mean_size=size_row.abs().mean()*0.8\n",
    "    gross=pd.concat([EU_account[2]*EU_capital/(EU_capital+US_capital),US_account[2]*US_capital/(EU_capital+US_capital)],axis=1).ffill().sum(axis=1)\n",
    "    ind_return=(EU_account[3]*EU_capital/(EU_capital+US_capital)).append(US_account[3]*US_capital/(EU_capital+US_capital))\n",
    "    turnover=EU_account[4]*EU_capital/(EU_capital+US_capital)+US_account[4]*US_capital/(EU_capital+US_capital)\n",
    "    avg_holding=EU_account[5]*EU_capital/(EU_capital+US_capital)+US_account[5]*US_capital/(EU_capital+US_capital)\n",
    "    stock_return=EU_account[6].append(US_account[6])\n",
    "    cache=(EU_account[-1],US_account[-1])\n",
    "    return account_curve,mean_size,gross,ind_return,turnover,avg_holding,stock_return,size_row,cache\n",
    "    \n",
    "    "
   ]
  },
  {
   "cell_type": "code",
   "execution_count": 122,
   "metadata": {},
   "outputs": [],
   "source": [
    "# signal_df post stop loss filter \n",
    "def signal1_filter_stop(signal_df,stop_level,return_df,vol_lookback):\n",
    "    vol_row=signal_df.apply(lambda column:signal1_vol(column,return_df,vol_lookback),axis=0)\n",
    "    signal_cum_nmove=((1+signal_df).cumprod()-1).ffill()/vol_row\n",
    "    signal_df_stop=signal_df[-(signal_cum_nmove.expanding().min().shift(1,axis=0)<-stop_level)]\n",
    "    return signal_df_stop"
   ]
  },
  {
   "cell_type": "code",
   "execution_count": 123,
   "metadata": {},
   "outputs": [],
   "source": [
    "## utility function to get the vol from a column of signal_df\n",
    "def signal1_vol(signal_column,return_df,vol_lookback):\n",
    "    signal_tuple=signal_column.name\n",
    "    signal_series=return_df.loc[signal_tuple[0]]\n",
    "    location=signal_series.index.tolist().index(signal_tuple[1])\n",
    "    vol_range=min(vol_lookback,len(signal_series[:location]))\n",
    "    signal_vol=signal_series[location-vol_range-1:location].std()\n",
    "    return signal_vol"
   ]
  },
  {
   "cell_type": "code",
   "execution_count": 124,
   "metadata": {},
   "outputs": [],
   "source": [
    "# EAR,revision,rating,gap,highest down,highest drawdown,distance to recent high,cumulative return,distance to moving average,RSI,AUTOR\n",
    "def aggregate_feature(date_df,return_for_signal,return_df,EAR_low,EAR_high,revision_df,revision_low,revision_high,\n",
    "                      open_ret,holding,entry,market_cap,price_df,high_lookback,RSI_lookback,MA_lookback,rel_index,\n",
    "                      PE_df,PE_premium_df,sector_df):\n",
    "    \n",
    "    signal_df=signal1_df_date(date_df,return_for_signal,return_df,EAR_low,EAR_high,revision_df,revision_low,revision_high,\n",
    "                              open_ret,-1000,1000,holding,False,False,entry)\n",
    "    \n",
    "    \n",
    "    cum_ret=((1+signal_df).cumprod()-1).ffill().iloc[-1]\n",
    "    cum_ret.name=\"Cum_ret\"\n",
    "    aggregate_df=cum_ret.to_frame()\n",
    "    \n",
    "    aggregate_df[\"Market_cap\"]=signal_df.apply(lambda x: get_market_cap(x.name[0],x.name[1],market_cap,date_df),axis=0)\n",
    "    aggregate_df[\"Gap\"]=signal_df.apply(lambda x: gap_calc(x.name[0],x.name[1],open_ret,return_for_signal,30),axis=0)\n",
    "    aggregate_df[\"EAR\"]=signal_df.apply(lambda x: EAR_calc(x.name[0],x.name[1],return_for_signal,entry,30),axis=0)\n",
    "    aggregate_df[\"Intraday\"]=signal_df.apply(lambda x: EAR_calc(x.name[0],x.name[1],return_for_signal,1,30),axis=0)-aggregate_df[\"Gap\"]\n",
    "    \n",
    "    aggregate_df[\"Revision\"]=signal_df.apply(lambda x: get_revision(x.name[0],x.name[1],revision_df,date_df),axis=0)\n",
    "    aggregate_df[\"Rating\"]=aggregate_df[\"EAR\"]-aggregate_df[\"Revision\"]\n",
    "    aggregate_df[\"Vol\"]=signal_df.apply(lambda column:signal1_vol(column,return_for_signal,30),axis=0)\n",
    "    #signal_cum_nmove=((1+signal_df).cumprod()-1).ffill()/aggregate_df[\"Vol\"]\n",
    "    \n",
    "    aggregate_df[\"Distance_high\"]=signal_df.apply(lambda x: get_high_position(x.name[0],x.name[1],price_df,high_lookback),axis=0)\n",
    "    aggregate_df[\"RSI\"]=signal_df.apply(lambda x: RSI(x.name[0],x.name[1],return_for_signal,RSI_lookback),axis=0)\n",
    "    aggregate_df[\"AUTOR\"]=signal_df.apply(lambda x: AUTOR(x.name[0],x.name[1],150,price_df,rel_index)[0],axis=0)\n",
    "    \n",
    "    for i in MA_lookback:\n",
    "        aggregate_df[\"MA\"+str(i)]=signal_df.apply(lambda x: MA(x.name[0],x.name[1],i,price_df,None)[0],axis=0)\n",
    "    \n",
    "    aggregate_df[\"PE\"]=signal_df.apply(lambda x: get_PE(x.name[0],x.name[1],PE_df,date_df),axis=0)\n",
    "    aggregate_df[\"PE_premium\"]=signal_df.apply(lambda x: get_PE_premium(x.name[0],x.name[1],PE_premium_df,date_df),axis=0)\n",
    "    aggregate_df[\"Sector\"]=signal_df.apply(lambda x: sector_mapping(x.name[0],sector_df),axis=0)\n",
    "    \n",
    "    #aggregate_df=aggregate_df.dropna(axis=0)\n",
    "    \n",
    "    return aggregate_df.transpose()                    "
   ]
  },
  {
   "cell_type": "markdown",
   "metadata": {},
   "source": [
    "### 3.3 - Performance utility functions\n",
    "- Trading analytics by day and date\n",
    "- Performance chart by day and date"
   ]
  },
  {
   "cell_type": "code",
   "execution_count": 125,
   "metadata": {},
   "outputs": [],
   "source": [
    "def trading_analytics_date(signal_account):\n",
    "    ind_return=signal_account[3]\n",
    "    signal_count=len(ind_return)\n",
    "    account_curve=signal_account[0]\n",
    "    \n",
    "    if signal_count==0:\n",
    "        return None\n",
    "    else:\n",
    "        mean_return=ind_return.mean()\n",
    "        hit_rate=len(ind_return[ind_return>0])/len(ind_return)*1.0\n",
    "        payoff_ratio=ind_return[ind_return>0].mean()/ind_return[ind_return<0].mean()*-1.0\n",
    "        \n",
    "        account_price=account_curve+1\n",
    "        ann_vol=np.std(account_price.diff()/account_price.shift(1))*(260**0.5)\n",
    "        ann_ret=np.mean(account_price.diff()/account_price.shift(1))*260\n",
    "        ann_sharpe=ann_ret/ann_vol\n",
    "        \n",
    "        low_date=(np.maximum.accumulate(account_curve)-account_curve).idxmax()\n",
    "        high_date=account_curve[:low_date].idxmax()\n",
    "        max_dd=1-(1+account_curve[low_date])/(1+account_curve[high_date])\n",
    "        \n",
    "        return signal_count,hit_rate,payoff_ratio,ann_ret,ann_vol,ann_sharpe,max_dd"
   ]
  },
  {
   "cell_type": "code",
   "execution_count": 126,
   "metadata": {},
   "outputs": [],
   "source": [
    "def plot_account_curve(signal_account,xlabel,title,figsize):\n",
    "    account_curve=signal_account[0]\n",
    "    avg_size=signal_account[1]\n",
    "    gross=signal_account[2]\n",
    "    ind_return=signal_account[3]\n",
    "    turnover=signal_account[4]\n",
    "    avg_holding=signal_account[5]\n",
    "    stock_return=signal_account[6]\n",
    "    \n",
    "    fig=plt.figure(figsize=figsize)\n",
    "    ax1=fig.add_subplot(1,1,1)\n",
    "    ln1=ax1.plot(account_curve,label='signal',color='b')\n",
    "\n",
    "    val1=ax1.get_yticks()\n",
    "    start=val1[0]\n",
    "    end=val1[-1]\n",
    "    ax1.set_yticks(np.arange(start,end,0.1))  \n",
    "    adj_val1=ax1.get_yticks()\n",
    "    ax1.set_yticklabels([\"{:.0%}\".format(x) for x in adj_val1])\n",
    "    \n",
    "    ax2=ax1.twinx()\n",
    "    ln2=ax2.plot(gross,label='gross',color='silver')\n",
    "\n",
    "    val2=ax2.get_yticks()\n",
    "    start=val2[0]\n",
    "    end=val2[-1]\n",
    "    ax2.set_yticks(np.arange(start,end,0.1))  \n",
    "    adj_val2=ax2.get_yticks()\n",
    "    ax2.set_yticklabels([\"{:.0%}\".format(x) for x in adj_val2])\n",
    "    \n",
    "    count,hit,payoff,ret,vol,sharpe,max_dd=trading_analytics_date(signal_account)\n",
    "    \n",
    "    plt.title(\"\\n\".join(wrap('count='+str(count)+\n",
    "                             ',avg_size='+str(\"{:.1%}\".format(avg_size))+\n",
    "                             #',avg_holding='+str(int(avg_holding))+\n",
    "                             ',avg_return='+str(\"{:.1%}\".format(stock_return.mean()))+\n",
    "                             ',hit_rate='+str(\"{:.0%}\".format(hit))+\n",
    "                             ',payoff='+str(round(payoff,1))+\n",
    "                             ',return='+str(\"{:.1%}\".format(ret))+\n",
    "                             ',vol='+str(\"{:.1%}\".format(vol))+\n",
    "                             ',sharpe='+str(round(sharpe,1))+\n",
    "                             ',turnover='+str(round(turnover,1))+'x'+                             \n",
    "                             ',max_drawdown='+str(\"{:.1%}\".format(max_dd)))),fontsize=10)\n",
    " \n",
    "    ax1.set_xlabel(xlabel)\n",
    "    ax1.set_ylabel('Return')\n",
    "    ax2.set_ylabel('Exposure')\n",
    "    plt.suptitle(title,y=1.05,fontsize=16)\n",
    "    plt.grid(linestyle='dashed')\n",
    "    plt.legend(ln1+ln2,[l.get_label() for l in ln1+ln2])\n",
    "    ax1.axhline(y=0,color='k')\n",
    "\n",
    "    plt.show()"
   ]
  },
  {
   "cell_type": "markdown",
   "metadata": {},
   "source": [
    "## 4 - Account curve\n",
    "\n",
    "Simulated performance of the portfolio by actual dates"
   ]
  },
  {
   "cell_type": "markdown",
   "metadata": {},
   "source": [
    "### 4.1 Build the portfolio"
   ]
  },
  {
   "cell_type": "code",
   "execution_count": 38,
   "metadata": {},
   "outputs": [],
   "source": [
    "# Long signals Europe\n",
    "signal1_abs_long_Europe=signal1_df_date(data_dict_Europe['Date'],abs_return_Europe,abs_return_Europe,1,1000,data_dict_Europe['Revision'],0.03,1000,abs_return_Europe,-1000,1000,40,False,False,1)\n",
    "signal1_rel_long_Europe=signal1_df_date(data_dict_Europe['Date'],abs_return_Europe,rel_return_Europe,1,1000,data_dict_Europe['Revision'],0.03,1000,rel_return_Europe,-1000,1000,40,False,False,1)"
   ]
  },
  {
   "cell_type": "code",
   "execution_count": 39,
   "metadata": {},
   "outputs": [],
   "source": [
    "# Long signals US\n",
    "signal1_abs_long_US=signal1_df_date(data_dict_US['Date'],abs_return_US,abs_return_US,1,1000,data_dict_US['Revision'],0.05,1000,abs_return_US,-1000,1000,40,False,False,1)\n",
    "signal1_rel_long_US=signal1_df_date(data_dict_US['Date'],abs_return_US,rel_return_US,1,1000,data_dict_US['Revision'],0.05,1000,abs_return_US,-1000,1000,40,False,False,1)"
   ]
  },
  {
   "cell_type": "code",
   "execution_count": 155,
   "metadata": {},
   "outputs": [],
   "source": [
    "# Long signals Asia\n",
    "signal1_abs_long_Asia=signal1_df_date(data_dict_Asia['Date'],abs_return_Asia,abs_return_Asia,1,1000,data_dict_Asia['Revision'],0.03,1000,abs_return_Asia,-1000,1000,20,False,False,1)\n",
    "signal1_rel_long_Asia=signal1_df_date(data_dict_Asia['Date'],abs_return_Asia,rel_return_Asia,1,1000,data_dict_Asia['Revision'],0.03,1000,rel_return_Asia,-1000,1000,20,False,False,1)"
   ]
  },
  {
   "cell_type": "code",
   "execution_count": 41,
   "metadata": {},
   "outputs": [],
   "source": [
    "# Short signals Europe\n",
    "signal1_abs_short_Europe=signal1_df_date(data_dict_Europe['Date'],abs_return_Europe,abs_return_Europe,-1000,-2,data_dict_Europe['Revision'],-1000,-0.03,abs_return_Europe,-1000,1000,40,False,False,1)\n",
    "signal1_rel_short_Europe=signal1_df_date(data_dict_Europe['Date'],abs_return_Europe,rel_return_Europe,-1000,-2,data_dict_Europe['Revision'],-1000,-0.03,abs_return_Europe,-1000,1000,40,False,False,1)\n",
    "size_Europe=signal1_abs_short_Europe.apply(lambda x:get_market_cap(x.name[0],x.name[1],data_dict_Europe[\"Market cap\"],data_dict_Europe[\"Date\"]) )\n",
    "large_signal1_abs_short_Europe=signal1_abs_short_Europe.loc[:,size_Europe>5000]"
   ]
  },
  {
   "cell_type": "code",
   "execution_count": 42,
   "metadata": {},
   "outputs": [],
   "source": [
    "# Short signals US\n",
    "signal1_abs_short_US=signal1_df_date(data_dict_US['Date'],abs_return_US,abs_return_US,-1000,-2,data_dict_US['Revision'],-1000,-0.03,abs_return_US,-1000,1000,40,False,False,1)\n",
    "signal1_rel_short_US=signal1_df_date(data_dict_US['Date'],abs_return_US,rel_return_US,-1000,-2,data_dict_US['Revision'],-1000,-0.03,abs_return_US,-1000,1000,40,False,False,1)\n",
    "size_US=signal1_abs_short_US.apply(lambda x:get_market_cap(x.name[0],x.name[1],data_dict_US[\"Market cap\"],data_dict_US[\"Date\"]) )\n",
    "large_signal1_abs_short_US=signal1_abs_short_US.loc[:,size_US>5000]\n",
    "small_signal1_abs_short_US=signal1_abs_short_US.loc[:,size_US<2000]"
   ]
  },
  {
   "cell_type": "code",
   "execution_count": 57,
   "metadata": {},
   "outputs": [],
   "source": [
    "# Hedge portfolio narrow\n",
    "hedge_LS_narrow=signal1_account_LS(small_signal1_abs_short_US, None, 30, 0, 25, data_dict_US[\"Volume\"],data_dict_US[\"Date\"], 0.1, True,\\\n",
    "                            abs_return_US, abs_return_US.loc[\"SPX Index\"],0,'constant',8,None)"
   ]
  },
  {
   "cell_type": "code",
   "execution_count": 59,
   "metadata": {},
   "outputs": [
    {
     "data": {
      "image/png": "[encoded data removed]",
      "text/plain": [
       "<matplotlib.figure.Figure at 0x11fa0048>"
      ]
     },
     "metadata": {},
     "output_type": "display_data"
    }
   ],
   "source": [
    "plot_account_curve(hedge_LS_narrow, \"Date\",\"Account curve hedge narrow - US\",[6,4])"
   ]
  },
  {
   "cell_type": "code",
   "execution_count": 51,
   "metadata": {},
   "outputs": [],
   "source": [
    "# Hedge US\n",
    "Hedge_abs_US=signal1_df_date(data_dict_US['Date'],abs_return_US,abs_return_US,-1000,-2,data_dict_US['Revision'],-1000,1000,abs_return_US,-1000,1000,40,False,False,1)\n",
    "Hedge_rel_US=signal1_df_date(data_dict_US['Date'],abs_return_US,rel_return_US,-1000,-2,data_dict_US['Revision'],-1000,1000,abs_return_US,-1000,1000,40,False,False,1)\n",
    "Hedge_size_US=Hedge_abs_US.apply(lambda x:get_market_cap(x.name[0],x.name[1],data_dict_US[\"Market cap\"],data_dict_US[\"Date\"]) )\n",
    "Small_Hedge_abs_US=Hedge_abs_US.loc[:,Hedge_size_US<2000]"
   ]
  },
  {
   "cell_type": "code",
   "execution_count": 53,
   "metadata": {
    "scrolled": true
   },
   "outputs": [],
   "source": [
    "# Hedge portfolio\n",
    "hedge_LS=signal1_account_LS(Small_Hedge_abs_US, None, 30, 0, 25, data_dict_US[\"Volume\"],data_dict_US[\"Date\"], 0.1, True,\\\n",
    "                            abs_return_US, abs_return_US.loc[\"SPX Index\"],0,'constant',8,None)"
   ]
  },
  {
   "cell_type": "code",
   "execution_count": 54,
   "metadata": {},
   "outputs": [
    {
     "data": {
      "image/png": "[encoded data removed]",
      "text/plain": [
       "<matplotlib.figure.Figure at 0x11f2db70>"
      ]
     },
     "metadata": {},
     "output_type": "display_data"
    }
   ],
   "source": [
    "plot_account_curve(hedge_LS, \"Date\",\"Account curve hedge - US\",[6,4])"
   ]
  },
  {
   "cell_type": "code",
   "execution_count": 161,
   "metadata": {},
   "outputs": [],
   "source": [
    "# Asian portfolio\n",
    "Asia_LS=signal1_account_LS_Asia(signal1_abs_long_Asia, None, 30, 0, 50, data_dict_Asia[\"Volume\"],data_dict_Asia[\"Date\"], 0.1, True,\\\n",
    "                            abs_return_Asia, abs_return_Asia,data_dict_Asia[\"Mapping\"],0,'constant',8,None)"
   ]
  },
  {
   "cell_type": "code",
   "execution_count": 163,
   "metadata": {},
   "outputs": [
    {
     "data": {
      "image/png": "[encoded data removed]",
      "text/plain": [
       "<matplotlib.figure.Figure at 0x1240f2b0>"
      ]
     },
     "metadata": {},
     "output_type": "display_data"
    }
   ],
   "source": [
    "plot_account_curve(Asia_LS, \"Date\",\"Account curve Asia - LS\",[6,4])"
   ]
  },
  {
   "cell_type": "code",
   "execution_count": 43,
   "metadata": {},
   "outputs": [],
   "source": [
    "# Europe portfolio\n",
    "Europe_LS=signal1_account_LS(signal1_abs_long_Europe, large_signal1_abs_short_Europe, 30, 15, 50, data_dict_Europe[\"Volume\"],\n",
    "                   data_dict_Europe[\"Date\"], 0.1, True, abs_return_Europe, abs_return_Europe.loc[\"SX5E Index\"],0,'constant',8,8)"
   ]
  },
  {
   "cell_type": "code",
   "execution_count": 44,
   "metadata": {},
   "outputs": [
    {
     "data": {
      "image/png": "[encoded data removed]",
      "text/plain": [
       "<matplotlib.figure.Figure at 0x11e743c8>"
      ]
     },
     "metadata": {},
     "output_type": "display_data"
    }
   ],
   "source": [
    "plot_account_curve(Europe_LS, \"Date\",\"Account curve Europe - LS\",[6,4])"
   ]
  },
  {
   "cell_type": "code",
   "execution_count": 45,
   "metadata": {},
   "outputs": [],
   "source": [
    "# US portfolio\n",
    "US_LS=signal1_account_LS(signal1_abs_long_US, large_signal1_abs_short_US, 30, 15, 50, data_dict_US[\"Volume\"],\n",
    "                   data_dict_US[\"Date\"], 0.1, True, abs_return_US, abs_return_US.loc[\"SPX Index\"],0,'constant',8,8)"
   ]
  },
  {
   "cell_type": "code",
   "execution_count": 46,
   "metadata": {
    "scrolled": true
   },
   "outputs": [
    {
     "data": {
      "image/png": "[encoded data removed]",
      "text/plain": [
       "<matplotlib.figure.Figure at 0x11facd30>"
      ]
     },
     "metadata": {},
     "output_type": "display_data"
    }
   ],
   "source": [
    "plot_account_curve(US_LS, \"Date\",\"Account curve US - LS\",[6,4])"
   ]
  },
  {
   "cell_type": "markdown",
   "metadata": {},
   "source": [
    "### 4.2 Sizing and volatility information"
   ]
  },
  {
   "cell_type": "code",
   "execution_count": 66,
   "metadata": {},
   "outputs": [
    {
     "data": {
      "text/plain": [
       "(33.56349206349206, 14.840637450199203, 142.30241935483872, 36.35546875)"
      ]
     },
     "execution_count": 66,
     "metadata": {},
     "output_type": "execute_result"
    }
   ],
   "source": [
    "# Number of stocks\n",
    "(Europe_LS[-1][0].sum(axis=1).mean(),Europe_LS[-1][2].sum(axis=1).mean(),US_LS[-1][0].sum(axis=1).mean(),US_LS[-1][2].sum(axis=1).mean())"
   ]
  },
  {
   "cell_type": "code",
   "execution_count": 67,
   "metadata": {},
   "outputs": [
    {
     "data": {
      "text/plain": [
       "99.12741312741312"
      ]
     },
     "execution_count": 67,
     "metadata": {},
     "output_type": "execute_result"
    }
   ],
   "source": [
    "hedge_LS[-1][0].sum(axis=1).mean()"
   ]
  },
  {
   "cell_type": "code",
   "execution_count": 176,
   "metadata": {},
   "outputs": [
    {
     "data": {
      "text/plain": [
       "0.01200846640856581"
      ]
     },
     "execution_count": 176,
     "metadata": {},
     "output_type": "execute_result"
    }
   ],
   "source": [
    "Asia_LS[-1][1].bfill().iloc[0].mean()"
   ]
  },
  {
   "cell_type": "code",
   "execution_count": 177,
   "metadata": {},
   "outputs": [
    {
     "data": {
      "text/plain": [
       "(0.009852439198825664,\n",
       " -0.010857827483700962,\n",
       " 0.0025358200101835895,\n",
       " -0.004854045799529945,\n",
       " 0.0035294799847827327)"
      ]
     },
     "execution_count": 177,
     "metadata": {},
     "output_type": "execute_result"
    }
   ],
   "source": [
    "# Average size\n",
    "(Europe_LS[-1][1].mean(),Europe_LS[-1][3].mean(),US_LS[-1][1].mean(),US_LS[-1][3].mean(),hedge_LS[-1][1].mean())"
   ]
  },
  {
   "cell_type": "code",
   "execution_count": 179,
   "metadata": {},
   "outputs": [
    {
     "data": {
      "text/plain": [
       "(0.015558704859015634,\n",
       " 0.013048057892631878,\n",
       " 0.01956455464547581,\n",
       " 0.015231649721479607,\n",
       " 0.019539344810640798,\n",
       " 0.01756017408070754)"
      ]
     },
     "execution_count": 179,
     "metadata": {},
     "output_type": "execute_result"
    }
   ],
   "source": [
    "# Average Vol\n",
    "(signal1_abs_long_Europe.apply(lambda x: signal1_vol(x,abs_return_Europe,30),axis=0).mean(),\n",
    " large_signal1_abs_short_Europe.apply(lambda x: signal1_vol(x,abs_return_Europe,30),axis=0).mean(),\n",
    " signal1_abs_long_US.apply(lambda x: signal1_vol(x,abs_return_US,30),axis=0).mean(),\n",
    " large_signal1_abs_short_US.apply(lambda x: signal1_vol(x,abs_return_US,30),axis=0).mean(),\n",
    " Small_Hedge_abs_US.apply(lambda x: signal1_vol(x,abs_return_US,30),axis=0).mean(),\n",
    " signal1_abs_long_Asia.apply(lambda x: signal1_vol(x,abs_return_Asia,30),axis=0).mean())"
   ]
  },
  {
   "cell_type": "markdown",
   "metadata": {},
   "source": [
    "### 4.3 get all the features"
   ]
  },
  {
   "cell_type": "code",
   "execution_count": 54,
   "metadata": {},
   "outputs": [],
   "source": [
    "feature_Europe1=aggregate_feature(data_dict_Europe[\"Date\"],abs_return_Europe,rel_return_Europe,-1000,1000,data_dict_Europe[\"Revision\"],\n",
    "                                 -1000,1000,abs_return_Europe,40,1,data_dict_Europe[\"Market cap\"],price_Europe,120,14,[50,150],\n",
    "                                 \"SX5E Index\",data_dict_Europe[\"PE\"],data_dict_Europe[\"PE premium\"],\n",
    "                                 data_dict_Europe[\"Property\"][\"Sector\"])"
   ]
  },
  {
   "cell_type": "code",
   "execution_count": 55,
   "metadata": {},
   "outputs": [
    {
     "name": "stderr",
     "output_type": "stream",
     "text": [
      "C:\\Users\\Eric.Li\\AppData\\Local\\Continuum\\anaconda3\\lib\\site-packages\\ipykernel_launcher.py:24: RuntimeWarning: divide by zero encountered in true_divide\n"
     ]
    }
   ],
   "source": [
    "feature_US1=aggregate_feature(data_dict_US[\"Date\"],abs_return_US,rel_return_US,-1000,1000,data_dict_US[\"Revision\"],\n",
    "                                 -1000,1000,abs_return_US,40,1,data_dict_US[\"Market cap\"],price_US,120,14,[50,150],\n",
    "                                 \"SPX Index\",data_dict_US[\"PE\"],data_dict_US[\"PE premium\"],\n",
    "                                 data_dict_US[\"Property\"][\"Sector\"])\n",
    "                                 "
   ]
  },
  {
   "cell_type": "code",
   "execution_count": null,
   "metadata": {},
   "outputs": [],
   "source": []
  }
 ],
 "metadata": {
  "kernelspec": {
   "display_name": "Python 3",
   "language": "python",
   "name": "python3"
  },
  "language_info": {
   "codemirror_mode": {
    "name": "ipython",
    "version": 3
   },
   "file_extension": ".py",
   "mimetype": "text/x-python",
   "name": "python",
   "nbconvert_exporter": "python",
   "pygments_lexer": "ipython3",
   "version": "3.6.4"
  }
 },
 "nbformat": 4,
 "nbformat_minor": 2
}
