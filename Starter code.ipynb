{
 "cells": [
  {
   "cell_type": "markdown",
   "metadata": {},
   "source": [
    "## Use SX5E and bloomberg download data to get me started"
   ]
  },
  {
   "cell_type": "code",
   "execution_count": 480,
   "metadata": {},
   "outputs": [],
   "source": [
    "import pandas as pd\n",
    "import numpy as np\n",
    "from datetime import datetime\n",
    "import matplotlib.pyplot as plt\n",
    "%matplotlib inline"
   ]
  },
  {
   "cell_type": "code",
   "execution_count": 436,
   "metadata": {},
   "outputs": [],
   "source": [
    "#initial cleaning function\n",
    "def clean_sheet(dataframe):\n",
    "    adj=dataframe.dropna(axis=1,how='all')\n",
    "    adj=dataframe.set_index(adj.columns[0]) #use stock tickers as the index\n",
    "    return adj"
   ]
  },
  {
   "cell_type": "code",
   "execution_count": 437,
   "metadata": {},
   "outputs": [],
   "source": [
    "#pull the data from excel, form a dictionary of tab names and dataframes\n",
    "tabs_to_grab=['Quarter','Date','Reported EPS','Comp EPS','Consensus EPS','50d MA','3d return','Volume','Momentum',\n",
    "             'Revision','Market cap','PE','property','Price']\n",
    "\n",
    "data_dict={}\n",
    "\n",
    "for s in tabs_to_grab:\n",
    "    data_dict[s]=clean_sheet(pd.read_excel(r'C:\\Users\\Eric.Li\\Documents\\Post result code\\Catalyst.xlsx',sheet_name=s))"
   ]
  },
  {
   "cell_type": "code",
   "execution_count": 438,
   "metadata": {
    "scrolled": true
   },
   "outputs": [],
   "source": [
    "#signal formation (number 1) and use the date as the base dataframe\n",
    "signal=data_dict['Date'][(data_dict['3d return']>2) & (data_dict['Revision']>0.02)]\n",
    "signal=signal.dropna(axis=1,how='all')\n",
    "signal=signal.dropna(axis=0,how='all')"
   ]
  },
  {
   "cell_type": "code",
   "execution_count": 441,
   "metadata": {
    "scrolled": true
   },
   "outputs": [
    {
     "name": "stderr",
     "output_type": "stream",
     "text": [
      "C:\\Users\\Eric.Li\\AppData\\Local\\Continuum\\anaconda3\\lib\\site-packages\\ipykernel_launcher.py:6: DeprecationWarning: parsing timezone aware datetimes is deprecated; this will raise an error in the future\n",
      "  \n"
     ]
    }
   ],
   "source": [
    "#Stack signals into a list of tuples (stocks, dates), convert dates into a common format of datetime\n",
    "signal_list=[]\n",
    "for index, row in signal.iterrows():\n",
    "    adj_row=row.dropna()\n",
    "    for s in adj_row.values:\n",
    "        ts=(s - np.datetime64('1970-01-01T00:00:00Z')) / np.timedelta64(1, 's') \n",
    "        adj_time=datetime.utcfromtimestamp(ts).strftime(\"%d/%b/%Y\") #transform the datetime into a common format\n",
    "        signal_list.append((adj_row.name,adj_time))"
   ]
  },
  {
   "cell_type": "code",
   "execution_count": 505,
   "metadata": {},
   "outputs": [],
   "source": [
    "# grab the price time series and transform it into the same datetime format; also generate abs_return, rel_return dataframe\n",
    "price=data_dict[\"Price\"]\n",
    "new_column=pd.to_datetime(price.columns).strftime(\"%d/%b/%Y\").tolist()\n",
    "price.columns=new_column\n",
    "\n",
    "abs_return=price.diff(1,axis=1)/price\n",
    "abs_return=abs_return.dropna(how='all',axis=1)\n",
    "rel_return=abs_return - abs_return.iloc[-1]\n",
    "rel_return=rel_return.dropna(how='all',axis=1)"
   ]
  },
  {
   "cell_type": "code",
   "execution_count": 572,
   "metadata": {},
   "outputs": [],
   "source": [
    "# create a dictionary to have signal information (tuple) as keys and return data time series as values to make it easier to check\n",
    "#; replace datetime with number of days post announcement to make it more comparable \n",
    "def signal_return_dict(signal_list,return_dataframe,holding):\n",
    "    signal_dict={}\n",
    "    for s in signal_list:\n",
    "        return_series=return_dataframe.loc[s[0]]\n",
    "        day0=return_series.index.tolist().index(s[1]) #index of day 0\n",
    "        target_series=return_series.iloc[day0:day0+min(holding, len(return_series[day0:]))]\n",
    "        target_series.index=range(min(holding, len(return_series[day0:]))) #replace datetime with number of days post announcement\n",
    "        target_series.name=s\n",
    "        signal_dict[s]=target_series\n",
    "    return signal_dict\n"
   ]
  },
  {
   "cell_type": "code",
   "execution_count": 579,
   "metadata": {},
   "outputs": [],
   "source": [
    "# obtain the dataframe of return time series for the signal stocks, take the signal_return_dict function\n",
    "def signal_return_df(signal_list,return_dataframe,holding):\n",
    "    return_series_list=[]\n",
    "    return_dict=signal_return_dict(signal_list,return_dataframe,holding)\n",
    "    for index,key in return_dict.items():\n",
    "        return_series_list.append(key)\n",
    "    return_df=pd.concat(return_series_list,axis=1)\n",
    "    return_df=return_df.dropna(how='any',axis=1) #drop stocks with limited history to make it more comparable\n",
    "    return return_df\n",
    "\n",
    "abs_return_df=signal_return_df(signal_list,abs_return,123)\n",
    "rel_return_df=signal_return_df(signal_list,rel_return,123)"
   ]
  },
  {
   "cell_type": "code",
   "execution_count": 580,
   "metadata": {
    "scrolled": false
   },
   "outputs": [
    {
     "data": {
      "text/plain": [
       "ADS GY    08/Mar/2017    0.033548\n",
       "ALV GY    16/Feb/2017    0.091166\n",
       "ASML NA   19/Jul/2017    0.093027\n",
       "          19/Oct/2016    0.144697\n",
       "BMW GY    03/Aug/2017    0.118280\n",
       "          04/May/2017   -0.039345\n",
       "CRH ID    25/Aug/2016   -0.010643\n",
       "DG FP     07/Feb/2017    0.067937\n",
       "DPW GY    11/May/2016    0.031508\n",
       "DTE GY    03/Aug/2017   -0.133005\n",
       "ENGI FP   02/Mar/2017    0.093085\n",
       "ENI IM    28/Jul/2017    0.053168\n",
       "FP FP     11/Feb/2016    0.024361\n",
       "GLE FP    03/Nov/2016    0.155430\n",
       "          03/Aug/2016    0.316157\n",
       "IBE SQ    22/Feb/2017    0.055520\n",
       "INGA NA   03/Nov/2016    0.046876\n",
       "          03/Aug/2016    0.191740\n",
       "MUV2 GY   09/Aug/2016    0.038575\n",
       "NOKIA FH  02/Feb/2017    0.134540\n",
       "PHIA NA   24/Oct/2016   -0.043749\n",
       "SAN FP    28/Oct/2016    0.037927\n",
       "SAN SQ    25/Jan/2017    0.028812\n",
       "SIE GY    04/Aug/2016    0.050622\n",
       "          04/May/2016    0.097536\n",
       "          25/Jan/2016    0.060011\n",
       "TEF SQ    23/Feb/2017   -0.040833\n",
       "VIV FP    31/Aug/2017    0.019270\n",
       "          09/Nov/2016   -0.217079\n",
       "Name: 122, dtype: float64"
      ]
     },
     "execution_count": 580,
     "metadata": {},
     "output_type": "execute_result"
    }
   ],
   "source": [
    "# List of signals and cumulative returns\n",
    "ind_abs_return=abs_return_df.iloc[3:].cumsum(axis=0).iloc[-1]\n",
    "ind_abs_return\n",
    "\n",
    "ind_rel_return=rel_return_df.iloc[3:].cumsum(axis=0).iloc[-1]\n",
    "ind_rel_return"
   ]
  },
  {
   "cell_type": "code",
   "execution_count": 575,
   "metadata": {
    "scrolled": true
   },
   "outputs": [
    {
     "data": {
      "image/png": "[encoded data removed]",
      "text/plain": [
       "<matplotlib.figure.Figure at 0xc5f3b00>"
      ]
     },
     "metadata": {},
     "output_type": "display_data"
    }
   ],
   "source": [
    "# Performance analytics\n",
    "# 1. aggregate abs/rel performance over time\n",
    "def perf_chart(return_df,xlabel,ylabel,title):\n",
    "    cum_return=return_df.mean(axis=1).cumsum()\n",
    "    plt.plot(cum_return)\n",
    "    plt.xlabel(xlabel)\n",
    "    plt.ylabel(ylabel)\n",
    "    plt.title(title)\n",
    "    plt.show()\n",
    "    \n",
    "perf_chart(abs_return_df.iloc[3:], xlabel=\"Days post announcement\",\n",
    "           ylabel=\"Average accumulated absolute return\",title=\"Absolute performance of signal 1 - SX5E 2016-2018\")"
   ]
  },
  {
   "cell_type": "code",
   "execution_count": 576,
   "metadata": {
    "scrolled": true
   },
   "outputs": [
    {
     "data": {
      "image/png": "[encoded data removed]",
      "text/plain": [
       "<matplotlib.figure.Figure at 0xc5f3550>"
      ]
     },
     "metadata": {},
     "output_type": "display_data"
    }
   ],
   "source": [
    "perf_chart(rel_return_df.iloc[3:], xlabel=\"Days post announcement\",\n",
    "           ylabel=\"Average accumulated rel return\",title=\"Rel performance of signal 1 - SX5E 2016-2018\")\n"
   ]
  },
  {
   "cell_type": "code",
   "execution_count": 577,
   "metadata": {},
   "outputs": [
    {
     "data": {
      "text/plain": [
       "(0.7931034482758621, 1.0677993726103472)"
      ]
     },
     "execution_count": 577,
     "metadata": {},
     "output_type": "execute_result"
    }
   ],
   "source": [
    "# 2. trading analytics\n",
    "def trading_analytics(return_df):\n",
    "    ind_return=return_df.cumsum(axis=0).iloc[-1]\n",
    "    hit_rate=len(ind_return[ind_return>0])/len(ind_return)*1.0\n",
    "    payoff_ratio=ind_return[ind_return>0].mean()/ind_return[ind_return<0].mean()*-1.0\n",
    "    #annualised_return=return_df.mean(axis=1).cumsum().iloc[-1]*260/(len(return_df))\n",
    "    #annualised_vol=return_df.mean(axis=1).std()*((260/(len(return_df)))**0.5)\n",
    "    #annualised_sharpe=annualised_return/annualised_vol*1.0\n",
    "    return hit_rate,payoff_ratio\n",
    "    \n",
    "trading_analytics(rel_return_df[3:]) \n"
   ]
  },
  {
   "cell_type": "code",
   "execution_count": null,
   "metadata": {},
   "outputs": [],
   "source": []
  }
 ],
 "metadata": {
  "kernelspec": {
   "display_name": "Python 3",
   "language": "python",
   "name": "python3"
  },
  "language_info": {
   "codemirror_mode": {
    "name": "ipython",
    "version": 3
   },
   "file_extension": ".py",
   "mimetype": "text/x-python",
   "name": "python",
   "nbconvert_exporter": "python",
   "pygments_lexer": "ipython3",
   "version": "3.6.4"
  }
 },
 "nbformat": 4,
 "nbformat_minor": 2
}
