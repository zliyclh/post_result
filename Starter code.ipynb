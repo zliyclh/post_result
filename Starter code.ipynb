{
 "cells": [
  {
   "cell_type": "markdown",
   "metadata": {},
   "source": [
    "## Use SX5E and bloomberg download data to get me started"
   ]
  },
  {
   "cell_type": "code",
   "execution_count": 89,
   "metadata": {},
   "outputs": [],
   "source": [
    "import pandas as pd\n",
    "import numpy as np\n",
    "from datetime import datetime\n"
   ]
  },
  {
   "cell_type": "code",
   "execution_count": 128,
   "metadata": {},
   "outputs": [],
   "source": [
    "#initial cleaning function\n",
    "def clean_sheet(dataframe):\n",
    "    adj=dataframe.dropna(axis=1,how='all')\n",
    "    adj=dataframe.set_index(adj.columns[0])\n",
    "    return adj"
   ]
  },
  {
   "cell_type": "code",
   "execution_count": 152,
   "metadata": {},
   "outputs": [],
   "source": [
    "#pull the data from excel\n",
    "tabs_to_grab=['Quarter','Date','Reported EPS','Comp EPS','Consensus EPS','50d MA','3d return','Volume','Momentum',\n",
    "             'Revision','Market cap','PE','property','Price']\n",
    "\n",
    "data_dict={}\n",
    "\n",
    "for s in tabs_to_grab:\n",
    "    data_dict[s]=clean_sheet(pd.read_excel(r'C:\\Users\\Eric.Li\\Documents\\Post result code\\Catalyst.xlsx',sheet_name=s))\n"
   ]
  },
  {
   "cell_type": "code",
   "execution_count": 302,
   "metadata": {
    "scrolled": true
   },
   "outputs": [],
   "source": [
    "#signal formation\n",
    "signal=data_dict['Date'][(data_dict['3d return']>2) & (data_dict['Revision']>0.02)]\n",
    "signal=signal.dropna(axis=1,how='all')\n",
    "signal=signal.dropna(axis=0,how='all')"
   ]
  },
  {
   "cell_type": "code",
   "execution_count": 298,
   "metadata": {
    "scrolled": true
   },
   "outputs": [
    {
     "name": "stderr",
     "output_type": "stream",
     "text": [
      "C:\\Users\\Eric.Li\\AppData\\Local\\Continuum\\anaconda3\\lib\\site-packages\\ipykernel_launcher.py:6: DeprecationWarning: parsing timezone aware datetimes is deprecated; this will raise an error in the future\n",
      "  \n"
     ]
    }
   ],
   "source": [
    "#Stack signals into a list of tuples\n",
    "signal_list=[]\n",
    "for index, row in signal.iterrows():\n",
    "    adj_row=row.dropna()\n",
    "    for s in adj_row.values:\n",
    "        ts=(s - np.datetime64('1970-01-01T00:00:00Z')) / np.timedelta64(1, 's')\n",
    "        adj_time=datetime.utcfromtimestamp(ts).strftime(\"%d/%b/%Y\")\n",
    "        signal_list.append((adj_row.name,adj_time))"
   ]
  },
  {
   "cell_type": "code",
   "execution_count": 299,
   "metadata": {},
   "outputs": [],
   "source": [
    "# transform the datetime format\n",
    "price=data_dict[\"Price\"]\n",
    "new_column=pd.to_datetime(price.columns).strftime(\"%d/%b/%Y\").tolist()\n",
    "price.columns=new_column"
   ]
  },
  {
   "cell_type": "code",
   "execution_count": 300,
   "metadata": {},
   "outputs": [],
   "source": [
    "# create a dictionary to have signal lists as keys and return series as values\n",
    "def signal_return_dict(signal_list,price_dataframe,holding):\n",
    "    signal_dict={}\n",
    "    for s in signal_list:\n",
    "        price_series=price_dataframe.loc[s[0]]\n",
    "        return_series=price_series.diff(1)/price_series\n",
    "        day0=return_series.index.tolist().index(s[1])\n",
    "        target_series=return_series.iloc[day0:day0+min(holding, len(return_series[day0:]))]\n",
    "        target_series.index=range(min(holding, len(return_series[day0:])))\n",
    "        signal_dict[s]=target_series\n",
    "\n",
    "    return signal_dict"
   ]
  },
  {
   "cell_type": "code",
   "execution_count": 301,
   "metadata": {},
   "outputs": [],
   "source": [
    "dict_test=signal_return_dict(signal_list,price,63)"
   ]
  },
  {
   "cell_type": "code",
   "execution_count": null,
   "metadata": {},
   "outputs": [],
   "source": []
  },
  {
   "cell_type": "code",
   "execution_count": null,
   "metadata": {},
   "outputs": [],
   "source": []
  }
 ],
 "metadata": {
  "kernelspec": {
   "display_name": "Python 3",
   "language": "python",
   "name": "python3"
  },
  "language_info": {
   "codemirror_mode": {
    "name": "ipython",
    "version": 3
   },
   "file_extension": ".py",
   "mimetype": "text/x-python",
   "name": "python",
   "nbconvert_exporter": "python",
   "pygments_lexer": "ipython3",
   "version": "3.6.4"
  }
 },
 "nbformat": 4,
 "nbformat_minor": 2
}
