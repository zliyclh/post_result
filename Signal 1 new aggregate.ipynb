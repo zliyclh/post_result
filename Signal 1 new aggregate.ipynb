{
 "cells": [
  {
   "cell_type": "markdown",
   "metadata": {},
   "source": [
    "# 1. Packages import"
   ]
  },
  {
   "cell_type": "code",
   "execution_count": 1,
   "metadata": {},
   "outputs": [],
   "source": [
    "import pandas as pd\n",
    "import numpy as np\n",
    "from datetime import datetime\n",
    "import matplotlib.pyplot as plt\n",
    "import matplotlib\n",
    "import seaborn as sns\n",
    "import textwrap\n",
    "from pandas.plotting import register_matplotlib_converters\n",
    "register_matplotlib_converters()\n",
    "\n",
    "%matplotlib inline"
   ]
  },
  {
   "cell_type": "code",
   "execution_count": 2,
   "metadata": {},
   "outputs": [],
   "source": [
    "import statsmodels.api as sm\n",
    "from sklearn.ensemble import RandomForestClassifier\n",
    "from sklearn import metrics\n",
    "from sklearn.model_selection import train_test_split\n",
    "from sklearn.linear_model import LogisticRegression\n",
    "from sklearn.metrics import confusion_matrix\n",
    "from sklearn import linear_model\n",
    "from sklearn.ensemble import RandomForestRegressor\n",
    "from sklearn.cluster import KMeans\n",
    "from sklearn.metrics import roc_auc_score\n",
    "from statsmodels.graphics.tsaplots import plot_acf\n",
    "from sklearn.metrics import roc_auc_score\n",
    "from sklearn.metrics import roc_curve"
   ]
  },
  {
   "cell_type": "code",
   "execution_count": 3,
   "metadata": {},
   "outputs": [
    {
     "name": "stdout",
     "output_type": "stream",
     "text": [
      "importing Jupyter notebook from utils.ipynb\n"
     ]
    }
   ],
   "source": [
    "import import_ipynb\n",
    "import utils"
   ]
  },
  {
   "cell_type": "markdown",
   "metadata": {},
   "source": [
    "# 2. Data retrieval"
   ]
  },
  {
   "cell_type": "markdown",
   "metadata": {},
   "source": [
    "## 2.1 US data"
   ]
  },
  {
   "cell_type": "code",
   "execution_count": 4,
   "metadata": {},
   "outputs": [],
   "source": [
    "US_price,abs_return_US,US_index_price,abs_return_index_US=utils.CSV_price('US',2006,2019,False)"
   ]
  },
  {
   "cell_type": "code",
   "execution_count": 5,
   "metadata": {},
   "outputs": [
    {
     "name": "stderr",
     "output_type": "stream",
     "text": [
      "C:\\Users\\eric.li\\AppData\\Local\\Continuum\\anaconda3\\lib\\site-packages\\IPython\\core\\interactiveshell.py:3214: DtypeWarning: Columns (1) have mixed types. Specify dtype option on import or set low_memory=False.\n",
      "  if (yield from self.run_code(code, result)):\n"
     ]
    }
   ],
   "source": [
    "US_VWAP,abs_return_VWAP_US,US_index_VWAP,abs_return_VWAP_index_US=utils.CSV_price('US',2006,2019,True)"
   ]
  },
  {
   "cell_type": "code",
   "execution_count": 6,
   "metadata": {},
   "outputs": [],
   "source": [
    "US_EPS =utils.CSV_EPS(\"US\",2006,2019)"
   ]
  },
  {
   "cell_type": "code",
   "execution_count": 7,
   "metadata": {
    "scrolled": true
   },
   "outputs": [],
   "source": [
    "US1=utils.CSV_fundamentals(\"US\",US_price,US_EPS,1,120,0.005,True)"
   ]
  },
  {
   "cell_type": "code",
   "execution_count": null,
   "metadata": {},
   "outputs": [],
   "source": []
  },
  {
   "cell_type": "markdown",
   "metadata": {},
   "source": [
    "## 2.2 Europe data"
   ]
  },
  {
   "cell_type": "code",
   "execution_count": 8,
   "metadata": {},
   "outputs": [],
   "source": [
    "Europe_price,abs_return_Europe,Europe_index_price,abs_return_index_Europe=utils.CSV_price_orig('Europe',2006,2019,False)"
   ]
  },
  {
   "cell_type": "code",
   "execution_count": 9,
   "metadata": {},
   "outputs": [],
   "source": [
    "Europe_VWAP,abs_return_VWAP_Europe,Europe_index_VWAP,abs_return_VWAP_index_Europe=utils.CSV_price_orig('Europe',2006,2019,True)"
   ]
  },
  {
   "cell_type": "code",
   "execution_count": 10,
   "metadata": {
    "scrolled": true
   },
   "outputs": [],
   "source": [
    "Europe_EPS =utils.CSV_EPS(\"Europe\",2006,2019)"
   ]
  },
  {
   "cell_type": "code",
   "execution_count": 11,
   "metadata": {
    "scrolled": true
   },
   "outputs": [],
   "source": [
    "Europe2=utils.CSV_fundamentals(\"Europe\",Europe_price,Europe_EPS,2,120,0.005,True)"
   ]
  },
  {
   "cell_type": "markdown",
   "metadata": {},
   "source": [
    "## 2.3 Asia data"
   ]
  },
  {
   "cell_type": "code",
   "execution_count": 12,
   "metadata": {},
   "outputs": [],
   "source": [
    "Asia_price,abs_return_Asia,Asia_index_price,abs_return_index_Asia=utils.CSV_price_orig('Asia',2006,2019,False)"
   ]
  },
  {
   "cell_type": "code",
   "execution_count": 13,
   "metadata": {},
   "outputs": [],
   "source": [
    "Asia_VWAP,abs_return_VWAP_Asia,Europe_index_Asia,abs_return_VWAP_index_Asia=utils.CSV_price_orig('Asia',2006,2019,False)"
   ]
  },
  {
   "cell_type": "code",
   "execution_count": 14,
   "metadata": {},
   "outputs": [],
   "source": [
    "Asia_EPS =utils.CSV_EPS(\"Asia\",2006,2019)"
   ]
  },
  {
   "cell_type": "code",
   "execution_count": 51,
   "metadata": {
    "scrolled": true
   },
   "outputs": [
    {
     "name": "stdout",
     "output_type": "stream",
     "text": [
      "                 Date            Orig date  Market cap      Volume  \\\n",
      "Ticker                                                               \n",
      "8270 JP    2007-01-05  2007-01-05 00:00:00   2504.8126    6.074805   \n",
      "3337 JP    2007-01-05  2007-01-05 00:00:00   1588.7307    6.418745   \n",
      "7453 JP    2007-01-05  2007-01-05 00:00:00   2169.6636   12.349353   \n",
      "8267 JP    2007-01-05  2007-01-05 00:00:00  18080.8233   53.995287   \n",
      "8273 JP    2007-01-05  2007-01-05 00:00:00   2217.7714    3.075023   \n",
      "SPH SP     2007-01-08  2007-01-08 00:00:00   4636.6944    7.681267   \n",
      "8028 JP    2007-01-09  2007-01-09 00:00:00   2761.4465    5.143418   \n",
      "2880 TT    2007-01-09  2007-01-09 00:00:00   4474.4603    5.319704   \n",
      "2651 JP    2007-01-09  2007-01-09 00:00:00   3860.7499    8.776672   \n",
      "9843 JP    2007-01-09  2007-01-09 00:00:00   2387.4372   10.185021   \n",
      "3382 JP    2007-01-09  2007-01-09 00:00:00  31255.0821   90.539858   \n",
      "6136 JP    2007-01-10  2007-01-09 00:00:00   1562.2321    5.028216   \n",
      "2883 TT    2007-01-10  2007-01-10 00:00:00   4922.5494    7.305260   \n",
      "2337 JP    2007-01-10  2007-01-10 00:00:00   1043.9980   29.340953   \n",
      "2881 TT    2007-01-10  2007-01-10 00:00:00   6822.4012    7.291221   \n",
      "002380 KS  2007-01-11  2007-01-11 00:00:00   3047.6516    4.802038   \n",
      "SGX SP     2007-01-11  2007-01-11 00:00:00   3828.3021    7.117802   \n",
      "005490 KS  2007-01-11  2007-01-11 00:00:00  26929.5681   56.778655   \n",
      "8258 JP    2007-01-11  2007-01-11 00:00:00   1601.9505   17.022951   \n",
      "9983 JP    2007-01-11  2007-01-11 00:00:00   9783.9668   46.013885   \n",
      "2809 JP    2007-01-11  2007-01-11 00:00:00   1339.7361    3.566569   \n",
      "8308 JP    2007-01-11  2007-01-10 00:00:00  31272.2056   87.077797   \n",
      "8263 JP    2007-01-11  2007-01-11 00:00:00   2756.3032   22.643820   \n",
      "8379 JP    2007-01-11  2007-01-10 00:00:00   3524.8375    3.428031   \n",
      "8184 JP    2007-01-12  2007-01-12 00:00:00   1476.7935    4.642569   \n",
      "005930 KS  2007-01-12  2007-01-12 00:00:00  94485.9284  224.390816   \n",
      "8016 JP    2007-01-12  2007-01-12 00:00:00   2184.5010    5.891852   \n",
      "7649 JP    2007-01-12  2007-01-12 00:00:00   1037.8481    3.564268   \n",
      "8902 JP    2007-01-15  2007-01-15 00:00:00   1295.0315   10.182907   \n",
      "6703 JP    2007-01-15  2007-01-12 00:00:00   1511.7301    7.017324   \n",
      "...               ...                  ...         ...         ...   \n",
      "7956 JP    2019-12-03  2019-12-02 00:00:00   5656.4855   25.802397   \n",
      "2593 JP    2019-12-03  2019-12-02 00:00:00   4532.6173    4.636258   \n",
      "9627 JP    2019-12-04  2019-12-03 00:00:00   2236.0937    7.210522   \n",
      "2801 TT    2019-12-04  2019-12-04 00:00:00   7489.3931   18.946985   \n",
      "MTS AU     2019-12-05  2019-12-05 00:00:00   1715.2765    7.637357   \n",
      "9678 JP    2019-12-09  2019-12-06 00:00:00   1155.6330    7.403979   \n",
      "1928 JP    2019-12-09  2019-12-06 00:00:00  15305.4235   51.555886   \n",
      "4382 JP    2019-12-09  2019-12-06 00:00:00    729.8928    3.653796   \n",
      "6184 JP    2019-12-13  2019-12-12 00:00:00    594.0969    8.033410   \n",
      "6966 JP    2019-12-13  2019-12-12 00:00:00    773.6618    3.684019   \n",
      "9681 JP    2019-12-13  2019-12-12 00:00:00    891.2889    3.960176   \n",
      "3549 JP    2019-12-13  2019-12-12 00:00:00   2377.7803    7.346047   \n",
      "9603 JP    2019-12-13  2019-12-12 00:00:00   1950.2730    7.530549   \n",
      "4384 JP    2019-12-13  2019-12-12 00:00:00    860.6435    5.276182   \n",
      "2695 JP    2019-12-13  2019-12-12 00:00:00    962.3408    4.735984   \n",
      "8803 JP    2019-12-16  2019-12-13 00:00:00   1045.7932    5.694644   \n",
      "4592 JP    2019-12-16  2019-12-13 00:00:00   1963.4918   18.996226   \n",
      "3038 JP    2019-12-16  2019-12-13 00:00:00   4304.7201   39.546661   \n",
      "4666 JP    2019-12-17  2019-12-16 00:00:00   3515.9734   18.207206   \n",
      "3391 JP    2019-12-18  2019-12-17 00:00:00   5796.0080   17.308358   \n",
      "2678 JP    2019-12-18  2019-12-17 00:00:00   1517.0336    3.643554   \n",
      "4716 JP    2019-12-23  2019-12-20 00:00:00  11853.3737   10.739656   \n",
      "7649 JP    2019-12-25  2019-12-24 00:00:00   3652.4777    8.839931   \n",
      "8227 JP    2019-12-25  2019-12-24 00:00:00   3046.5871   11.542140   \n",
      "6196 JP    2019-12-25  2019-12-24 00:00:00    828.7581    3.671592   \n",
      "8233 JP    2019-12-27  2019-12-26 00:00:00   1968.4394    8.128515   \n",
      "3086 JP    2019-12-27  2019-12-26 00:00:00   3544.0339    9.690491   \n",
      "2685 JP    2019-12-30  2019-12-27 00:00:00   1189.6894    5.849957   \n",
      "3050 JP    2019-12-30  2019-12-27 00:00:00   1392.5454    3.039511   \n",
      "9843 JP    2019-12-30  2019-12-27 00:00:00  17676.6489   34.095481   \n",
      "\n",
      "                           Supersector                             Sector  \n",
      "Ticker                                                                     \n",
      "8270 JP                         Retail                  General Retailers  \n",
      "3337 JP                         Retail              Food & Drug Retailers  \n",
      "7453 JP                         Retail                  General Retailers  \n",
      "8267 JP                         Retail                  General Retailers  \n",
      "8273 JP                         Retail                  General Retailers  \n",
      "SPH SP                           Media                              Media  \n",
      "8028 JP                         Retail              Food & Drug Retailers  \n",
      "2880 TT                          Banks                              Banks  \n",
      "2651 JP                         Retail              Food & Drug Retailers  \n",
      "9843 JP                         Retail                  General Retailers  \n",
      "3382 JP                         Retail                  General Retailers  \n",
      "6136 JP    Industrial Goods & Services             Industrial Engineering  \n",
      "2883 TT             Financial Services                 Financial Services  \n",
      "2337 JP             Financial Services                 Financial Services  \n",
      "2881 TT                      Insurance                     Life Insurance  \n",
      "002380 KS     Construction & Materials           Construction & Materials  \n",
      "SGX SP              Financial Services                 Financial Services  \n",
      "005490 KS              Basic Resources         Industrial Metals & Mining  \n",
      "8258 JP             Financial Services                 Financial Services  \n",
      "9983 JP                         Retail                  General Retailers  \n",
      "2809 JP                Food & Beverage                     Food Producers  \n",
      "8308 JP                          Banks                              Banks  \n",
      "8263 JP                         Retail                  General Retailers  \n",
      "8379 JP                          Banks                              Banks  \n",
      "8184 JP                         Retail                  General Retailers  \n",
      "005930 KS                   Technology    Technology Hardware & Equipment  \n",
      "8016 JP     Personal & Household Goods                     Personal Goods  \n",
      "7649 JP                         Retail              Food & Drug Retailers  \n",
      "8902 JP             Financial Services                 Financial Services  \n",
      "6703 JP                     Technology    Technology Hardware & Equipment  \n",
      "...                                ...                                ...  \n",
      "7956 JP               Travel & Leisure                   Travel & Leisure  \n",
      "2593 JP                    Real Estate  Real Estate Investment & Services  \n",
      "9627 JP                          Media                              Media  \n",
      "2801 TT                         Retail                  General Retailers  \n",
      "MTS AU                      Technology       Software & Computer Services  \n",
      "9678 JP                Basic Resources                             Mining  \n",
      "1928 JP                    Real Estate  Real Estate Investment & Services  \n",
      "4382 JP                    Health Care    Pharmaceuticals & Biotechnology  \n",
      "6184 JP                            NaN                                NaN  \n",
      "6966 JP                     Technology    Technology Hardware & Equipment  \n",
      "9681 JP                         Retail                  General Retailers  \n",
      "3549 JP                      Chemicals                          Chemicals  \n",
      "9603 JP                          Banks                              Banks  \n",
      "4384 JP                      Chemicals                          Chemicals  \n",
      "2695 JP                Food & Beverage                     Food Producers  \n",
      "8803 JP    Industrial Goods & Services                   Support Services  \n",
      "4592 JP                Basic Resources         Industrial Metals & Mining  \n",
      "3038 JP                      Chemicals                          Chemicals  \n",
      "4666 JP    Industrial Goods & Services                General Industrials  \n",
      "3391 JP     Personal & Household Goods                      Leisure Goods  \n",
      "2678 JP                         Retail              Food & Drug Retailers  \n",
      "4716 JP    Industrial Goods & Services  Electronic & Electrical Equipment  \n",
      "7649 JP             Financial Services                 Financial Services  \n",
      "8227 JP             Telecommunications          Mobile Telecommunications  \n",
      "6196 JP                            NaN                                NaN  \n",
      "8233 JP             Telecommunications          Mobile Telecommunications  \n",
      "3086 JP                         Retail              Food & Drug Retailers  \n",
      "2685 JP                Food & Beverage                     Food Producers  \n",
      "3050 JP                     Technology    Technology Hardware & Equipment  \n",
      "9843 JP                    Health Care   Health Care Equipment & Services  \n",
      "\n",
      "[53393 rows x 6 columns]\n",
      "                 Date            Orig date  Market cap      Volume  \\\n",
      "Ticker                                                               \n",
      "8270 JP    2007-01-05  2007-01-05 00:00:00   2504.8126    6.074805   \n",
      "3337 JP    2007-01-05  2007-01-05 00:00:00   1588.7307    6.418745   \n",
      "7453 JP    2007-01-05  2007-01-05 00:00:00   2169.6636   12.349353   \n",
      "8267 JP    2007-01-05  2007-01-05 00:00:00  18080.8233   53.995287   \n",
      "8273 JP    2007-01-05  2007-01-05 00:00:00   2217.7714    3.075023   \n",
      "SPH SP     2007-01-08  2007-01-08 00:00:00   4636.6944    7.681267   \n",
      "8028 JP    2007-01-09  2007-01-09 00:00:00   2761.4465    5.143418   \n",
      "2880 TT    2007-01-09  2007-01-09 00:00:00   4474.4603    5.319704   \n",
      "2651 JP    2007-01-09  2007-01-09 00:00:00   3860.7499    8.776672   \n",
      "9843 JP    2007-01-09  2007-01-09 00:00:00   2387.4372   10.185021   \n",
      "3382 JP    2007-01-09  2007-01-09 00:00:00  31255.0821   90.539858   \n",
      "6136 JP    2007-01-10  2007-01-09 00:00:00   1562.2321    5.028216   \n",
      "2883 TT    2007-01-10  2007-01-10 00:00:00   4922.5494    7.305260   \n",
      "2337 JP    2007-01-10  2007-01-10 00:00:00   1043.9980   29.340953   \n",
      "2881 TT    2007-01-10  2007-01-10 00:00:00   6822.4012    7.291221   \n",
      "002380 KS  2007-01-11  2007-01-11 00:00:00   3047.6516    4.802038   \n",
      "SGX SP     2007-01-11  2007-01-11 00:00:00   3828.3021    7.117802   \n",
      "005490 KS  2007-01-11  2007-01-11 00:00:00  26929.5681   56.778655   \n",
      "8258 JP    2007-01-11  2007-01-11 00:00:00   1601.9505   17.022951   \n",
      "9983 JP    2007-01-11  2007-01-11 00:00:00   9783.9668   46.013885   \n",
      "2809 JP    2007-01-11  2007-01-11 00:00:00   1339.7361    3.566569   \n",
      "8308 JP    2007-01-11  2007-01-10 00:00:00  31272.2056   87.077797   \n",
      "8263 JP    2007-01-11  2007-01-11 00:00:00   2756.3032   22.643820   \n",
      "8379 JP    2007-01-11  2007-01-10 00:00:00   3524.8375    3.428031   \n",
      "8184 JP    2007-01-12  2007-01-12 00:00:00   1476.7935    4.642569   \n",
      "005930 KS  2007-01-12  2007-01-12 00:00:00  94485.9284  224.390816   \n",
      "8016 JP    2007-01-12  2007-01-12 00:00:00   2184.5010    5.891852   \n",
      "7649 JP    2007-01-12  2007-01-12 00:00:00   1037.8481    3.564268   \n",
      "8902 JP    2007-01-15  2007-01-15 00:00:00   1295.0315   10.182907   \n",
      "6703 JP    2007-01-15  2007-01-12 00:00:00   1511.7301    7.017324   \n",
      "...               ...                  ...         ...         ...   \n",
      "7956 JP    2019-12-03  2019-12-02 00:00:00   5656.4855   25.802397   \n",
      "2593 JP    2019-12-03  2019-12-02 00:00:00   4532.6173    4.636258   \n",
      "9627 JP    2019-12-04  2019-12-03 00:00:00   2236.0937    7.210522   \n",
      "2801 TT    2019-12-04  2019-12-04 00:00:00   7489.3931   18.946985   \n",
      "MTS AU     2019-12-05  2019-12-05 00:00:00   1715.2765    7.637357   \n",
      "9678 JP    2019-12-09  2019-12-06 00:00:00   1155.6330    7.403979   \n",
      "1928 JP    2019-12-09  2019-12-06 00:00:00  15305.4235   51.555886   \n",
      "4382 JP    2019-12-09  2019-12-06 00:00:00    729.8928    3.653796   \n",
      "6184 JP    2019-12-13  2019-12-12 00:00:00    594.0969    8.033410   \n",
      "6966 JP    2019-12-13  2019-12-12 00:00:00    773.6618    3.684019   \n",
      "9681 JP    2019-12-13  2019-12-12 00:00:00    891.2889    3.960176   \n",
      "3549 JP    2019-12-13  2019-12-12 00:00:00   2377.7803    7.346047   \n",
      "9603 JP    2019-12-13  2019-12-12 00:00:00   1950.2730    7.530549   \n",
      "4384 JP    2019-12-13  2019-12-12 00:00:00    860.6435    5.276182   \n",
      "2695 JP    2019-12-13  2019-12-12 00:00:00    962.3408    4.735984   \n",
      "8803 JP    2019-12-16  2019-12-13 00:00:00   1045.7932    5.694644   \n",
      "4592 JP    2019-12-16  2019-12-13 00:00:00   1963.4918   18.996226   \n",
      "3038 JP    2019-12-16  2019-12-13 00:00:00   4304.7201   39.546661   \n",
      "4666 JP    2019-12-17  2019-12-16 00:00:00   3515.9734   18.207206   \n",
      "3391 JP    2019-12-18  2019-12-17 00:00:00   5796.0080   17.308358   \n",
      "2678 JP    2019-12-18  2019-12-17 00:00:00   1517.0336    3.643554   \n",
      "4716 JP    2019-12-23  2019-12-20 00:00:00  11853.3737   10.739656   \n",
      "7649 JP    2019-12-25  2019-12-24 00:00:00   3652.4777    8.839931   \n",
      "8227 JP    2019-12-25  2019-12-24 00:00:00   3046.5871   11.542140   \n",
      "6196 JP    2019-12-25  2019-12-24 00:00:00    828.7581    3.671592   \n",
      "8233 JP    2019-12-27  2019-12-26 00:00:00   1968.4394    8.128515   \n",
      "3086 JP    2019-12-27  2019-12-26 00:00:00   3544.0339    9.690491   \n",
      "2685 JP    2019-12-30  2019-12-27 00:00:00   1189.6894    5.849957   \n",
      "3050 JP    2019-12-30  2019-12-27 00:00:00   1392.5454    3.039511   \n",
      "9843 JP    2019-12-30  2019-12-27 00:00:00  17676.6489   34.095481   \n",
      "\n",
      "                           Supersector                             Sector  \n",
      "Ticker                                                                     \n",
      "8270 JP                         Retail                  General Retailers  \n",
      "3337 JP                         Retail              Food & Drug Retailers  \n",
      "7453 JP                         Retail                  General Retailers  \n",
      "8267 JP                         Retail                  General Retailers  \n",
      "8273 JP                         Retail                  General Retailers  \n",
      "SPH SP                           Media                              Media  \n",
      "8028 JP                         Retail              Food & Drug Retailers  \n",
      "2880 TT                          Banks                              Banks  \n",
      "2651 JP                         Retail              Food & Drug Retailers  \n",
      "9843 JP                         Retail                  General Retailers  \n",
      "3382 JP                         Retail                  General Retailers  \n",
      "6136 JP    Industrial Goods & Services             Industrial Engineering  \n",
      "2883 TT             Financial Services                 Financial Services  \n",
      "2337 JP             Financial Services                 Financial Services  \n",
      "2881 TT                      Insurance                     Life Insurance  \n",
      "002380 KS     Construction & Materials           Construction & Materials  \n",
      "SGX SP              Financial Services                 Financial Services  \n",
      "005490 KS              Basic Resources         Industrial Metals & Mining  \n",
      "8258 JP             Financial Services                 Financial Services  \n",
      "9983 JP                         Retail                  General Retailers  \n",
      "2809 JP                Food & Beverage                     Food Producers  \n",
      "8308 JP                          Banks                              Banks  \n",
      "8263 JP                         Retail                  General Retailers  \n",
      "8379 JP                          Banks                              Banks  \n",
      "8184 JP                         Retail                  General Retailers  \n",
      "005930 KS                   Technology    Technology Hardware & Equipment  \n",
      "8016 JP     Personal & Household Goods                     Personal Goods  \n",
      "7649 JP                         Retail              Food & Drug Retailers  \n",
      "8902 JP             Financial Services                 Financial Services  \n",
      "6703 JP                     Technology    Technology Hardware & Equipment  \n",
      "...                                ...                                ...  \n",
      "7956 JP               Travel & Leisure                   Travel & Leisure  \n",
      "2593 JP                    Real Estate  Real Estate Investment & Services  \n",
      "9627 JP                          Media                              Media  \n",
      "2801 TT                         Retail                  General Retailers  \n",
      "MTS AU                      Technology       Software & Computer Services  \n",
      "9678 JP                Basic Resources                             Mining  \n",
      "1928 JP                    Real Estate  Real Estate Investment & Services  \n",
      "4382 JP                    Health Care    Pharmaceuticals & Biotechnology  \n",
      "6184 JP                            NaN                                NaN  \n",
      "6966 JP                     Technology    Technology Hardware & Equipment  \n",
      "9681 JP                         Retail                  General Retailers  \n",
      "3549 JP                      Chemicals                          Chemicals  \n",
      "9603 JP                          Banks                              Banks  \n",
      "4384 JP                      Chemicals                          Chemicals  \n",
      "2695 JP                Food & Beverage                     Food Producers  \n",
      "8803 JP    Industrial Goods & Services                   Support Services  \n",
      "4592 JP                Basic Resources         Industrial Metals & Mining  \n",
      "3038 JP                      Chemicals                          Chemicals  \n",
      "4666 JP    Industrial Goods & Services                General Industrials  \n",
      "3391 JP     Personal & Household Goods                      Leisure Goods  \n",
      "2678 JP                         Retail              Food & Drug Retailers  \n",
      "4716 JP    Industrial Goods & Services  Electronic & Electrical Equipment  \n",
      "7649 JP             Financial Services                 Financial Services  \n",
      "8227 JP             Telecommunications          Mobile Telecommunications  \n",
      "6196 JP                            NaN                                NaN  \n",
      "8233 JP             Telecommunications          Mobile Telecommunications  \n",
      "3086 JP                         Retail              Food & Drug Retailers  \n",
      "2685 JP                Food & Beverage                     Food Producers  \n",
      "3050 JP                     Technology    Technology Hardware & Equipment  \n",
      "9843 JP                    Health Care   Health Care Equipment & Services  \n",
      "\n",
      "[53393 rows x 6 columns]\n"
     ]
    },
    {
     "name": "stdout",
     "output_type": "stream",
     "text": [
      "                 Date            Orig date  Market cap      Volume  \\\n",
      "Ticker                                                               \n",
      "7453 JP    2007-01-05  2007-01-05 00:00:00   2169.6636   12.349353   \n",
      "8273 JP    2007-01-05  2007-01-05 00:00:00   2217.7714    3.075023   \n",
      "8267 JP    2007-01-05  2007-01-05 00:00:00  18080.8233   53.995287   \n",
      "3337 JP    2007-01-05  2007-01-05 00:00:00   1588.7307    6.418745   \n",
      "8270 JP    2007-01-05  2007-01-05 00:00:00   2504.8126    6.074805   \n",
      "SPH SP     2007-01-08  2007-01-08 00:00:00   4636.6944    7.681267   \n",
      "3382 JP    2007-01-09  2007-01-09 00:00:00  31255.0821   90.539858   \n",
      "8028 JP    2007-01-09  2007-01-09 00:00:00   2761.4465    5.143418   \n",
      "2651 JP    2007-01-09  2007-01-09 00:00:00   3860.7499    8.776672   \n",
      "9843 JP    2007-01-09  2007-01-09 00:00:00   2387.4372   10.185021   \n",
      "2880 TT    2007-01-09  2007-01-09 00:00:00   4474.4603    5.319704   \n",
      "6136 JP    2007-01-10  2007-01-09 00:00:00   1562.2321    5.028216   \n",
      "2337 JP    2007-01-10  2007-01-10 00:00:00   1043.9980   29.340953   \n",
      "2881 TT    2007-01-10  2007-01-10 00:00:00   6822.4012    7.291221   \n",
      "2883 TT    2007-01-10  2007-01-10 00:00:00   4922.5494    7.305260   \n",
      "8308 JP    2007-01-11  2007-01-10 00:00:00  31272.2056   87.077797   \n",
      "8379 JP    2007-01-11  2007-01-10 00:00:00   3524.8375    3.428031   \n",
      "8263 JP    2007-01-11  2007-01-11 00:00:00   2756.3032   22.643820   \n",
      "8258 JP    2007-01-11  2007-01-11 00:00:00   1601.9505   17.022951   \n",
      "002380 KS  2007-01-11  2007-01-11 00:00:00   3047.6516    4.802038   \n",
      "SGX SP     2007-01-11  2007-01-11 00:00:00   3828.3021    7.117802   \n",
      "005490 KS  2007-01-11  2007-01-11 00:00:00  26929.5681   56.778655   \n",
      "9983 JP    2007-01-11  2007-01-11 00:00:00   9783.9668   46.013885   \n",
      "2809 JP    2007-01-11  2007-01-11 00:00:00   1339.7361    3.566569   \n",
      "8184 JP    2007-01-12  2007-01-12 00:00:00   1476.7935    4.642569   \n",
      "005930 KS  2007-01-12  2007-01-12 00:00:00  94485.9284  224.390816   \n",
      "8016 JP    2007-01-12  2007-01-12 00:00:00   2184.5010    5.891852   \n",
      "7649 JP    2007-01-12  2007-01-12 00:00:00   1037.8481    3.564268   \n",
      "6703 JP    2007-01-15  2007-01-12 00:00:00   1511.7301    7.017324   \n",
      "000830 KS  2007-01-15  2007-01-15 00:00:00   5043.5796   25.900536   \n",
      "...               ...                  ...         ...         ...   \n",
      "2593 JP    2019-12-03  2019-12-02 00:00:00   4532.6173    4.636258   \n",
      "7956 JP    2019-12-03  2019-12-02 00:00:00   5656.4855   25.802397   \n",
      "2801 TT    2019-12-04  2019-12-04 00:00:00   7489.3931   18.946985   \n",
      "9627 JP    2019-12-04  2019-12-03 00:00:00   2236.0937    7.210522   \n",
      "MTS AU     2019-12-05  2019-12-05 00:00:00   1715.2765    7.637357   \n",
      "9678 JP    2019-12-09  2019-12-06 00:00:00   1155.6330    7.403979   \n",
      "1928 JP    2019-12-09  2019-12-06 00:00:00  15305.4235   51.555886   \n",
      "4382 JP    2019-12-09  2019-12-06 00:00:00    729.8928    3.653796   \n",
      "2695 JP    2019-12-13  2019-12-12 00:00:00    962.3408    4.735984   \n",
      "6966 JP    2019-12-13  2019-12-12 00:00:00    773.6618    3.684019   \n",
      "9681 JP    2019-12-13  2019-12-12 00:00:00    891.2889    3.960176   \n",
      "9603 JP    2019-12-13  2019-12-12 00:00:00   1950.2730    7.530549   \n",
      "6184 JP    2019-12-13  2019-12-12 00:00:00    594.0969    8.033410   \n",
      "4384 JP    2019-12-13  2019-12-12 00:00:00    860.6435    5.276182   \n",
      "3549 JP    2019-12-13  2019-12-12 00:00:00   2377.7803    7.346047   \n",
      "4592 JP    2019-12-16  2019-12-13 00:00:00   1963.4918   18.996226   \n",
      "3038 JP    2019-12-16  2019-12-13 00:00:00   4304.7201   39.546661   \n",
      "8803 JP    2019-12-16  2019-12-13 00:00:00   1045.7932    5.694644   \n",
      "4666 JP    2019-12-17  2019-12-16 00:00:00   3515.9734   18.207206   \n",
      "3391 JP    2019-12-18  2019-12-17 00:00:00   5796.0080   17.308358   \n",
      "2678 JP    2019-12-18  2019-12-17 00:00:00   1517.0336    3.643554   \n",
      "4716 JP    2019-12-23  2019-12-20 00:00:00  11853.3737   10.739656   \n",
      "6196 JP    2019-12-25  2019-12-24 00:00:00    828.7581    3.671592   \n",
      "7649 JP    2019-12-25  2019-12-24 00:00:00   3652.4777    8.839931   \n",
      "8227 JP    2019-12-25  2019-12-24 00:00:00   3046.5871   11.542140   \n",
      "3086 JP    2019-12-27  2019-12-26 00:00:00   3544.0339    9.690491   \n",
      "8233 JP    2019-12-27  2019-12-26 00:00:00   1968.4394    8.128515   \n",
      "3050 JP    2019-12-30  2019-12-27 00:00:00   1392.5454    3.039511   \n",
      "9843 JP    2019-12-30  2019-12-27 00:00:00  17676.6489   34.095481   \n",
      "2685 JP    2019-12-30  2019-12-27 00:00:00   1189.6894    5.849957   \n",
      "\n",
      "                           Supersector                             Sector  \\\n",
      "Ticker                                                                      \n",
      "7453 JP                         Retail                  General Retailers   \n",
      "8273 JP                         Retail                  General Retailers   \n",
      "8267 JP                         Retail                  General Retailers   \n",
      "3337 JP                         Retail              Food & Drug Retailers   \n",
      "8270 JP                         Retail                  General Retailers   \n",
      "SPH SP                           Media                              Media   \n",
      "3382 JP                         Retail                  General Retailers   \n",
      "8028 JP                         Retail              Food & Drug Retailers   \n",
      "2651 JP                         Retail              Food & Drug Retailers   \n",
      "9843 JP                         Retail                  General Retailers   \n",
      "2880 TT                          Banks                              Banks   \n",
      "6136 JP    Industrial Goods & Services             Industrial Engineering   \n",
      "2337 JP             Financial Services                 Financial Services   \n",
      "2881 TT                      Insurance                     Life Insurance   \n",
      "2883 TT             Financial Services                 Financial Services   \n",
      "8308 JP                          Banks                              Banks   \n",
      "8379 JP                          Banks                              Banks   \n",
      "8263 JP                         Retail                  General Retailers   \n",
      "8258 JP             Financial Services                 Financial Services   \n",
      "002380 KS     Construction & Materials           Construction & Materials   \n",
      "SGX SP              Financial Services                 Financial Services   \n",
      "005490 KS              Basic Resources         Industrial Metals & Mining   \n",
      "9983 JP                         Retail                  General Retailers   \n",
      "2809 JP                Food & Beverage                     Food Producers   \n",
      "8184 JP                         Retail                  General Retailers   \n",
      "005930 KS                   Technology    Technology Hardware & Equipment   \n",
      "8016 JP     Personal & Household Goods                     Personal Goods   \n",
      "7649 JP                         Retail              Food & Drug Retailers   \n",
      "6703 JP                     Technology    Technology Hardware & Equipment   \n",
      "000830 KS     Construction & Materials           Construction & Materials   \n",
      "...                                ...                                ...   \n",
      "2593 JP                    Real Estate  Real Estate Investment & Services   \n",
      "7956 JP               Travel & Leisure                   Travel & Leisure   \n",
      "2801 TT                         Retail                  General Retailers   \n",
      "9627 JP                          Media                              Media   \n",
      "MTS AU                      Technology       Software & Computer Services   \n",
      "9678 JP                Basic Resources                             Mining   \n",
      "1928 JP                    Real Estate  Real Estate Investment & Services   \n",
      "4382 JP                    Health Care    Pharmaceuticals & Biotechnology   \n",
      "2695 JP                Food & Beverage                     Food Producers   \n",
      "6966 JP                     Technology    Technology Hardware & Equipment   \n",
      "9681 JP                         Retail                  General Retailers   \n",
      "9603 JP                          Banks                              Banks   \n",
      "6184 JP                            NaN                                NaN   \n",
      "4384 JP                      Chemicals                          Chemicals   \n",
      "3549 JP                      Chemicals                          Chemicals   \n",
      "4592 JP                Basic Resources         Industrial Metals & Mining   \n",
      "3038 JP                      Chemicals                          Chemicals   \n",
      "8803 JP    Industrial Goods & Services                   Support Services   \n",
      "4666 JP    Industrial Goods & Services                General Industrials   \n",
      "3391 JP     Personal & Household Goods                      Leisure Goods   \n",
      "2678 JP                         Retail              Food & Drug Retailers   \n",
      "4716 JP    Industrial Goods & Services  Electronic & Electrical Equipment   \n",
      "6196 JP                            NaN                                NaN   \n",
      "7649 JP             Financial Services                 Financial Services   \n",
      "8227 JP             Telecommunications          Mobile Telecommunications   \n",
      "3086 JP                         Retail              Food & Drug Retailers   \n",
      "8233 JP             Telecommunications          Mobile Telecommunications   \n",
      "3050 JP                     Technology    Technology Hardware & Equipment   \n",
      "9843 JP                    Health Care   Health Care Equipment & Services   \n",
      "2685 JP                Food & Beverage                     Food Producers   \n",
      "\n",
      "           date_copy ticker_copy  next_date  \n",
      "Ticker                                       \n",
      "7453 JP   2007-01-05     7453 JP 2007-04-04  \n",
      "8273 JP   2007-01-05     8273 JP 2007-04-12  \n",
      "8267 JP   2007-01-05     8267 JP 2007-04-04  \n",
      "3337 JP   2007-01-05     3337 JP 2007-04-10  \n",
      "8270 JP   2007-01-05     8270 JP 2007-07-03  \n",
      "SPH SP    2007-01-08      SPH SP 2007-04-12  \n",
      "3382 JP   2007-01-09     3382 JP 2007-04-12  \n",
      "8028 JP   2007-01-09     8028 JP 2007-04-11  \n",
      "2651 JP   2007-01-09     2651 JP 2007-04-11  \n",
      "9843 JP   2007-01-09     9843 JP 2007-04-02  \n",
      "2880 TT   2007-01-09     2880 TT 2007-08-31  \n",
      "6136 JP   2007-01-10     6136 JP 2007-03-27  \n",
      "2337 JP   2007-01-10     2337 JP 2007-04-11  \n",
      "2881 TT   2007-01-10     2881 TT 2007-08-31  \n",
      "2883 TT   2007-01-10     2883 TT 2007-04-30  \n",
      "8308 JP   2007-01-11     8308 JP 2007-01-30  \n",
      "8379 JP   2007-01-11     8379 JP 2007-01-30  \n",
      "8263 JP   2007-01-11     8263 JP 2007-04-20  \n",
      "8258 JP   2007-01-11     8258 JP 2007-04-13  \n",
      "002380 KS 2007-01-11   002380 KS 2007-04-27  \n",
      "SGX SP    2007-01-11      SGX SP 2007-04-10  \n",
      "005490 KS 2007-01-11   005490 KS 2007-04-12  \n",
      "9983 JP   2007-01-11     9983 JP 2007-04-12  \n",
      "2809 JP   2007-01-11     2809 JP 2007-07-10  \n",
      "8184 JP   2007-01-12     8184 JP 2007-04-13  \n",
      "005930 KS 2007-01-12   005930 KS 2007-05-15  \n",
      "8016 JP   2007-01-12     8016 JP 2007-04-13  \n",
      "7649 JP   2007-01-12     7649 JP 2007-04-16  \n",
      "6703 JP   2007-01-15     6703 JP 2007-02-15  \n",
      "000830 KS 2007-01-15   000830 KS 2007-04-27  \n",
      "...              ...         ...        ...  \n",
      "2593 JP   2019-12-03     2600 HK 2007-08-20  \n",
      "7956 JP   2019-12-03     7965 JP 2015-06-29  \n",
      "2801 TT   2019-12-04     2802 JP 2007-01-31  \n",
      "9627 JP   2019-12-04      966 HK 2007-03-26  \n",
      "MTS AU    2019-12-05      MYO AU 2016-08-25  \n",
      "9678 JP   2019-12-09      968 H2 2018-02-26  \n",
      "1928 JP   2019-12-09   192820 KS 2014-05-15  \n",
      "4382 JP   2019-12-09     4384 JP 2018-06-15  \n",
      "2695 JP   2019-12-13       27 HK 2009-09-18  \n",
      "6966 JP   2019-12-13     6967 JP 2007-01-31  \n",
      "9681 JP   2019-12-13     9684 JP 2007-01-30  \n",
      "9603 JP   2019-12-13     9605 JP 2018-11-14  \n",
      "6184 JP   2019-12-13     6196 JP 2019-12-25  \n",
      "4384 JP   2019-12-13     4385 JP 2018-08-10  \n",
      "3549 JP   2019-12-13     3552 TT 2015-10-28  \n",
      "4592 JP   2019-12-16     4593 JP 2016-07-28  \n",
      "3038 JP   2019-12-16     3044 TT 2007-02-13  \n",
      "8803 JP   2019-12-16     8804 JP 2007-02-14  \n",
      "4666 JP   2019-12-17     4676 JP 2007-02-09  \n",
      "3391 JP   2019-12-18     3396 HK 2015-08-27  \n",
      "2678 JP   2019-12-18      268 HK 2011-03-16  \n",
      "4716 JP   2019-12-23     4732 JP 2007-02-06  \n",
      "6196 JP   2019-12-25     6197 JP 2017-11-10  \n",
      "7649 JP   2019-12-25      769 HK 2011-03-30  \n",
      "8227 JP   2019-12-25     8233 JP 2007-04-10  \n",
      "3086 JP   2019-12-27     3087 JP 2018-04-16  \n",
      "8233 JP   2019-12-27     8238 JP 2007-01-29  \n",
      "3050 JP   2019-12-30     3053 JP 2017-10-31  \n",
      "9843 JP   2019-12-30      985 HK 2010-07-23  \n",
      "2685 JP   2019-12-30     2688 HK 2009-09-15  \n",
      "\n",
      "[53393 rows x 9 columns]\n"
     ]
    },
    {
     "data": {
      "application/vnd.jupyter.widget-view+json": {
       "model_id": "b22a310eedac4ef5aec73dd755c0b33d",
       "version_major": 2,
       "version_minor": 0
      },
      "text/plain": [
       "HBox(children=(IntProgress(value=0, description='Pandas Apply', max=53393, style=ProgressStyle(description_wid…"
      ]
     },
     "metadata": {},
     "output_type": "display_data"
    },
    {
     "name": "stdout",
     "output_type": "stream",
     "text": [
      "\n",
      "                  Date            Orig date  Market cap      Volume  \\\n",
      "Ticker                                                                \n",
      "3833 HK    01/Apr/2008  2008-04-01 00:00:00   1393.3753    4.480275   \n",
      "3037 TT    01/Apr/2008  2008-04-01 00:00:00   1464.8493    8.583705   \n",
      "7545 JP    01/Apr/2008  2008-04-01 00:00:00    788.0312    4.294504   \n",
      "034220 KS  01/Apr/2008  2008-03-31 00:00:00  16049.3522  157.965503   \n",
      "69 HK      01/Apr/2008  2008-04-01 00:00:00   7260.5884    6.358145   \n",
      "2866 HK    01/Apr/2008  2008-04-01 00:00:00   8929.3093   28.403117   \n",
      "MIS AU     01/Apr/2008  2008-04-01 00:00:00   1173.7745    4.718598   \n",
      "028670 KS  01/Apr/2008  2008-03-31 00:00:00   4486.9115  126.269075   \n",
      "3704 TT    01/Apr/2008  2008-04-01 00:00:00    610.4263    4.364360   \n",
      "694 HK     01/Apr/2008  2008-04-01 00:00:00   3611.0103   11.710668   \n",
      "6505 TT    01/Apr/2009  2009-04-01 00:00:00  18208.8398    5.903339   \n",
      "036570 KS  01/Apr/2009  2009-03-31 00:00:00   1413.8008    9.619487   \n",
      "028670 KS  01/Apr/2009  2009-03-31 00:00:00   1394.2170   19.434180   \n",
      "2303 TT    01/Apr/2009  2009-03-31 00:00:00   4251.1283   14.397449   \n",
      "023530 KS  01/Apr/2009  2009-03-31 00:00:00   4046.6394    7.992426   \n",
      "551 HK     01/Apr/2009  2009-03-31 00:00:00   3757.3808    3.049077   \n",
      "034220 KS  01/Apr/2009  2009-03-31 00:00:00   7340.8159   97.490348   \n",
      "2883 HK    01/Apr/2009  2009-04-01 00:00:00   7632.3420    8.922281   \n",
      "010120 KS  01/Apr/2009  2009-03-31 00:00:00   1187.0543    7.846301   \n",
      "836 HK     01/Apr/2009  2009-04-01 00:00:00   8845.4257    7.891712   \n",
      "021240 KS  01/Apr/2009  2009-03-31 00:00:00   1627.7321    4.955022   \n",
      "055550 KS  01/Apr/2009  2009-03-31 00:00:00   8531.9508   67.728114   \n",
      "001440 KS  01/Apr/2009  2009-03-31 00:00:00    624.3511   12.659546   \n",
      "086790 KS  01/Apr/2009  2009-03-31 00:00:00   3222.9023   35.832729   \n",
      "000880 KS  01/Apr/2010  2010-03-31 00:00:00   2734.7512   17.487200   \n",
      "004170 KS  01/Apr/2010  2010-03-31 00:00:00   8924.3954    8.686439   \n",
      "042660 KS  01/Apr/2010  2010-03-31 00:00:00   3673.2678   19.462511   \n",
      "011170 KS  01/Apr/2010  2010-03-31 00:00:00   3198.2577   30.027558   \n",
      "006260 KS  01/Apr/2010  2010-03-31 00:00:00   2813.7444   10.214484   \n",
      "011200 KS  01/Apr/2010  2010-03-31 00:00:00   3595.6186    3.790516   \n",
      "...                ...                  ...         ...         ...   \n",
      "3938 JP    31/Oct/2019  2019-10-30 00:00:00   8752.7856   22.315328   \n",
      "6586 JP    31/Oct/2019  2019-10-30 00:00:00   9232.7599   30.203713   \n",
      "9301 JP    31/Oct/2019  2019-10-31 00:00:00   2249.9311    8.043371   \n",
      "3844 JP    31/Oct/2019  2019-10-30 00:00:00    615.6345    3.488956   \n",
      "9107 JP    31/Oct/2019  2019-10-31 00:00:00   1420.6439   18.063971   \n",
      "9104 JP    31/Oct/2019  2019-10-31 00:00:00   3324.6041   29.936685   \n",
      "6724 JP    31/Oct/2019  2019-10-30 00:00:00   5597.3828   25.258314   \n",
      "3738 JP    31/Oct/2019  2019-10-30 00:00:00   1162.8866    3.433732   \n",
      "3711 TT    31/Oct/2019  2019-10-30 00:00:00  11024.6420   19.784062   \n",
      "522 HK     31/Oct/2019  2019-10-31 00:00:00   5691.7384   15.779471   \n",
      "2412 TT    31/Oct/2019  2019-10-30 00:00:00  28810.6047   21.940297   \n",
      "2409 TT    31/Oct/2019  2019-10-30 00:00:00   2562.1635   11.817211   \n",
      "4042 JP    31/Oct/2019  2019-10-31 00:00:00   4509.8284   14.935185   \n",
      "7012 JP    31/Oct/2019  2019-10-31 00:00:00   4058.6427   23.214010   \n",
      "4452 JP    31/Oct/2019  2019-10-30 00:00:00  37779.0963  105.694152   \n",
      "9509 JP    31/Oct/2019  2019-10-30 00:00:00   1158.7166    4.676670   \n",
      "6471 JP    31/Oct/2019  2019-10-30 00:00:00   5194.7196   21.079563   \n",
      "9507 JP    31/Oct/2019  2019-10-31 00:00:00   2220.9452    4.970909   \n",
      "4205 JP    31/Oct/2019  2019-10-31 00:00:00   2729.0694    7.722587   \n",
      "6473 JP    31/Oct/2019  2019-10-31 00:00:00   4431.7569   10.118578   \n",
      "067160 KS  31/Oct/2019  2019-10-31 00:00:00    725.8633    4.447693   \n",
      "6501 JP    31/Oct/2019  2019-10-30 00:00:00  38058.6845  113.836449   \n",
      "5201 JP    31/Oct/2019  2019-10-30 00:00:00   7467.8815   30.200913   \n",
      "6503 JP    31/Oct/2019  2019-10-31 00:00:00  30951.2800   57.675805   \n",
      "6505 TT    31/Oct/2019  2019-10-31 00:00:00  30274.3683   10.185156   \n",
      "042670 KS  31/Oct/2019  2019-10-30 00:00:00   1061.2933    4.132845   \n",
      "7735 JP    31/Oct/2019  2019-10-30 00:00:00   3657.5289   52.070444   \n",
      "4043 JP    31/Oct/2019  2019-10-31 00:00:00   1889.2255   15.298989   \n",
      "6395 JP    31/Oct/2019  2019-10-30 00:00:00   1374.9303    4.954702   \n",
      "5471 JP    31/Oct/2019  2019-10-31 00:00:00   1919.3427    6.403167   \n",
      "\n",
      "                           Supersector  \\\n",
      "Ticker                                   \n",
      "3833 HK                Basic Resources   \n",
      "3037 TT    Industrial Goods & Services   \n",
      "7545 JP                         Retail   \n",
      "034220 KS                   Technology   \n",
      "69 HK                 Travel & Leisure   \n",
      "2866 HK    Industrial Goods & Services   \n",
      "MIS AU                 Basic Resources   \n",
      "028670 KS  Industrial Goods & Services   \n",
      "3704 TT                     Technology   \n",
      "694 HK     Industrial Goods & Services   \n",
      "6505 TT                      Oil & Gas   \n",
      "036570 KS   Personal & Household Goods   \n",
      "028670 KS  Industrial Goods & Services   \n",
      "2303 TT                     Technology   \n",
      "023530 KS                       Retail   \n",
      "551 HK      Personal & Household Goods   \n",
      "034220 KS                   Technology   \n",
      "2883 HK                      Oil & Gas   \n",
      "010120 KS  Industrial Goods & Services   \n",
      "836 HK                       Utilities   \n",
      "021240 KS   Personal & Household Goods   \n",
      "055550 KS                        Banks   \n",
      "001440 KS  Industrial Goods & Services   \n",
      "086790 KS                        Banks   \n",
      "000880 KS  Industrial Goods & Services   \n",
      "004170 KS                       Retail   \n",
      "042660 KS  Industrial Goods & Services   \n",
      "011170 KS                    Chemicals   \n",
      "006260 KS  Industrial Goods & Services   \n",
      "011200 KS  Industrial Goods & Services   \n",
      "...                                ...   \n",
      "3938 JP                    Health Care   \n",
      "6586 JP            Automobiles & Parts   \n",
      "9301 JP       Construction & Materials   \n",
      "3844 JP                    Health Care   \n",
      "9107 JP       Construction & Materials   \n",
      "9104 JP                    Health Care   \n",
      "6724 JP               Travel & Leisure   \n",
      "3738 JP    Industrial Goods & Services   \n",
      "3711 TT                     Technology   \n",
      "522 HK                     Health Care   \n",
      "2412 TT    Industrial Goods & Services   \n",
      "2409 TT     Personal & Household Goods   \n",
      "4042 JP                          Media   \n",
      "7012 JP                    Real Estate   \n",
      "4452 JP            Automobiles & Parts   \n",
      "9509 JP    Industrial Goods & Services   \n",
      "6471 JP                      Insurance   \n",
      "9507 JP                         Retail   \n",
      "4205 JP     Personal & Household Goods   \n",
      "6473 JP                          Banks   \n",
      "067160 KS                       Retail   \n",
      "6501 JP    Industrial Goods & Services   \n",
      "5201 JP             Financial Services   \n",
      "6503 JP    Industrial Goods & Services   \n",
      "6505 TT            Automobiles & Parts   \n",
      "042670 KS  Industrial Goods & Services   \n",
      "7735 JP                      Insurance   \n",
      "4043 JP               Travel & Leisure   \n",
      "6395 JP    Industrial Goods & Services   \n",
      "5471 JP    Industrial Goods & Services   \n",
      "\n",
      "                                           Sector  date_copy ticker_copy  \\\n",
      "Ticker                                                                     \n",
      "3833 HK                Industrial Metals & Mining 2008-04-01     3833 HK   \n",
      "3037 TT         Electronic & Electrical Equipment 2008-04-01     3037 TT   \n",
      "7545 JP                         General Retailers 2008-04-01     7545 JP   \n",
      "034220 KS         Technology Hardware & Equipment 2008-04-01   034220 KS   \n",
      "69 HK                            Travel & Leisure 2008-04-01       69 HK   \n",
      "2866 HK                 Industrial Transportation 2008-04-01     2866 HK   \n",
      "MIS AU                 Industrial Metals & Mining 2008-04-01      MIS AU   \n",
      "028670 KS               Industrial Transportation 2008-04-01   028670 KS   \n",
      "3704 TT           Technology Hardware & Equipment 2008-04-01     3704 TT   \n",
      "694 HK                  Industrial Transportation 2008-04-01      694 HK   \n",
      "6505 TT                       Oil & Gas Producers 2009-04-01     6505 TT   \n",
      "036570 KS                           Leisure Goods 2009-04-01   036570 KS   \n",
      "028670 KS               Industrial Transportation 2009-04-01   028670 KS   \n",
      "2303 TT           Technology Hardware & Equipment 2009-04-01     2303 TT   \n",
      "023530 KS                       General Retailers 2009-04-01   023530 KS   \n",
      "551 HK                             Personal Goods 2009-04-01      551 HK   \n",
      "034220 KS         Technology Hardware & Equipment 2009-04-01   034220 KS   \n",
      "2883 HK    Oil Equipment, Services & Distribution 2009-04-01     2883 HK   \n",
      "010120 KS       Electronic & Electrical Equipment 2009-04-01   010120 KS   \n",
      "836 HK                                Electricity 2009-04-01      836 HK   \n",
      "021240 KS     Household Goods & Home Construction 2009-04-01   021240 KS   \n",
      "055550 KS                                   Banks 2009-04-01   055550 KS   \n",
      "001440 KS       Electronic & Electrical Equipment 2009-04-01   001440 KS   \n",
      "086790 KS                                   Banks 2009-04-01   086790 KS   \n",
      "000880 KS                        Support Services 2010-04-01   000880 KS   \n",
      "004170 KS                       General Retailers 2010-04-01   004170 KS   \n",
      "042660 KS                  Industrial Engineering 2010-04-01   042660 KS   \n",
      "011170 KS                               Chemicals 2010-04-01   011170 KS   \n",
      "006260 KS       Electronic & Electrical Equipment 2010-04-01   006260 KS   \n",
      "011200 KS               Industrial Transportation 2010-04-01   011200 KS   \n",
      "...                                           ...        ...         ...   \n",
      "3938 JP           Pharmaceuticals & Biotechnology 2019-10-31     3941 JP   \n",
      "6586 JP                       Automobiles & Parts 2019-10-31     6588 JP   \n",
      "9301 JP                  Construction & Materials 2019-10-31      931 HK   \n",
      "3844 JP           Pharmaceuticals & Biotechnology 2019-10-31      386 HK   \n",
      "9107 JP                  Construction & Materials 2019-10-31      911 HK   \n",
      "9104 JP           Pharmaceuticals & Biotechnology 2019-10-31     9107 JP   \n",
      "6724 JP                          Travel & Leisure 2019-10-31     6727 JP   \n",
      "3738 JP                          Support Services 2019-10-31     3765 JP   \n",
      "3711 TT              Software & Computer Services 2019-10-31     3715 JP   \n",
      "522 HK            Pharmaceuticals & Biotechnology 2019-10-31     5232 JP   \n",
      "2412 TT                          Support Services 2019-10-31     2413 JP   \n",
      "2409 TT                            Personal Goods 2019-10-31      241 HK   \n",
      "4042 JP                                     Media 2019-10-31     4043 JP   \n",
      "7012 JP         Real Estate Investment & Services 2019-10-31     7013 JP   \n",
      "4452 JP                       Automobiles & Parts 2019-10-31     4471 JP   \n",
      "9509 JP                          Support Services 2019-10-31     9513 JP   \n",
      "6471 JP                            Life Insurance 2019-10-31     6472 JP   \n",
      "9507 JP                         General Retailers 2019-10-31     9508 JP   \n",
      "4205 JP                            Personal Goods 2019-10-31     4206 JP   \n",
      "6473 JP                                     Banks 2019-10-31     6474 JP   \n",
      "067160 KS                       General Retailers 2019-10-31   067250 KS   \n",
      "6501 JP                    Industrial Engineering 2019-10-31     6502 JP   \n",
      "5201 JP                        Financial Services 2019-10-31     5202 JP   \n",
      "6503 JP                    Industrial Engineering 2019-10-31     6504 JP   \n",
      "6505 TT                       Automobiles & Parts 2019-10-31     6506 JP   \n",
      "042670 KS                  Industrial Engineering 2019-10-31   044490 KS   \n",
      "7735 JP                         Nonlife Insurance 2019-10-31     7740 JP   \n",
      "4043 JP                          Travel & Leisure 2019-10-31     4044 JP   \n",
      "6395 JP         Electronic & Electrical Equipment 2019-10-31     6407 JP   \n",
      "5471 JP                    Industrial Engineering 2019-10-31     5479 JP   \n",
      "\n",
      "           next_date  \n",
      "Ticker                \n",
      "3833 HK   2009-08-21  \n",
      "3037 TT   2008-04-30  \n",
      "7545 JP   2008-06-23  \n",
      "034220 KS 2009-04-01  \n",
      "69 HK     2008-09-02  \n",
      "2866 HK   2008-04-02  \n",
      "MIS AU    2008-09-12  \n",
      "028670 KS 2009-04-01  \n",
      "3704 TT   2008-04-29  \n",
      "694 HK    2008-09-26  \n",
      "6505 TT   2009-05-01  \n",
      "036570 KS 2009-08-07  \n",
      "028670 KS 2009-05-15  \n",
      "2303 TT   2009-04-30  \n",
      "023530 KS 2009-10-23  \n",
      "551 HK    2010-01-21  \n",
      "034220 KS 2009-05-27  \n",
      "2883 HK   2009-04-29  \n",
      "010120 KS 2010-03-31  \n",
      "836 HK    2009-08-24  \n",
      "021240 KS 2010-04-30  \n",
      "055550 KS 2009-05-04  \n",
      "001440 KS 2010-03-31  \n",
      "086790 KS 2009-04-27  \n",
      "000880 KS 2011-03-11  \n",
      "004170 KS 2011-03-31  \n",
      "042660 KS 2011-03-17  \n",
      "011170 KS 2011-03-11  \n",
      "006260 KS 2011-05-19  \n",
      "011200 KS 2011-03-31  \n",
      "...              ...  \n",
      "3938 JP   2007-01-31  \n",
      "6586 JP   2007-04-27  \n",
      "9301 JP   2014-08-27  \n",
      "3844 JP   2007-04-10  \n",
      "9107 JP   2015-03-11  \n",
      "9104 JP   2007-02-08  \n",
      "6724 JP   2007-01-31  \n",
      "3738 JP   2012-11-09  \n",
      "3711 TT   2007-11-13  \n",
      "522 HK    2007-02-14  \n",
      "2412 TT   2007-04-26  \n",
      "2409 TT   2018-05-16  \n",
      "4042 JP   2007-02-06  \n",
      "7012 JP   2007-02-05  \n",
      "4452 JP   2019-07-31  \n",
      "9509 JP   2007-02-12  \n",
      "6471 JP   2007-02-07  \n",
      "9507 JP   2007-02-01  \n",
      "4205 JP   2012-10-30  \n",
      "6473 JP   2007-01-24  \n",
      "067160 KS 2007-03-05  \n",
      "6501 JP   2007-02-01  \n",
      "5201 JP   2007-02-06  \n",
      "6503 JP   2007-01-26  \n",
      "6505 TT   2007-01-29  \n",
      "042670 KS 2007-05-03  \n",
      "7735 JP   2007-08-06  \n",
      "4043 JP   2007-02-14  \n",
      "6395 JP   2007-01-31  \n",
      "5471 JP   2007-02-05  \n",
      "\n",
      "[53393 rows x 9 columns]\n"
     ]
    },
    {
     "data": {
      "application/vnd.jupyter.widget-view+json": {
       "model_id": "e5cdd6a3c89041f885971ea091d16482",
       "version_major": 2,
       "version_minor": 0
      },
      "text/plain": [
       "HBox(children=(IntProgress(value=0, description='Pandas Apply', max=53393, style=ProgressStyle(description_wid…"
      ]
     },
     "metadata": {},
     "output_type": "display_data"
    },
    {
     "name": "stdout",
     "output_type": "stream",
     "text": [
      "\n",
      "                  Date    Orig date  Market cap      Volume  \\\n",
      "Ticker                                                        \n",
      "3833 HK    01/Apr/2008  01/Apr/2008   1393.3753    4.480275   \n",
      "3037 TT    01/Apr/2008  01/Apr/2008   1464.8493    8.583705   \n",
      "7545 JP    01/Apr/2008  01/Apr/2008    788.0312    4.294504   \n",
      "034220 KS  01/Apr/2008  31/Mar/2008  16049.3522  157.965503   \n",
      "69 HK      01/Apr/2008  01/Apr/2008   7260.5884    6.358145   \n",
      "2866 HK    01/Apr/2008  01/Apr/2008   8929.3093   28.403117   \n",
      "MIS AU     01/Apr/2008  01/Apr/2008   1173.7745    4.718598   \n",
      "028670 KS  01/Apr/2008  31/Mar/2008   4486.9115  126.269075   \n",
      "3704 TT    01/Apr/2008  01/Apr/2008    610.4263    4.364360   \n",
      "694 HK     01/Apr/2008  01/Apr/2008   3611.0103   11.710668   \n",
      "6505 TT    01/Apr/2009  01/Apr/2009  18208.8398    5.903339   \n",
      "036570 KS  01/Apr/2009  31/Mar/2009   1413.8008    9.619487   \n",
      "028670 KS  01/Apr/2009  31/Mar/2009   1394.2170   19.434180   \n",
      "2303 TT    01/Apr/2009  31/Mar/2009   4251.1283   14.397449   \n",
      "023530 KS  01/Apr/2009  31/Mar/2009   4046.6394    7.992426   \n",
      "551 HK     01/Apr/2009  31/Mar/2009   3757.3808    3.049077   \n",
      "034220 KS  01/Apr/2009  31/Mar/2009   7340.8159   97.490348   \n",
      "2883 HK    01/Apr/2009  01/Apr/2009   7632.3420    8.922281   \n",
      "010120 KS  01/Apr/2009  31/Mar/2009   1187.0543    7.846301   \n",
      "836 HK     01/Apr/2009  01/Apr/2009   8845.4257    7.891712   \n",
      "021240 KS  01/Apr/2009  31/Mar/2009   1627.7321    4.955022   \n",
      "055550 KS  01/Apr/2009  31/Mar/2009   8531.9508   67.728114   \n",
      "001440 KS  01/Apr/2009  31/Mar/2009    624.3511   12.659546   \n",
      "086790 KS  01/Apr/2009  31/Mar/2009   3222.9023   35.832729   \n",
      "000880 KS  01/Apr/2010  31/Mar/2010   2734.7512   17.487200   \n",
      "004170 KS  01/Apr/2010  31/Mar/2010   8924.3954    8.686439   \n",
      "042660 KS  01/Apr/2010  31/Mar/2010   3673.2678   19.462511   \n",
      "011170 KS  01/Apr/2010  31/Mar/2010   3198.2577   30.027558   \n",
      "006260 KS  01/Apr/2010  31/Mar/2010   2813.7444   10.214484   \n",
      "011200 KS  01/Apr/2010  31/Mar/2010   3595.6186    3.790516   \n",
      "...                ...          ...         ...         ...   \n",
      "3938 JP    31/Oct/2019  30/Oct/2019   8752.7856   22.315328   \n",
      "6586 JP    31/Oct/2019  30/Oct/2019   9232.7599   30.203713   \n",
      "9301 JP    31/Oct/2019  31/Oct/2019   2249.9311    8.043371   \n",
      "3844 JP    31/Oct/2019  30/Oct/2019    615.6345    3.488956   \n",
      "9107 JP    31/Oct/2019  31/Oct/2019   1420.6439   18.063971   \n",
      "9104 JP    31/Oct/2019  31/Oct/2019   3324.6041   29.936685   \n",
      "6724 JP    31/Oct/2019  30/Oct/2019   5597.3828   25.258314   \n",
      "3738 JP    31/Oct/2019  30/Oct/2019   1162.8866    3.433732   \n",
      "3711 TT    31/Oct/2019  30/Oct/2019  11024.6420   19.784062   \n",
      "522 HK     31/Oct/2019  31/Oct/2019   5691.7384   15.779471   \n",
      "2412 TT    31/Oct/2019  30/Oct/2019  28810.6047   21.940297   \n",
      "2409 TT    31/Oct/2019  30/Oct/2019   2562.1635   11.817211   \n",
      "4042 JP    31/Oct/2019  31/Oct/2019   4509.8284   14.935185   \n",
      "7012 JP    31/Oct/2019  31/Oct/2019   4058.6427   23.214010   \n",
      "4452 JP    31/Oct/2019  30/Oct/2019  37779.0963  105.694152   \n",
      "9509 JP    31/Oct/2019  30/Oct/2019   1158.7166    4.676670   \n",
      "6471 JP    31/Oct/2019  30/Oct/2019   5194.7196   21.079563   \n",
      "9507 JP    31/Oct/2019  31/Oct/2019   2220.9452    4.970909   \n",
      "4205 JP    31/Oct/2019  31/Oct/2019   2729.0694    7.722587   \n",
      "6473 JP    31/Oct/2019  31/Oct/2019   4431.7569   10.118578   \n",
      "067160 KS  31/Oct/2019  31/Oct/2019    725.8633    4.447693   \n",
      "6501 JP    31/Oct/2019  30/Oct/2019  38058.6845  113.836449   \n",
      "5201 JP    31/Oct/2019  30/Oct/2019   7467.8815   30.200913   \n",
      "6503 JP    31/Oct/2019  31/Oct/2019  30951.2800   57.675805   \n",
      "6505 TT    31/Oct/2019  31/Oct/2019  30274.3683   10.185156   \n",
      "042670 KS  31/Oct/2019  30/Oct/2019   1061.2933    4.132845   \n",
      "7735 JP    31/Oct/2019  30/Oct/2019   3657.5289   52.070444   \n",
      "4043 JP    31/Oct/2019  31/Oct/2019   1889.2255   15.298989   \n",
      "6395 JP    31/Oct/2019  30/Oct/2019   1374.9303    4.954702   \n",
      "5471 JP    31/Oct/2019  31/Oct/2019   1919.3427    6.403167   \n",
      "\n",
      "                           Supersector  \\\n",
      "Ticker                                   \n",
      "3833 HK                Basic Resources   \n",
      "3037 TT    Industrial Goods & Services   \n",
      "7545 JP                         Retail   \n",
      "034220 KS                   Technology   \n",
      "69 HK                 Travel & Leisure   \n",
      "2866 HK    Industrial Goods & Services   \n",
      "MIS AU                 Basic Resources   \n",
      "028670 KS  Industrial Goods & Services   \n",
      "3704 TT                     Technology   \n",
      "694 HK     Industrial Goods & Services   \n",
      "6505 TT                      Oil & Gas   \n",
      "036570 KS   Personal & Household Goods   \n",
      "028670 KS  Industrial Goods & Services   \n",
      "2303 TT                     Technology   \n",
      "023530 KS                       Retail   \n",
      "551 HK      Personal & Household Goods   \n",
      "034220 KS                   Technology   \n",
      "2883 HK                      Oil & Gas   \n",
      "010120 KS  Industrial Goods & Services   \n",
      "836 HK                       Utilities   \n",
      "021240 KS   Personal & Household Goods   \n",
      "055550 KS                        Banks   \n",
      "001440 KS  Industrial Goods & Services   \n",
      "086790 KS                        Banks   \n",
      "000880 KS  Industrial Goods & Services   \n",
      "004170 KS                       Retail   \n",
      "042660 KS  Industrial Goods & Services   \n",
      "011170 KS                    Chemicals   \n",
      "006260 KS  Industrial Goods & Services   \n",
      "011200 KS  Industrial Goods & Services   \n",
      "...                                ...   \n",
      "3938 JP                    Health Care   \n",
      "6586 JP            Automobiles & Parts   \n",
      "9301 JP       Construction & Materials   \n",
      "3844 JP                    Health Care   \n",
      "9107 JP       Construction & Materials   \n",
      "9104 JP                    Health Care   \n",
      "6724 JP               Travel & Leisure   \n",
      "3738 JP    Industrial Goods & Services   \n",
      "3711 TT                     Technology   \n",
      "522 HK                     Health Care   \n",
      "2412 TT    Industrial Goods & Services   \n",
      "2409 TT     Personal & Household Goods   \n",
      "4042 JP                          Media   \n",
      "7012 JP                    Real Estate   \n",
      "4452 JP            Automobiles & Parts   \n",
      "9509 JP    Industrial Goods & Services   \n",
      "6471 JP                      Insurance   \n",
      "9507 JP                         Retail   \n",
      "4205 JP     Personal & Household Goods   \n",
      "6473 JP                          Banks   \n",
      "067160 KS                       Retail   \n",
      "6501 JP    Industrial Goods & Services   \n",
      "5201 JP             Financial Services   \n",
      "6503 JP    Industrial Goods & Services   \n",
      "6505 TT            Automobiles & Parts   \n",
      "042670 KS  Industrial Goods & Services   \n",
      "7735 JP                      Insurance   \n",
      "4043 JP               Travel & Leisure   \n",
      "6395 JP    Industrial Goods & Services   \n",
      "5471 JP    Industrial Goods & Services   \n",
      "\n",
      "                                           Sector  date_copy ticker_copy  \\\n",
      "Ticker                                                                     \n",
      "3833 HK                Industrial Metals & Mining 2008-04-01     3833 HK   \n",
      "3037 TT         Electronic & Electrical Equipment 2008-04-01     3037 TT   \n",
      "7545 JP                         General Retailers 2008-04-01     7545 JP   \n",
      "034220 KS         Technology Hardware & Equipment 2008-04-01   034220 KS   \n",
      "69 HK                            Travel & Leisure 2008-04-01       69 HK   \n",
      "2866 HK                 Industrial Transportation 2008-04-01     2866 HK   \n",
      "MIS AU                 Industrial Metals & Mining 2008-04-01      MIS AU   \n",
      "028670 KS               Industrial Transportation 2008-04-01   028670 KS   \n",
      "3704 TT           Technology Hardware & Equipment 2008-04-01     3704 TT   \n",
      "694 HK                  Industrial Transportation 2008-04-01      694 HK   \n",
      "6505 TT                       Oil & Gas Producers 2009-04-01     6505 TT   \n",
      "036570 KS                           Leisure Goods 2009-04-01   036570 KS   \n",
      "028670 KS               Industrial Transportation 2009-04-01   028670 KS   \n",
      "2303 TT           Technology Hardware & Equipment 2009-04-01     2303 TT   \n",
      "023530 KS                       General Retailers 2009-04-01   023530 KS   \n",
      "551 HK                             Personal Goods 2009-04-01      551 HK   \n",
      "034220 KS         Technology Hardware & Equipment 2009-04-01   034220 KS   \n",
      "2883 HK    Oil Equipment, Services & Distribution 2009-04-01     2883 HK   \n",
      "010120 KS       Electronic & Electrical Equipment 2009-04-01   010120 KS   \n",
      "836 HK                                Electricity 2009-04-01      836 HK   \n",
      "021240 KS     Household Goods & Home Construction 2009-04-01   021240 KS   \n",
      "055550 KS                                   Banks 2009-04-01   055550 KS   \n",
      "001440 KS       Electronic & Electrical Equipment 2009-04-01   001440 KS   \n",
      "086790 KS                                   Banks 2009-04-01   086790 KS   \n",
      "000880 KS                        Support Services 2010-04-01   000880 KS   \n",
      "004170 KS                       General Retailers 2010-04-01   004170 KS   \n",
      "042660 KS                  Industrial Engineering 2010-04-01   042660 KS   \n",
      "011170 KS                               Chemicals 2010-04-01   011170 KS   \n",
      "006260 KS       Electronic & Electrical Equipment 2010-04-01   006260 KS   \n",
      "011200 KS               Industrial Transportation 2010-04-01   011200 KS   \n",
      "...                                           ...        ...         ...   \n",
      "3938 JP           Pharmaceuticals & Biotechnology 2019-10-31     3941 JP   \n",
      "6586 JP                       Automobiles & Parts 2019-10-31     6588 JP   \n",
      "9301 JP                  Construction & Materials 2019-10-31      931 HK   \n",
      "3844 JP           Pharmaceuticals & Biotechnology 2019-10-31      386 HK   \n",
      "9107 JP                  Construction & Materials 2019-10-31      911 HK   \n",
      "9104 JP           Pharmaceuticals & Biotechnology 2019-10-31     9107 JP   \n",
      "6724 JP                          Travel & Leisure 2019-10-31     6727 JP   \n",
      "3738 JP                          Support Services 2019-10-31     3765 JP   \n",
      "3711 TT              Software & Computer Services 2019-10-31     3715 JP   \n",
      "522 HK            Pharmaceuticals & Biotechnology 2019-10-31     5232 JP   \n",
      "2412 TT                          Support Services 2019-10-31     2413 JP   \n",
      "2409 TT                            Personal Goods 2019-10-31      241 HK   \n",
      "4042 JP                                     Media 2019-10-31     4043 JP   \n",
      "7012 JP         Real Estate Investment & Services 2019-10-31     7013 JP   \n",
      "4452 JP                       Automobiles & Parts 2019-10-31     4471 JP   \n",
      "9509 JP                          Support Services 2019-10-31     9513 JP   \n",
      "6471 JP                            Life Insurance 2019-10-31     6472 JP   \n",
      "9507 JP                         General Retailers 2019-10-31     9508 JP   \n",
      "4205 JP                            Personal Goods 2019-10-31     4206 JP   \n",
      "6473 JP                                     Banks 2019-10-31     6474 JP   \n",
      "067160 KS                       General Retailers 2019-10-31   067250 KS   \n",
      "6501 JP                    Industrial Engineering 2019-10-31     6502 JP   \n",
      "5201 JP                        Financial Services 2019-10-31     5202 JP   \n",
      "6503 JP                    Industrial Engineering 2019-10-31     6504 JP   \n",
      "6505 TT                       Automobiles & Parts 2019-10-31     6506 JP   \n",
      "042670 KS                  Industrial Engineering 2019-10-31   044490 KS   \n",
      "7735 JP                         Nonlife Insurance 2019-10-31     7740 JP   \n",
      "4043 JP                          Travel & Leisure 2019-10-31     4044 JP   \n",
      "6395 JP         Electronic & Electrical Equipment 2019-10-31     6407 JP   \n",
      "5471 JP                    Industrial Engineering 2019-10-31     5479 JP   \n",
      "\n",
      "           next_date  \n",
      "Ticker                \n",
      "3833 HK   2009-08-21  \n",
      "3037 TT   2008-04-30  \n",
      "7545 JP   2008-06-23  \n",
      "034220 KS 2009-04-01  \n",
      "69 HK     2008-09-02  \n",
      "2866 HK   2008-04-02  \n",
      "MIS AU    2008-09-12  \n",
      "028670 KS 2009-04-01  \n",
      "3704 TT   2008-04-29  \n",
      "694 HK    2008-09-26  \n",
      "6505 TT   2009-05-01  \n",
      "036570 KS 2009-08-07  \n",
      "028670 KS 2009-05-15  \n",
      "2303 TT   2009-04-30  \n",
      "023530 KS 2009-10-23  \n",
      "551 HK    2010-01-21  \n",
      "034220 KS 2009-05-27  \n",
      "2883 HK   2009-04-29  \n",
      "010120 KS 2010-03-31  \n",
      "836 HK    2009-08-24  \n",
      "021240 KS 2010-04-30  \n",
      "055550 KS 2009-05-04  \n",
      "001440 KS 2010-03-31  \n",
      "086790 KS 2009-04-27  \n",
      "000880 KS 2011-03-11  \n",
      "004170 KS 2011-03-31  \n",
      "042660 KS 2011-03-17  \n",
      "011170 KS 2011-03-11  \n",
      "006260 KS 2011-05-19  \n",
      "011200 KS 2011-03-31  \n",
      "...              ...  \n",
      "3938 JP   2007-01-31  \n",
      "6586 JP   2007-04-27  \n",
      "9301 JP   2014-08-27  \n",
      "3844 JP   2007-04-10  \n",
      "9107 JP   2015-03-11  \n",
      "9104 JP   2007-02-08  \n",
      "6724 JP   2007-01-31  \n",
      "3738 JP   2012-11-09  \n",
      "3711 TT   2007-11-13  \n",
      "522 HK    2007-02-14  \n",
      "2412 TT   2007-04-26  \n",
      "2409 TT   2018-05-16  \n",
      "4042 JP   2007-02-06  \n",
      "7012 JP   2007-02-05  \n",
      "4452 JP   2019-07-31  \n",
      "9509 JP   2007-02-12  \n",
      "6471 JP   2007-02-07  \n",
      "9507 JP   2007-02-01  \n",
      "4205 JP   2012-10-30  \n",
      "6473 JP   2007-01-24  \n",
      "067160 KS 2007-03-05  \n",
      "6501 JP   2007-02-01  \n",
      "5201 JP   2007-02-06  \n",
      "6503 JP   2007-01-26  \n",
      "6505 TT   2007-01-29  \n",
      "042670 KS 2007-05-03  \n",
      "7735 JP   2007-08-06  \n",
      "4043 JP   2007-02-14  \n",
      "6395 JP   2007-01-31  \n",
      "5471 JP   2007-02-05  \n",
      "\n",
      "[53393 rows x 9 columns]\n"
     ]
    },
    {
     "data": {
      "application/vnd.jupyter.widget-view+json": {
       "model_id": "ff7d5d7803e7401896b733ea1e315966",
       "version_major": 2,
       "version_minor": 0
      },
      "text/plain": [
       "HBox(children=(IntProgress(value=0, description='Pandas Apply', max=53393, style=ProgressStyle(description_wid…"
      ]
     },
     "metadata": {},
     "output_type": "display_data"
    },
    {
     "name": "stdout",
     "output_type": "stream",
     "text": [
      "\n",
      "                  Date    Orig date  Market cap     Volume  \\\n",
      "Ticker                                                       \n",
      "000060 KS  25/Jul/2007  25/Jul/2007    938.7514  10.767585   \n",
      "000060 KS  24/Oct/2007  24/Oct/2007   1476.6994   9.660166   \n",
      "000060 KS  14/Feb/2008  14/Feb/2008   1303.9166   7.084042   \n",
      "000060 KS  30/Jun/2009  30/Jun/2009    612.9917   5.048203   \n",
      "000060 KS  30/Jun/2010  29/Jun/2010    806.3273   3.679278   \n",
      "000060 KS  30/Aug/2011  29/Aug/2011    781.2167   6.857327   \n",
      "000060 KS  29/Oct/2012  29/Oct/2012   1290.7430   5.890103   \n",
      "000060 KS  04/Mar/2013  04/Mar/2013   1053.3962   4.669587   \n",
      "000060 KS  25/Apr/2013  24/Apr/2013   1063.9586   3.723315   \n",
      "000060 KS  14/Aug/2014  14/Aug/2014   1324.5529   3.084412   \n",
      "000060 KS  18/May/2015  15/May/2015   1402.7907   6.290021   \n",
      "000060 KS  18/Aug/2015  17/Aug/2015   1420.5116   3.027721   \n",
      "000060 KS  15/Aug/2017  14/Aug/2017   2327.3149   4.466701   \n",
      "000060 KS  15/Nov/2017  14/Nov/2017   2473.8353   4.676833   \n",
      "000060 KS  29/Jan/2018  26/Jan/2018   2476.9143   3.593196   \n",
      "000060 KS  15/Nov/2018  14/Nov/2018   2054.1379   3.441489   \n",
      "000080 KS  16/Nov/2009  16/Nov/2009   1561.7394  11.256202   \n",
      "000080 KS  27/Nov/2012  27/Nov/2012   1844.0373  10.087999   \n",
      "000080 KS  13/Mar/2013  13/Mar/2013   2149.5444   4.224352   \n",
      "000080 KS  15/May/2013  15/May/2013   1801.1009   3.711962   \n",
      "000080 KS  14/Aug/2013  14/Aug/2013   1615.2985   3.918172   \n",
      "000080 KS  07/Feb/2014  06/Feb/2014   1338.1163   4.489484   \n",
      "000080 KS  15/May/2014  15/May/2014   1627.3171   5.500436   \n",
      "000080 KS  14/Aug/2014  14/Aug/2014   1658.4353   5.197921   \n",
      "000080 KS  14/Nov/2014  14/Nov/2014   1649.2288   7.262905   \n",
      "000080 KS  15/May/2015  15/May/2015   1497.8349   5.517898   \n",
      "000080 KS  13/Aug/2015  13/Aug/2015   1364.5947   6.981371   \n",
      "000080 KS  13/Nov/2015  13/Nov/2015   1306.2383   3.186496   \n",
      "000080 KS  11/Feb/2016  11/Feb/2016   1819.2250   8.825442   \n",
      "000080 KS  16/May/2016  16/May/2016   1581.8806  10.747484   \n",
      "...                ...          ...         ...        ...   \n",
      "YZJSGD SP  11/Aug/2011  11/Aug/2011   3592.7094  21.253045   \n",
      "YZJSGD SP  09/Nov/2011  09/Nov/2011   2877.7854  13.365615   \n",
      "YZJSGD SP  29/Feb/2012  29/Feb/2012   4177.6550  19.808154   \n",
      "YZJSGD SP  26/Apr/2012  26/Apr/2012   3643.7153  14.335841   \n",
      "YZJSGD SP  08/Aug/2012  08/Aug/2012   3017.1410   9.465174   \n",
      "YZJSGD SP  07/Nov/2012  07/Nov/2012   2962.2190   5.643641   \n",
      "YZJSGD SP  21/Feb/2013  21/Feb/2013   2947.7515  14.746056   \n",
      "YZJSGD SP  25/Apr/2013  25/Apr/2013   2937.0497   3.772271   \n",
      "YZJSGD SP  07/Aug/2013  07/Aug/2013   2841.9347   4.922363   \n",
      "YZJSGD SP  13/Nov/2013  13/Nov/2013   3564.4369  10.125738   \n",
      "YZJSGD SP  27/Feb/2014  27/Feb/2014   3440.9868   6.158013   \n",
      "YZJSGD SP  30/Apr/2014  30/Apr/2014   3358.2573   6.879848   \n",
      "YZJSGD SP  06/Aug/2014  06/Aug/2014   3361.2017   4.150638   \n",
      "YZJSGD SP  06/Nov/2014  06/Nov/2014   3416.4792   5.791007   \n",
      "YZJSGD SP  27/Feb/2015  27/Feb/2015   3447.6309   6.034631   \n",
      "YZJSGD SP  30/Apr/2015  30/Apr/2015   4235.3773   7.760765   \n",
      "YZJSGD SP  04/Aug/2015  04/Aug/2015   3657.1458   9.760667   \n",
      "YZJSGD SP  04/Nov/2015  04/Nov/2015   3408.3507   7.764528   \n",
      "YZJSGD SP  26/Feb/2016  26/Feb/2016   2558.1651   6.951462   \n",
      "YZJSGD SP  28/Apr/2016  28/Apr/2016   2831.5138   7.993694   \n",
      "YZJSGD SP  04/Aug/2016  04/Aug/2016   2498.5598   5.897369   \n",
      "YZJSGD SP  08/Nov/2016  08/Nov/2016   2208.5307   5.729557   \n",
      "YZJSGD SP  01/Mar/2017  01/Mar/2017   2667.4021   7.200087   \n",
      "YZJSGD SP  27/Apr/2017  27/Apr/2017   3182.1957  13.221887   \n",
      "YZJSGD SP  07/Aug/2017  07/Aug/2017   4174.1615  17.149508   \n",
      "YZJSGD SP  09/Nov/2017  09/Nov/2017   4569.7701  13.072875   \n",
      "Z1P AU     22/Aug/2019  22/Aug/2019    766.3924   5.274449   \n",
      "ZFX AU     22/Feb/2007  22/Feb/2007   6498.0122  64.998748   \n",
      "ZFX AU     27/Aug/2007  27/Aug/2007   6945.2831  66.820252   \n",
      "ZFX AU     25/Feb/2008  25/Feb/2008   4726.0583  54.194003   \n",
      "\n",
      "                           Supersector                      Sector  date_copy  \\\n",
      "Ticker                                                                          \n",
      "000060 KS           Financial Services          Financial Services 2007-07-25   \n",
      "000060 KS           Financial Services          Financial Services 2007-10-24   \n",
      "000060 KS           Financial Services          Financial Services 2008-02-14   \n",
      "000060 KS           Financial Services          Financial Services 2009-06-30   \n",
      "000060 KS           Financial Services          Financial Services 2010-06-30   \n",
      "000060 KS           Financial Services          Financial Services 2011-08-30   \n",
      "000060 KS           Financial Services          Financial Services 2012-10-29   \n",
      "000060 KS           Financial Services          Financial Services 2013-03-04   \n",
      "000060 KS           Financial Services          Financial Services 2013-04-25   \n",
      "000060 KS           Financial Services          Financial Services 2014-08-14   \n",
      "000060 KS           Financial Services          Financial Services 2015-05-18   \n",
      "000060 KS           Financial Services          Financial Services 2015-08-18   \n",
      "000060 KS           Financial Services          Financial Services 2017-08-15   \n",
      "000060 KS           Financial Services          Financial Services 2017-11-15   \n",
      "000060 KS           Financial Services          Financial Services 2018-01-29   \n",
      "000060 KS           Financial Services          Financial Services 2018-11-15   \n",
      "000080 KS              Food & Beverage                   Beverages 2009-11-16   \n",
      "000080 KS              Food & Beverage                   Beverages 2012-11-27   \n",
      "000080 KS              Food & Beverage                   Beverages 2013-03-13   \n",
      "000080 KS              Food & Beverage                   Beverages 2013-05-15   \n",
      "000080 KS              Food & Beverage                   Beverages 2013-08-14   \n",
      "000080 KS              Food & Beverage                   Beverages 2014-02-07   \n",
      "000080 KS              Food & Beverage                   Beverages 2014-05-15   \n",
      "000080 KS              Food & Beverage                   Beverages 2014-08-14   \n",
      "000080 KS              Food & Beverage                   Beverages 2014-11-14   \n",
      "000080 KS              Food & Beverage                   Beverages 2015-05-15   \n",
      "000080 KS              Food & Beverage                   Beverages 2015-08-13   \n",
      "000080 KS              Food & Beverage                   Beverages 2015-11-13   \n",
      "000080 KS              Food & Beverage                   Beverages 2016-02-11   \n",
      "000080 KS              Food & Beverage                   Beverages 2016-05-16   \n",
      "...                                ...                         ...        ...   \n",
      "YZJSGD SP  Industrial Goods & Services      Industrial Engineering 2011-08-11   \n",
      "YZJSGD SP  Industrial Goods & Services      Industrial Engineering 2011-11-09   \n",
      "YZJSGD SP  Industrial Goods & Services      Industrial Engineering 2012-02-29   \n",
      "YZJSGD SP  Industrial Goods & Services      Industrial Engineering 2012-04-26   \n",
      "YZJSGD SP  Industrial Goods & Services      Industrial Engineering 2012-08-08   \n",
      "YZJSGD SP  Industrial Goods & Services      Industrial Engineering 2012-11-07   \n",
      "YZJSGD SP  Industrial Goods & Services      Industrial Engineering 2013-02-21   \n",
      "YZJSGD SP  Industrial Goods & Services      Industrial Engineering 2013-04-25   \n",
      "YZJSGD SP  Industrial Goods & Services      Industrial Engineering 2013-08-07   \n",
      "YZJSGD SP  Industrial Goods & Services      Industrial Engineering 2013-11-13   \n",
      "YZJSGD SP  Industrial Goods & Services      Industrial Engineering 2014-02-27   \n",
      "YZJSGD SP  Industrial Goods & Services      Industrial Engineering 2014-04-30   \n",
      "YZJSGD SP  Industrial Goods & Services      Industrial Engineering 2014-08-06   \n",
      "YZJSGD SP  Industrial Goods & Services      Industrial Engineering 2014-11-06   \n",
      "YZJSGD SP  Industrial Goods & Services      Industrial Engineering 2015-02-27   \n",
      "YZJSGD SP  Industrial Goods & Services      Industrial Engineering 2015-04-30   \n",
      "YZJSGD SP  Industrial Goods & Services      Industrial Engineering 2015-08-04   \n",
      "YZJSGD SP  Industrial Goods & Services      Industrial Engineering 2015-11-04   \n",
      "YZJSGD SP  Industrial Goods & Services      Industrial Engineering 2016-02-26   \n",
      "YZJSGD SP  Industrial Goods & Services      Industrial Engineering 2016-04-28   \n",
      "YZJSGD SP  Industrial Goods & Services      Industrial Engineering 2016-08-04   \n",
      "YZJSGD SP  Industrial Goods & Services      Industrial Engineering 2016-11-08   \n",
      "YZJSGD SP  Industrial Goods & Services      Industrial Engineering 2017-03-01   \n",
      "YZJSGD SP  Industrial Goods & Services      Industrial Engineering 2017-04-27   \n",
      "YZJSGD SP  Industrial Goods & Services      Industrial Engineering 2017-08-07   \n",
      "YZJSGD SP  Industrial Goods & Services      Industrial Engineering 2017-11-09   \n",
      "Z1P AU              Financial Services          Financial Services 2019-08-22   \n",
      "ZFX AU                 Basic Resources  Industrial Metals & Mining 2007-02-22   \n",
      "ZFX AU                 Basic Resources  Industrial Metals & Mining 2007-08-27   \n",
      "ZFX AU                 Basic Resources  Industrial Metals & Mining 2008-02-25   \n",
      "\n",
      "          ticker_copy  next_date         Next  \n",
      "Ticker                                         \n",
      "000060 KS   000060 KS 2007-10-24  24/Oct/2007  \n",
      "000060 KS   000060 KS 2008-02-14  14/Feb/2008  \n",
      "000060 KS   000060 KS 2009-06-30  30/Jun/2009  \n",
      "000060 KS   000060 KS 2010-06-30  30/Jun/2010  \n",
      "000060 KS   000060 KS 2011-08-30  30/Aug/2011  \n",
      "000060 KS   000060 KS 2012-10-29  29/Oct/2012  \n",
      "000060 KS   000060 KS 2013-03-04  04/Mar/2013  \n",
      "000060 KS   000060 KS 2013-04-25  25/Apr/2013  \n",
      "000060 KS   000060 KS 2014-08-14  14/Aug/2014  \n",
      "000060 KS   000060 KS 2015-05-18  18/May/2015  \n",
      "000060 KS   000060 KS 2015-08-18  18/Aug/2015  \n",
      "000060 KS   000060 KS 2017-08-15  15/Aug/2017  \n",
      "000060 KS   000060 KS 2017-11-15  15/Nov/2017  \n",
      "000060 KS   000060 KS 2018-01-29  29/Jan/2018  \n",
      "000060 KS   000060 KS 2018-11-15  15/Nov/2018  \n",
      "000060 KS   000080 KS 2009-11-16          NaN  \n",
      "000080 KS   000080 KS 2012-11-27  27/Nov/2012  \n",
      "000080 KS   000080 KS 2013-03-13  13/Mar/2013  \n",
      "000080 KS   000080 KS 2013-05-15  15/May/2013  \n",
      "000080 KS   000080 KS 2013-08-14  14/Aug/2013  \n",
      "000080 KS   000080 KS 2014-02-07  07/Feb/2014  \n",
      "000080 KS   000080 KS 2014-05-15  15/May/2014  \n",
      "000080 KS   000080 KS 2014-08-14  14/Aug/2014  \n",
      "000080 KS   000080 KS 2014-11-14  14/Nov/2014  \n",
      "000080 KS   000080 KS 2015-05-15  15/May/2015  \n",
      "000080 KS   000080 KS 2015-08-13  13/Aug/2015  \n",
      "000080 KS   000080 KS 2015-11-13  13/Nov/2015  \n",
      "000080 KS   000080 KS 2016-02-11  11/Feb/2016  \n",
      "000080 KS   000080 KS 2016-05-16  16/May/2016  \n",
      "000080 KS   000080 KS 2016-08-12  12/Aug/2016  \n",
      "...               ...        ...          ...  \n",
      "YZJSGD SP   YZJSGD SP 2011-11-09  09/Nov/2011  \n",
      "YZJSGD SP   YZJSGD SP 2012-02-29  29/Feb/2012  \n",
      "YZJSGD SP   YZJSGD SP 2012-04-26  26/Apr/2012  \n",
      "YZJSGD SP   YZJSGD SP 2012-08-08  08/Aug/2012  \n",
      "YZJSGD SP   YZJSGD SP 2012-11-07  07/Nov/2012  \n",
      "YZJSGD SP   YZJSGD SP 2013-02-21  21/Feb/2013  \n",
      "YZJSGD SP   YZJSGD SP 2013-04-25  25/Apr/2013  \n",
      "YZJSGD SP   YZJSGD SP 2013-08-07  07/Aug/2013  \n",
      "YZJSGD SP   YZJSGD SP 2013-11-13  13/Nov/2013  \n",
      "YZJSGD SP   YZJSGD SP 2014-02-27  27/Feb/2014  \n",
      "YZJSGD SP   YZJSGD SP 2014-04-30  30/Apr/2014  \n",
      "YZJSGD SP   YZJSGD SP 2014-08-06  06/Aug/2014  \n",
      "YZJSGD SP   YZJSGD SP 2014-11-06  06/Nov/2014  \n",
      "YZJSGD SP   YZJSGD SP 2015-02-27  27/Feb/2015  \n",
      "YZJSGD SP   YZJSGD SP 2015-04-30  30/Apr/2015  \n",
      "YZJSGD SP   YZJSGD SP 2015-08-04  04/Aug/2015  \n",
      "YZJSGD SP   YZJSGD SP 2015-11-04  04/Nov/2015  \n",
      "YZJSGD SP   YZJSGD SP 2016-02-26  26/Feb/2016  \n",
      "YZJSGD SP   YZJSGD SP 2016-04-28  28/Apr/2016  \n",
      "YZJSGD SP   YZJSGD SP 2016-08-04  04/Aug/2016  \n",
      "YZJSGD SP   YZJSGD SP 2016-11-08  08/Nov/2016  \n",
      "YZJSGD SP   YZJSGD SP 2017-03-01  01/Mar/2017  \n",
      "YZJSGD SP   YZJSGD SP 2017-04-27  27/Apr/2017  \n",
      "YZJSGD SP   YZJSGD SP 2017-08-07  07/Aug/2017  \n",
      "YZJSGD SP   YZJSGD SP 2017-11-09  09/Nov/2017  \n",
      "YZJSGD SP      Z1P AU 2019-08-22          NaN  \n",
      "Z1P AU         ZFX AU 2007-02-22          NaN  \n",
      "ZFX AU         ZFX AU 2007-08-27  27/Aug/2007  \n",
      "ZFX AU         ZFX AU 2008-02-25  25/Feb/2008  \n",
      "ZFX AU            NaN        NaT          NaN  \n",
      "\n",
      "[53393 rows x 10 columns]\n"
     ]
    },
    {
     "data": {
      "application/vnd.jupyter.widget-view+json": {
       "model_id": "d159f48279ee4250a7785f4309d6ec39",
       "version_major": 2,
       "version_minor": 0
      },
      "text/plain": [
       "HBox(children=(IntProgress(value=0, description='Pandas Apply', max=53393, style=ProgressStyle(description_wid…"
      ]
     },
     "metadata": {},
     "output_type": "display_data"
    },
    {
     "name": "stdout",
     "output_type": "stream",
     "text": [
      "\n",
      "                                                      Date    Orig date  \\\n",
      "000060 KS 25/Jul/2007 24/Oct/2007 28/Sep/2007  25/Jul/2007  25/Jul/2007   \n",
      "          24/Oct/2007 14/Feb/2008 31/Dec/2007  24/Oct/2007  24/Oct/2007   \n",
      "          14/Feb/2008 30/Jun/2009 31/Mar/2008  14/Feb/2008  14/Feb/2008   \n",
      "          30/Jun/2009 30/Jun/2010 30/Jun/2009  30/Jun/2009  30/Jun/2009   \n",
      "          30/Jun/2010 30/Aug/2011 30/Jun/2010  30/Jun/2010  29/Jun/2010   \n",
      "          30/Aug/2011 29/Oct/2012 30/Sep/2011  30/Aug/2011  29/Aug/2011   \n",
      "          29/Oct/2012 04/Mar/2013 31/Dec/2012  29/Oct/2012  29/Oct/2012   \n",
      "          04/Mar/2013 25/Apr/2013 29/Mar/2013  04/Mar/2013  04/Mar/2013   \n",
      "          25/Apr/2013 14/Aug/2014 28/Jun/2013  25/Apr/2013  24/Apr/2013   \n",
      "          14/Aug/2014 18/May/2015 30/Sep/2014  14/Aug/2014  14/Aug/2014   \n",
      "          18/May/2015 18/Aug/2015 30/Jun/2015  18/May/2015  15/May/2015   \n",
      "          18/Aug/2015 15/Aug/2017 30/Sep/2015  18/Aug/2015  17/Aug/2015   \n",
      "          15/Aug/2017 15/Nov/2017 29/Sep/2017  15/Aug/2017  14/Aug/2017   \n",
      "          15/Nov/2017 29/Jan/2018 29/Dec/2017  15/Nov/2017  14/Nov/2017   \n",
      "          29/Jan/2018 15/Nov/2018 30/Mar/2018  29/Jan/2018  26/Jan/2018   \n",
      "          15/Nov/2018 NaN         31/Dec/2018  15/Nov/2018  14/Nov/2018   \n",
      "000080 KS 16/Nov/2009 27/Nov/2012 31/Dec/2009  16/Nov/2009  16/Nov/2009   \n",
      "          27/Nov/2012 13/Mar/2013 31/Dec/2012  27/Nov/2012  27/Nov/2012   \n",
      "          13/Mar/2013 15/May/2013 29/Mar/2013  13/Mar/2013  13/Mar/2013   \n",
      "          15/May/2013 14/Aug/2013 28/Jun/2013  15/May/2013  15/May/2013   \n",
      "          14/Aug/2013 07/Feb/2014 30/Sep/2013  14/Aug/2013  14/Aug/2013   \n",
      "          07/Feb/2014 15/May/2014 31/Mar/2014  07/Feb/2014  06/Feb/2014   \n",
      "          15/May/2014 14/Aug/2014 30/Jun/2014  15/May/2014  15/May/2014   \n",
      "          14/Aug/2014 14/Nov/2014 30/Sep/2014  14/Aug/2014  14/Aug/2014   \n",
      "          14/Nov/2014 15/May/2015 31/Dec/2014  14/Nov/2014  14/Nov/2014   \n",
      "          15/May/2015 13/Aug/2015 30/Jun/2015  15/May/2015  15/May/2015   \n",
      "          13/Aug/2015 13/Nov/2015 30/Sep/2015  13/Aug/2015  13/Aug/2015   \n",
      "          13/Nov/2015 11/Feb/2016 31/Dec/2015  13/Nov/2015  13/Nov/2015   \n",
      "          11/Feb/2016 16/May/2016 31/Mar/2016  11/Feb/2016  11/Feb/2016   \n",
      "          16/May/2016 12/Aug/2016 30/Jun/2016  16/May/2016  16/May/2016   \n",
      "...                                                    ...          ...   \n",
      "YZJSGD SP 11/Aug/2011 09/Nov/2011 30/Sep/2011  11/Aug/2011  11/Aug/2011   \n",
      "          09/Nov/2011 29/Feb/2012 30/Dec/2011  09/Nov/2011  09/Nov/2011   \n",
      "          29/Feb/2012 26/Apr/2012 30/Mar/2012  29/Feb/2012  29/Feb/2012   \n",
      "          26/Apr/2012 08/Aug/2012 29/Jun/2012  26/Apr/2012  26/Apr/2012   \n",
      "          08/Aug/2012 07/Nov/2012 28/Sep/2012  08/Aug/2012  08/Aug/2012   \n",
      "          07/Nov/2012 21/Feb/2013 31/Dec/2012  07/Nov/2012  07/Nov/2012   \n",
      "          21/Feb/2013 25/Apr/2013 29/Mar/2013  21/Feb/2013  21/Feb/2013   \n",
      "          25/Apr/2013 07/Aug/2013 28/Jun/2013  25/Apr/2013  25/Apr/2013   \n",
      "          07/Aug/2013 13/Nov/2013 30/Sep/2013  07/Aug/2013  07/Aug/2013   \n",
      "          13/Nov/2013 27/Feb/2014 31/Dec/2013  13/Nov/2013  13/Nov/2013   \n",
      "          27/Feb/2014 30/Apr/2014 31/Mar/2014  27/Feb/2014  27/Feb/2014   \n",
      "          30/Apr/2014 06/Aug/2014 30/Jun/2014  30/Apr/2014  30/Apr/2014   \n",
      "          06/Aug/2014 06/Nov/2014 30/Sep/2014  06/Aug/2014  06/Aug/2014   \n",
      "          06/Nov/2014 27/Feb/2015 31/Dec/2014  06/Nov/2014  06/Nov/2014   \n",
      "          27/Feb/2015 30/Apr/2015 31/Mar/2015  27/Feb/2015  27/Feb/2015   \n",
      "          30/Apr/2015 04/Aug/2015 30/Jun/2015  30/Apr/2015  30/Apr/2015   \n",
      "          04/Aug/2015 04/Nov/2015 30/Sep/2015  04/Aug/2015  04/Aug/2015   \n",
      "          04/Nov/2015 26/Feb/2016 31/Dec/2015  04/Nov/2015  04/Nov/2015   \n",
      "          26/Feb/2016 28/Apr/2016 31/Mar/2016  26/Feb/2016  26/Feb/2016   \n",
      "          28/Apr/2016 04/Aug/2016 30/Jun/2016  28/Apr/2016  28/Apr/2016   \n",
      "          04/Aug/2016 08/Nov/2016 30/Sep/2016  04/Aug/2016  04/Aug/2016   \n",
      "          08/Nov/2016 01/Mar/2017 30/Dec/2016  08/Nov/2016  08/Nov/2016   \n",
      "          01/Mar/2017 27/Apr/2017 31/Mar/2017  01/Mar/2017  01/Mar/2017   \n",
      "          27/Apr/2017 07/Aug/2017 30/Jun/2017  27/Apr/2017  27/Apr/2017   \n",
      "          07/Aug/2017 09/Nov/2017 29/Sep/2017  07/Aug/2017  07/Aug/2017   \n",
      "          09/Nov/2017 NaN         29/Dec/2017  09/Nov/2017  09/Nov/2017   \n",
      "Z1P AU    22/Aug/2019 NaN         30/Sep/2019  22/Aug/2019  22/Aug/2019   \n",
      "ZFX AU    22/Feb/2007 27/Aug/2007 30/Mar/2007  22/Feb/2007  22/Feb/2007   \n",
      "          27/Aug/2007 25/Feb/2008 28/Sep/2007  27/Aug/2007  27/Aug/2007   \n",
      "          25/Feb/2008 NaN         31/Mar/2008  25/Feb/2008  25/Feb/2008   \n",
      "\n",
      "                                               Market cap     Volume  \\\n",
      "000060 KS 25/Jul/2007 24/Oct/2007 28/Sep/2007    938.7514  10.767585   \n",
      "          24/Oct/2007 14/Feb/2008 31/Dec/2007   1476.6994   9.660166   \n",
      "          14/Feb/2008 30/Jun/2009 31/Mar/2008   1303.9166   7.084042   \n",
      "          30/Jun/2009 30/Jun/2010 30/Jun/2009    612.9917   5.048203   \n",
      "          30/Jun/2010 30/Aug/2011 30/Jun/2010    806.3273   3.679278   \n",
      "          30/Aug/2011 29/Oct/2012 30/Sep/2011    781.2167   6.857327   \n",
      "          29/Oct/2012 04/Mar/2013 31/Dec/2012   1290.7430   5.890103   \n",
      "          04/Mar/2013 25/Apr/2013 29/Mar/2013   1053.3962   4.669587   \n",
      "          25/Apr/2013 14/Aug/2014 28/Jun/2013   1063.9586   3.723315   \n",
      "          14/Aug/2014 18/May/2015 30/Sep/2014   1324.5529   3.084412   \n",
      "          18/May/2015 18/Aug/2015 30/Jun/2015   1402.7907   6.290021   \n",
      "          18/Aug/2015 15/Aug/2017 30/Sep/2015   1420.5116   3.027721   \n",
      "          15/Aug/2017 15/Nov/2017 29/Sep/2017   2327.3149   4.466701   \n",
      "          15/Nov/2017 29/Jan/2018 29/Dec/2017   2473.8353   4.676833   \n",
      "          29/Jan/2018 15/Nov/2018 30/Mar/2018   2476.9143   3.593196   \n",
      "          15/Nov/2018 NaN         31/Dec/2018   2054.1379   3.441489   \n",
      "000080 KS 16/Nov/2009 27/Nov/2012 31/Dec/2009   1561.7394  11.256202   \n",
      "          27/Nov/2012 13/Mar/2013 31/Dec/2012   1844.0373  10.087999   \n",
      "          13/Mar/2013 15/May/2013 29/Mar/2013   2149.5444   4.224352   \n",
      "          15/May/2013 14/Aug/2013 28/Jun/2013   1801.1009   3.711962   \n",
      "          14/Aug/2013 07/Feb/2014 30/Sep/2013   1615.2985   3.918172   \n",
      "          07/Feb/2014 15/May/2014 31/Mar/2014   1338.1163   4.489484   \n",
      "          15/May/2014 14/Aug/2014 30/Jun/2014   1627.3171   5.500436   \n",
      "          14/Aug/2014 14/Nov/2014 30/Sep/2014   1658.4353   5.197921   \n",
      "          14/Nov/2014 15/May/2015 31/Dec/2014   1649.2288   7.262905   \n",
      "          15/May/2015 13/Aug/2015 30/Jun/2015   1497.8349   5.517898   \n",
      "          13/Aug/2015 13/Nov/2015 30/Sep/2015   1364.5947   6.981371   \n",
      "          13/Nov/2015 11/Feb/2016 31/Dec/2015   1306.2383   3.186496   \n",
      "          11/Feb/2016 16/May/2016 31/Mar/2016   1819.2250   8.825442   \n",
      "          16/May/2016 12/Aug/2016 30/Jun/2016   1581.8806  10.747484   \n",
      "...                                                   ...        ...   \n",
      "YZJSGD SP 11/Aug/2011 09/Nov/2011 30/Sep/2011   3592.7094  21.253045   \n",
      "          09/Nov/2011 29/Feb/2012 30/Dec/2011   2877.7854  13.365615   \n",
      "          29/Feb/2012 26/Apr/2012 30/Mar/2012   4177.6550  19.808154   \n",
      "          26/Apr/2012 08/Aug/2012 29/Jun/2012   3643.7153  14.335841   \n",
      "          08/Aug/2012 07/Nov/2012 28/Sep/2012   3017.1410   9.465174   \n",
      "          07/Nov/2012 21/Feb/2013 31/Dec/2012   2962.2190   5.643641   \n",
      "          21/Feb/2013 25/Apr/2013 29/Mar/2013   2947.7515  14.746056   \n",
      "          25/Apr/2013 07/Aug/2013 28/Jun/2013   2937.0497   3.772271   \n",
      "          07/Aug/2013 13/Nov/2013 30/Sep/2013   2841.9347   4.922363   \n",
      "          13/Nov/2013 27/Feb/2014 31/Dec/2013   3564.4369  10.125738   \n",
      "          27/Feb/2014 30/Apr/2014 31/Mar/2014   3440.9868   6.158013   \n",
      "          30/Apr/2014 06/Aug/2014 30/Jun/2014   3358.2573   6.879848   \n",
      "          06/Aug/2014 06/Nov/2014 30/Sep/2014   3361.2017   4.150638   \n",
      "          06/Nov/2014 27/Feb/2015 31/Dec/2014   3416.4792   5.791007   \n",
      "          27/Feb/2015 30/Apr/2015 31/Mar/2015   3447.6309   6.034631   \n",
      "          30/Apr/2015 04/Aug/2015 30/Jun/2015   4235.3773   7.760765   \n",
      "          04/Aug/2015 04/Nov/2015 30/Sep/2015   3657.1458   9.760667   \n",
      "          04/Nov/2015 26/Feb/2016 31/Dec/2015   3408.3507   7.764528   \n",
      "          26/Feb/2016 28/Apr/2016 31/Mar/2016   2558.1651   6.951462   \n",
      "          28/Apr/2016 04/Aug/2016 30/Jun/2016   2831.5138   7.993694   \n",
      "          04/Aug/2016 08/Nov/2016 30/Sep/2016   2498.5598   5.897369   \n",
      "          08/Nov/2016 01/Mar/2017 30/Dec/2016   2208.5307   5.729557   \n",
      "          01/Mar/2017 27/Apr/2017 31/Mar/2017   2667.4021   7.200087   \n",
      "          27/Apr/2017 07/Aug/2017 30/Jun/2017   3182.1957  13.221887   \n",
      "          07/Aug/2017 09/Nov/2017 29/Sep/2017   4174.1615  17.149508   \n",
      "          09/Nov/2017 NaN         29/Dec/2017   4569.7701  13.072875   \n",
      "Z1P AU    22/Aug/2019 NaN         30/Sep/2019    766.3924   5.274449   \n",
      "ZFX AU    22/Feb/2007 27/Aug/2007 30/Mar/2007   6498.0122  64.998748   \n",
      "          27/Aug/2007 25/Feb/2008 28/Sep/2007   6945.2831  66.820252   \n",
      "          25/Feb/2008 NaN         31/Mar/2008   4726.0583  54.194003   \n",
      "\n",
      "                                                               Supersector  \\\n",
      "000060 KS 25/Jul/2007 24/Oct/2007 28/Sep/2007           Financial Services   \n",
      "          24/Oct/2007 14/Feb/2008 31/Dec/2007           Financial Services   \n",
      "          14/Feb/2008 30/Jun/2009 31/Mar/2008           Financial Services   \n",
      "          30/Jun/2009 30/Jun/2010 30/Jun/2009           Financial Services   \n",
      "          30/Jun/2010 30/Aug/2011 30/Jun/2010           Financial Services   \n",
      "          30/Aug/2011 29/Oct/2012 30/Sep/2011           Financial Services   \n",
      "          29/Oct/2012 04/Mar/2013 31/Dec/2012           Financial Services   \n",
      "          04/Mar/2013 25/Apr/2013 29/Mar/2013           Financial Services   \n",
      "          25/Apr/2013 14/Aug/2014 28/Jun/2013           Financial Services   \n",
      "          14/Aug/2014 18/May/2015 30/Sep/2014           Financial Services   \n",
      "          18/May/2015 18/Aug/2015 30/Jun/2015           Financial Services   \n",
      "          18/Aug/2015 15/Aug/2017 30/Sep/2015           Financial Services   \n",
      "          15/Aug/2017 15/Nov/2017 29/Sep/2017           Financial Services   \n",
      "          15/Nov/2017 29/Jan/2018 29/Dec/2017           Financial Services   \n",
      "          29/Jan/2018 15/Nov/2018 30/Mar/2018           Financial Services   \n",
      "          15/Nov/2018 NaN         31/Dec/2018           Financial Services   \n",
      "000080 KS 16/Nov/2009 27/Nov/2012 31/Dec/2009              Food & Beverage   \n",
      "          27/Nov/2012 13/Mar/2013 31/Dec/2012              Food & Beverage   \n",
      "          13/Mar/2013 15/May/2013 29/Mar/2013              Food & Beverage   \n",
      "          15/May/2013 14/Aug/2013 28/Jun/2013              Food & Beverage   \n",
      "          14/Aug/2013 07/Feb/2014 30/Sep/2013              Food & Beverage   \n",
      "          07/Feb/2014 15/May/2014 31/Mar/2014              Food & Beverage   \n",
      "          15/May/2014 14/Aug/2014 30/Jun/2014              Food & Beverage   \n",
      "          14/Aug/2014 14/Nov/2014 30/Sep/2014              Food & Beverage   \n",
      "          14/Nov/2014 15/May/2015 31/Dec/2014              Food & Beverage   \n",
      "          15/May/2015 13/Aug/2015 30/Jun/2015              Food & Beverage   \n",
      "          13/Aug/2015 13/Nov/2015 30/Sep/2015              Food & Beverage   \n",
      "          13/Nov/2015 11/Feb/2016 31/Dec/2015              Food & Beverage   \n",
      "          11/Feb/2016 16/May/2016 31/Mar/2016              Food & Beverage   \n",
      "          16/May/2016 12/Aug/2016 30/Jun/2016              Food & Beverage   \n",
      "...                                                                    ...   \n",
      "YZJSGD SP 11/Aug/2011 09/Nov/2011 30/Sep/2011  Industrial Goods & Services   \n",
      "          09/Nov/2011 29/Feb/2012 30/Dec/2011  Industrial Goods & Services   \n",
      "          29/Feb/2012 26/Apr/2012 30/Mar/2012  Industrial Goods & Services   \n",
      "          26/Apr/2012 08/Aug/2012 29/Jun/2012  Industrial Goods & Services   \n",
      "          08/Aug/2012 07/Nov/2012 28/Sep/2012  Industrial Goods & Services   \n",
      "          07/Nov/2012 21/Feb/2013 31/Dec/2012  Industrial Goods & Services   \n",
      "          21/Feb/2013 25/Apr/2013 29/Mar/2013  Industrial Goods & Services   \n",
      "          25/Apr/2013 07/Aug/2013 28/Jun/2013  Industrial Goods & Services   \n",
      "          07/Aug/2013 13/Nov/2013 30/Sep/2013  Industrial Goods & Services   \n",
      "          13/Nov/2013 27/Feb/2014 31/Dec/2013  Industrial Goods & Services   \n",
      "          27/Feb/2014 30/Apr/2014 31/Mar/2014  Industrial Goods & Services   \n",
      "          30/Apr/2014 06/Aug/2014 30/Jun/2014  Industrial Goods & Services   \n",
      "          06/Aug/2014 06/Nov/2014 30/Sep/2014  Industrial Goods & Services   \n",
      "          06/Nov/2014 27/Feb/2015 31/Dec/2014  Industrial Goods & Services   \n",
      "          27/Feb/2015 30/Apr/2015 31/Mar/2015  Industrial Goods & Services   \n",
      "          30/Apr/2015 04/Aug/2015 30/Jun/2015  Industrial Goods & Services   \n",
      "          04/Aug/2015 04/Nov/2015 30/Sep/2015  Industrial Goods & Services   \n",
      "          04/Nov/2015 26/Feb/2016 31/Dec/2015  Industrial Goods & Services   \n",
      "          26/Feb/2016 28/Apr/2016 31/Mar/2016  Industrial Goods & Services   \n",
      "          28/Apr/2016 04/Aug/2016 30/Jun/2016  Industrial Goods & Services   \n",
      "          04/Aug/2016 08/Nov/2016 30/Sep/2016  Industrial Goods & Services   \n",
      "          08/Nov/2016 01/Mar/2017 30/Dec/2016  Industrial Goods & Services   \n",
      "          01/Mar/2017 27/Apr/2017 31/Mar/2017  Industrial Goods & Services   \n",
      "          27/Apr/2017 07/Aug/2017 30/Jun/2017  Industrial Goods & Services   \n",
      "          07/Aug/2017 09/Nov/2017 29/Sep/2017  Industrial Goods & Services   \n",
      "          09/Nov/2017 NaN         29/Dec/2017  Industrial Goods & Services   \n",
      "Z1P AU    22/Aug/2019 NaN         30/Sep/2019           Financial Services   \n",
      "ZFX AU    22/Feb/2007 27/Aug/2007 30/Mar/2007              Basic Resources   \n",
      "          27/Aug/2007 25/Feb/2008 28/Sep/2007              Basic Resources   \n",
      "          25/Feb/2008 NaN         31/Mar/2008              Basic Resources   \n",
      "\n",
      "                                                                   Sector  \n",
      "000060 KS 25/Jul/2007 24/Oct/2007 28/Sep/2007          Financial Services  \n",
      "          24/Oct/2007 14/Feb/2008 31/Dec/2007          Financial Services  \n",
      "          14/Feb/2008 30/Jun/2009 31/Mar/2008          Financial Services  \n",
      "          30/Jun/2009 30/Jun/2010 30/Jun/2009          Financial Services  \n",
      "          30/Jun/2010 30/Aug/2011 30/Jun/2010          Financial Services  \n",
      "          30/Aug/2011 29/Oct/2012 30/Sep/2011          Financial Services  \n",
      "          29/Oct/2012 04/Mar/2013 31/Dec/2012          Financial Services  \n",
      "          04/Mar/2013 25/Apr/2013 29/Mar/2013          Financial Services  \n",
      "          25/Apr/2013 14/Aug/2014 28/Jun/2013          Financial Services  \n",
      "          14/Aug/2014 18/May/2015 30/Sep/2014          Financial Services  \n",
      "          18/May/2015 18/Aug/2015 30/Jun/2015          Financial Services  \n",
      "          18/Aug/2015 15/Aug/2017 30/Sep/2015          Financial Services  \n",
      "          15/Aug/2017 15/Nov/2017 29/Sep/2017          Financial Services  \n",
      "          15/Nov/2017 29/Jan/2018 29/Dec/2017          Financial Services  \n",
      "          29/Jan/2018 15/Nov/2018 30/Mar/2018          Financial Services  \n",
      "          15/Nov/2018 NaN         31/Dec/2018          Financial Services  \n",
      "000080 KS 16/Nov/2009 27/Nov/2012 31/Dec/2009                   Beverages  \n",
      "          27/Nov/2012 13/Mar/2013 31/Dec/2012                   Beverages  \n",
      "          13/Mar/2013 15/May/2013 29/Mar/2013                   Beverages  \n",
      "          15/May/2013 14/Aug/2013 28/Jun/2013                   Beverages  \n",
      "          14/Aug/2013 07/Feb/2014 30/Sep/2013                   Beverages  \n",
      "          07/Feb/2014 15/May/2014 31/Mar/2014                   Beverages  \n",
      "          15/May/2014 14/Aug/2014 30/Jun/2014                   Beverages  \n",
      "          14/Aug/2014 14/Nov/2014 30/Sep/2014                   Beverages  \n",
      "          14/Nov/2014 15/May/2015 31/Dec/2014                   Beverages  \n",
      "          15/May/2015 13/Aug/2015 30/Jun/2015                   Beverages  \n",
      "          13/Aug/2015 13/Nov/2015 30/Sep/2015                   Beverages  \n",
      "          13/Nov/2015 11/Feb/2016 31/Dec/2015                   Beverages  \n",
      "          11/Feb/2016 16/May/2016 31/Mar/2016                   Beverages  \n",
      "          16/May/2016 12/Aug/2016 30/Jun/2016                   Beverages  \n",
      "...                                                                   ...  \n",
      "YZJSGD SP 11/Aug/2011 09/Nov/2011 30/Sep/2011      Industrial Engineering  \n",
      "          09/Nov/2011 29/Feb/2012 30/Dec/2011      Industrial Engineering  \n",
      "          29/Feb/2012 26/Apr/2012 30/Mar/2012      Industrial Engineering  \n",
      "          26/Apr/2012 08/Aug/2012 29/Jun/2012      Industrial Engineering  \n",
      "          08/Aug/2012 07/Nov/2012 28/Sep/2012      Industrial Engineering  \n",
      "          07/Nov/2012 21/Feb/2013 31/Dec/2012      Industrial Engineering  \n",
      "          21/Feb/2013 25/Apr/2013 29/Mar/2013      Industrial Engineering  \n",
      "          25/Apr/2013 07/Aug/2013 28/Jun/2013      Industrial Engineering  \n",
      "          07/Aug/2013 13/Nov/2013 30/Sep/2013      Industrial Engineering  \n",
      "          13/Nov/2013 27/Feb/2014 31/Dec/2013      Industrial Engineering  \n",
      "          27/Feb/2014 30/Apr/2014 31/Mar/2014      Industrial Engineering  \n",
      "          30/Apr/2014 06/Aug/2014 30/Jun/2014      Industrial Engineering  \n",
      "          06/Aug/2014 06/Nov/2014 30/Sep/2014      Industrial Engineering  \n",
      "          06/Nov/2014 27/Feb/2015 31/Dec/2014      Industrial Engineering  \n",
      "          27/Feb/2015 30/Apr/2015 31/Mar/2015      Industrial Engineering  \n",
      "          30/Apr/2015 04/Aug/2015 30/Jun/2015      Industrial Engineering  \n",
      "          04/Aug/2015 04/Nov/2015 30/Sep/2015      Industrial Engineering  \n",
      "          04/Nov/2015 26/Feb/2016 31/Dec/2015      Industrial Engineering  \n",
      "          26/Feb/2016 28/Apr/2016 31/Mar/2016      Industrial Engineering  \n",
      "          28/Apr/2016 04/Aug/2016 30/Jun/2016      Industrial Engineering  \n",
      "          04/Aug/2016 08/Nov/2016 30/Sep/2016      Industrial Engineering  \n",
      "          08/Nov/2016 01/Mar/2017 30/Dec/2016      Industrial Engineering  \n",
      "          01/Mar/2017 27/Apr/2017 31/Mar/2017      Industrial Engineering  \n",
      "          27/Apr/2017 07/Aug/2017 30/Jun/2017      Industrial Engineering  \n",
      "          07/Aug/2017 09/Nov/2017 29/Sep/2017      Industrial Engineering  \n",
      "          09/Nov/2017 NaN         29/Dec/2017      Industrial Engineering  \n",
      "Z1P AU    22/Aug/2019 NaN         30/Sep/2019          Financial Services  \n",
      "ZFX AU    22/Feb/2007 27/Aug/2007 30/Mar/2007  Industrial Metals & Mining  \n",
      "          27/Aug/2007 25/Feb/2008 28/Sep/2007  Industrial Metals & Mining  \n",
      "          25/Feb/2008 NaN         31/Mar/2008  Industrial Metals & Mining  \n",
      "\n",
      "[53393 rows x 6 columns]\n",
      "2020-01-06 14:18:10.526468\n"
     ]
    },
    {
     "data": {
      "application/vnd.jupyter.widget-view+json": {
       "model_id": "3cb4bb0337724604b111471db7eff128",
       "version_major": 2,
       "version_minor": 0
      },
      "text/plain": [
       "HBox(children=(IntProgress(value=0, description='Pandas Apply', max=53393, style=ProgressStyle(description_wid…"
      ]
     },
     "metadata": {},
     "output_type": "display_data"
    },
    {
     "name": "stdout",
     "output_type": "stream",
     "text": [
      "\n",
      "2020-01-06 14:19:23.741963\n"
     ]
    },
    {
     "data": {
      "application/vnd.jupyter.widget-view+json": {
       "model_id": "4cfbc7011320465c97a26b4e4cc32d9b",
       "version_major": 2,
       "version_minor": 0
      },
      "text/plain": [
       "HBox(children=(IntProgress(value=0, description='Pandas Apply', max=53393, style=ProgressStyle(description_wid…"
      ]
     },
     "metadata": {},
     "output_type": "display_data"
    },
    {
     "name": "stdout",
     "output_type": "stream",
     "text": [
      "\n",
      "2020-01-06 14:20:36.920804\n"
     ]
    },
    {
     "data": {
      "application/vnd.jupyter.widget-view+json": {
       "model_id": "4648d11e247e473eb92d2563443fc8c3",
       "version_major": 2,
       "version_minor": 0
      },
      "text/plain": [
       "HBox(children=(IntProgress(value=0, description='Pandas Apply', max=48845, style=ProgressStyle(description_wid…"
      ]
     },
     "metadata": {},
     "output_type": "display_data"
    },
    {
     "name": "stdout",
     "output_type": "stream",
     "text": [
      "\n",
      "2020-01-06 14:20:56.695735\n"
     ]
    },
    {
     "data": {
      "application/vnd.jupyter.widget-view+json": {
       "model_id": "b694da36967541b6b9573d92246abdb6",
       "version_major": 2,
       "version_minor": 0
      },
      "text/plain": [
       "HBox(children=(IntProgress(value=0, description='Pandas Apply', max=42900, style=ProgressStyle(description_wid…"
      ]
     },
     "metadata": {},
     "output_type": "display_data"
    },
    {
     "name": "stdout",
     "output_type": "stream",
     "text": [
      "\n",
      "2020-01-06 14:21:34.742225\n"
     ]
    }
   ],
   "source": [
    "Asia2=utils.CSV_fundamentals(\"Asia\",Asia_price,Asia_EPS,2,120,0.005,False)"
   ]
  },
  {
   "cell_type": "markdown",
   "metadata": {},
   "source": [
    "# 5 - Result"
   ]
  },
  {
   "cell_type": "markdown",
   "metadata": {},
   "source": [
    "## 5.1 - Europe"
   ]
  },
  {
   "cell_type": "code",
   "execution_count": 88,
   "metadata": {},
   "outputs": [
    {
     "data": {
      "application/vnd.jupyter.widget-view+json": {
       "model_id": "0f60488dc6b148ed800bbf751da682d2",
       "version_major": 2,
       "version_minor": 0
      },
      "text/plain": [
       "HBox(children=(IntProgress(value=0, description='Pandas Apply', max=24845, style=ProgressStyle(description_wid…"
      ]
     },
     "metadata": {},
     "output_type": "display_data"
    },
    {
     "name": "stdout",
     "output_type": "stream",
     "text": [
      "\n"
     ]
    },
    {
     "data": {
      "application/vnd.jupyter.widget-view+json": {
       "model_id": "29ef534f7c9c4339bb7bc7a2addb7eaa",
       "version_major": 2,
       "version_minor": 0
      },
      "text/plain": [
       "HBox(children=(IntProgress(value=0, description='Pandas Apply', max=24845, style=ProgressStyle(description_wid…"
      ]
     },
     "metadata": {},
     "output_type": "display_data"
    },
    {
     "name": "stdout",
     "output_type": "stream",
     "text": [
      "\n"
     ]
    },
    {
     "data": {
      "application/vnd.jupyter.widget-view+json": {
       "model_id": "7ca6f1afd7f649ad973e2f41ed6b697c",
       "version_major": 2,
       "version_minor": 0
      },
      "text/plain": [
       "HBox(children=(IntProgress(value=0, description='Pandas Apply', max=24845, style=ProgressStyle(description_wid…"
      ]
     },
     "metadata": {},
     "output_type": "display_data"
    },
    {
     "name": "stdout",
     "output_type": "stream",
     "text": [
      "\n"
     ]
    },
    {
     "data": {
      "application/vnd.jupyter.widget-view+json": {
       "model_id": "cf1ad458580c44e8903d78193da61ed6",
       "version_major": 2,
       "version_minor": 0
      },
      "text/plain": [
       "HBox(children=(IntProgress(value=0, description='Pandas Apply', max=24845, style=ProgressStyle(description_wid…"
      ]
     },
     "metadata": {},
     "output_type": "display_data"
    },
    {
     "name": "stdout",
     "output_type": "stream",
     "text": [
      "\n"
     ]
    }
   ],
   "source": [
    "Europe_orig=utils.signal(fundamental_df=Europe2,\n",
    "                    price_df=Europe_price,\n",
    "                    close_return_df=abs_return_Europe,\n",
    "                    entry=2,\n",
    "                    base=utils.signal_base(Europe2,{\"EAR_n\":[1,1000],\"Revision_20\":[0.03,1000]},\n",
    "                                           {\"EAR_n\":[-1000,-2],\"Revision_20\":[-1000,-0.03],\"Market cap\":[5000,10000000]},\n",
    "                                           (Europe_price,Europe_price,0,1,\"abs\")),\n",
    "                    holding=30,\n",
    "                    start=pd.Timestamp(2019,10,1),\n",
    "                    end=pd.Timestamp(2019,12,30),\n",
    "                    old_position=True,\n",
    "                    new_signal=False,\n",
    "                    revision_adjust=(False,0.02,0.1,2),\n",
    "                    early_exit=False)"
   ]
  },
  {
   "cell_type": "code",
   "execution_count": 89,
   "metadata": {},
   "outputs": [],
   "source": [
    "_long_Europe,_short_Europe,_alpha_Europe,_portfolio_Europe=Europe_orig.signal_account(stop=[8,8,\"abs\"],\n",
    "                                                           gross=(30,15),\n",
    "                                                           index_df=abs_return_index_Europe.loc[\"SX5E Index\"].to_frame('Europe'),\n",
    "                                                           net_level=0,\n",
    "                                                           risk_parity=True,\n",
    "                                                           liquidity=0.2,\n",
    "                                                           capital=60)"
   ]
  },
  {
   "cell_type": "code",
   "execution_count": 102,
   "metadata": {},
   "outputs": [
    {
     "data": {
      "image/png": "[encoded data removed]",
      "text/plain": [
       "<Figure size 720x288 with 2 Axes>"
      ]
     },
     "metadata": {
      "needs_background": "light"
     },
     "output_type": "display_data"
    }
   ],
   "source": [
    "plot_signal(\"Europe orig\", [10,4],Europe_orig.portfolio_account)"
   ]
  },
  {
   "cell_type": "code",
   "execution_count": null,
   "metadata": {},
   "outputs": [],
   "source": []
  },
  {
   "cell_type": "code",
   "execution_count": 103,
   "metadata": {},
   "outputs": [
    {
     "data": {
      "application/vnd.jupyter.widget-view+json": {
       "model_id": "21b0576f7e0f48469893a75180f2c527",
       "version_major": 2,
       "version_minor": 0
      },
      "text/plain": [
       "HBox(children=(IntProgress(value=0, description='Pandas Apply', max=24845, style=ProgressStyle(description_wid…"
      ]
     },
     "metadata": {},
     "output_type": "display_data"
    },
    {
     "name": "stdout",
     "output_type": "stream",
     "text": [
      "\n"
     ]
    },
    {
     "data": {
      "application/vnd.jupyter.widget-view+json": {
       "model_id": "9a9060276f574d66a655389d9183c579",
       "version_major": 2,
       "version_minor": 0
      },
      "text/plain": [
       "HBox(children=(IntProgress(value=0, description='Pandas Apply', max=24845, style=ProgressStyle(description_wid…"
      ]
     },
     "metadata": {},
     "output_type": "display_data"
    },
    {
     "name": "stdout",
     "output_type": "stream",
     "text": [
      "\n"
     ]
    },
    {
     "data": {
      "application/vnd.jupyter.widget-view+json": {
       "model_id": "06269b267a4842c889b901ba3473c240",
       "version_major": 2,
       "version_minor": 0
      },
      "text/plain": [
       "HBox(children=(IntProgress(value=0, description='Pandas Apply', max=24845, style=ProgressStyle(description_wid…"
      ]
     },
     "metadata": {},
     "output_type": "display_data"
    },
    {
     "name": "stdout",
     "output_type": "stream",
     "text": [
      "\n"
     ]
    },
    {
     "data": {
      "application/vnd.jupyter.widget-view+json": {
       "model_id": "90a0c2fb332b480293f252128ec8cfa2",
       "version_major": 2,
       "version_minor": 0
      },
      "text/plain": [
       "HBox(children=(IntProgress(value=0, description='Pandas Apply', max=24845, style=ProgressStyle(description_wid…"
      ]
     },
     "metadata": {},
     "output_type": "display_data"
    },
    {
     "name": "stdout",
     "output_type": "stream",
     "text": [
      "\n"
     ]
    }
   ],
   "source": [
    "Europe_new=utils.signal(fundamental_df=Europe2,\n",
    "                   price_df=Europe_VWAP,\n",
    "                   close_return_df=abs_return_Europe,\n",
    "                   entry=3,\n",
    "                   base=utils.signal_base(Europe2,{\"EAR_n\":[2,1000],\"Revision_real\":[0.02,1000]},\n",
    "                                           {\"EAR_n\":[-1000,-2],\"Revision_real\":[-1000,-0.02],\"Market cap\":[5000,10000000]},\n",
    "                                           (Europe_price,Europe_price,0,1,\"abs\")),\n",
    "                   holding=30,\n",
    "                   start=pd.Timestamp(2019,10,1),\n",
    "                   end=pd.Timestamp(2019,12,30),\n",
    "                   old_position=False,\n",
    "                   new_signal=True,\n",
    "                   revision_adjust=(True,(0.02,0.05),(-0.05,-0.02),2),\n",
    "                  early_exit=False)"
   ]
  },
  {
   "cell_type": "code",
   "execution_count": 104,
   "metadata": {},
   "outputs": [],
   "source": [
    "_long_Europe,_short_Europe,_alpha_Europe,_portfolio_Europe=Europe_new.signal_account(stop=[8,8,\"abs\"],\n",
    "                                                           gross=(30,15),\n",
    "                                                           index_df=abs_return_index_Europe.loc[\"SX5E Index\"].to_frame('Europe'),\n",
    "                                                           net_level=0,\n",
    "                                                           risk_parity=True,\n",
    "                                                           liquidity=0.2,\n",
    "                                                           capital=60)"
   ]
  },
  {
   "cell_type": "code",
   "execution_count": 105,
   "metadata": {},
   "outputs": [
    {
     "data": {
      "image/png": "[encoded data removed]",
      "text/plain": [
       "<Figure size 720x288 with 2 Axes>"
      ]
     },
     "metadata": {
      "needs_background": "light"
     },
     "output_type": "display_data"
    }
   ],
   "source": [
    "plot_signal(\"Europe new\",[10,4],Europe_new.portfolio_account)"
   ]
  },
  {
   "cell_type": "markdown",
   "metadata": {},
   "source": [
    "## 5.2 - US"
   ]
  },
  {
   "cell_type": "code",
   "execution_count": 89,
   "metadata": {},
   "outputs": [
    {
     "data": {
      "application/vnd.jupyter.widget-view+json": {
       "model_id": "91d2b5095d504fcdb4b9e292ba2e1a6a",
       "version_major": 2,
       "version_minor": 0
      },
      "text/plain": [
       "HBox(children=(IntProgress(value=0, description='Pandas Apply', max=82252, style=ProgressStyle(description_wid…"
      ]
     },
     "metadata": {},
     "output_type": "display_data"
    },
    {
     "name": "stdout",
     "output_type": "stream",
     "text": [
      "\n"
     ]
    },
    {
     "data": {
      "application/vnd.jupyter.widget-view+json": {
       "model_id": "46d7fb8550dd45518792b14690fe2cbd",
       "version_major": 2,
       "version_minor": 0
      },
      "text/plain": [
       "HBox(children=(IntProgress(value=0, description='Pandas Apply', max=82252, style=ProgressStyle(description_wid…"
      ]
     },
     "metadata": {},
     "output_type": "display_data"
    },
    {
     "name": "stdout",
     "output_type": "stream",
     "text": [
      "\n"
     ]
    },
    {
     "data": {
      "application/vnd.jupyter.widget-view+json": {
       "model_id": "1401e03696de4374808ffa48e456f1a9",
       "version_major": 2,
       "version_minor": 0
      },
      "text/plain": [
       "HBox(children=(IntProgress(value=0, description='Pandas Apply', max=82252, style=ProgressStyle(description_wid…"
      ]
     },
     "metadata": {},
     "output_type": "display_data"
    },
    {
     "name": "stdout",
     "output_type": "stream",
     "text": [
      "\n"
     ]
    },
    {
     "data": {
      "application/vnd.jupyter.widget-view+json": {
       "model_id": "4f0e90a39bcb4e69941552c31aa1efcb",
       "version_major": 2,
       "version_minor": 0
      },
      "text/plain": [
       "HBox(children=(IntProgress(value=0, description='Pandas Apply', max=82252, style=ProgressStyle(description_wid…"
      ]
     },
     "metadata": {},
     "output_type": "display_data"
    },
    {
     "name": "stdout",
     "output_type": "stream",
     "text": [
      "\n"
     ]
    }
   ],
   "source": [
    "US_orig=utils.signal(fundamental_df=US1,\n",
    "                    price_df=US_price,\n",
    "                    close_return_df=abs_return_US,\n",
    "                    entry=2,\n",
    "                    base=utils.signal_base(US1,{\"EAR_n\":[3,1000],\"Revision_20\":[0.05,1000]},\n",
    "                                           {\"EAR_n\":[-1000,-2],\"Revision_20\":[-1000,-0.03],\"Market cap\":[5000,10000000]},\n",
    "                                           (US_price,US_price,0,1,\"abs\")),\n",
    "                    holding=30,\n",
    "                    start=pd.Timestamp(2010,1,1),\n",
    "                    end=pd.Timestamp(2019,12,30),\n",
    "                    old_position=True,\n",
    "                    new_signal=False,\n",
    "                    revision_adjust=(False,0.02,0.1,2),\n",
    "                    early_exit=False)"
   ]
  },
  {
   "cell_type": "code",
   "execution_count": 90,
   "metadata": {},
   "outputs": [],
   "source": [
    "_long_US,_short_US,_alpha_US,_portfolio_US=US_orig.signal_account(stop=[8,8,\"abs\"],\n",
    "                                                           gross=(30,15),\n",
    "                                                           index_df=(0.5*abs_return_index_US.loc[\"SPX Index\"]+\\\n",
    "                                                          0.5*abs_return_index_US.loc[\"RTY Index\"]).to_frame(\"US_index\"),\n",
    "                                                           net_level=0,\n",
    "                                                           risk_parity=True,\n",
    "                                                           liquidity=0.2,\n",
    "                                                           capital=60)"
   ]
  },
  {
   "cell_type": "code",
   "execution_count": 91,
   "metadata": {},
   "outputs": [
    {
     "data": {
      "image/png": "[encoded data removed]",
      "text/plain": [
       "<Figure size 720x288 with 2 Axes>"
      ]
     },
     "metadata": {
      "needs_background": "light"
     },
     "output_type": "display_data"
    }
   ],
   "source": [
    "utils.plot_signal(\"US orig\",[10,4],US_orig.portfolio_account)"
   ]
  },
  {
   "cell_type": "code",
   "execution_count": 94,
   "metadata": {},
   "outputs": [],
   "source": [
    "a,b=US_orig.signal_df_date()"
   ]
  },
  {
   "cell_type": "code",
   "execution_count": null,
   "metadata": {},
   "outputs": [],
   "source": []
  },
  {
   "cell_type": "code",
   "execution_count": 15,
   "metadata": {},
   "outputs": [
    {
     "data": {
      "application/vnd.jupyter.widget-view+json": {
       "model_id": "45bc72ed14cf458a801f0492b8e6448c",
       "version_major": 2,
       "version_minor": 0
      },
      "text/plain": [
       "HBox(children=(IntProgress(value=0, description='Pandas Apply', max=82252, style=ProgressStyle(description_wid…"
      ]
     },
     "metadata": {},
     "output_type": "display_data"
    },
    {
     "name": "stdout",
     "output_type": "stream",
     "text": [
      "\n"
     ]
    },
    {
     "data": {
      "application/vnd.jupyter.widget-view+json": {
       "model_id": "5765b7dc76094fc096d0092fe0d57a10",
       "version_major": 2,
       "version_minor": 0
      },
      "text/plain": [
       "HBox(children=(IntProgress(value=0, description='Pandas Apply', max=82252, style=ProgressStyle(description_wid…"
      ]
     },
     "metadata": {},
     "output_type": "display_data"
    },
    {
     "name": "stdout",
     "output_type": "stream",
     "text": [
      "\n"
     ]
    },
    {
     "data": {
      "application/vnd.jupyter.widget-view+json": {
       "model_id": "af55932474b1469590487e9e2746da6d",
       "version_major": 2,
       "version_minor": 0
      },
      "text/plain": [
       "HBox(children=(IntProgress(value=0, description='Pandas Apply', max=82252, style=ProgressStyle(description_wid…"
      ]
     },
     "metadata": {},
     "output_type": "display_data"
    },
    {
     "name": "stdout",
     "output_type": "stream",
     "text": [
      "\n"
     ]
    },
    {
     "data": {
      "application/vnd.jupyter.widget-view+json": {
       "model_id": "11dc4d1860854221bbcbe75644898ccc",
       "version_major": 2,
       "version_minor": 0
      },
      "text/plain": [
       "HBox(children=(IntProgress(value=0, description='Pandas Apply', max=82252, style=ProgressStyle(description_wid…"
      ]
     },
     "metadata": {},
     "output_type": "display_data"
    },
    {
     "name": "stdout",
     "output_type": "stream",
     "text": [
      "\n"
     ]
    }
   ],
   "source": [
    "US_new=utils.signal(fundamental_df=US1,\n",
    "              price_df=US_VWAP,\n",
    "              close_return_df=abs_return_US,\n",
    "              entry=2,\n",
    "              base=utils.signal_base(US1,{\"EAR_n\":[2,1000],\"Revision_real\":[0.05,1000]},\n",
    "                                           {\"EAR_n\":[-1000,-2],\"Revision_real\":[-1000,-0.03],\"Market cap\":[5000,10000000]},\n",
    "                                           (US_price,US_price,0,1,\"abs\")),\n",
    "              holding=30,\n",
    "              start=pd.Timestamp(2010,1,1),\n",
    "              end=pd.Timestamp(2019,12,30),\n",
    "              old_position=True,\n",
    "              new_signal=True,\n",
    "              revision_adjust=(True,(0.05,0.2),(-0.03,-0.1),2),\n",
    "              early_exit=False)"
   ]
  },
  {
   "cell_type": "code",
   "execution_count": 18,
   "metadata": {},
   "outputs": [
    {
     "name": "stderr",
     "output_type": "stream",
     "text": [
      "utils.ipynb:33: RuntimeWarning: divide by zero encountered in double_scalars\n",
      "  \"metadata\": {},\n",
      "utils.ipynb:34: RuntimeWarning: divide by zero encountered in double_scalars\n",
      "  \"outputs\": [],\n"
     ]
    }
   ],
   "source": [
    "_long_US,_short_US,_alpha_US,_portfolio_US=US_new.signal_account(stop=[8,8,\"abs\"],\n",
    "                                                           gross=(30,0),\n",
    "                                                           index_df=(0.5*abs_return_index_US.loc[\"SPX Index\"]+\\\n",
    "                                                          0.5*abs_return_index_US.loc[\"RTY Index\"]).to_frame(\"US_index\"),\n",
    "                                                           net_level=0,\n",
    "                                                           risk_parity=True,\n",
    "                                                           liquidity=0.2,\n",
    "                                                           capital=60)"
   ]
  },
  {
   "cell_type": "code",
   "execution_count": 19,
   "metadata": {},
   "outputs": [
    {
     "data": {
      "image/png": "[encoded data removed]",
      "text/plain": [
       "<Figure size 720x288 with 2 Axes>"
      ]
     },
     "metadata": {
      "needs_background": "light"
     },
     "output_type": "display_data"
    }
   ],
   "source": [
    "utils.plot_signal(\"US new\",[10,4],US_new.portfolio_account)"
   ]
  },
  {
   "cell_type": "code",
   "execution_count": 29,
   "metadata": {},
   "outputs": [
    {
     "data": {
      "text/plain": [
       "2013-08-02    0.008136\n",
       "2013-08-05    0.008399\n",
       "2013-08-06    0.008060\n",
       "2013-08-07    0.007665\n",
       "2013-08-08    0.007858\n",
       "2013-08-09    0.008090\n",
       "2013-08-12    0.008461\n",
       "2013-08-13    0.008375\n",
       "2013-08-14    0.008511\n",
       "2013-08-15    0.008038\n",
       "2013-08-16    0.008478\n",
       "2013-08-19    0.008029\n",
       "2013-08-20    0.007889\n",
       "2013-08-21    0.007801\n",
       "2013-08-22    0.007898\n",
       "2013-08-23    0.007946\n",
       "2013-08-26    0.007874\n",
       "2013-08-27    0.007547\n",
       "2013-08-28    0.007439\n",
       "2013-08-29    0.007663\n",
       "2013-08-30    0.007635\n",
       "2013-09-02    0.007635\n",
       "2013-09-03    0.007702\n",
       "2013-09-04    0.008073\n",
       "2013-09-05    0.008007\n",
       "2013-09-06    0.007941\n",
       "2013-09-09    0.008522\n",
       "2013-09-10    0.008386\n",
       "2013-09-11    0.008768\n",
       "2013-09-12    0.008836\n",
       "2013-09-13    0.008998\n",
       "Name: (1537336D US, 01/Aug/2013, 30/Oct/2013, 30/Sep/2013), dtype: float64"
      ]
     },
     "execution_count": 29,
     "metadata": {},
     "output_type": "execute_result"
    }
   ],
   "source": [
    "US_orig.long_cache[2].iloc[:,30].dropna()"
   ]
  },
  {
   "cell_type": "markdown",
   "metadata": {},
   "source": [
    "## 5.3 Asia"
   ]
  },
  {
   "cell_type": "code",
   "execution_count": 113,
   "metadata": {},
   "outputs": [
    {
     "data": {
      "application/vnd.jupyter.widget-view+json": {
       "model_id": "c4298084e1a041a0b4e6c8677d633f12",
       "version_major": 2,
       "version_minor": 0
      },
      "text/plain": [
       "HBox(children=(IntProgress(value=0, description='Pandas Apply', max=41308, style=ProgressStyle(description_wid…"
      ]
     },
     "metadata": {},
     "output_type": "display_data"
    },
    {
     "name": "stdout",
     "output_type": "stream",
     "text": [
      "\n"
     ]
    },
    {
     "data": {
      "application/vnd.jupyter.widget-view+json": {
       "model_id": "31afd48e83d14eefa473d54fd7947edd",
       "version_major": 2,
       "version_minor": 0
      },
      "text/plain": [
       "HBox(children=(IntProgress(value=0, description='Pandas Apply', max=41308, style=ProgressStyle(description_wid…"
      ]
     },
     "metadata": {},
     "output_type": "display_data"
    },
    {
     "name": "stdout",
     "output_type": "stream",
     "text": [
      "\n"
     ]
    }
   ],
   "source": [
    "Asia_orig=utils.signal(fundamental_df=Asia2,\n",
    "                    price_df=Asia_price,\n",
    "                    close_return_df=abs_return_Asia,\n",
    "                    entry=2,\n",
    "                    base=utils.signal_base(Asia2,{\"EAR_n\":[1,1000],\"Revision_20\":[0.02,1000]},\n",
    "                                           None,\n",
    "                                           (Asia_price,Asia_price,-1,3,\"abs\")),\n",
    "                    holding=20,\n",
    "                    start=pd.Timestamp(2019,10,1),\n",
    "                    end=pd.Timestamp(2019,12,30),\n",
    "                    old_position=True,\n",
    "                    new_signal=False,\n",
    "                    revision_adjust=(False,0.02,0.1,2),\n",
    "                    early_exit=False)"
   ]
  },
  {
   "cell_type": "code",
   "execution_count": 114,
   "metadata": {},
   "outputs": [],
   "source": [
    "_long_Europe,_short_Europe,_alpha_Europe,_portfolio_Europe=Asia_orig.signal_account(stop=[8,8,\"abs\"],\n",
    "                                                           gross=(30,0),\n",
    "                                                           index_df=abs_return_index_Asia.loc[[\"AS51 Index\",\"HSI Index\",\n",
    "                                                                                                \"TPX Index\",\"KOSPI Index\",\n",
    "                                                                                                \"MXSG Index\",\"TAMSCI Index\"]].T,\n",
    "                                                           net_level=0,\n",
    "                                                           risk_parity=True,\n",
    "                                                           liquidity=0.2,\n",
    "                                                           capital=50)"
   ]
  },
  {
   "cell_type": "code",
   "execution_count": 115,
   "metadata": {},
   "outputs": [
    {
     "data": {
      "image/png": "[encoded data removed]",
      "text/plain": [
       "<Figure size 720x288 with 2 Axes>"
      ]
     },
     "metadata": {
      "needs_background": "light"
     },
     "output_type": "display_data"
    }
   ],
   "source": [
    "plot_signal(\"Asia orig\",[10,4],Asia_orig.portfolio_account)"
   ]
  },
  {
   "cell_type": "code",
   "execution_count": null,
   "metadata": {},
   "outputs": [],
   "source": []
  },
  {
   "cell_type": "code",
   "execution_count": 116,
   "metadata": {},
   "outputs": [
    {
     "data": {
      "application/vnd.jupyter.widget-view+json": {
       "model_id": "15b9617380c140bb8511d26fdd1f24a9",
       "version_major": 2,
       "version_minor": 0
      },
      "text/plain": [
       "HBox(children=(IntProgress(value=0, description='Pandas Apply', max=41308, style=ProgressStyle(description_wid…"
      ]
     },
     "metadata": {},
     "output_type": "display_data"
    },
    {
     "name": "stdout",
     "output_type": "stream",
     "text": [
      "\n"
     ]
    },
    {
     "data": {
      "application/vnd.jupyter.widget-view+json": {
       "model_id": "c18e40de6cac4278ada8d5955a9fe633",
       "version_major": 2,
       "version_minor": 0
      },
      "text/plain": [
       "HBox(children=(IntProgress(value=0, description='Pandas Apply', max=41308, style=ProgressStyle(description_wid…"
      ]
     },
     "metadata": {},
     "output_type": "display_data"
    },
    {
     "name": "stdout",
     "output_type": "stream",
     "text": [
      "\n"
     ]
    }
   ],
   "source": [
    "Asia_new=utils.signal(fundamental_df=Asia2,\n",
    "                   price_df=Asia_VWAP,\n",
    "                   close_return_df=abs_return_Asia,\n",
    "                   entry=3,\n",
    "                   base=utils.signal_base(Asia2,{\"EAR_n\":[1,1000],\"Revision_real\":[0.02,1000]},\n",
    "                                           None,\n",
    "                                           (Asia_price,Asia_price,-1,3,\"abs\")),                      \n",
    "                   holding=20,\n",
    "                   start=pd.Timestamp(2019,10,1),\n",
    "                   end=pd.Timestamp(2019,12,30),\n",
    "                   old_position=False,\n",
    "                   new_signal=True,\n",
    "                   revision_adjust=(True,(0.02,0.05),(-0.05,-0.02),2),\n",
    "                  early_exit=False)"
   ]
  },
  {
   "cell_type": "code",
   "execution_count": 117,
   "metadata": {},
   "outputs": [],
   "source": [
    "_long_Europe,_short_Europe,_alpha_Europe,_portfolio_Europe=Asia_new.signal_account(stop=[8,8,\"abs\"],\n",
    "                                                           gross=(30,0),\n",
    "                                                           index_df=abs_return_index_Asia.loc[[\"AS51 Index\",\"HSI Index\",\n",
    "                                                                                                \"TPX Index\",\"KOSPI Index\",\n",
    "                                                                                                \"MXSG Index\",\"TAMSCI Index\"]].T,\n",
    "                                                           net_level=0,\n",
    "                                                           risk_parity=True,\n",
    "                                                           liquidity=0.2,\n",
    "                                                           capital=25)"
   ]
  },
  {
   "cell_type": "code",
   "execution_count": 118,
   "metadata": {},
   "outputs": [
    {
     "data": {
      "image/png": "[encoded data removed]",
      "text/plain": [
       "<Figure size 720x288 with 2 Axes>"
      ]
     },
     "metadata": {
      "needs_background": "light"
     },
     "output_type": "display_data"
    }
   ],
   "source": [
    "plot_signal(\"Asia new\",[10,4],Asia_new.portfolio_account)"
   ]
  },
  {
   "cell_type": "markdown",
   "metadata": {},
   "source": [
    "# 5 - Fitting choice"
   ]
  },
  {
   "cell_type": "code",
   "execution_count": 794,
   "metadata": {},
   "outputs": [],
   "source": [
    "def fitting_df(long,EAR_list,revision_list,fundamental_df,price_df,EAR_period,holding,start,end,stop,gross,index_df,\n",
    "               net_level,risk_parity,liquidity,capital,exclusive):\n",
    "    '''\n",
    "    Create a dataframe of sharpe and drawdown for different fitting variations\n",
    "    EAR/revision list includes the upper bound\n",
    "    '''\n",
    "    year_list=range(start.year,end.year+1)\n",
    "    EAR_list.sort()\n",
    "    revision_list.sort()\n",
    "    \n",
    "    criteria_list_short=list(itertools.product(*[EAR_list[1:],revision_list[1:]]))\n",
    "    criteria_list_long=list(itertools.product(*[EAR_list[:-1],revision_list[:-1]]))\n",
    "    \n",
    "    sharpe_dict={}\n",
    "    dd_dict={}\n",
    "    if exclusive:\n",
    "        if long:\n",
    "            for s in criteria_list_long:\n",
    "                signal_class=signal(fundamental_df=fundamental_df,\n",
    "                                   price_df=price_df,\n",
    "                                   EAR_period=EAR_period,\n",
    "                                   long_criteria=((s[0],EAR_list[EAR_list.index(s[0])+1]),\\\n",
    "                                                  (s[1],revision_list[revision_list.index(s[1])+1]),None,None),\n",
    "                                   short_criteria=None,\n",
    "                                   holding=holding,\n",
    "                                   start=start,\n",
    "                                   end=end)\n",
    "                \n",
    "                portfolio=signal_class.signal_account(stop=stop,\n",
    "                                                      gross=gross,\n",
    "                                                      index_df=index_df.copy(),\n",
    "                                                      net_level=net_level,\n",
    "                                                      risk_parity=risk_parity,\n",
    "                                                      liquidity=liquidity,\n",
    "                                                      capital=capital)\n",
    "\n",
    "                sharpe_dict[s]=sharpe_by_year(portfolio[-1][1],year_list)\n",
    "                dd_dict[s]=dd_by_year(portfolio[-1][1],year_list)\n",
    "                \n",
    "        else:\n",
    "            for s in criteria_list_short:\n",
    "                signal_class=signal(fundamental_df=fundamental_df,\n",
    "                                   price_df=price_df,\n",
    "                                   EAR_period=EAR_period,\n",
    "                                   long_criteria=None,\n",
    "                                   short_criteria=((EAR_list[EAR_list.index(s[0])-1],s[0]),\\\n",
    "                                                   (revision_list[revision_list.index(s[1])-1],s[1]),None,(5000,10000000)),\n",
    "                                   holding=holding,\n",
    "                                   start=start,\n",
    "                                   end=end)\n",
    "\n",
    "                portfolio=signal_class.signal_account(stop=stop,\n",
    "                                                      gross=gross,\n",
    "                                                      index_df=index_df.copy(),\n",
    "                                                      net_level=net_level,\n",
    "                                                      risk_parity=risk_parity,\n",
    "                                                      liquidity=liquidity,\n",
    "                                                      capital=capital)\n",
    "\n",
    "                sharpe_dict[s]=sharpe_by_year(portfolio[-1][1],year_list)\n",
    "                dd_dict[s]=dd_by_year(portfolio[-1][1],year_list)\n",
    "    \n",
    "    else:\n",
    "        if long:\n",
    "            for i in criteria_list_long:\n",
    "                signal_class=signal(fundamental_df=fundamental_df,\n",
    "                                   price_df=price_df,\n",
    "                                   EAR_period=EAR_period,\n",
    "                                   long_criteria=((i[0],10),(i[1],10),None,None),\n",
    "                                   short_criteria=None,\n",
    "                                   holding=holding,\n",
    "                                   start=start,\n",
    "                                   end=end)\n",
    "\n",
    "                portfolio=signal_class.signal_account(stop=stop,\n",
    "                                                      gross=gross,\n",
    "                                                      index_df=index_df.copy(),\n",
    "                                                      net_level=net_level,\n",
    "                                                      risk_parity=risk_parity,\n",
    "                                                      liquidity=liquidity,\n",
    "                                                      capital=capital)\n",
    "\n",
    "                sharpe_dict[i]=sharpe_by_year(portfolio[-1][1],year_list)\n",
    "                dd_dict[i]=dd_by_year(portfolio[-1][1],year_list)\n",
    "                \n",
    "        else:\n",
    "            for i in criteria_list_short:\n",
    "                signal_class=signal(fundamental_df=fundamental_df,\n",
    "                                   price_df=price_df,\n",
    "                                   EAR_period=EAR_period,\n",
    "                                   long_criteria=None,\n",
    "                                   short_criteria=((-10,i[0]),(-10,i[1]),None,(5000,10000000)),\n",
    "                                   holding=holding,\n",
    "                                   start=start,\n",
    "                                   end=end)\n",
    "                \n",
    "                portfolio=signal_class.signal_account(stop=stop,\n",
    "                                                      gross=gross,\n",
    "                                                      index_df=index_df.copy(),\n",
    "                                                      net_level=net_level,\n",
    "                                                      risk_parity=risk_parity,\n",
    "                                                      liquidity=liquidity,\n",
    "                                                      capital=capital)\n",
    "\n",
    "                sharpe_dict[i]=sharpe_by_year(portfolio[-1][1],year_list)\n",
    "                dd_dict[i]=dd_by_year(portfolio[-1][1],year_list)\n",
    "\n",
    "    sharpe_df=pd.DataFrame(sharpe_dict)\n",
    "    dd_df=pd.DataFrame(dd_dict)\n",
    "        \n",
    "    return sharpe_df,dd_df\n",
    "        "
   ]
  },
  {
   "cell_type": "code",
   "execution_count": 795,
   "metadata": {},
   "outputs": [
    {
     "ename": "NameError",
     "evalue": "name 'Europe' is not defined",
     "output_type": "error",
     "traceback": [
      "\u001b[1;31m---------------------------------------------------------------------------\u001b[0m",
      "\u001b[1;31mNameError\u001b[0m                                 Traceback (most recent call last)",
      "\u001b[1;32m<ipython-input-795-3a1dce7dc51e>\u001b[0m in \u001b[0;36m<module>\u001b[1;34m()\u001b[0m\n\u001b[1;32m----> 1\u001b[1;33m \u001b[0mEurope_long_sharpe\u001b[0m\u001b[1;33m,\u001b[0m\u001b[0mEurope_long_dd\u001b[0m\u001b[1;33m=\u001b[0m\u001b[0mfitting_df\u001b[0m\u001b[1;33m(\u001b[0m\u001b[1;32mTrue\u001b[0m\u001b[1;33m,\u001b[0m\u001b[1;33m[\u001b[0m\u001b[1;36m1\u001b[0m\u001b[1;33m,\u001b[0m\u001b[1;36m2\u001b[0m\u001b[1;33m,\u001b[0m\u001b[1;36m3\u001b[0m\u001b[1;33m,\u001b[0m\u001b[1;36m10\u001b[0m\u001b[1;33m]\u001b[0m\u001b[1;33m,\u001b[0m\u001b[1;33m[\u001b[0m\u001b[1;36m0.02\u001b[0m\u001b[1;33m,\u001b[0m\u001b[1;36m0.03\u001b[0m\u001b[1;33m,\u001b[0m\u001b[1;36m0.04\u001b[0m\u001b[1;33m,\u001b[0m\u001b[1;36m0.05\u001b[0m\u001b[1;33m,\u001b[0m\u001b[1;36m10\u001b[0m\u001b[1;33m]\u001b[0m\u001b[1;33m,\u001b[0m\u001b[0mEurope\u001b[0m\u001b[1;33m,\u001b[0m\u001b[0mEurope_price\u001b[0m\u001b[1;33m,\u001b[0m\u001b[1;36m2\u001b[0m\u001b[1;33m,\u001b[0m\u001b[1;36m30\u001b[0m\u001b[1;33m,\u001b[0m                                             \u001b[0mpd\u001b[0m\u001b[1;33m.\u001b[0m\u001b[0mTimestamp\u001b[0m\u001b[1;33m(\u001b[0m\u001b[1;36m2007\u001b[0m\u001b[1;33m,\u001b[0m\u001b[1;36m1\u001b[0m\u001b[1;33m,\u001b[0m\u001b[1;36m1\u001b[0m\u001b[1;33m)\u001b[0m\u001b[1;33m,\u001b[0m\u001b[0mpd\u001b[0m\u001b[1;33m.\u001b[0m\u001b[0mTimestamp\u001b[0m\u001b[1;33m(\u001b[0m\u001b[1;36m2018\u001b[0m\u001b[1;33m,\u001b[0m\u001b[1;36m12\u001b[0m\u001b[1;33m,\u001b[0m\u001b[1;36m31\u001b[0m\u001b[1;33m)\u001b[0m\u001b[1;33m,\u001b[0m\u001b[1;33m(\u001b[0m\u001b[1;36m8\u001b[0m\u001b[1;33m,\u001b[0m\u001b[1;32mNone\u001b[0m\u001b[1;33m)\u001b[0m\u001b[1;33m,\u001b[0m\u001b[1;33m(\u001b[0m\u001b[1;36m30\u001b[0m\u001b[1;33m,\u001b[0m\u001b[1;32mNone\u001b[0m\u001b[1;33m)\u001b[0m                                             \u001b[1;33m,\u001b[0m\u001b[0mabs_return_index_Europe\u001b[0m\u001b[1;33m.\u001b[0m\u001b[0mloc\u001b[0m\u001b[1;33m[\u001b[0m\u001b[1;34m\"SX5E Index\"\u001b[0m\u001b[1;33m]\u001b[0m\u001b[1;33m.\u001b[0m\u001b[0mto_frame\u001b[0m\u001b[1;33m(\u001b[0m\u001b[1;34m'Europe'\u001b[0m\u001b[1;33m)\u001b[0m\u001b[1;33m,\u001b[0m\u001b[1;36m0\u001b[0m\u001b[1;33m,\u001b[0m\u001b[1;32mTrue\u001b[0m\u001b[1;33m,\u001b[0m\u001b[1;36m0.2\u001b[0m\u001b[1;33m,\u001b[0m\u001b[1;36m50\u001b[0m\u001b[1;33m)\u001b[0m\u001b[1;33m\u001b[0m\u001b[0m\n\u001b[0m",
      "\u001b[1;31mNameError\u001b[0m: name 'Europe' is not defined"
     ]
    }
   ],
   "source": [
    "Europe_long_sharpe,Europe_long_dd=fitting_df(True,[1,2,3,10],[0.02,0.03,0.04,0.05,10],Europe,Europe_price,2,30,\\\n",
    "                                             pd.Timestamp(2007,1,1),pd.Timestamp(2018,12,31),(8,None),(30,None)\\\n",
    "                                             ,abs_return_index_Europe.loc[\"SX5E Index\"].to_frame('Europe'),0,True,0.2,50)"
   ]
  },
  {
   "cell_type": "code",
   "execution_count": 74,
   "metadata": {},
   "outputs": [],
   "source": [
    "Europe_short_sharpe,Europe_short_dd=fitting_df(False,[-1,-2,-3,-4],[-0.02,-0.03,-0.04,-0.05,-0.06],Europe,Europe_price,2,30,\\\n",
    "                                             pd.Timestamp(2007,1,1),pd.Timestamp(2018,12,31),(8,8),(30,30)\\\n",
    "                                             ,abs_return_index_Europe.loc[\"SX5E Index\"].to_frame('Europe'),0,True,0.2,50)"
   ]
  },
  {
   "cell_type": "code",
   "execution_count": 75,
   "metadata": {},
   "outputs": [],
   "source": [
    "Europe_short_sharpe.to_csv(\"Europe_short_sharpe.csv\")"
   ]
  },
  {
   "cell_type": "code",
   "execution_count": 76,
   "metadata": {},
   "outputs": [],
   "source": [
    "Europe_short_dd.to_csv(\"Europe_short_dd.csv\")"
   ]
  },
  {
   "cell_type": "code",
   "execution_count": 77,
   "metadata": {},
   "outputs": [],
   "source": [
    "US_long_sharpe,US_long_dd=fitting_df(True,[1,2,3,4],[0.02,0.03,0.04,0.05,0.06,0.07],\\\n",
    "                                     US,US_price,2,30,pd.Timestamp(2007,1,1),pd.Timestamp(2018,12,31),(8,None),(30,None)\\\n",
    "                                             ,(0.5*abs_return_index_US.loc[\"SPX Index\"]+0.5*abs_return_index_US.loc[\"RTY Index\"])\\\n",
    "                                     .to_frame('US'),0,True,0.2,50)"
   ]
  },
  {
   "cell_type": "code",
   "execution_count": 360,
   "metadata": {},
   "outputs": [],
   "source": [
    "adj_US_long_sharpe,adj_US_long_dd=fitting_df(True,[1,2,3,4],[0.02,0.03,0.04,0.05,0.06,0.07],\\\n",
    "                                     adj_US,US_price,2,30,pd.Timestamp(2007,1,1),pd.Timestamp(2018,12,31),(8,None),(30,None)\\\n",
    "                                             ,(0.5*abs_return_index_US.loc[\"SPX Index\"]+0.5*abs_return_index_US.loc[\"RTY Index\"])\\\n",
    "                                     .to_frame('US'),0,True,0.2,50,False)"
   ]
  },
  {
   "cell_type": "code",
   "execution_count": null,
   "metadata": {},
   "outputs": [],
   "source": []
  },
  {
   "cell_type": "code",
   "execution_count": null,
   "metadata": {},
   "outputs": [],
   "source": []
  },
  {
   "cell_type": "code",
   "execution_count": 35,
   "metadata": {},
   "outputs": [],
   "source": [
    "US_short_sharpe,US_short_dd=fitting_df(False,[-1,-2,-3,-4],[-0.02,-0.03,-0.04,-0.05,-0.06,-0.07],\\\n",
    "                                     US,US_price,2,30,pd.Timestamp(2007,1,1),pd.Timestamp(2018,12,31),(8,8),(30,30)\\\n",
    "                                             ,(0.5*abs_return_index_US.loc[\"SPX Index\"]+0.5*abs_return_index_US.loc[\"RTY Index\"])\\\n",
    "                                     .to_frame('US'),0,True,0.2,50)"
   ]
  },
  {
   "cell_type": "code",
   "execution_count": 365,
   "metadata": {},
   "outputs": [],
   "source": [
    "adj_US_short_sharpe,adj_US_short_dd=fitting_df(False,[-1,-2,-3],[-0.02,-0.03,-0.04,-0.05],\\\n",
    "                                     adj_US,US_price,2,30,pd.Timestamp(2007,1,1),pd.Timestamp(2018,12,31),(8,8),(30,30)\\\n",
    "                                             ,(0.5*abs_return_index_US.loc[\"SPX Index\"]+0.5*abs_return_index_US.loc[\"RTY Index\"])\\\n",
    "                                     .to_frame('US'),0,True,0.2,50,False)"
   ]
  },
  {
   "cell_type": "code",
   "execution_count": null,
   "metadata": {},
   "outputs": [],
   "source": []
  },
  {
   "cell_type": "code",
   "execution_count": 37,
   "metadata": {},
   "outputs": [],
   "source": [
    "US_short_sharpe.to_csv(\"US_short_sharpe.csv\")"
   ]
  },
  {
   "cell_type": "code",
   "execution_count": 38,
   "metadata": {},
   "outputs": [],
   "source": [
    "US_short_dd.to_csv(\"US_short_dd.csv\")"
   ]
  },
  {
   "cell_type": "code",
   "execution_count": 41,
   "metadata": {},
   "outputs": [],
   "source": [
    "Asia_long_sharpe,Asia_long_dd=fitting_df(True,[1,2,3,4],[0.02,0.03,0.04,0.05,0.06,0.07],\\\n",
    "                                     Asia,Asia_price,2,20,pd.Timestamp(2007,1,1),pd.Timestamp(2018,12,31),(8,None),(30,None)\\\n",
    "                                             ,abs_return_index_Asia.loc[[\"AS51 Index\",\"HSI Index\",\n",
    "                                                                                                \"TPX Index\",\"KOSPI Index\",\n",
    "                                                                                                \"MXSG Index\",\"TAMSCI Index\"]].T\\\n",
    "                                     ,0,True,0.2,50)"
   ]
  },
  {
   "cell_type": "code",
   "execution_count": 43,
   "metadata": {},
   "outputs": [],
   "source": [
    "Asia_long_sharpe.to_csv(\"Asian_long_sharpe.csv\")"
   ]
  },
  {
   "cell_type": "code",
   "execution_count": 45,
   "metadata": {},
   "outputs": [],
   "source": [
    "Asia_long_dd.to_csv(\"Asian_long_dd.csv\")"
   ]
  },
  {
   "cell_type": "code",
   "execution_count": null,
   "metadata": {},
   "outputs": [],
   "source": []
  },
  {
   "cell_type": "markdown",
   "metadata": {},
   "source": [
    "# 6 - Result"
   ]
  },
  {
   "cell_type": "markdown",
   "metadata": {},
   "source": [
    "# 7 - Drawdown analysis"
   ]
  },
  {
   "cell_type": "code",
   "execution_count": 69,
   "metadata": {},
   "outputs": [],
   "source": [
    "def drawdown_days(acct_curve,timestamp):\n",
    "    dd=acct_curve-acct_curve.cummax()\n",
    "    previous_high=acct_curve.loc[:timestamp].max()\n",
    "    high_timestamp=acct_curve[acct_curve==previous_high].index[0]\n",
    "    days=acct_curve.index.tolist().index(timestamp)-acct_curve.index.tolist().index(high_timestamp)\n",
    "    return (high_timestamp,days)"
   ]
  },
  {
   "cell_type": "code",
   "execution_count": 70,
   "metadata": {},
   "outputs": [],
   "source": [
    "def drawdown_df(portfolio_cache):\n",
    "    drawdown=portfolio_cache[-1].iloc[:,-1].to_frame()\n",
    "    drawdown.columns=[\"Index\"]\n",
    "    drawdown[\"Index vol\"]=drawdown[\"Index\"].rolling(30).std()\n",
    "    drawdown[\"Portfolio\"]=portfolio_cache[1].diff(1)\n",
    "    drawdown[\"Account\"]=portfolio_cache[1].copy()\n",
    "    drawdown[\"Drawdown\"]= drawdown[\"Account\"]- drawdown[\"Account\"].cummax()\n",
    "    drawdown[\"Drawdown days\"]= drawdown.apply(lambda x: drawdown_days(drawdown[\"Account\"],x.name)[1],axis=1)\n",
    "    drawdown[\"Drawdown start\"]= drawdown.apply(lambda x: drawdown_days(drawdown[\"Account\"],x.name)[0],axis=1)\n",
    "    drawdown[\"Gross\"]=np.abs(portfolio_cache[2]).sum(axis=1)\n",
    "    return drawdown\n",
    "    "
   ]
  },
  {
   "cell_type": "code",
   "execution_count": 71,
   "metadata": {},
   "outputs": [],
   "source": [
    "def portfolio_drawdown_df(portfolio_cache,stop,multiple):\n",
    "    portfolio_cache_list=list(portfolio_cache)\n",
    "    orig_size=portfolio_cache_list[2]\n",
    "    orig_account=portfolio_cache_list[1]\n",
    "    dd=orig_account-orig_account.cummax()\n",
    "    stop_evaluate=dd[dd.shift(1)<stop]\n",
    "    adj_size=orig_size.apply(lambda x: x*multiple if x.name in stop_evaluate.index else x,axis=1)\n",
    "    \n",
    "    new_portfolio_cache=portfolio_cache_list.copy()\n",
    "    new_portfolio_cache[2]=adj_size\n",
    "    new_portfolio_cache[0]=adj_size.shift(1)*new_portfolio_cache[-1]\n",
    "    new_portfolio_cache[1]=new_portfolio_cache[0].sum(axis=1).cumsum()\n",
    "    return tuple(new_portfolio_cache)\n",
    "    "
   ]
  },
  {
   "cell_type": "code",
   "execution_count": null,
   "metadata": {},
   "outputs": [],
   "source": []
  },
  {
   "cell_type": "markdown",
   "metadata": {},
   "source": [
    "# 8 - Sizing for the live trading"
   ]
  },
  {
   "cell_type": "code",
   "execution_count": 498,
   "metadata": {},
   "outputs": [],
   "source": [
    "US_live=signal(fundamental_df=US1,\n",
    "                price_df=US_price,\n",
    "               close_return_df=abs_return_US,\n",
    "                    EAR_period=1,\n",
    "                    entry=2,\n",
    "                    long_criteria=((3,1000),(0.05,1000),None),\n",
    "                    short_criteria=((-1000,-2),(-1000,-0.03),(5000,10000000)),\n",
    "                    holding=30,\n",
    "                    start=pd.Timestamp(2019,7,1),\n",
    "                    end=pd.Timestamp(2019,9,17),\n",
    "                    old_position=True,\n",
    "                    new_signal=False,\n",
    "                    revision_adjust=(False,0.02,0.1,2),\n",
    "                    early_exit=False)"
   ]
  },
  {
   "cell_type": "code",
   "execution_count": 506,
   "metadata": {},
   "outputs": [],
   "source": [
    "US_new=signal(fundamental_df=US1,\n",
    "                   price_df=US_VWAP,\n",
    "              close_return_df=abs_return_US,\n",
    "                   EAR_period=1,\n",
    "                   entry=2,\n",
    "                   long_criteria=((2,1000),(0.05,1000),None),\n",
    "                   short_criteria=((-1000,-2),(-1000,-0.03),(5000,10000000)),\n",
    "                   holding=30,\n",
    "                   start=pd.Timestamp(2019,7,1),\n",
    "                   end=pd.Timestamp(2019,9,17),\n",
    "                   old_position=False,\n",
    "                   new_signal=True,\n",
    "                   revision_adjust=(True,(0.05,0.2),(-0.03,-0.1),2),\n",
    "                  early_exit=False)"
   ]
  },
  {
   "cell_type": "code",
   "execution_count": 509,
   "metadata": {},
   "outputs": [],
   "source": [
    "_long_US_live,_short_US_live,_alpha_US_live,_portfolio_US_live=US_new.signal_account(stop=[8,8,\"abs\"],\n",
    "                                                           gross=(30,15),\n",
    "                                                           index_df=(0.5*abs_return_index_US.loc[\"SPX Index\"]+\\\n",
    "                                                          0.5*abs_return_index_US.loc[\"RTY Index\"]).to_frame(\"US_index\"),\n",
    "                                                           net_level=0,\n",
    "                                                           risk_parity=True,\n",
    "                                                           liquidity=0.2,\n",
    "                                                           capital=65)"
   ]
  },
  {
   "cell_type": "code",
   "execution_count": 510,
   "metadata": {},
   "outputs": [
    {
     "data": {
      "image/png": "[encoded data removed]",
      "text/plain": [
       "<Figure size 720x288 with 2 Axes>"
      ]
     },
     "metadata": {
      "needs_background": "light"
     },
     "output_type": "display_data"
    }
   ],
   "source": [
    "US_live.plot_account(\"US reference\")"
   ]
  },
  {
   "cell_type": "code",
   "execution_count": 511,
   "metadata": {},
   "outputs": [
    {
     "name": "stdout",
     "output_type": "stream",
     "text": [
      "US long size is 0.012410474834533685\n",
      "US long volatility is 0.020851171668044982\n",
      "US long number is 26.210526315789473\n",
      "US short size is -0.009606398110422265\n",
      "US short volatility is 0.016461738898315308\n",
      "US short number is 16.45614035087719\n"
     ]
    }
   ],
   "source": [
    "'''\n",
    "US reference sizing and volatility\n",
    "'''\n",
    "print(\"US long size is \"+str(_long_US_live[2].apply(lambda x:x.dropna().iloc[0],axis=0).mean()))\n",
    "print(\"US long volatility is \"+str(US1.loc[_long_US_live[-1].index][\"30d_vol\"].mean()))\n",
    "print(\"US long number is \"+str(_long_US_live[2].count(axis=1).mean()))\n",
    "print(\"US short size is \"+str(_short_US_live[2].apply(lambda x:x.dropna().iloc[0],axis=0).mean()))\n",
    "print(\"US short volatility is \"+str(US1.loc[_short_US_live[-1].index][\"30d_vol\"].mean()))\n",
    "print(\"US short number is \"+str(_short_US_live[2].count(axis=1).mean()))"
   ]
  },
  {
   "cell_type": "code",
   "execution_count": null,
   "metadata": {},
   "outputs": [],
   "source": []
  },
  {
   "cell_type": "code",
   "execution_count": 519,
   "metadata": {},
   "outputs": [],
   "source": [
    "Europe_live=signal(fundamental_df=Europe2,\n",
    "                    price_df=Europe_price,\n",
    "                   close_return_df=abs_return_Europe,\n",
    "                    EAR_period=1,\n",
    "                    entry=2,\n",
    "                    long_criteria=((1,1000),(0.03,1000),None),\n",
    "                    short_criteria=((-1000,-2),(-1000,-0.03),(5000,10000000)),\n",
    "                    holding=30,\n",
    "                    start=pd.Timestamp(2019,7,1),\n",
    "                    end=pd.Timestamp(2019,9,17),\n",
    "                    old_position=True,\n",
    "                    new_signal=False,\n",
    "                    revision_adjust=(False,0.02,0.1,2),\n",
    "                    early_exit=False)"
   ]
  },
  {
   "cell_type": "code",
   "execution_count": 523,
   "metadata": {},
   "outputs": [],
   "source": [
    "Europe_new=signal(fundamental_df=Europe2,\n",
    "                   price_df=Europe_VWAP,\n",
    "                  close_return_df=abs_return_Europe,\n",
    "                   EAR_period=1,\n",
    "                   entry=3,\n",
    "                   long_criteria=((2,1000),(0.02,1000),None),\n",
    "                   short_criteria=((-1000,-2),(-1000,-0.02),(5000,10000000)),\n",
    "                   holding=30,\n",
    "                   start=pd.Timestamp(2019,7,1),\n",
    "                   end=pd.Timestamp(2019,9,17),\n",
    "                   old_position=False,\n",
    "                   new_signal=True,\n",
    "                   revision_adjust=(True,(0.02,0.05),(-0.05,-0.02),2),\n",
    "                  early_exit=False)"
   ]
  },
  {
   "cell_type": "code",
   "execution_count": 524,
   "metadata": {},
   "outputs": [],
   "source": [
    "_long_Europe_live,_short_Europe_live,_alpha_Europe,_portfolio_Europe_live=Europe_new.signal_account(stop=[8,8,\"abs\"],\n",
    "                                                           gross=(30,15),\n",
    "                                                           index_df=abs_return_index_Europe.loc[\"SX5E Index\"].to_frame('Europe'),\n",
    "                                                           net_level=0,\n",
    "                                                           risk_parity=True,\n",
    "                                                           liquidity=0.2,\n",
    "                                                           capital=65)"
   ]
  },
  {
   "cell_type": "code",
   "execution_count": 525,
   "metadata": {},
   "outputs": [
    {
     "data": {
      "image/png": "[encoded data removed]",
      "text/plain": [
       "<Figure size 720x288 with 2 Axes>"
      ]
     },
     "metadata": {
      "needs_background": "light"
     },
     "output_type": "display_data"
    }
   ],
   "source": [
    "Europe_live.plot_account(\"Europe reference\")"
   ]
  },
  {
   "cell_type": "code",
   "execution_count": 526,
   "metadata": {},
   "outputs": [
    {
     "name": "stdout",
     "output_type": "stream",
     "text": [
      "Europe long size is 0.020525708575819646\n",
      "Europe long volatility is 0.016376518426480167\n",
      "Europe long number is 15.719298245614034\n",
      "Europe short size is -0.012283169941996578\n",
      "Europe short volatility is 0.013138115630322881\n",
      "Europe short number is 13.350877192982455\n"
     ]
    }
   ],
   "source": [
    "'''\n",
    "Europe reference sizing and volatility\n",
    "'''\n",
    "print(\"Europe long size is \"+str(_long_Europe_live[2].apply(lambda x:x.dropna().iloc[0],axis=0).mean()))\n",
    "print(\"Europe long volatility is \"+str(Europe2.loc[_long_Europe_live[-1].index][\"30d_vol\"].mean()))\n",
    "print(\"Europe long number is \"+str(_long_Europe_live[2].count(axis=1).mean()))\n",
    "print(\"Europe short size is \"+str(_short_Europe_live[2].apply(lambda x:x.dropna().iloc[0],axis=0).mean()))\n",
    "print(\"Europe short volatility is \"+str(Europe2.loc[_short_Europe_live[-1].index][\"30d_vol\"].mean()))\n",
    "print(\"Europe short number is \"+str(_short_Europe_live[2].count(axis=1).mean()))"
   ]
  },
  {
   "cell_type": "code",
   "execution_count": null,
   "metadata": {},
   "outputs": [],
   "source": []
  },
  {
   "cell_type": "code",
   "execution_count": 528,
   "metadata": {},
   "outputs": [],
   "source": [
    "Asia_live=signal(fundamental_df=Asia2,\n",
    "                    price_df=Asia_price,\n",
    "                 close_return_df=abs_return_Asia,\n",
    "                    EAR_period=1,\n",
    "                    entry=2,\n",
    "                    long_criteria=((1,1000),(0.02,1000),None),\n",
    "                    short_criteria=None,\n",
    "                    holding=20,\n",
    "                    start=pd.Timestamp(2019,7,1),\n",
    "                    end=pd.Timestamp(2019,9,17),\n",
    "                    old_position=True,\n",
    "                    new_signal=False,\n",
    "                    revision_adjust=(False,0.02,0.1,2),\n",
    "                    early_exit=False)"
   ]
  },
  {
   "cell_type": "code",
   "execution_count": 533,
   "metadata": {},
   "outputs": [],
   "source": [
    "Asia_new=signal(fundamental_df=Asia2,\n",
    "                   price_df=Asia_VWAP,\n",
    "                close_return_df=abs_return_Asia,\n",
    "                   EAR_period=1,\n",
    "                   entry=3,\n",
    "                   long_criteria=((1,1000),(0.02,1000),None),\n",
    "                   short_criteria=None,\n",
    "                   holding=20,\n",
    "                   start=pd.Timestamp(2019,7,1),\n",
    "                   end=pd.Timestamp(2019,9,17),\n",
    "                   old_position=False,\n",
    "                   new_signal=True,\n",
    "                   revision_adjust=(True,(0.02,0.05),(-0.05,-0.02),2),\n",
    "                  early_exit=False)"
   ]
  },
  {
   "cell_type": "code",
   "execution_count": 534,
   "metadata": {},
   "outputs": [],
   "source": [
    "_long_Asia_live,_short_Asia_live,_alpha_Asia_live,_portfolio_Asia_live=Asia_new.signal_account(stop=[8,8,\"abs\"],\n",
    "                                                           gross=(30,0),\n",
    "                                                           index_df=abs_return_index_Asia.loc[[\"AS51 Index\",\"HSI Index\",\n",
    "                                                                                                \"TPX Index\",\"KOSPI Index\",\n",
    "                                                                                                \"MXSG Index\",\"TAMSCI Index\"]].T,\n",
    "                                                           net_level=0,\n",
    "                                                           risk_parity=True,\n",
    "                                                           liquidity=0.2,\n",
    "                                                           capital=50)"
   ]
  },
  {
   "cell_type": "code",
   "execution_count": 535,
   "metadata": {},
   "outputs": [
    {
     "data": {
      "image/png": "[encoded data removed]",
      "text/plain": [
       "<Figure size 720x288 with 2 Axes>"
      ]
     },
     "metadata": {
      "needs_background": "light"
     },
     "output_type": "display_data"
    }
   ],
   "source": [
    "Asia_new.plot_account(\"Asia reference\")"
   ]
  },
  {
   "cell_type": "code",
   "execution_count": 536,
   "metadata": {},
   "outputs": [
    {
     "name": "stdout",
     "output_type": "stream",
     "text": [
      "Asia long size is 0.018774946057680538\n",
      "Asia long volatility is 0.020420164184614707\n",
      "Asia long number is 17.087719298245613\n"
     ]
    }
   ],
   "source": [
    "'''\n",
    "Europe reference sizing and volatility\n",
    "'''\n",
    "print(\"Asia long size is \"+str(_long_Asia_live[2].apply(lambda x:x.dropna().iloc[0],axis=0).mean()))\n",
    "print(\"Asia long volatility is \"+str(Asia2.loc[_long_Asia_live[-1].index][\"30d_vol\"].mean()))\n",
    "print(\"Asia long number is \"+str(_long_Asia_live[2].count(axis=1).mean()))\n",
    "\n",
    "\n"
   ]
  },
  {
   "cell_type": "code",
   "execution_count": null,
   "metadata": {},
   "outputs": [],
   "source": []
  },
  {
   "cell_type": "markdown",
   "metadata": {},
   "source": [
    "# 9. Holding period analysis"
   ]
  },
  {
   "cell_type": "code",
   "execution_count": 355,
   "metadata": {},
   "outputs": [
    {
     "name": "stderr",
     "output_type": "stream",
     "text": [
      "C:\\Users\\Eric.Li\\AppData\\Local\\Continuum\\anaconda3\\lib\\site-packages\\ipykernel_launcher.py:5: SettingWithCopyWarning: \n",
      "A value is trying to be set on a copy of a slice from a DataFrame.\n",
      "Try using .loc[row_indexer,col_indexer] = value instead\n",
      "\n",
      "See the caveats in the documentation: http://pandas.pydata.org/pandas-docs/stable/indexing.html#indexing-view-versus-copy\n",
      "  \"\"\"\n"
     ]
    }
   ],
   "source": [
    "''' \n",
    "US signal in the form of fundamental_df\n",
    "'''\n",
    "US_long=US1[[\"Date\",\"Supersector\",\"Revision_real\"]]\n",
    "US_long[\"EAR\"]=US_long.apply(lambda x:EAR_calc(x.name[0],x.name[1],abs_return_US,2,30),axis=1)\n",
    "US_long=US_sector[(US_sector[\"Revision_real\"]>0.05)&(US_sector[\"EAR\"]>2)]"
   ]
  },
  {
   "cell_type": "code",
   "execution_count": 356,
   "metadata": {},
   "outputs": [],
   "source": [
    "def signal_day_transform(signal_df,return_df,EAR_period):\n",
    "    signal_day=pd.DataFrame()\n",
    "    for i in signal_df.index:\n",
    "        if type(i[2])==str:\n",
    "            column_day=return_df.loc[i[0]].loc[i[1]:i[2]].iloc[EAR_period+1:EAR_period+61]\n",
    "        else:\n",
    "            column_day=return_df.loc[i[0]].loc[i[1]:].iloc[EAR_period+1:EAR_period+61]\n",
    "        column_day.index=list(range(1,column_day.shape[0]+1))\n",
    "        signal_day=pd.concat([signal_day,column_day],axis=1)\n",
    "        \n",
    "    signal_day.columns=signal_df.index\n",
    "    return signal_day"
   ]
  },
  {
   "cell_type": "code",
   "execution_count": 357,
   "metadata": {},
   "outputs": [],
   "source": [
    "US_long_day=signal_day_transform(US_long,rel_return_US,1)"
   ]
  },
  {
   "cell_type": "code",
   "execution_count": 358,
   "metadata": {},
   "outputs": [],
   "source": [
    "US_long_day_cum=(1+US_long_day).cumprod()-1"
   ]
  },
  {
   "cell_type": "code",
   "execution_count": 522,
   "metadata": {},
   "outputs": [],
   "source": [
    "def plot_day_signal_by_year(signal_day,signal_df,sector):\n",
    "    if sector==\"all\":\n",
    "        pass\n",
    "    else:\n",
    "        sector_row=signal_df[\"Supersector\"]\n",
    "        signal_day=signal_day.loc[:,sector_row==sector]\n",
    "    \n",
    "    signal_day_cum=(1+signal_day).cumprod()-1\n",
    "    \n",
    "    year_row=signal_day_cum.apply(lambda x:int(x.name[1][-4:]),axis=0)\n",
    "    year_list=sorted(list(set(year_row)))\n",
    "    \n",
    "    record_dict={}\n",
    "    \n",
    "    counter=0\n",
    "    fig,ax=plt.subplots(round(len(year_list)/2)+1,2,figsize=(15,25))\n",
    "    for i in year_list:\n",
    "        ax[int(counter/2),counter%2].plot(signal_day_cum.loc[:,year_row==i].mean(axis=1))\n",
    "        max_point=int(signal_day_cum.loc[:,year_row==i].mean(axis=1).loc[signal_day_cum.loc[:,year_row==i]\\\n",
    "                                                               .mean(axis=1)==signal_day_cum.\\\n",
    "                                                               loc[:,year_row==i].mean(axis=1).max()].index.values)\n",
    "        ax[int(counter/2),counter%2].set_title(str(i)+'; '+str(signal_day_cum.loc[:,year_row==i].shape[1])+' signals; '+\\\n",
    "                                               'day'+str(max_point))\n",
    "        counter+=1\n",
    "        record_dict[i]=max_point\n",
    "        \n",
    "    plt.suptitle(sector,y=0.9,fontsize=20)\n",
    "    plt.show()  \n",
    "    return record_dict\n",
    "    \n",
    "    "
   ]
  },
  {
   "cell_type": "code",
   "execution_count": 518,
   "metadata": {},
   "outputs": [],
   "source": [
    "def plot_day_signal_by_sector(signal_day,signal_df):\n",
    "\n",
    "    sector_row=signal_df[\"Supersector\"]\n",
    "    \n",
    "    signal_day_cum=(1+signal_day).cumprod()-1\n",
    "    \n",
    "    sector_list=sector_row.unique()\n",
    "    \n",
    "    counter=0\n",
    "    \n",
    "    record_dict={}\n",
    "    fig,ax=plt.subplots(round(len(sector_list)/2)+1,2,figsize=(15,35))\n",
    "    \n",
    "    for i in sector_list:\n",
    "        if type(i)==str:\n",
    "            ax[int(counter/2),counter%2].plot(signal_day_cum.loc[:,sector_row==i].mean(axis=1))\n",
    "            max_point=int(signal_day_cum.loc[:,sector_row==i].mean(axis=1).loc[signal_day_cum.loc[:,sector_row==i]\\\n",
    "                                                                   .mean(axis=1)==signal_day_cum.\\\n",
    "                                                                   loc[:,sector_row==i].mean(axis=1).max()].index.values)        \n",
    "\n",
    "            ax[int(counter/2),counter%2].set_title(str(i)+'; '+str(signal_day_cum.loc[:,sector_row==i].shape[1])+' signals; '+\\\n",
    "                                                  'day'+str(max_point))\n",
    "            counter+=1\n",
    "            record_dict[i]=max_point\n",
    "        else:\n",
    "            pass\n",
    "\n",
    "    plt.suptitle('All',y=0.9,fontsize=20)\n",
    "    plt.show()    \n",
    "    return record_dict\n",
    "    \n",
    "    "
   ]
  },
  {
   "cell_type": "markdown",
   "metadata": {},
   "source": [
    "# 10 - single stock drawdown analysis"
   ]
  },
  {
   "cell_type": "code",
   "execution_count": 362,
   "metadata": {},
   "outputs": [],
   "source": [
    "def max_dd_stock(return_series,long):\n",
    "    if long==True:\n",
    "        account_curve=(1+return_series).cumprod()-1\n",
    "    else:\n",
    "        account_curve=(1-return_series).cumprod()-1\n",
    "    max_dd=-((1+account_curve)-(1+account_curve).cummax(axis=0)).expanding().min().min()\n",
    "    return max_dd"
   ]
  },
  {
   "cell_type": "code",
   "execution_count": 384,
   "metadata": {},
   "outputs": [],
   "source": [
    "def stock_dd_df(signal_return_df,long):\n",
    "    dd_series=signal_return_df.apply(lambda x:max_dd_stock(x,long),axis=0)\n",
    "    dd_df=dd_series.to_frame()\n",
    "    dd_df['Quarter']=dd_df.apply(lambda x:pd.offsets.BQuarterEnd().rollforward(datetime.strptime(x.name[1],\"%d/%b/%Y\")),axis=1)\n",
    "    return dd_df\n",
    "    "
   ]
  },
  {
   "cell_type": "code",
   "execution_count": 441,
   "metadata": {},
   "outputs": [],
   "source": []
  },
  {
   "cell_type": "code",
   "execution_count": 446,
   "metadata": {},
   "outputs": [],
   "source": [
    "Europe_long_copy=Europe_dd.long_df.copy()\n",
    "Europe_short_copy=Europe_dd.short_df.copy()\n",
    "\n",
    "US_long_copy=US_dd.long_df.copy()\n",
    "US_short_copy=US_dd.short_df.copy()"
   ]
  },
  {
   "cell_type": "code",
   "execution_count": 447,
   "metadata": {},
   "outputs": [],
   "source": [
    "\n",
    "Europe_dd_long_series=stock_dd_df(Europe_long_copy,True)\n",
    "Europe_dd_short_series=stock_dd_df(Europe_short_copy,False)\n",
    "\n",
    "US_dd_long_series=stock_dd_df(US_long_copy,True)\n",
    "US_dd_short_series=stock_dd_df(US_short_copy,False)"
   ]
  },
  {
   "cell_type": "code",
   "execution_count": null,
   "metadata": {},
   "outputs": [],
   "source": []
  },
  {
   "cell_type": "code",
   "execution_count": 448,
   "metadata": {},
   "outputs": [],
   "source": [
    "mean_dd=pd.concat([Europe_dd_long_series.groupby([\"Quarter\"]).apply(np.mean),\\\n",
    "                   Europe_dd_short_series.groupby([\"Quarter\"]).apply(np.mean),\\\n",
    "                  US_dd_long_series.groupby([\"Quarter\"]).apply(np.mean),\\\n",
    "                  US_dd_short_series.groupby([\"Quarter\"]).apply(np.mean)],axis=1)\n",
    "mean_dd.columns=[\"Europe_long\",\"Europe_short\",\"US_long\",\"US_short\"]"
   ]
  },
  {
   "cell_type": "code",
   "execution_count": 450,
   "metadata": {},
   "outputs": [],
   "source": [
    "median_dd=pd.concat([Europe_dd_long_series.groupby([\"Quarter\"]).apply(np.median),\\\n",
    "                   Europe_dd_short_series.groupby([\"Quarter\"]).apply(np.median),\\\n",
    "                  US_dd_long_series.groupby([\"Quarter\"]).apply(np.median),\\\n",
    "                  US_dd_short_series.groupby([\"Quarter\"]).apply(np.median)],axis=1)\n",
    "median_dd.columns=[\"Europe_long\",\"Europe_short\",\"US_long\",\"US_short\"]"
   ]
  },
  {
   "cell_type": "code",
   "execution_count": 453,
   "metadata": {},
   "outputs": [],
   "source": [
    "mean_dd.iloc[1:,:].to_csv(\"mean_dd.csv\")"
   ]
  },
  {
   "cell_type": "code",
   "execution_count": 454,
   "metadata": {},
   "outputs": [],
   "source": [
    "median_dd.iloc[1:,:].to_csv(\"median_dd.csv\")"
   ]
  },
  {
   "cell_type": "code",
   "execution_count": null,
   "metadata": {},
   "outputs": [],
   "source": []
  },
  {
   "cell_type": "code",
   "execution_count": 426,
   "metadata": {},
   "outputs": [],
   "source": [
    "ab=stock_dd_df(long_copy,True)"
   ]
  },
  {
   "cell_type": "code",
   "execution_count": 433,
   "metadata": {},
   "outputs": [],
   "source": [
    "bc=stock_dd_df(short_copy,False)"
   ]
  },
  {
   "cell_type": "code",
   "execution_count": 434,
   "metadata": {},
   "outputs": [
    {
     "data": {
      "text/html": [
       "<div>\n",
       "<style scoped>\n",
       "    .dataframe tbody tr th:only-of-type {\n",
       "        vertical-align: middle;\n",
       "    }\n",
       "\n",
       "    .dataframe tbody tr th {\n",
       "        vertical-align: top;\n",
       "    }\n",
       "\n",
       "    .dataframe thead th {\n",
       "        text-align: right;\n",
       "    }\n",
       "</style>\n",
       "<table border=\"1\" class=\"dataframe\">\n",
       "  <thead>\n",
       "    <tr style=\"text-align: right;\">\n",
       "      <th></th>\n",
       "      <th>0</th>\n",
       "    </tr>\n",
       "    <tr>\n",
       "      <th>Quarter</th>\n",
       "      <th></th>\n",
       "    </tr>\n",
       "  </thead>\n",
       "  <tbody>\n",
       "    <tr>\n",
       "      <th>2009-12-31</th>\n",
       "      <td>0.054115</td>\n",
       "    </tr>\n",
       "    <tr>\n",
       "      <th>2010-03-31</th>\n",
       "      <td>0.146732</td>\n",
       "    </tr>\n",
       "    <tr>\n",
       "      <th>2010-06-30</th>\n",
       "      <td>0.122474</td>\n",
       "    </tr>\n",
       "    <tr>\n",
       "      <th>2010-09-30</th>\n",
       "      <td>0.133589</td>\n",
       "    </tr>\n",
       "    <tr>\n",
       "      <th>2010-12-31</th>\n",
       "      <td>0.140965</td>\n",
       "    </tr>\n",
       "    <tr>\n",
       "      <th>2011-03-31</th>\n",
       "      <td>0.095687</td>\n",
       "    </tr>\n",
       "    <tr>\n",
       "      <th>2011-06-30</th>\n",
       "      <td>0.084302</td>\n",
       "    </tr>\n",
       "    <tr>\n",
       "      <th>2011-09-30</th>\n",
       "      <td>0.185083</td>\n",
       "    </tr>\n",
       "    <tr>\n",
       "      <th>2011-12-30</th>\n",
       "      <td>0.140409</td>\n",
       "    </tr>\n",
       "    <tr>\n",
       "      <th>2012-03-30</th>\n",
       "      <td>0.114800</td>\n",
       "    </tr>\n",
       "    <tr>\n",
       "      <th>2012-06-29</th>\n",
       "      <td>0.105744</td>\n",
       "    </tr>\n",
       "    <tr>\n",
       "      <th>2012-09-28</th>\n",
       "      <td>0.147959</td>\n",
       "    </tr>\n",
       "    <tr>\n",
       "      <th>2012-12-31</th>\n",
       "      <td>0.136686</td>\n",
       "    </tr>\n",
       "    <tr>\n",
       "      <th>2013-03-29</th>\n",
       "      <td>0.101295</td>\n",
       "    </tr>\n",
       "    <tr>\n",
       "      <th>2013-06-28</th>\n",
       "      <td>0.105322</td>\n",
       "    </tr>\n",
       "    <tr>\n",
       "      <th>2013-09-30</th>\n",
       "      <td>0.092308</td>\n",
       "    </tr>\n",
       "    <tr>\n",
       "      <th>2013-12-31</th>\n",
       "      <td>0.098561</td>\n",
       "    </tr>\n",
       "    <tr>\n",
       "      <th>2014-03-31</th>\n",
       "      <td>0.102103</td>\n",
       "    </tr>\n",
       "    <tr>\n",
       "      <th>2014-06-30</th>\n",
       "      <td>0.118591</td>\n",
       "    </tr>\n",
       "    <tr>\n",
       "      <th>2014-09-30</th>\n",
       "      <td>0.093307</td>\n",
       "    </tr>\n",
       "    <tr>\n",
       "      <th>2014-12-31</th>\n",
       "      <td>0.120239</td>\n",
       "    </tr>\n",
       "    <tr>\n",
       "      <th>2015-03-31</th>\n",
       "      <td>0.103335</td>\n",
       "    </tr>\n",
       "    <tr>\n",
       "      <th>2015-06-30</th>\n",
       "      <td>0.079981</td>\n",
       "    </tr>\n",
       "    <tr>\n",
       "      <th>2015-09-30</th>\n",
       "      <td>0.125972</td>\n",
       "    </tr>\n",
       "    <tr>\n",
       "      <th>2015-12-31</th>\n",
       "      <td>0.119126</td>\n",
       "    </tr>\n",
       "    <tr>\n",
       "      <th>2016-03-31</th>\n",
       "      <td>0.182882</td>\n",
       "    </tr>\n",
       "    <tr>\n",
       "      <th>2016-06-30</th>\n",
       "      <td>0.124701</td>\n",
       "    </tr>\n",
       "    <tr>\n",
       "      <th>2016-09-30</th>\n",
       "      <td>0.092916</td>\n",
       "    </tr>\n",
       "    <tr>\n",
       "      <th>2016-12-30</th>\n",
       "      <td>0.167423</td>\n",
       "    </tr>\n",
       "    <tr>\n",
       "      <th>2017-03-31</th>\n",
       "      <td>0.089112</td>\n",
       "    </tr>\n",
       "    <tr>\n",
       "      <th>2017-06-30</th>\n",
       "      <td>0.109314</td>\n",
       "    </tr>\n",
       "    <tr>\n",
       "      <th>2017-09-29</th>\n",
       "      <td>0.110572</td>\n",
       "    </tr>\n",
       "    <tr>\n",
       "      <th>2017-12-29</th>\n",
       "      <td>0.127936</td>\n",
       "    </tr>\n",
       "    <tr>\n",
       "      <th>2018-03-30</th>\n",
       "      <td>0.098167</td>\n",
       "    </tr>\n",
       "    <tr>\n",
       "      <th>2018-06-29</th>\n",
       "      <td>0.106916</td>\n",
       "    </tr>\n",
       "    <tr>\n",
       "      <th>2018-09-28</th>\n",
       "      <td>0.099080</td>\n",
       "    </tr>\n",
       "    <tr>\n",
       "      <th>2018-12-31</th>\n",
       "      <td>0.112481</td>\n",
       "    </tr>\n",
       "    <tr>\n",
       "      <th>2019-03-29</th>\n",
       "      <td>0.107125</td>\n",
       "    </tr>\n",
       "    <tr>\n",
       "      <th>2019-06-28</th>\n",
       "      <td>0.107534</td>\n",
       "    </tr>\n",
       "    <tr>\n",
       "      <th>2019-09-30</th>\n",
       "      <td>0.164485</td>\n",
       "    </tr>\n",
       "  </tbody>\n",
       "</table>\n",
       "</div>"
      ],
      "text/plain": [
       "                   0\n",
       "Quarter             \n",
       "2009-12-31  0.054115\n",
       "2010-03-31  0.146732\n",
       "2010-06-30  0.122474\n",
       "2010-09-30  0.133589\n",
       "2010-12-31  0.140965\n",
       "2011-03-31  0.095687\n",
       "2011-06-30  0.084302\n",
       "2011-09-30  0.185083\n",
       "2011-12-30  0.140409\n",
       "2012-03-30  0.114800\n",
       "2012-06-29  0.105744\n",
       "2012-09-28  0.147959\n",
       "2012-12-31  0.136686\n",
       "2013-03-29  0.101295\n",
       "2013-06-28  0.105322\n",
       "2013-09-30  0.092308\n",
       "2013-12-31  0.098561\n",
       "2014-03-31  0.102103\n",
       "2014-06-30  0.118591\n",
       "2014-09-30  0.093307\n",
       "2014-12-31  0.120239\n",
       "2015-03-31  0.103335\n",
       "2015-06-30  0.079981\n",
       "2015-09-30  0.125972\n",
       "2015-12-31  0.119126\n",
       "2016-03-31  0.182882\n",
       "2016-06-30  0.124701\n",
       "2016-09-30  0.092916\n",
       "2016-12-30  0.167423\n",
       "2017-03-31  0.089112\n",
       "2017-06-30  0.109314\n",
       "2017-09-29  0.110572\n",
       "2017-12-29  0.127936\n",
       "2018-03-30  0.098167\n",
       "2018-06-29  0.106916\n",
       "2018-09-28  0.099080\n",
       "2018-12-31  0.112481\n",
       "2019-03-29  0.107125\n",
       "2019-06-28  0.107534\n",
       "2019-09-30  0.164485"
      ]
     },
     "execution_count": 434,
     "metadata": {},
     "output_type": "execute_result"
    }
   ],
   "source": [
    "bc.groupby(bc[\"Quarter\"]).apply(np.mean)"
   ]
  },
  {
   "cell_type": "code",
   "execution_count": 436,
   "metadata": {},
   "outputs": [],
   "source": [
    "sample=bc.groupby(bc[\"Quarter\"]).apply(np.mean).sort_index()+ab.groupby(ab[\"Quarter\"]).apply(np.mean).sort_index()"
   ]
  },
  {
   "cell_type": "code",
   "execution_count": 437,
   "metadata": {},
   "outputs": [
    {
     "data": {
      "text/html": [
       "<div>\n",
       "<style scoped>\n",
       "    .dataframe tbody tr th:only-of-type {\n",
       "        vertical-align: middle;\n",
       "    }\n",
       "\n",
       "    .dataframe tbody tr th {\n",
       "        vertical-align: top;\n",
       "    }\n",
       "\n",
       "    .dataframe thead th {\n",
       "        text-align: right;\n",
       "    }\n",
       "</style>\n",
       "<table border=\"1\" class=\"dataframe\">\n",
       "  <thead>\n",
       "    <tr style=\"text-align: right;\">\n",
       "      <th></th>\n",
       "      <th>0</th>\n",
       "    </tr>\n",
       "  </thead>\n",
       "  <tbody>\n",
       "    <tr>\n",
       "      <th>count</th>\n",
       "      <td>40.000000</td>\n",
       "    </tr>\n",
       "    <tr>\n",
       "      <th>mean</th>\n",
       "      <td>0.212705</td>\n",
       "    </tr>\n",
       "    <tr>\n",
       "      <th>std</th>\n",
       "      <td>0.048657</td>\n",
       "    </tr>\n",
       "    <tr>\n",
       "      <th>min</th>\n",
       "      <td>0.112099</td>\n",
       "    </tr>\n",
       "    <tr>\n",
       "      <th>25%</th>\n",
       "      <td>0.176704</td>\n",
       "    </tr>\n",
       "    <tr>\n",
       "      <th>50%</th>\n",
       "      <td>0.201439</td>\n",
       "    </tr>\n",
       "    <tr>\n",
       "      <th>75%</th>\n",
       "      <td>0.231528</td>\n",
       "    </tr>\n",
       "    <tr>\n",
       "      <th>max</th>\n",
       "      <td>0.386484</td>\n",
       "    </tr>\n",
       "  </tbody>\n",
       "</table>\n",
       "</div>"
      ],
      "text/plain": [
       "               0\n",
       "count  40.000000\n",
       "mean    0.212705\n",
       "std     0.048657\n",
       "min     0.112099\n",
       "25%     0.176704\n",
       "50%     0.201439\n",
       "75%     0.231528\n",
       "max     0.386484"
      ]
     },
     "execution_count": 437,
     "metadata": {},
     "output_type": "execute_result"
    }
   ],
   "source": [
    "sample.describe()"
   ]
  },
  {
   "cell_type": "code",
   "execution_count": null,
   "metadata": {},
   "outputs": [],
   "source": []
  },
  {
   "cell_type": "code",
   "execution_count": null,
   "metadata": {},
   "outputs": [],
   "source": []
  },
  {
   "cell_type": "code",
   "execution_count": 418,
   "metadata": {},
   "outputs": [],
   "source": [
    "long_copy=US_dd.long_df.copy()\n",
    "short_copy=US_dd.short_df.copy()"
   ]
  },
  {
   "cell_type": "code",
   "execution_count": 371,
   "metadata": {},
   "outputs": [
    {
     "data": {
      "text/plain": [
       "1COV GR   24/Oct/2017  20/Feb/2018  29/Dec/2017    0.060729\n",
       "A3M SM    28/Oct/2010  24/Feb/2011  31/Dec/2010    0.212446\n",
       "          25/Jul/2013  31/Oct/2013  30/Sep/2013    0.110544\n",
       "          31/Oct/2013  27/Feb/2014  31/Dec/2013    0.116558\n",
       "          23/Oct/2014  26/Feb/2015  31/Dec/2014    0.119530\n",
       "AAK SS    23/Apr/2019  16/Jul/2019  28/Jun/2019    0.044517\n",
       "AAL LN    25/Jul/2014  13/Feb/2015  30/Sep/2014    0.068991\n",
       "ABBN SW   18/Feb/2010  22/Apr/2010  31/Mar/2010    0.020729\n",
       "          22/Jul/2010  28/Oct/2010  30/Sep/2010    0.115265\n",
       "          17/Apr/2019  25/Jul/2019  28/Jun/2019    0.096362\n",
       "ABF LN    20/Apr/2010  09/Nov/2010  30/Jun/2010    0.110716\n",
       "ABIT BB   12/Aug/2010  03/Nov/2010  30/Sep/2010    0.040469\n",
       "          08/Mar/2012  30/Apr/2012  30/Mar/2012    0.029161\n",
       "AC FP     26/Aug/2010  23/Feb/2011  30/Sep/2010    0.033976\n",
       "ACA FP    08/Nov/2016  15/Feb/2017  30/Dec/2016    0.035569\n",
       "          03/Aug/2018  07/Nov/2018  28/Sep/2018    0.060751\n",
       "ACX SM    01/Mar/2017  27/Apr/2017  31/Mar/2017    0.078538\n",
       "AD NA     04/Mar/2010  03/Jun/2010  31/Mar/2010    0.017021\n",
       "          08/Nov/2017  28/Feb/2018  29/Dec/2017    0.033146\n",
       "          28/Feb/2018  09/May/2018  30/Mar/2018    0.021462\n",
       "ADEN SW   09/Nov/2010  03/Mar/2011  31/Dec/2010    0.050369\n",
       "ADM LN    19/Aug/2015  03/Mar/2016  30/Sep/2015    0.101858\n",
       "ADN LN    04/May/2010  03/May/2011  30/Jun/2010    0.069935\n",
       "          29/Apr/2013  18/Nov/2013  28/Jun/2013    0.222424\n",
       "          18/Nov/2013  06/May/2014  31/Dec/2013    0.067850\n",
       "ADS GR    03/May/2013  08/Aug/2013  28/Jun/2013    0.084300\n",
       "          05/Nov/2015  12/Feb/2016  31/Dec/2015    0.078583\n",
       "          08/Mar/2017  04/May/2017  31/Mar/2017    0.040854\n",
       "AENA SM   26/Apr/2017  27/Jul/2017  30/Jun/2017    0.008436\n",
       "AF FP     18/Feb/2016  04/May/2016  31/Mar/2016    0.074847\n",
       "                                                     ...   \n",
       "VWS DC    05/Nov/2015  09/Feb/2016  31/Dec/2015    0.050036\n",
       "          09/Feb/2016  29/Apr/2016  31/Mar/2016    0.056306\n",
       "          18/Aug/2016  08/Nov/2016  30/Sep/2016    0.039185\n",
       "WCH GR    30/Oct/2014  29/Jan/2015  31/Dec/2014    0.072804\n",
       "          28/Apr/2016  28/Jul/2016  30/Jun/2016    0.043596\n",
       "WEIR LN   09/Mar/2010  03/Aug/2010  31/Mar/2010    0.045852\n",
       "WIE AV    08/Nov/2018  27/Feb/2019  31/Dec/2018    0.132965\n",
       "WIHL SS   08/Jul/2019  NaN          30/Sep/2019    0.041752\n",
       "WIZZ LN   25/May/2017  19/Jul/2017  30/Jun/2017    0.056125\n",
       "          19/Jul/2017  08/Nov/2017  29/Sep/2017    0.033431\n",
       "WKL NA    18/Feb/2015  29/Jul/2015  31/Mar/2015    0.044665\n",
       "WMH LN    02/Aug/2017  23/Feb/2018  29/Sep/2017    0.095379\n",
       "WPP LN    05/Mar/2010  24/Aug/2010  31/Mar/2010    0.022327\n",
       "          01/Mar/2012  30/Aug/2012  30/Mar/2012    0.060164\n",
       "          24/Aug/2016  03/Mar/2017  30/Sep/2016    0.034586\n",
       "WRT1V FH  20/Oct/2010  28/Jan/2011  31/Dec/2010    0.036923\n",
       "          28/Jan/2011  20/Apr/2011  31/Mar/2011    0.116848\n",
       "          17/Oct/2012  25/Jan/2013  31/Dec/2012    0.065031\n",
       "          27/Jan/2017  26/Apr/2017  31/Mar/2017    0.037164\n",
       "          20/Jul/2017  25/Oct/2017  29/Sep/2017    0.036091\n",
       "WTB LN    26/Apr/2012  23/Oct/2012  29/Jun/2012    0.091187\n",
       "YAR NO    29/Apr/2011  19/Jul/2011  30/Jun/2011    0.044748\n",
       "          30/Apr/2014  18/Jul/2014  30/Jun/2014    0.028681\n",
       "          11/Feb/2015  24/Apr/2015  31/Mar/2015    0.068247\n",
       "YIT FH    04/Feb/2010  29/Apr/2010  31/Mar/2010    0.053129\n",
       "          23/Jul/2010  27/Oct/2010  30/Sep/2010    0.100649\n",
       "          02/Feb/2012  27/Apr/2012  30/Mar/2012    0.056000\n",
       "ZAL GR    01/Aug/2019  NaN          30/Sep/2019    0.137638\n",
       "ZC FP     22/Nov/2011  24/Apr/2012  30/Dec/2011    0.051707\n",
       "          24/Apr/2012  21/Nov/2012  29/Jun/2012    0.128076\n",
       "Length: 1069, dtype: float64"
      ]
     },
     "execution_count": 371,
     "metadata": {},
     "output_type": "execute_result"
    }
   ],
   "source": [
    "long_copy.apply(lambda x:max_dd_stock(x,True),axis=0)"
   ]
  },
  {
   "cell_type": "code",
   "execution_count": null,
   "metadata": {},
   "outputs": [],
   "source": []
  },
  {
   "cell_type": "code",
   "execution_count": null,
   "metadata": {},
   "outputs": [],
   "source": []
  },
  {
   "cell_type": "code",
   "execution_count": 443,
   "metadata": {},
   "outputs": [],
   "source": [
    "Europe_dd=signal(fundamental_df=Europe2,\n",
    "                   price_df=Europe_VWAP,\n",
    "                   close_return_df=abs_return_Europe,\n",
    "                   EAR_period=1,\n",
    "                   entry=3,\n",
    "                   long_criteria=((2,1000),(0.02,1000),None),\n",
    "                   short_criteria=((-1000,-2),(-1000,-0.02),None),\n",
    "                   holding=30,\n",
    "                   start=pd.Timestamp(2010,1,1),\n",
    "                   end=pd.Timestamp(2019,9,17),\n",
    "                   old_position=False,\n",
    "                   new_signal=True,\n",
    "                   revision_adjust=(False,(0.02,0.05),(-0.05,-0.02),2),\n",
    "                  early_exit=False)"
   ]
  },
  {
   "cell_type": "code",
   "execution_count": 444,
   "metadata": {},
   "outputs": [],
   "source": [
    "_long_Europe,_short_Europe,_alpha_Europe,_portfolio_Europe=Europe_dd.signal_account(stop=None,\n",
    "                                                           gross=(30,15),\n",
    "                                                           index_df=abs_return_index_Europe.loc[\"SX5E Index\"].to_frame('Europe'),\n",
    "                                                           net_level=0,\n",
    "                                                           risk_parity=False,\n",
    "                                                           liquidity=0.2,\n",
    "                                                           capital=60)"
   ]
  },
  {
   "cell_type": "code",
   "execution_count": 456,
   "metadata": {},
   "outputs": [
    {
     "data": {
      "image/png": "[encoded data removed]",
      "text/plain": [
       "<Figure size 720x288 with 2 Axes>"
      ]
     },
     "metadata": {
      "needs_background": "light"
     },
     "output_type": "display_data"
    }
   ],
   "source": [
    "plot_signal(\"Europe new \", [10,4],Europe_dd.portfolio_account)"
   ]
  },
  {
   "cell_type": "code",
   "execution_count": null,
   "metadata": {},
   "outputs": [],
   "source": []
  },
  {
   "cell_type": "code",
   "execution_count": 415,
   "metadata": {},
   "outputs": [],
   "source": [
    "US_dd=signal(fundamental_df=US1,\n",
    "              price_df=US_VWAP,\n",
    "              close_return_df=abs_return_US,\n",
    "              EAR_period=2,\n",
    "              entry=3,\n",
    "              long_criteria=((2,1000),(0.02,1000),None),\n",
    "              short_criteria=((-1000,-2),(-1000,-0.02),None),\n",
    "              holding=30,\n",
    "              start=pd.Timestamp(2010,1,1),\n",
    "              end=pd.Timestamp(2019,9,17),\n",
    "              old_position=True,\n",
    "              new_signal=True,\n",
    "              revision_adjust=(None,(0.05,0.2),(-0.03,-0.1),2),\n",
    "              early_exit=False)"
   ]
  },
  {
   "cell_type": "code",
   "execution_count": 416,
   "metadata": {},
   "outputs": [],
   "source": [
    "_long_US,_short_US,_alpha_US,_portfolio_US=US_dd.signal_account(stop=None,\n",
    "                                                           gross=(30,15),\n",
    "                                                           index_df=(0.5*abs_return_index_US.loc[\"SPX Index\"]+\\\n",
    "                                                          0.5*abs_return_index_US.loc[\"RTY Index\"]).to_frame(\"US_index\"),\n",
    "                                                           net_level=0,\n",
    "                                                           risk_parity=False,\n",
    "                                                           liquidity=0.2,\n",
    "                                                           capital=60)"
   ]
  },
  {
   "cell_type": "code",
   "execution_count": 417,
   "metadata": {},
   "outputs": [
    {
     "data": {
      "image/png": "[encoded data removed]",
      "text/plain": [
       "<Figure size 720x288 with 2 Axes>"
      ]
     },
     "metadata": {
      "needs_background": "light"
     },
     "output_type": "display_data"
    }
   ],
   "source": [
    "plot_signal(\"US new\", [10,4],US_dd.portfolio_account)"
   ]
  },
  {
   "cell_type": "code",
   "execution_count": null,
   "metadata": {},
   "outputs": [],
   "source": []
  }
 ],
 "metadata": {
  "kernelspec": {
   "display_name": "Python 3",
   "language": "python",
   "name": "python3"
  },
  "language_info": {
   "codemirror_mode": {
    "name": "ipython",
    "version": 3
   },
   "file_extension": ".py",
   "mimetype": "text/x-python",
   "name": "python",
   "nbconvert_exporter": "python",
   "pygments_lexer": "ipython3",
   "version": "3.7.3"
  }
 },
 "nbformat": 4,
 "nbformat_minor": 2
}
