{
 "cells": [
  {
   "cell_type": "code",
   "execution_count": 619,
   "metadata": {},
   "outputs": [],
   "source": [
    "import pyodbc \n",
    "import pandas as pd\n",
    "import datetime\n",
    "import numpy as np\n",
    "import seaborn as sns\n",
    "import matplotlib.pyplot as plt\n",
    "from sklearn.model_selection import train_test_split\n",
    "from sklearn.linear_model import LinearRegression\n",
    "\n",
    "from pandas.tseries.offsets import BDay"
   ]
  },
  {
   "cell_type": "code",
   "execution_count": 2,
   "metadata": {},
   "outputs": [],
   "source": [
    "'''Connect to post result SQL server'''\n",
    "cnxn = pyodbc.connect('DRIVER={SQL Server};SERVER=dsa-ln-TQA1V;DATABASE=qai;Trusted_Connection=yes')   \n",
    "cursor = cnxn.cursor() "
   ]
  },
  {
   "cell_type": "code",
   "execution_count": 1479,
   "metadata": {},
   "outputs": [],
   "source": [
    "country_mapping={\"EX\":\"UK\",\n",
    "                \"FJ\":\"Japan\",\n",
    "                \"FC\":\"China\",\n",
    "                \"AA\":\"Australia\",\n",
    "                \"FK\":\"Korea\",\n",
    "                \"ED\":\"Germany\",\n",
    "                \"FA\":\"Taiwan\",\n",
    "                \"FH\":\"Hong Kong\",\n",
    "                \"EF\":\"France\",\n",
    "                \"SS\":\"Sweden\",\n",
    "                \"FS\":\"Singapore\",\n",
    "                \"EI\":\"Italy\",\n",
    "                \"SN\":\"Norway\",\n",
    "                \"ES\":\"Switzerland\",\n",
    "                \"SD\":\"Denmark\",\n",
    "                \"EN\":\"Netherlands\",\n",
    "                \"EE\":\"Spain\",\n",
    "                \"AN\":\"New Zealand\",\n",
    "                \"SF\":\"Finland\",\n",
    "                \"EB\":\"Belgium\",\n",
    "                \"EA\":\"Austria\",\n",
    "                \"EZ\":\"Ireland\",\n",
    "                \"EP\":\"Portugal\"}"
   ]
  },
  {
   "cell_type": "code",
   "execution_count": 3,
   "metadata": {},
   "outputs": [
    {
     "data": {
      "text/plain": [
       "datetime.datetime(2019, 1, 8, 7, 46, 43, 461237)"
      ]
     },
     "execution_count": 3,
     "metadata": {},
     "output_type": "execute_result"
    }
   ],
   "source": [
    "datetime.datetime.now()"
   ]
  },
  {
   "cell_type": "markdown",
   "metadata": {},
   "source": [
    "## Data acquisition"
   ]
  },
  {
   "cell_type": "code",
   "execution_count": 1228,
   "metadata": {},
   "outputs": [],
   "source": [
    "'''\n",
    "Stock information\n",
    "'''\n",
    "US_info_sql=\"select * from IBESInfo3\"\n",
    "US_info=pd.read_sql(US_info_sql,cnxn)\n",
    "Intl_info_sql=\"select * from IBGSInfo3\"\n",
    "Intl_info=pd.read_sql(Intl_info_sql,cnxn)"
   ]
  },
  {
   "cell_type": "code",
   "execution_count": 1474,
   "metadata": {},
   "outputs": [],
   "source": [
    "Europe_info=Intl_info[Intl_info[\"ExchCtry\"].isin([i for i in country_mapping.keys() if i[0]=='E' or i[0]=='S'])]"
   ]
  },
  {
   "cell_type": "code",
   "execution_count": 1476,
   "metadata": {},
   "outputs": [],
   "source": [
    "Asia_info=Intl_info[Intl_info[\"ExchCtry\"].isin([i for i in country_mapping.keys() if i[0]!='E' and i!=\"FC\" and i[0]!=\"S\"])]"
   ]
  },
  {
   "cell_type": "code",
   "execution_count": 1340,
   "metadata": {},
   "outputs": [],
   "source": [
    "'''\n",
    "Broker level estimates\n",
    "'''\n",
    "\n",
    "US_broker_sql=\"select * from IBDEstL1 where PerType=1 and Period<4 and year(EstDate)>2014 and year(EstDate)<2018\"\n",
    "US_broker_df=pd.read_sql(US_broker_sql,cnxn)\n",
    "\n",
    "Intl_broker_sql=\"select * from IBGDEstL1 where PerType=1 and Period<4 and year(EstDate)>2014 and year(EstDate)<2018\"\n",
    "Intl_broker_df=pd.read_sql(Intl_broker_sql,cnxn)"
   ]
  },
  {
   "cell_type": "code",
   "execution_count": 1481,
   "metadata": {},
   "outputs": [],
   "source": [
    "Europe_broker_df=Intl_broker_df[Intl_broker_df[\"Code\"].isin(Europe_info[\"Code\"])]"
   ]
  },
  {
   "cell_type": "code",
   "execution_count": 1483,
   "metadata": {},
   "outputs": [],
   "source": [
    "Asia_broker_df=Intl_broker_df[Intl_broker_df[\"Code\"].isin(Asia_info[\"Code\"])]"
   ]
  },
  {
   "cell_type": "code",
   "execution_count": 724,
   "metadata": {},
   "outputs": [],
   "source": [
    "'''\n",
    "Sort the data and compute the percentage change vs previous estimate\n",
    "Take a while to run\n",
    "'''\n",
    "def broker_df_sort(broker_df):\n",
    "    sorted_broker_df=broker_df.sort_values(by=[\"Code\",\"Broker\",\"PerDate\",\"EstDate\"])\n",
    "    sorted_broker_df[\"last\"]=list(zip(sorted_broker_df[\"Code\"].shift(1),sorted_broker_df[\"Broker\"].shift(1),\\\n",
    "                                    sorted_broker_df[\"PerDate\"].shift(1)))\n",
    "    sorted_broker_df[\"last_value\"]=sorted_broker_df[\"Value_\"].shift(1)\n",
    "    sorted_broker_df[\"pct_chg\"]=sorted_broker_df.apply(lambda x:(x[\"Value_\"]-x[\"last_value\"])/abs(x[\"last_value\"]) if \\\n",
    "                         x[\"Code\"]==x[\"last\"][0] and type(x[\"last_value\"])==float and x[\"Broker\"]==x[\"last\"][1] and\\\n",
    "                        x[\"PerDate\"]==x[\"last\"][2] and x[\"last_value\"]!=0 else np.nan,axis=1)\n",
    "    return sorted_broker_df"
   ]
  },
  {
   "cell_type": "code",
   "execution_count": 725,
   "metadata": {},
   "outputs": [],
   "source": [
    "sorted_US_broker_df=broker_df_sort(US_broker_df)"
   ]
  },
  {
   "cell_type": "code",
   "execution_count": 1484,
   "metadata": {},
   "outputs": [],
   "source": [
    "sorted_Europe_broker_df=broker_df_sort(Europe_broker_df)"
   ]
  },
  {
   "cell_type": "code",
   "execution_count": 1485,
   "metadata": {},
   "outputs": [],
   "source": [
    "sorted_Asia_broker_df=broker_df_sort(Asia_broker_df)"
   ]
  },
  {
   "cell_type": "code",
   "execution_count": 726,
   "metadata": {},
   "outputs": [],
   "source": [
    "'''\n",
    "Daily consensus data\n",
    "'''\n",
    "\n",
    "US_consensus_sql=\\\n",
    "\"select * from IBESUSDLYEST where PerType=1 and Period<4 and Measure=8 and year(EstDate)>2014 and year(EstDate)<2018\"\n",
    "US_consensus_df=pd.read_sql(US_consensus_sql,cnxn)"
   ]
  },
  {
   "cell_type": "code",
   "execution_count": 1487,
   "metadata": {},
   "outputs": [],
   "source": [
    "\n",
    "Intl_consensus_sql=\\\n",
    "\"select * from IBESIntDlyEst where PerType=1 and Period<4 and Measure=8 and year(EstDate)>2014 and year(EstDate)<2018\"\n",
    "Intl_consensus_df=pd.read_sql(Intl_consensus_sql,cnxn)"
   ]
  },
  {
   "cell_type": "code",
   "execution_count": 1500,
   "metadata": {},
   "outputs": [],
   "source": [
    "Europe_consensus_df=Intl_consensus_df[Intl_consensus_df[\"Code\"].isin(Europe_info[\"Code\"])]"
   ]
  },
  {
   "cell_type": "code",
   "execution_count": 1499,
   "metadata": {},
   "outputs": [],
   "source": [
    "Asia_consensus_df=Intl_consensus_df[Intl_consensus_df[\"Code\"].isin(Asia_info[\"Code\"])]"
   ]
  },
  {
   "cell_type": "code",
   "execution_count": 840,
   "metadata": {},
   "outputs": [],
   "source": [
    "'''\n",
    "Actual reporting data\n",
    "'''\n",
    "\n",
    "US_actual_sql=\"select * from IBDActL1 where PerType='Q'and year(RptDate)>2015 and year(RptDate)<2018\"\n",
    "US_actual_df=pd.read_sql(US_actual_sql,cnxn)"
   ]
  },
  {
   "cell_type": "code",
   "execution_count": 1490,
   "metadata": {},
   "outputs": [],
   "source": [
    "Intl_actual_sql=\"select * from IBGDActL1 where PerType='Q'and year(RptDate)>2015 and year(RptDate)<2018\"\n",
    "Intl_actual_df=pd.read_sql(Intl_actual_sql,cnxn)"
   ]
  },
  {
   "cell_type": "code",
   "execution_count": 1496,
   "metadata": {},
   "outputs": [],
   "source": [
    "Europe_actual_df=Intl_actual_df[Intl_actual_df[\"Code\"].isin(Europe_info[\"Code\"])]"
   ]
  },
  {
   "cell_type": "code",
   "execution_count": 1497,
   "metadata": {},
   "outputs": [],
   "source": [
    "Asia_actual_df=Intl_actual_df[Intl_actual_df[\"Code\"].isin(Asia_info[\"Code\"])]"
   ]
  },
  {
   "cell_type": "code",
   "execution_count": 841,
   "metadata": {},
   "outputs": [],
   "source": [
    "'''\n",
    "Only focus on the US universe\n",
    "'''\n",
    "adj_US_actual_df=US_actual_df[US_actual_df.apply(lambda x:US_info[US_info.Code==x.Code][\"Country\"].iloc[0],axis=1)=='NA']"
   ]
  },
  {
   "cell_type": "markdown",
   "metadata": {},
   "source": [
    "## Key utility functions"
   ]
  },
  {
   "cell_type": "code",
   "execution_count": 876,
   "metadata": {},
   "outputs": [],
   "source": [
    "def key_IBES_metrics(code,date,est_period,revision_period,broker_df,consensus_df):\n",
    "    '''\n",
    "    utility function to generate key metrics from broker level data and consensus data\n",
    "    broker_df needs to calculate all the broker level changes already\n",
    "    '''\n",
    "    broker=broker_df[(broker_df.Code==code)]\n",
    "    broker2=broker_df[(broker_df.Code==code)&(broker_df.Period==2)]\n",
    "    \n",
    "    consensus=consensus_df[consensus_df.Code==code]\n",
    "    estimate_consensus=consensus[(consensus.EstDate>date)&(consensus.EstDate<=date+BDay(est_period))]\n",
    "    post_consensus=consensus[(consensus.EstDate>date)&(consensus.EstDate<=date+BDay(revision_period))]\n",
    "              \n",
    "    \n",
    "    try:\n",
    "        \n",
    "        estimate_consensus1=estimate_consensus[estimate_consensus.Period==1].sort_values(\"EstDate\").iloc[-1]\n",
    "        post_consensus1=post_consensus[post_consensus.Period==1].sort_values(\"EstDate\").iloc[-1]\n",
    "        pre_consensus1=consensus[(consensus.PerDate==post_consensus1[\"PerDate\"])&(consensus.EstDate<date)].\\\n",
    "                        sort_values(\"EstDate\").iloc[-1]        \n",
    "        \n",
    "        consensus1_base=pre_consensus1[\"Mean\"]\n",
    "        \n",
    "        broker1_est=broker[(broker.PerDate==post_consensus1[\"PerDate\"])&(broker[\"EstDate\"]>=date)&\\\n",
    "                            (broker[\"EstDate\"]<=date+BDay(est_period))]\n",
    "        \n",
    "        broker1_mean_from_consensus=(broker1_est[\"Value_\"].mean()-pre_consensus1[\"Mean\"])/abs(pre_consensus1[\"Mean\"])\n",
    "        broker1_median_from_consensus=(broker1_est[\"Value_\"].median()-pre_consensus1[\"Mean\"])/abs(pre_consensus1[\"Mean\"])\n",
    "        broker1_mean_change=broker1_est[\"pct_chg\"].mean()\n",
    "        broker1_median_change=broker1_est[\"pct_chg\"].median()\n",
    "        broker1_num_upgrade=(broker1_est[\"pct_chg\"]>0).sum()\n",
    "        broker1_num_downgrade=(broker1_est[\"pct_chg\"]<0).sum()\n",
    "        broker1_revision_ratio=(broker1_num_upgrade-broker1_num_downgrade)/(broker1_num_upgrade+broker1_num_downgrade)\n",
    "        FY1_consensus_predict=(estimate_consensus1[\"Mean\"]-pre_consensus1[\"Mean\"])/abs(pre_consensus1[\"Mean\"])\n",
    "        actual_revision1=(post_consensus1[\"Mean\"]-pre_consensus1[\"Mean\"])/abs(pre_consensus1[\"Mean\"])\n",
    "        broker_count1=broker1_num_upgrade+broker1_num_downgrade\n",
    "        consensus_count1=pre_consensus1[\"NumEst\"]\n",
    "        consensus_std1=pre_consensus1[\"StdDev\"]\n",
    "        \n",
    "        \n",
    "    except IndexError:\n",
    "        consensus1_base=None\n",
    "        broker1_mean_from_consensus=None\n",
    "        broker1_median_from_consensus=None\n",
    "        broker1_mean_change=None\n",
    "        broker1_median_change=None\n",
    "        broker1_num_upgrade=None\n",
    "        broker1_num_downgrade=None\n",
    "        broker1_revision_ratio=None\n",
    "        FY1_consensus_predict=None\n",
    "        actual_revision1=None\n",
    "        broker_count1=None\n",
    "        consensus_count1=None\n",
    "        consensus_std1=None\n",
    "\n",
    "    try:\n",
    "        estimate_consensus2=estimate_consensus[estimate_consensus.Period==2].sort_values(\"EstDate\").iloc[-1]\n",
    "        post_consensus2=post_consensus[post_consensus.Period==2].sort_values(\"EstDate\").iloc[-1]\n",
    "        pre_consensus2=consensus[(consensus.PerDate==post_consensus2[\"PerDate\"])&(consensus.EstDate<date)].\\\n",
    "                        sort_values(\"EstDate\").iloc[-1]        \n",
    "        \n",
    "        consensus2_base=pre_consensus2[\"Mean\"]\n",
    "        \n",
    "        broker2_est=broker[(broker.PerDate==post_consensus2[\"PerDate\"])&(broker[\"EstDate\"]>=date)\\\n",
    "                            &(broker[\"EstDate\"]<=date+BDay(est_period))]\n",
    "        \n",
    "        broker2_mean_from_consensus=broker2_est[\"Value_\"].mean()/pre_consensus2[\"Mean\"]-1\n",
    "        broker2_median_from_consensus=broker2_est[\"Value_\"].median()/pre_consensus2[\"Mean\"]-1\n",
    "        broker2_mean_change=broker2_est[\"pct_chg\"].mean()\n",
    "        broker2_median_change=broker2_est[\"pct_chg\"].median()\n",
    "        broker2_num_upgrade=(broker2_est[\"pct_chg\"]>0).sum()\n",
    "        broker2_num_downgrade=(broker2_est[\"pct_chg\"]<0).sum()\n",
    "        broker2_revision_ratio=(broker2_num_upgrade-broker2_num_downgrade)/(broker2_num_upgrade+broker2_num_downgrade)\n",
    "        FY2_consensus_predict=(estimate_consensus2[\"Mean\"]-pre_consensus2[\"Mean\"])/abs(pre_consensus2[\"Mean\"])\n",
    "        actual_revision2=post_consensus2[\"Mean\"]/pre_consensus2[\"Mean\"]-1\n",
    "        broker_count2=broker2_num_upgrade+broker2_num_downgrade\n",
    "        consensus_count2=pre_consensus2[\"NumEst\"]\n",
    "        consensus_std2=pre_consensus2[\"StdDev\"]        \n",
    "        \n",
    "    except IndexError:\n",
    "        consensus2_base=None\n",
    "        broker2_mean_from_consensus=None\n",
    "        broker2_median_from_consensus=None\n",
    "        broker2_mean_change=None\n",
    "        broker2_median_change=None\n",
    "        broker2_num_upgrade=None\n",
    "        broker2_num_downgrade=None\n",
    "        broker2_revision_ratio=None\n",
    "        FY2_consensus_predict=None\n",
    "        actual_revision2=None\n",
    "        broker_count2=None\n",
    "        consensus_count2=None\n",
    "        consensus_std2=None       \n",
    "\n",
    "    \n",
    "    return (consensus1_base,broker1_mean_from_consensus,broker1_median_from_consensus,broker1_mean_change,broker1_median_change,\\\n",
    "            broker1_num_upgrade,broker1_num_downgrade,broker1_revision_ratio,FY1_consensus_predict,actual_revision1,\\\n",
    "            broker_count1,consensus_count1,consensus_std1,consensus2_base,broker2_mean_from_consensus,\\\n",
    "            broker2_median_from_consensus,broker2_mean_change,broker2_median_change,broker2_num_upgrade,\\\n",
    "            broker2_num_downgrade,broker2_revision_ratio,FY2_consensus_predict,actual_revision2,\\\n",
    "            broker_count2,consensus_count2,consensus_std2)\n",
    "\n",
    "\n",
    "    "
   ]
  },
  {
   "cell_type": "code",
   "execution_count": 734,
   "metadata": {},
   "outputs": [],
   "source": [
    "def broker_count(code,date,consensus_df):\n",
    "    '''\n",
    "    Count how many brokers are there before an earning\n",
    "    '''\n",
    "    consensus1=consensus_df[(consensus_df.Code==code)&(consensus_df.Period==1)]\n",
    "    try:\n",
    "        pre_consensus1=consensus1[(consensus1.Code==code)&(consensus1.EstDate<=date)].sort_values(\"EstDate\").iloc[-1]\n",
    "        return pre_consensus1[\"NumEst\"]\n",
    "    except IndexError:\n",
    "        return None"
   ]
  },
  {
   "cell_type": "code",
   "execution_count": 1090,
   "metadata": {},
   "outputs": [],
   "source": [
    "def IBES_predict_df(actual_df,sorted_broker_df,consensus_df,consensus_count_boundary):\n",
    "    adj_actual_df=actual_df[actual_df.apply(lambda x:broker_count(x[\"Code\"],x[\"RptDate\"],consensus_df),axis=1)\\\n",
    "                            >consensus_count_boundary]\n",
    "    adj_actual_df=adj_actual_df[np.isfinite(adj_actual_df[\"Value_\"])]  \n",
    "\n",
    "    signal_list=list(zip(adj_actual_df[\"Code\"],adj_actual_df[\"RptDate\"],adj_actual_df[\"PerDate\"],adj_actual_df[\"Value_\"]))\n",
    "    \n",
    "    my_dict={}\n",
    "    for i in signal_list:\n",
    "        my_dict[i]=key_IBES_metrics(i[0],i[1],1,20,sorted_broker_df,consensus_df)\n",
    "    \n",
    "    target_df=pd.DataFrame(my_dict).T\n",
    "    target_df.columns=[\"FY1_consensus\",\"FY1_mean_from_consensus\",\"FY1_median_from_consensus\",\"FY1_mean_change\",\\\n",
    "                       \"FY1_median_change\",\"broker1_num_upgrade\",\"broker1_num_downgrade\",\"broker1_revision_ratio\",\\\n",
    "                       \"FY1_consensus_predict\",\"FY1_actual\",\"FY1_broker_count\",\"FY1_consensus_count\",\"FY1_consensus_std\",\\\n",
    "                       \"FY2_consensus\",\"FY2_mean_from_consensus\",\"FY2_median_from_consensus\",\"FY2_mean_change\",\\\n",
    "                       \"FY2_median_change\",\"broker2_num_upgrade\",\"broker2_num_downgrade\",\"broker2_revision_ratio\",\\\n",
    "                       \"FY2_consensus_predict\",\"FY2_actual\",\"FY2_broker_count\",\"FY2_consensus_count\",\"FY2_consensus_std\"]\n",
    "    \n",
    "    target_df=target_df.astype(float)\n",
    "    \n",
    "    target_df=target_df.dropna(how=\"any\",axis=0)\n",
    "    target_df=target_df[(target_df[\"FY1_actual\"]!=0)&(target_df[\"FY2_actual\"]!=0)&(target_df[\"FY2_actual\"]!=np.inf)\\\n",
    "                       &(target_df[\"FY2_actual\"]!=-np.inf)]\n",
    "    \n",
    "    return target_df\n",
    "    \n",
    "    \n",
    "    \n",
    "    \n",
    "    "
   ]
  },
  {
   "cell_type": "code",
   "execution_count": 736,
   "metadata": {},
   "outputs": [
    {
     "data": {
      "text/plain": [
       "datetime.datetime(2019, 1, 9, 14, 25, 45, 582832)"
      ]
     },
     "execution_count": 736,
     "metadata": {},
     "output_type": "execute_result"
    }
   ],
   "source": [
    "datetime.datetime.now()"
   ]
  },
  {
   "cell_type": "code",
   "execution_count": null,
   "metadata": {},
   "outputs": [],
   "source": []
  },
  {
   "cell_type": "code",
   "execution_count": 890,
   "metadata": {},
   "outputs": [
    {
     "name": "stderr",
     "output_type": "stream",
     "text": [
      "C:\\Users\\Eric.Li\\AppData\\Local\\Continuum\\anaconda3\\lib\\site-packages\\ipykernel_launcher.py:71: RuntimeWarning: invalid value encountered in longlong_scalars\n",
      "C:\\Users\\Eric.Li\\AppData\\Local\\Continuum\\anaconda3\\lib\\site-packages\\ipykernel_launcher.py:33: RuntimeWarning: invalid value encountered in longlong_scalars\n",
      "C:\\Users\\Eric.Li\\AppData\\Local\\Continuum\\anaconda3\\lib\\site-packages\\ipykernel_launcher.py:65: RuntimeWarning: divide by zero encountered in double_scalars\n",
      "C:\\Users\\Eric.Li\\AppData\\Local\\Continuum\\anaconda3\\lib\\site-packages\\ipykernel_launcher.py:66: RuntimeWarning: divide by zero encountered in double_scalars\n",
      "C:\\Users\\Eric.Li\\AppData\\Local\\Continuum\\anaconda3\\lib\\site-packages\\ipykernel_launcher.py:72: RuntimeWarning: divide by zero encountered in double_scalars\n",
      "C:\\Users\\Eric.Li\\AppData\\Local\\Continuum\\anaconda3\\lib\\site-packages\\ipykernel_launcher.py:73: RuntimeWarning: divide by zero encountered in double_scalars\n",
      "C:\\Users\\Eric.Li\\AppData\\Local\\Continuum\\anaconda3\\lib\\site-packages\\ipykernel_launcher.py:27: RuntimeWarning: divide by zero encountered in double_scalars\n",
      "C:\\Users\\Eric.Li\\AppData\\Local\\Continuum\\anaconda3\\lib\\site-packages\\ipykernel_launcher.py:28: RuntimeWarning: divide by zero encountered in double_scalars\n",
      "C:\\Users\\Eric.Li\\AppData\\Local\\Continuum\\anaconda3\\lib\\site-packages\\ipykernel_launcher.py:34: RuntimeWarning: divide by zero encountered in double_scalars\n",
      "C:\\Users\\Eric.Li\\AppData\\Local\\Continuum\\anaconda3\\lib\\site-packages\\ipykernel_launcher.py:35: RuntimeWarning: divide by zero encountered in double_scalars\n"
     ]
    }
   ],
   "source": [
    "predict_df_US=IBES_predict_df(adj_US_actual_df,sorted_US_broker_df,US_consensus_df,2)"
   ]
  },
  {
   "cell_type": "code",
   "execution_count": 1501,
   "metadata": {},
   "outputs": [
    {
     "name": "stderr",
     "output_type": "stream",
     "text": [
      "C:\\Users\\Eric.Li\\AppData\\Local\\Continuum\\anaconda3\\lib\\site-packages\\ipykernel_launcher.py:71: RuntimeWarning: invalid value encountered in longlong_scalars\n",
      "C:\\Users\\Eric.Li\\AppData\\Local\\Continuum\\anaconda3\\lib\\site-packages\\ipykernel_launcher.py:33: RuntimeWarning: invalid value encountered in longlong_scalars\n",
      "C:\\Users\\Eric.Li\\AppData\\Local\\Continuum\\anaconda3\\lib\\site-packages\\ipykernel_launcher.py:27: RuntimeWarning: divide by zero encountered in double_scalars\n",
      "C:\\Users\\Eric.Li\\AppData\\Local\\Continuum\\anaconda3\\lib\\site-packages\\ipykernel_launcher.py:28: RuntimeWarning: divide by zero encountered in double_scalars\n",
      "C:\\Users\\Eric.Li\\AppData\\Local\\Continuum\\anaconda3\\lib\\site-packages\\ipykernel_launcher.py:34: RuntimeWarning: divide by zero encountered in double_scalars\n",
      "C:\\Users\\Eric.Li\\AppData\\Local\\Continuum\\anaconda3\\lib\\site-packages\\ipykernel_launcher.py:35: RuntimeWarning: divide by zero encountered in double_scalars\n"
     ]
    }
   ],
   "source": [
    "predict_df_Europe=IBES_predict_df(Europe_actual_df,sorted_Europe_broker_df,Europe_consensus_df,2)"
   ]
  },
  {
   "cell_type": "code",
   "execution_count": 1504,
   "metadata": {},
   "outputs": [
    {
     "name": "stderr",
     "output_type": "stream",
     "text": [
      "C:\\Users\\Eric.Li\\AppData\\Local\\Continuum\\anaconda3\\lib\\site-packages\\ipykernel_launcher.py:33: RuntimeWarning: invalid value encountered in longlong_scalars\n",
      "C:\\Users\\Eric.Li\\AppData\\Local\\Continuum\\anaconda3\\lib\\site-packages\\ipykernel_launcher.py:71: RuntimeWarning: invalid value encountered in longlong_scalars\n"
     ]
    }
   ],
   "source": [
    "predict_df_Asia=IBES_predict_df(Asia_actual_df,sorted_Asia_broker_df,Asia_consensus_df,2)"
   ]
  },
  {
   "cell_type": "markdown",
   "metadata": {},
   "source": [
    "## Performance evaluation"
   ]
  },
  {
   "cell_type": "code",
   "execution_count": 978,
   "metadata": {},
   "outputs": [],
   "source": [
    "def evaluate_df(predict_df,year,revision_criteria,broker_count,consensus_count):\n",
    "    predict_positive_broker=predict_df[(predict_df[year+\"_mean_from_consensus\"]>revision_criteria[0])&\\\n",
    "                                (predict_df[year+\"_mean_from_consensus\"]<revision_criteria[1])&\\\n",
    "                                (predict_df[year+\"_median_from_consensus\"]>revision_criteria[0])&\\\n",
    "                                (predict_df[year+\"_median_from_consensus\"]<revision_criteria[1])&\\\n",
    "                                (predict_df[year+\"_broker_count\"]>broker_count)&\\\n",
    "                                (predict_df[year+\"_consensus_count\"]>consensus_count)&\\\n",
    "                                (predict_df[year+\"_actual\"]>revision_criteria[0])&\\\n",
    "                                (predict_df[year+\"_actual\"]<revision_criteria[1])]\n",
    "\n",
    "    predict_universe_broker=predict_df[(predict_df[year+\"_mean_from_consensus\"]>revision_criteria[0])&\\\n",
    "                                (predict_df[year+\"_mean_from_consensus\"]<revision_criteria[1])&\\\n",
    "                                (predict_df[year+\"_median_from_consensus\"]>revision_criteria[0])&\\\n",
    "                                (predict_df[year+\"_median_from_consensus\"]<revision_criteria[1])&\\\n",
    "                                (predict_df[year+\"_broker_count\"]>broker_count)&\\\n",
    "                                (predict_df[year+\"_consensus_count\"]>consensus_count)]    \n",
    "\n",
    "    predict_positive_change=predict_df[(predict_df[year+\"_mean_change\"]>revision_criteria[0])&\\\n",
    "                                (predict_df[year+\"_mean_change\"]<revision_criteria[1])&\\\n",
    "                                (predict_df[year+\"_median_change\"]>revision_criteria[0])&\\\n",
    "                                (predict_df[year+\"_median_change\"]<revision_criteria[1])&\\\n",
    "                                (predict_df[year+\"_broker_count\"]>broker_count)&\\\n",
    "                                (predict_df[year+\"_consensus_count\"]>consensus_count)&\\\n",
    "                                (predict_df[year+\"_actual\"]>revision_criteria[0])&\\\n",
    "                                (predict_df[year+\"_actual\"]<revision_criteria[1])]\n",
    "\n",
    "    predict_universe_change=predict_df[(predict_df[year+\"_mean_change\"]>revision_criteria[0])&\\\n",
    "                                (predict_df[year+\"_mean_change\"]<revision_criteria[1])&\\\n",
    "                                (predict_df[year+\"_median_change\"]>revision_criteria[0])&\\\n",
    "                                (predict_df[year+\"_median_change\"]<revision_criteria[1])&\\\n",
    "                                (predict_df[year+\"_broker_count\"]>broker_count)&\\\n",
    "                                (predict_df[year+\"_consensus_count\"]>consensus_count)] \n",
    "\n",
    "    predict_positive_consensus=predict_df[(predict_df[year+\"_consensus_predict\"]>revision_criteria[0])&\\\n",
    "                                (predict_df[year+\"_consensus_predict\"]<revision_criteria[1])&\\\n",
    "                                (predict_df[year+\"_broker_count\"]>broker_count)&\\\n",
    "                                (predict_df[year+\"_consensus_count\"]>consensus_count)&\\\n",
    "                                (predict_df[year+\"_actual\"]>revision_criteria[0])&\\\n",
    "                                (predict_df[year+\"_actual\"]<revision_criteria[1])]\n",
    "\n",
    "    predict_universe_consensus=predict_df[(predict_df[year+\"_consensus_predict\"]>revision_criteria[0])&\\\n",
    "                                (predict_df[year+\"_consensus_predict\"]<revision_criteria[1])&\\\n",
    "                                (predict_df[year+\"_broker_count\"]>broker_count)&\\\n",
    "                                (predict_df[year+\"_consensus_count\"]>consensus_count)]  \n",
    "\n",
    "    target_universe=predict_df[(predict_df[year+\"_actual\"]>revision_criteria[0])&\\\n",
    "                                (predict_df[year+\"_actual\"]<revision_criteria[1])&\\\n",
    "                                (predict_df[year+\"_consensus_count\"]>consensus_count)]  \n",
    "    \n",
    "    predict_negative_broker=predict_universe_broker.loc[predict_universe_broker.index.difference(predict_positive_broker.index)]\n",
    "    predict_miss_broker=target_universe.loc[target_universe.index.difference(predict_positive_broker.index)]\n",
    "\n",
    "    predict_negative_change=predict_universe_change.loc[predict_universe_change.index.difference(predict_positive_change.index)]\n",
    "    predict_miss_change=target_universe.loc[target_universe.index.difference(predict_positive_change.index)]\n",
    "    \n",
    "    predict_negative_consensus=predict_universe_consensus.loc[predict_universe_consensus.\\\n",
    "                                                              index.difference(predict_positive_consensus.index)]\n",
    "    predict_miss_consensus=target_universe.loc[target_universe.index.difference(predict_positive_consensus.index)]\n",
    "    \n",
    "    return predict_positive_broker,predict_universe_broker,predict_positive_change,predict_universe_change,\\\n",
    "            predict_positive_consensus,predict_universe_consensus,\\\n",
    "            target_universe,predict_negative_broker,predict_miss_broker,predict_negative_change,\\\n",
    "            predict_miss_change,predict_negative_consensus,predict_miss_consensus\n",
    "    \n",
    "    "
   ]
  },
  {
   "cell_type": "code",
   "execution_count": 1550,
   "metadata": {},
   "outputs": [],
   "source": [
    "a,b,c,d,e,f,g,h,i,j,k,l,m=evaluate_df(predict_df_Asia,'FY2',[-10,-0.03],1,2)"
   ]
  },
  {
   "cell_type": "code",
   "execution_count": 1551,
   "metadata": {},
   "outputs": [
    {
     "data": {
      "text/plain": [
       "(0.538860103626943, 0.7185473411154345, 0.9335038363171355)"
      ]
     },
     "execution_count": 1551,
     "metadata": {},
     "output_type": "execute_result"
    }
   ],
   "source": [
    "(a.shape[0]/b.shape[0],c.shape[0]/d.shape[0],e.shape[0]/f.shape[0])"
   ]
  },
  {
   "cell_type": "code",
   "execution_count": 1552,
   "metadata": {},
   "outputs": [
    {
     "data": {
      "text/plain": [
       "(0.5143422354104846, 0.5479723046488625, 0.361028684470821)"
      ]
     },
     "execution_count": 1552,
     "metadata": {},
     "output_type": "execute_result"
    }
   ],
   "source": [
    "(a.shape[0]/g.shape[0],c.shape[0]/g.shape[0],e.shape[0]/g.shape[0])"
   ]
  },
  {
   "cell_type": "code",
   "execution_count": 1525,
   "metadata": {},
   "outputs": [
    {
     "data": {
      "text/plain": [
       "348"
      ]
     },
     "execution_count": 1525,
     "metadata": {},
     "output_type": "execute_result"
    }
   ],
   "source": [
    "a.shape[0]"
   ]
  },
  {
   "cell_type": "code",
   "execution_count": 1019,
   "metadata": {},
   "outputs": [
    {
     "data": {
      "text/plain": [
       "2511"
      ]
     },
     "execution_count": 1019,
     "metadata": {},
     "output_type": "execute_result"
    }
   ],
   "source": [
    "b.shape[0]"
   ]
  },
  {
   "cell_type": "code",
   "execution_count": 1020,
   "metadata": {},
   "outputs": [
    {
     "data": {
      "text/plain": [
       "1163"
      ]
     },
     "execution_count": 1020,
     "metadata": {},
     "output_type": "execute_result"
    }
   ],
   "source": [
    "c.shape[0]"
   ]
  },
  {
   "cell_type": "code",
   "execution_count": 1021,
   "metadata": {},
   "outputs": [
    {
     "data": {
      "text/plain": [
       "2100"
      ]
     },
     "execution_count": 1021,
     "metadata": {},
     "output_type": "execute_result"
    }
   ],
   "source": [
    "d.shape[0]"
   ]
  },
  {
   "cell_type": "code",
   "execution_count": 1022,
   "metadata": {},
   "outputs": [
    {
     "data": {
      "text/plain": [
       "1031"
      ]
     },
     "execution_count": 1022,
     "metadata": {},
     "output_type": "execute_result"
    }
   ],
   "source": [
    "e.shape[0]"
   ]
  },
  {
   "cell_type": "code",
   "execution_count": 1023,
   "metadata": {},
   "outputs": [
    {
     "data": {
      "text/plain": [
       "1706"
      ]
     },
     "execution_count": 1023,
     "metadata": {},
     "output_type": "execute_result"
    }
   ],
   "source": [
    "f.shape[0]"
   ]
  },
  {
   "cell_type": "code",
   "execution_count": 1024,
   "metadata": {},
   "outputs": [
    {
     "data": {
      "text/plain": [
       "2717"
      ]
     },
     "execution_count": 1024,
     "metadata": {},
     "output_type": "execute_result"
    }
   ],
   "source": [
    "g.shape[0]"
   ]
  },
  {
   "cell_type": "markdown",
   "metadata": {},
   "source": [
    "## Regression approach"
   ]
  },
  {
   "cell_type": "code",
   "execution_count": 1178,
   "metadata": {},
   "outputs": [],
   "source": [
    "forecast_error=np.abs(predict_df[[\"FY1_mean_from_consensus\",\"FY1_median_from_consensus\",\"FY1_mean_change\",\"FY1_median_change\",\\\n",
    "                   \"FY1_consensus_predict\"]].sub(predict_df[\"FY1_actual\"],axis=0))"
   ]
  },
  {
   "cell_type": "code",
   "execution_count": 1173,
   "metadata": {},
   "outputs": [],
   "source": [
    "reg_data=pd.concat([forecast_error,predict_df[[\"FY1_consensus\",\"broker1_revision_ratio\",\"FY1_broker_count\",\"FY1_consensus_count\",\\\n",
    "                                      \"FY1_consensus_std\",\"FY1_actual\"]]],axis=1)"
   ]
  },
  {
   "cell_type": "code",
   "execution_count": 1179,
   "metadata": {},
   "outputs": [],
   "source": [
    "forecast_error=forecast_error[(forecast_error>=0)&(forecast_error!=np.inf)&(forecast_error!=-np.inf)]"
   ]
  },
  {
   "cell_type": "code",
   "execution_count": 1180,
   "metadata": {},
   "outputs": [],
   "source": [
    "forecast_error=forecast_error.dropna(how=\"any\",axis=0)"
   ]
  },
  {
   "cell_type": "code",
   "execution_count": 1415,
   "metadata": {},
   "outputs": [],
   "source": [
    "adj_forecast_error=forecast_error[forecast_error<=forecast_error.quantile(0.9)]"
   ]
  },
  {
   "cell_type": "code",
   "execution_count": 1416,
   "metadata": {},
   "outputs": [],
   "source": [
    "adj_forecast_error=adj_forecast_error.dropna(how=\"any\",axis=0)"
   ]
  },
  {
   "cell_type": "code",
   "execution_count": null,
   "metadata": {},
   "outputs": [],
   "source": []
  },
  {
   "cell_type": "code",
   "execution_count": 1417,
   "metadata": {},
   "outputs": [],
   "source": [
    "reg_data=pd.concat([adj_forecast_error.apply(lambda x:predict_df.loc[x.name,[\"FY1_consensus\",\"broker1_revision_ratio\",\\\n",
    "                                                                        \"FY1_broker_count\",\"FY1_actual\",\\\n",
    "                                                         \"FY1_consensus_count\",\"FY1_consensus_std\"]],axis=1),adj_forecast_error],\\\n",
    "              axis=1)"
   ]
  },
  {
   "cell_type": "code",
   "execution_count": 1428,
   "metadata": {},
   "outputs": [],
   "source": [
    "X=reg_data[[\"FY1_consensus\",\\\n",
    "    \"broker1_revision_ratio\",\"FY1_consensus_predict\",\"FY1_broker_count\",\"FY1_consensus_count\",\"FY1_consensus_std\"]]"
   ]
  },
  {
   "cell_type": "code",
   "execution_count": 1429,
   "metadata": {},
   "outputs": [],
   "source": [
    "y=reg_data[\"FY1_actual\"]"
   ]
  },
  {
   "cell_type": "code",
   "execution_count": 1430,
   "metadata": {},
   "outputs": [],
   "source": [
    "X_train, X_test, y_train, y_test = train_test_split(X, y, test_size=0.4, random_state=101)"
   ]
  },
  {
   "cell_type": "code",
   "execution_count": 1431,
   "metadata": {},
   "outputs": [],
   "source": [
    "lm = LinearRegression()\n",
    "reg=lm.fit(X_train,y_train)"
   ]
  },
  {
   "cell_type": "code",
   "execution_count": 1432,
   "metadata": {},
   "outputs": [
    {
     "data": {
      "text/plain": [
       "0.36903429611484306"
      ]
     },
     "execution_count": 1432,
     "metadata": {},
     "output_type": "execute_result"
    }
   ],
   "source": [
    "reg.score(X_test,y_test)"
   ]
  },
  {
   "cell_type": "code",
   "execution_count": 1433,
   "metadata": {},
   "outputs": [
    {
     "data": {
      "text/plain": [
       "array([0.06924215])"
      ]
     },
     "execution_count": 1433,
     "metadata": {},
     "output_type": "execute_result"
    }
   ],
   "source": [
    "reg.coef_"
   ]
  },
  {
   "cell_type": "code",
   "execution_count": 1434,
   "metadata": {},
   "outputs": [],
   "source": [
    "predictions=lm.predict(X_test)"
   ]
  },
  {
   "cell_type": "code",
   "execution_count": 1435,
   "metadata": {},
   "outputs": [
    {
     "data": {
      "text/plain": [
       "<matplotlib.collections.PathCollection at 0x7c8ef668>"
      ]
     },
     "execution_count": 1435,
     "metadata": {},
     "output_type": "execute_result"
    },
    {
     "data": {
      "image/png": "[encoded data removed]",
      "text/plain": [
       "<matplotlib.figure.Figure at 0xdd4245f8>"
      ]
     },
     "metadata": {},
     "output_type": "display_data"
    }
   ],
   "source": [
    "plt.scatter(y_test,predictions)"
   ]
  },
  {
   "cell_type": "code",
   "execution_count": 1441,
   "metadata": {},
   "outputs": [
    {
     "data": {
      "text/plain": [
       "count    5477.000000\n",
       "mean       -0.002470\n",
       "std         0.054889\n",
       "min        -0.076890\n",
       "25%        -0.061503\n",
       "50%         0.002243\n",
       "75%         0.061594\n",
       "max         0.061594\n",
       "dtype: float64"
      ]
     },
     "execution_count": 1441,
     "metadata": {},
     "output_type": "execute_result"
    }
   ],
   "source": [
    "pd.Series(predictions).describe()"
   ]
  },
  {
   "cell_type": "code",
   "execution_count": 1215,
   "metadata": {},
   "outputs": [
    {
     "data": {
      "text/plain": [
       "array([ 0.03689504,  0.02263223, -0.06013965, ..., -0.17317644,\n",
       "       -0.01439183,  0.06659267])"
      ]
     },
     "execution_count": 1215,
     "metadata": {},
     "output_type": "execute_result"
    }
   ],
   "source": [
    "predictions"
   ]
  },
  {
   "cell_type": "code",
   "execution_count": 1225,
   "metadata": {},
   "outputs": [],
   "source": [
    "ac=pd.Series(np.abs(y_test.values-predictions))"
   ]
  },
  {
   "cell_type": "code",
   "execution_count": 1227,
   "metadata": {},
   "outputs": [
    {
     "data": {
      "text/plain": [
       "0.04264272748802999"
      ]
     },
     "execution_count": 1227,
     "metadata": {},
     "output_type": "execute_result"
    }
   ],
   "source": [
    "ac.median()"
   ]
  },
  {
   "cell_type": "markdown",
   "metadata": {},
   "source": [
    "## Live code"
   ]
  },
  {
   "cell_type": "code",
   "execution_count": null,
   "metadata": {},
   "outputs": [],
   "source": []
  }
 ],
 "metadata": {
  "kernelspec": {
   "display_name": "Python 3",
   "language": "python",
   "name": "python3"
  },
  "language_info": {
   "codemirror_mode": {
    "name": "ipython",
    "version": 3
   },
   "file_extension": ".py",
   "mimetype": "text/x-python",
   "name": "python",
   "nbconvert_exporter": "python",
   "pygments_lexer": "ipython3",
   "version": "3.7.3"
  }
 },
 "nbformat": 4,
 "nbformat_minor": 2
}
