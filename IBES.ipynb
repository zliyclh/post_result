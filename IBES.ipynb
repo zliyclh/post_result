{
 "cells": [
  {
   "cell_type": "code",
   "execution_count": 1,
   "metadata": {},
   "outputs": [],
   "source": [
    "import pyodbc \n",
    "import pandas as pd\n",
    "import datetime"
   ]
  },
  {
   "cell_type": "code",
   "execution_count": 2,
   "metadata": {},
   "outputs": [],
   "source": [
    "'''Connect to post result SQL server'''\n",
    "cnxn = pyodbc.connect('DRIVER={SQL Server};SERVER=dsa-ln-TQA1V;DATABASE=qai;Trusted_Connection=yes')   \n",
    "cursor = cnxn.cursor() "
   ]
  },
  {
   "cell_type": "code",
   "execution_count": 14,
   "metadata": {},
   "outputs": [
    {
     "data": {
      "text/plain": [
       "datetime.datetime(2018, 12, 4, 11, 8, 11, 160717)"
      ]
     },
     "execution_count": 14,
     "metadata": {},
     "output_type": "execute_result"
    }
   ],
   "source": [
    "datetime.datetime.now()"
   ]
  },
  {
   "cell_type": "code",
   "execution_count": 39,
   "metadata": {},
   "outputs": [],
   "source": [
    "ibestl_sql=\"select * from IBDEstL1 where PerType=1 and Period<3\"\n",
    "ibestl=pd.read_sql(ibestl_sql,cnxn)"
   ]
  },
  {
   "cell_type": "code",
   "execution_count": 40,
   "metadata": {},
   "outputs": [],
   "source": [
    "ibestl=ibestl[ibestl.EstDate>pd.Timestamp(2017,1,1)]"
   ]
  },
  {
   "cell_type": "code",
   "execution_count": 47,
   "metadata": {},
   "outputs": [],
   "source": [
    "ibestl.to_csv('IBDESTL1.csv')"
   ]
  },
  {
   "cell_type": "code",
   "execution_count": 34,
   "metadata": {},
   "outputs": [],
   "source": [
    "ibdactl_sql=\"select * from IBDActL1\"\n",
    "ibdactl=pd.read_sql(ibdactl_sql,cnxn)"
   ]
  },
  {
   "cell_type": "code",
   "execution_count": 36,
   "metadata": {},
   "outputs": [],
   "source": [
    "ibdactl=ibdactl[ibdactl.RptDate>pd.Timestamp(2017,1,1)]"
   ]
  },
  {
   "cell_type": "code",
   "execution_count": 48,
   "metadata": {},
   "outputs": [],
   "source": [
    "ibdactl.to_csv('IBDActL1.csv')"
   ]
  },
  {
   "cell_type": "code",
   "execution_count": 49,
   "metadata": {},
   "outputs": [],
   "source": [
    "ibesinfo3_sql=\"select * from IBESInfo3\"\n",
    "ibesinfo3=pd.read_sql(ibesinfo3_sql,cnxn)"
   ]
  },
  {
   "cell_type": "code",
   "execution_count": 51,
   "metadata": {},
   "outputs": [],
   "source": [
    "ibesinfo3.to_csv('ibesinfo3.csv')"
   ]
  },
  {
   "cell_type": "code",
   "execution_count": 3,
   "metadata": {},
   "outputs": [],
   "source": [
    "ibesusdlyest_sql=\"select * from IBESUSDLYEST where PerType=1 and Period<3 and Measure=8 and year(EstDate)>2016\"\n",
    "ibesusdlyest=pd.read_sql(ibesusdlyest_sql,cnxn)"
   ]
  },
  {
   "cell_type": "code",
   "execution_count": 4,
   "metadata": {},
   "outputs": [],
   "source": [
    "ibesusdlyest.to_csv('ibesusdlyest.csv')"
   ]
  },
  {
   "cell_type": "code",
   "execution_count": null,
   "metadata": {},
   "outputs": [],
   "source": []
  }
 ],
 "metadata": {
  "kernelspec": {
   "display_name": "Python 3",
   "language": "python",
   "name": "python3"
  },
  "language_info": {
   "codemirror_mode": {
    "name": "ipython",
    "version": 3
   },
   "file_extension": ".py",
   "mimetype": "text/x-python",
   "name": "python",
   "nbconvert_exporter": "python",
   "pygments_lexer": "ipython3",
   "version": "3.6.4"
  }
 },
 "nbformat": 4,
 "nbformat_minor": 2
}
